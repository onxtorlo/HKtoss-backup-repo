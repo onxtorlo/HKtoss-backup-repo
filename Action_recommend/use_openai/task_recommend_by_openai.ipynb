{
 "cells": [
  {
   "cell_type": "code",
   "execution_count": 54,
   "id": "901bfd6c",
   "metadata": {},
   "outputs": [
    {
     "name": "stdout",
     "output_type": "stream",
     "text": [
      "Requirement already satisfied: openai in c:\\users\\user\\appdata\\local\\packages\\pythonsoftwarefoundation.python.3.10_qbz5n2kfra8p0\\localcache\\local-packages\\python310\\site-packages (1.91.0)Note: you may need to restart the kernel to use updated packages.\n",
      "\n",
      "Requirement already satisfied: anyio<5,>=3.5.0 in c:\\users\\user\\appdata\\local\\packages\\pythonsoftwarefoundation.python.3.10_qbz5n2kfra8p0\\localcache\\local-packages\\python310\\site-packages (from openai) (4.9.0)\n",
      "Requirement already satisfied: distro<2,>=1.7.0 in c:\\users\\user\\appdata\\local\\packages\\pythonsoftwarefoundation.python.3.10_qbz5n2kfra8p0\\localcache\\local-packages\\python310\\site-packages (from openai) (1.9.0)\n",
      "Requirement already satisfied: httpx<1,>=0.23.0 in c:\\users\\user\\appdata\\local\\packages\\pythonsoftwarefoundation.python.3.10_qbz5n2kfra8p0\\localcache\\local-packages\\python310\\site-packages (from openai) (0.28.1)\n",
      "Requirement already satisfied: jiter<1,>=0.4.0 in c:\\users\\user\\appdata\\local\\packages\\pythonsoftwarefoundation.python.3.10_qbz5n2kfra8p0\\localcache\\local-packages\\python310\\site-packages (from openai) (0.10.0)\n",
      "Requirement already satisfied: pydantic<3,>=1.9.0 in c:\\users\\user\\appdata\\local\\packages\\pythonsoftwarefoundation.python.3.10_qbz5n2kfra8p0\\localcache\\local-packages\\python310\\site-packages (from openai) (2.11.5)\n",
      "Requirement already satisfied: sniffio in c:\\users\\user\\appdata\\local\\packages\\pythonsoftwarefoundation.python.3.10_qbz5n2kfra8p0\\localcache\\local-packages\\python310\\site-packages (from openai) (1.3.1)\n",
      "Requirement already satisfied: tqdm>4 in c:\\users\\user\\appdata\\local\\packages\\pythonsoftwarefoundation.python.3.10_qbz5n2kfra8p0\\localcache\\local-packages\\python310\\site-packages (from openai) (4.67.1)\n",
      "Requirement already satisfied: typing-extensions<5,>=4.11 in c:\\users\\user\\appdata\\local\\packages\\pythonsoftwarefoundation.python.3.10_qbz5n2kfra8p0\\localcache\\local-packages\\python310\\site-packages (from openai) (4.14.0)\n",
      "Requirement already satisfied: exceptiongroup>=1.0.2 in c:\\users\\user\\appdata\\local\\packages\\pythonsoftwarefoundation.python.3.10_qbz5n2kfra8p0\\localcache\\local-packages\\python310\\site-packages (from anyio<5,>=3.5.0->openai) (1.3.0)\n",
      "Requirement already satisfied: idna>=2.8 in c:\\users\\user\\appdata\\local\\packages\\pythonsoftwarefoundation.python.3.10_qbz5n2kfra8p0\\localcache\\local-packages\\python310\\site-packages (from anyio<5,>=3.5.0->openai) (3.10)\n",
      "Requirement already satisfied: certifi in c:\\users\\user\\appdata\\local\\packages\\pythonsoftwarefoundation.python.3.10_qbz5n2kfra8p0\\localcache\\local-packages\\python310\\site-packages (from httpx<1,>=0.23.0->openai) (2025.4.26)\n",
      "Requirement already satisfied: httpcore==1.* in c:\\users\\user\\appdata\\local\\packages\\pythonsoftwarefoundation.python.3.10_qbz5n2kfra8p0\\localcache\\local-packages\\python310\\site-packages (from httpx<1,>=0.23.0->openai) (1.0.9)\n",
      "Requirement already satisfied: h11>=0.16 in c:\\users\\user\\appdata\\local\\packages\\pythonsoftwarefoundation.python.3.10_qbz5n2kfra8p0\\localcache\\local-packages\\python310\\site-packages (from httpcore==1.*->httpx<1,>=0.23.0->openai) (0.16.0)\n",
      "Requirement already satisfied: annotated-types>=0.6.0 in c:\\users\\user\\appdata\\local\\packages\\pythonsoftwarefoundation.python.3.10_qbz5n2kfra8p0\\localcache\\local-packages\\python310\\site-packages (from pydantic<3,>=1.9.0->openai) (0.7.0)\n",
      "Requirement already satisfied: pydantic-core==2.33.2 in c:\\users\\user\\appdata\\local\\packages\\pythonsoftwarefoundation.python.3.10_qbz5n2kfra8p0\\localcache\\local-packages\\python310\\site-packages (from pydantic<3,>=1.9.0->openai) (2.33.2)\n",
      "Requirement already satisfied: typing-inspection>=0.4.0 in c:\\users\\user\\appdata\\local\\packages\\pythonsoftwarefoundation.python.3.10_qbz5n2kfra8p0\\localcache\\local-packages\\python310\\site-packages (from pydantic<3,>=1.9.0->openai) (0.4.1)\n",
      "Requirement already satisfied: colorama in c:\\users\\user\\appdata\\local\\packages\\pythonsoftwarefoundation.python.3.10_qbz5n2kfra8p0\\localcache\\local-packages\\python310\\site-packages (from tqdm>4->openai) (0.4.6)\n"
     ]
    }
   ],
   "source": [
    "# %pip show openai\n",
    "%pip install --upgrade openai"
   ]
  },
  {
   "cell_type": "code",
   "execution_count": 55,
   "id": "f602290d",
   "metadata": {},
   "outputs": [],
   "source": [
    "# %pip freeze > requirements.txt"
   ]
  },
  {
   "cell_type": "code",
   "execution_count": 63,
   "id": "0c032be8",
   "metadata": {},
   "outputs": [],
   "source": [
    "import json\n",
    "import dotenv\n",
    "import os\n",
    "import openai\n",
    "from openai import OpenAI\n",
    "from datetime import datetime\n",
    "import random"
   ]
  },
  {
   "cell_type": "code",
   "execution_count": 57,
   "id": "cc4f5525",
   "metadata": {},
   "outputs": [],
   "source": [
    "JSON_FILE_PATH = \"data\\\\id_added_dummy_data.json\"\n",
    "RCMD_PROMPT_PATH = \"..\\\\prompts\\\\openai_recommend.md\""
   ]
  },
  {
   "cell_type": "code",
   "execution_count": 58,
   "id": "7ba0f731",
   "metadata": {},
   "outputs": [],
   "source": [
    "dotenv.load_dotenv()\n",
    "OPENAI_API_KEY = os.getenv(\"OPENAI_API_KEY\")"
   ]
  },
  {
   "cell_type": "code",
   "execution_count": 91,
   "id": "b6928596",
   "metadata": {},
   "outputs": [
    {
     "name": "stdout",
     "output_type": "stream",
     "text": [
      "<class 'list'>\n"
     ]
    }
   ],
   "source": [
    "# json type check\n",
    "with open(JSON_FILE_PATH, 'r', encoding='utf-8') as f:\n",
    "    json_data = json.load(f)\n",
    "    print(type(json_data))"
   ]
  },
  {
   "cell_type": "code",
   "execution_count": 105,
   "id": "4e267979",
   "metadata": {},
   "outputs": [
    {
     "name": "stdout",
     "output_type": "stream",
     "text": [
      "[10, 9, 12, 15, 2, 18, 16, 3, 2, 18, 4, 12, 3, 5, 8, 1, 1, 7, 9, 11, 17, 6, 2, 10, 18, 5, 2, 17, 19, 16, 1, 19, 15, 17, 6, 17, 18, 12, 19, 5, 15, 19, 10, 8, 11, 14, 12, 4, 11, 2, 3, 16, 4, 9, 10, 13, 13, 18, 7, 4, 2, 18, 14, 16, 2, 10, 20, 17, 16, 18, 19, 20, 6, 4, 10, 2, 11, 18, 1, 13, 16, 14, 5, 2, 10, 10, 17, 14, 4, 4, 11, 13, 11, 6, 2, 18, 2, 8, 3, 1]\n"
     ]
    },
    {
     "data": {
      "text/plain": [
       "int"
      ]
     },
     "execution_count": 105,
     "metadata": {},
     "output_type": "execute_result"
    }
   ],
   "source": [
    "def extract_workspaceId(obj, key):\n",
    "    values = []\n",
    "\n",
    "    if isinstance(obj, dict):\n",
    "        for k, v in obj.items():\n",
    "            if k == key:\n",
    "                values.append(v)\n",
    "            values.extend(extract_workspaceId(v, key))\n",
    "    elif isinstance(obj, list):\n",
    "        for item in obj:\n",
    "            values.extend(extract_workspaceId(item, key))\n",
    "\n",
    "    return values\n",
    "\n",
    "target_key = \"workspaceId\"\n",
    "ws_id_list = extract_workspaceId(json_data, target_key)\n",
    "\n",
    "print(ws_id_list)\n",
    "type(ws_id_list[0])"
   ]
  },
  {
   "cell_type": "code",
   "execution_count": null,
   "id": "76c74140",
   "metadata": {},
   "outputs": [
    {
     "name": "stdout",
     "output_type": "stream",
     "text": [
      "WORKSPACE_ID = 6\n"
     ]
    }
   ],
   "source": [
    "WORKSPACE_ID = random.choice(ws_id_list)\n",
    "print(\"WORKSPACE_ID =\", WORKSPACE_ID)"
   ]
  },
  {
   "cell_type": "code",
   "execution_count": 107,
   "id": "0bc7c16c",
   "metadata": {},
   "outputs": [
    {
     "data": {
      "text/plain": [
       "{'workspaceId': 6,\n",
       " 'recommendedCategories': [{'categoryId': 4,\n",
       "   'name': '게시판 기능',\n",
       "   'features': [{'featureId': 81,\n",
       "     'name': '관리 기능',\n",
       "     'actions': [{'name': '게시글 승인',\n",
       "       'importance': 3,\n",
       "       'startDate': '2025-06-14T14:25:34.094309',\n",
       "       'endDate': '2025-06-27T14:25:34.094309'},\n",
       "      {'name': '스팸 필터링',\n",
       "       'importance': 3,\n",
       "       'startDate': '2025-06-15T14:25:34.094312',\n",
       "       'endDate': '2025-06-28T14:25:34.094312'},\n",
       "      {'name': '통계 관리',\n",
       "       'importance': 5,\n",
       "       'startDate': '2025-06-13T14:25:34.094316',\n",
       "       'endDate': '2025-06-18T14:25:34.094316'}]},\n",
       "    {'featureId': 11,\n",
       "     'name': '게시글 관리',\n",
       "     'actions': [{'name': '게시글 작성',\n",
       "       'importance': 4,\n",
       "       'startDate': '2025-06-20T14:25:34.094320',\n",
       "       'endDate': '2025-06-22T14:25:34.094320'},\n",
       "      {'name': '파일 첨부',\n",
       "       'importance': 3,\n",
       "       'startDate': '2025-06-16T14:25:34.094323',\n",
       "       'endDate': '2025-06-29T14:25:34.094323'},\n",
       "      {'name': '게시글 신고',\n",
       "       'importance': 4,\n",
       "       'startDate': '2025-06-19T14:25:34.094326',\n",
       "       'endDate': '2025-06-28T14:25:34.094326'}]}]},\n",
       "  {'categoryId': 3,\n",
       "   'name': '주문 관리 기능',\n",
       "   'features': [{'featureId': 63,\n",
       "     'name': '결제 시스템',\n",
       "     'actions': [{'name': '환불 처리',\n",
       "       'importance': 2,\n",
       "       'startDate': '2025-06-19T14:25:34.094333',\n",
       "       'endDate': '2025-06-24T14:25:34.094333'},\n",
       "      {'name': '결제 보안',\n",
       "       'importance': 5,\n",
       "       'startDate': '2025-06-20T14:25:34.094336',\n",
       "       'endDate': '2025-06-27T14:25:34.094336'},\n",
       "      {'name': '결제 게이트웨이 연동',\n",
       "       'importance': 2,\n",
       "       'startDate': '2025-06-15T14:25:34.094339',\n",
       "       'endDate': '2025-06-23T14:25:34.094339'}]},\n",
       "    {'featureId': 55,\n",
       "     'name': '주문 처리',\n",
       "     'actions': [{'name': '장바구니 기능',\n",
       "       'importance': 1,\n",
       "       'startDate': '2025-06-13T14:25:34.094343',\n",
       "       'endDate': '2025-06-26T14:25:34.094343'},\n",
       "      {'name': '주문 취소 처리',\n",
       "       'importance': 1,\n",
       "       'startDate': '2025-06-13T14:25:34.094346',\n",
       "       'endDate': '2025-06-18T14:25:34.094346'},\n",
       "      {'name': '배송 추적',\n",
       "       'importance': 4,\n",
       "       'startDate': '2025-06-14T14:25:34.094349',\n",
       "       'endDate': '2025-06-23T14:25:34.094349'}]},\n",
       "    {'featureId': 4,\n",
       "     'name': '배송 관리',\n",
       "     'actions': [{'name': '배송 상태 추적',\n",
       "       'importance': 2,\n",
       "       'startDate': '2025-06-18T14:25:34.094354',\n",
       "       'endDate': '2025-06-21T14:25:34.094354'},\n",
       "      {'name': '배송 지연 알림',\n",
       "       'importance': 3,\n",
       "       'startDate': '2025-06-16T14:25:34.094357',\n",
       "       'endDate': '2025-06-29T14:25:34.094357'}]}]}]}"
      ]
     },
     "execution_count": 107,
     "metadata": {},
     "output_type": "execute_result"
    }
   ],
   "source": [
    "# 하나의 workspace 추출\n",
    "def extract_ws(ws_id, input_data):\n",
    "    for workspace in input_data:\n",
    "        if workspace.get(\"workspaceId\") == ws_id:\n",
    "            return workspace\n",
    "    return None\n",
    "\n",
    "extracted_ws = extract_ws(WORKSPACE_ID, json_data)\n",
    "extracted_ws"
   ]
  },
  {
   "cell_type": "code",
   "execution_count": 108,
   "id": "f9729135",
   "metadata": {},
   "outputs": [
    {
     "name": "stdout",
     "output_type": "stream",
     "text": [
      "[81, 11, 63, 55, 4]\n"
     ]
    },
    {
     "data": {
      "text/plain": [
       "int"
      ]
     },
     "execution_count": 108,
     "metadata": {},
     "output_type": "execute_result"
    }
   ],
   "source": [
    "# 워크스페이스에서 featureId 추출\n",
    "def extract_featureId(obj, key):\n",
    "    values = []\n",
    "\n",
    "    if isinstance(obj, dict):\n",
    "        for k, v in obj.items():\n",
    "            if k == key:\n",
    "                values.append(v)\n",
    "            values.extend(extract_featureId(v, key))\n",
    "    elif isinstance(obj, list):\n",
    "        for item in obj:\n",
    "            values.extend(extract_featureId(item, key))\n",
    "\n",
    "    return values\n",
    "\n",
    "target_key = \"featureId\"\n",
    "f_id_list = extract_featureId(extracted_ws, target_key)\n",
    "\n",
    "print(f_id_list)\n",
    "type(f_id_list[0])"
   ]
  },
  {
   "cell_type": "code",
   "execution_count": 113,
   "id": "3c075bcd",
   "metadata": {},
   "outputs": [
    {
     "name": "stdout",
     "output_type": "stream",
     "text": [
      "FEATURE_ID = 55\n"
     ]
    }
   ],
   "source": [
    "FEATURE_ID = random.choice(f_id_list)\n",
    "print(\"FEATURE_ID =\", FEATURE_ID)"
   ]
  },
  {
   "cell_type": "code",
   "execution_count": 114,
   "id": "5790fb3f",
   "metadata": {},
   "outputs": [
    {
     "name": "stdout",
     "output_type": "stream",
     "text": [
      "featureId=55에 해당하는 workspace가 없습니다.\n",
      "featureId=55에 해당하는 workspace가 없습니다.\n",
      "featureId=55에 해당하는 workspace가 없습니다.\n"
     ]
    },
    {
     "data": {
      "text/plain": [
       "{'workspaceId': 6,\n",
       " 'categoryId': 3,\n",
       " 'featureId': 55,\n",
       " 'actions': [{'name': '장바구니 기능',\n",
       "   'importance': 1,\n",
       "   'startDate': '2025-06-13T14:25:34.094343',\n",
       "   'endDate': '2025-06-26T14:25:34.094343'},\n",
       "  {'name': '주문 취소 처리',\n",
       "   'importance': 1,\n",
       "   'startDate': '2025-06-13T14:25:34.094346',\n",
       "   'endDate': '2025-06-18T14:25:34.094346'},\n",
       "  {'name': '배송 추적',\n",
       "   'importance': 4,\n",
       "   'startDate': '2025-06-14T14:25:34.094349',\n",
       "   'endDate': '2025-06-23T14:25:34.094349'}]}"
      ]
     },
     "execution_count": 114,
     "metadata": {},
     "output_type": "execute_result"
    }
   ],
   "source": [
    "def extract_view(feature_id, input_ws):\n",
    "    workspaceId = input_ws.get(\"workspaceId\")\n",
    "    categories = input_ws.get(\"recommendedCategories\", [])\n",
    "    \n",
    "    for category in categories:\n",
    "        for feature in category.get(\"features\", []):\n",
    "            if feature.get(\"featureId\") == feature_id:\n",
    "                return {\n",
    "                    \"workspaceId\": workspaceId,\n",
    "                    \"categoryId\": category.get(\"categoryId\"),\n",
    "                    \"featureId\": feature_id,\n",
    "                    \"actions\": feature.get(\"actions\", [])\n",
    "                }\n",
    "            \n",
    "            else: print(f\"featureId={FEATURE_ID}에 해당하는 workspace가 없습니다.\")\n",
    "    \n",
    "    return None\n",
    "\n",
    "temp = extract_view(FEATURE_ID, extracted_ws)\n",
    "temp"
   ]
  },
  {
   "cell_type": "code",
   "execution_count": 61,
   "id": "d26fcd33",
   "metadata": {},
   "outputs": [
    {
     "name": "stdout",
     "output_type": "stream",
     "text": [
      "task recommend prompt:\n",
      " # 작업 흐름 기반 액션 추천 프롬프트\n",
      "\n",
      "## 당신의 역할\n",
      "\n",
      "당신의 역할은 다음과 같습니다:\n",
      "- 현재까지 수행된 또는 예정된 작업 흐름을 분석하고,\n",
      "- 그 흐름에서 자연스럽게 이어질 다음 액션(action)을 **정확히 3가지** 제안하는 것입니다.\n",
      "- 추천하는 액션은 추상적이거나 모호하지 않아야 하며,\n",
      "- 구체적으로 어떤 기능에 필요한 어떤 동작을 구현해야 하는지 분명하게 명시해야 합니다.\n",
      "\n",
      "## 중요 지침\n",
      "\n",
      "- 하나의 feature에서 반드시 **3개 이상의 액션을 추천해야 하며**, 1개나 2개만 추천하면 실패로 간주됩니다.\n",
      "- 모든 추천 액션은 **기존 feature의 actions 배열에 추가되어야 하며**, feature의 name도 명시해야 합니다.\n",
      "- 액션 각각에 대해 다음 정보를 반드시 포함하세요: name, startDate, endDate, importance\n",
      "- 출력은 순수 JSON 구조만 있어야 하며, 부가적인 설명, 안내 문구는 포함하지 마세요.\n",
      "- 출력하는 actions는 추천하는 actions만 최종 출력해야 합니다.\n",
      "\n",
      "---\n",
      "\n",
      "## 요구사항\n",
      "\n",
      "- 반드시 맥락 기반으로 전체 작업 흐름을 분석해 현실적이고 실현 가능한 다음 작업을 3가지 추천할 것\n",
      "- 추천하는 action은 프로젝트 구현에 반드시 필요한 기능이어야 하며, 항상 새로운 작업을 추천해야 합니다.\n",
      "- 추천하는 action은 **UI 수준의 일반 설명이 아니라, 구체적인 기술적 구현 단위**로 작성해야 합니다.\n",
      "- 작업 소요 시간은 기존 작업들의 평균 기간 및 연속성 흐름을 반영하여 startDate, endDate를 현재 날짜를 기준으로 합리적으로 지정할 것\n",
      "- 추천하는 작업의 중요도(importance)는 프로젝트 목표 및 기존 작업과의 연관성을 기반으로 판단할 것\n",
      "- actions의 최종 출력은 추천하는 작업(actions)만 출력할 것\n",
      "\n",
      "### 응답 형식\n",
      "\n",
      "{\n",
      "  \"workspaceId\": 읽어온 workspaceId,\n",
      "  \"categoryId\": 읽어온 categoryId,\n",
      "  \"featureId\": 읽어온 featureId,\n",
      "  \"recommendedActions\": [\n",
      "    {\n",
      "      \"name\": \"추천하는 action\"\n",
      "      \"importance\": \"추천 actions의 중요도(1~5 사이의 값)\",\n",
      "      \"startDate\": \"LocalDateTime형식의 날짜\",\n",
      "      \"endDate\": \"LocalDateTime형식의 날짜\"\n",
      "    },\n",
      "  ]\n",
      "}\n"
     ]
    }
   ],
   "source": [
    "##### test - Read task_recommend prompt #####\n",
    "with open(RCMD_PROMPT_PATH, \"r\", encoding=\"utf-8\", errors=\"replace\") as f:\n",
    "    SYSTEM_PROMPT = f.read()\n",
    "    print(\"task recommend prompt:\\n\", SYSTEM_PROMPT)  # test"
   ]
  },
  {
   "cell_type": "code",
   "execution_count": 124,
   "id": "2c6dabc9",
   "metadata": {},
   "outputs": [
    {
     "name": "stdout",
     "output_type": "stream",
     "text": [
      "{\n",
      "  \"workspaceId\": 6,\n",
      "  \"categoryId\": 4,\n",
      "  \"featureId\": 81,\n",
      "  \"recommendedActions\": [\n",
      "    {\n",
      "      \"name\": \"게시글 수정\",\n",
      "      \"importance\": 4,\n",
      "      \"startDate\": \"2025-06-28T14:25:34.094309\",\n",
      "      \"endDate\": \"2025-07-01T14:25:34.094309\"\n",
      "    },\n",
      "    {\n",
      "      \"name\": \"게시글 삭제\",\n",
      "      \"importance\": 3,\n",
      "      \"startDate\": \"2025-07-02T14:25:34.094309\",\n",
      "      \"endDate\": \"2025-07-05T14:25:34.094309\"\n",
      "    },\n",
      "    {\n",
      "      \"name\": \"댓글 관리\",\n",
      "      \"importance\": 4,\n",
      "      \"startDate\": \"2025-07-06T14:25:34.094309\",\n",
      "      \"endDate\": \"2025-07-09T14:25:34.094309\"\n",
      "    }\n",
      "  ]\n",
      "}\n"
     ]
    }
   ],
   "source": [
    "client = OpenAI()\n",
    "MODEL_ID = 'gpt-4o-mini'\n",
    "\n",
    "now = datetime.now()\n",
    "formatted_time = now.strftime(\"%Y-%m-%dT%H:%M:%S\")  # 날짜 형식 지정\n",
    "\n",
    "def recommend_task(id):\n",
    "\n",
    "    with open(RCMD_PROMPT_PATH, \"r\", encoding=\"utf-8\", errors=\"replace\") as f:\n",
    "        RCMD_PROMPT = f.read()\n",
    "    \n",
    "    # task recommend prompt -> 프로젝트 진행 단계(맥락) 파악해서 추가해야 할 작업 추천\n",
    "    prompt = f\"\"\"\n",
    "    ## 당신의 역할\n",
    "\n",
    "    당신의 역할은 다음과 같습니다:\n",
    "    - 현재까지 수행된 또는 예정된 작업 흐름을 분석하고, 추가적으로 구현해야 할 다음 액션(action)을 **3가지** 제안하는 것입니다.\n",
    "    - 추천하는 액션은 추상적이거나 모호하지 않아야 하며,\n",
    "    - 구체적으로 어떤 기능에 필요한 어떤 동작을 구현해야 하는지 분명하게 명시해야 합니다.\n",
    "\n",
    "    ## 중요 지침\n",
    "    - 하나의 feature에서 반드시 **3개 이상의 액션을 추천해야 하며**, 1개나 2개만 추천하면 실패로 간주됩니다.\n",
    "    - 모든 추천 액션은 **기존 feature의 actions 배열에 추가되어야 하며**, feature의 name도 명시해야 합니다.\n",
    "    - 액션 각각에 대해 다음 정보를 반드시 포함하세요: name, startDate, endDate, importance\n",
    "    - 출력은 순수 JSON 구조만 있어야 하며, 부가적인 설명, 안내 문구는 포함하지 마세요.\n",
    "    - 출력하는 actions는 추천하는 actions만 최종 출력해야 합니다.\n",
    "\n",
    "    ## 요구사항\n",
    "    - 반드시 맥락 기반으로 전체 작업 흐름을 분석해 현실적이고 실현 가능한 다음 작업을 3가지 추천할 것\n",
    "    - 추천하는 action은 프로젝트 구현에 반드시 필요한 기능이어야 하며, 항상 새로운 작업을 추천해야 합니다.\n",
    "    - 추천하는 action은 **UI 수준의 일반 설명이 아니라, 구체적인 기술적 구현 단위**로 작성해야 합니다.\n",
    "     - 예: WebSocket 서버와 클라이언트 간 연결 상태 유지 로직 구현, 배송 상태 변경에 따른 자동 푸시 알림 트리거 구축\n",
    "    - 작업 소요 시간은 기존 작업들의 평균 기간 및 연속성 흐름을 반영하여 startDate, endDate를 현재 날짜를 기준으로 합리적으로 지정할 것\n",
    "    - 추천하는 작업의 중요도(importance)는 프로젝트 목표 및 기존 작업과의 연관성을 기반으로 판단할 것\n",
    "    - actions의 최종 출력은 추천하는 작업(actions)만 출력할 것\n",
    "\n",
    "    **중복 방지 강화 지침**\n",
    "    - 이전에 이미 존재하는 actions의 name과 중복되지 않는 작업만 추천하세요.\n",
    "    - 기존 작업과 동일하거나 유사한 이름/목적을 가진 작업은 절대 제안하지 마세요.\n",
    "    - 매번 다른 상황을 가정하고, 유사한 기능이라도 다른 세부 구현이나 후속 단계에 초점을 맞춰 새로운 작업을 추천하세요.\n",
    "\n",
    "    **다양성 유도 지침**\n",
    "    - 항상 같은 작업을 반복 추천하지 말고, 구현 방식, 순서, 중요도, 기술 요소 등을 바꾸어 다양한 유형의 후속 작업을 제안하세요.\n",
    "    - 만약 기술적으로 가능한 경우, `추가적인 연동`, `성능 개선`, `에러 처리`, `로그 수집`, `보안 강화`, `테스트 자동화`와 같은 맥락에서 파생되는 작업도 고려하세요.\n",
    "\n",
    "    ### 응답 형식\n",
    "\n",
    "    {{\n",
    "        \"workspaceId\": 읽어온 workspaceId,\n",
    "        \"categoryId\": 읽어온 categoryId,\n",
    "        \"featureId\": 읽어온 featureId,\n",
    "        \"recommendedActions\": [\n",
    "            {{\n",
    "            \"name\": \"추천하는 action\"\n",
    "            \"importance\": \"추천 actions의 중요도(1~5 사이의 값)\",\n",
    "            \"startDate\": \"LocalDateTime형식의 날짜\",\n",
    "            \"endDate\": \"LocalDateTime형식의 날짜\"\n",
    "            }},\n",
    "        ]\n",
    "    }}\n",
    "\n",
    "    작업 흐름은 다음과 같습니다:\n",
    "    {extracted_ws}\n",
    "    \"\"\"\n",
    "\n",
    "    response = client.chat.completions.create(\n",
    "        model=MODEL_ID,\n",
    "        messages=[\n",
    "            {\"role\": \"system\", \"content\": RCMD_PROMPT},\n",
    "            {\"role\": \"user\", \"content\": prompt}\n",
    "        ],\n",
    "        temperature=0.3\n",
    "    )\n",
    "    rcmd_task = response.choices[0].message.content.strip()\n",
    "\n",
    "    return rcmd_task\n",
    "\n",
    "print(recommend_task(extracted_ws))"
   ]
  },
  {
   "cell_type": "code",
   "execution_count": null,
   "id": "0756de8a",
   "metadata": {},
   "outputs": [],
   "source": []
  }
 ],
 "metadata": {
  "kernelspec": {
   "display_name": "Python 3",
   "language": "python",
   "name": "python3"
  },
  "language_info": {
   "codemirror_mode": {
    "name": "ipython",
    "version": 3
   },
   "file_extension": ".py",
   "mimetype": "text/x-python",
   "name": "python",
   "nbconvert_exporter": "python",
   "pygments_lexer": "ipython3",
   "version": "3.10.11"
  }
 },
 "nbformat": 4,
 "nbformat_minor": 5
}
