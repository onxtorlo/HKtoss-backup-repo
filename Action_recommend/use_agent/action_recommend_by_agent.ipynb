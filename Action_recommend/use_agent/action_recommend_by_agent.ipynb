{
 "cells": [
  {
   "cell_type": "code",
   "execution_count": 11,
   "id": "489060b6",
   "metadata": {},
   "outputs": [],
   "source": [
    "# %pip freeze > requirements.txt"
   ]
  },
  {
   "cell_type": "code",
   "execution_count": 12,
   "id": "3331a0a0",
   "metadata": {},
   "outputs": [
    {
     "name": "stdout",
     "output_type": "stream",
     "text": [
      "Requirement already satisfied: aiohappyeyeballs==2.6.1 in c:\\users\\user\\appdata\\local\\packages\\pythonsoftwarefoundation.python.3.10_qbz5n2kfra8p0\\localcache\\local-packages\\python310\\site-packages (from -r requirements.txt (line 1)) (2.6.1)Note: you may need to restart the kernel to use updated packages.\n",
      "\n",
      "Requirement already satisfied: aiohttp==3.12.12 in c:\\users\\user\\appdata\\local\\packages\\pythonsoftwarefoundation.python.3.10_qbz5n2kfra8p0\\localcache\\local-packages\\python310\\site-packages (from -r requirements.txt (line 2)) (3.12.12)\n",
      "Requirement already satisfied: aiosignal==1.3.2 in c:\\users\\user\\appdata\\local\\packages\\pythonsoftwarefoundation.python.3.10_qbz5n2kfra8p0\\localcache\\local-packages\\python310\\site-packages (from -r requirements.txt (line 3)) (1.3.2)\n",
      "Requirement already satisfied: altair==5.5.0 in c:\\users\\user\\appdata\\local\\packages\\pythonsoftwarefoundation.python.3.10_qbz5n2kfra8p0\\localcache\\local-packages\\python310\\site-packages (from -r requirements.txt (line 4)) (5.5.0)\n",
      "Requirement already satisfied: annotated-types==0.7.0 in c:\\users\\user\\appdata\\local\\packages\\pythonsoftwarefoundation.python.3.10_qbz5n2kfra8p0\\localcache\\local-packages\\python310\\site-packages (from -r requirements.txt (line 5)) (0.7.0)\n",
      "Requirement already satisfied: anyio==4.9.0 in c:\\users\\user\\appdata\\local\\packages\\pythonsoftwarefoundation.python.3.10_qbz5n2kfra8p0\\localcache\\local-packages\\python310\\site-packages (from -r requirements.txt (line 6)) (4.9.0)\n",
      "Requirement already satisfied: asttokens==3.0.0 in c:\\users\\user\\appdata\\local\\packages\\pythonsoftwarefoundation.python.3.10_qbz5n2kfra8p0\\localcache\\local-packages\\python310\\site-packages (from -r requirements.txt (line 7)) (3.0.0)\n",
      "Requirement already satisfied: async-timeout==4.0.3 in c:\\users\\user\\appdata\\local\\packages\\pythonsoftwarefoundation.python.3.10_qbz5n2kfra8p0\\localcache\\local-packages\\python310\\site-packages (from -r requirements.txt (line 8)) (4.0.3)\n",
      "Requirement already satisfied: attrs==25.3.0 in c:\\users\\user\\appdata\\local\\packages\\pythonsoftwarefoundation.python.3.10_qbz5n2kfra8p0\\localcache\\local-packages\\python310\\site-packages (from -r requirements.txt (line 9)) (25.3.0)\n",
      "Requirement already satisfied: blinker==1.9.0 in c:\\users\\user\\appdata\\local\\packages\\pythonsoftwarefoundation.python.3.10_qbz5n2kfra8p0\\localcache\\local-packages\\python310\\site-packages (from -r requirements.txt (line 10)) (1.9.0)\n",
      "Requirement already satisfied: cachetools==5.5.2 in c:\\users\\user\\appdata\\local\\packages\\pythonsoftwarefoundation.python.3.10_qbz5n2kfra8p0\\localcache\\local-packages\\python310\\site-packages (from -r requirements.txt (line 11)) (5.5.2)\n",
      "Requirement already satisfied: certifi==2025.4.26 in c:\\users\\user\\appdata\\local\\packages\\pythonsoftwarefoundation.python.3.10_qbz5n2kfra8p0\\localcache\\local-packages\\python310\\site-packages (from -r requirements.txt (line 12)) (2025.4.26)\n",
      "Requirement already satisfied: charset-normalizer==3.4.2 in c:\\users\\user\\appdata\\local\\packages\\pythonsoftwarefoundation.python.3.10_qbz5n2kfra8p0\\localcache\\local-packages\\python310\\site-packages (from -r requirements.txt (line 13)) (3.4.2)\n",
      "Requirement already satisfied: click==8.2.1 in c:\\users\\user\\appdata\\local\\packages\\pythonsoftwarefoundation.python.3.10_qbz5n2kfra8p0\\localcache\\local-packages\\python310\\site-packages (from -r requirements.txt (line 14)) (8.2.1)\n",
      "Requirement already satisfied: colorama==0.4.6 in c:\\users\\user\\appdata\\local\\packages\\pythonsoftwarefoundation.python.3.10_qbz5n2kfra8p0\\localcache\\local-packages\\python310\\site-packages (from -r requirements.txt (line 15)) (0.4.6)\n",
      "Requirement already satisfied: comm==0.2.2 in c:\\users\\user\\appdata\\local\\packages\\pythonsoftwarefoundation.python.3.10_qbz5n2kfra8p0\\localcache\\local-packages\\python310\\site-packages (from -r requirements.txt (line 16)) (0.2.2)\n",
      "Requirement already satisfied: contourpy==1.3.2 in c:\\users\\user\\appdata\\local\\packages\\pythonsoftwarefoundation.python.3.10_qbz5n2kfra8p0\\localcache\\local-packages\\python310\\site-packages (from -r requirements.txt (line 17)) (1.3.2)\n",
      "Requirement already satisfied: cycler==0.12.1 in c:\\users\\user\\appdata\\local\\packages\\pythonsoftwarefoundation.python.3.10_qbz5n2kfra8p0\\localcache\\local-packages\\python310\\site-packages (from -r requirements.txt (line 18)) (0.12.1)\n",
      "Requirement already satisfied: dataclasses-json==0.6.7 in c:\\users\\user\\appdata\\local\\packages\\pythonsoftwarefoundation.python.3.10_qbz5n2kfra8p0\\localcache\\local-packages\\python310\\site-packages (from -r requirements.txt (line 19)) (0.6.7)\n",
      "Requirement already satisfied: debugpy==1.8.14 in c:\\users\\user\\appdata\\local\\packages\\pythonsoftwarefoundation.python.3.10_qbz5n2kfra8p0\\localcache\\local-packages\\python310\\site-packages (from -r requirements.txt (line 20)) (1.8.14)\n",
      "Requirement already satisfied: decorator==5.2.1 in c:\\users\\user\\appdata\\local\\packages\\pythonsoftwarefoundation.python.3.10_qbz5n2kfra8p0\\localcache\\local-packages\\python310\\site-packages (from -r requirements.txt (line 21)) (5.2.1)\n",
      "Requirement already satisfied: distro==1.9.0 in c:\\users\\user\\appdata\\local\\packages\\pythonsoftwarefoundation.python.3.10_qbz5n2kfra8p0\\localcache\\local-packages\\python310\\site-packages (from -r requirements.txt (line 22)) (1.9.0)\n",
      "Requirement already satisfied: duckduckgo_search==8.0.3 in c:\\users\\user\\appdata\\local\\packages\\pythonsoftwarefoundation.python.3.10_qbz5n2kfra8p0\\localcache\\local-packages\\python310\\site-packages (from -r requirements.txt (line 23)) (8.0.3)\n",
      "Requirement already satisfied: exceptiongroup==1.3.0 in c:\\users\\user\\appdata\\local\\packages\\pythonsoftwarefoundation.python.3.10_qbz5n2kfra8p0\\localcache\\local-packages\\python310\\site-packages (from -r requirements.txt (line 24)) (1.3.0)\n",
      "Requirement already satisfied: executing==2.2.0 in c:\\users\\user\\appdata\\local\\packages\\pythonsoftwarefoundation.python.3.10_qbz5n2kfra8p0\\localcache\\local-packages\\python310\\site-packages (from -r requirements.txt (line 25)) (2.2.0)\n",
      "Requirement already satisfied: fastjsonschema==2.21.1 in c:\\users\\user\\appdata\\local\\packages\\pythonsoftwarefoundation.python.3.10_qbz5n2kfra8p0\\localcache\\local-packages\\python310\\site-packages (from -r requirements.txt (line 26)) (2.21.1)\n",
      "Requirement already satisfied: filelock==3.18.0 in c:\\users\\user\\appdata\\local\\packages\\pythonsoftwarefoundation.python.3.10_qbz5n2kfra8p0\\localcache\\local-packages\\python310\\site-packages (from -r requirements.txt (line 27)) (3.18.0)\n",
      "Requirement already satisfied: fonttools==4.58.4 in c:\\users\\user\\appdata\\local\\packages\\pythonsoftwarefoundation.python.3.10_qbz5n2kfra8p0\\localcache\\local-packages\\python310\\site-packages (from -r requirements.txt (line 28)) (4.58.4)\n",
      "Requirement already satisfied: frozenlist==1.7.0 in c:\\users\\user\\appdata\\local\\packages\\pythonsoftwarefoundation.python.3.10_qbz5n2kfra8p0\\localcache\\local-packages\\python310\\site-packages (from -r requirements.txt (line 29)) (1.7.0)\n",
      "Requirement already satisfied: fsspec==2025.5.1 in c:\\users\\user\\appdata\\local\\packages\\pythonsoftwarefoundation.python.3.10_qbz5n2kfra8p0\\localcache\\local-packages\\python310\\site-packages (from -r requirements.txt (line 30)) (2025.5.1)\n",
      "Requirement already satisfied: gitdb==4.0.12 in c:\\users\\user\\appdata\\local\\packages\\pythonsoftwarefoundation.python.3.10_qbz5n2kfra8p0\\localcache\\local-packages\\python310\\site-packages (from -r requirements.txt (line 31)) (4.0.12)\n",
      "Requirement already satisfied: GitPython==3.1.44 in c:\\users\\user\\appdata\\local\\packages\\pythonsoftwarefoundation.python.3.10_qbz5n2kfra8p0\\localcache\\local-packages\\python310\\site-packages (from -r requirements.txt (line 32)) (3.1.44)\n",
      "Requirement already satisfied: greenlet==3.2.3 in c:\\users\\user\\appdata\\local\\packages\\pythonsoftwarefoundation.python.3.10_qbz5n2kfra8p0\\localcache\\local-packages\\python310\\site-packages (from -r requirements.txt (line 33)) (3.2.3)\n",
      "Requirement already satisfied: h11==0.16.0 in c:\\users\\user\\appdata\\local\\packages\\pythonsoftwarefoundation.python.3.10_qbz5n2kfra8p0\\localcache\\local-packages\\python310\\site-packages (from -r requirements.txt (line 34)) (0.16.0)\n",
      "Requirement already satisfied: httpcore==1.0.9 in c:\\users\\user\\appdata\\local\\packages\\pythonsoftwarefoundation.python.3.10_qbz5n2kfra8p0\\localcache\\local-packages\\python310\\site-packages (from -r requirements.txt (line 35)) (1.0.9)\n",
      "Requirement already satisfied: httpx==0.28.1 in c:\\users\\user\\appdata\\local\\packages\\pythonsoftwarefoundation.python.3.10_qbz5n2kfra8p0\\localcache\\local-packages\\python310\\site-packages (from -r requirements.txt (line 36)) (0.28.1)\n",
      "Requirement already satisfied: httpx-sse==0.4.0 in c:\\users\\user\\appdata\\local\\packages\\pythonsoftwarefoundation.python.3.10_qbz5n2kfra8p0\\localcache\\local-packages\\python310\\site-packages (from -r requirements.txt (line 37)) (0.4.0)\n",
      "Requirement already satisfied: huggingface-hub==0.33.0 in c:\\users\\user\\appdata\\local\\packages\\pythonsoftwarefoundation.python.3.10_qbz5n2kfra8p0\\localcache\\local-packages\\python310\\site-packages (from -r requirements.txt (line 38)) (0.33.0)\n",
      "Requirement already satisfied: idna==3.10 in c:\\users\\user\\appdata\\local\\packages\\pythonsoftwarefoundation.python.3.10_qbz5n2kfra8p0\\localcache\\local-packages\\python310\\site-packages (from -r requirements.txt (line 39)) (3.10)\n",
      "Requirement already satisfied: ipykernel==6.29.5 in c:\\users\\user\\appdata\\local\\packages\\pythonsoftwarefoundation.python.3.10_qbz5n2kfra8p0\\localcache\\local-packages\\python310\\site-packages (from -r requirements.txt (line 40)) (6.29.5)\n",
      "Requirement already satisfied: ipython==8.37.0 in c:\\users\\user\\appdata\\local\\packages\\pythonsoftwarefoundation.python.3.10_qbz5n2kfra8p0\\localcache\\local-packages\\python310\\site-packages (from -r requirements.txt (line 41)) (8.37.0)\n",
      "Requirement already satisfied: jedi==0.19.2 in c:\\users\\user\\appdata\\local\\packages\\pythonsoftwarefoundation.python.3.10_qbz5n2kfra8p0\\localcache\\local-packages\\python310\\site-packages (from -r requirements.txt (line 42)) (0.19.2)\n",
      "Requirement already satisfied: Jinja2==3.1.6 in c:\\users\\user\\appdata\\local\\packages\\pythonsoftwarefoundation.python.3.10_qbz5n2kfra8p0\\localcache\\local-packages\\python310\\site-packages (from -r requirements.txt (line 43)) (3.1.6)\n",
      "Requirement already satisfied: jiter==0.10.0 in c:\\users\\user\\appdata\\local\\packages\\pythonsoftwarefoundation.python.3.10_qbz5n2kfra8p0\\localcache\\local-packages\\python310\\site-packages (from -r requirements.txt (line 44)) (0.10.0)\n",
      "Requirement already satisfied: jsonpatch==1.33 in c:\\users\\user\\appdata\\local\\packages\\pythonsoftwarefoundation.python.3.10_qbz5n2kfra8p0\\localcache\\local-packages\\python310\\site-packages (from -r requirements.txt (line 45)) (1.33)\n",
      "Requirement already satisfied: jsonpointer==3.0.0 in c:\\users\\user\\appdata\\local\\packages\\pythonsoftwarefoundation.python.3.10_qbz5n2kfra8p0\\localcache\\local-packages\\python310\\site-packages (from -r requirements.txt (line 46)) (3.0.0)\n",
      "Requirement already satisfied: jsonschema==4.24.0 in c:\\users\\user\\appdata\\local\\packages\\pythonsoftwarefoundation.python.3.10_qbz5n2kfra8p0\\localcache\\local-packages\\python310\\site-packages (from -r requirements.txt (line 47)) (4.24.0)\n",
      "Requirement already satisfied: jsonschema-specifications==2025.4.1 in c:\\users\\user\\appdata\\local\\packages\\pythonsoftwarefoundation.python.3.10_qbz5n2kfra8p0\\localcache\\local-packages\\python310\\site-packages (from -r requirements.txt (line 48)) (2025.4.1)\n",
      "Requirement already satisfied: jupyter_client==8.6.3 in c:\\users\\user\\appdata\\local\\packages\\pythonsoftwarefoundation.python.3.10_qbz5n2kfra8p0\\localcache\\local-packages\\python310\\site-packages (from -r requirements.txt (line 49)) (8.6.3)\n",
      "Requirement already satisfied: jupyter_core==5.8.1 in c:\\users\\user\\appdata\\local\\packages\\pythonsoftwarefoundation.python.3.10_qbz5n2kfra8p0\\localcache\\local-packages\\python310\\site-packages (from -r requirements.txt (line 50)) (5.8.1)\n",
      "Requirement already satisfied: kiwisolver==1.4.8 in c:\\users\\user\\appdata\\local\\packages\\pythonsoftwarefoundation.python.3.10_qbz5n2kfra8p0\\localcache\\local-packages\\python310\\site-packages (from -r requirements.txt (line 51)) (1.4.8)\n",
      "Requirement already satisfied: langchain==0.3.25 in c:\\users\\user\\appdata\\local\\packages\\pythonsoftwarefoundation.python.3.10_qbz5n2kfra8p0\\localcache\\local-packages\\python310\\site-packages (from -r requirements.txt (line 52)) (0.3.25)\n",
      "Requirement already satisfied: langchain-community==0.3.25 in c:\\users\\user\\appdata\\local\\packages\\pythonsoftwarefoundation.python.3.10_qbz5n2kfra8p0\\localcache\\local-packages\\python310\\site-packages (from -r requirements.txt (line 53)) (0.3.25)\n",
      "Requirement already satisfied: langchain-core==0.3.65 in c:\\users\\user\\appdata\\local\\packages\\pythonsoftwarefoundation.python.3.10_qbz5n2kfra8p0\\localcache\\local-packages\\python310\\site-packages (from -r requirements.txt (line 54)) (0.3.65)\n",
      "Requirement already satisfied: langchain-openai==0.3.22 in c:\\users\\user\\appdata\\local\\packages\\pythonsoftwarefoundation.python.3.10_qbz5n2kfra8p0\\localcache\\local-packages\\python310\\site-packages (from -r requirements.txt (line 55)) (0.3.22)\n",
      "Requirement already satisfied: langchain-text-splitters==0.3.8 in c:\\users\\user\\appdata\\local\\packages\\pythonsoftwarefoundation.python.3.10_qbz5n2kfra8p0\\localcache\\local-packages\\python310\\site-packages (from -r requirements.txt (line 56)) (0.3.8)\n",
      "Requirement already satisfied: langsmith==0.3.45 in c:\\users\\user\\appdata\\local\\packages\\pythonsoftwarefoundation.python.3.10_qbz5n2kfra8p0\\localcache\\local-packages\\python310\\site-packages (from -r requirements.txt (line 57)) (0.3.45)\n",
      "Requirement already satisfied: lxml==5.4.0 in c:\\users\\user\\appdata\\local\\packages\\pythonsoftwarefoundation.python.3.10_qbz5n2kfra8p0\\localcache\\local-packages\\python310\\site-packages (from -r requirements.txt (line 58)) (5.4.0)\n",
      "Requirement already satisfied: MarkupSafe==3.0.2 in c:\\users\\user\\appdata\\local\\packages\\pythonsoftwarefoundation.python.3.10_qbz5n2kfra8p0\\localcache\\local-packages\\python310\\site-packages (from -r requirements.txt (line 59)) (3.0.2)\n",
      "Requirement already satisfied: marshmallow==3.26.1 in c:\\users\\user\\appdata\\local\\packages\\pythonsoftwarefoundation.python.3.10_qbz5n2kfra8p0\\localcache\\local-packages\\python310\\site-packages (from -r requirements.txt (line 60)) (3.26.1)\n",
      "Requirement already satisfied: matplotlib==3.10.3 in c:\\users\\user\\appdata\\local\\packages\\pythonsoftwarefoundation.python.3.10_qbz5n2kfra8p0\\localcache\\local-packages\\python310\\site-packages (from -r requirements.txt (line 61)) (3.10.3)\n",
      "Requirement already satisfied: matplotlib-inline==0.1.7 in c:\\users\\user\\appdata\\local\\packages\\pythonsoftwarefoundation.python.3.10_qbz5n2kfra8p0\\localcache\\local-packages\\python310\\site-packages (from -r requirements.txt (line 62)) (0.1.7)\n",
      "Requirement already satisfied: multidict==6.4.4 in c:\\users\\user\\appdata\\local\\packages\\pythonsoftwarefoundation.python.3.10_qbz5n2kfra8p0\\localcache\\local-packages\\python310\\site-packages (from -r requirements.txt (line 63)) (6.4.4)\n",
      "Requirement already satisfied: mypy_extensions==1.1.0 in c:\\users\\user\\appdata\\local\\packages\\pythonsoftwarefoundation.python.3.10_qbz5n2kfra8p0\\localcache\\local-packages\\python310\\site-packages (from -r requirements.txt (line 64)) (1.1.0)\n",
      "Requirement already satisfied: narwhals==1.42.1 in c:\\users\\user\\appdata\\local\\packages\\pythonsoftwarefoundation.python.3.10_qbz5n2kfra8p0\\localcache\\local-packages\\python310\\site-packages (from -r requirements.txt (line 65)) (1.42.1)\n",
      "Requirement already satisfied: nbformat==5.10.4 in c:\\users\\user\\appdata\\local\\packages\\pythonsoftwarefoundation.python.3.10_qbz5n2kfra8p0\\localcache\\local-packages\\python310\\site-packages (from -r requirements.txt (line 66)) (5.10.4)\n",
      "Requirement already satisfied: nest-asyncio==1.6.0 in c:\\users\\user\\appdata\\local\\packages\\pythonsoftwarefoundation.python.3.10_qbz5n2kfra8p0\\localcache\\local-packages\\python310\\site-packages (from -r requirements.txt (line 67)) (1.6.0)\n",
      "Requirement already satisfied: numpy==2.2.6 in c:\\users\\user\\appdata\\local\\packages\\pythonsoftwarefoundation.python.3.10_qbz5n2kfra8p0\\localcache\\local-packages\\python310\\site-packages (from -r requirements.txt (line 68)) (2.2.6)\n",
      "Requirement already satisfied: openai==1.86.0 in c:\\users\\user\\appdata\\local\\packages\\pythonsoftwarefoundation.python.3.10_qbz5n2kfra8p0\\localcache\\local-packages\\python310\\site-packages (from -r requirements.txt (line 69)) (1.86.0)\n",
      "Requirement already satisfied: orjson==3.10.18 in c:\\users\\user\\appdata\\local\\packages\\pythonsoftwarefoundation.python.3.10_qbz5n2kfra8p0\\localcache\\local-packages\\python310\\site-packages (from -r requirements.txt (line 70)) (3.10.18)\n",
      "Requirement already satisfied: packaging==24.2 in c:\\users\\user\\appdata\\local\\packages\\pythonsoftwarefoundation.python.3.10_qbz5n2kfra8p0\\localcache\\local-packages\\python310\\site-packages (from -r requirements.txt (line 71)) (24.2)\n",
      "Requirement already satisfied: pandas==2.3.0 in c:\\users\\user\\appdata\\local\\packages\\pythonsoftwarefoundation.python.3.10_qbz5n2kfra8p0\\localcache\\local-packages\\python310\\site-packages (from -r requirements.txt (line 72)) (2.3.0)\n",
      "Requirement already satisfied: parso==0.8.4 in c:\\users\\user\\appdata\\local\\packages\\pythonsoftwarefoundation.python.3.10_qbz5n2kfra8p0\\localcache\\local-packages\\python310\\site-packages (from -r requirements.txt (line 73)) (0.8.4)\n",
      "Requirement already satisfied: pillow==11.2.1 in c:\\users\\user\\appdata\\local\\packages\\pythonsoftwarefoundation.python.3.10_qbz5n2kfra8p0\\localcache\\local-packages\\python310\\site-packages (from -r requirements.txt (line 74)) (11.2.1)\n",
      "Requirement already satisfied: platformdirs==4.3.8 in c:\\users\\user\\appdata\\local\\packages\\pythonsoftwarefoundation.python.3.10_qbz5n2kfra8p0\\localcache\\local-packages\\python310\\site-packages (from -r requirements.txt (line 75)) (4.3.8)\n",
      "Requirement already satisfied: plotly==6.1.2 in c:\\users\\user\\appdata\\local\\packages\\pythonsoftwarefoundation.python.3.10_qbz5n2kfra8p0\\localcache\\local-packages\\python310\\site-packages (from -r requirements.txt (line 76)) (6.1.2)\n",
      "Requirement already satisfied: primp==0.15.0 in c:\\users\\user\\appdata\\local\\packages\\pythonsoftwarefoundation.python.3.10_qbz5n2kfra8p0\\localcache\\local-packages\\python310\\site-packages (from -r requirements.txt (line 77)) (0.15.0)\n",
      "Requirement already satisfied: prompt_toolkit==3.0.51 in c:\\users\\user\\appdata\\local\\packages\\pythonsoftwarefoundation.python.3.10_qbz5n2kfra8p0\\localcache\\local-packages\\python310\\site-packages (from -r requirements.txt (line 78)) (3.0.51)\n",
      "Requirement already satisfied: propcache==0.3.2 in c:\\users\\user\\appdata\\local\\packages\\pythonsoftwarefoundation.python.3.10_qbz5n2kfra8p0\\localcache\\local-packages\\python310\\site-packages (from -r requirements.txt (line 79)) (0.3.2)\n",
      "Requirement already satisfied: protobuf==6.31.1 in c:\\users\\user\\appdata\\local\\packages\\pythonsoftwarefoundation.python.3.10_qbz5n2kfra8p0\\localcache\\local-packages\\python310\\site-packages (from -r requirements.txt (line 80)) (6.31.1)\n",
      "Requirement already satisfied: psutil==7.0.0 in c:\\users\\user\\appdata\\local\\packages\\pythonsoftwarefoundation.python.3.10_qbz5n2kfra8p0\\localcache\\local-packages\\python310\\site-packages (from -r requirements.txt (line 81)) (7.0.0)\n",
      "Requirement already satisfied: pure_eval==0.2.3 in c:\\users\\user\\appdata\\local\\packages\\pythonsoftwarefoundation.python.3.10_qbz5n2kfra8p0\\localcache\\local-packages\\python310\\site-packages (from -r requirements.txt (line 82)) (0.2.3)\n",
      "Requirement already satisfied: pyarrow==20.0.0 in c:\\users\\user\\appdata\\local\\packages\\pythonsoftwarefoundation.python.3.10_qbz5n2kfra8p0\\localcache\\local-packages\\python310\\site-packages (from -r requirements.txt (line 83)) (20.0.0)\n",
      "Requirement already satisfied: pydantic==2.11.5 in c:\\users\\user\\appdata\\local\\packages\\pythonsoftwarefoundation.python.3.10_qbz5n2kfra8p0\\localcache\\local-packages\\python310\\site-packages (from -r requirements.txt (line 84)) (2.11.5)\n",
      "Requirement already satisfied: pydantic-settings==2.9.1 in c:\\users\\user\\appdata\\local\\packages\\pythonsoftwarefoundation.python.3.10_qbz5n2kfra8p0\\localcache\\local-packages\\python310\\site-packages (from -r requirements.txt (line 85)) (2.9.1)\n",
      "Requirement already satisfied: pydantic_core==2.33.2 in c:\\users\\user\\appdata\\local\\packages\\pythonsoftwarefoundation.python.3.10_qbz5n2kfra8p0\\localcache\\local-packages\\python310\\site-packages (from -r requirements.txt (line 86)) (2.33.2)\n",
      "Requirement already satisfied: pydeck==0.9.1 in c:\\users\\user\\appdata\\local\\packages\\pythonsoftwarefoundation.python.3.10_qbz5n2kfra8p0\\localcache\\local-packages\\python310\\site-packages (from -r requirements.txt (line 87)) (0.9.1)\n",
      "Requirement already satisfied: Pygments==2.19.1 in c:\\users\\user\\appdata\\local\\packages\\pythonsoftwarefoundation.python.3.10_qbz5n2kfra8p0\\localcache\\local-packages\\python310\\site-packages (from -r requirements.txt (line 88)) (2.19.1)\n",
      "Requirement already satisfied: pyparsing==3.2.3 in c:\\users\\user\\appdata\\local\\packages\\pythonsoftwarefoundation.python.3.10_qbz5n2kfra8p0\\localcache\\local-packages\\python310\\site-packages (from -r requirements.txt (line 89)) (3.2.3)\n",
      "Requirement already satisfied: python-dateutil==2.9.0.post0 in c:\\users\\user\\appdata\\local\\packages\\pythonsoftwarefoundation.python.3.10_qbz5n2kfra8p0\\localcache\\local-packages\\python310\\site-packages (from -r requirements.txt (line 90)) (2.9.0.post0)\n",
      "Requirement already satisfied: python-dotenv==1.1.0 in c:\\users\\user\\appdata\\local\\packages\\pythonsoftwarefoundation.python.3.10_qbz5n2kfra8p0\\localcache\\local-packages\\python310\\site-packages (from -r requirements.txt (line 91)) (1.1.0)\n",
      "Requirement already satisfied: pytz==2025.2 in c:\\users\\user\\appdata\\local\\packages\\pythonsoftwarefoundation.python.3.10_qbz5n2kfra8p0\\localcache\\local-packages\\python310\\site-packages (from -r requirements.txt (line 92)) (2025.2)\n",
      "Requirement already satisfied: pywin32==310 in c:\\users\\user\\appdata\\local\\packages\\pythonsoftwarefoundation.python.3.10_qbz5n2kfra8p0\\localcache\\local-packages\\python310\\site-packages (from -r requirements.txt (line 93)) (310)\n",
      "Requirement already satisfied: PyYAML==6.0.2 in c:\\users\\user\\appdata\\local\\packages\\pythonsoftwarefoundation.python.3.10_qbz5n2kfra8p0\\localcache\\local-packages\\python310\\site-packages (from -r requirements.txt (line 94)) (6.0.2)\n",
      "Requirement already satisfied: pyzmq==26.4.0 in c:\\users\\user\\appdata\\local\\packages\\pythonsoftwarefoundation.python.3.10_qbz5n2kfra8p0\\localcache\\local-packages\\python310\\site-packages (from -r requirements.txt (line 95)) (26.4.0)\n",
      "Requirement already satisfied: referencing==0.36.2 in c:\\users\\user\\appdata\\local\\packages\\pythonsoftwarefoundation.python.3.10_qbz5n2kfra8p0\\localcache\\local-packages\\python310\\site-packages (from -r requirements.txt (line 96)) (0.36.2)\n",
      "Requirement already satisfied: regex==2024.11.6 in c:\\users\\user\\appdata\\local\\packages\\pythonsoftwarefoundation.python.3.10_qbz5n2kfra8p0\\localcache\\local-packages\\python310\\site-packages (from -r requirements.txt (line 97)) (2024.11.6)\n",
      "Requirement already satisfied: requests==2.32.4 in c:\\users\\user\\appdata\\local\\packages\\pythonsoftwarefoundation.python.3.10_qbz5n2kfra8p0\\localcache\\local-packages\\python310\\site-packages (from -r requirements.txt (line 98)) (2.32.4)\n",
      "Requirement already satisfied: requests-toolbelt==1.0.0 in c:\\users\\user\\appdata\\local\\packages\\pythonsoftwarefoundation.python.3.10_qbz5n2kfra8p0\\localcache\\local-packages\\python310\\site-packages (from -r requirements.txt (line 99)) (1.0.0)\n",
      "Requirement already satisfied: rpds-py==0.25.1 in c:\\users\\user\\appdata\\local\\packages\\pythonsoftwarefoundation.python.3.10_qbz5n2kfra8p0\\localcache\\local-packages\\python310\\site-packages (from -r requirements.txt (line 100)) (0.25.1)\n",
      "Requirement already satisfied: safetensors==0.5.3 in c:\\users\\user\\appdata\\local\\packages\\pythonsoftwarefoundation.python.3.10_qbz5n2kfra8p0\\localcache\\local-packages\\python310\\site-packages (from -r requirements.txt (line 101)) (0.5.3)\n",
      "Requirement already satisfied: seaborn==0.13.2 in c:\\users\\user\\appdata\\local\\packages\\pythonsoftwarefoundation.python.3.10_qbz5n2kfra8p0\\localcache\\local-packages\\python310\\site-packages (from -r requirements.txt (line 102)) (0.13.2)\n",
      "Requirement already satisfied: six==1.17.0 in c:\\users\\user\\appdata\\local\\packages\\pythonsoftwarefoundation.python.3.10_qbz5n2kfra8p0\\localcache\\local-packages\\python310\\site-packages (from -r requirements.txt (line 103)) (1.17.0)\n",
      "Requirement already satisfied: smmap==5.0.2 in c:\\users\\user\\appdata\\local\\packages\\pythonsoftwarefoundation.python.3.10_qbz5n2kfra8p0\\localcache\\local-packages\\python310\\site-packages (from -r requirements.txt (line 104)) (5.0.2)\n",
      "Requirement already satisfied: sniffio==1.3.1 in c:\\users\\user\\appdata\\local\\packages\\pythonsoftwarefoundation.python.3.10_qbz5n2kfra8p0\\localcache\\local-packages\\python310\\site-packages (from -r requirements.txt (line 105)) (1.3.1)\n",
      "Requirement already satisfied: SQLAlchemy==2.0.41 in c:\\users\\user\\appdata\\local\\packages\\pythonsoftwarefoundation.python.3.10_qbz5n2kfra8p0\\localcache\\local-packages\\python310\\site-packages (from -r requirements.txt (line 106)) (2.0.41)\n",
      "Requirement already satisfied: stack-data==0.6.3 in c:\\users\\user\\appdata\\local\\packages\\pythonsoftwarefoundation.python.3.10_qbz5n2kfra8p0\\localcache\\local-packages\\python310\\site-packages (from -r requirements.txt (line 107)) (0.6.3)\n",
      "Requirement already satisfied: streamlit==1.45.1 in c:\\users\\user\\appdata\\local\\packages\\pythonsoftwarefoundation.python.3.10_qbz5n2kfra8p0\\localcache\\local-packages\\python310\\site-packages (from -r requirements.txt (line 108)) (1.45.1)\n",
      "Requirement already satisfied: tenacity==9.1.2 in c:\\users\\user\\appdata\\local\\packages\\pythonsoftwarefoundation.python.3.10_qbz5n2kfra8p0\\localcache\\local-packages\\python310\\site-packages (from -r requirements.txt (line 109)) (9.1.2)\n",
      "Requirement already satisfied: tiktoken==0.9.0 in c:\\users\\user\\appdata\\local\\packages\\pythonsoftwarefoundation.python.3.10_qbz5n2kfra8p0\\localcache\\local-packages\\python310\\site-packages (from -r requirements.txt (line 110)) (0.9.0)\n",
      "Requirement already satisfied: tokenizers==0.21.1 in c:\\users\\user\\appdata\\local\\packages\\pythonsoftwarefoundation.python.3.10_qbz5n2kfra8p0\\localcache\\local-packages\\python310\\site-packages (from -r requirements.txt (line 111)) (0.21.1)\n",
      "Requirement already satisfied: toml==0.10.2 in c:\\users\\user\\appdata\\local\\packages\\pythonsoftwarefoundation.python.3.10_qbz5n2kfra8p0\\localcache\\local-packages\\python310\\site-packages (from -r requirements.txt (line 112)) (0.10.2)\n",
      "Requirement already satisfied: tornado==6.5.1 in c:\\users\\user\\appdata\\local\\packages\\pythonsoftwarefoundation.python.3.10_qbz5n2kfra8p0\\localcache\\local-packages\\python310\\site-packages (from -r requirements.txt (line 113)) (6.5.1)\n",
      "Requirement already satisfied: tqdm==4.67.1 in c:\\users\\user\\appdata\\local\\packages\\pythonsoftwarefoundation.python.3.10_qbz5n2kfra8p0\\localcache\\local-packages\\python310\\site-packages (from -r requirements.txt (line 114)) (4.67.1)\n",
      "Requirement already satisfied: traitlets==5.14.3 in c:\\users\\user\\appdata\\local\\packages\\pythonsoftwarefoundation.python.3.10_qbz5n2kfra8p0\\localcache\\local-packages\\python310\\site-packages (from -r requirements.txt (line 115)) (5.14.3)\n",
      "Requirement already satisfied: transformers==4.52.4 in c:\\users\\user\\appdata\\local\\packages\\pythonsoftwarefoundation.python.3.10_qbz5n2kfra8p0\\localcache\\local-packages\\python310\\site-packages (from -r requirements.txt (line 116)) (4.52.4)\n",
      "Requirement already satisfied: typing-inspect==0.9.0 in c:\\users\\user\\appdata\\local\\packages\\pythonsoftwarefoundation.python.3.10_qbz5n2kfra8p0\\localcache\\local-packages\\python310\\site-packages (from -r requirements.txt (line 117)) (0.9.0)\n",
      "Requirement already satisfied: typing-inspection==0.4.1 in c:\\users\\user\\appdata\\local\\packages\\pythonsoftwarefoundation.python.3.10_qbz5n2kfra8p0\\localcache\\local-packages\\python310\\site-packages (from -r requirements.txt (line 118)) (0.4.1)\n",
      "Requirement already satisfied: typing_extensions==4.14.0 in c:\\users\\user\\appdata\\local\\packages\\pythonsoftwarefoundation.python.3.10_qbz5n2kfra8p0\\localcache\\local-packages\\python310\\site-packages (from -r requirements.txt (line 119)) (4.14.0)\n",
      "Requirement already satisfied: tzdata==2025.2 in c:\\users\\user\\appdata\\local\\packages\\pythonsoftwarefoundation.python.3.10_qbz5n2kfra8p0\\localcache\\local-packages\\python310\\site-packages (from -r requirements.txt (line 120)) (2025.2)\n",
      "Requirement already satisfied: urllib3==2.4.0 in c:\\users\\user\\appdata\\local\\packages\\pythonsoftwarefoundation.python.3.10_qbz5n2kfra8p0\\localcache\\local-packages\\python310\\site-packages (from -r requirements.txt (line 121)) (2.4.0)\n",
      "Requirement already satisfied: watchdog==6.0.0 in c:\\users\\user\\appdata\\local\\packages\\pythonsoftwarefoundation.python.3.10_qbz5n2kfra8p0\\localcache\\local-packages\\python310\\site-packages (from -r requirements.txt (line 122)) (6.0.0)\n",
      "Requirement already satisfied: wcwidth==0.2.13 in c:\\users\\user\\appdata\\local\\packages\\pythonsoftwarefoundation.python.3.10_qbz5n2kfra8p0\\localcache\\local-packages\\python310\\site-packages (from -r requirements.txt (line 123)) (0.2.13)\n",
      "Requirement already satisfied: yarl==1.20.1 in c:\\users\\user\\appdata\\local\\packages\\pythonsoftwarefoundation.python.3.10_qbz5n2kfra8p0\\localcache\\local-packages\\python310\\site-packages (from -r requirements.txt (line 124)) (1.20.1)\n",
      "Requirement already satisfied: zstandard==0.23.0 in c:\\users\\user\\appdata\\local\\packages\\pythonsoftwarefoundation.python.3.10_qbz5n2kfra8p0\\localcache\\local-packages\\python310\\site-packages (from -r requirements.txt (line 125)) (0.23.0)\n"
     ]
    }
   ],
   "source": [
    "%pip install -r requirements.txt"
   ]
  },
  {
   "cell_type": "code",
   "execution_count": 13,
   "id": "f620dd81",
   "metadata": {},
   "outputs": [],
   "source": [
    "# from langchain.agents import initialize_agent, AgentType\n",
    "from langchain.agents import Tool\n",
    "from langchain_community.tools import DuckDuckGoSearchRun\n",
    "from langchain.tools import tool\n",
    "from langchain.chains import LLMChain\n",
    "from langchain.prompts import PromptTemplate\n",
    "from langchain_openai import ChatOpenAI\n",
    "from langchain.agents import AgentExecutor, create_react_agent\n",
    "from langchain.memory import ConversationBufferMemory\n",
    "from jinja2 import Template\n",
    "\n",
    "from dotenv import load_dotenv\n",
    "import json\n",
    "import os\n",
    "# import re\n",
    "import json\n",
    "import random"
   ]
  },
  {
   "cell_type": "code",
   "execution_count": 14,
   "id": "34f4bb8a",
   "metadata": {},
   "outputs": [],
   "source": [
    "load_dotenv()\n",
    "openai_api_key = os.getenv(\"OPENAI_API_KEY\")"
   ]
  },
  {
   "cell_type": "code",
   "execution_count": 15,
   "id": "d5125066",
   "metadata": {},
   "outputs": [],
   "source": [
    "JSON_FILE_PATH = \"..\\\\use_openai\\\\data\\\\id_added_dummy_data.json\"\n",
    "# RCMD_PROMPT_PATH = \"..\\\\prompts\\\\agent_recommend.md\"\n",
    "RCMD_PROMPT_PATH = \"..\\\\prompts\\\\action_recommend.md\"  # ReAct에 맞는 프롬프트로 수정\n",
    "FEATURE_ID_PATH = \"featureId.txt\""
   ]
  },
  {
   "cell_type": "code",
   "execution_count": 16,
   "id": "87ee998d",
   "metadata": {},
   "outputs": [
    {
     "name": "stdout",
     "output_type": "stream",
     "text": [
      "<class 'list'>\n"
     ]
    }
   ],
   "source": [
    "# Read prompt\n",
    "with open(RCMD_PROMPT_PATH, \"r\", encoding=\"utf-8\", errors=\"replace\") as f:\n",
    "    RCMD_PROMPT = f.read()\n",
    "\n",
    "# Read data\n",
    "with open(JSON_FILE_PATH, 'r', encoding='utf-8') as f:\n",
    "    data = json.load(f)\n",
    "    print(type(data))  # (test) <class 'list'>\n",
    "\n",
    "# Read featureId keys\n",
    "with open(FEATURE_ID_PATH, \"r\", encoding=\"utf-8\") as f:\n",
    "    lines = f.readlines()\n",
    "    feature_id_list = [line.strip() for line in lines]\n",
    "    # print(feature_id)  # test"
   ]
  },
  {
   "cell_type": "code",
   "execution_count": 17,
   "id": "1fbd79b0",
   "metadata": {},
   "outputs": [
    {
     "name": "stdout",
     "output_type": "stream",
     "text": [
      "6 <class 'int'>\n"
     ]
    }
   ],
   "source": [
    "# # test\n",
    "FEATURE_ID = int(random.choice(feature_id_list))\n",
    "print(FEATURE_ID, type(FEATURE_ID))"
   ]
  },
  {
   "cell_type": "code",
   "execution_count": 18,
   "id": "ffa06933",
   "metadata": {},
   "outputs": [
    {
     "name": "stdout",
     "output_type": "stream",
     "text": [
      "{\n",
      "  \"workspaceId\": 9,\n",
      "  \"recommendedCategories\": [\n",
      "    {\n",
      "      \"categoryId\": 4,\n",
      "      \"name\": \"게시판 기능\",\n",
      "      \"features\": [\n",
      "        {\n",
      "          \"featureId\": 44,\n",
      "          \"name\": \"관리 기능\",\n",
      "          \"actions\": [\n",
      "            {\n",
      "              \"name\": \"통계 관리\",\n",
      "              \"importance\": 5,\n",
      "              \"startDate\": \"2025-06-15T14:25:34.094111\",\n",
      "              \"endDate\": \"2025-06-26T14:25:34.094111\"\n",
      "            },\n",
      "            {\n",
      "              \"name\": \"백업/복구\",\n",
      "              \"importance\": 3,\n",
      "              \"startDate\": \"2025-06-14T14:25:34.094114\",\n",
      "              \"endDate\": \"2025-06-20T14:25:34.094114\"\n",
      "            },\n",
      "            {\n",
      "              \"name\": \"게시판 권한 관리\",\n",
      "              \"importance\": 3,\n",
      "              \"startDate\": \"2025-06-14T14:25:34.094117\",\n",
      "              \"endDate\": \"2025-06-17T14:25:34.094117\"\n",
      "            }\n",
      "          ]\n",
      "        }\n",
      "      ]\n",
      "    }\n",
      "  ]\n",
      "}\n"
     ]
    }
   ],
   "source": [
    "# featureId로 해당 category, feature 이하의 actions만 추출\n",
    "FEATURE_ID = int(random.choice(feature_id_list))\n",
    "\n",
    "def extract_workspace_view(input_data, id):\n",
    "    # featureId로 작업목록 + workspaceId 가져오기\n",
    "    for item in input_data:\n",
    "        for category in item.get(\"recommendedCategories\", []):\n",
    "            for feature in category.get(\"features\", []):\n",
    "                if feature.get(\"featureId\") == id:\n",
    "                    return {\n",
    "                        \"workspaceId\": item[\"workspaceId\"],\n",
    "                        \"recommendedCategories\": [\n",
    "                            {\n",
    "                                \"categoryId\": category[\"categoryId\"],\n",
    "                                \"name\": category[\"name\"],\n",
    "                                \"features\": [feature]\n",
    "                            }\n",
    "                        ]\n",
    "                    }\n",
    "\n",
    "# featureId로 읽어온 actions\n",
    "workspace_data = extract_workspace_view(data, FEATURE_ID)\n",
    "workspace_data\n",
    "# print(json.dumps(result, ensure_ascii=False, indent=2))\n",
    "\n",
    "if workspace_data:\n",
    "    print(json.dumps(workspace_data, ensure_ascii=False, indent=2))\n",
    "else:\n",
    "    print(\"해당 featureId를 찾을 수 없습니다.\")"
   ]
  },
  {
   "cell_type": "code",
   "execution_count": 19,
   "id": "2c4a82c3",
   "metadata": {},
   "outputs": [
    {
     "data": {
      "text/plain": [
       "dict"
      ]
     },
     "execution_count": 19,
     "metadata": {},
     "output_type": "execute_result"
    }
   ],
   "source": [
    "type(workspace_data)  # (test) dict"
   ]
  },
  {
   "cell_type": "code",
   "execution_count": 20,
   "id": "449a2ef2",
   "metadata": {},
   "outputs": [],
   "source": [
    "# featureId로 읽어온 actions\n",
    "workspace_data = extract_workspace_view(data, FEATURE_ID)\n",
    "\n",
    "# Jinja2 template 객체 생성. 템플릿 구조상(복잡, dict 생성이 필요) 변수 렌더링 필요.\n",
    "# template = Template(RCMD_PROMPT)\n",
    "\n",
    "# 템플릿&작업목록 데이터 결합. jinja2 방식 템플릿 렌더링.\n",
    "# template 내 변수({})들을 실제값으로 치환 -> 문자열 생성\n",
    "# formatted_input = template.render(ws_data=workspace_data)  # JSON 내 필드만 하나씩 꺼내서 출력\n",
    "# formatted_input = template.render(ws_data=json.dumps(workspace_data, ensure_ascii=False))   #  JSON 전체를 문자열로 템플릿에 삽입\n",
    "\n",
    "# print(formatted_input)  # test\n",
    "# print(type(formatted_input))"
   ]
  },
  {
   "cell_type": "code",
   "execution_count": 21,
   "id": "ccbb4259",
   "metadata": {},
   "outputs": [],
   "source": [
    "# # test\n",
    "# print(type(template))\n",
    "# print(template)"
   ]
  },
  {
   "cell_type": "code",
   "execution_count": 22,
   "id": "560cfff8",
   "metadata": {},
   "outputs": [
    {
     "name": "stdout",
     "output_type": "stream",
     "text": [
      "<class 'str'>\n",
      "{\"workspaceId\": 9, \"recommendedCategories\": [{\"categoryId\": 4, \"name\": \"게시판 기능\", \"features\": [{\"featureId\": 44, \"name\": \"관리 기능\", \"actions\": [{\"name\": \"통계 관리\", \"importance\": 5, \"startDate\": \"2025-06-15T14:25:34.094111\", \"endDate\": \"2025-06-26T14:25:34.094111\"}, {\"name\": \"백업/복구\", \"importance\": 3, \"startDate\": \"2025-06-14T14:25:34.094114\", \"endDate\": \"2025-06-20T14:25:34.094114\"}, {\"name\": \"게시판 권한 관리\", \"importance\": 3, \"startDate\": \"2025-06-14T14:25:34.094117\", \"endDate\": \"2025-06-17T14:25:34.094117\"}]}]}]}\n"
     ]
    }
   ],
   "source": [
    "# test\n",
    "search = DuckDuckGoSearchRun()\n",
    "dump_data = json.dumps(workspace_data, ensure_ascii=False)  # dict -> str\n",
    "# pattern = r'({[\\s\\S]*})'\n",
    "# match = re.search(pattern, dump_data, re.DOTALL)\n",
    "# json_block = match.group(0)\n",
    "print(type(dump_data))\n",
    "print(dump_data)"
   ]
  },
  {
   "cell_type": "code",
   "execution_count": 23,
   "id": "db9b83f1",
   "metadata": {},
   "outputs": [],
   "source": [
    "# OpenAI 객체 초기화\n",
    "llm = ChatOpenAI(\n",
    "    model=\"gpt-4o-mini\",\n",
    "    temperature=0.3,\n",
    "    max_tokens=1024,\n",
    "    openai_api_key=openai_api_key\n",
    ")"
   ]
  },
  {
   "cell_type": "code",
   "execution_count": 24,
   "id": "a5df17fe",
   "metadata": {},
   "outputs": [
    {
     "data": {
      "text/plain": [
       "'당신은 JSON 기반의 워크스페이스 작업 흐름을 분석하여, 각 기능(feature)에 대해 적절한 후속 작업(action)을 제안하는 전문가입니다.\\n\\n당신의 임무는 다음과 같습니다:\\n\\n1. 입력으로 주어진 JSON에서 workspaceId, category, feature, action 구조를 파악하고,\\n2. 각 feature에 대해 3개의 후속 작업(action)을 생성하며,\\n3. 이 결과를 지정된 형식의 JSON으로 반환하는 것입니다.\\n\\n---\\n\\n입력 정보:\\n\\n- 입력 JSON: {input}\\n- 사용 가능한 도구 목록: {tools}\\n- 사용 가능한 도구 이름: {tool_names}\\n- 이전 실행 이력 (agent_scratchpad): {agent_scratchpad}\\n\\n---\\n\\n아래의 ReAct 형식 규칙을 반드시 따르십시오. 하나라도 어기면 시스템이 응답을 인식하지 못하고 실패합니다.\\n\\nReAct 실행 구조:\\n\\n1. Thought: 현재 해야 할 판단과 적절한 도구 선택 이유를 서술하십시오.\\n2. Action: 사용할 도구의 이름을 정확히 명시하십시오 (예: Action: ParseWorkflow). 반드시 tool_names에 있는 이름과 일치해야 하며, 대소문자도 구분됩니다.\\n3. Action Input: 선택한 도구에 전달할 입력 데이터를 JSON 형식으로 작성하십시오.\\n4. Observation: 도구 실행 결과를 간단히 요약하십시오.\\n5. Final Answer: 반드시 FinalAnswer 도구를 사용하여 JSON 출력 결과를 전달하십시오. JSON을 직접 출력하지 마십시오. Final Answer 뒤에는 Thought가 다시 나와서는 안 됩니다.\\n\\n---\\n\\n실행 순서:\\n\\n1. ParseWorkflow 도구를 먼저 실행하여 각 기능에 대해 3개의 후속 작업을 생성하십시오.\\n2. 그 결과를 FinalAnswer 도구를 사용해 출력하십시오.\\n'"
      ]
     },
     "execution_count": 24,
     "metadata": {},
     "output_type": "execute_result"
    }
   ],
   "source": [
    "RCMD_PROMPT"
   ]
  },
  {
   "cell_type": "code",
   "execution_count": 25,
   "id": "5a1c5b66",
   "metadata": {},
   "outputs": [],
   "source": [
    "# template"
   ]
  },
  {
   "cell_type": "code",
   "execution_count": 26,
   "id": "e5980fa1",
   "metadata": {},
   "outputs": [],
   "source": [
    "# 변수{} 삽입 가능한 템플릿 생성\n",
    "prompt = PromptTemplate(\n",
    "    input_variables=[\"input\", \"tools\", \"tool_names\", \"agent_scratched\"],\n",
    "    template=RCMD_PROMPT\n",
    "    # template=template\n",
    ")"
   ]
  },
  {
   "cell_type": "code",
   "execution_count": null,
   "id": "401ef285",
   "metadata": {},
   "outputs": [
    {
     "name": "stderr",
     "output_type": "stream",
     "text": [
      "C:\\Users\\user\\AppData\\Local\\Temp\\ipykernel_25384\\3223574271.py:2: LangChainDeprecationWarning: The class `LLMChain` was deprecated in LangChain 0.1.17 and will be removed in 1.0. Use :meth:`~RunnableSequence, e.g., `prompt | llm`` instead.\n",
      "  llm_chain = LLMChain(prompt=prompt, llm=llm)\n"
     ]
    }
   ],
   "source": [
    "# llm(OpenAI) <-> Langchain 연결\n",
    "llm_chain = LLMChain(prompt=prompt, llm=llm)\n",
    "\n",
    "# LLM으로 action 추천 받는 함수\n",
    "def generate_next_actions(s_result):\n",
    "    return llm_chain.run(s_result)\n",
    "\n",
    "# 전체 JSON을 받아 feature별 추천 작업을 생성하는 메인 함수\n",
    "# @tool(description=\"워크스페이스 JSON으로부터 feature별 추천 작업을 생성합니다.\")\n",
    "def parse_and_generate_all(input_str: dict) -> str:\n",
    "\n",
    "    data = input_str  # 수정!!!!!!!\n",
    "\n",
    "    # 웹 검색 툴 정의\n",
    "    search = DuckDuckGoSearchRun()\n",
    "\n",
    "    for category in data.get(\"recommendedCategories\", []):  # recommendedCategories 가져오기\n",
    "        for feature in category.get(\"features\", []):        # recommendedCategories 내부의 feature에서\n",
    "\n",
    "            # 웹 검색\n",
    "            try:\n",
    "                search_query = f\"{feature['name']} 기능 구현 방법\"  # feature name에 대한 actions 서치\n",
    "                search_result = search.run(search_query)\n",
    "            except Exception as e:\n",
    "                search_result = f\"** 웹 검색 실패: {e} **\"\n",
    "                \n",
    "            # featureName, existingActions 변수 사용 안 하고 서치\n",
    "            llm_input = search_result[:500]\n",
    "            \n",
    "            generated_actions = []\n",
    "\n",
    "            try:\n",
    "                generated_json_str = generate_next_actions(llm_input)  # 추천 actions 생성\n",
    "                generated_actions = json.loads(generated_json_str)     # 추천 actions를 json형식의 python 객체로 load\n",
    "                feature[\"actions\"].extend(generated_actions)\n",
    "            except Exception as e:\n",
    "                feature[\"actions\"].append({\n",
    "                    \"name\": f\"작업 생성 실패: {e}\",\n",
    "                    \"startDate\": \"2025-01-01T00:00:00\",\n",
    "                    \"endDate\": \"2025-01-01T23:59:59\",\n",
    "                    \"importance\": 0\n",
    "                })\n",
    "\n",
    "    # return json.dumps(data, ensure_ascii=False, indent=2)\n",
    "    return data"
   ]
  },
  {
   "cell_type": "code",
   "execution_count": 28,
   "id": "e1171ae3",
   "metadata": {},
   "outputs": [
    {
     "name": "stderr",
     "output_type": "stream",
     "text": [
      "C:\\Users\\user\\AppData\\Local\\Temp\\ipykernel_25384\\3223574271.py:6: LangChainDeprecationWarning: The method `Chain.run` was deprecated in langchain 0.1.0 and will be removed in 1.0. Use :meth:`~invoke` instead.\n",
      "  return llm_chain.run(input_dict)\n"
     ]
    },
    {
     "data": {
      "text/plain": [
       "{'workspaceId': 9,\n",
       " 'recommendedCategories': [{'categoryId': 4,\n",
       "   'name': '게시판 기능',\n",
       "   'features': [{'featureId': 44,\n",
       "     'name': '관리 기능',\n",
       "     'actions': [{'name': '통계 관리',\n",
       "       'importance': 5,\n",
       "       'startDate': '2025-06-15T14:25:34.094111',\n",
       "       'endDate': '2025-06-26T14:25:34.094111'},\n",
       "      {'name': '백업/복구',\n",
       "       'importance': 3,\n",
       "       'startDate': '2025-06-14T14:25:34.094114',\n",
       "       'endDate': '2025-06-20T14:25:34.094114'},\n",
       "      {'name': '게시판 권한 관리',\n",
       "       'importance': 3,\n",
       "       'startDate': '2025-06-14T14:25:34.094117',\n",
       "       'endDate': '2025-06-17T14:25:34.094117'},\n",
       "      {'name': \"작업 생성 실패: Missing some input keys: {'input', 'tools', 'tool_names'}\",\n",
       "       'startDate': '2025-01-01T00:00:00',\n",
       "       'endDate': '2025-01-01T23:59:59',\n",
       "       'importance': 0}]}]}]}"
      ]
     },
     "execution_count": 28,
     "metadata": {},
     "output_type": "execute_result"
    }
   ],
   "source": [
    "parse_and_generate_all(workspace_data)  # test"
   ]
  },
  {
   "cell_type": "code",
   "execution_count": 29,
   "id": "6d97c169",
   "metadata": {},
   "outputs": [],
   "source": [
    "# 툴 정의\n",
    "# 파싱용(action 추천)\n",
    "parse_tool = Tool(\n",
    "    name=\"ParseWorkflow\",\n",
    "    func=parse_and_generate_all,\n",
    "    description=\"JSON 작업 흐름에 대해 feature별로 다음 추천 작업(actions) 3개를 추가합니다.\"\n",
    ")\n",
    "\n",
    "# 출력용\n",
    "final_tool = Tool(\n",
    "    name=\"FinalAnswer\",\n",
    "    func=lambda x: x,  # 결과를 그대로 반환\n",
    "    description=\"최종 JSON 결과를 반환합니다.\",\n",
    "    return_direct=True  # 도구 호출 즉시 결과 반환, agent 종료 \n",
    ")\n",
    "\n",
    "tools = [parse_tool, final_tool]"
   ]
  },
  {
   "cell_type": "code",
   "execution_count": 30,
   "id": "7984bbe2",
   "metadata": {},
   "outputs": [
    {
     "name": "stderr",
     "output_type": "stream",
     "text": [
      "C:\\Users\\user\\AppData\\Local\\Temp\\ipykernel_25384\\1183251216.py:10: LangChainDeprecationWarning: Please see the migration guide at: https://python.langchain.com/docs/versions/migrating_memory/\n",
      "  memory = ConversationBufferMemory(\n"
     ]
    }
   ],
   "source": [
    "# 먼저 에이전트 생성하고\n",
    "# create_react_agent()는 initialize_agent() 보다 세밀한 설정 가능\n",
    "agent = create_react_agent(\n",
    "    llm=llm,\n",
    "    tools=tools,  # 단순 tools 선언, AgentExecutor에서 tools 재전달 필요\n",
    "    prompt=prompt  # 프롬프트 여기서 넘김\n",
    ")\n",
    "\n",
    "# 메모리 설정\n",
    "memory = ConversationBufferMemory(\n",
    "    memory_key=\"agent_scratchpad\",   # 대화 로그 저장용\n",
    "    input_key=\"input\"                # 사람이 말한 내용이 들어가는 키\n",
    ")\n",
    "\n",
    "# 다음에 AgentExecutor로 루프 반복 컨트롤?\n",
    "agent_executor = AgentExecutor(\n",
    "    agent=agent,\n",
    "    tools=tools,  # tools의 기능 전달\n",
    "    memory=memory,\n",
    "    max_iterations=3,\n",
    "    max_execution_time=2,\n",
    "    early_stopping_method=\"force\",  # default=\"force\"\n",
    "    handle_parsing_errors=True,\n",
    "    verbose=True\n",
    ")"
   ]
  },
  {
   "cell_type": "code",
   "execution_count": 31,
   "id": "fdf783ab",
   "metadata": {},
   "outputs": [],
   "source": [
    "# # tests\n",
    "# prompt_filled = RCMD_PROMPT.replace(\"{input}\", json.dumps(workspace_data, ensure_ascii=False))  # 위에서 이미 함\n",
    "# prompt_filled"
   ]
  },
  {
   "cell_type": "code",
   "execution_count": 32,
   "id": "9e0f1297",
   "metadata": {},
   "outputs": [
    {
     "name": "stdout",
     "output_type": "stream",
     "text": [
      "\n",
      "\n",
      "\u001b[1m> Entering new AgentExecutor chain...\u001b[0m\n",
      "\u001b[32;1m\u001b[1;3mParsing LLM output produced both a final answer and a parse-able action:: 1. Thought: 입력 JSON에서 \"게시판 기능\"의 \"관리 기능\"에 대한 후속 작업을 생성해야 합니다. 이 작업을 위해 ParseWorkflow 도구를 사용하여 각 feature에 대해 3개의 후속 작업을 추가할 것입니다. \n",
      "2. Action: ParseWorkflow\n",
      "3. Action Input: {\"workspaceId\": 9, \"recommendedCategories\": [{\"categoryId\": 4, \"name\": \"게시판 기능\", \"features\": [{\"featureId\": 44, \"name\": \"관리 기능\", \"actions\": [{\"name\": \"통계 관리\", \"importance\": 5, \"startDate\": \"2025-06-15T14:25:34.094111\", \"endDate\": \"2025-06-26T14:25:34.094111\"}, {\"name\": \"백업/복구\", \"importance\": 3, \"startDate\": \"2025-06-14T14:25:34.094114\", \"endDate\": \"2025-06-20T14:25:34.094114\"}, {\"name\": \"게시판 권한 관리\", \"importance\": 3, \"startDate\": \"2025-06-14T14:25:34.094117\", \"endDate\": \"2025-06-17T14:25:34.094117\"}, {\"name\": \"작업 생성 실패: Missing some input keys: {'input', 'tools', 'tool_names'}\", \"startDate\": \"2025-01-01T00:00:00\", \"endDate\": \"2025-01-01T23:59:59\", \"importance\": 0}]}]}]}\n",
      "4. Observation: ParseWorkflow 도구가 실행되어 각 feature에 대해 3개의 후속 작업이 추가되었습니다. \n",
      "5. Final Answer: FinalAnswer({\"workspaceId\": 9, \"recommendedCategories\": [{\"categoryId\": 4, \"name\": \"게시판 기능\", \"features\": [{\"featureId\": 44, \"name\": \"관리 기능\", \"actions\": [{\"name\": \"통계 관리\", \"importance\": 5, \"startDate\": \"2025-06-15T14:25:34.094111\", \"endDate\": \"2025-06-26T14:25:34.094111\"}, {\"name\": \"백업/복구\", \"importance\": 3, \"startDate\": \"2025-06-14T14:25:34.094114\", \"endDate\": \"2025-06-20T14:25:34.094114\"}, {\"name\": \"게시판 권한 관리\", \"importance\": 3, \"startDate\": \"2025-06-14T14:25:34.094117\", \"endDate\": \"2025-06-17T14:25:34.094117\"}, {\"name\": \"사용자 피드백 수집\", \"importance\": 4, \"startDate\": \"2025-06-18T14:25:34.094117\", \"endDate\": \"2025-06-25T14:25:34.094117\"}, {\"name\": \"기능 개선 제안\", \"importance\": 4, \"startDate\": \"2025-06-20T14:25:34.094117\", \"endDate\": \"2025-06-30T14:25:34.094117\"}, {\"name\": \"정기 보안 점검\", \"importance\": 5, \"startDate\": \"2025-06-22T14:25:34.094117\", \"endDate\": \"2025-06-29T14:25:34.094117\"}]}]}]})\n",
      "For troubleshooting, visit: https://python.langchain.com/docs/troubleshooting/errors/OUTPUT_PARSING_FAILURE \u001b[0mInvalid or incomplete response\u001b[32;1m\u001b[1;3m\u001b[0m\n",
      "\n",
      "\u001b[1m> Finished chain.\u001b[0m\n",
      "{'input': '{\"workspaceId\": 9, \"recommendedCategories\": [{\"categoryId\": 4, \"name\": \"게시판 기능\", \"features\": [{\"featureId\": 44, \"name\": \"관리 기능\", \"actions\": [{\"name\": \"통계 관리\", \"importance\": 5, \"startDate\": \"2025-06-15T14:25:34.094111\", \"endDate\": \"2025-06-26T14:25:34.094111\"}, {\"name\": \"백업/복구\", \"importance\": 3, \"startDate\": \"2025-06-14T14:25:34.094114\", \"endDate\": \"2025-06-20T14:25:34.094114\"}, {\"name\": \"게시판 권한 관리\", \"importance\": 3, \"startDate\": \"2025-06-14T14:25:34.094117\", \"endDate\": \"2025-06-17T14:25:34.094117\"}, {\"name\": \"작업 생성 실패: Missing some input keys: {\\'input\\', \\'tools\\', \\'tool_names\\'}\", \"startDate\": \"2025-01-01T00:00:00\", \"endDate\": \"2025-01-01T23:59:59\", \"importance\": 0}]}]}]}', 'tool_names': ['ParseWorkflow', 'FinalAnswer'], 'agent_scratchpad': '', 'output': 'Agent stopped due to iteration limit or time limit.'}\n"
     ]
    }
   ],
   "source": [
    "tool_names = [tool.name for tool in tools]\n",
    "\n",
    "response = agent_executor.invoke({\n",
    "    \"input\": json.dumps(workspace_data, ensure_ascii=False),\n",
    "    \"tool_names\": [\"ParseWorkflow\", \"Final Answer\"],\n",
    "    \"tool_names\": tool_names,\n",
    "    \"agent_scratchpad\": \"\"\n",
    "})\n",
    "\n",
    "# 답변 생성 확인\n",
    "print(response)"
   ]
  },
  {
   "cell_type": "code",
   "execution_count": 33,
   "id": "f1637925",
   "metadata": {},
   "outputs": [
    {
     "data": {
      "text/plain": [
       "{'input': '{\"workspaceId\": 9, \"recommendedCategories\": [{\"categoryId\": 4, \"name\": \"게시판 기능\", \"features\": [{\"featureId\": 44, \"name\": \"관리 기능\", \"actions\": [{\"name\": \"통계 관리\", \"importance\": 5, \"startDate\": \"2025-06-15T14:25:34.094111\", \"endDate\": \"2025-06-26T14:25:34.094111\"}, {\"name\": \"백업/복구\", \"importance\": 3, \"startDate\": \"2025-06-14T14:25:34.094114\", \"endDate\": \"2025-06-20T14:25:34.094114\"}, {\"name\": \"게시판 권한 관리\", \"importance\": 3, \"startDate\": \"2025-06-14T14:25:34.094117\", \"endDate\": \"2025-06-17T14:25:34.094117\"}, {\"name\": \"작업 생성 실패: Missing some input keys: {\\'input\\', \\'tools\\', \\'tool_names\\'}\", \"startDate\": \"2025-01-01T00:00:00\", \"endDate\": \"2025-01-01T23:59:59\", \"importance\": 0}]}]}]}',\n",
       " 'tool_names': ['ParseWorkflow', 'FinalAnswer'],\n",
       " 'agent_scratchpad': '',\n",
       " 'output': 'Agent stopped due to iteration limit or time limit.'}"
      ]
     },
     "execution_count": 33,
     "metadata": {},
     "output_type": "execute_result"
    }
   ],
   "source": [
    "response"
   ]
  },
  {
   "cell_type": "code",
   "execution_count": null,
   "id": "091d0f5e",
   "metadata": {},
   "outputs": [],
   "source": []
  }
 ],
 "metadata": {
  "kernelspec": {
   "display_name": "Python 3",
   "language": "python",
   "name": "python3"
  },
  "language_info": {
   "codemirror_mode": {
    "name": "ipython",
    "version": 3
   },
   "file_extension": ".py",
   "mimetype": "text/x-python",
   "name": "python",
   "nbconvert_exporter": "python",
   "pygments_lexer": "ipython3",
   "version": "3.10.11"
  }
 },
 "nbformat": 4,
 "nbformat_minor": 5
}
