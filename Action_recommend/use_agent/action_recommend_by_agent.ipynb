{
 "cells": [
  {
   "cell_type": "code",
   "execution_count": 689,
   "id": "3331a0a0",
   "metadata": {},
   "outputs": [
    {
     "name": "stdout",
     "output_type": "stream",
     "text": [
      "Note: you may need to restart the kernel to use updated packages.\n"
     ]
    }
   ],
   "source": [
    "%pip freeze > requirements.txt\n",
    "# %pip install -r requirements.txt"
   ]
  },
  {
   "cell_type": "code",
   "execution_count": 690,
   "id": "f620dd81",
   "metadata": {},
   "outputs": [],
   "source": [
    "# from langchain.agents import AgentType\n",
    "from langchain.agents import Tool\n",
    "from langchain_core.tools import ToolException\n",
    "# from langchain.tools import tool\n",
    "from langchain.chains import LLMChain\n",
    "from langchain.prompts import PromptTemplate\n",
    "from langchain_openai import ChatOpenAI\n",
    "from langchain.agents import AgentExecutor, create_react_agent\n",
    "from langchain.memory import ConversationBufferMemory\n",
    "from langchain_community.utilities import SerpAPIWrapper\n",
    "# from jinja2 import Template\n",
    "\n",
    "from dotenv import load_dotenv\n",
    "import json\n",
    "import os\n",
    "# import re\n",
    "import json\n",
    "import random"
   ]
  },
  {
   "cell_type": "code",
   "execution_count": 691,
   "id": "34f4bb8a",
   "metadata": {},
   "outputs": [],
   "source": [
    "load_dotenv()\n",
    "openai_api_key = os.getenv(\"OPENAI_API_KEY\")"
   ]
  },
  {
   "cell_type": "code",
   "execution_count": 692,
   "id": "d5125066",
   "metadata": {},
   "outputs": [],
   "source": [
    "JSON_FILE_PATH = \"..\\\\use_openai\\\\data\\\\id_added_dummy_data.json\"\n",
    "RCMD_PROMPT_PATH = \"..\\\\prompts\\\\action_recommend.md\"\n",
    "FEATURE_ID_PATH = \"featureId.txt\""
   ]
  },
  {
   "cell_type": "code",
   "execution_count": 693,
   "id": "87ee998d",
   "metadata": {},
   "outputs": [
    {
     "name": "stdout",
     "output_type": "stream",
     "text": [
      "<class 'list'>\n",
      "['26', '93', '36', '50', '16', '30', '63', '91', '99', '52', '94', '55', '13', '61', '14', '71', '35', '50', '52', '49', '91', '19', '79', '12', '70', '48', '48', '76', '53', '5', '88', '54', '98', '45', '61', '14', '93', '7', '58', '22', '86', '9', '59', '72', '52', '98', '67', '20', '31', '76', '62', '80', '45', '85', '67', '100', '80', '37', '11', '78', '96', '39', '65', '36', '49', '44', '42', '75', '28', '86', '43', '96', '57', '1', '39', '10', '67', '22', '54', '81', '11', '63', '55', '4', '75', '77', '95', '52', '42', '68', '24', '95', '26', '13', '43', '94', '64', '93', '87', '24', '91', '100', '11', '72', '49', '69', '37', '62', '72', '49', '3', '24', '3', '13', '93', '41', '9', '72', '38', '28', '45', '81', '15', '58', '75', '88', '23', '40', '12', '93', '62', '86', '6', '48', '45', '4', '91', '14', '89', '59', '81', '99', '35', '87', '88', '80', '56', '74', '4', '87', '79', '38', '95', '84', '91', '8', '78', '24', '77', '30', '79', '11', '21', '10', '30', '6', '92', '47', '43', '3', '92', '27', '31', '87', '97', '98', '63', '63', '53', '85', '1', '42', '7', '35', '42', '84', '6', '36', '6', '30', '30', '77', '74', '55', '8', '90', '22', '37', '72', '99', '92', '78', '90', '64', '37', '31', '72', '76', '13', '9', '92', '97', '42', '87', '92', '90', '65', '88', '9', '89', '82', '52', '67', '71', '79', '35', '10', '37', '77', '14', '45', '49', '97', '98', '60', '2', '41', '21', '65', '12', '20', '31', '82', '13', '96', '18', '49', '62', '81', '80', '87', '67', '66', '97', '73', '11', '34', '12', '72', '36', '78', '97', '18', '36', '7', '11', '25', '82', '24', '63', '59', '75', '85', '19', '43', '9', '65', '19', '65', '39', '95', '99', '78', '57', '32', '92', '100', '10', '69', '71', '55', '64', '65', '14', '55', '1', '60', '96', '57', '76', '46', '78', '53', '26', '14', '56', '18', '5', '59', '3', '22', '93', '68', '52', '32', '56', '44', '55', '8', '40', '69', '72', '7', '94', '38', '83', '86', '66', '15', '37', '26', '77', '64', '94', '11', '30', '74', '28', '73', '85', '6', '77', '99', '10', '46', '70', '64', '85', '12', '67', '35', '72', '9', '14', '20', '25', '79', '28', '43', '49', '63', '36', '80', '88', '30', '8', '50', '79', '52', '89', '95', '94', '5', '30', '80', '38', '60', '77', '15', '18', '52', '4', '70', '72', '49', '26', '39', '62', '74', '22', '42', '18', '99', '2', '34', '77', '87', '66', '58', '41', '37', '30', '21', '49', '55', '51']\n"
     ]
    }
   ],
   "source": [
    "# Read prompt\n",
    "with open(RCMD_PROMPT_PATH, \"r\", encoding=\"utf-8\", errors=\"replace\") as f:\n",
    "    RCMD_PROMPT = f.read()\n",
    "\n",
    "# Read json data\n",
    "with open(JSON_FILE_PATH, 'r', encoding='utf-8') as f:\n",
    "    json_data = json.load(f)\n",
    "    print(type(json_data))  # (test) <class 'list'>\n",
    "\n",
    "# Read featureId keys\n",
    "with open(FEATURE_ID_PATH, \"r\", encoding=\"utf-8\") as f:\n",
    "    lines = f.readlines()\n",
    "    feature_id_list = [line.strip() for line in lines]\n",
    "    print(feature_id_list)  # test"
   ]
  },
  {
   "cell_type": "code",
   "execution_count": 694,
   "id": "1fbd79b0",
   "metadata": {},
   "outputs": [
    {
     "name": "stdout",
     "output_type": "stream",
     "text": [
      "24 <class 'int'>\n"
     ]
    }
   ],
   "source": [
    "# test\n",
    "FEATURE_ID = int(random.choice(feature_id_list))\n",
    "print(FEATURE_ID, type(FEATURE_ID))"
   ]
  },
  {
   "cell_type": "code",
   "execution_count": 695,
   "id": "ffa06933",
   "metadata": {},
   "outputs": [
    {
     "name": "stdout",
     "output_type": "stream",
     "text": [
      "<class 'dict'>\n",
      "{\n",
      "  \"workspaceId\": 15,\n",
      "  \"recommendedCategories\": [\n",
      "    {\n",
      "      \"categoryId\": 4,\n",
      "      \"name\": \"게시판 기능\",\n",
      "      \"features\": [\n",
      "        {\n",
      "          \"featureId\": 47,\n",
      "          \"name\": \"관리 기능\",\n",
      "          \"actions\": [\n",
      "            {\n",
      "              \"name\": \"백업/복구\",\n",
      "              \"importance\": 2,\n",
      "              \"startDate\": \"2025-06-19T14:25:34.095379\",\n",
      "              \"endDate\": \"2025-07-03T14:25:34.095379\"\n",
      "            },\n",
      "            {\n",
      "              \"name\": \"스팸 필터링\",\n",
      "              \"importance\": 3,\n",
      "              \"startDate\": \"2025-06-17T14:25:34.095382\",\n",
      "              \"endDate\": \"2025-07-01T14:25:34.095382\"\n",
      "            }\n",
      "          ]\n",
      "        }\n",
      "      ]\n",
      "    }\n",
      "  ]\n",
      "}\n"
     ]
    }
   ],
   "source": [
    "# featureId로 해당 category, feature 이하의 actions만 추출\n",
    "FEATURE_ID = int(random.choice(feature_id_list))\n",
    "\n",
    "def extract_workspace_view(input_data, id):\n",
    "    # featureId로 작업목록 + workspaceId 가져오기\n",
    "    for item in input_data:\n",
    "        for category in item.get(\"recommendedCategories\", []):\n",
    "            for feature in category.get(\"features\", []):\n",
    "                if feature.get(\"featureId\") == id:\n",
    "                    return {\n",
    "                        \"workspaceId\": item[\"workspaceId\"],\n",
    "                        \"recommendedCategories\": [\n",
    "                            {\n",
    "                                \"categoryId\": category[\"categoryId\"],\n",
    "                                \"name\": category[\"name\"],\n",
    "                                \"features\": [feature]\n",
    "                            }\n",
    "                        ]\n",
    "                    }\n",
    "\n",
    "# featureId로 읽어온 actions\n",
    "workspace_data = extract_workspace_view(json_data, FEATURE_ID)\n",
    "\n",
    "if workspace_data:\n",
    "    print(type(workspace_data))  # <class 'dict'>\n",
    "    print(json.dumps(workspace_data, ensure_ascii=False, indent=2))\n",
    "else:\n",
    "    print(\"해당 featureId를 찾을 수 없습니다.\")"
   ]
  },
  {
   "cell_type": "code",
   "execution_count": 696,
   "id": "449a2ef2",
   "metadata": {},
   "outputs": [],
   "source": [
    "# # featureId로 읽어온 actions\n",
    "# workspace_data = extract_workspace_view(json_data, FEATURE_ID)\n",
    "\n",
    "# # Jinja2 template 객체 생성. 템플릿 구조상(복잡, dict 생성이 필요) 변수 렌더링 필요.\n",
    "# template = Template(RCMD_PROMPT)\n",
    "\n",
    "# # 템플릿&작업목록 데이터 결합. jinja2 방식 템플릿 렌더링.\n",
    "# # template 내 변수({})들을 실제값으로 치환 -> 문자열 생성\n",
    "# formatted_input = template.render(ws_data=workspace_data)  # JSON 내 필드만 하나씩 꺼내서 출력\n",
    "# formatted_input = template.render(ws_data=json.dumps(workspace_data, ensure_ascii=False))   #  JSON 전체를 문자열로 템플릿에 삽입\n",
    "\n",
    "# print(formatted_input)  # test\n",
    "# print(type(formatted_input))"
   ]
  },
  {
   "cell_type": "code",
   "execution_count": 697,
   "id": "560cfff8",
   "metadata": {},
   "outputs": [
    {
     "name": "stdout",
     "output_type": "stream",
     "text": [
      "<class 'str'>\n",
      "{\"workspaceId\": 15, \"recommendedCategories\": [{\"categoryId\": 4, \"name\": \"게시판 기능\", \"features\": [{\"featureId\": 47, \"name\": \"관리 기능\", \"actions\": [{\"name\": \"백업/복구\", \"importance\": 2, \"startDate\": \"2025-06-19T14:25:34.095379\", \"endDate\": \"2025-07-03T14:25:34.095379\"}, {\"name\": \"스팸 필터링\", \"importance\": 3, \"startDate\": \"2025-06-17T14:25:34.095382\", \"endDate\": \"2025-07-01T14:25:34.095382\"}]}]}]}\n"
     ]
    }
   ],
   "source": [
    "# test\n",
    "# search = DuckDuckGoSearchRun()\n",
    "search = SerpAPIWrapper()\n",
    "dump_data = json.dumps(workspace_data, ensure_ascii=False)  # dict -> str\n",
    "# pattern = r'({[\\s\\S]*})'\n",
    "# match = re.search(pattern, dump_data, re.DOTALL)\n",
    "# json_block = match.group(0)\n",
    "print(type(dump_data))\n",
    "print(dump_data)"
   ]
  },
  {
   "cell_type": "code",
   "execution_count": 698,
   "id": "db9b83f1",
   "metadata": {},
   "outputs": [],
   "source": [
    "# OpenAI 객체 초기화\n",
    "llm = ChatOpenAI(\n",
    "    model=\"gpt-4o-mini\",\n",
    "    temperature=0.3,\n",
    "    max_tokens=1024,\n",
    "    openai_api_key=openai_api_key\n",
    ")"
   ]
  },
  {
   "cell_type": "code",
   "execution_count": 699,
   "id": "a5df17fe",
   "metadata": {},
   "outputs": [
    {
     "data": {
      "text/plain": [
       "'당신은 JSON 기반의 워크스페이스 작업 흐름을 분석하여, 각 기능(feature)에 대해 적절한 후속 작업(action)을 제안하는 전문가입니다.\\n\\n당신의 임무는 다음과 같습니다:\\n\\n1. 입력으로 주어진 JSON에서 workspaceId, category, feature, action 구조를 파악하고,\\n2. 각 feature에 대해 3개의 후속 작업(action)을 생성하며,\\n3. 이 결과를 지정된 형식의 JSON으로 반환하는 것입니다.\\n\\n---\\n\\n입력 정보:\\n\\n- 입력 JSON: {input}\\n- 사용 가능한 도구 목록: {tools}\\n- 사용 가능한 도구 이름: {tool_names}\\n- 이전 실행 이력: {agent_scratchpad}\\n\\n---\\n\\n아래의 ReAct 형식 규칙을 반드시 따르십시오. 하나라도 어기면 시스템이 응답을 인식하지 못하고 실패합니다.\\n\\nReAct 실행 구조:\\n\\n- Thought: 현재 해야 할 판단과 적절한 도구 선택 이유를 서술하십시오.\\n- Action: 사용할 도구의 이름을 정확히 명시하십시오 (예: Action: ParseWorkflow). 반드시 tool_names에 있는 이름과 일치해야 하며, 대소문자도 구분됩니다.\\n- Action Input: 선택한 도구에 전달할 입력 데이터를 JSON 형식으로 작성하십시오.\\n   - 반드시 기존 actions 리스트는 유지하지 말고, 새롭게 생성한 actions 리스트로 완전히 덮어써야 합니다.\\n   - 즉, feature[\"actions\"] = 새로 생성된 리스트 방식으로 덮어쓰기 하십시오. 기존 action을 보존하거나 추가하지 마십시오.\\n- Observation: 도구 실행 결과를 간단히 요약하십시오.\\n- Final Answer: FinalAnswer 도구를 호출하려면 반드시 다음 형식을 따르십시오.\\n    Final Answer: {{\\n        \"workspaceId\": 1,\\n        \"recommendedCategories\": [\\n            ...\\n        ]\\n    }}\\n\\n---\\n\\n실행 순서:\\n\\n1. ParseWorkflow 도구를 먼저 실행하여 각 기능에 대해 3개의 후속 작업을 생성하십시오.\\n2. ParseWorkflow 실행 후 반드시 FinalAnswer 도구를 호출하여 최종 JSON 결과를 반환하십시오.\\n'"
      ]
     },
     "execution_count": 699,
     "metadata": {},
     "output_type": "execute_result"
    }
   ],
   "source": [
    "RCMD_PROMPT"
   ]
  },
  {
   "cell_type": "code",
   "execution_count": 700,
   "id": "5a1c5b66",
   "metadata": {},
   "outputs": [],
   "source": [
    "# template"
   ]
  },
  {
   "cell_type": "code",
   "execution_count": 701,
   "id": "e5980fa1",
   "metadata": {},
   "outputs": [],
   "source": [
    "# ReAct template 생성\n",
    "prompt = PromptTemplate(\n",
    "    input_variables=[\"input\", \"tools\", \"tool_names\", \"agent_scratchpad\"],\n",
    "    template=RCMD_PROMPT\n",
    "    # template=template\n",
    ")"
   ]
  },
  {
   "cell_type": "code",
   "execution_count": 702,
   "id": "401ef285",
   "metadata": {},
   "outputs": [],
   "source": [
    "# llm(OpenAI) <-> Langchain 연결\n",
    "llm_chain = LLMChain(prompt=prompt, llm=llm)\n",
    "\n",
    "# LLM으로 action 추천 받는 함수\n",
    "def generate_next_actions(s_result):\n",
    "    return llm_chain.run({\n",
    "        \"input\": s_result,\n",
    "        \"tools\": \"ParseWorkflow, FinalAnswer\",\n",
    "        \"tool_names\": \"ParseWorkflow, FinalAnswer\",\n",
    "        \"agent_scratchpad\": \"\"\n",
    "        })\n",
    "\n",
    "# 전체 JSON을 받아 feature별 추천 작업을 생성하는 메인 함수\n",
    "# @tool(description=\"워크스페이스 JSON으로부터 feature별 추천 작업을 생성합니다.\")\n",
    "def parse_and_generate_all(input_str: dict) -> str:\n",
    "\n",
    "    # json_data = input_str  # 원본 데이터 보호용\n",
    "    if isinstance(input_str, str):\n",
    "        json_data = json.loads(input_str)\n",
    "    else: json_data = input_str\n",
    "\n",
    "    # 웹 검색 툴 정의\n",
    "    search = SerpAPIWrapper()\n",
    "\n",
    "    for category in json_data.get(\"recommendedCategories\", []):  # recommendedCategories 가져오기\n",
    "        for feature in category.get(\"features\", []):        # recommendedCategories 내부의 feature에서\n",
    "\n",
    "            # 웹 검색\n",
    "            try:\n",
    "                search_query = f\"{feature['name']} 기능 구현 방법\"  # feature name에 대한 actions 서치\n",
    "                search_result = search.run(search_query)\n",
    "            except Exception as e:\n",
    "                search_result = f\"** 웹 검색 실패: {e} **\"\n",
    "                \n",
    "            # featureName, existingActions 변수 사용 안 하고 서치\n",
    "            llm_input = search_result[:500]\n",
    "            \n",
    "            generated_actions = []\n",
    "\n",
    "            # LLM 사용\n",
    "            try:\n",
    "                generated_json_str = generate_next_actions(llm_input)  # 추천 actions 생성\n",
    "                generated_actions = json.loads(generated_json_str)     # 추천 actions를 json형식의 python 객체로 load\n",
    "                # generated_actions = feature[\"actions\"].extend(generated_actions)\n",
    "                # feature[\"actions\"] = generated_actions.copy()  # 덮어쓰기 방식\n",
    "\n",
    "                # 생성된 action 리스트가 올바른 구조인지 검증\n",
    "                if isinstance(generated_actions, list) and all(\"name\" in a for a in generated_actions):\n",
    "                    feature[\"actions\"] = generated_actions.copy()\n",
    "\n",
    "            except Exception as e:\n",
    "                raise ToolException(f\"ParseWorkflow 실행 중 오류 발생: {str(e)}\")\n",
    "\n",
    "    # return json.dumps(data, ensure_ascii=False, indent=2)\n",
    "    return json_data"
   ]
  },
  {
   "cell_type": "code",
   "execution_count": 703,
   "id": "e1171ae3",
   "metadata": {},
   "outputs": [],
   "source": [
    "# parse_and_generate_all(workspace_data)  # test"
   ]
  },
  {
   "cell_type": "code",
   "execution_count": 704,
   "id": "6d97c169",
   "metadata": {},
   "outputs": [],
   "source": [
    "# 툴 정의\n",
    "# 파싱용(action 추천)\n",
    "parse_tool = Tool(\n",
    "    name=\"ParseWorkflow\",\n",
    "    func=parse_and_generate_all,\n",
    "    description=\"JSON 작업 흐름에 대해 feature별로 다음 추천 작업(actions) 3개를 추가합니다.\"\n",
    ")\n",
    "\n",
    "# 출력용\n",
    "final_tool = Tool(\n",
    "    name=\"FinalAnswer\",\n",
    "    func=lambda x: x,  # 결과를 그대로 반환\n",
    "    description=\"최종 JSON 결과를 반환합니다.\",\n",
    "    return_direct=True  # 도구 호출 즉시 결과 반환, agent 종료 \n",
    ")\n",
    "\n",
    "tools = [parse_tool, final_tool]\n",
    "tool_names = [tool.name for tool in tools]"
   ]
  },
  {
   "cell_type": "code",
   "execution_count": 705,
   "id": "7984bbe2",
   "metadata": {},
   "outputs": [],
   "source": [
    "# 먼저 에이전트 생성하고\n",
    "# create_react_agent()는 initialize_agent() 보다 세밀한 설정 가능\n",
    "agent = create_react_agent(\n",
    "    llm=llm,\n",
    "    tools=tools,  # 단순 tools 선언, AgentExecutor에서 tools 재전달 필요\n",
    "    prompt=prompt  # 프롬프트 여기서 넘김\n",
    ")\n",
    "\n",
    "# 메모리 설정\n",
    "memory = ConversationBufferMemory(\n",
    "    memory_key=\"agent_scratchpad\",   # 대화 로그 저장용\n",
    "    input_key=\"input\"                # 사람이 말한 내용이 들어가는 키\n",
    ")\n",
    "\n",
    "# 다음에 AgentExecutor로 루프 반복 컨트롤?\n",
    "agent_executor = AgentExecutor(\n",
    "    agent=agent,\n",
    "    tools=tools,  # tools의 기능 전달\n",
    "    # memory=memory,\n",
    "    max_iterations=2,\n",
    "    # max_execution_time=5,\n",
    "    early_stopping_method=\"force\",  # default=\"force\"\n",
    "    return_intermediate_steps=True,  # 중간 thought/action 추적\n",
    "    handle_parsing_errors=True,\n",
    "    verbose=True\n",
    ")"
   ]
  },
  {
   "cell_type": "code",
   "execution_count": 706,
   "id": "fdf783ab",
   "metadata": {},
   "outputs": [],
   "source": [
    "# # tests\n",
    "# prompt_filled = RCMD_PROMPT.replace(\"{input}\", json.dumps(workspace_data, ensure_ascii=False))  # 위에서 이미 함\n",
    "# prompt_filled"
   ]
  },
  {
   "cell_type": "code",
   "execution_count": 707,
   "id": "9e0f1297",
   "metadata": {},
   "outputs": [
    {
     "name": "stdout",
     "output_type": "stream",
     "text": [
      "\n",
      "\n",
      "\u001b[1m> Entering new AgentExecutor chain...\u001b[0m\n",
      "\u001b[32;1m\u001b[1;3mThought: 주어진 JSON에서 각 feature에 대해 3개의 후속 작업을 생성해야 합니다. 이를 위해 ParseWorkflow 도구를 사용하여 새로운 actions 리스트를 생성하겠습니다. \n",
      "\n",
      "Action: ParseWorkflow  \n",
      "Action Input: {\n",
      "    \"workspaceId\": 15,\n",
      "    \"recommendedCategories\": [\n",
      "        {\n",
      "            \"categoryId\": 4,\n",
      "            \"name\": \"게시판 기능\",\n",
      "            \"features\": [\n",
      "                {\n",
      "                    \"featureId\": 47,\n",
      "                    \"name\": \"관리 기능\",\n",
      "                    \"actions\": []\n",
      "                }\n",
      "            ]\n",
      "        }\n",
      "    ]\n",
      "}  \n",
      "\u001b[0m"
     ]
    },
    {
     "ename": "ToolException",
     "evalue": "ParseWorkflow 실행 중 오류 발생: Expecting value: line 1 column 1 (char 0)",
     "output_type": "error",
     "traceback": [
      "\u001b[1;31m---------------------------------------------------------------------------\u001b[0m",
      "\u001b[1;31mJSONDecodeError\u001b[0m                           Traceback (most recent call last)",
      "Cell \u001b[1;32mIn[702], line 43\u001b[0m, in \u001b[0;36mparse_and_generate_all\u001b[1;34m(input_str)\u001b[0m\n\u001b[0;32m     42\u001b[0m generated_json_str \u001b[38;5;241m=\u001b[39m generate_next_actions(llm_input)  \u001b[38;5;66;03m# 추천 actions 생성\u001b[39;00m\n\u001b[1;32m---> 43\u001b[0m generated_actions \u001b[38;5;241m=\u001b[39m \u001b[43mjson\u001b[49m\u001b[38;5;241;43m.\u001b[39;49m\u001b[43mloads\u001b[49m\u001b[43m(\u001b[49m\u001b[43mgenerated_json_str\u001b[49m\u001b[43m)\u001b[49m     \u001b[38;5;66;03m# 추천 actions를 json형식의 python 객체로 load\u001b[39;00m\n\u001b[0;32m     44\u001b[0m \u001b[38;5;66;03m# generated_actions = feature[\"actions\"].extend(generated_actions)\u001b[39;00m\n\u001b[0;32m     45\u001b[0m \u001b[38;5;66;03m# feature[\"actions\"] = generated_actions.copy()  # 덮어쓰기 방식\u001b[39;00m\n\u001b[0;32m     46\u001b[0m \n\u001b[0;32m     47\u001b[0m \u001b[38;5;66;03m# 생성된 action 리스트가 올바른 구조인지 검증\u001b[39;00m\n",
      "File \u001b[1;32m~\\AppData\\Local\\Programs\\Python\\Python310\\lib\\json\\__init__.py:346\u001b[0m, in \u001b[0;36mloads\u001b[1;34m(s, cls, object_hook, parse_float, parse_int, parse_constant, object_pairs_hook, **kw)\u001b[0m\n\u001b[0;32m    343\u001b[0m \u001b[38;5;28;01mif\u001b[39;00m (\u001b[38;5;28mcls\u001b[39m \u001b[38;5;129;01mis\u001b[39;00m \u001b[38;5;28;01mNone\u001b[39;00m \u001b[38;5;129;01mand\u001b[39;00m object_hook \u001b[38;5;129;01mis\u001b[39;00m \u001b[38;5;28;01mNone\u001b[39;00m \u001b[38;5;129;01mand\u001b[39;00m\n\u001b[0;32m    344\u001b[0m         parse_int \u001b[38;5;129;01mis\u001b[39;00m \u001b[38;5;28;01mNone\u001b[39;00m \u001b[38;5;129;01mand\u001b[39;00m parse_float \u001b[38;5;129;01mis\u001b[39;00m \u001b[38;5;28;01mNone\u001b[39;00m \u001b[38;5;129;01mand\u001b[39;00m\n\u001b[0;32m    345\u001b[0m         parse_constant \u001b[38;5;129;01mis\u001b[39;00m \u001b[38;5;28;01mNone\u001b[39;00m \u001b[38;5;129;01mand\u001b[39;00m object_pairs_hook \u001b[38;5;129;01mis\u001b[39;00m \u001b[38;5;28;01mNone\u001b[39;00m \u001b[38;5;129;01mand\u001b[39;00m \u001b[38;5;129;01mnot\u001b[39;00m kw):\n\u001b[1;32m--> 346\u001b[0m     \u001b[38;5;28;01mreturn\u001b[39;00m \u001b[43m_default_decoder\u001b[49m\u001b[38;5;241;43m.\u001b[39;49m\u001b[43mdecode\u001b[49m\u001b[43m(\u001b[49m\u001b[43ms\u001b[49m\u001b[43m)\u001b[49m\n\u001b[0;32m    347\u001b[0m \u001b[38;5;28;01mif\u001b[39;00m \u001b[38;5;28mcls\u001b[39m \u001b[38;5;129;01mis\u001b[39;00m \u001b[38;5;28;01mNone\u001b[39;00m:\n",
      "File \u001b[1;32m~\\AppData\\Local\\Programs\\Python\\Python310\\lib\\json\\decoder.py:337\u001b[0m, in \u001b[0;36mJSONDecoder.decode\u001b[1;34m(self, s, _w)\u001b[0m\n\u001b[0;32m    333\u001b[0m \u001b[38;5;250m\u001b[39m\u001b[38;5;124;03m\"\"\"Return the Python representation of ``s`` (a ``str`` instance\u001b[39;00m\n\u001b[0;32m    334\u001b[0m \u001b[38;5;124;03mcontaining a JSON document).\u001b[39;00m\n\u001b[0;32m    335\u001b[0m \n\u001b[0;32m    336\u001b[0m \u001b[38;5;124;03m\"\"\"\u001b[39;00m\n\u001b[1;32m--> 337\u001b[0m obj, end \u001b[38;5;241m=\u001b[39m \u001b[38;5;28;43mself\u001b[39;49m\u001b[38;5;241;43m.\u001b[39;49m\u001b[43mraw_decode\u001b[49m\u001b[43m(\u001b[49m\u001b[43ms\u001b[49m\u001b[43m,\u001b[49m\u001b[43m \u001b[49m\u001b[43midx\u001b[49m\u001b[38;5;241;43m=\u001b[39;49m\u001b[43m_w\u001b[49m\u001b[43m(\u001b[49m\u001b[43ms\u001b[49m\u001b[43m,\u001b[49m\u001b[43m \u001b[49m\u001b[38;5;241;43m0\u001b[39;49m\u001b[43m)\u001b[49m\u001b[38;5;241;43m.\u001b[39;49m\u001b[43mend\u001b[49m\u001b[43m(\u001b[49m\u001b[43m)\u001b[49m\u001b[43m)\u001b[49m\n\u001b[0;32m    338\u001b[0m end \u001b[38;5;241m=\u001b[39m _w(s, end)\u001b[38;5;241m.\u001b[39mend()\n",
      "File \u001b[1;32m~\\AppData\\Local\\Programs\\Python\\Python310\\lib\\json\\decoder.py:355\u001b[0m, in \u001b[0;36mJSONDecoder.raw_decode\u001b[1;34m(self, s, idx)\u001b[0m\n\u001b[0;32m    354\u001b[0m \u001b[38;5;28;01mexcept\u001b[39;00m \u001b[38;5;167;01mStopIteration\u001b[39;00m \u001b[38;5;28;01mas\u001b[39;00m err:\n\u001b[1;32m--> 355\u001b[0m     \u001b[38;5;28;01mraise\u001b[39;00m JSONDecodeError(\u001b[38;5;124m\"\u001b[39m\u001b[38;5;124mExpecting value\u001b[39m\u001b[38;5;124m\"\u001b[39m, s, err\u001b[38;5;241m.\u001b[39mvalue) \u001b[38;5;28;01mfrom\u001b[39;00m\u001b[38;5;250m \u001b[39m\u001b[38;5;28;01mNone\u001b[39;00m\n\u001b[0;32m    356\u001b[0m \u001b[38;5;28;01mreturn\u001b[39;00m obj, end\n",
      "\u001b[1;31mJSONDecodeError\u001b[0m: Expecting value: line 1 column 1 (char 0)",
      "\nDuring handling of the above exception, another exception occurred:\n",
      "\u001b[1;31mToolException\u001b[0m                             Traceback (most recent call last)",
      "Cell \u001b[1;32mIn[707], line 1\u001b[0m\n\u001b[1;32m----> 1\u001b[0m response \u001b[38;5;241m=\u001b[39m \u001b[43magent_executor\u001b[49m\u001b[38;5;241;43m.\u001b[39;49m\u001b[43minvoke\u001b[49m\u001b[43m(\u001b[49m\u001b[43m{\u001b[49m\n\u001b[0;32m      2\u001b[0m \u001b[43m    \u001b[49m\u001b[38;5;66;43;03m# \"input\": json.dumps(workspace_data, ensure_ascii=False),\u001b[39;49;00m\n\u001b[0;32m      3\u001b[0m \u001b[43m    \u001b[49m\u001b[38;5;124;43m\"\u001b[39;49m\u001b[38;5;124;43minput\u001b[39;49m\u001b[38;5;124;43m\"\u001b[39;49m\u001b[43m:\u001b[49m\u001b[43m \u001b[49m\u001b[43mworkspace_data\u001b[49m\u001b[43m,\u001b[49m\n\u001b[0;32m      4\u001b[0m \u001b[43m    \u001b[49m\u001b[38;5;66;43;03m# \"tools\": [\"ParseWorkflow\", \"Final Answer\"],\u001b[39;49;00m\n\u001b[0;32m      5\u001b[0m \u001b[43m    \u001b[49m\u001b[38;5;124;43m\"\u001b[39;49m\u001b[38;5;124;43mtool_names\u001b[39;49m\u001b[38;5;124;43m\"\u001b[39;49m\u001b[43m:\u001b[49m\u001b[43m \u001b[49m\u001b[43mtool_names\u001b[49m\u001b[43m,\u001b[49m\n\u001b[0;32m      6\u001b[0m \u001b[43m    \u001b[49m\u001b[38;5;66;43;03m# \"agent_scratchpad\": \"\"\u001b[39;49;00m\n\u001b[0;32m      7\u001b[0m \u001b[43m}\u001b[49m\u001b[43m)\u001b[49m\n\u001b[0;32m      9\u001b[0m \u001b[38;5;66;03m# 답변 생성 확인\u001b[39;00m\n\u001b[0;32m     10\u001b[0m \u001b[38;5;28mprint\u001b[39m(response)\n",
      "File \u001b[1;32mc:\\Users\\pje03\\Documents\\pja_MLOps\\Task_recommend\\use_agent\\agent-env\\lib\\site-packages\\langchain\\chains\\base.py:167\u001b[0m, in \u001b[0;36mChain.invoke\u001b[1;34m(self, input, config, **kwargs)\u001b[0m\n\u001b[0;32m    165\u001b[0m \u001b[38;5;28;01mexcept\u001b[39;00m \u001b[38;5;167;01mBaseException\u001b[39;00m \u001b[38;5;28;01mas\u001b[39;00m e:\n\u001b[0;32m    166\u001b[0m     run_manager\u001b[38;5;241m.\u001b[39mon_chain_error(e)\n\u001b[1;32m--> 167\u001b[0m     \u001b[38;5;28;01mraise\u001b[39;00m e\n\u001b[0;32m    168\u001b[0m run_manager\u001b[38;5;241m.\u001b[39mon_chain_end(outputs)\n\u001b[0;32m    170\u001b[0m \u001b[38;5;28;01mif\u001b[39;00m include_run_info:\n",
      "File \u001b[1;32mc:\\Users\\pje03\\Documents\\pja_MLOps\\Task_recommend\\use_agent\\agent-env\\lib\\site-packages\\langchain\\chains\\base.py:157\u001b[0m, in \u001b[0;36mChain.invoke\u001b[1;34m(self, input, config, **kwargs)\u001b[0m\n\u001b[0;32m    154\u001b[0m \u001b[38;5;28;01mtry\u001b[39;00m:\n\u001b[0;32m    155\u001b[0m     \u001b[38;5;28mself\u001b[39m\u001b[38;5;241m.\u001b[39m_validate_inputs(inputs)\n\u001b[0;32m    156\u001b[0m     outputs \u001b[38;5;241m=\u001b[39m (\n\u001b[1;32m--> 157\u001b[0m         \u001b[38;5;28;43mself\u001b[39;49m\u001b[38;5;241;43m.\u001b[39;49m\u001b[43m_call\u001b[49m\u001b[43m(\u001b[49m\u001b[43minputs\u001b[49m\u001b[43m,\u001b[49m\u001b[43m \u001b[49m\u001b[43mrun_manager\u001b[49m\u001b[38;5;241;43m=\u001b[39;49m\u001b[43mrun_manager\u001b[49m\u001b[43m)\u001b[49m\n\u001b[0;32m    158\u001b[0m         \u001b[38;5;28;01mif\u001b[39;00m new_arg_supported\n\u001b[0;32m    159\u001b[0m         \u001b[38;5;28;01melse\u001b[39;00m \u001b[38;5;28mself\u001b[39m\u001b[38;5;241m.\u001b[39m_call(inputs)\n\u001b[0;32m    160\u001b[0m     )\n\u001b[0;32m    162\u001b[0m     final_outputs: \u001b[38;5;28mdict\u001b[39m[\u001b[38;5;28mstr\u001b[39m, Any] \u001b[38;5;241m=\u001b[39m \u001b[38;5;28mself\u001b[39m\u001b[38;5;241m.\u001b[39mprep_outputs(\n\u001b[0;32m    163\u001b[0m         inputs, outputs, return_only_outputs\n\u001b[0;32m    164\u001b[0m     )\n\u001b[0;32m    165\u001b[0m \u001b[38;5;28;01mexcept\u001b[39;00m \u001b[38;5;167;01mBaseException\u001b[39;00m \u001b[38;5;28;01mas\u001b[39;00m e:\n",
      "File \u001b[1;32mc:\\Users\\pje03\\Documents\\pja_MLOps\\Task_recommend\\use_agent\\agent-env\\lib\\site-packages\\langchain\\agents\\agent.py:1620\u001b[0m, in \u001b[0;36mAgentExecutor._call\u001b[1;34m(self, inputs, run_manager)\u001b[0m\n\u001b[0;32m   1618\u001b[0m \u001b[38;5;66;03m# We now enter the agent loop (until it returns something).\u001b[39;00m\n\u001b[0;32m   1619\u001b[0m \u001b[38;5;28;01mwhile\u001b[39;00m \u001b[38;5;28mself\u001b[39m\u001b[38;5;241m.\u001b[39m_should_continue(iterations, time_elapsed):\n\u001b[1;32m-> 1620\u001b[0m     next_step_output \u001b[38;5;241m=\u001b[39m \u001b[38;5;28;43mself\u001b[39;49m\u001b[38;5;241;43m.\u001b[39;49m\u001b[43m_take_next_step\u001b[49m\u001b[43m(\u001b[49m\n\u001b[0;32m   1621\u001b[0m \u001b[43m        \u001b[49m\u001b[43mname_to_tool_map\u001b[49m\u001b[43m,\u001b[49m\n\u001b[0;32m   1622\u001b[0m \u001b[43m        \u001b[49m\u001b[43mcolor_mapping\u001b[49m\u001b[43m,\u001b[49m\n\u001b[0;32m   1623\u001b[0m \u001b[43m        \u001b[49m\u001b[43minputs\u001b[49m\u001b[43m,\u001b[49m\n\u001b[0;32m   1624\u001b[0m \u001b[43m        \u001b[49m\u001b[43mintermediate_steps\u001b[49m\u001b[43m,\u001b[49m\n\u001b[0;32m   1625\u001b[0m \u001b[43m        \u001b[49m\u001b[43mrun_manager\u001b[49m\u001b[38;5;241;43m=\u001b[39;49m\u001b[43mrun_manager\u001b[49m\u001b[43m,\u001b[49m\n\u001b[0;32m   1626\u001b[0m \u001b[43m    \u001b[49m\u001b[43m)\u001b[49m\n\u001b[0;32m   1627\u001b[0m     \u001b[38;5;28;01mif\u001b[39;00m \u001b[38;5;28misinstance\u001b[39m(next_step_output, AgentFinish):\n\u001b[0;32m   1628\u001b[0m         \u001b[38;5;28;01mreturn\u001b[39;00m \u001b[38;5;28mself\u001b[39m\u001b[38;5;241m.\u001b[39m_return(\n\u001b[0;32m   1629\u001b[0m             next_step_output, intermediate_steps, run_manager\u001b[38;5;241m=\u001b[39mrun_manager\n\u001b[0;32m   1630\u001b[0m         )\n",
      "File \u001b[1;32mc:\\Users\\pje03\\Documents\\pja_MLOps\\Task_recommend\\use_agent\\agent-env\\lib\\site-packages\\langchain\\agents\\agent.py:1326\u001b[0m, in \u001b[0;36mAgentExecutor._take_next_step\u001b[1;34m(self, name_to_tool_map, color_mapping, inputs, intermediate_steps, run_manager)\u001b[0m\n\u001b[0;32m   1317\u001b[0m \u001b[38;5;28;01mdef\u001b[39;00m\u001b[38;5;250m \u001b[39m\u001b[38;5;21m_take_next_step\u001b[39m(\n\u001b[0;32m   1318\u001b[0m     \u001b[38;5;28mself\u001b[39m,\n\u001b[0;32m   1319\u001b[0m     name_to_tool_map: \u001b[38;5;28mdict\u001b[39m[\u001b[38;5;28mstr\u001b[39m, BaseTool],\n\u001b[1;32m   (...)\u001b[0m\n\u001b[0;32m   1323\u001b[0m     run_manager: Optional[CallbackManagerForChainRun] \u001b[38;5;241m=\u001b[39m \u001b[38;5;28;01mNone\u001b[39;00m,\n\u001b[0;32m   1324\u001b[0m ) \u001b[38;5;241m-\u001b[39m\u001b[38;5;241m>\u001b[39m Union[AgentFinish, \u001b[38;5;28mlist\u001b[39m[\u001b[38;5;28mtuple\u001b[39m[AgentAction, \u001b[38;5;28mstr\u001b[39m]]]:\n\u001b[0;32m   1325\u001b[0m     \u001b[38;5;28;01mreturn\u001b[39;00m \u001b[38;5;28mself\u001b[39m\u001b[38;5;241m.\u001b[39m_consume_next_step(\n\u001b[1;32m-> 1326\u001b[0m         [\n\u001b[0;32m   1327\u001b[0m             a\n\u001b[0;32m   1328\u001b[0m             \u001b[38;5;28;01mfor\u001b[39;00m a \u001b[38;5;129;01min\u001b[39;00m \u001b[38;5;28mself\u001b[39m\u001b[38;5;241m.\u001b[39m_iter_next_step(\n\u001b[0;32m   1329\u001b[0m                 name_to_tool_map,\n\u001b[0;32m   1330\u001b[0m                 color_mapping,\n\u001b[0;32m   1331\u001b[0m                 inputs,\n\u001b[0;32m   1332\u001b[0m                 intermediate_steps,\n\u001b[0;32m   1333\u001b[0m                 run_manager,\n\u001b[0;32m   1334\u001b[0m             )\n\u001b[0;32m   1335\u001b[0m         ]\n\u001b[0;32m   1336\u001b[0m     )\n",
      "File \u001b[1;32mc:\\Users\\pje03\\Documents\\pja_MLOps\\Task_recommend\\use_agent\\agent-env\\lib\\site-packages\\langchain\\agents\\agent.py:1326\u001b[0m, in \u001b[0;36m<listcomp>\u001b[1;34m(.0)\u001b[0m\n\u001b[0;32m   1317\u001b[0m \u001b[38;5;28;01mdef\u001b[39;00m\u001b[38;5;250m \u001b[39m\u001b[38;5;21m_take_next_step\u001b[39m(\n\u001b[0;32m   1318\u001b[0m     \u001b[38;5;28mself\u001b[39m,\n\u001b[0;32m   1319\u001b[0m     name_to_tool_map: \u001b[38;5;28mdict\u001b[39m[\u001b[38;5;28mstr\u001b[39m, BaseTool],\n\u001b[1;32m   (...)\u001b[0m\n\u001b[0;32m   1323\u001b[0m     run_manager: Optional[CallbackManagerForChainRun] \u001b[38;5;241m=\u001b[39m \u001b[38;5;28;01mNone\u001b[39;00m,\n\u001b[0;32m   1324\u001b[0m ) \u001b[38;5;241m-\u001b[39m\u001b[38;5;241m>\u001b[39m Union[AgentFinish, \u001b[38;5;28mlist\u001b[39m[\u001b[38;5;28mtuple\u001b[39m[AgentAction, \u001b[38;5;28mstr\u001b[39m]]]:\n\u001b[0;32m   1325\u001b[0m     \u001b[38;5;28;01mreturn\u001b[39;00m \u001b[38;5;28mself\u001b[39m\u001b[38;5;241m.\u001b[39m_consume_next_step(\n\u001b[1;32m-> 1326\u001b[0m         [\n\u001b[0;32m   1327\u001b[0m             a\n\u001b[0;32m   1328\u001b[0m             \u001b[38;5;28;01mfor\u001b[39;00m a \u001b[38;5;129;01min\u001b[39;00m \u001b[38;5;28mself\u001b[39m\u001b[38;5;241m.\u001b[39m_iter_next_step(\n\u001b[0;32m   1329\u001b[0m                 name_to_tool_map,\n\u001b[0;32m   1330\u001b[0m                 color_mapping,\n\u001b[0;32m   1331\u001b[0m                 inputs,\n\u001b[0;32m   1332\u001b[0m                 intermediate_steps,\n\u001b[0;32m   1333\u001b[0m                 run_manager,\n\u001b[0;32m   1334\u001b[0m             )\n\u001b[0;32m   1335\u001b[0m         ]\n\u001b[0;32m   1336\u001b[0m     )\n",
      "File \u001b[1;32mc:\\Users\\pje03\\Documents\\pja_MLOps\\Task_recommend\\use_agent\\agent-env\\lib\\site-packages\\langchain\\agents\\agent.py:1411\u001b[0m, in \u001b[0;36mAgentExecutor._iter_next_step\u001b[1;34m(self, name_to_tool_map, color_mapping, inputs, intermediate_steps, run_manager)\u001b[0m\n\u001b[0;32m   1409\u001b[0m     \u001b[38;5;28;01myield\u001b[39;00m agent_action\n\u001b[0;32m   1410\u001b[0m \u001b[38;5;28;01mfor\u001b[39;00m agent_action \u001b[38;5;129;01min\u001b[39;00m actions:\n\u001b[1;32m-> 1411\u001b[0m     \u001b[38;5;28;01myield\u001b[39;00m \u001b[38;5;28;43mself\u001b[39;49m\u001b[38;5;241;43m.\u001b[39;49m\u001b[43m_perform_agent_action\u001b[49m\u001b[43m(\u001b[49m\n\u001b[0;32m   1412\u001b[0m \u001b[43m        \u001b[49m\u001b[43mname_to_tool_map\u001b[49m\u001b[43m,\u001b[49m\u001b[43m \u001b[49m\u001b[43mcolor_mapping\u001b[49m\u001b[43m,\u001b[49m\u001b[43m \u001b[49m\u001b[43magent_action\u001b[49m\u001b[43m,\u001b[49m\u001b[43m \u001b[49m\u001b[43mrun_manager\u001b[49m\n\u001b[0;32m   1413\u001b[0m \u001b[43m    \u001b[49m\u001b[43m)\u001b[49m\n",
      "File \u001b[1;32mc:\\Users\\pje03\\Documents\\pja_MLOps\\Task_recommend\\use_agent\\agent-env\\lib\\site-packages\\langchain\\agents\\agent.py:1433\u001b[0m, in \u001b[0;36mAgentExecutor._perform_agent_action\u001b[1;34m(self, name_to_tool_map, color_mapping, agent_action, run_manager)\u001b[0m\n\u001b[0;32m   1431\u001b[0m         tool_run_kwargs[\u001b[38;5;124m\"\u001b[39m\u001b[38;5;124mllm_prefix\u001b[39m\u001b[38;5;124m\"\u001b[39m] \u001b[38;5;241m=\u001b[39m \u001b[38;5;124m\"\u001b[39m\u001b[38;5;124m\"\u001b[39m\n\u001b[0;32m   1432\u001b[0m     \u001b[38;5;66;03m# We then call the tool on the tool input to get an observation\u001b[39;00m\n\u001b[1;32m-> 1433\u001b[0m     observation \u001b[38;5;241m=\u001b[39m tool\u001b[38;5;241m.\u001b[39mrun(\n\u001b[0;32m   1434\u001b[0m         agent_action\u001b[38;5;241m.\u001b[39mtool_input,\n\u001b[0;32m   1435\u001b[0m         verbose\u001b[38;5;241m=\u001b[39m\u001b[38;5;28mself\u001b[39m\u001b[38;5;241m.\u001b[39mverbose,\n\u001b[0;32m   1436\u001b[0m         color\u001b[38;5;241m=\u001b[39mcolor,\n\u001b[0;32m   1437\u001b[0m         callbacks\u001b[38;5;241m=\u001b[39mrun_manager\u001b[38;5;241m.\u001b[39mget_child() \u001b[38;5;28;01mif\u001b[39;00m run_manager \u001b[38;5;28;01melse\u001b[39;00m \u001b[38;5;28;01mNone\u001b[39;00m,\n\u001b[0;32m   1438\u001b[0m         \u001b[38;5;241m*\u001b[39m\u001b[38;5;241m*\u001b[39mtool_run_kwargs,\n\u001b[0;32m   1439\u001b[0m     )\n\u001b[0;32m   1440\u001b[0m \u001b[38;5;28;01melse\u001b[39;00m:\n\u001b[0;32m   1441\u001b[0m     tool_run_kwargs \u001b[38;5;241m=\u001b[39m \u001b[38;5;28mself\u001b[39m\u001b[38;5;241m.\u001b[39m_action_agent\u001b[38;5;241m.\u001b[39mtool_run_logging_kwargs()\n",
      "File \u001b[1;32mc:\\Users\\pje03\\Documents\\pja_MLOps\\Task_recommend\\use_agent\\agent-env\\lib\\site-packages\\langchain_core\\tools\\base.py:771\u001b[0m, in \u001b[0;36mBaseTool.run\u001b[1;34m(self, tool_input, verbose, start_color, color, callbacks, tags, metadata, run_name, run_id, config, tool_call_id, **kwargs)\u001b[0m\n\u001b[0;32m    769\u001b[0m \u001b[38;5;28;01mif\u001b[39;00m error_to_raise:\n\u001b[0;32m    770\u001b[0m     run_manager\u001b[38;5;241m.\u001b[39mon_tool_error(error_to_raise)\n\u001b[1;32m--> 771\u001b[0m     \u001b[38;5;28;01mraise\u001b[39;00m error_to_raise\n\u001b[0;32m    772\u001b[0m output \u001b[38;5;241m=\u001b[39m _format_output(content, artifact, tool_call_id, \u001b[38;5;28mself\u001b[39m\u001b[38;5;241m.\u001b[39mname, status)\n\u001b[0;32m    773\u001b[0m run_manager\u001b[38;5;241m.\u001b[39mon_tool_end(output, color\u001b[38;5;241m=\u001b[39mcolor, name\u001b[38;5;241m=\u001b[39m\u001b[38;5;28mself\u001b[39m\u001b[38;5;241m.\u001b[39mname, \u001b[38;5;241m*\u001b[39m\u001b[38;5;241m*\u001b[39mkwargs)\n",
      "File \u001b[1;32mc:\\Users\\pje03\\Documents\\pja_MLOps\\Task_recommend\\use_agent\\agent-env\\lib\\site-packages\\langchain_core\\tools\\base.py:740\u001b[0m, in \u001b[0;36mBaseTool.run\u001b[1;34m(self, tool_input, verbose, start_color, color, callbacks, tags, metadata, run_name, run_id, config, tool_call_id, **kwargs)\u001b[0m\n\u001b[0;32m    738\u001b[0m     \u001b[38;5;28;01mif\u001b[39;00m config_param \u001b[38;5;241m:=\u001b[39m _get_runnable_config_param(\u001b[38;5;28mself\u001b[39m\u001b[38;5;241m.\u001b[39m_run):\n\u001b[0;32m    739\u001b[0m         tool_kwargs \u001b[38;5;241m=\u001b[39m tool_kwargs \u001b[38;5;241m|\u001b[39m {config_param: config}\n\u001b[1;32m--> 740\u001b[0m     response \u001b[38;5;241m=\u001b[39m context\u001b[38;5;241m.\u001b[39mrun(\u001b[38;5;28mself\u001b[39m\u001b[38;5;241m.\u001b[39m_run, \u001b[38;5;241m*\u001b[39mtool_args, \u001b[38;5;241m*\u001b[39m\u001b[38;5;241m*\u001b[39mtool_kwargs)\n\u001b[0;32m    741\u001b[0m \u001b[38;5;28;01mif\u001b[39;00m \u001b[38;5;28mself\u001b[39m\u001b[38;5;241m.\u001b[39mresponse_format \u001b[38;5;241m==\u001b[39m \u001b[38;5;124m\"\u001b[39m\u001b[38;5;124mcontent_and_artifact\u001b[39m\u001b[38;5;124m\"\u001b[39m:\n\u001b[0;32m    742\u001b[0m     \u001b[38;5;28;01mif\u001b[39;00m \u001b[38;5;129;01mnot\u001b[39;00m \u001b[38;5;28misinstance\u001b[39m(response, \u001b[38;5;28mtuple\u001b[39m) \u001b[38;5;129;01mor\u001b[39;00m \u001b[38;5;28mlen\u001b[39m(response) \u001b[38;5;241m!=\u001b[39m \u001b[38;5;241m2\u001b[39m:\n",
      "File \u001b[1;32mc:\\Users\\pje03\\Documents\\pja_MLOps\\Task_recommend\\use_agent\\agent-env\\lib\\site-packages\\langchain_core\\tools\\simple.py:105\u001b[0m, in \u001b[0;36mTool._run\u001b[1;34m(self, config, run_manager, *args, **kwargs)\u001b[0m\n\u001b[0;32m    103\u001b[0m     \u001b[38;5;28;01mif\u001b[39;00m config_param \u001b[38;5;241m:=\u001b[39m _get_runnable_config_param(\u001b[38;5;28mself\u001b[39m\u001b[38;5;241m.\u001b[39mfunc):\n\u001b[0;32m    104\u001b[0m         kwargs[config_param] \u001b[38;5;241m=\u001b[39m config\n\u001b[1;32m--> 105\u001b[0m     \u001b[38;5;28;01mreturn\u001b[39;00m \u001b[38;5;28mself\u001b[39m\u001b[38;5;241m.\u001b[39mfunc(\u001b[38;5;241m*\u001b[39margs, \u001b[38;5;241m*\u001b[39m\u001b[38;5;241m*\u001b[39mkwargs)\n\u001b[0;32m    106\u001b[0m msg \u001b[38;5;241m=\u001b[39m \u001b[38;5;124m\"\u001b[39m\u001b[38;5;124mTool does not support sync invocation.\u001b[39m\u001b[38;5;124m\"\u001b[39m\n\u001b[0;32m    107\u001b[0m \u001b[38;5;28;01mraise\u001b[39;00m \u001b[38;5;167;01mNotImplementedError\u001b[39;00m(msg)\n",
      "Cell \u001b[1;32mIn[702], line 52\u001b[0m, in \u001b[0;36mparse_and_generate_all\u001b[1;34m(input_str)\u001b[0m\n\u001b[0;32m     49\u001b[0m                 feature[\u001b[38;5;124m\"\u001b[39m\u001b[38;5;124mactions\u001b[39m\u001b[38;5;124m\"\u001b[39m] \u001b[38;5;241m=\u001b[39m generated_actions\u001b[38;5;241m.\u001b[39mcopy()\n\u001b[0;32m     51\u001b[0m         \u001b[38;5;28;01mexcept\u001b[39;00m \u001b[38;5;167;01mException\u001b[39;00m \u001b[38;5;28;01mas\u001b[39;00m e:\n\u001b[1;32m---> 52\u001b[0m             \u001b[38;5;28;01mraise\u001b[39;00m ToolException(\u001b[38;5;124mf\u001b[39m\u001b[38;5;124m\"\u001b[39m\u001b[38;5;124mParseWorkflow 실행 중 오류 발생: \u001b[39m\u001b[38;5;132;01m{\u001b[39;00m\u001b[38;5;28mstr\u001b[39m(e)\u001b[38;5;132;01m}\u001b[39;00m\u001b[38;5;124m\"\u001b[39m)\n\u001b[0;32m     54\u001b[0m \u001b[38;5;66;03m# return json.dumps(data, ensure_ascii=False, indent=2)\u001b[39;00m\n\u001b[0;32m     55\u001b[0m \u001b[38;5;28;01mreturn\u001b[39;00m json_data\n",
      "\u001b[1;31mToolException\u001b[0m: ParseWorkflow 실행 중 오류 발생: Expecting value: line 1 column 1 (char 0)"
     ]
    }
   ],
   "source": [
    "response = agent_executor.invoke({\n",
    "    # \"input\": json.dumps(workspace_data, ensure_ascii=False),\n",
    "    \"input\": workspace_data,\n",
    "    # \"tools\": [\"ParseWorkflow\", \"Final Answer\"],\n",
    "    \"tool_names\": tool_names,\n",
    "    # \"agent_scratchpad\": \"\"\n",
    "})\n",
    "\n",
    "# 답변 생성 확인\n",
    "print(response)"
   ]
  },
  {
   "cell_type": "code",
   "execution_count": null,
   "id": "f1637925",
   "metadata": {},
   "outputs": [
    {
     "name": "stdout",
     "output_type": "stream",
     "text": [
      "<class 'dict'>\n"
     ]
    },
    {
     "data": {
      "text/plain": [
       "{'input': {'workspaceId': 4,\n",
       "  'recommendedCategories': [{'categoryId': 1,\n",
       "    'name': '회원 관리 기능',\n",
       "    'features': [{'featureId': 90,\n",
       "      'name': '회원 가입',\n",
       "      'actions': [{'name': '소셜 로그인 연동',\n",
       "        'importance': 2,\n",
       "        'startDate': '2025-06-14T14:25:34.095708',\n",
       "        'endDate': '2025-06-27T14:25:34.095708'},\n",
       "       {'name': '이메일 인증 로직 구현',\n",
       "        'importance': 3,\n",
       "        'startDate': '2025-06-16T14:25:34.095711',\n",
       "        'endDate': '2025-06-22T14:25:34.095711'}]}]}]},\n",
       " 'tool_names': ['ParseWorkflow', 'FinalAnswer'],\n",
       " 'output': 'Agent stopped due to iteration limit or time limit.',\n",
       " 'intermediate_steps': [(AgentAction(tool='ParseWorkflow', tool_input='{\\n    \"workspaceId\": 4,\\n    \"recommendedCategories\": [\\n        {\\n            \"categoryId\": 1,\\n            \"name\": \"회원 관리 기능\",\\n            \"features\": [\\n                {\\n                    \"featureId\": 90,\\n                    \"name\": \"회원 가입\",\\n                    \"actions\": []\\n                }\\n            ]\\n        }\\n    ]\\n}\\n', log='Thought: 주어진 JSON에서 \\'회원 가입\\' 기능에 대해 새로운 후속 작업(actions)을 생성해야 합니다. 이 작업을 위해 ParseWorkflow 도구를 사용하겠습니다. 각 feature에 대해 3개의 후속 작업을 생성하고 기존 actions 리스트를 덮어쓰겠습니다.\\n\\nAction: ParseWorkflow  \\nAction Input: {\\n    \"workspaceId\": 4,\\n    \"recommendedCategories\": [\\n        {\\n            \"categoryId\": 1,\\n            \"name\": \"회원 관리 기능\",\\n            \"features\": [\\n                {\\n                    \"featureId\": 90,\\n                    \"name\": \"회원 가입\",\\n                    \"actions\": []\\n                }\\n            ]\\n        }\\n    ]\\n}\\n'),\n",
       "   {'workspaceId': 4,\n",
       "    'recommendedCategories': [{'categoryId': 1,\n",
       "      'name': '회원 관리 기능',\n",
       "      'features': [{'featureId': 90,\n",
       "        'name': '회원 가입',\n",
       "        'actions': [{'name': \"작업 생성 실패: Missing some input keys: {'input', 'agent_scratchpad', 'tools'}\",\n",
       "          'startDate': '2025-01-01T00:00:00',\n",
       "          'endDate': '2025-01-01T23:59:59',\n",
       "          'importance': 0}]}]}]}),\n",
       "  (AgentAction(tool='ParseWorkflow', tool_input='{\\n    \"workspaceId\": 4,\\n    \"recommendedCategories\": [\\n        {\\n            \"categoryId\": 1,\\n            \"name\": \"회원 관리 기능\",\\n            \"features\": [\\n                {\\n                    \"featureId\": 90,\\n                    \"name\": \"회원 가입\",\\n                    \"actions\": [\\n                        {\"name\": \"소셜 로그인 연동\", \"importance\": 2, \"startDate\": \"2025-06-14T14:25:34.095708\", \"endDate\": \"2025-06-27T14:25:34.095708\"},\\n                        {\"name\": \"이메일 인증 로직 구현\", \"importance\": 3, \"startDate\": \"2025-06-16T14:25:34.095711\", \"endDate\": \"2025-06-22T14:25:34.095711\"},\\n                        {\"name\": \"사용자 프로필 설정 기능 추가\", \"importance\": 1, \"startDate\": \"2025-06-20T14:25:34.095711\", \"endDate\": \"2025-06-30T14:25:34.095711\"},\\n                        {\"name\": \"비밀번호 재설정 기능 구현\", \"importance\": 2, \"startDate\": \"2025-06-25T14:25:34.095711\", \"endDate\": \"2025-07-05T14:25:34.095711\"},\\n                        {\"name\": \"회원 가입 통계 대시보드 생성\", \"importance\": 3, \"startDate\": \"2025-07-01T14:25:34.095711\", \"endDate\": \"2025-07-10T14:25:34.095711\"}\\n                    ]\\n                }\\n            ]\\n        }\\n    ]\\n}\\n', log='Thought: 주어진 JSON에서 \\'회원 가입\\' 기능에 대해 새로운 후속 작업(actions)을 생성해야 합니다. 각 feature에 대해 3개의 후속 작업을 생성하고 기존 actions 리스트를 덮어쓰겠습니다. 이를 위해 ParseWorkflow 도구를 사용하겠습니다.\\n\\nAction: ParseWorkflow  \\nAction Input: {\\n    \"workspaceId\": 4,\\n    \"recommendedCategories\": [\\n        {\\n            \"categoryId\": 1,\\n            \"name\": \"회원 관리 기능\",\\n            \"features\": [\\n                {\\n                    \"featureId\": 90,\\n                    \"name\": \"회원 가입\",\\n                    \"actions\": [\\n                        {\"name\": \"소셜 로그인 연동\", \"importance\": 2, \"startDate\": \"2025-06-14T14:25:34.095708\", \"endDate\": \"2025-06-27T14:25:34.095708\"},\\n                        {\"name\": \"이메일 인증 로직 구현\", \"importance\": 3, \"startDate\": \"2025-06-16T14:25:34.095711\", \"endDate\": \"2025-06-22T14:25:34.095711\"},\\n                        {\"name\": \"사용자 프로필 설정 기능 추가\", \"importance\": 1, \"startDate\": \"2025-06-20T14:25:34.095711\", \"endDate\": \"2025-06-30T14:25:34.095711\"},\\n                        {\"name\": \"비밀번호 재설정 기능 구현\", \"importance\": 2, \"startDate\": \"2025-06-25T14:25:34.095711\", \"endDate\": \"2025-07-05T14:25:34.095711\"},\\n                        {\"name\": \"회원 가입 통계 대시보드 생성\", \"importance\": 3, \"startDate\": \"2025-07-01T14:25:34.095711\", \"endDate\": \"2025-07-10T14:25:34.095711\"}\\n                    ]\\n                }\\n            ]\\n        }\\n    ]\\n}\\n'),\n",
       "   {'workspaceId': 4,\n",
       "    'recommendedCategories': [{'categoryId': 1,\n",
       "      'name': '회원 관리 기능',\n",
       "      'features': [{'featureId': 90,\n",
       "        'name': '회원 가입',\n",
       "        'actions': [{'name': '소셜 로그인 연동',\n",
       "          'importance': 2,\n",
       "          'startDate': '2025-06-14T14:25:34.095708',\n",
       "          'endDate': '2025-06-27T14:25:34.095708'},\n",
       "         {'name': '이메일 인증 로직 구현',\n",
       "          'importance': 3,\n",
       "          'startDate': '2025-06-16T14:25:34.095711',\n",
       "          'endDate': '2025-06-22T14:25:34.095711'},\n",
       "         {'name': '사용자 프로필 설정 기능 추가',\n",
       "          'importance': 1,\n",
       "          'startDate': '2025-06-20T14:25:34.095711',\n",
       "          'endDate': '2025-06-30T14:25:34.095711'},\n",
       "         {'name': '비밀번호 재설정 기능 구현',\n",
       "          'importance': 2,\n",
       "          'startDate': '2025-06-25T14:25:34.095711',\n",
       "          'endDate': '2025-07-05T14:25:34.095711'},\n",
       "         {'name': '회원 가입 통계 대시보드 생성',\n",
       "          'importance': 3,\n",
       "          'startDate': '2025-07-01T14:25:34.095711',\n",
       "          'endDate': '2025-07-10T14:25:34.095711'},\n",
       "         {'name': \"작업 생성 실패: Missing some input keys: {'input', 'agent_scratchpad', 'tools'}\",\n",
       "          'startDate': '2025-01-01T00:00:00',\n",
       "          'endDate': '2025-01-01T23:59:59',\n",
       "          'importance': 0}]}]}]})]}"
      ]
     },
     "execution_count": 662,
     "metadata": {},
     "output_type": "execute_result"
    }
   ],
   "source": [
    "print(type(response))\n",
    "response"
   ]
  },
  {
   "cell_type": "code",
   "execution_count": null,
   "id": "091d0f5e",
   "metadata": {},
   "outputs": [],
   "source": []
  }
 ],
 "metadata": {
  "kernelspec": {
   "display_name": "agent-env",
   "language": "python",
   "name": "python3"
  },
  "language_info": {
   "codemirror_mode": {
    "name": "ipython",
    "version": 3
   },
   "file_extension": ".py",
   "mimetype": "text/x-python",
   "name": "python",
   "nbconvert_exporter": "python",
   "pygments_lexer": "ipython3",
   "version": "3.10.11"
  }
 },
 "nbformat": 4,
 "nbformat_minor": 5
}
