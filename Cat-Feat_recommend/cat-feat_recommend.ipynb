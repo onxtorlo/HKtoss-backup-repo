{
 "cells": [
  {
   "cell_type": "code",
   "execution_count": null,
   "id": "f31f6cdc",
   "metadata": {},
   "outputs": [],
   "source": [
    "# %pip install -r requirements.txt\n",
    "# %pip freeze > requirements.txt\n",
    "# %pip install -U langchain jinja2"
   ]
  },
  {
   "cell_type": "code",
   "execution_count": null,
   "id": "b69d5938",
   "metadata": {},
   "outputs": [],
   "source": [
    "from langchain.agents import Tool\n",
    "from langchain_community.utilities import SerpAPIWrapper\n",
    "from langchain.tools import tool\n",
    "from langchain.chains import LLMChain\n",
    "from langchain.prompts import PromptTemplate\n",
    "from langchain_openai import ChatOpenAI\n",
    "from langchain.agents import AgentExecutor, create_react_agent\n",
    "from langchain.memory import ConversationBufferMemory \n",
    "from jinja2 import Template\n",
    "# from langchain.prompts import Jinja2PromptTemplate\n",
    "import openai\n",
    "\n",
    "from dotenv import load_dotenv\n",
    "import json\n",
    "import os\n",
    "import json\n",
    "import random"
   ]
  },
  {
   "cell_type": "code",
   "execution_count": 108,
   "id": "8871e49d",
   "metadata": {},
   "outputs": [],
   "source": [
    "load_dotenv()\n",
    "openai_api_key = os.getenv(\"OPENAI_API_KEY\")\n",
    "serpapi_api_key = os.getenv(\"SERPAPI_API_KEY\")"
   ]
  },
  {
   "cell_type": "code",
   "execution_count": 109,
   "id": "433e137e",
   "metadata": {},
   "outputs": [],
   "source": [
    "JSON_FILE_PATH = \"data\\\\project_summary.json\"\n",
    "RCMD_PROMPT_PATH = \"cat-feat_recommend.md\""
   ]
  },
  {
   "cell_type": "code",
   "execution_count": 124,
   "id": "a066ba74",
   "metadata": {},
   "outputs": [],
   "source": [
    "# Read data\n",
    "with open(JSON_FILE_PATH, 'r', encoding='utf-8') as f:\n",
    "    json_data = json.load(f)\n",
    "\n",
    "# Read prompt\n",
    "with open(RCMD_PROMPT_PATH, \"r\", encoding=\"utf-8\", errors=\"replace\") as f:\n",
    "    RCMD_PROMPT = f.read()"
   ]
  },
  {
   "cell_type": "code",
   "execution_count": 125,
   "id": "10c90ebe",
   "metadata": {},
   "outputs": [
    {
     "data": {
      "text/plain": [
       "[{'project_info_id': 1,\n",
       "  'category': '웹 서비스',\n",
       "  'core_features': ['ERD 자동생성', 'API 명세서 자동생성', '프로젝트 정보 자동생성'],\n",
       "  'created_at': '2025-06-18T00:39:46.947095',\n",
       "  'problem_solving': {'solutionIdea': 'AI가 자동으로 설계 문서를 생성하여 개발 과정을 단순화',\n",
       "   'currentProblem': '초보 개발자들이 복잡한 설계 과정을 이해하고 진행하는 데 어려움이 있음',\n",
       "   'expectedBenefits': ['빠른 개발 착수', '효율적인 팀원 간 커뮤니케이션', '체계적인 프로젝트 경험']},\n",
       "  'target_users': ['프로젝트 경험이 적은 초보 개발자'],\n",
       "  'technology_stack': ['react',\n",
       "   'typescript',\n",
       "   'springboot',\n",
       "   'AWS',\n",
       "   'git action',\n",
       "   'vercel'],\n",
       "  'title': '프로젝트 관리 웹 서비스',\n",
       "  'updated_at': '2025-06-18T00:39:46.947102',\n",
       "  'workspace_id': 1},\n",
       " {'project_info_id': 11,\n",
       "  'category': '학습 관리',\n",
       "  'core_features': ['체크리스트 형태의 과제 관리', '퀴즈를 통한 반복 학습'],\n",
       "  'created_at': '2025-06-19T08:24:29.404944',\n",
       "  'problem_solving': {'solutionIdea': '스터디 그룹 내에서 과제 관리와 퀴즈를 통해 학습 내용을 반복 학습할 수 있는 기능 제공',\n",
       "   'currentProblem': '학생들이 학습 동기를 잃고 효과적으로 학습하지 못하는 문제',\n",
       "   'expectedBenefits': ['학습 효과 극대화', '사용자 간 소통 강화', '학습 동기 부여']},\n",
       "  'target_users': ['학습 동기를 얻고 싶은 학생'],\n",
       "  'technology_stack': ['javaScript', 'java'],\n",
       "  'title': '스터디 그룹 운영지원 플랫폼',\n",
       "  'updated_at': '2025-06-19T08:24:29.404954',\n",
       "  'workspace_id': 17},\n",
       " {'project_info_id': 4,\n",
       "  'category': '웹사이트',\n",
       "  'core_features': ['챗봇을 통한 대화 기반 추억 정보 수집',\n",
       "   '사진 업로드 및 기억 저장',\n",
       "   '디지털 다이어리 작성',\n",
       "   '랜덤 추억 회상 기능'],\n",
       "  'created_at': '2025-06-18T12:51:01.305042',\n",
       "  'problem_solving': {'solutionIdea': '사용자가 사진을 업로드하고 챗봇과 대화하여 기억을 회상하고 정리하는 플랫폼 제공',\n",
       "   'currentProblem': '치매 환자와 가족 간의 기억 회복 및 소통 부족',\n",
       "   'expectedBenefits': ['치매 환자의 삶의 질 향상', '가족 간의 정서적 유대감 증진']},\n",
       "  'target_users': ['손쉽게 추억을 기록하고 싶은 사람', '치매 환자와 그 가족'],\n",
       "  'technology_stack': ['react', 'typescript', '컴퓨터 비전', 'springboot'],\n",
       "  'title': '기억박물관',\n",
       "  'updated_at': '2025-06-18T12:51:01.305046',\n",
       "  'workspace_id': 7},\n",
       " {'project_info_id': 12,\n",
       "  'category': '교육/학습',\n",
       "  'core_features': ['체크리스트 형태의 과제 관리', '퀴즈를 통한 반복 학습'],\n",
       "  'created_at': '2025-06-19T08:40:49.432892',\n",
       "  'problem_solving': {'solutionIdea': '스터디 그룹 내에서 과제 관리와 퀴즈를 통해 학습 내용을 반복 학습할 수 있도록 지원',\n",
       "   'currentProblem': '학생들이 학습 동기를 잃고 효과적으로 학습하지 못하는 문제',\n",
       "   'expectedBenefits': ['학습 효과 극대화', '사용자 간 소통 강화', '학습 동기 부여']},\n",
       "  'target_users': ['학습 동기를 얻고 싶은 학생'],\n",
       "  'technology_stack': ['javaScript', 'java'],\n",
       "  'title': '스터디 그룹 운영지원 플랫폼',\n",
       "  'updated_at': '2025-06-19T08:40:49.432896',\n",
       "  'workspace_id': 18},\n",
       " {'project_info_id': 6,\n",
       "  'category': '교육/학습 관리',\n",
       "  'core_features': ['체크 리스트 형태의 과제 관리', '퀴즈를 통한 반복 학습'],\n",
       "  'created_at': '2025-06-19T02:01:30.915498',\n",
       "  'problem_solving': {'solutionIdea': '스터디 그룹 내에서 과제 관리와 퀴즈를 통해 학습 효과를 극대화',\n",
       "   'currentProblem': '학생들이 학습 동기를 유지하기 어려움',\n",
       "   'expectedBenefits': ['사용자 간의 소통 강화', '학습 동기 부여']},\n",
       "  'target_users': ['학습 동기를 얻고 싶은 학생'],\n",
       "  'technology_stack': ['javaScript', 'java'],\n",
       "  'title': '스터디 그룹 운영 지원 플랫폼',\n",
       "  'updated_at': '2025-06-19T08:08:47.016643',\n",
       "  'workspace_id': 8},\n",
       " {'project_info_id': 16,\n",
       "  'category': '웹 서비스',\n",
       "  'core_features': ['프로젝트 협업 기능 툴', '내용을 대시 보드로 확인'],\n",
       "  'created_at': '2025-06-20T02:50:02.349680',\n",
       "  'problem_solving': {'solutionIdea': '직관적인 UI와 협업 도구를 제공하여 사용자가 쉽게 프로젝트를 관리할 수 있도록 지원',\n",
       "   'currentProblem': '프로젝트 관리의 복잡성과 비효율성',\n",
       "   'expectedBenefits': ['생산성 향상', '효율적인 팀워크', '프로젝트 진행 상황의 명확한 시각화']},\n",
       "  'target_users': ['프로젝트 경험이 적은 개발자'],\n",
       "  'technology_stack': ['Spring', 'React'],\n",
       "  'title': '프로젝트 워크 플로우 웹 서비스',\n",
       "  'updated_at': '2025-06-20T02:50:02.349687',\n",
       "  'workspace_id': 24},\n",
       " {'project_info_id': 15,\n",
       "  'category': '학습 관리',\n",
       "  'core_features': ['체크리스트 형태의 과제 관리', '퀴즈를 통한 반복 학습'],\n",
       "  'created_at': '2025-06-20T02:21:30.596460',\n",
       "  'problem_solving': {'solutionIdea': '스터디 그룹 내에서 과제 관리와 퀴즈 기능을 통해 학습 효과를 극대화',\n",
       "   'currentProblem': '학생들이 학습 동기를 잃고 효과적으로 학습하지 못하는 문제',\n",
       "   'expectedBenefits': ['사용자 간의 소통 강화', '학습 동기 부여']},\n",
       "  'target_users': ['학습 동기를 얻고 싶은 학생'],\n",
       "  'technology_stack': ['javaScript', 'java'],\n",
       "  'title': '스터디 그룹 운영지원 플랫폼',\n",
       "  'updated_at': '2025-06-20T02:21:30.596470',\n",
       "  'workspace_id': 23}]"
      ]
     },
     "execution_count": 125,
     "metadata": {},
     "output_type": "execute_result"
    }
   ],
   "source": [
    "json_data"
   ]
  },
  {
   "cell_type": "code",
   "execution_count": 126,
   "id": "456ae334",
   "metadata": {},
   "outputs": [
    {
     "name": "stdout",
     "output_type": "stream",
     "text": [
      "당신은 신입/초보 개발자 팀을 이끄는 시니어 테크 리드입니다.  \n",
      "다음은 한 프로젝트에 대한 주요 정보입니다.  \n",
      "이 정보를 바탕으로 해당 프로젝트를 성공적으로 구현하기 위한 작업 구조를 작성해야 합니다.\n",
      "\n",
      "---\n",
      "\n",
      "- 프로젝트 정보 JSON:\n",
      "{{ input }}\n",
      "\n",
      "작업 조건:\n",
      "1. Category: 패키지 수준의 상위 기능 그룹, 5개 이상  \n",
      "2. Feature: 각 Category 아래 기능 모듈, 5개 이상  \n",
      "3. Action: 각 Feature에 대응하는 실제 구현 단위, 3개 이상  \n",
      "4. importance: 각 Actions의 기능 중요도 (1~5 사이 정수)  \n",
      "5. 출력은 반드시 JSON 형식의 문자열만 반환 (설명 X, 주석 X)\n",
      "\n",
      "예시 포맷:\n",
      "{\n",
      "  \"workspace_id\": \"워크스페이스 ID\",\n",
      "  \"recommendedCategories\": [\n",
      "    {\n",
      "      \"name\": \"카테고리 이름\",\n",
      "      \"features\": [\n",
      "        {\n",
      "          \"name\": \"기능 이름\",\n",
      "          \"actions\": [\n",
      "            { \"name\": \"작업 이름\", \"importance\": 정수 }\n",
      "          ]\n",
      "        }\n",
      "      ]\n",
      "    }\n",
      "  ]\n",
      "}\n",
      "\n"
     ]
    }
   ],
   "source": [
    "print(RCMD_PROMPT)"
   ]
  },
  {
   "cell_type": "code",
   "execution_count": 127,
   "id": "c577a83b",
   "metadata": {},
   "outputs": [
    {
     "name": "stdout",
     "output_type": "stream",
     "text": [
      "[1, 11, 4, 12, 6, 16, 15]\n"
     ]
    }
   ],
   "source": [
    "# project ID 추출\n",
    "def extract_values_by_key(obj, key):\n",
    "    values = []\n",
    "\n",
    "    if isinstance(obj, dict):\n",
    "        for k, v in obj.items():\n",
    "            if k == key:\n",
    "                values.append(v)\n",
    "            values.extend(extract_values_by_key(v, key))\n",
    "    elif isinstance(obj, list):\n",
    "        for item in obj:\n",
    "            values.extend(extract_values_by_key(item, key))\n",
    "\n",
    "    return values\n",
    "\n",
    "# Read target file\n",
    "with open(JSON_FILE_PATH, \"r\", encoding=\"utf-8\") as f:\n",
    "    data = json.load(f)\n",
    "\n",
    "target_key = \"project_info_id\"\n",
    "proj_id_list = extract_values_by_key(data, target_key)\n",
    "\n",
    "print(proj_id_list)"
   ]
  },
  {
   "cell_type": "code",
   "execution_count": 128,
   "id": "93927ebf",
   "metadata": {},
   "outputs": [
    {
     "name": "stdout",
     "output_type": "stream",
     "text": [
      "{\n",
      "  \"project_info_id\": 11,\n",
      "  \"category\": \"학습 관리\",\n",
      "  \"core_features\": [\n",
      "    \"체크리스트 형태의 과제 관리\",\n",
      "    \"퀴즈를 통한 반복 학습\"\n",
      "  ],\n",
      "  \"created_at\": \"2025-06-19T08:24:29.404944\",\n",
      "  \"problem_solving\": {\n",
      "    \"solutionIdea\": \"스터디 그룹 내에서 과제 관리와 퀴즈를 통해 학습 내용을 반복 학습할 수 있는 기능 제공\",\n",
      "    \"currentProblem\": \"학생들이 학습 동기를 잃고 효과적으로 학습하지 못하는 문제\",\n",
      "    \"expectedBenefits\": [\n",
      "      \"학습 효과 극대화\",\n",
      "      \"사용자 간 소통 강화\",\n",
      "      \"학습 동기 부여\"\n",
      "    ]\n",
      "  },\n",
      "  \"target_users\": [\n",
      "    \"학습 동기를 얻고 싶은 학생\"\n",
      "  ],\n",
      "  \"technology_stack\": [\n",
      "    \"javaScript\",\n",
      "    \"java\"\n",
      "  ],\n",
      "  \"title\": \"스터디 그룹 운영지원 플랫폼\",\n",
      "  \"updated_at\": \"2025-06-19T08:24:29.404954\",\n",
      "  \"workspace_id\": 17\n",
      "}\n"
     ]
    }
   ],
   "source": [
    "project_id = int(random.choice(proj_id_list))\n",
    "\n",
    "def extract_project_sum(input_json, id):\n",
    "    # peject_id로 프로젝트 개요 읽어오기\n",
    "    for item in input_json:\n",
    "        if item.get(\"project_info_id\") == id:\n",
    "            return item\n",
    "    return None\n",
    "\n",
    "# peject_id로 읽어온 프로젝트 개요\n",
    "project_sum = extract_project_sum(data, project_id)\n",
    "# project_sum  # test\n",
    "type(project_sum)  # dict\n",
    "\n",
    "if project_sum:\n",
    "    print(json.dumps(project_sum, ensure_ascii=False, indent=2))  # <class 'str'>\n",
    "else:\n",
    "    print(\"** 해당 project_id를 찾을 수 없습니다. **\")"
   ]
  },
  {
   "cell_type": "code",
   "execution_count": 129,
   "id": "126da3ab",
   "metadata": {},
   "outputs": [
    {
     "name": "stdout",
     "output_type": "stream",
     "text": [
      "{\n",
      "  \"category\": \"웹 서비스\",\n",
      "  \"core_features\": [\n",
      "    \"ERD 자동생성\",\n",
      "    \"API 명세서 자동생성\",\n",
      "    \"프로젝트 정보 자동생성\"\n",
      "  ],\n",
      "  \"problem_solving\": {\n",
      "    \"solutionIdea\": \"AI가 자동으로 설계 문서를 생성하여 개발 과정을 단순화\",\n",
      "    \"currentProblem\": \"초보 개발자들이 복잡한 설계 과정을 이해하고 진행하는 데 어려움이 있음\",\n",
      "    \"expectedBenefits\": [\n",
      "      \"빠른 개발 착수\",\n",
      "      \"효율적인 팀원 간 커뮤니케이션\",\n",
      "      \"체계적인 프로젝트 경험\"\n",
      "    ]\n",
      "  },\n",
      "  \"target_users\": [\n",
      "    \"프로젝트 경험이 적은 초보 개발자\"\n",
      "  ],\n",
      "  \"technology_stack\": [\n",
      "    \"react\",\n",
      "    \"typescript\",\n",
      "    \"springboot\",\n",
      "    \"AWS\",\n",
      "    \"git action\",\n",
      "    \"vercel\"\n",
      "  ],\n",
      "  \"title\": \"프로젝트 관리 웹 서비스\",\n",
      "  \"workspace_id\": 1\n",
      "}\n"
     ]
    }
   ],
   "source": [
    "project_id = int(random.choice(proj_id_list))\n",
    "\n",
    "def extract_project_summary(input_json, id):\n",
    "    # peject_id로 프로젝트 개요 중 지정 컬럼 읽어오기\n",
    "    for item in input_json:\n",
    "        if item.get(\"project_info_id\") == id:\n",
    "            return {\n",
    "                \"category\": item[\"category\"],\n",
    "                \"core_features\": item[\"core_features\"],\n",
    "                \"problem_solving\": {\n",
    "                    \"solutionIdea\": item[\"problem_solving\"][\"solutionIdea\"],\n",
    "                    \"currentProblem\": item[\"problem_solving\"][\"currentProblem\"],\n",
    "                    \"expectedBenefits\": item[\"problem_solving\"][\"expectedBenefits\"]\n",
    "                },\n",
    "                \"target_users\": item[\"target_users\"],\n",
    "                \"technology_stack\": item[\"technology_stack\"],\n",
    "                \"title\": item[\"title\"],\n",
    "                \"workspace_id\": item[\"workspace_id\"]\n",
    "            }\n",
    "        \n",
    "    return None\n",
    "\n",
    "# peject_id로 읽어온 프로젝트 개요의 지정 컬럼\n",
    "project_summary = extract_project_summary(data, project_id)\n",
    "# project_summary  # test\n",
    "type(project_summary)  # dict\n",
    "\n",
    "if project_summary:\n",
    "    print(json.dumps(project_summary, ensure_ascii=False, indent=2))  # <class 'str'>\n",
    "else:\n",
    "    print(\"** 해당 project_id를 찾을 수 없습니다. **\")"
   ]
  },
  {
   "cell_type": "code",
   "execution_count": 130,
   "id": "a114e499",
   "metadata": {},
   "outputs": [
    {
     "data": {
      "text/plain": [
       "{'category': '웹 서비스',\n",
       " 'core_features': ['ERD 자동생성', 'API 명세서 자동생성', '프로젝트 정보 자동생성'],\n",
       " 'problem_solving': {'solutionIdea': 'AI가 자동으로 설계 문서를 생성하여 개발 과정을 단순화',\n",
       "  'currentProblem': '초보 개발자들이 복잡한 설계 과정을 이해하고 진행하는 데 어려움이 있음',\n",
       "  'expectedBenefits': ['빠른 개발 착수', '효율적인 팀원 간 커뮤니케이션', '체계적인 프로젝트 경험']},\n",
       " 'target_users': ['프로젝트 경험이 적은 초보 개발자'],\n",
       " 'technology_stack': ['react',\n",
       "  'typescript',\n",
       "  'springboot',\n",
       "  'AWS',\n",
       "  'git action',\n",
       "  'vercel'],\n",
       " 'title': '프로젝트 관리 웹 서비스',\n",
       " 'workspace_id': 1}"
      ]
     },
     "execution_count": 130,
     "metadata": {},
     "output_type": "execute_result"
    }
   ],
   "source": [
    "# test\n",
    "project_summary\n",
    "# type(project_summary)  # dict"
   ]
  },
  {
   "cell_type": "code",
   "execution_count": null,
   "id": "25ffc96b",
   "metadata": {},
   "outputs": [
    {
     "name": "stdout",
     "output_type": "stream",
     "text": [
      "당신은 신입/초보 개발자 팀을 이끄는 시니어 테크 리드입니다.  \n",
      "다음은 한 프로젝트에 대한 주요 정보입니다.  \n",
      "이 정보를 바탕으로 해당 프로젝트를 성공적으로 구현하기 위한 작업 구조를 작성해야 합니다.\n",
      "\n",
      "---\n",
      "\n",
      "- 프로젝트 정보 JSON:\n",
      "{\n",
      "  \"category\": \"웹 서비스\",\n",
      "  \"core_features\": [\n",
      "    \"ERD 자동생성\",\n",
      "    \"API 명세서 자동생성\",\n",
      "    \"프로젝트 정보 자동생성\"\n",
      "  ],\n",
      "  \"problem_solving\": {\n",
      "    \"solutionIdea\": \"AI가 자동으로 설계 문서를 생성하여 개발 과정을 단순화\",\n",
      "    \"currentProblem\": \"초보 개발자들이 복잡한 설계 과정을 이해하고 진행하는 데 어려움이 있음\",\n",
      "    \"expectedBenefits\": [\n",
      "      \"빠른 개발 착수\",\n",
      "      \"효율적인 팀원 간 커뮤니케이션\",\n",
      "      \"체계적인 프로젝트 경험\"\n",
      "    ]\n",
      "  },\n",
      "  \"target_users\": [\n",
      "    \"프로젝트 경험이 적은 초보 개발자\"\n",
      "  ],\n",
      "  \"technology_stack\": [\n",
      "    \"react\",\n",
      "    \"typescript\",\n",
      "    \"springboot\",\n",
      "    \"AWS\",\n",
      "    \"git action\",\n",
      "    \"vercel\"\n",
      "  ],\n",
      "  \"title\": \"프로젝트 관리 웹 서비스\",\n",
      "  \"workspace_id\": 1\n",
      "}\n",
      "\n",
      "작업 조건:\n",
      "1. Category: 패키지 수준의 상위 기능 그룹, 5개 이상  \n",
      "2. Feature: 각 Category 아래 기능 모듈, 5개 이상  \n",
      "3. Action: 각 Feature에 대응하는 실제 구현 단위, 3개 이상  \n",
      "4. importance: 각 Actions의 기능 중요도 (1~5 사이 정수)  \n",
      "5. 출력은 반드시 JSON 형식의 문자열만 반환 (설명 X, 주석 X)\n",
      "\n",
      "예시 포맷:\n",
      "{\n",
      "  \"workspace_id\": \"워크스페이스 ID\",\n",
      "  \"recommendedCategories\": [\n",
      "    {\n",
      "      \"name\": \"카테고리 이름\",\n",
      "      \"features\": [\n",
      "        {\n",
      "          \"name\": \"기능 이름\",\n",
      "          \"actions\": [\n",
      "            { \"name\": \"작업 이름\", \"importance\": 정수 }\n",
      "          ]\n",
      "        }\n",
      "      ]\n",
      "    }\n",
      "  ]\n",
      "}\n"
     ]
    }
   ],
   "source": [
    "# Jinja2 template 객체 생성\n",
    "template = Template(RCMD_PROMPT)\n",
    "\n",
    "# Rendering\n",
    "rendered = template.render(input=json.dumps(project_summary, ensure_ascii=False, indent=2))\n",
    "print(rendered)\n",
    "\n",
    "#============================\n",
    "#\n",
    "# prompt = PromptTemplate(\n",
    "#     input_variables=[\"input\", \"tools\", \"tool_names\", \"agent_scratched\"],\n",
    "#     template=RCMD_PROMPT\n",
    "# )"
   ]
  },
  {
   "cell_type": "code",
   "execution_count": null,
   "id": "31f694a3",
   "metadata": {},
   "outputs": [],
   "source": [
    "# OpenAI 객체 초기화\n",
    "llm = ChatOpenAI(\n",
    "    model=\"gpt-4o-mini\",\n",
    "    temperature=0.3,\n",
    "    max_tokens=1024,\n",
    "    openai_api_key=openai_api_key\n",
    ")"
   ]
  },
  {
   "cell_type": "code",
   "execution_count": 49,
   "id": "401b3823",
   "metadata": {},
   "outputs": [],
   "source": [
    "# # langchain template 생성\n",
    "# langchain_prompt = PromptTemplate(\n",
    "#     input_variables=[\"input\", \"tools\", \"tool_names\", \"agent_scratched\"],\n",
    "#     template=rendered  # jinja2 template & langchain prompt 충돌 막으려면 여기서 렌더링된 템플릿 전달\n",
    "# )\n",
    "\n",
    "# # llm(OpenAI) <-> Langchain 연결\n",
    "# llm_chain = LLMChain(prompt=langchain_prompt, llm=llm)\n",
    "\n",
    "#=====================\n",
    "\n",
    "llm_chain = LLMChain(prompt=prompt, llm=llm)"
   ]
  },
  {
   "cell_type": "code",
   "execution_count": 50,
   "id": "78092503",
   "metadata": {},
   "outputs": [],
   "source": [
    "# LLM으로 category, feature, action 추천받는 함수\n",
    "def generate_task_suggestion(input_dict: dict):\n",
    "    return llm_chain.run(input_dict)\n",
    "\n",
    "# project summary를 받아 추천 작업을 생성하는 메인 함수\n",
    "def search_with_summary(input_summary: dict) -> str:\n",
    "\n",
    "    rendered_prompt = input_summary  # 입력 데이터 보호\n",
    "\n",
    "    # features = rendered_prompt.get(\"core_features\", [])\n",
    "    solution = rendered_prompt.get(\"problem_solving\", {}).get(\"solutionIdea\", \"\")\n",
    "    tech_stack = rendered_prompt.get(\"technology_stack\", [])\n",
    "\n",
    "    joined_stack = \" \".join(tech_stack)\n",
    "    # truncated_solution = solution[:30]\n",
    "\n",
    "    search_results = []\n",
    "\n",
    "    # 웹 검색 툴 정의\n",
    "    # search = DuckDuckGoSearchRun()\n",
    "    search = SerpAPIWrapper()\n",
    "\n",
    "    # SerpAPI 사용\n",
    "    result = None\n",
    "    try:\n",
    "        query = f'{joined_stack} 기반 {solution} 구현 방법'\n",
    "        result = search.run(query)\n",
    "        # time.sleep(2)\n",
    "        result_snippet = result[:500]\n",
    "        print(result_snippet)  # test, type=str\n",
    "    except Exception as e:\n",
    "        print(f\"[Search Error] SerpAPI 검색 실패: {e}\")\n",
    "\n",
    "    # LLM 사용\n",
    "    generated_task = None\n",
    "    try:\n",
    "        # print(result_snippet)\n",
    "        # llm_input = json.load(result_snippet)\n",
    "\n",
    "        llm_input = {\n",
    "            \"input\": result_snippet,\n",
    "            # \"workspace_id\": input_summary.get(\"workspace_id\", \"\"),\n",
    "            # \"tools\": tool_descriptions,\n",
    "            # \"tool_names\": \", \".join([t.name for t in tools]),\n",
    "            # \"agent_scratchpad\": \"\"\n",
    "        }\n",
    "        generated_task = generate_task_suggestion(llm_input)\n",
    "    except Exception as e:\n",
    "        print(f\"[LLM Error] 작업 생성 실패: {e}\")\n",
    "\n",
    "    search_results.append(generated_task)\n",
    "\n",
    "    return generated_task"
   ]
  },
  {
   "cell_type": "code",
   "execution_count": 51,
   "id": "85eb4d76",
   "metadata": {},
   "outputs": [
    {
     "name": "stdout",
     "output_type": "stream",
     "text": [
      "4\n"
     ]
    },
    {
     "data": {
      "text/plain": [
       "{'category': '웹사이트',\n",
       " 'core_features': ['챗봇을 통한 대화 기반 추억 정보 수집',\n",
       "  '사진 업로드 및 기억 저장',\n",
       "  '디지털 다이어리 작성',\n",
       "  '랜덤 추억 회상 기능'],\n",
       " 'problem_solving': {'solutionIdea': '사용자가 사진을 업로드하고 챗봇과 대화하여 기억을 회상하고 정리하는 플랫폼 제공',\n",
       "  'currentProblem': '치매 환자와 가족 간의 기억 회복 및 소통 부족',\n",
       "  'expectedBenefits': ['치매 환자의 삶의 질 향상', '가족 간의 정서적 유대감 증진']},\n",
       " 'target_users': ['손쉽게 추억을 기록하고 싶은 사람', '치매 환자와 그 가족'],\n",
       " 'technology_stack': ['react', 'typescript', '컴퓨터 비전', 'springboot'],\n",
       " 'title': '기억박물관',\n",
       " 'workspace_id': 7}"
      ]
     },
     "execution_count": 51,
     "metadata": {},
     "output_type": "execute_result"
    }
   ],
   "source": [
    "# test\n",
    "project_id = int(random.choice(proj_id_list))\n",
    "project_summary = extract_project_summary(data, project_id)\n",
    "\n",
    "print(project_id)\n",
    "project_summary"
   ]
  },
  {
   "cell_type": "code",
   "execution_count": 52,
   "id": "b4e8b2f5",
   "metadata": {},
   "outputs": [
    {
     "name": "stdout",
     "output_type": "stream",
     "text": [
      "['- 대체텍스트 : 시각장애 학습자가 사전에 강의 자료를 업로드하면, 그 자료에 포함된 그래프, 그림, 사진을 설명하는 대체텍스트를 생성한다. ... - 청각 ...', \"... 제공' 서비스를 제공하고자 합니다. 사용자가 문제가 있는 망고잎의 사진을 앱에 업로드하면 이미지 객체 검출 및 분류 AI 기술을 활용하여 망고 질병을 식별해 줍니다.\"]\n",
      "[LLM Error] 작업 생성 실패: Missing some input keys: {' tool_names ', ' tools ', ' agent_scratchpad ', ' input ', '\\n  \"workspace_id\"'}\n"
     ]
    },
    {
     "name": "stderr",
     "output_type": "stream",
     "text": [
      "C:\\Users\\user\\AppData\\Local\\Temp\\ipykernel_6800\\492503583.py:3: LangChainDeprecationWarning: The method `Chain.run` was deprecated in langchain 0.1.0 and will be removed in 1.0. Use :meth:`~invoke` instead.\n",
      "  return llm_chain.run(input_dict)\n"
     ]
    }
   ],
   "source": [
    "search_with_summary(project_summary)  # test"
   ]
  },
  {
   "cell_type": "code",
   "execution_count": null,
   "id": "a4258305",
   "metadata": {},
   "outputs": [],
   "source": [
    "# 툴 정의\n",
    "# category, feature, action 초기 생성\n",
    "create_tool = Tool(\n",
    "    name=\"CreateWorkflow\",\n",
    "    func=search_with_summary,\n",
    "    description=\"JSON 작업 흐름에 대해 category와 feature 각 5개 이상, actions 3개 이상씩 추천합니다.\"\n",
    ")\n",
    "\n",
    "# 출력용\n",
    "final_tool = Tool(\n",
    "    name=\"FinalAnswer\",\n",
    "    func=lambda x: x,\n",
    "    description=\"최종 JSON 결과를 반환합니다.\",\n",
    "    return_direct=True  # 도구 호출 즉시 결과 반환, agent 종료 \n",
    ")\n",
    "\n",
    "tools = [create_tool, final_tool]\n",
    "tool_names = [tool.name for tool in tools]"
   ]
  },
  {
   "cell_type": "code",
   "execution_count": null,
   "id": "50044c53",
   "metadata": {},
   "outputs": [
    {
     "ename": "ValueError",
     "evalue": "Prompt missing required variables: {'agent_scratchpad', 'tools', 'tool_names'}",
     "output_type": "error",
     "traceback": [
      "\u001b[1;31m---------------------------------------------------------------------------\u001b[0m",
      "\u001b[1;31mValueError\u001b[0m                                Traceback (most recent call last)",
      "Cell \u001b[1;32mIn[368], line 1\u001b[0m\n\u001b[1;32m----> 1\u001b[0m agent \u001b[38;5;241m=\u001b[39m \u001b[43mcreate_react_agent\u001b[49m\u001b[43m(\u001b[49m\n\u001b[0;32m      2\u001b[0m \u001b[43m    \u001b[49m\u001b[43mllm\u001b[49m\u001b[38;5;241;43m=\u001b[39;49m\u001b[43mllm\u001b[49m\u001b[43m,\u001b[49m\n\u001b[0;32m      3\u001b[0m \u001b[43m    \u001b[49m\u001b[43mtools\u001b[49m\u001b[38;5;241;43m=\u001b[39;49m\u001b[43mtools\u001b[49m\u001b[43m,\u001b[49m\u001b[43m  \u001b[49m\u001b[38;5;66;43;03m# 단순 tools 선언, AgentExecutor에서 tools 재전달 필요\u001b[39;49;00m\n\u001b[0;32m      4\u001b[0m \u001b[43m    \u001b[49m\u001b[38;5;66;43;03m# prompt=langchain_prompt\u001b[39;49;00m\n\u001b[0;32m      5\u001b[0m \u001b[43m    \u001b[49m\u001b[43mprompt\u001b[49m\u001b[38;5;241;43m=\u001b[39;49m\u001b[43mprompt\u001b[49m\n\u001b[0;32m      6\u001b[0m \u001b[43m)\u001b[49m\n\u001b[0;32m      8\u001b[0m \u001b[38;5;66;03m# 메모리 설정\u001b[39;00m\n\u001b[0;32m      9\u001b[0m memory \u001b[38;5;241m=\u001b[39m ConversationBufferMemory(\n\u001b[0;32m     10\u001b[0m     memory_key\u001b[38;5;241m=\u001b[39m\u001b[38;5;124m\"\u001b[39m\u001b[38;5;124magent_scratchpad\u001b[39m\u001b[38;5;124m\"\u001b[39m,   \u001b[38;5;66;03m# 대화 로그 저장용\u001b[39;00m\n\u001b[0;32m     11\u001b[0m     input_key\u001b[38;5;241m=\u001b[39m\u001b[38;5;124m\"\u001b[39m\u001b[38;5;124minput\u001b[39m\u001b[38;5;124m\"\u001b[39m                \u001b[38;5;66;03m# 사람이 말한 내용이 들어가는 키\u001b[39;00m\n\u001b[0;32m     12\u001b[0m )\n",
      "File \u001b[1;32mc:\\Users\\pje03\\Documents\\pja_MLOps\\Task_recommend\\use_agent\\agent-env\\lib\\site-packages\\langchain\\agents\\react\\agent.py:124\u001b[0m, in \u001b[0;36mcreate_react_agent\u001b[1;34m(llm, tools, prompt, output_parser, tools_renderer, stop_sequence)\u001b[0m\n\u001b[0;32m    120\u001b[0m missing_vars \u001b[38;5;241m=\u001b[39m {\u001b[38;5;124m\"\u001b[39m\u001b[38;5;124mtools\u001b[39m\u001b[38;5;124m\"\u001b[39m, \u001b[38;5;124m\"\u001b[39m\u001b[38;5;124mtool_names\u001b[39m\u001b[38;5;124m\"\u001b[39m, \u001b[38;5;124m\"\u001b[39m\u001b[38;5;124magent_scratchpad\u001b[39m\u001b[38;5;124m\"\u001b[39m}\u001b[38;5;241m.\u001b[39mdifference(\n\u001b[0;32m    121\u001b[0m     prompt\u001b[38;5;241m.\u001b[39minput_variables \u001b[38;5;241m+\u001b[39m \u001b[38;5;28mlist\u001b[39m(prompt\u001b[38;5;241m.\u001b[39mpartial_variables)\n\u001b[0;32m    122\u001b[0m )\n\u001b[0;32m    123\u001b[0m \u001b[38;5;28;01mif\u001b[39;00m missing_vars:\n\u001b[1;32m--> 124\u001b[0m     \u001b[38;5;28;01mraise\u001b[39;00m \u001b[38;5;167;01mValueError\u001b[39;00m(\u001b[38;5;124mf\u001b[39m\u001b[38;5;124m\"\u001b[39m\u001b[38;5;124mPrompt missing required variables: \u001b[39m\u001b[38;5;132;01m{\u001b[39;00mmissing_vars\u001b[38;5;132;01m}\u001b[39;00m\u001b[38;5;124m\"\u001b[39m)\n\u001b[0;32m    126\u001b[0m prompt \u001b[38;5;241m=\u001b[39m prompt\u001b[38;5;241m.\u001b[39mpartial(\n\u001b[0;32m    127\u001b[0m     tools\u001b[38;5;241m=\u001b[39mtools_renderer(\u001b[38;5;28mlist\u001b[39m(tools)),\n\u001b[0;32m    128\u001b[0m     tool_names\u001b[38;5;241m=\u001b[39m\u001b[38;5;124m\"\u001b[39m\u001b[38;5;124m, \u001b[39m\u001b[38;5;124m\"\u001b[39m\u001b[38;5;241m.\u001b[39mjoin([t\u001b[38;5;241m.\u001b[39mname \u001b[38;5;28;01mfor\u001b[39;00m t \u001b[38;5;129;01min\u001b[39;00m tools]),\n\u001b[0;32m    129\u001b[0m )\n\u001b[0;32m    130\u001b[0m \u001b[38;5;28;01mif\u001b[39;00m stop_sequence:\n",
      "\u001b[1;31mValueError\u001b[0m: Prompt missing required variables: {'agent_scratchpad', 'tools', 'tool_names'}"
     ]
    }
   ],
   "source": [
    "agent = create_react_agent(\n",
    "    llm=llm,\n",
    "    tools=tools,  # 단순 tools 선언, AgentExecutor에서 tools 재전달 필요\n",
    "    # prompt=langchain_prompt\n",
    "    prompt=prompt\n",
    ")\n",
    "\n",
    "# 메모리 설정\n",
    "memory = ConversationBufferMemory(\n",
    "    memory_key=\"agent_scratchpad\",   # 대화 로그 저장용\n",
    "    input_key=\"input\"                # 사람이 말한 내용이 들어가는 키\n",
    ")\n",
    "\n",
    "agent_executor = AgentExecutor(\n",
    "    agent=agent,\n",
    "    tools=tools,  # tools의 기능 전달\n",
    "    memory=memory,\n",
    "    max_iterations=3,\n",
    "    max_execution_time=2,\n",
    "    early_stopping_method=\"force\",\n",
    "    handle_parsing_errors=True,\n",
    "    verbose=True\n",
    ")"
   ]
  },
  {
   "cell_type": "code",
   "execution_count": null,
   "id": "ab873e0b",
   "metadata": {},
   "outputs": [
    {
     "ename": "NameError",
     "evalue": "name 'agent_executor' is not defined",
     "output_type": "error",
     "traceback": [
      "\u001b[1;31m---------------------------------------------------------------------------\u001b[0m",
      "\u001b[1;31mNameError\u001b[0m                                 Traceback (most recent call last)",
      "Cell \u001b[1;32mIn[343], line 1\u001b[0m\n\u001b[1;32m----> 1\u001b[0m response \u001b[38;5;241m=\u001b[39m \u001b[43magent_executor\u001b[49m\u001b[38;5;241m.\u001b[39minvoke({\n\u001b[0;32m      2\u001b[0m     \u001b[38;5;124m\"\u001b[39m\u001b[38;5;124minput\u001b[39m\u001b[38;5;124m\"\u001b[39m: json\u001b[38;5;241m.\u001b[39mdumps(project_summary, ensure_ascii\u001b[38;5;241m=\u001b[39m\u001b[38;5;28;01mFalse\u001b[39;00m),\n\u001b[0;32m      3\u001b[0m     \u001b[38;5;124m\"\u001b[39m\u001b[38;5;124mtool\u001b[39m\u001b[38;5;124m\"\u001b[39m: [\u001b[38;5;124m\"\u001b[39m\u001b[38;5;124mCreateWorkflow\u001b[39m\u001b[38;5;124m\"\u001b[39m, \u001b[38;5;124m\"\u001b[39m\u001b[38;5;124mFinal Answer\u001b[39m\u001b[38;5;124m\"\u001b[39m],\n\u001b[0;32m      4\u001b[0m     \u001b[38;5;124m\"\u001b[39m\u001b[38;5;124mtool_names\u001b[39m\u001b[38;5;124m\"\u001b[39m: tool_names,\n\u001b[0;32m      5\u001b[0m     \u001b[38;5;124m\"\u001b[39m\u001b[38;5;124magent_scratchpad\u001b[39m\u001b[38;5;124m\"\u001b[39m: \u001b[38;5;124m\"\u001b[39m\u001b[38;5;124m\"\u001b[39m\n\u001b[0;32m      6\u001b[0m })\n\u001b[0;32m      8\u001b[0m \u001b[38;5;66;03m# 답변 생성 확인\u001b[39;00m\n\u001b[0;32m      9\u001b[0m \u001b[38;5;28mprint\u001b[39m(response)\n",
      "\u001b[1;31mNameError\u001b[0m: name 'agent_executor' is not defined"
     ]
    }
   ],
   "source": [
    "response = agent_executor.invoke({\n",
    "    \"input\": json.dumps(project_summary, ensure_ascii=False),\n",
    "    \"tool\": [\"CreateWorkflow\", \"Final Answer\"],\n",
    "    \"tool_names\": tool_names,\n",
    "    \"agent_scratchpad\": \"\"\n",
    "})\n",
    "\n",
    "# 답변 생성 확인\n",
    "print(response)"
   ]
  },
  {
   "cell_type": "code",
   "execution_count": null,
   "id": "22531115",
   "metadata": {},
   "outputs": [],
   "source": []
  }
 ],
 "metadata": {
  "kernelspec": {
   "display_name": "agent-env",
   "language": "python",
   "name": "python3"
  },
  "language_info": {
   "codemirror_mode": {
    "name": "ipython",
    "version": 3
   },
   "file_extension": ".py",
   "mimetype": "text/x-python",
   "name": "python",
   "nbconvert_exporter": "python",
   "pygments_lexer": "ipython3",
   "version": "3.10.11"
  }
 },
 "nbformat": 4,
 "nbformat_minor": 5
}
