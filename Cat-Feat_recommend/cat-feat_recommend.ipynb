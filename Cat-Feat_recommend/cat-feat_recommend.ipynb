{
 "cells": [
  {
   "cell_type": "code",
   "execution_count": null,
   "id": "f31f6cdc",
   "metadata": {},
   "outputs": [],
   "source": [
    "# %pip install -r requirements.txt"
   ]
  },
  {
   "cell_type": "code",
   "execution_count": 2,
   "id": "255dbbda",
   "metadata": {},
   "outputs": [
    {
     "name": "stdout",
     "output_type": "stream",
     "text": [
      "Note: you may need to restart the kernel to use updated packages.\n"
     ]
    }
   ],
   "source": [
    "%pip freeze > requirements.txt"
   ]
  },
  {
   "cell_type": "code",
   "execution_count": 2,
   "id": "b69d5938",
   "metadata": {},
   "outputs": [],
   "source": [
    "from langchain.agents import Tool\n",
    "from langchain_community.tools import DuckDuckGoSearchRun\n",
    "from langchain.tools import tool\n",
    "from langchain.chains import LLMChain\n",
    "from langchain.prompts import PromptTemplate\n",
    "from langchain_openai import ChatOpenAI\n",
    "from langchain.agents import AgentExecutor, create_react_agent\n",
    "from langchain.memory import ConversationBufferMemory\n",
    "from jinja2 import Template\n",
    "\n",
    "from dotenv import load_dotenv\n",
    "import json\n",
    "import os\n",
    "import json\n",
    "import random"
   ]
  },
  {
   "cell_type": "code",
   "execution_count": 3,
   "id": "8871e49d",
   "metadata": {},
   "outputs": [],
   "source": [
    "load_dotenv()\n",
    "openai_api_key = os.getenv(\"OPENAI_API_KEY\")"
   ]
  },
  {
   "cell_type": "code",
   "execution_count": 4,
   "id": "889e9bf4",
   "metadata": {},
   "outputs": [
    {
     "data": {
      "text/plain": [
       "'c:\\\\Users\\\\user\\\\Documents\\\\pja_MLOps\\\\Cat-Feat_recommend'"
      ]
     },
     "execution_count": 4,
     "metadata": {},
     "output_type": "execute_result"
    }
   ],
   "source": [
    "%pwd"
   ]
  },
  {
   "cell_type": "code",
   "execution_count": 5,
   "id": "433e137e",
   "metadata": {},
   "outputs": [],
   "source": [
    "JSON_FILE_PATH = \"data\\\\project_summary.json\"\n",
    "RCMD_PROMPT_PATH = \"cat-feat_recommend.md\""
   ]
  },
  {
   "cell_type": "code",
   "execution_count": 13,
   "id": "a066ba74",
   "metadata": {},
   "outputs": [],
   "source": [
    "# Read data\n",
    "with open(JSON_FILE_PATH, 'r', encoding='utf-8') as f:\n",
    "    json_data = json.load(f)\n",
    "\n",
    "# Read prompt\n",
    "with open(RCMD_PROMPT_PATH, \"r\", encoding=\"utf-8\", errors=\"replace\") as f:\n",
    "    RCMD_PROMPT = f.read()"
   ]
  },
  {
   "cell_type": "code",
   "execution_count": 11,
   "id": "10c90ebe",
   "metadata": {},
   "outputs": [
    {
     "data": {
      "text/plain": [
       "[{'project_info_id': 1,\n",
       "  'category': '웹 서비스',\n",
       "  'core_features': ['ERD 자동생성', 'API 명세서 자동생성', '프로젝트 정보 자동생성'],\n",
       "  'created_at': '2025-06-18T00:39:46.947095',\n",
       "  'problem_solving': {'solutionIdea': 'AI가 자동으로 설계 문서를 생성하여 개발 과정을 단순화',\n",
       "   'currentProblem': '초보 개발자들이 복잡한 설계 과정을 이해하고 진행하는 데 어려움이 있음',\n",
       "   'expectedBenefits': ['빠른 개발 착수', '효율적인 팀원 간 커뮤니케이션', '체계적인 프로젝트 경험']},\n",
       "  'target_users': ['프로젝트 경험이 적은 초보 개발자'],\n",
       "  'technology_stack': ['react',\n",
       "   'typescript',\n",
       "   'springboot',\n",
       "   'AWS',\n",
       "   'git action',\n",
       "   'vercel'],\n",
       "  'title': '프로젝트 관리 웹 서비스',\n",
       "  'updated_at': '2025-06-18T00:39:46.947102',\n",
       "  'workspace_id': 1},\n",
       " {'project_info_id': 11,\n",
       "  'category': '학습 관리',\n",
       "  'core_features': ['체크리스트 형태의 과제 관리', '퀴즈를 통한 반복 학습'],\n",
       "  'created_at': '2025-06-19T08:24:29.404944',\n",
       "  'problem_solving': {'solutionIdea': '스터디 그룹 내에서 과제 관리와 퀴즈를 통해 학습 내용을 반복 학습할 수 있는 기능 제공',\n",
       "   'currentProblem': '학생들이 학습 동기를 잃고 효과적으로 학습하지 못하는 문제',\n",
       "   'expectedBenefits': ['학습 효과 극대화', '사용자 간 소통 강화', '학습 동기 부여']},\n",
       "  'target_users': ['학습 동기를 얻고 싶은 학생'],\n",
       "  'technology_stack': ['javaScript', 'java'],\n",
       "  'title': '스터디 그룹 운영지원 플랫폼',\n",
       "  'updated_at': '2025-06-19T08:24:29.404954',\n",
       "  'workspace_id': 17},\n",
       " {'project_info_id': 4,\n",
       "  'category': '웹사이트',\n",
       "  'core_features': ['챗봇을 통한 대화 기반 추억 정보 수집',\n",
       "   '사진 업로드 및 기억 저장',\n",
       "   '디지털 다이어리 작성',\n",
       "   '랜덤 추억 회상 기능'],\n",
       "  'created_at': '2025-06-18T12:51:01.305042',\n",
       "  'problem_solving': {'solutionIdea': '사용자가 사진을 업로드하고 챗봇과 대화하여 기억을 회상하고 정리하는 플랫폼 제공',\n",
       "   'currentProblem': '치매 환자와 가족 간의 기억 회복 및 소통 부족',\n",
       "   'expectedBenefits': ['치매 환자의 삶의 질 향상', '가족 간의 정서적 유대감 증진']},\n",
       "  'target_users': ['손쉽게 추억을 기록하고 싶은 사람', '치매 환자와 그 가족'],\n",
       "  'technology_stack': ['react', 'typescript', '컴퓨터 비전', 'springboot'],\n",
       "  'title': '기억박물관',\n",
       "  'updated_at': '2025-06-18T12:51:01.305046',\n",
       "  'workspace_id': 7},\n",
       " {'project_info_id': 12,\n",
       "  'category': '교육/학습',\n",
       "  'core_features': ['체크리스트 형태의 과제 관리', '퀴즈를 통한 반복 학습'],\n",
       "  'created_at': '2025-06-19T08:40:49.432892',\n",
       "  'problem_solving': {'solutionIdea': '스터디 그룹 내에서 과제 관리와 퀴즈를 통해 학습 내용을 반복 학습할 수 있도록 지원',\n",
       "   'currentProblem': '학생들이 학습 동기를 잃고 효과적으로 학습하지 못하는 문제',\n",
       "   'expectedBenefits': ['학습 효과 극대화', '사용자 간 소통 강화', '학습 동기 부여']},\n",
       "  'target_users': ['학습 동기를 얻고 싶은 학생'],\n",
       "  'technology_stack': ['javaScript', 'java'],\n",
       "  'title': '스터디 그룹 운영지원 플랫폼',\n",
       "  'updated_at': '2025-06-19T08:40:49.432896',\n",
       "  'workspace_id': 18},\n",
       " {'project_info_id': 6,\n",
       "  'category': '교육/학습 관리',\n",
       "  'core_features': ['체크 리스트 형태의 과제 관리', '퀴즈를 통한 반복 학습'],\n",
       "  'created_at': '2025-06-19T02:01:30.915498',\n",
       "  'problem_solving': {'solutionIdea': '스터디 그룹 내에서 과제 관리와 퀴즈를 통해 학습 효과를 극대화',\n",
       "   'currentProblem': '학생들이 학습 동기를 유지하기 어려움',\n",
       "   'expectedBenefits': ['사용자 간의 소통 강화', '학습 동기 부여']},\n",
       "  'target_users': ['학습 동기를 얻고 싶은 학생'],\n",
       "  'technology_stack': ['javaScript', 'java'],\n",
       "  'title': '스터디 그룹 운영 지원 플랫폼',\n",
       "  'updated_at': '2025-06-19T08:08:47.016643',\n",
       "  'workspace_id': 8},\n",
       " {'project_info_id': 16,\n",
       "  'category': '웹 서비스',\n",
       "  'core_features': ['프로젝트 협업 기능 툴', '내용을 대시 보드로 확인'],\n",
       "  'created_at': '2025-06-20T02:50:02.349680',\n",
       "  'problem_solving': {'solutionIdea': '직관적인 UI와 협업 도구를 제공하여 사용자가 쉽게 프로젝트를 관리할 수 있도록 지원',\n",
       "   'currentProblem': '프로젝트 관리의 복잡성과 비효율성',\n",
       "   'expectedBenefits': ['생산성 향상', '효율적인 팀워크', '프로젝트 진행 상황의 명확한 시각화']},\n",
       "  'target_users': ['프로젝트 경험이 적은 개발자'],\n",
       "  'technology_stack': ['Spring', 'React'],\n",
       "  'title': '프로젝트 워크 플로우 웹 서비스',\n",
       "  'updated_at': '2025-06-20T02:50:02.349687',\n",
       "  'workspace_id': 24},\n",
       " {'project_info_id': 15,\n",
       "  'category': '학습 관리',\n",
       "  'core_features': ['체크리스트 형태의 과제 관리', '퀴즈를 통한 반복 학습'],\n",
       "  'created_at': '2025-06-20T02:21:30.596460',\n",
       "  'problem_solving': {'solutionIdea': '스터디 그룹 내에서 과제 관리와 퀴즈 기능을 통해 학습 효과를 극대화',\n",
       "   'currentProblem': '학생들이 학습 동기를 잃고 효과적으로 학습하지 못하는 문제',\n",
       "   'expectedBenefits': ['사용자 간의 소통 강화', '학습 동기 부여']},\n",
       "  'target_users': ['학습 동기를 얻고 싶은 학생'],\n",
       "  'technology_stack': ['javaScript', 'java'],\n",
       "  'title': '스터디 그룹 운영지원 플랫폼',\n",
       "  'updated_at': '2025-06-20T02:21:30.596470',\n",
       "  'workspace_id': 23}]"
      ]
     },
     "execution_count": 11,
     "metadata": {},
     "output_type": "execute_result"
    }
   ],
   "source": [
    "json_data"
   ]
  },
  {
   "cell_type": "code",
   "execution_count": 14,
   "id": "456ae334",
   "metadata": {},
   "outputs": [
    {
     "data": {
      "text/plain": [
       "'test prompt'"
      ]
     },
     "execution_count": 14,
     "metadata": {},
     "output_type": "execute_result"
    }
   ],
   "source": [
    "RCMD_PROMPT"
   ]
  },
  {
   "cell_type": "code",
   "execution_count": 16,
   "id": "c577a83b",
   "metadata": {},
   "outputs": [
    {
     "name": "stdout",
     "output_type": "stream",
     "text": [
      "[1, 11, 4, 12, 6, 16, 15]\n"
     ]
    }
   ],
   "source": [
    "# project ID 추출\n",
    "def extract_values_by_key(obj, key):\n",
    "    values = []\n",
    "\n",
    "    if isinstance(obj, dict):\n",
    "        for k, v in obj.items():\n",
    "            if k == key:\n",
    "                values.append(v)\n",
    "            values.extend(extract_values_by_key(v, key))\n",
    "    elif isinstance(obj, list):\n",
    "        for item in obj:\n",
    "            values.extend(extract_values_by_key(item, key))\n",
    "\n",
    "    return values\n",
    "\n",
    "# Read target file\n",
    "with open(JSON_FILE_PATH, \"r\", encoding=\"utf-8\") as f:\n",
    "    data = json.load(f)\n",
    "\n",
    "target_key = \"project_info_id\"\n",
    "proj_id_list = extract_values_by_key(data, target_key)\n",
    "\n",
    "print(proj_id_list)"
   ]
  },
  {
   "cell_type": "code",
   "execution_count": 26,
   "id": "93927ebf",
   "metadata": {},
   "outputs": [
    {
     "name": "stdout",
     "output_type": "stream",
     "text": [
      "{\n",
      "  \"project_info_id\": 6,\n",
      "  \"category\": \"교육/학습 관리\",\n",
      "  \"core_features\": [\n",
      "    \"체크 리스트 형태의 과제 관리\",\n",
      "    \"퀴즈를 통한 반복 학습\"\n",
      "  ],\n",
      "  \"created_at\": \"2025-06-19T02:01:30.915498\",\n",
      "  \"problem_solving\": {\n",
      "    \"solutionIdea\": \"스터디 그룹 내에서 과제 관리와 퀴즈를 통해 학습 효과를 극대화\",\n",
      "    \"currentProblem\": \"학생들이 학습 동기를 유지하기 어려움\",\n",
      "    \"expectedBenefits\": [\n",
      "      \"사용자 간의 소통 강화\",\n",
      "      \"학습 동기 부여\"\n",
      "    ]\n",
      "  },\n",
      "  \"target_users\": [\n",
      "    \"학습 동기를 얻고 싶은 학생\"\n",
      "  ],\n",
      "  \"technology_stack\": [\n",
      "    \"javaScript\",\n",
      "    \"java\"\n",
      "  ],\n",
      "  \"title\": \"스터디 그룹 운영 지원 플랫폼\",\n",
      "  \"updated_at\": \"2025-06-19T08:08:47.016643\",\n",
      "  \"workspace_id\": 8\n",
      "}\n"
     ]
    }
   ],
   "source": [
    "project_id = int(random.choice(proj_id_list))\n",
    "\n",
    "def extract_workspace_view(input_json, id):\n",
    "    # peject_id로 프로젝트 개요 읽어오기\n",
    "    for item in input_json:\n",
    "        if item.get(\"project_info_id\") == id:\n",
    "            return item\n",
    "    return None\n",
    "\n",
    "# peject_id로 읽어온 프로젝트 개요\n",
    "project_summary = extract_workspace_view(data, project_id)\n",
    "# project_summary  # test\n",
    "type(project_summary)  # dict\n",
    "\n",
    "if project_summary:\n",
    "    print(json.dumps(project_summary, ensure_ascii=False, indent=2))  # <class 'str'>\n",
    "else:\n",
    "    print(\"** 해당 project_id를 찾을 수 없습니다. **\")"
   ]
  },
  {
   "cell_type": "code",
   "execution_count": 27,
   "id": "31f694a3",
   "metadata": {},
   "outputs": [],
   "source": [
    "# OpenAI 객체 초기화\n",
    "llm = ChatOpenAI(\n",
    "    model=\"gpt-4o-mini\",\n",
    "    temperature=0.3,\n",
    "    max_tokens=1024,\n",
    "    openai_api_key=openai_api_key\n",
    ")"
   ]
  },
  {
   "cell_type": "code",
   "execution_count": null,
   "id": "401b3823",
   "metadata": {},
   "outputs": [],
   "source": [
    "# 변수{} 삽입 가능한 템플릿 생성\n",
    "prompt = PromptTemplate(\n",
    "    input_variables=[\"input\", \"tools\", \"tool_names\", \"agent_scratched\"],\n",
    "    template=RCMD_PROMPT\n",
    "    # template=template\n",
    ")"
   ]
  },
  {
   "cell_type": "code",
   "execution_count": null,
   "id": "78092503",
   "metadata": {},
   "outputs": [],
   "source": [
    "# llm(OpenAI) <-> Langchain 연결\n",
    "llm_chain = LLMChain(prompt=prompt, llm=llm)\n",
    "\n",
    "# LLM으로 category, feature, action 추천 받는 함수\n",
    "def generate_next_actions(input_dict):\n",
    "    return llm_chain.run(input_dict)\n",
    "\n",
    "# 한 프로젝트의 요약 정보를 받아 추천 작업을 생성하는 메인 함수\n",
    "# @tool(description=\"워크스페이스 JSON으로부터 feature별 추천 작업을 생성합니다.\")\n",
    "def parse_and_generate_all(proj_sum: dict) -> str:\n",
    "\n",
    "    data = input_str  # 수정!!!!!!!\n",
    "\n",
    "    # 웹 검색 툴 정의\n",
    "    search = DuckDuckGoSearchRun()\n",
    "\n",
    "    for category in data.get(\"recommendedCategories\", []):  # recommendedCategories 가져오기\n",
    "        for feature in category.get(\"features\", []):        # recommendedCategories 내부의 feature에서\n",
    "\n",
    "            # 웹 검색\n",
    "            try:\n",
    "                search_query = f\"{feature['name']} 기능 구현 방법\"  # feature name에 대한 actions 서치\n",
    "                search_result = search.run(search_query)\n",
    "            except Exception as e:\n",
    "                search_result = f\"** 웹 검색 실패: {e} **\"\n",
    "                \n",
    "            # featureName, existingActions 변수 사용 안 하고 서치\n",
    "            llm_input = search_result[:500]\n",
    "            \n",
    "            generated_actions = []\n",
    "\n",
    "            try:\n",
    "                generated_json_str = generate_next_actions(llm_input)  # 추천 actions 생성\n",
    "                generated_actions = json.loads(generated_json_str)     # 추천 actions를 json형식의 python 객체로 load\n",
    "                feature[\"actions\"].extend(generated_actions)\n",
    "            except Exception as e:\n",
    "                feature[\"actions\"].append({\n",
    "                    \"name\": f\"작업 생성 실패: {e}\",\n",
    "                    \"startDate\": \"2025-01-01T00:00:00\",\n",
    "                    \"endDate\": \"2025-01-01T23:59:59\",\n",
    "                    \"importance\": 0\n",
    "                })\n",
    "\n",
    "    # return json.dumps(data, ensure_ascii=False, indent=2)\n",
    "    return data"
   ]
  }
 ],
 "metadata": {
  "kernelspec": {
   "display_name": "Python 3",
   "language": "python",
   "name": "python3"
  },
  "language_info": {
   "codemirror_mode": {
    "name": "ipython",
    "version": 3
   },
   "file_extension": ".py",
   "mimetype": "text/x-python",
   "name": "python",
   "nbconvert_exporter": "python",
   "pygments_lexer": "ipython3",
   "version": "3.10.11"
  }
 },
 "nbformat": 4,
 "nbformat_minor": 5
}
