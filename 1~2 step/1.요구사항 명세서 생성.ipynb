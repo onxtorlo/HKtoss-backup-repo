{
 "cells": [
  {
   "cell_type": "code",
   "execution_count": 3,
   "id": "d563445a",
   "metadata": {},
   "outputs": [],
   "source": [
    "import dotenv\n",
    "import os\n",
    "import openai\n",
    "import json\n",
    "import os\n",
    "import pandas as pd\n",
    "\n",
    "# .env 파일 로드 (있다면)\n",
    "dotenv.load_dotenv()\n",
    "\n",
    "OPENAI_API_KEY = os.getenv(\"OPENAI_API_KEY\") "
   ]
  },
  {
   "cell_type": "code",
   "execution_count": 13,
   "id": "99cf51aa",
   "metadata": {},
   "outputs": [],
   "source": [
    "df = pd.read_csv(\"data_detail.csv\")\n",
    "texts = df['text'].to_list()\n",
    "contents = df['detail'].to_list()"
   ]
  },
  {
   "cell_type": "code",
   "execution_count": 29,
   "id": "5a68acef",
   "metadata": {},
   "outputs": [],
   "source": [
    "client = openai.OpenAI()\n",
    "\n",
    "# 최적화된 시스템 프롬프트\n",
    "OPTIMIZED_SYSTEM_PROMPT = \"\"\"\n",
    "당신은 소프트웨어 프로젝트의 요구사항 분석 전문가입니다.\n",
    "주어진 프로젝트 개요를 바탕으로 현실적이고 구체적인 기능 요구사항과 성능 요구사항을 생성하는 것이 목표입니다.\n",
    "\n",
    "생성 규칙:\n",
    "1. 기능 요구사항(FUNCTIONAL): 사용자 관점에서 시스템이 제공해야 하는 구체적인 기능\n",
    "2. 성능 요구사항(PERFORMANCE): 시스템의 응답시간, 처리량, 가용성, 확장성 등 측정 가능한 수치 포함\n",
    "3. 각 요구사항은 명확하고 구현 가능하며 테스트 가능해야 함\n",
    "4. 프로젝트 규모와 성격에 적합한 현실적인 수준이어야 함\n",
    "5. 반드시 지정된 JSON 형식으로만 응답할 것\n",
    "\"\"\"\n",
    "\n",
    "# 파인튜닝된 모델 ID\n",
    "MODEL_ID = 'gpt-4o-mini'\n",
    "\n",
    "def detail_plus(project_overview,existing_requirements, additional_count = 5):\n",
    "  # 구조화된 요청 프롬프트 (f-string 사용하지 않음)\n",
    "    enhanced_prompt = f\"\"\"\n",
    "\n",
    "    프로젝트 주제 :\n",
    "    {project_overview}\n",
    "\n",
    "    기존 요구사항 목록:\n",
    "    {existing_requirements}\n",
    "\n",
    "    위 기존 주제와 요구사항들을 참고하여 추가 요구사항을 생성해주세요\n",
    "    또한 이렇게 생성된 요구사항은 원래의 '기존 요구사항 목록'에 추가시켜서 정렬 후 출력하세요:\n",
    "\n",
    "    **생성 조건:**\n",
    "    - 기존 주제와 요구사항과 일관성을 유지하면서 새로운 {additional_count}개의 요구사항 생성\n",
    "    - 기존 주제와 요구사항의 도메인과 맥락을 고려\n",
    "    - 기능 주제와 요구사항과 성능 요구사항을 적절히 혼합\n",
    "    - 기존 요구사항과 중복되지 않는 새로운 관점의 요구사항\n",
    "\n",
    "    **중요: 반드시 아래 JSON 형식으로만 응답하세요. 다른 텍스트, 설명, 주석은 절대 포함하지 마세요.**\n",
    "\n",
    "    JSON 형식:\n",
    "    [\n",
    "      {{\"requirementType\": \"FUNCTIONAL1\", \"content\": \"구체적인 기능 요구사항\"}},\n",
    "      {{\"requirementType\": \"FUNCTIONAL2\", \"content\": \"구체적인 기능 요구사항\"}},\n",
    "      {{\"requirementType\": \"FUNCTIONAL3\", \"content\": \"구체적인 기능 요구사항\"}},\n",
    "      {{\"requirementType\": \"PERFORMANCE2\", \"content\": \"구체적인 성능 요구사항 (수치 포함)\"}},\n",
    "      {{\"requirementType\": \"PERFORMANCE1\", \"content\": \"구체적인 성능 요구사항 (수치 포함)\"}}\n",
    "    ]\n",
    "\n",
    "    응답은 반드시 위 JSON 배열로만 시작하고 끝나야 합니다.\n",
    "\n",
    "    \n",
    "    \"\"\"\n",
    "    try:\n",
    "        response = client.chat.completions.create(\n",
    "            model=MODEL_ID,\n",
    "            messages=[\n",
    "                {\"role\": \"system\", \"content\": OPTIMIZED_SYSTEM_PROMPT},\n",
    "                {\"role\": \"user\", \"content\": enhanced_prompt}\n",
    "            ],\n",
    "            max_tokens=4000,\n",
    "            temperature=0.3\n",
    "        )\n",
    "        \n",
    "        return response.choices[0].message.content\n",
    "        \n",
    "    except Exception as e:\n",
    "        return f\"오류 발생: {e}\""
   ]
  },
  {
   "cell_type": "code",
   "execution_count": null,
   "id": "f1a5f61b",
   "metadata": {},
   "outputs": [],
   "source": [
    "detail_lst = []\n",
    "for text, content in zip(texts, contents) :\n",
    "  result = json.loads(detail_plus(text, content))\n",
    "  detail_lst.append(result)\n",
    "\n",
    "df['detail'] = detail_lst "
   ]
  },
  {
   "cell_type": "code",
   "execution_count": null,
   "id": "ae9afd01",
   "metadata": {},
   "outputs": [],
   "source": []
  }
 ],
 "metadata": {
  "kernelspec": {
   "display_name": "base",
   "language": "python",
   "name": "python3"
  },
  "language_info": {
   "codemirror_mode": {
    "name": "ipython",
    "version": 3
   },
   "file_extension": ".py",
   "mimetype": "text/x-python",
   "name": "python",
   "nbconvert_exporter": "python",
   "pygments_lexer": "ipython3",
   "version": "3.11.7"
  }
 },
 "nbformat": 4,
 "nbformat_minor": 5
}
