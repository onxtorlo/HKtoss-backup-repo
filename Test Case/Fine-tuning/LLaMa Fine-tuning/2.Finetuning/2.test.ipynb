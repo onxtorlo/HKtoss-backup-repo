{
 "cells": [
  {
   "cell_type": "code",
   "execution_count": null,
   "id": "0b54100b-e3e4-4953-b73a-93ddfb12f767",
   "metadata": {},
   "outputs": [
    {
     "data": {
      "application/vnd.jupyter.widget-view+json": {
       "model_id": "908a3ae6137f4e8bbc8cbf3f4d7f0049",
       "version_major": 2,
       "version_minor": 0
      },
      "text/plain": [
       "Loading checkpoint shards:   0%|          | 0/4 [00:00<?, ?it/s]"
      ]
     },
     "metadata": {},
     "output_type": "display_data"
    },
    {
     "name": "stdout",
     "output_type": "stream",
     "text": [
      "Test 데이터 개수: 10\n"
     ]
    }
   ],
   "source": [
    "from transformers import AutoModelForCausalLM, AutoTokenizer\n",
    "import torch\n",
    "import json\n",
    "from datasets import load_dataset\n",
    "\n",
    "# 최적화된 모델 로드\n",
    "model_path = \"./llama-3.1-korean-8b-hf-stable/checkpoint-45\"\n",
    "model = AutoModelForCausalLM.from_pretrained(\n",
    "    model_path, \n",
    "    torch_dtype=torch.bfloat16,\n",
    "    device_map=\"auto\",           # 자동 GPU 배치\n",
    "    low_cpu_mem_usage=True,      # CPU 메모리 절약\n",
    "    use_cache=True              # 추론 캐시 활성화\n",
    ")\n",
    "tokenizer = AutoTokenizer.from_pretrained(model_path)\n",
    "\n",
    "# PyTorch 컴파일 최적화 (20-30% 속도 향상)\n",
    "model = torch.compile(model)\n",
    "\n",
    "# Test 데이터셋 로드\n",
    "test_dataset = load_dataset(\"json\", data_files=\"../data/test_dataset.json\", split=\"train\")\n",
    "print(f\"Test 데이터 개수: {len(test_dataset)}\")\n",
    "\n",
    "# 몇 개 샘플 평가\n",
    "# for i in range(min(3, len(test_dataset))):  # 처음 3개만\n",
    "sample = test_dataset[3]\n",
    "messages = sample['messages']\n",
    "\n",
    "# 시스템 + 유저 프롬프트만 사용\n",
    "test_messages = [\n",
    "    messages[0],  # system\n",
    "    messages[1]   # user\n",
    "]\n",
    "\n",
    "# 정답 (기대 출력)\n",
    "expected_output = messages[2]['content']\n",
    "\n",
    "# 모델 추론\n",
    "formatted_prompt = tokenizer.apply_chat_template(\n",
    "    test_messages, \n",
    "    tokenize=False, \n",
    "    add_generation_prompt=True\n",
    ")\n",
    "\n",
    "# 입력을 GPU로 보내기 (중요!)\n",
    "inputs = tokenizer(formatted_prompt, return_tensors=\"pt\").to(model.device)\n",
    "\n",
    "with torch.no_grad():\n",
    "    outputs = model.generate(\n",
    "        **inputs,\n",
    "        max_new_tokens=8192,            # 모델 한계까지\n",
    "        min_new_tokens=4000,            # 충분한 최소값\n",
    "        do_sample=False,\n",
    "        pad_token_id=tokenizer.eos_token_id,\n",
    "        eos_token_id=None,              # EOS 완전 무시\n",
    "        use_cache=False,                # 캐시 끄고 완전 생성\n",
    "        early_stopping=False\n",
    "    )\n",
    "\n",
    "generated_output = tokenizer.decode(\n",
    "    outputs[0][inputs['input_ids'].shape[1]:], \n",
    "    skip_special_tokens=True\n",
    ")\n",
    "\n",
    "print(f\"\\n{'='*60}\")\n",
    "print(f\"테스트 케이스 {i+1}:\")\n",
    "print(f\"{'='*60}\")\n",
    "print(f\"입력: {messages[1]['content'][:100]}...\")\n",
    "print(f\"\\n기대 출력 (처음 200자):\")\n",
    "print(f\"{expected_output[:200]}...\")\n",
    "print(f\"\\n실제 출력 (처음 200자):\")\n",
    "print(f\"{generated_output[:200]}...\")\n",
    "\n",
    "# 간단한 품질 평가\n",
    "required_keywords = [\"project_summary\", \"relationships_data\", \"ERD_data\", \"API_specs_data\"]\n",
    "found_keywords = sum(1 for kw in required_keywords if kw in generated_output)\n",
    "\n",
    "if found_keywords >= 3:  # 4개 중 3개 이상\n",
    "    print(f\"\\n✅ 구조적 일관성: 좋음 ({found_keywords}/4 키워드 포함)\")\n",
    "else:\n",
    "    print(f\"\\n❌ 구조적 일관성: 부족 ({found_keywords}/4 키워드 포함)\")\n",
    "    \n",
    "print(f\"\\n출력 길이: {len(generated_output)}자\")\n",
    "print(\"-\" * 60)\n",
    "\n",
    "print(\"\\n🎯 평가 완료!\")"
   ]
  },
  {
   "cell_type": "code",
   "execution_count": 13,
   "id": "9e5237c2-ffdd-487c-bf8c-42f9508e5a89",
   "metadata": {},
   "outputs": [
    {
     "data": {
      "text/plain": [
       "\" **프로젝트 상세 정보:**\\n{'project_summary': {'title': '자율주행 기반 해변 쓰레기 수거 RC카', 'category': '공학경진대회 프로젝트', 'target_users': ['공학자', '엔지니어', '환경 보호에 관심 있는 개인'],'main_purpose': '자율주행 기술을 접목해 쓰레기 수거 기능을 통해 환경 문제 해결', 'key_features': [{'feature': '자율주행', 'description': 'Keras 기반 딥러닝 모델을 통해 경로를 학습'}, {'feature': '쓰레기 수거', 'description': 'OpenCV로 인식된 쓰레기 객체를 수거'}, {'feature': '임베디드 시스템', 'description': '라즈베리파이 기반으로 시스템을 구축'}, {'feature': '카메라 영상 처리', 'description': 'OpenCV로 도로 및 쓰레기 객체 인식'}, {'feature': '행동 학습', 'description': 'Behavioral Cloning을 통해 자율 주행 경로 학습'}], 'core_technologies': [{'category': 'Programming', 'technologies': ['Python']}, {'category': 'Machine Learning', 'technologies': ['Keras', '딥러닝']}, {'category': 'Computer Vision', 'technologies': ['OpenCV']}, {'category': 'Embedded System', 'technologies': ['Embedded Linux', '라즈베리파이']}, {'category': 'Behavioral Learning', 'technologies': ['Behavioral Cloning']}], 'problem_solving': {'current_problem': '환경 문제 해결을 위한 쓰레기 수거의 비효율성과 자율주행 기술의 접목 부족','solution_approach': '자율주행 기술을 활용한 쓰레기 수거 기능을 통해 효율적인 환경 보호', 'expected_benefits': ['환경 문제 해결', '자율주행 기술 융합', '친환경 솔루션 구현']},'special_features': ['IoT와 AI 기술 융합', '실시간 데이터 처리', '효율적인 쓰레기 수거'], 'business_model': {'type': '공공 서비스','revenue_streams': ['정부 및 지자체의 지원', '환경 관련 연구 및 데이터 판매'], 'target_market': '환경 보호에 관심 있는 개인 및 지자체'},'scalability': {'user_capacity': '다수의 사용자 동시 접속 가능', 'expansion_plan': '다양한 환경 문제 해결에 적용 가능', 'integration_capability': '기존 환경 데이터 시스템과의 연동 가능'}, 'development_timeline': {'estimated_duration': '4개월', 'key_milestones': [{'phase': '기획 및 설계', 'duration': '1개월'}, {'phase': '프로토타입 개발', 'duration': '2개월'}, {'phase': '테스트 및 배포', 'duration': '1개월'}]},'success_metrics': ['쓰레기 수거량 증가율', '사용자 만족도', '환경 문제 해결 정도', '실시간 데이터 처리 속도'], 'challenges_and_risks': [{'challenge': '데이터 정확성','mitigation': '정확한 데이터 수집 및 처리 프로세스 구축'}, {'challenge': '사용자 신뢰 구축','mitigation': '투명한 데이터 처리 및 사용자 피드백 반영'}]}}\\n\\n**관계 데이터:**\\n[{'from': 'User', 'to': 'Action', 'type': 'one-to-many', 'foreign_key': 'user_id', 'constraint_name': 'fk_action_user'}, {'from': 'User', 'to': 'Feedback', 'type': 'one-to-many', 'foreign_key': 'user_id', 'constraint_name': 'fk_feedback_user'}, {'from': 'User', 'to': 'Report', 'type': 'one-to-many', 'foreign_key': 'user_id', 'constraint_name': 'fk_report_user'}, {'from': 'User', 'to': 'Alert', 'type': 'one-to-many', 'foreign_key': 'user_id', 'constraint_name': 'fk_alert_user'}, {'from': 'User', 'to': 'Recommendation', 'type': 'one-to-many', 'foreign_key': 'user_id', 'constraint_name': 'fk_recommendation_user'}, {'from': 'User', 'to': 'Challenge', 'type': 'one-to-many', 'foreign_key': 'user_id', 'constraint_name': 'fk_user_challenge'}]\\n\\n**ERD 데이터:**\\n[{'name': 'User', 'attributes': [{'name': 'user_id', 'data_type': 'INTEGER', 'is_primary_key': True, 'is_foreign_key': False, 'is_nullable': False}, {'name': 'username', 'data_type': 'VARCHAR(50)', 'is_primary_key': False, 'is_foreign_key': False, 'is_nullable': False}, {'name': 'email', 'data_type': 'VARCHAR(100)', 'is_primary_key': False, 'is_foreign_key': False, 'is_nullable': True}, {'name': 'location', 'data_type': 'VARCHAR(100)', 'is_primary_key': False, 'is_foreign_key': False, 'is_nullable': True}, {'name': 'carbon_footprint', 'data_type': 'FLOAT', 'is_primary_key': False, 'is_foreign_key': False, 'is_nullable': True}]}, {'name': 'Action', 'attributes': [{'name': 'action_id', 'data_type': 'INTEGER', 'is_primary_key': True, 'is_foreign_key': False, 'is_nullable': False}, {'name': 'user_id', 'data_type': 'INTEGER', 'is_primary_key': False, 'is_foreign_key': True, 'is_nullable': False}, {'name': 'action_type', 'data_type': 'VARCHAR(50)', 'is_primary_key': False, 'is_foreign_key': False, 'is_nullable': False}, {'name': 'timestamp', 'data_type': 'DATETIME', 'is_primary_key': False, 'is_foreign_key': False, 'is_nullable': False}]}, {'name': 'Feedback', 'attributes': [{'name': 'feedback_id', 'data_type': 'INTEGER', 'is_primary_key': True, 'is_foreign_key': False, 'is_nullable': False}, {'name': 'user_id', 'data_type': 'INTEGER', 'is_primary_key': False, 'is_foreign_key': True, 'is_nullable': False}, {'name':'suggestion', 'data_type': 'TEXT', 'is_primary_key': False, 'is_foreign_key': False, 'is_nullable': True}, {'name': 'timestamp', 'data_type': 'DATETIME', 'is_primary_key': False, 'is_foreign_key': False, 'is_nullable': False}]}, {'name': 'Report', 'attributes': [{'name':'report_id', 'data_type': 'INTEGER', 'is_primary_key': True, 'is_foreign_key': False, 'is_nullable': False}, {'name': 'user_id', 'data_type': 'INTEGER', 'is_primary_key': False, 'is_foreign_key': True, 'is_nullable': False}, {'name': 'carbon_footprint', 'data_type': 'FLOAT', 'is_primary_key': False, 'is_foreign_key': False, 'is_nullable': True}, {'name': 'trend', 'data_type': 'TEXT', 'is_primary_key': False, 'is_foreign_key': False, 'is_nullable': True}, {'name': 'timestamp', 'data_type': 'DATETIME', 'is_primary_key': False, 'is_foreign_key': False, 'is_nullable': False}]}, {'name': 'Alert', 'attributes': [{'name': 'alert_id', 'data_type': 'INTEGER', 'is_primary_key': True, 'is_foreign_key': False, 'is_nullable': False}, {'name': 'user_id', 'data_type': 'INTEGER', 'is_primary_key': False, 'is_foreign_key': True, 'is_nullable': False}, {'name': 'alert_type', 'data_type': 'VARCHAR(50)', 'is_primary_key': False, 'is_foreign_key': False, 'is_nullable': False}, {'name': 'timestamp', 'data_type': 'DATETIME', 'is_primary_key': False, 'is_foreign_key': False, 'is_nullable': False}]}, {'name': 'Recommendation', 'attributes': [{'name':'recommendation_id', 'data_type': 'INTEGER', 'is_primary_key': True, 'is_foreign_key': False, 'is_nullable': False}, {'name': 'user_id', 'data_type': 'INTEGER', 'is_primary_key': False, 'is_foreign_key': True, 'is_nullable': False}, {'name':'strategy', 'data_type': 'TEXT', 'is_primary_key': False, 'is_foreign_key': False, 'is_nullable': True}, {'name': 'timestamp', 'data_type': 'DATETIME', 'is_primary_key': False, 'is_foreign_key': False, 'is_nullable': False}]}, {'name': 'Challenge', 'attributes': [{'name': 'challenge_id', 'data_type': 'INTEGER', 'is_primary_key': True, 'is_foreign_key': False, 'is_nullable': False}, {'name': 'user_id', 'data_type': 'INTEGER', 'is_primary_key': False, 'is_foreign_key': True, 'is_nullable': False}, {'name': 'description', 'data_type': 'TEXT', 'is_primary_key': False, 'is_foreign_key': False, 'is_nullable': True}, {'name': 'timestamp', 'data_type': 'DATETIME', 'is_primary_key': False, 'is_foreign_key': False, 'is_nullable': False}]}]\\n\\n**API 명세 데이터:**\\n{'api_specification': {'openapi': '3.0.0', 'info': {'title': 'Carbon Footprint Management API','version': '1.0.0', 'description': '사용자의 소비 활동에서 발생하는 탄소 배출량을 실시간으로 계산하고 관리할 수 있도록 돕는 API'},'servers': [{'url': 'https://api.example.com/v1', 'description': 'Production server'}], 'paths': {'/users': {'get': {'summary': '사용자 목록 조회', 'description': '등록된 모든 사용자 목록을 조회합니다', 'tags': ['Users'], 'parameters': [{'name': 'page', 'in': 'query', 'description': '페이지 번호','required': False,'schema': {'type': 'integer', 'default': 1}}, {'name': 'limit', 'in': 'query', 'description': '페이지당 항목 수','required': False,'schema': {'type': 'integer', 'default': 10}}],'responses': {'200': {'description': '사용자 목록 조회 성공', 'content': {'application/json': {'schema': {'type': 'object', 'properties': {'status': {'type':'string', 'example':'success'}, 'data': {'type': 'array', 'items': {'$ref': '#/components/schemas/User'}}, 'pagination': {'$ref': '#/components/schemas/Pagination'}}}}}}, '400': {'description': '잘못된 요청', 'content': {'application/json': {'schema': {'$ref': '#/components/schemas/Error'}}}}}}, 'post': {'summary': '사용자 등록', 'description': '새로운 사용자를 등록합니다', 'tags': ['Users'],'requestBody': {'required': True, 'content': {'application/json': {'schema': {'$ref': '#/components/schemas/CreateUserRequest'}}}},'responses': {'201': {'description': '사용자 등록 성공', 'content': {'application/json': {'schema': {'type': 'object', 'properties': {'status': {'type':'string', 'example':'success'}, 'data': {'$ref': '#/components/schemas/User'}}}}}}, '400': {'description': '잘못된 요청 데이터', 'content': {'application/json': {'schema': {'$ref': '#/components/schemas/Error'}}}}}}}, '/users/{userId}': {'get': {'summary': '특정 사용자 조회', 'description': '사용자 ID로 특정 사용자 정보를 조회합니다', 'tags': ['Users'], 'parameters': [{'name': 'userId', 'in': 'path','required': True, 'description': '사용자 ID','schema': {'type': 'integer'}}],'responses': {'200': {'description': '사용자 조회 성공', 'content': {'application/json': {'schema': {'type': 'object', 'properties': {'status': {'type':'string', 'example':'success'}, 'data': {'$ref': '#/components/schemas/User'}}}}}}, '404': {'description': '사용자를 찾을 수 없음', 'content': {'application/json': {'schema': {'$ref': '#/components/schemas/Error'}}}}}}, 'put': {'summary': '사용자 정보 수정', 'description': '사용자 정보를 수정합니다', 'tags': ['Users'], 'parameters': [{'name': 'userId', 'in': 'path','required': True, 'description': '사용자 ID','schema': {'type': 'integer'}}],'requestBody': {'required': True, 'content': {'application/json': {'schema': {'$ref': '#/components/schemas/UpdateUserRequest'}}}},'responses': {'200': {'description': '사용자 정보 수정 성공', 'content': {'application/json': {'schema': {'type': 'object', 'properties': {'status': {'type':'string', 'example':'success'}, 'data': {'$ref': '#/components/schemas/User'}}}}}}, '404': {'description': '사용자를 찾을 수 없음', 'content': {'application/json': {'schema': {'$ref': '#/components/schemas/Error'}}}}}}, 'delete': {'summary':\""
      ]
     },
     "execution_count": 13,
     "metadata": {},
     "output_type": "execute_result"
    }
   ],
   "source": [
    "generated_output"
   ]
  },
  {
   "cell_type": "code",
   "execution_count": null,
   "id": "29205b24-20ad-47ab-91b3-388dc59c0302",
   "metadata": {},
   "outputs": [],
   "source": []
  },
  {
   "cell_type": "code",
   "execution_count": null,
   "id": "34d8d7b9-8f1c-486a-a52e-eacfb2b77260",
   "metadata": {},
   "outputs": [],
   "source": []
  }
 ],
 "metadata": {
  "kernelspec": {
   "display_name": "Python 3 (ipykernel)",
   "language": "python",
   "name": "python3"
  },
  "language_info": {
   "codemirror_mode": {
    "name": "ipython",
    "version": 3
   },
   "file_extension": ".py",
   "mimetype": "text/x-python",
   "name": "python",
   "nbconvert_exporter": "python",
   "pygments_lexer": "ipython3",
   "version": "3.10.12"
  }
 },
 "nbformat": 4,
 "nbformat_minor": 5
}
