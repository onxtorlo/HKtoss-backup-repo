{
 "cells": [
  {
   "cell_type": "code",
   "execution_count": 2,
   "id": "121c59a7",
   "metadata": {},
   "outputs": [],
   "source": [
    "import pandas as pd\n",
    "import json"
   ]
  },
  {
   "cell_type": "code",
   "execution_count": 5,
   "id": "4dd36d7f",
   "metadata": {},
   "outputs": [],
   "source": [
    "import pandas as pd\n",
    "import json\n",
    "\n",
    "df = pd.read_csv('../data/Fine-tuning Data_preprocess.csv').drop(columns=\"Unnamed: 0\")\n",
    "\n",
    "# 딕셔너리로 변환 후 JSON 저장\n",
    "data = df.to_dict(orient='records')\n",
    "\n",
    "with open('../data/Fine-tuning Data_preprocess.json', 'w', encoding='utf-8') as f:\n",
    "    json.dump(data, f, ensure_ascii=False, indent=2)"
   ]
  },
  {
   "cell_type": "code",
   "execution_count": null,
   "id": "2d7f6259",
   "metadata": {},
   "outputs": [
    {
     "name": "stdout",
     "output_type": "stream",
     "text": [
      "JSON 로드 성공!\n",
      "데이터 개수: 100\n",
      "첫 번째 항목: {'text': 'GQ 서비스는 학습 중심의 스터디 그룹 운영을 지원하는 웹 플랫폼으로, 단순한 그룹 관리에서 나아가 그룹 내 학습 내용을 복습할 수 있는 기능을 제공하여 학습 효과를 극대화하는 것을 목표로 한다. 사용자들은 회원가입과 로그인을 통해 서비스를 이용할 수 있으며, 아이디 및 비밀번호 찾기 기능으로 편의성을 높였다. 사용자는 새로운 스터디 그룹을 생성하거나 기존 그룹을 검색해 가입할 수 있으며, 그룹 내에서는 퀴즈를 생성하고 참여하여 학습한 내용을 효과적으로 반복 학습할 수 있다. 또한 공지사항 게시판을 통해 그룹 내 전달사항을 공유할 수 있고, 과제 게시판은 체크리스트 형태로 구성되어 과제 수행 여부를 명확히 기록할 수 있다. 이러한 기능들은 사용자 간의 소통을 강화하고 학습 동기를 부여하는 데 기여한다. 서비스는 Java Servlet과 JSP 기반으로 구현되었으며, HTML, CSS, JavaScript를 통해 사용자 친화적인 인터페이스를 제공한다. 데이터베이스는 MySQL을 사용하여 안정적인 데이터 저장과 처리를 가능하게 하며, 전반적인 시스템은 학습 관리에 최적화된 구조로 설계되었다.', 'contents': \"{'project_summary': {'title': 'GQ 서비스', 'category': '웹 플랫폼', 'target_users': ['학생', '학습자', '스터디 그룹 운영자'], 'main_purpose': '학습 효과 극대화를 위한 스터디 그룹 운영 지원', 'key_features': [{'feature': '회원가입 및 로그인', 'description': '사용자 편의성을 위한 아이디 및 비밀번호 찾기 기능 포함'}, {'feature': '스터디 그룹 생성 및 가입', 'description': '새로운 그룹 생성 및 기존 그룹 검색 기능 제공'}, {'feature': '퀴즈 생성 및 참여', 'description': '학습 내용을 효과적으로 반복 학습할 수 있는 퀴즈 기능'}, {'feature': '공지사항 게시판', 'description': '그룹 내 전달사항 공유를 위한 게시판'}, {'feature': '과제 게시판', 'description': '체크리스트 형태로 과제 수행 여부 기록'}], 'core_technologies': [{'category': 'Frontend', 'technologies': ['HTML', 'CSS', 'JavaScript']}, {'category': 'Backend', 'technologies': ['Java Servlet', 'JSP']}, {'category': 'Database', 'technologies': ['MySQL']}], 'problem_solving': {'current_problem': '스터디 그룹 운영의 비효율성과 학습 내용 복습 부족', 'solution_approach': '학습 중심의 기능을 통해 그룹 내 소통과 학습 동기 부여', 'expected_benefits': ['학습 효과 극대화', '사용자 간 소통 강화', '과제 수행 관리 용이']}, 'special_features': ['퀴즈를 통한 반복 학습', '체크리스트 형태의 과제 관리', '그룹 내 소통을 위한 공지사항 게시판'], 'business_model': {'type': '구독 기반 서비스', 'revenue_streams': ['프리미엄 기능 제공', '광고 수익'], 'target_market': '학생 및 학습자'}, 'scalability': {'user_capacity': '최대 1만명 동시 접속', 'expansion_plan': '다양한 학습 주제 및 그룹 기능 추가', 'integration_capability': '타 교육 플랫폼과의 연동 가능성'}, 'development_timeline': {'estimated_duration': '4개월', 'key_milestones': [{'phase': '기획 및 설계', 'duration': '1개월'}, {'phase': '개발', 'duration': '2개월'}, {'phase': '테스트 및 배포', 'duration': '1개월'}]}, 'success_metrics': ['사용자 증가율', '스터디 그룹 활성화 비율', '퀴즈 참여율', '과제 수행률'], 'challenges_and_risks': [{'challenge': '사용자 유입', 'mitigation': '마케팅 전략 강화 및 사용자 피드백 반영'}, {'challenge': '기술적 안정성', 'mitigation': '정기적인 시스템 점검 및 업데이트'}]}}\", 'relationships_data': \"[{'from': 'User', 'to': 'StudyGroup', 'type': 'many-to-many', 'foreign_key': 'user_id', 'constraint_name': 'fk_user_group'}, {'from': 'StudyGroup', 'to': 'Quiz', 'type': 'one-to-many', 'foreign_key': 'group_id', 'constraint_name': 'fk_quiz_group'}, {'from': 'StudyGroup', 'to': 'Announcement', 'type': 'one-to-many', 'foreign_key': 'group_id', 'constraint_name': 'fk_announcement_group'}, {'from': 'StudyGroup', 'to': 'Assignment', 'type': 'one-to-many', 'foreign_key': 'group_id', 'constraint_name': 'fk_assignment_group'}]\", 'ERD_data': \"[{'name': 'User', 'attributes': [{'name': 'user_id', 'data_type': 'INTEGER', 'is_primary_key': True, 'is_foreign_key': False, 'is_nullable': False}, {'name': 'username', 'data_type': 'VARCHAR(50)', 'is_primary_key': False, 'is_foreign_key': False, 'is_nullable': False}, {'name': 'password', 'data_type': 'VARCHAR(255)', 'is_primary_key': False, 'is_foreign_key': False, 'is_nullable': False}, {'name': 'email', 'data_type': 'VARCHAR(100)', 'is_primary_key': False, 'is_foreign_key': False, 'is_nullable': True}]}, {'name': 'StudyGroup', 'attributes': [{'name': 'group_id', 'data_type': 'INTEGER', 'is_primary_key': True, 'is_foreign_key': False, 'is_nullable': False}, {'name': 'group_name', 'data_type': 'VARCHAR(100)', 'is_primary_key': False, 'is_foreign_key': False, 'is_nullable': False}, {'name': 'description', 'data_type': 'TEXT', 'is_primary_key': False, 'is_foreign_key': False, 'is_nullable': True}]}, {'name': 'Quiz', 'attributes': [{'name': 'quiz_id', 'data_type': 'INTEGER', 'is_primary_key': True, 'is_foreign_key': False, 'is_nullable': False}, {'name': 'group_id', 'data_type': 'INTEGER', 'is_primary_key': False, 'is_foreign_key': True, 'is_nullable': False}, {'name': 'quiz_content', 'data_type': 'TEXT', 'is_primary_key': False, 'is_foreign_key': False, 'is_nullable': False}]}, {'name': 'Announcement', 'attributes': [{'name': 'announcement_id', 'data_type': 'INTEGER', 'is_primary_key': True, 'is_foreign_key': False, 'is_nullable': False}, {'name': 'group_id', 'data_type': 'INTEGER', 'is_primary_key': False, 'is_foreign_key': True, 'is_nullable': False}, {'name': 'content', 'data_type': 'TEXT', 'is_primary_key': False, 'is_foreign_key': False, 'is_nullable': False}]}, {'name': 'Assignment', 'attributes': [{'name': 'assignment_id', 'data_type': 'INTEGER', 'is_primary_key': True, 'is_foreign_key': False, 'is_nullable': False}, {'name': 'group_id', 'data_type': 'INTEGER', 'is_primary_key': False, 'is_foreign_key': True, 'is_nullable': False}, {'name': 'task_description', 'data_type': 'TEXT', 'is_primary_key': False, 'is_foreign_key': False, 'is_nullable': False}, {'name': 'is_completed', 'data_type': 'BOOLEAN', 'is_primary_key': False, 'is_foreign_key': False, 'is_nullable': False}]}]\", 'API_specs_data': \"{'api_specification': {'openapi': '3.0.0', 'info': {'title': 'GQ Study Group API', 'version': '1.0.0', 'description': '학습 중심의 스터디 그룹 운영을 지원하는 API'}, 'servers': [{'url': 'https://api.gqservice.com/v1', 'description': 'Production server'}], 'paths': {'/users': {'post': {'summary': '사용자 등록', 'description': '새로운 사용자를 등록합니다', 'tags': ['Users'], 'requestBody': {'required': True, 'content': {'application/json': {'schema': {'$ref': '#/components/schemas/CreateUserRequest'}}}}, 'responses': {'201': {'description': '사용자 등록 성공', 'content': {'application/json': {'schema': {'$ref': '#/components/schemas/User'}}}}, '400': {'description': '잘못된 요청 데이터', 'content': {'application/json': {'schema': {'$ref': '#/components/schemas/Error'}}}}}}}, '/users/login': {'post': {'summary': '사용자 로그인', 'description': '사용자가 로그인합니다', 'tags': ['Users'], 'requestBody': {'required': True, 'content': {'application/json': {'schema': {'$ref': '#/components/schemas/LoginRequest'}}}}, 'responses': {'200': {'description': '로그인 성공', 'content': {'application/json': {'schema': {'$ref': '#/components/schemas/LoginResponse'}}}}, '401': {'description': '잘못된 자격 증명', 'content': {'application/json': {'schema': {'$ref': '#/components/schemas/Error'}}}}}}}, '/groups': {'post': {'summary': '스터디 그룹 생성', 'description': '새로운 스터디 그룹을 생성합니다', 'tags': ['Groups'], 'requestBody': {'required': True, 'content': {'application/json': {'schema': {'$ref': '#/components/schemas/CreateGroupRequest'}}}}, 'responses': {'201': {'description': '스터디 그룹 생성 성공', 'content': {'application/json': {'schema': {'$ref': '#/components/schemas/Group'}}}}, '400': {'description': '잘못된 요청 데이터', 'content': {'application/json': {'schema': {'$ref': '#/components/schemas/Error'}}}}}}, 'get': {'summary': '스터디 그룹 목록 조회', 'description': '모든 스터디 그룹 목록을 조회합니다', 'tags': ['Groups'], 'parameters': [{'name': 'page', 'in': 'query', 'description': '페이지 번호', 'required': False, 'schema': {'type': 'integer', 'default': 1}}, {'name': 'limit', 'in': 'query', 'description': '페이지당 항목 수', 'required': False, 'schema': {'type': 'integer', 'default': 10}}], 'responses': {'200': {'description': '스터디 그룹 목록 조회 성공', 'content': {'application/json': {'schema': {'type': 'object', 'properties': {'status': {'type': 'string', 'example': 'success'}, 'data': {'type': 'array', 'items': {'$ref': '#/components/schemas/Group'}}}}}}}}}}, '/groups/{groupId}': {'get': {'summary': '특정 스터디 그룹 조회', 'description': '스터디 그룹 ID로 특정 그룹 정보를 조회합니다', 'tags': ['Groups'], 'parameters': [{'name': 'groupId', 'in': 'path', 'required': True, 'description': '스터디 그룹 ID', 'schema': {'type': 'integer'}}], 'responses': {'200': {'description': '스터디 그룹 조회 성공', 'content': {'application/json': {'schema': {'$ref': '#/components/schemas/Group'}}}}, '404': {'description': '스터디 그룹을 찾을 수 없음', 'content': {'application/json': {'schema': {'$ref': '#/components/schemas/Error'}}}}}}, 'post': {'summary': '스터디 그룹에 참여', 'description': '스터디 그룹에 참여합니다', 'tags': ['Groups'], 'parameters': [{'name': 'groupId', 'in': 'path', 'required': True, 'description': '스터디 그룹 ID', 'schema': {'type': 'integer'}}], 'responses': {'200': {'description': '스터디 그룹 참여 성공', 'content': {'application/json': {'schema': {'type': 'object', 'properties': {'status': {'type': 'string', 'example': 'success'}, 'message': {'type': 'string', 'example': '스터디 그룹에 성공적으로 참여하였습니다'}}}}}}, '404': {'description': '스터디 그룹을 찾을 수 없음', 'content': {'application/json': {'schema': {'$ref': '#/components/schemas/Error'}}}}}}}, '/groups/{groupId}/quizzes': {'post': {'summary': '퀴즈 생성', 'description': '스터디 그룹 내에서 퀴즈를 생성합니다', 'tags': ['Quizzes'], 'parameters': [{'name': 'groupId', 'in': 'path', 'required': True, 'description': '스터디 그룹 ID', 'schema': {'type': 'integer'}}], 'requestBody': {'required': True, 'content': {'application/json': {'schema': {'$ref': '#/components/schemas/CreateQuizRequest'}}}}, 'responses': {'201': {'description': '퀴즈 생성 성공', 'content': {'application/json': {'schema': {'$ref': '#/components/schemas/Quiz'}}}}, '400': {'description': '잘못된 요청 데이터', 'content': {'application/json': {'schema': {'$ref': '#/components/schemas/Error'}}}}}}}, '/groups/{groupId}/announcements': {'post': {'summary': '공지사항 게시', 'description': '스터디 그룹 내에 공지사항을 게시합니다', 'tags': ['Announcements'], 'parameters': [{'name': 'groupId', 'in': 'path', 'required': True, 'description': '스터디 그룹 ID', 'schema': {'type': 'integer'}}], 'requestBody': {'required': True, 'content': {'application/json': {'schema': {'$ref': '#/components/schemas/CreateAnnouncementRequest'}}}}, 'responses': {'201': {'description': '공지사항 게시 성공', 'content': {'application/json': {'schema': {'$ref': '#/components/schemas/Announcement'}}}}, '400': {'description': '잘못된 요청 데이터', 'content': {'application/json': {'schema': {'$ref': '#/components/schemas/Error'}}}}}}}, '/groups/{groupId}/assignments': {'post': {'summary': '과제 추가', 'description': '스터디 그룹 내에 과제를 추가합니다', 'tags': ['Assignments'], 'parameters': [{'name': 'groupId', 'in': 'path', 'required': True, 'description': '스터디 그룹 ID', 'schema': {'type': 'integer'}}], 'requestBody': {'required': True, 'content': {'application/json': {'schema': {'$ref': '#/components/schemas/CreateAssignmentRequest'}}}}, 'responses': {'201': {'description': '과제 추가 성공', 'content': {'application/json': {'schema': {'$ref': '#/components/schemas/Assignment'}}}}, '400': {'description': '잘못된 요청 데이터', 'content': {'application/json': {'schema': {'$ref': '#/components/schemas/Error'}}}}}}}}, 'components': {'schemas': {'User': {'type': 'object', 'properties': {'id': {'type': 'integer', 'example': 1}, 'username': {'type': 'string', 'example': 'john_doe'}, 'email': {'type': 'string', 'format': 'email', 'example': 'john@example.com'}, 'createdAt': {'type': 'string', 'format': 'date-time', 'example': '2024-01-15T10:30:00Z'}, 'updatedAt': {'type': 'string', 'format': 'date-time', 'example': '2024-01-15T10:30:00Z'}}}, 'CreateUserRequest': {'type': 'object', 'required': ['username', 'email', 'password'], 'properties': {'username': {'type': 'string', 'minLength': 3, 'maxLength': 50, 'example': 'john_doe'}, 'email': {'type': 'string', 'format': 'email', 'example': 'john@example.com'}, 'password': {'type': 'string', 'minLength': 8, 'example': 'password123'}}}, 'LoginRequest': {'type': 'object', 'required': ['username', 'password'], 'properties': {'username': {'type': 'string', 'example': 'john_doe'}, 'password': {'type': 'string', 'example': 'password123'}}}, 'LoginResponse': {'type': 'object', 'properties': {'status': {'type': 'string', 'example': 'success'}, 'token': {'type': 'string', 'example': 'jwt.token.here'}}}, 'Group': {'type': 'object', 'properties': {'id': {'type': 'integer', 'example': 1}, 'name': {'type': 'string', 'example': 'Study Group 1'}, 'description': {'type': 'string', 'example': 'This is a study group for learning Java.'}, 'createdAt': {'type': 'string', 'format': 'date-time', 'example': '2024-01-15T10:30:00Z'}, 'updatedAt': {'type': 'string', 'format': 'date-time', 'example': '2024-01-15T10:30:00Z'}}}, 'CreateGroupRequest': {'type': 'object', 'required': ['name', 'description'], 'properties': {'name': {'type': 'string', 'minLength': 3, 'maxLength': 100, 'example': 'Study Group 1'}, 'description': {'type': 'string', 'example': 'This is a study group for learning Java.'}}}, 'CreateQuizRequest': {'type': 'object', 'required': ['title', 'questions'], 'properties': {'title': {'type': 'string', 'example': 'Java Basics Quiz'}, 'questions': {'type': 'array', 'items': {'type': 'object', 'properties': {'question': {'type': 'string', 'example': 'What is Java?'}, 'options': {'type': 'array', 'items': {'type': 'string', 'example': 'A programming language'}}, 'answer': {'type': 'string', 'example': 'A programming language'}}}}}}, 'Quiz': {'type': 'object', 'properties': {'id': {'type': 'integer', 'example': 1}, 'title': {'type': 'string', 'example': 'Java Basics Quiz'}, 'createdAt': {'type': 'string', 'format': 'date-time', 'example': '2024-01-15T10:30:00Z'}}}, 'CreateAnnouncementRequest': {'type': 'object', 'required': ['title', 'content'], 'properties': {'title': {'type': 'string', 'example': 'Important Announcement'}, 'content': {'type': 'string', 'example': 'The next meeting will be held on Friday.'}}}, 'Announcement': {'type': 'object', 'properties': {'id': {'type': 'integer', 'example': 1}, 'title': {'type': 'string', 'example': 'Important Announcement'}, 'content': {'type': 'string', 'example': 'The next meeting will be held on Friday.'}, 'createdAt': {'type': 'string', 'format': 'date-time', 'example': '2024-01-15T10:30:00Z'}}}, 'CreateAssignmentRequest': {'type': 'object', 'required': ['title', 'description'], 'properties': {'title': {'type': 'string', 'example': 'Java Project'}, 'description': {'type': 'string', 'example': 'Complete the Java project by next week.'}}}, 'Assignment': {'type': 'object', 'properties': {'id': {'type': 'integer', 'example': 1}, 'title': {'type': 'string', 'example': 'Java Project'}, 'description': {'type': 'string', 'example': 'Complete the Java project by next week.'}, 'createdAt': {'type': 'string', 'format': 'date-time', 'example': '2024-01-15T10:30:00Z'}}}, 'Error': {'type': 'object', 'properties': {'status': {'type': 'string', 'example': 'error'}, 'message': {'type': 'string', 'example': '오류가 발생했습니다'}, 'code': {'type': 'string', 'example': 'VALIDATION_ERROR'}}}}}}}\"}\n"
     ]
    }
   ],
   "source": [
    "# JSON 파일 제대로 로드되는지 확인\n",
    "try:\n",
    "    with open('../data/Fine-tuning Data_preprocess.json', 'r', encoding='utf-8') as f:\n",
    "        data = json.load(f)\n",
    "    print(\"JSON 로드 성공!\")\n",
    "    print(f\"데이터 개수: {len(data)}\")\n",
    "    print(f\"첫 번째 항목: {data[0]}\")\n",
    "except Exception as e:\n",
    "    print(f\"에러 발생: {e}\")"
   ]
  },
  {
   "cell_type": "code",
   "execution_count": 9,
   "id": "cce8fb66",
   "metadata": {},
   "outputs": [
    {
     "name": "stdout",
     "output_type": "stream",
     "text": [
      "파인튜닝 데이터셋 생성 완료!\n",
      "총 100개의 데이터\n",
      "\n",
      "첫 번째 샘플:\n",
      "Instruction: GQ 서비스는 학습 중심의 스터디 그룹 운영을 지원하는 웹 플랫폼으로, 단순한 그룹 관리에서 나아가 그룹 내 학습 내용을 복습할 수 있는 기능을 제공하여 학습 효과를 극대화하는 것을 목표로 한다. 사용자들은 회원가입과 로그인을 통해 서비스를 이용할 수 있으며, 아이디 ...\n",
      "Output 길이: 13819\n"
     ]
    }
   ],
   "source": [
    "\n",
    "import pandas as pd\n",
    "import json\n",
    "from datasets import Dataset\n",
    "\n",
    "# CSV 파일 읽기\n",
    "df = pd.read_csv('../data/Fine-tuning Data_preprocess.csv', encoding='utf-8')\n",
    "\n",
    "# Unnamed 컬럼 제거 (있는 경우)\n",
    "if 'Unnamed: 0' in df.columns:\n",
    "    df = df.drop(columns='Unnamed: 0')\n",
    "\n",
    "def create_finetuning_dataset(df):\n",
    "    \"\"\"\n",
    "    CSV 데이터를 파인튜닝 형식으로 변환\n",
    "    text 컬럼 -> instruction\n",
    "    나머지 컬럼들 -> output으로 결합\n",
    "    \"\"\"\n",
    "    finetuning_data = []\n",
    "    \n",
    "    for _, row in df.iterrows():\n",
    "        # text 컬럼을 instruction으로 사용\n",
    "        instruction = row['text']\n",
    "        \n",
    "        # 나머지 컬럼들을 output으로 결합\n",
    "        output_parts = []\n",
    "        \n",
    "        if pd.notna(row['contents']) and row['contents']:\n",
    "            output_parts.append(f\"**프로젝트 상세 정보:**\\n{row['contents']}\")\n",
    "        \n",
    "        if pd.notna(row['relationships_data']) and row['relationships_data']:\n",
    "            output_parts.append(f\"**관계 데이터:**\\n{row['relationships_data']}\")\n",
    "        \n",
    "        if pd.notna(row['ERD_data']) and row['ERD_data']:\n",
    "            output_parts.append(f\"**ERD 데이터:**\\n{row['ERD_data']}\")\n",
    "        \n",
    "        if pd.notna(row['API_specs_data']) and row['API_specs_data']:\n",
    "            output_parts.append(f\"**API 명세 데이터:**\\n{row['API_specs_data']}\")\n",
    "        \n",
    "        output = '\\n\\n'.join(output_parts)\n",
    "        \n",
    "        finetuning_data.append({\n",
    "            'instruction': instruction,\n",
    "            'output': output\n",
    "        })\n",
    "    \n",
    "    return finetuning_data\n",
    "\n",
    "# 파인튜닝 데이터셋 생성\n",
    "finetuning_dataset = create_finetuning_dataset(df)\n",
    "\n",
    "# JSON 파일로 저장\n",
    "with open('../data/finetuning_dataset.json', 'w', encoding='utf-8') as f:\n",
    "    json.dump(finetuning_dataset, f, ensure_ascii=False, indent=2)\n",
    "\n",
    "print(f\"파인튜닝 데이터셋 생성 완료!\")\n",
    "print(f\"총 {len(finetuning_dataset)}개의 데이터\")\n",
    "\n",
    "# 첫 번째 샘플 확인\n",
    "print(\"\\n첫 번째 샘플:\")\n",
    "print(\"Instruction:\", finetuning_dataset[0]['instruction'][:150] + \"...\")\n",
    "print(\"Output 길이:\", len(finetuning_dataset[0]['output']))\n"
   ]
  },
  {
   "cell_type": "code",
   "execution_count": null,
   "id": "99a589b9",
   "metadata": {},
   "outputs": [],
   "source": []
  }
 ],
 "metadata": {
  "kernelspec": {
   "display_name": "base",
   "language": "python",
   "name": "python3"
  },
  "language_info": {
   "codemirror_mode": {
    "name": "ipython",
    "version": 3
   },
   "file_extension": ".py",
   "mimetype": "text/x-python",
   "name": "python",
   "nbconvert_exporter": "python",
   "pygments_lexer": "ipython3",
   "version": "3.11.7"
  }
 },
 "nbformat": 4,
 "nbformat_minor": 5
}
