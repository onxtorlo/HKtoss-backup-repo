{
 "cells": [
  {
   "cell_type": "markdown",
   "id": "03422654",
   "metadata": {},
   "source": [
    "# 결국엔 완성이 된거 같아서 합체 후 작업\n",
    "3. requirements.csv -> 1번과 2번을 활용한 요구사항 명세서"
   ]
  },
  {
   "cell_type": "code",
   "execution_count": 19,
   "id": "84c0cb85",
   "metadata": {},
   "outputs": [],
   "source": [
    "import pandas as pd\n",
    "import openai\n",
    "import requests\n",
    "import ast\n",
    "import slack_alarm as alarm\n",
    "import json_parsing"
   ]
  },
  {
   "cell_type": "code",
   "execution_count": 20,
   "id": "522ddcda",
   "metadata": {},
   "outputs": [
    {
     "data": {
      "text/html": [
       "<div>\n",
       "<style scoped>\n",
       "    .dataframe tbody tr th:only-of-type {\n",
       "        vertical-align: middle;\n",
       "    }\n",
       "\n",
       "    .dataframe tbody tr th {\n",
       "        vertical-align: top;\n",
       "    }\n",
       "\n",
       "    .dataframe thead th {\n",
       "        text-align: right;\n",
       "    }\n",
       "</style>\n",
       "<table border=\"1\" class=\"dataframe\">\n",
       "  <thead>\n",
       "    <tr style=\"text-align: right;\">\n",
       "      <th></th>\n",
       "      <th>subject</th>\n",
       "      <th>user_input</th>\n",
       "      <th>requirements</th>\n",
       "    </tr>\n",
       "  </thead>\n",
       "  <tbody>\n",
       "    <tr>\n",
       "      <th>0</th>\n",
       "      <td>GQ 서비스는 학습 중심의 스터디 그룹 운영을 지원하는 웹 플랫폼으로, 단순한 그룹...</td>\n",
       "      <td>[{'projectName': 'StudyBuddy', 'projectTarget'...</td>\n",
       "      <td>[{'requirementType': 'FUNCTIONAL', 'content': ...</td>\n",
       "    </tr>\n",
       "    <tr>\n",
       "      <th>1</th>\n",
       "      <td>‘기억박물관’은 치매 환자와 그 가족을 위한 따뜻한 기억 회복 웹사이트입니다. 사용...</td>\n",
       "      <td>[{'projectName': '기억의 다리', 'projectTarget': '치...</td>\n",
       "      <td>[{'requirementType': 'FUNCTIONAL', 'content': ...</td>\n",
       "    </tr>\n",
       "    <tr>\n",
       "      <th>2</th>\n",
       "      <td>이 앱은 보행 약자들을 위한 지하철 길찾기 앱으로, 계단 없이 이동할 수 있는 경로...</td>\n",
       "      <td>[{'projectName': 'EasyTransit Navigator', 'pro...</td>\n",
       "      <td>[{'requirementType': 'FUNCTIONAL', 'content': ...</td>\n",
       "    </tr>\n",
       "    <tr>\n",
       "      <th>3</th>\n",
       "      <td>이 앱은 1인 가구를 위한 맞춤형 플랫폼으로, 주로 커뮤니티 기능에 중점을 두고 있...</td>\n",
       "      <td>[{'projectName': '이웃과의 소통 플랫폼', 'projectTarget...</td>\n",
       "      <td>[{'requirementType': 'FUNCTIONAL', 'content': ...</td>\n",
       "    </tr>\n",
       "    <tr>\n",
       "      <th>4</th>\n",
       "      <td>이 웹앱은 응급실 및 병원 찾기 기능을 제공하여, 응급 상황에서 사용자가 빠르고 안...</td>\n",
       "      <td>[{'projectName': 'EmergencyCare Finder', 'proj...</td>\n",
       "      <td>[{'requirementType': 'FUNCTIONAL', 'content': ...</td>\n",
       "    </tr>\n",
       "  </tbody>\n",
       "</table>\n",
       "</div>"
      ],
      "text/plain": [
       "                                             subject  \\\n",
       "0  GQ 서비스는 학습 중심의 스터디 그룹 운영을 지원하는 웹 플랫폼으로, 단순한 그룹...   \n",
       "1  ‘기억박물관’은 치매 환자와 그 가족을 위한 따뜻한 기억 회복 웹사이트입니다. 사용...   \n",
       "2  이 앱은 보행 약자들을 위한 지하철 길찾기 앱으로, 계단 없이 이동할 수 있는 경로...   \n",
       "3  이 앱은 1인 가구를 위한 맞춤형 플랫폼으로, 주로 커뮤니티 기능에 중점을 두고 있...   \n",
       "4  이 웹앱은 응급실 및 병원 찾기 기능을 제공하여, 응급 상황에서 사용자가 빠르고 안...   \n",
       "\n",
       "                                          user_input  \\\n",
       "0  [{'projectName': 'StudyBuddy', 'projectTarget'...   \n",
       "1  [{'projectName': '기억의 다리', 'projectTarget': '치...   \n",
       "2  [{'projectName': 'EasyTransit Navigator', 'pro...   \n",
       "3  [{'projectName': '이웃과의 소통 플랫폼', 'projectTarget...   \n",
       "4  [{'projectName': 'EmergencyCare Finder', 'proj...   \n",
       "\n",
       "                                        requirements  \n",
       "0  [{'requirementType': 'FUNCTIONAL', 'content': ...  \n",
       "1  [{'requirementType': 'FUNCTIONAL', 'content': ...  \n",
       "2  [{'requirementType': 'FUNCTIONAL', 'content': ...  \n",
       "3  [{'requirementType': 'FUNCTIONAL', 'content': ...  \n",
       "4  [{'requirementType': 'FUNCTIONAL', 'content': ...  "
      ]
     },
     "execution_count": 20,
     "metadata": {},
     "output_type": "execute_result"
    }
   ],
   "source": [
    "# temperature가 높게 작성을 하게 만들어서 약간 오류가 있긴함\n",
    "## 해당 파일이 수정된 파일\n",
    "df = pd.read_csv('test.csv')\n",
    "df.head()"
   ]
  },
  {
   "cell_type": "markdown",
   "id": "c14e7ebb",
   "metadata": {},
   "source": [
    "## 978개로 데이터 생성 진행\n",
    "- AWS에 있는거 활용... 을 하면 좀 그런가\n",
    "- 아무도 안 쓰는거 같으니까 테스트 겸 한번 해보자\n",
    "- AWS 주소 : http://13.209.5.218:8000/"
   ]
  },
  {
   "cell_type": "code",
   "execution_count": 21,
   "id": "eaa0187e",
   "metadata": {},
   "outputs": [
    {
     "data": {
      "text/plain": [
       "Index(['subject', 'user_input', 'requirements'], dtype='object')"
      ]
     },
     "execution_count": 21,
     "metadata": {},
     "output_type": "execute_result"
    }
   ],
   "source": [
    "df.columns"
   ]
  },
  {
   "cell_type": "markdown",
   "id": "15de78e5",
   "metadata": {},
   "source": [
    "### 진행방법\n",
    "1. 요구사항 명세서 추가 생성\n",
    "2. 프로젝트 요약 생성\n",
    "3. ERD,API 명세서 생성"
   ]
  },
  {
   "cell_type": "code",
   "execution_count": 22,
   "id": "7b6193ad",
   "metadata": {},
   "outputs": [],
   "source": [
    "import re\n",
    "import logging\n",
    "\n",
    "base_url = 'http://127.0.0.1:8000/'\n",
    "\n",
    "# 로깅 설정\n",
    "logging.basicConfig(level=logging.INFO)\n",
    "logger = logging.getLogger(__name__)\n",
    "\n",
    "def clean_escaped_quotes(text):\n",
    "    \"\"\"이스케이프된 따옴표를 정리하는 함수\"\"\"\n",
    "    \n",
    "    if not isinstance(text, str):\n",
    "        return str(text)  # 문자열이 아니면 그대로 반환\n",
    "\n",
    "    # 방법 1: 정규식으로 \\' -> ' 변환\n",
    "    cleaned = re.sub(r\"\\\\'\", \"'\", text)\n",
    "    return str(cleaned)\n",
    "\n",
    "def safe_parse_requirements(text):\n",
    "    \"\"\"안전하게 requirements 문자열을 파싱하는 함수\"\"\"\n",
    "\n",
    "     # 이미 딕셔너리나 리스트인 경우 그대로 반환\n",
    "    if isinstance(text, (dict, list)):\n",
    "        return str(text)\n",
    "    \n",
    "    # 문자열이 아닌 경우 처리\n",
    "    if not isinstance(text, str):\n",
    "        logger.warning(f\"예상치 못한 타입: {type(text)}\")\n",
    "        return str(text)\n",
    "    \n",
    "    try:\n",
    "        # 1단계: 이스케이프된 따옴표 정리\n",
    "        cleaned = clean_escaped_quotes(text)\n",
    "        \n",
    "        # 2단계: ast.literal_eval로 파싱 시도\n",
    "        parsed = ast.literal_eval(cleaned)\n",
    "        \n",
    "        return str(parsed)\n",
    "    \n",
    "    except (ValueError, SyntaxError) as e:\n",
    "        print(f\"ast.literal_eval 실패: {e}\")\n",
    "        \n",
    "        try:\n",
    "            # 3단계: 추가 정리 후 재시도\n",
    "            # 바깥쪽 따옴표 제거 (만약 있다면)\n",
    "            if cleaned.startswith(\"'\") and cleaned.endswith(\"'\"):\n",
    "                cleaned = cleaned[1:-1]\n",
    "            elif cleaned.startswith('\"') and cleaned.endswith('\"'):\n",
    "                cleaned = cleaned[1:-1]\n",
    "            \n",
    "            # 다시 파싱 시도\n",
    "            parsed = ast.literal_eval(cleaned)\n",
    "            return str(parsed)\n",
    "            \n",
    "        except Exception as e2:\n",
    "            print(f\"2차 파싱도 실패: {e2}\")\n",
    "            return None\n",
    "    \n",
    "# 요구사항 명세서 생성 함수\n",
    "def generate_requirements(project_overview, requirements) :\n",
    "    \"\"\"\n",
    "    project_overview : 유저가 입력한 project 데이터(json 형태)\n",
    "    requirements : 요구사항 명세서(json 형태)\n",
    "    \"\"\"\n",
    "    # 데이터 input\n",
    "    data = {\n",
    "        \"project_overview\": project_overview,\n",
    "        \"existing_requirements\": requirements,\n",
    "        \"additional_count\": 5,\n",
    "        \"max_tokens\": 4000,\n",
    "        \"temperature\": 0.5,\n",
    "        \"model\": \"gpt-4o-mini\"\n",
    "    }\n",
    "\n",
    "    # 데이터 호출\n",
    "    response = requests.post(\n",
    "                            url = base_url +'api/PJA/requirements/generate', \n",
    "                            json = data,\n",
    "                            headers={\"Content-Type\": \"application/json\"})\n",
    "    \n",
    "    new_requirements = response.json()\n",
    "\n",
    "    # 원본 데이터에 추가로 받은 데이터 추가\n",
    "    add_requirements = new_requirements['requirements']\n",
    "    total_requirements = str(ast.literal_eval(requirements) + add_requirements)\n",
    "\n",
    "    return total_requirements\n",
    "\n",
    "# 프로젝트 요약 생성 함수 \n",
    "def generate_project_info(project_overview, total_requirements):\n",
    "    \"\"\"\n",
    "    project_overview : 유저가 입력한 project 데이터(json 형태)\n",
    "    total_requirements : 요구사항 명세서 생성하는 코드(json 형태)\n",
    "    \"\"\"\n",
    "\n",
    "    # 데이터 input\n",
    "    data = {\n",
    "        \"project_overview\": project_overview,\n",
    "        \"requirements\": total_requirements,\n",
    "        \"max_tokens\": 4000,\n",
    "        \"temperature\": 0.5,\n",
    "        \"model\": \"gpt-4o-mini\"\n",
    "    }\n",
    "    \n",
    "    # 데이터 호출\n",
    "    response = requests.post(\n",
    "                            url = base_url +'api/PJA/json_Summury/generate', \n",
    "                            json = data,\n",
    "                            headers={\"Content-Type\": \"application/json\"})\n",
    "    project_info = response.json()\n",
    "\n",
    "    return str(project_info)\n",
    "\n",
    "# ERDAPI 생성 함수수\n",
    "def generate_ERDAPI(project_overview, total_requirements, project_info) :\n",
    "    \"\"\"\n",
    "    project_overview : 유저가 입력한 project 데이터(json 형태)\n",
    "    total_requirements : 요구사항 명세서 생성하는 데이터(json 형태)\n",
    "    project_info : 프로젝트 요약한 데이터(json 형태태)\n",
    "    \"\"\"\n",
    "\n",
    "    # 데이터 input\n",
    "    data = {\n",
    "            \"project_overview\": project_overview,\n",
    "            \"requirements\": total_requirements,\n",
    "            \"project_summury\": project_info,\n",
    "            \"max_tokens\": 6000,\n",
    "            \"temperature\": 0.5,\n",
    "            \"model\": \"gpt-4o-mini\"\n",
    "        }\n",
    "    \n",
    "    # 데이터 호출\n",
    "    response = requests.post(\n",
    "                        url = base_url +'api/PJA/json_ERDAPI/generate', \n",
    "                        json = data,\n",
    "                        headers={\"Content-Type\": \"application/json\"})\n",
    "\n",
    "    if response.status_code == 200 :\n",
    "        ERDAPI_data = response.json()\n",
    "        return str(ERDAPI_data)\n",
    "    else : \n",
    "        print({response.status_code})\n",
    "        return None"
   ]
  },
  {
   "cell_type": "code",
   "execution_count": 27,
   "id": "4793374e",
   "metadata": {},
   "outputs": [
    {
     "data": {
      "text/plain": [
       "True"
      ]
     },
     "execution_count": 27,
     "metadata": {},
     "output_type": "execute_result"
    }
   ],
   "source": [
    "import time\n",
    "\n",
    "# 테스트로 10개만\n",
    "project_overview_lst = df['user_input'][:5]\n",
    "requirements_lst= df['requirements'][:5]\n",
    "\n",
    "# 더미로 돌렸을때 걸리는 시간 체크도 필요할듯\n",
    "\n",
    "# 데이터 저장해놓을 리스트\n",
    "total_requirements_lst, project_info_lst, ERDAPI_data_lst = [], [], []\n",
    "\n",
    "for project_overview, requirements, num in zip(project_overview_lst, requirements_lst, range(len(requirements_lst))) :\n",
    "\n",
    "    # 각 코드 실행 후 리스트에 백업\n",
    "    total_requirements = generate_requirements(project_overview, requirements)\n",
    "    total_requirements = json_parsing.extract_json_from_response(total_requirements)\n",
    "    total_requirements_lst.append(total_requirements)\n",
    "\n",
    "    project_info = generate_project_info(project_overview, total_requirements)\n",
    "    project_info = json_parsing.extract_json_from_response(project_info)\n",
    "    project_info_lst.append(project_info)\n",
    "\n",
    "    ERDAPI_data = generate_ERDAPI(project_overview, total_requirements, project_info)\n",
    "    ERDAPI_data = json_parsing.extract_json_from_response(ERDAPI_data)\n",
    "    ERDAPI_data_lst.append(ERDAPI_data)\n",
    "\n",
    "    if num+1 % 50 == 0 :\n",
    "        alarm.send_slack(f\"{num}번째 실행 완료\")\n",
    "\n",
    "    time.sleep(1)\n",
    "\n",
    "alarm.send_slack(f\"더미데이터 생성 작업 완료\")"
   ]
  },
  {
   "cell_type": "code",
   "execution_count": 13,
   "id": "8b48d45f",
   "metadata": {},
   "outputs": [
    {
     "data": {
      "text/plain": [
       "[\"[{'requirementType': 'FUNCTIONAL', 'content': '사용자는 회원가입 시 이메일 인증을 통해 계정을 활성화할 수 있어야 한다.'}, {'requirementType': 'FUNCTIONAL', 'content': '사용자는 스터디 그룹 내에서 퀴즈를 생성하고, 다른 사용자가 생성한 퀴즈에 참여할 수 있어야 한다.'}, {'requirementType': 'FUNCTIONAL', 'content': '공지사항 게시판은 그룹 내 모든 회원이 읽고 댓글을 남길 수 있어야 하며, 관리자는 공지사항을 삭제할 수 있어야 한다.'}, {'requirementType': 'PERFORMANCE', 'content': '시스템은 사용자 요청에 대해 평균 2초 이내에 응답해야 한다.'}, {'requirementType': 'PERFORMANCE', 'content': '시스템은 동시 사용자 100명 이상을 지원할 수 있어야 하며, 이 경우에도 응답 시간이 3초를 초과하지 않아야 한다.'}, {'requirementType': 'PERFORMANCE', 'content': '데이터베이스는 1,000개의 스터디 그룹과 각 그룹당 최대 500개의 퀴즈를 처리할 수 있어야 하며, 데이터 조회는 1초 이내에 완료되어야 한다.'}, {'requirementType': 'FUNCTIONAL', 'content': '사용자는 스터디 그룹의 과제를 생성하고, 다른 사용자들이 과제를 제출할 수 있도록 해야 한다.'}, {'requirementType': 'FUNCTIONAL', 'content': '사용자는 자신의 퀴즈 결과를 확인하고, 이전 퀴즈에 대한 피드백을 받을 수 있어야 한다.'}, {'requirementType': 'PERFORMANCE', 'content': '시스템은 평균 1000개의 퀴즈를 동시에 생성할 수 있어야 하며, 이 경우에도 퀴즈 생성 요청에 대한 응답 시간이 4초를 초과하지 않아야 한다.'}, {'requirementType': 'PERFORMANCE', 'content': '시스템은 하루에 최대 10,000명의 사용자가 로그인할 수 있어야 하며, 이 경우에도 로그인 처리 시간은 2초 이내여야 한다.'}, {'requirementType': 'PERFORMANCE', 'content': '시스템은 데이터베이스에서 최대 10,000개의 공지사항을 저장하고, 공지사항 조회는 1초 이내에 완료되어야 한다.'}]\",\n",
       " \"[{'requirementType': 'FUNCTIONAL', 'content': '사용자는 JPEG, PNG 형식의 일상 사진을 최대 10MB 크기로 업로드할 수 있어야 한다.'}, {'requirementType': 'FUNCTIONAL', 'content': 'AI 챗봇은 사용자가 업로드한 사진에 대해 인물, 장소, 상황에 대한 정보를 자연어로 질문할 수 있어야 하며, 90% 이상의 정확도로 응답해야 한다.'}, {'requirementType': 'FUNCTIONAL', 'content': '사용자는 디지털 다이어리에 코멘트를 추가하고, 가족 구성원은 해당 코멘트에 대해 답변할 수 있는 기능을 제공해야 한다.'}, {'requirementType': 'PERFORMANCE', 'content': '시스템은 사진 업로드 후 5초 이내에 처리 결과를 사용자에게 보여줘야 한다.'}, {'requirementType': 'PERFORMANCE', 'content': 'AI 챗봇은 평균 2초 이내에 사용자 질문에 대한 응답을 제공해야 한다.'}, {'requirementType': 'PERFORMANCE', 'content': '시스템은 99.9%의 가용성을 유지해야 하며, 월간 다운타임은 1시간을 초과해서는 안 된다.'}, {'requirementType': 'FUNCTIONAL', 'content': '사용자는 디지털 다이어리에서 하루에 한 번 자신이 업로드한 사진을 회상하는 기능을 통해 과거의 기억을 시청할 수 있어야 한다.'}, {'requirementType': 'FUNCTIONAL', 'content': 'AI 챗봇은 사용자가 특정 키워드를 입력했을 때 관련된 사진이나 기억을 추천하는 기능을 제공해야 한다.'}, {'requirementType': 'PERFORMANCE', 'content': '시스템은 사용자가 디지털 다이어리에 추가한 코멘트를 3초 이내에 저장하고 표시해야 한다.'}, {'requirementType': 'PERFORMANCE', 'content': '시스템은 최대 100명의 동시 사용자가 접속할 수 있으며, 이 경우에도 평균 응답시간은 3초 이내여야 한다.'}, {'requirementType': 'FUNCTIONAL', 'content': '사용자는 업로드한 사진에 대해 태그를 추가할 수 있어야 하며, 태그를 통해 사진을 쉽게 검색할 수 있는 기능을 제공해야 한다.'}]\",\n",
       " \"[{'requirementType': 'FUNCTIONAL', 'content': '사용자는 앱을 통해 계단 없는 최적 경로를 검색하고 안내받을 수 있어야 한다.'}, {'requirementType': 'FUNCTIONAL', 'content': '앱은 실시간으로 교통 상황과 출입구 혼잡도를 사용자에게 제공해야 한다.'}, {'requirementType': 'FUNCTIONAL', 'content': '사용자는 주변의 장애물 없는 보행 경로를 탐색할 수 있는 기능을 제공받아야 한다.'}, {'requirementType': 'PERFORMANCE', 'content': '사용자가 경로 검색 요청을 보낸 후, 3초 이내에 최적 경로를 제공해야 한다.'}, {'requirementType': 'PERFORMANCE', 'content': '시스템은 동시에 최대 500명의 사용자가 요청을 처리할 수 있어야 한다.'}, {'requirementType': 'PERFORMANCE', 'content': '앱의 가용성은 99.9% 이상을 유지해야 하며, 월간 다운타임은 43.2분 이하로 제한해야 한다.'}, {'requirementType': 'FUNCTIONAL', 'content': '사용자는 앱에서 장애물 정보를 시각적으로 확인할 수 있는 기능을 제공받아야 한다.'}, {'requirementType': 'FUNCTIONAL', 'content': '앱은 사용자가 선택한 경로에 대한 예상 소요 시간을 제공해야 한다.'}, {'requirementType': 'PERFORMANCE', 'content': '사용자가 장애물 정보를 요청한 후, 2초 이내에 해당 정보를 제공해야 한다.'}, {'requirementType': 'PERFORMANCE', 'content': '시스템은 하루 최대 10000건의 경로 검색 요청을 처리할 수 있어야 한다.'}, {'requirementType': 'FUNCTIONAL', 'content': '사용자는 앱 내에서 자신의 위치를 실시간으로 확인할 수 있어야 한다.'}]\",\n",
       " '[{\\'requirementType\\': \\'FUNCTIONAL\\', \\'content\\': \\'사용자는 주변 100m 이내의 다른 사용자와 실시간으로 글을 작성하고 댓글을 달 수 있어야 한다.\\'}, {\\'requirementType\\': \\'FUNCTIONAL\\', \\'content\\': \"사용자는 \\'함께 장보기\\' 기능을 통해 장보기 목록을 생성하고, 다른 사용자와 공유할 수 있어야 한다.\"}, {\\'requirementType\\': \\'FUNCTIONAL\\', \\'content\\': \"사용자는 긴급 상황에서 \\'이웃과의 도움 요청\\' 기능을 통해 근처 사용자에게 도움을 요청할 수 있어야 한다.\"}, {\\'requirementType\\': \\'PERFORMANCE\\', \\'content\\': \\'시스템은 사용자 요청에 대해 2초 이내에 응답해야 한다.\\'}, {\\'requirementType\\': \\'PERFORMANCE\\', \\'content\\': \\'시스템은 동시 사용자 1000명 이상을 지원할 수 있어야 하며, 평균 처리량은 분당 500건 이상의 요청을 처리해야 한다.\\'}, {\\'requirementType\\': \\'PERFORMANCE\\', \\'content\\': \\'시스템의 가용성은 99.9% 이상이어야 하며, 월간 다운타임은 40분 이하로 유지해야 한다.\\'}, {\\'requirementType\\': \\'FUNCTIONAL\\', \\'content\\': \\'사용자는 자신의 위치 기반으로 주변의 추천 가게나 맛집 정보를 실시간으로 받을 수 있어야 한다.\\'}, {\\'requirementType\\': \\'FUNCTIONAL\\', \\'content\\': \"사용자는 \\'함께 배달하기\\' 기능을 통해 공동으로 배달 주문을 생성하고, 비용을 분담할 수 있어야 한다.\"}, {\\'requirementType\\': \\'PERFORMANCE\\', \\'content\\': \\'시스템은 사용자 간의 메시지 전송에 대해 1초 이내에 응답해야 한다.\\'}, {\\'requirementType\\': \\'PERFORMANCE\\', \\'content\\': \\'시스템은 최대 2000명의 동시 사용자를 지원할 수 있어야 하며, 평균 처리량은 분당 1000건 이상의 요청을 처리해야 한다.\\'}, {\\'requirementType\\': \\'PERFORMANCE\\', \\'content\\': \\'시스템의 데이터베이스 응답 시간은 100ms 이내로 유지해야 하며, 데이터 전송 속도는 초당 5MB 이상이어야 한다.\\'}]',\n",
       " \"[{'requirementType': 'FUNCTIONAL', 'content': '사용자가 현재 위치를 입력하면, 가장 가까운 응급실 목록을 실시간으로 제공해야 한다.'}, {'requirementType': 'FUNCTIONAL', 'content': '사용자가 선택한 응급실의 빈 자리를 실시간으로 확인하고, 해당 정보를 사용자에게 제공해야 한다.'}, {'requirementType': 'FUNCTIONAL', 'content': '챗봇 기능을 통해 사용자가 입력한 증상에 따라 적절한 질병을 진단하고, 이를 치료할 수 있는 병원과 세부 진료과목을 추천해야 한다.'}, {'requirementType': 'PERFORMANCE', 'content': '응급실 검색 요청에 대한 응답 시간은 2초 이내여야 한다.'}, {'requirementType': 'PERFORMANCE', 'content': '시스템은 동시에 최대 1000명의 사용자가 요청할 경우에도 95% 이상의 가용성을 유지해야 한다.'}, {'requirementType': 'PERFORMANCE', 'content': '챗봇의 질병 진단 응답 시간은 3초 이내여야 하며, 정확도는 90% 이상이어야 한다.'}, {'requirementType': 'FUNCTIONAL', 'content': '사용자는 응급실 검색 결과를 지도 형태로 시각화하여 볼 수 있어야 한다.'}, {'requirementType': 'FUNCTIONAL', 'content': '사용자가 응급실에 대한 상세 정보를 클릭하면, 해당 응급실의 연락처와 주소, 진료 가능 과목을 확인할 수 있어야 한다.'}, {'requirementType': 'PERFORMANCE', 'content': '시스템은 사용자가 입력한 증상에 대한 챗봇의 질병 진단 요청이 95%의 경우 3초 이내에 처리되어야 한다.'}, {'requirementType': 'PERFORMANCE', 'content': '응급실 검색 결과는 최대 10개의 응급실 정보를 제공해야 하며, 이 정보는 평균 1초 이내에 사용자에게 전달되어야 한다.'}, {'requirementType': 'FUNCTIONAL', 'content': '사용자는 최근에 검색한 응급실 목록을 확인할 수 있는 기능이 제공되어야 한다.'}]\"]"
      ]
     },
     "execution_count": 13,
     "metadata": {},
     "output_type": "execute_result"
    }
   ],
   "source": [
    "total_requirements_lst"
   ]
  },
  {
   "cell_type": "code",
   "execution_count": 14,
   "id": "5d7dd41c",
   "metadata": {},
   "outputs": [
    {
     "data": {
      "text/plain": [
       "[\"{'json': {'project_info': {'title': 'StudyBuddy', 'category': '학습 관리 플랫폼', 'target_users': ['대학생', '자격증 준비생'], 'core_features': ['스터디 그룹 생성 및 관리', '퀴즈 생성 및 참여 기능', '공지사항 및 과제 게시판'], 'technology_stack': ['Java Servlet', 'JSP', 'MySQL'], 'problem_solving': {'current_problem': '효율적인 학습을 위한 스터디 그룹 운영의 어려움', 'solution_idea': '스터디 그룹 내에서 학습 내용을 복습하고 소통할 수 있는 기능 제공', 'expected_benefits': ['사용자 간의 소통 강화', '학습 동기 부여', '효율적인 학습 관리']}}}, 'model': 'gpt-4o-mini', 'total_tokens': 1624, 'prompt_tokens': 1443, 'completion_tokens': 181}\",\n",
       " \"{'json': {'project_info': {'title': '기억의 다리', 'category': '치매 환자 지원', 'target_users': ['치매 환자', '가족'], 'core_features': ['일상 사진 업로드 및 기억 회상 기능', 'AI 챗봇과의 대화를 통한 정보 되새김', '디지털 다이어리 관리 및 가족 소통 기능'], 'technology_stack': ['Python (Django)', 'React', 'PostgreSQL'], 'problem_solving': {'current_problem': '치매 환자의 기억 회복 및 가족 간의 소통 부족', 'solution_idea': '일상 사진과 AI 챗봇을 활용하여 기억을 되새기고 가족과 소통할 수 있는 플랫폼 제공', 'expected_benefits': ['치매 환자의 삶의 질 향상', '가족 간의 정서적 유대감 강화']}}}, 'model': 'gpt-4o-mini', 'total_tokens': 1599, 'prompt_tokens': 1380, 'completion_tokens': 219}\",\n",
       " \"{'json': {'project_info': {'title': 'EasyTransit Navigator', 'category': '모바일 애플리케이션', 'target_users': ['보행 약자', '대중교통 이용자'], 'core_features': ['계단 없는 최적 경로 안내', '실시간 교통 상황 및 혼잡도 정보 제공', '장애물 없는 보행 경로 탐색 기능', '장애물 정보 시각적 확인 기능', '예상 소요 시간 제공', '실시간 위치 확인 기능'], 'technology_stack': ['React Native', 'Node.js', 'PostgreSQL'], 'problem_solving': {'current_problem': '보행 약자들이 대중교통을 이용할 때 계단과 장애물로 인해 이동이 불편함', 'solution_idea': '계단 없는 경로와 장애물 정보를 제공하여 안전하고 편리한 이동을 지원', 'expected_benefits': ['보행 약자의 독립적인 대중교통 이용 증대', '안전하고 효율적인 경로 선택 가능', '실시간 정보 제공으로 사용자 편의성 향상']}}}, 'model': 'gpt-4o-mini', 'total_tokens': 1512, 'prompt_tokens': 1245, 'completion_tokens': 267}\",\n",
       " \"{'json': {'project_info': {'title': '이웃과의 소통 플랫폼', 'category': '커뮤니티', 'target_users': ['1인 가구', '지역 주민'], 'core_features': ['주변 100m 이내의 사용자와 실시간 소통', '함께 장보기 및 배달 기능 제공', '이웃과의 도움 요청 기능'], 'technology_stack': ['React Native', 'Node.js', 'MongoDB'], 'problem_solving': {'current_problem': '1인 가구의 외로움과 장보기 및 배달의 어려움', 'solution_idea': '주변 사용자와의 소통 및 공동 장보기/배달 기능 제공', 'expected_benefits': ['지역 사회의 유대감 증가', '경제적 부담 완화 및 효율적인 장보기']}}}, 'model': 'gpt-4o-mini', 'total_tokens': 1581, 'prompt_tokens': 1379, 'completion_tokens': 202}\",\n",
       " \"{'json': {'project_info': {'title': 'EmergencyCare Finder', 'category': '헬스케어', 'target_users': ['응급 환자', '일반 사용자'], 'core_features': ['사용자 위치 기반 응급실 검색', '빈 자리가 있는 응급실 실시간 안내', '증상 기반 챗봇 상담 및 병원 추천'], 'technology_stack': ['React', 'Node.js', 'PostgreSQL'], 'problem_solving': {'current_problem': '응급 상황에서의 빠르고 정확한 응급실 정보 부족', 'solution_idea': '사용자 위치 기반으로 빈 자리가 있는 응급실을 실시간으로 안내하고, 챗봇을 통해 증상에 맞는 병원을 추천', 'expected_benefits': ['응급 상황에서의 신속한 의료 서비스 접근', '사용자의 불안감 해소 및 치료 시간 단축']}}}, 'model': 'gpt-4o-mini', 'total_tokens': 1550, 'prompt_tokens': 1330, 'completion_tokens': 220}\"]"
      ]
     },
     "execution_count": 14,
     "metadata": {},
     "output_type": "execute_result"
    }
   ],
   "source": [
    "project_info_lst"
   ]
  },
  {
   "cell_type": "code",
   "execution_count": 15,
   "id": "08309ecd",
   "metadata": {},
   "outputs": [
    {
     "data": {
      "text/plain": [
       "[\"{'json': {'erd_tables': [{'name': 'users', 'erd_columns': [{'name': 'userId', 'data_type': 'integer', 'is_primary_key': True, 'is_foreign_key': False, 'is_nullable': False}, {'name': 'username', 'data_type': 'string', 'is_primary_key': False, 'is_foreign_key': False, 'is_nullable': False}, {'name': 'email', 'data_type': 'string', 'is_primary_key': False, 'is_foreign_key': False, 'is_nullable': False}, {'name': 'password', 'data_type': 'string', 'is_primary_key': False, 'is_foreign_key': False, 'is_nullable': False}, {'name': 'createdAt', 'data_type': 'datetime', 'is_primary_key': False, 'is_foreign_key': False, 'is_nullable': False}]}, {'name': 'study_groups', 'erd_columns': [{'name': 'groupId', 'data_type': 'integer', 'is_primary_key': True, 'is_foreign_key': False, 'is_nullable': False}, {'name': 'groupName', 'data_type': 'string', 'is_primary_key': False, 'is_foreign_key': False, 'is_nullable': False}, {'name': 'createdBy', 'data_type': 'integer', 'is_primary_key': False, 'is_foreign_key': True, 'is_nullable': False}, {'name': 'createdAt', 'data_type': 'datetime', 'is_primary_key': False, 'is_foreign_key': False, 'is_nullable': False}, {'name': 'description', 'data_type': 'string', 'is_primary_key': False, 'is_foreign_key': False, 'is_nullable': True}]}, {'name': 'quizzes', 'erd_columns': [{'name': 'quizId', 'data_type': 'integer', 'is_primary_key': True, 'is_foreign_key': False, 'is_nullable': False}, {'name': 'quizTitle', 'data_type': 'string', 'is_primary_key': False, 'is_foreign_key': False, 'is_nullable': False}, {'name': 'groupId', 'data_type': 'integer', 'is_primary_key': False, 'is_foreign_key': True, 'is_nullable': False}, {'name': 'createdBy', 'data_type': 'integer', 'is_primary_key': False, 'is_foreign_key': True, 'is_nullable': False}, {'name': 'createdAt', 'data_type': 'datetime', 'is_primary_key': False, 'is_foreign_key': False, 'is_nullable': False}]}, {'name': 'announcements', 'erd_columns': [{'name': 'announcementId', 'data_type': 'integer', 'is_primary_key': True, 'is_foreign_key': False, 'is_nullable': False}, {'name': 'groupId', 'data_type': 'integer', 'is_primary_key': False, 'is_foreign_key': True, 'is_nullable': False}, {'name': 'content', 'data_type': 'string', 'is_primary_key': False, 'is_foreign_key': False, 'is_nullable': False}, {'name': 'createdBy', 'data_type': 'integer', 'is_primary_key': False, 'is_foreign_key': True, 'is_nullable': False}, {'name': 'createdAt', 'data_type': 'datetime', 'is_primary_key': False, 'is_foreign_key': False, 'is_nullable': False}]}, {'name': 'assignments', 'erd_columns': [{'name': 'assignmentId', 'data_type': 'integer', 'is_primary_key': True, 'is_foreign_key': False, 'is_nullable': False}, {'name': 'groupId', 'data_type': 'integer', 'is_primary_key': False, 'is_foreign_key': True, 'is_nullable': False}, {'name': 'title', 'data_type': 'string', 'is_primary_key': False, 'is_foreign_key': False, 'is_nullable': False}, {'name': 'dueDate', 'data_type': 'datetime', 'is_primary_key': False, 'is_foreign_key': False, 'is_nullable': False}, {'name': 'createdAt', 'data_type': 'datetime', 'is_primary_key': False, 'is_foreign_key': False, 'is_nullable': False}]}], 'erd_relationships': [{'from_table': 'users', 'to_table': 'study_groups', 'relationship_type': 'one-to-many', 'foreign_key': 'createdBy', 'constraint_name': 'fk_user_createdGroup'}, {'from_table': 'study_groups', 'to_table': 'quizzes', 'relationship_type': 'one-to-many', 'foreign_key': 'groupId', 'constraint_name': 'fk_group_quiz'}, {'from_table': 'study_groups', 'to_table': 'announcements', 'relationship_type': 'one-to-many', 'foreign_key': 'groupId', 'constraint_name': 'fk_group_announcement'}, {'from_table': 'study_groups', 'to_table': 'assignments', 'relationship_type': 'one-to-many', 'foreign_key': 'groupId', 'constraint_name': 'fk_group_assignment'}, {'from_table': 'users', 'to_table': 'quizzes', 'relationship_type': 'one-to-many', 'foreign_key': 'createdBy', 'constraint_name': 'fk_user_quiz'}, {'from_table': 'users', 'to_table': 'announcements', 'relationship_type': 'one-to-many', 'foreign_key': 'createdBy', 'constraint_name': 'fk_user_announcement'}], 'apiSpecifications': [{'title': '회원가입', 'tag': 'users', 'path': '/api/users/register', 'http_method': 'post', 'request': [{'field': 'username', 'type': 'string', 'example': 'john_doe'}, {'field': 'email', 'type': 'string', 'example': 'john@example.com'}, {'field': 'password', 'type': 'string', 'example': 'securePassword123'}], 'response': [{'status_code': '201', 'message': '회원가입 성공', 'data': [{'field': 'userId', 'type': 'integer', 'example': 1}, {'field': 'username', 'type': 'string', 'example': 'john_doe'}]}]}, {'title': '로그인', 'tag': 'users', 'path': '/api/users/login', 'http_method': 'post', 'request': [{'field': 'email', 'type': 'string', 'example': 'john@example.com'}, {'field': 'password', 'type': 'string', 'example': 'securePassword123'}], 'response': [{'status_code': '200', 'message': '로그인 성공', 'data': [{'field': 'userId', 'type': 'integer', 'example': 1}, {'field': 'username', 'type': 'string', 'example': 'john_doe'}]}]}, {'title': '스터디 그룹 생성', 'tag': 'study_groups', 'path': '/api/study_groups', 'http_method': 'post', 'request': [{'field': 'groupName', 'type': 'string', 'example': 'Java 스터디'}, {'field': 'description', 'type': 'string', 'example': 'Java를 공부하는 스터디 그룹입니다.'}, {'field': 'createdBy', 'type': 'integer', 'example': 1}], 'response': [{'status_code': '201', 'message': '스터디 그룹 생성 성공', 'data': [{'field': 'groupId', 'type': 'integer', 'example': 1}, {'field': 'groupName', 'type': 'string', 'example': 'Java 스터디'}]}]}, {'title': '스터디 그룹 검색', 'tag': 'study_groups', 'path': '/api/study_groups/search', 'http_method': 'get', 'request': [{'field': 'keyword', 'type': 'string', 'example': 'Java'}], 'response': [{'status_code': '200', 'message': '스터디 그룹 검색 성공', 'data': [{'field': 'groupId', 'type': 'integer', 'example': 1}, {'field': 'groupName', 'type': 'string', 'example': 'Java 스터디'}]}]}, {'title': '퀴즈 생성', 'tag': 'quizzes', 'path': '/api/quizzes', 'http_method': 'post', 'request': [{'field': 'quizTitle', 'type': 'string', 'example': 'Java 기초 퀴즈'}, {'field': 'groupId', 'type': 'integer', 'example': 1}, {'field': 'createdBy', 'type': 'integer', 'example': 1}], 'response': [{'status_code': '201', 'message': '퀴즈 생성 성공', 'data': [{'field': 'quizId', 'type': 'integer', 'example': 1}, {'field': 'quizTitle', 'type': 'string', 'example': 'Java 기초 퀴즈'}]}]}, {'title': '퀴즈 참여', 'tag': 'quizzes', 'path': '/api/quizzes/participate', 'http_method': 'post', 'request': [{'field': 'quizId', 'type': 'integer', 'example': 1}, {'field': 'userId', 'type': 'integer', 'example': 1}], 'response': [{'status_code': '200', 'message': '퀴즈 참여 성공', 'data': []}]}, {'title': '공지사항 생성', 'tag': 'announcements', 'path': '/api/announcements', 'http_method': 'post', 'request': [{'field': 'groupId', 'type': 'integer', 'example': 1}, {'field': 'content', 'type': 'string', 'example': '스터디 모임이 있습니다.'}, {'field': 'createdBy', 'type': 'integer', 'example': 1}], 'response': [{'status_code': '201', 'message': '공지사항 생성 성공', 'data': [{'field': 'announcementId', 'type': 'integer', 'example': 1}, {'field': 'content', 'type': 'string', 'example': '스터디 모임이 있습니다.'}]}]}, {'title': '과제 생성', 'tag': 'assignments', 'path': '/api/assignments', 'http_method': 'post', 'request': [{'field': 'groupId', 'type': 'integer', 'example': 1}, {'field': 'title', 'type': 'string', 'example': 'Java 프로젝트 제출'}, {'field': 'dueDate', 'type': 'datetime', 'example': '2024-12-31T23:59:59Z'}], 'response': [{'status_code': '201', 'message': '과제 생성 성공', 'data': [{'field': 'assignmentId', 'type': 'integer', 'example': 1}, {'field': 'title', 'type': 'string', 'example': 'Java 프로젝트 제출'}]}]}, {'title': '과제 제출', 'tag': 'assignments', 'path': '/api/assignments/submit', 'http_method': 'post', 'request': [{'field': 'assignmentId', 'type': 'integer', 'example': 1}, {'field': 'userId', 'type': 'integer', 'example': 1}, {'field': 'submissionContent', 'type': 'string', 'example': '여기에 과제 내용을 작성합니다.'}], 'response': [{'status_code': '200', 'message': '과제 제출 성공', 'data': []}]}, {'title': '퀴즈 결과 확인', 'tag': 'quizzes', 'path': '/api/quizzes/results', 'http_method': 'get', 'request': [{'field': 'quizId', 'type': 'integer', 'example': 1}, {'field': 'userId', 'type': 'integer', 'example': 1}], 'response': [{'status_code': '200', 'message': '퀴즈 결과 조회 성공', 'data': [{'field': 'score', 'type': 'integer', 'example': 85}, {'field': 'feedback', 'type': 'string', 'example': '잘 하셨습니다!'}]}]}, {'title': '공지사항 삭제', 'tag': 'announcements', 'path': '/api/announcements/{announcementId}', 'http_method': 'delete', 'request': [], 'response': [{'status_code': '204', 'message': '공지사항 삭제 성공', 'data': []}]}, {'title': '퀴즈 삭제', 'tag': 'quizzes', 'path': '/api/quizzes/{quizId}', 'http_method': 'delete', 'request': [], 'response': [{'status_code': '204', 'message': '퀴즈 삭제 성공', 'data': []}]}]}, 'model': 'gpt-4o-mini', 'total_tokens': 6076, 'prompt_tokens': 2432, 'completion_tokens': 3644}\",\n",
       " \"{'json': {'erd_tables': [{'name': 'Users', 'erd_columns': [{'name': 'userId', 'data_type': 'integer', 'is_primary_key': True, 'is_foreign_key': False, 'is_nullable': False}, {'name': 'username', 'data_type': 'string', 'is_primary_key': False, 'is_foreign_key': False, 'is_nullable': False}, {'name': 'email', 'data_type': 'string', 'is_primary_key': False, 'is_foreign_key': False, 'is_nullable': False}, {'name': 'password', 'data_type': 'string', 'is_primary_key': False, 'is_foreign_key': False, 'is_nullable': False}, {'name': 'createdAt', 'data_type': 'datetime', 'is_primary_key': False, 'is_foreign_key': False, 'is_nullable': False}]}, {'name': 'Photos', 'erd_columns': [{'name': 'photoId', 'data_type': 'integer', 'is_primary_key': True, 'is_foreign_key': False, 'is_nullable': False}, {'name': 'userId', 'data_type': 'integer', 'is_primary_key': False, 'is_foreign_key': True, 'is_nullable': False}, {'name': 'imageUrl', 'data_type': 'string', 'is_primary_key': False, 'is_foreign_key': False, 'is_nullable': False}, {'name': 'tags', 'data_type': 'string', 'is_primary_key': False, 'is_foreign_key': False, 'is_nullable': True}, {'name': 'createdAt', 'data_type': 'datetime', 'is_primary_key': False, 'is_foreign_key': False, 'is_nullable': False}]}, {'name': 'Comments', 'erd_columns': [{'name': 'commentId', 'data_type': 'integer', 'is_primary_key': True, 'is_foreign_key': False, 'is_nullable': False}, {'name': 'photoId', 'data_type': 'integer', 'is_primary_key': False, 'is_foreign_key': True, 'is_nullable': False}, {'name': 'userId', 'data_type': 'integer', 'is_primary_key': False, 'is_foreign_key': True, 'is_nullable': False}, {'name': 'content', 'data_type': 'string', 'is_primary_key': False, 'is_foreign_key': False, 'is_nullable': False}, {'name': 'createdAt', 'data_type': 'datetime', 'is_primary_key': False, 'is_foreign_key': False, 'is_nullable': False}]}, {'name': 'Chatbots', 'erd_columns': [{'name': 'chatbotId', 'data_type': 'integer', 'is_primary_key': True, 'is_foreign_key': False, 'is_nullable': False}, {'name': 'userId', 'data_type': 'integer', 'is_primary_key': False, 'is_foreign_key': True, 'is_nullable': False}, {'name': 'sessionId', 'data_type': 'string', 'is_primary_key': False, 'is_foreign_key': False, 'is_nullable': False}, {'name': 'message', 'data_type': 'string', 'is_primary_key': False, 'is_foreign_key': False, 'is_nullable': False}, {'name': 'createdAt', 'data_type': 'datetime', 'is_primary_key': False, 'is_foreign_key': False, 'is_nullable': False}]}], 'erd_relationships': [{'from_table': 'Users', 'to_table': 'Photos', 'relationship_type': 'one-to-many', 'foreign_key': 'userId', 'constraint_name': 'fk_user_photos'}, {'from_table': 'Photos', 'to_table': 'Comments', 'relationship_type': 'one-to-many', 'foreign_key': 'photoId', 'constraint_name': 'fk_photo_comments'}, {'from_table': 'Users', 'to_table': 'Comments', 'relationship_type': 'one-to-many', 'foreign_key': 'userId', 'constraint_name': 'fk_user_comments'}, {'from_table': 'Users', 'to_table': 'Chatbots', 'relationship_type': 'one-to-many', 'foreign_key': 'userId', 'constraint_name': 'fk_user_chatbots'}], 'apiSpecifications': [{'title': 'Create User', 'tag': 'User Management', 'path': '/api/users', 'http_method': 'post', 'request': [{'field': 'username', 'type': 'string', 'example': 'john_doe'}, {'field': 'email', 'type': 'string', 'example': 'john@example.com'}, {'field': 'password', 'type': 'string', 'example': 'securepassword'}], 'response': [{'status_code': '201', 'message': 'User created successfully', 'data': [{'field': 'userId', 'type': 'integer', 'example': 1}, {'field': 'username', 'type': 'string', 'example': 'john_doe'}, {'field': 'email', 'type': 'string', 'example': 'john@example.com'}]}]}, {'title': 'Get User', 'tag': 'User Management', 'path': '/api/users/{userId}', 'http_method': 'get', 'request': [], 'response': [{'status_code': '200', 'message': 'User retrieved successfully', 'data': [{'field': 'userId', 'type': 'integer', 'example': 1}, {'field': 'username', 'type': 'string', 'example': 'john_doe'}, {'field': 'email', 'type': 'string', 'example': 'john@example.com'}]}]}, {'title': 'Update User', 'tag': 'User Management', 'path': '/api/users/{userId}', 'http_method': 'put', 'request': [{'field': 'username', 'type': 'string', 'example': 'john_doe_updated'}, {'field': 'email', 'type': 'string', 'example': 'john_updated@example.com'}], 'response': [{'status_code': '200', 'message': 'User updated successfully', 'data': [{'field': 'userId', 'type': 'integer', 'example': 1}, {'field': 'username', 'type': 'string', 'example': 'john_doe_updated'}, {'field': 'email', 'type': 'string', 'example': 'john_updated@example.com'}]}]}, {'title': 'Delete User', 'tag': 'User Management', 'path': '/api/users/{userId}', 'http_method': 'delete', 'request': [], 'response': [{'status_code': '204', 'message': 'User deleted successfully', 'data': []}]}, {'title': 'Upload Photo', 'tag': 'Photo Management', 'path': '/api/photos', 'http_method': 'post', 'request': [{'field': 'userId', 'type': 'integer', 'example': 1}, {'field': 'imageUrl', 'type': 'string', 'example': 'http://example.com/photo.jpg'}, {'field': 'tags', 'type': 'string', 'example': 'family, vacation'}], 'response': [{'status_code': '201', 'message': 'Photo uploaded successfully', 'data': [{'field': 'photoId', 'type': 'integer', 'example': 1}, {'field': 'imageUrl', 'type': 'string', 'example': 'http://example.com/photo.jpg'}]}]}, {'title': 'Get Photo', 'tag': 'Photo Management', 'path': '/api/photos/{photoId}', 'http_method': 'get', 'request': [], 'response': [{'status_code': '200', 'message': 'Photo retrieved successfully', 'data': [{'field': 'photoId', 'type': 'integer', 'example': 1}, {'field': 'imageUrl', 'type': 'string', 'example': 'http://example.com/photo.jpg'}, {'field': 'tags', 'type': 'string', 'example': 'family, vacation'}]}]}, {'title': 'Delete Photo', 'tag': 'Photo Management', 'path': '/api/photos/{photoId}', 'http_method': 'delete', 'request': [], 'response': [{'status_code': '204', 'message': 'Photo deleted successfully', 'data': []}]}, {'title': 'Get User Photos', 'tag': 'Photo Management', 'path': '/api/users/{userId}/photos', 'http_method': 'get', 'request': [], 'response': [{'status_code': '200', 'message': 'User photos retrieved successfully', 'data': [{'field': 'photoId', 'type': 'integer', 'example': 1}, {'field': 'imageUrl', 'type': 'string', 'example': 'http://example.com/photo.jpg'}]}]}, {'title': 'Add Comment', 'tag': 'Comment Management', 'path': '/api/comments', 'http_method': 'post', 'request': [{'field': 'photoId', 'type': 'integer', 'example': 1}, {'field': 'userId', 'type': 'integer', 'example': 1}, {'field': 'content', 'type': 'string', 'example': 'This is a great memory!'}], 'response': [{'status_code': '201', 'message': 'Comment added successfully', 'data': [{'field': 'commentId', 'type': 'integer', 'example': 1}, {'field': 'content', 'type': 'string', 'example': 'This is a great memory!'}]}]}, {'title': 'Get Comments for Photo', 'tag': 'Comment Management', 'path': '/api/photos/{photoId}/comments', 'http_method': 'get', 'request': [], 'response': [{'status_code': '200', 'message': 'Comments retrieved successfully', 'data': [{'field': 'commentId', 'type': 'integer', 'example': 1}, {'field': 'content', 'type': 'string', 'example': 'This is a great memory!'}]}]}, {'title': 'Delete Comment', 'tag': 'Comment Management', 'path': '/api/comments/{commentId}', 'http_method': 'delete', 'request': [], 'response': [{'status_code': '204', 'message': 'Comment deleted successfully', 'data': []}]}, {'title': 'Chat with AI', 'tag': 'Chatbot Management', 'path': '/api/chatbots', 'http_method': 'post', 'request': [{'field': 'userId', 'type': 'integer', 'example': 1}, {'field': 'message', 'type': 'string', 'example': 'Tell me about this photo'}], 'response': [{'status_code': '200', 'message': 'Chat response received', 'data': [{'field': 'response', 'type': 'string', 'example': 'This photo was taken during our family vacation.'}]}]}, {'title': 'Get Chat History', 'tag': 'Chatbot Management', 'path': '/api/users/{userId}/chat', 'http_method': 'get', 'request': [], 'response': [{'status_code': '200', 'message': 'Chat history retrieved successfully', 'data': [{'field': 'chatbotId', 'type': 'integer', 'example': 1}, {'field': 'message', 'type': 'string', 'example': 'Tell me about this photo'}]}]}]}, 'model': 'gpt-4o-mini', 'total_tokens': 5603, 'prompt_tokens': 2396, 'completion_tokens': 3207}\",\n",
       " \"{'json': {'erd_tables': [{'name': 'Users', 'erd_columns': [{'name': 'userId', 'data_type': 'integer', 'is_primary_key': True, 'is_foreign_key': False, 'is_nullable': False}, {'name': 'username', 'data_type': 'string', 'is_primary_key': False, 'is_foreign_key': False, 'is_nullable': False}, {'name': 'email', 'data_type': 'string', 'is_primary_key': False, 'is_foreign_key': False, 'is_nullable': False}, {'name': 'createdAt', 'data_type': 'datetime', 'is_primary_key': False, 'is_foreign_key': False, 'is_nullable': False}, {'name': 'updatedAt', 'data_type': 'datetime', 'is_primary_key': False, 'is_foreign_key': False, 'is_nullable': True}]}, {'name': 'Routes', 'erd_columns': [{'name': 'routeId', 'data_type': 'integer', 'is_primary_key': True, 'is_foreign_key': False, 'is_nullable': False}, {'name': 'startLocation', 'data_type': 'string', 'is_primary_key': False, 'is_foreign_key': False, 'is_nullable': False}, {'name': 'endLocation', 'data_type': 'string', 'is_primary_key': False, 'is_foreign_key': False, 'is_nullable': False}, {'name': 'hasElevator', 'data_type': 'boolean', 'is_primary_key': False, 'is_foreign_key': False, 'is_nullable': False}, {'name': 'expectedTime', 'data_type': 'integer', 'is_primary_key': False, 'is_foreign_key': False, 'is_nullable': False}]}, {'name': 'TrafficConditions', 'erd_columns': [{'name': 'conditionId', 'data_type': 'integer', 'is_primary_key': True, 'is_foreign_key': False, 'is_nullable': False}, {'name': 'routeId', 'data_type': 'integer', 'is_primary_key': False, 'is_foreign_key': True, 'is_nullable': False}, {'name': 'congestionLevel', 'data_type': 'string', 'is_primary_key': False, 'is_foreign_key': False, 'is_nullable': False}, {'name': 'timestamp', 'data_type': 'datetime', 'is_primary_key': False, 'is_foreign_key': False, 'is_nullable': False}, {'name': 'alertMessage', 'data_type': 'string', 'is_primary_key': False, 'is_foreign_key': False, 'is_nullable': True}]}, {'name': 'Obstacles', 'erd_columns': [{'name': 'obstacleId', 'data_type': 'integer', 'is_primary_key': True, 'is_foreign_key': False, 'is_nullable': False}, {'name': 'locationDescription', 'data_type': 'string', 'is_primary_key': False, 'is_foreign_key': False, 'is_nullable': False}, {'name': 'isAccessible', 'data_type': 'boolean', 'is_primary_key': False, 'is_foreign_key': False, 'is_nullable': False}, {'name': 'routeId', 'data_type': 'integer', 'is_primary_key': False, 'is_foreign_key': True, 'is_nullable': False}, {'name': 'reportedAt', 'data_type': 'datetime', 'is_primary_key': False, 'is_foreign_key': False, 'is_nullable': False}]}], 'erd_relationships': [{'from_table': 'Users', 'to_table': 'Routes', 'relationship_type': 'one-to-many', 'foreign_key': 'userId', 'constraint_name': 'FK_User_Routes'}, {'from_table': 'Routes', 'to_table': 'TrafficConditions', 'relationship_type': 'one-to-many', 'foreign_key': 'routeId', 'constraint_name': 'FK_Route_TrafficConditions'}, {'from_table': 'Routes', 'to_table': 'Obstacles', 'relationship_type': 'one-to-many', 'foreign_key': 'routeId', 'constraint_name': 'FK_Route_Obstacles'}], 'apiSpecifications': [{'title': 'Create User', 'tag': 'Users', 'path': '/api/users', 'http_method': 'post', 'request': [{'field': 'username', 'type': 'string', 'example': 'john_doe'}, {'field': 'email', 'type': 'string', 'example': 'john@example.com'}], 'response': [{'status_code': '201', 'message': 'User created successfully', 'data': [{'field': 'userId', 'type': 'integer', 'example': 1}, {'field': 'username', 'type': 'string', 'example': 'john_doe'}, {'field': 'email', 'type': 'string', 'example': 'john@example.com'}]}]}, {'title': 'Get User', 'tag': 'Users', 'path': '/api/users/{userId}', 'http_method': 'get', 'request': [], 'response': [{'status_code': '200', 'message': 'User retrieved successfully', 'data': [{'field': 'userId', 'type': 'integer', 'example': 1}, {'field': 'username', 'type': 'string', 'example': 'john_doe'}, {'field': 'email', 'type': 'string', 'example': 'john@example.com'}]}]}, {'title': 'Update User', 'tag': 'Users', 'path': '/api/users/{userId}', 'http_method': 'put', 'request': [{'field': 'username', 'type': 'string', 'example': 'john_updated'}, {'field': 'email', 'type': 'string', 'example': 'john_updated@example.com'}], 'response': [{'status_code': '200', 'message': 'User updated successfully', 'data': [{'field': 'userId', 'type': 'integer', 'example': 1}, {'field': 'username', 'type': 'string', 'example': 'john_updated'}, {'field': 'email', 'type': 'string', 'example': 'john_updated@example.com'}]}]}, {'title': 'Delete User', 'tag': 'Users', 'path': '/api/users/{userId}', 'http_method': 'delete', 'request': [], 'response': [{'status_code': '204', 'message': 'User deleted successfully', 'data': []}]}, {'title': 'Search Users', 'tag': 'Users', 'path': '/api/users/search', 'http_method': 'get', 'request': [{'field': 'query', 'type': 'string', 'example': 'john'}], 'response': [{'status_code': '200', 'message': 'Users retrieved successfully', 'data': [{'field': 'userId', 'type': 'integer', 'example': 1}, {'field': 'username', 'type': 'string', 'example': 'john_doe'}, {'field': 'email', 'type': 'string', 'example': 'john@example.com'}]}]}, {'title': 'Create Route', 'tag': 'Routes', 'path': '/api/routes', 'http_method': 'post', 'request': [{'field': 'startLocation', 'type': 'string', 'example': 'Station A'}, {'field': 'endLocation', 'type': 'string', 'example': 'Station B'}, {'field': 'hasElevator', 'type': 'boolean', 'example': True}, {'field': 'expectedTime', 'type': 'integer', 'example': 15}], 'response': [{'status_code': '201', 'message': 'Route created successfully', 'data': [{'field': 'routeId', 'type': 'integer', 'example': 1}, {'field': 'startLocation', 'type': 'string', 'example': 'Station A'}, {'field': 'endLocation', 'type': 'string', 'example': 'Station B'}]}]}, {'title': 'Get Route', 'tag': 'Routes', 'path': '/api/routes/{routeId}', 'http_method': 'get', 'request': [], 'response': [{'status_code': '200', 'message': 'Route retrieved successfully', 'data': [{'field': 'routeId', 'type': 'integer', 'example': 1}, {'field': 'startLocation', 'type': 'string', 'example': 'Station A'}, {'field': 'endLocation', 'type': 'string', 'example': 'Station B'}, {'field': 'hasElevator', 'type': 'boolean', 'example': True}, {'field': 'expectedTime', 'type': 'integer', 'example': 15}]}]}, {'title': 'Update Route', 'tag': 'Routes', 'path': '/api/routes/{routeId}', 'http_method': 'put', 'request': [{'field': 'startLocation', 'type': 'string', 'example': 'Station C'}, {'field': 'endLocation', 'type': 'string', 'example': 'Station D'}, {'field': 'hasElevator', 'type': 'boolean', 'example': False}, {'field': 'expectedTime', 'type': 'integer', 'example': 20}], 'response': [{'status_code': '200', 'message': 'Route updated successfully', 'data': [{'field': 'routeId', 'type': 'integer', 'example': 1}, {'field': 'startLocation', 'type': 'string', 'example': 'Station C'}, {'field': 'endLocation', 'type': 'string', 'example': 'Station D'}]}]}, {'title': 'Delete Route', 'tag': 'Routes', 'path': '/api/routes/{routeId}', 'http_method': 'delete', 'request': [], 'response': [{'status_code': '204', 'message': 'Route deleted successfully', 'data': []}]}, {'title': 'Create Traffic Condition', 'tag': 'TrafficConditions', 'path': '/api/traffic-conditions', 'http_method': 'post', 'request': [{'field': 'routeId', 'type': 'integer', 'example': 1}, {'field': 'congestionLevel', 'type': 'string', 'example': 'high'}, {'field': 'alertMessage', 'type': 'string', 'example': 'Heavy traffic'}], 'response': [{'status_code': '201', 'message': 'Traffic condition created successfully', 'data': [{'field': 'conditionId', 'type': 'integer', 'example': 1}, {'field': 'routeId', 'type': 'integer', 'example': 1}, {'field': 'congestionLevel', 'type': 'string', 'example': 'high'}]}]}, {'title': 'Get Traffic Conditions', 'tag': 'TrafficConditions', 'path': '/api/traffic-conditions/{routeId}', 'http_method': 'get', 'request': [], 'response': [{'status_code': '200', 'message': 'Traffic conditions retrieved successfully', 'data': [{'field': 'conditionId', 'type': 'integer', 'example': 1}, {'field': 'routeId', 'type': 'integer', 'example': 1}, {'field': 'congestionLevel', 'type': 'string', 'example': 'high'}, {'field': 'alertMessage', 'type': 'string', 'example': 'Heavy traffic'}]}]}, {'title': 'Create Obstacle', 'tag': 'Obstacles', 'path': '/api/obstacles', 'http_method': 'post', 'request': [{'field': 'locationDescription', 'type': 'string', 'example': 'Blocked entrance'}, {'field': 'isAccessible', 'type': 'boolean', 'example': False}, {'field': 'routeId', 'type': 'integer', 'example': 1}], 'response': [{'status_code': '201', 'message': 'Obstacle created successfully', 'data': [{'field': 'obstacleId', 'type': 'integer', 'example': 1}, {'field': 'locationDescription', 'type': 'string', 'example': 'Blocked entrance'}]}]}, {'title': 'Get Obstacles', 'tag': 'Obstacles', 'path': '/api/obstacles/{routeId}', 'http_method': 'get', 'request': [], 'response': [{'status_code': '200', 'message': 'Obstacles retrieved successfully', 'data': [{'field': 'obstacleId', 'type': 'integer', 'example': 1}, {'field': 'locationDescription', 'type': 'string', 'example': 'Blocked entrance'}, {'field': 'isAccessible', 'type': 'boolean', 'example': False}]}]}, {'title': 'Update Obstacle', 'tag': 'Obstacles', 'path': '/api/obstacles/{obstacleId}', 'http_method': 'put', 'request': [{'field': 'locationDescription', 'type': 'string', 'example': 'Partially blocked entrance'}, {'field': 'isAccessible', 'type': 'boolean', 'example': True}], 'response': [{'status_code': '200', 'message': 'Obstacle updated successfully', 'data': [{'field': 'obstacleId', 'type': 'integer', 'example': 1}, {'field': 'locationDescription', 'type': 'string', 'example': 'Partially blocked entrance'}]}]}, {'title': 'Delete Obstacle', 'tag': 'Obstacles', 'path': '/api/obstacles/{obstacleId}', 'http_method': 'delete', 'request': [], 'response': [{'status_code': '204', 'message': 'Obstacle deleted successfully', 'data': []}]}]}, 'model': 'gpt-4o-mini', 'total_tokens': 6187, 'prompt_tokens': 2305, 'completion_tokens': 3882}\",\n",
       " \"{'json': {'erd_tables': [{'name': 'User', 'erd_columns': [{'name': 'userId', 'data_type': 'integer', 'is_primary_key': True, 'is_foreign_key': False, 'is_nullable': False}, {'name': 'username', 'data_type': 'string', 'is_primary_key': False, 'is_foreign_key': False, 'is_nullable': False}, {'name': 'location', 'data_type': 'string', 'is_primary_key': False, 'is_foreign_key': False, 'is_nullable': False}, {'name': 'createdAt', 'data_type': 'datetime', 'is_primary_key': False, 'is_foreign_key': False, 'is_nullable': False}, {'name': 'isActive', 'data_type': 'boolean', 'is_primary_key': False, 'is_foreign_key': False, 'is_nullable': False}]}, {'name': 'Post', 'erd_columns': [{'name': 'postId', 'data_type': 'integer', 'is_primary_key': True, 'is_foreign_key': False, 'is_nullable': False}, {'name': 'content', 'data_type': 'string', 'is_primary_key': False, 'is_foreign_key': False, 'is_nullable': False}, {'name': 'userId', 'data_type': 'integer', 'is_primary_key': False, 'is_foreign_key': True, 'is_nullable': False}, {'name': 'createdAt', 'data_type': 'datetime', 'is_primary_key': False, 'is_foreign_key': False, 'is_nullable': False}, {'name': 'location', 'data_type': 'string', 'is_primary_key': False, 'is_foreign_key': False, 'is_nullable': False}]}, {'name': 'GroceryList', 'erd_columns': [{'name': 'listId', 'data_type': 'integer', 'is_primary_key': True, 'is_foreign_key': False, 'is_nullable': False}, {'name': 'userId', 'data_type': 'integer', 'is_primary_key': False, 'is_foreign_key': True, 'is_nullable': False}, {'name': 'items', 'data_type': 'string', 'is_primary_key': False, 'is_foreign_key': False, 'is_nullable': False}, {'name': 'sharedWith', 'data_type': 'string', 'is_primary_key': False, 'is_foreign_key': False, 'is_nullable': True}, {'name': 'createdAt', 'data_type': 'datetime', 'is_primary_key': False, 'is_foreign_key': False, 'is_nullable': False}]}, {'name': 'Delivery', 'erd_columns': [{'name': 'deliveryId', 'data_type': 'integer', 'is_primary_key': True, 'is_foreign_key': False, 'is_nullable': False}, {'name': 'groceryListId', 'data_type': 'integer', 'is_primary_key': False, 'is_foreign_key': True, 'is_nullable': False}, {'name': 'cost', 'data_type': 'decimal', 'is_primary_key': False, 'is_foreign_key': False, 'is_nullable': False}, {'name': 'sharedUsers', 'data_type': 'string', 'is_primary_key': False, 'is_foreign_key': False, 'is_nullable': True}, {'name': 'createdAt', 'data_type': 'datetime', 'is_primary_key': False, 'is_foreign_key': False, 'is_nullable': False}]}, {'name': 'HelpRequest', 'erd_columns': [{'name': 'requestId', 'data_type': 'integer', 'is_primary_key': True, 'is_foreign_key': False, 'is_nullable': False}, {'name': 'userId', 'data_type': 'integer', 'is_primary_key': False, 'is_foreign_key': True, 'is_nullable': False}, {'name': 'message', 'data_type': 'string', 'is_primary_key': False, 'is_foreign_key': False, 'is_nullable': False}, {'name': 'createdAt', 'data_type': 'datetime', 'is_primary_key': False, 'is_foreign_key': False, 'is_nullable': False}, {'name': 'status', 'data_type': 'string', 'is_primary_key': False, 'is_foreign_key': False, 'is_nullable': False}]}], 'erd_relationships': [{'from_table': 'User', 'to_table': 'Post', 'relationship_type': '1:N', 'foreign_key': 'userId', 'constraint_name': 'FK_User_Post'}, {'from_table': 'User', 'to_table': 'GroceryList', 'relationship_type': '1:N', 'foreign_key': 'userId', 'constraint_name': 'FK_User_GroceryList'}, {'from_table': 'GroceryList', 'to_table': 'Delivery', 'relationship_type': '1:1', 'foreign_key': 'groceryListId', 'constraint_name': 'FK_GroceryList_Delivery'}, {'from_table': 'User', 'to_table': 'HelpRequest', 'relationship_type': '1:N', 'foreign_key': 'userId', 'constraint_name': 'FK_User_HelpRequest'}], 'apiSpecifications': [{'title': 'Create User', 'tag': 'User', 'path': '/api/users', 'http_method': 'post', 'request': [{'field': 'username', 'type': 'string', 'example': 'john_doe'}, {'field': 'location', 'type': 'string', 'example': 'Seoul'}], 'response': [{'status_code': '201', 'message': 'User created successfully', 'data': [{'field': 'userId', 'type': 'integer', 'example': 1}, {'field': 'username', 'type': 'string', 'example': 'john_doe'}, {'field': 'location', 'type': 'string', 'example': 'Seoul'}]}]}, {'title': 'Get User', 'tag': 'User', 'path': '/api/users/{userId}', 'http_method': 'get', 'request': [], 'response': [{'status_code': '200', 'message': 'User retrieved successfully', 'data': [{'field': 'userId', 'type': 'integer', 'example': 1}, {'field': 'username', 'type': 'string', 'example': 'john_doe'}, {'field': 'location', 'type': 'string', 'example': 'Seoul'}]}]}, {'title': 'Update User', 'tag': 'User', 'path': '/api/users/{userId}', 'http_method': 'put', 'request': [{'field': 'username', 'type': 'string', 'example': 'john_doe_updated'}, {'field': 'location', 'type': 'string', 'example': 'Busan'}], 'response': [{'status_code': '200', 'message': 'User updated successfully', 'data': [{'field': 'userId', 'type': 'integer', 'example': 1}, {'field': 'username', 'type': 'string', 'example': 'john_doe_updated'}, {'field': 'location', 'type': 'string', 'example': 'Busan'}]}]}, {'title': 'Delete User', 'tag': 'User', 'path': '/api/users/{userId}', 'http_method': 'delete', 'request': [], 'response': [{'status_code': '204', 'message': 'User deleted successfully', 'data': []}]}, {'title': 'List Users', 'tag': 'User', 'path': '/api/users', 'http_method': 'get', 'request': [], 'response': [{'status_code': '200', 'message': 'Users retrieved successfully', 'data': [{'field': 'userId', 'type': 'integer', 'example': 1}, {'field': 'username', 'type': 'string', 'example': 'john_doe'}, {'field': 'location', 'type': 'string', 'example': 'Seoul'}]}]}, {'title': 'Create Post', 'tag': 'Post', 'path': '/api/posts', 'http_method': 'post', 'request': [{'field': 'content', 'type': 'string', 'example': 'Hello neighbors!'}, {'field': 'userId', 'type': 'integer', 'example': 1}, {'field': 'location', 'type': 'string', 'example': 'Seoul'}], 'response': [{'status_code': '201', 'message': 'Post created successfully', 'data': [{'field': 'postId', 'type': 'integer', 'example': 1}, {'field': 'content', 'type': 'string', 'example': 'Hello neighbors!'}, {'field': 'userId', 'type': 'integer', 'example': 1}]}]}, {'title': 'Get Post', 'tag': 'Post', 'path': '/api/posts/{postId}', 'http_method': 'get', 'request': [], 'response': [{'status_code': '200', 'message': 'Post retrieved successfully', 'data': [{'field': 'postId', 'type': 'integer', 'example': 1}, {'field': 'content', 'type': 'string', 'example': 'Hello neighbors!'}, {'field': 'userId', 'type': 'integer', 'example': 1}]}]}, {'title': 'Update Post', 'tag': 'Post', 'path': '/api/posts/{postId}', 'http_method': 'put', 'request': [{'field': 'content', 'type': 'string', 'example': 'Updated post content!'}], 'response': [{'status_code': '200', 'message': 'Post updated successfully', 'data': [{'field': 'postId', 'type': 'integer', 'example': 1}, {'field': 'content', 'type': 'string', 'example': 'Updated post content!'}]}]}, {'title': 'Delete Post', 'tag': 'Post', 'path': '/api/posts/{postId}', 'http_method': 'delete', 'request': [], 'response': [{'status_code': '204', 'message': 'Post deleted successfully', 'data': []}]}, {'title': 'List Posts', 'tag': 'Post', 'path': '/api/posts', 'http_method': 'get', 'request': [], 'response': [{'status_code': '200', 'message': 'Posts retrieved successfully', 'data': [{'field': 'postId', 'type': 'integer', 'example': 1}, {'field': 'content', 'type': 'string', 'example': 'Hello neighbors!'}, {'field': 'userId', 'type': 'integer', 'example': 1}]}]}, {'title': 'Create Grocery List', 'tag': 'GroceryList', 'path': '/api/grocery-lists', 'http_method': 'post', 'request': [{'field': 'userId', 'type': 'integer', 'example': 1}, {'field': 'items', 'type': 'string', 'example': 'Eggs, Milk, Bread'}], 'response': [{'status_code': '201', 'message': 'Grocery list created successfully', 'data': [{'field': 'listId', 'type': 'integer', 'example': 1}, {'field': 'items', 'type': 'string', 'example': 'Eggs, Milk, Bread'}]}]}, {'title': 'Get Grocery List', 'tag': 'GroceryList', 'path': '/api/grocery-lists/{listId}', 'http_method': 'get', 'request': [], 'response': [{'status_code': '200', 'message': 'Grocery list retrieved successfully', 'data': [{'field': 'listId', 'type': 'integer', 'example': 1}, {'field': 'items', 'type': 'string', 'example': 'Eggs, Milk, Bread'}]}]}, {'title': 'Update Grocery List', 'tag': 'GroceryList', 'path': '/api/grocery-lists/{listId}', 'http_method': 'put', 'request': [{'field': 'items', 'type': 'string', 'example': 'Eggs, Milk, Bread, Butter'}], 'response': [{'status_code': '200', 'message': 'Grocery list updated successfully', 'data': [{'field': 'listId', 'type': 'integer', 'example': 1}, {'field': 'items', 'type': 'string', 'example': 'Eggs, Milk, Bread, Butter'}]}]}, {'title': 'Delete Grocery List', 'tag': 'GroceryList', 'path': '/api/grocery-lists/{listId}', 'http_method': 'delete', 'request': [], 'response': [{'status_code': '204', 'message': 'Grocery list deleted successfully', 'data': []}]}, {'title': 'List Grocery Lists', 'tag': 'GroceryList', 'path': '/api/grocery-lists', 'http_method': 'get', 'request': [], 'response': [{'status_code': '200', 'message': 'Grocery lists retrieved successfully', 'data': [{'field': 'listId', 'type': 'integer', 'example': 1}, {'field': 'items', 'type': 'string', 'example': 'Eggs, Milk, Bread'}]}]}, {'title': 'Create Delivery', 'tag': 'Delivery', 'path': '/api/deliveries', 'http_method': 'post', 'request': [{'field': 'groceryListId', 'type': 'integer', 'example': 1}, {'field': 'cost', 'type': 'decimal', 'example': 20.5}], 'response': [{'status_code': '201', 'message': 'Delivery created successfully', 'data': [{'field': 'deliveryId', 'type': 'integer', 'example': 1}, {'field': 'cost', 'type': 'decimal', 'example': 20.5}]}]}, {'title': 'Get Delivery', 'tag': 'Delivery', 'path': '/api/deliveries/{deliveryId}', 'http_method': 'get', 'request': [], 'response': [{'status_code': '200', 'message': 'Delivery retrieved successfully', 'data': [{'field': 'deliveryId', 'type': 'integer', 'example': 1}, {'field': 'cost', 'type': 'decimal', 'example': 20.5}]}]}, {'title': 'Update Delivery', 'tag': 'Delivery', 'path': '/api/deliveries/{deliveryId}', 'http_method': 'put', 'request': [{'field': 'cost', 'type': 'decimal', 'example': 25.0}], 'response': [{'status_code': '200', 'message': 'Delivery updated successfully', 'data': [{'field': 'deliveryId', 'type': 'integer', 'example': 1}, {'field': 'cost', 'type': 'decimal', 'example': 25.0}]}]}, {'title': 'Delete Delivery', 'tag': 'Delivery', 'path': '/api/deliveries/{deliveryId}', 'http_method': 'delete', 'request': [], 'response': [{'status_code': '204', 'message': 'Delivery deleted successfully', 'data': []}]}, {'title': 'List Deliveries', 'tag': 'Delivery', 'path': '/api/deliveries', 'http_method': 'get', 'request': [], 'response': [{'status_code': '200', 'message': 'Deliveries retrieved successfully', 'data': [{'field': 'deliveryId', 'type': 'integer', 'example': 1}, {'field': 'cost', 'type': 'decimal', 'example': 20.5}]}]}, {'title': 'Create Help Request', 'tag': 'HelpRequest', 'path': '/api/help-requests', 'http_method': 'post', 'request': [{'field': 'userId', 'type': 'integer', 'example': 1}, {'field': 'message', 'type': 'string', 'example': 'I need help!'}], 'response': [{'status_code': '201', 'message': 'Help request created successfully', 'data': [{'field': 'requestId', 'type': 'integer', 'example': 1}, {'field': 'message', 'type': 'string', 'example': 'I need help!'}]}]}, {'title': 'Get Help Request', 'tag': 'HelpRequest', 'path': '/api/help-requests/{requestId}', 'http_method': 'get', 'request': [], 'response': [{'status_code': '200', 'message': 'Help request retrieved successfully', 'data': [{'field': 'requestId', 'type': 'integer', 'example': 1}, {'field': 'message', 'type': 'string', 'example': 'I need help!'}]}]}, {'title': 'Update Help Request', 'tag': 'HelpRequest', 'path': '/api/help-requests/{requestId}', 'http_method': 'put', 'request': [{'field': 'message', 'type': 'string', 'example': 'I need urgent help!'}], 'response': [{'status_code': '200', 'message': 'Help request updated successfully', 'data': [{'field': 'requestId', 'type': 'integer', 'example': 1}, {'field': 'message', 'type': 'string', 'example': 'I need urgent help!'}]}]}, {'title': 'Delete Help Request', 'tag': 'HelpRequest', 'path': '/api/help-requests/{requestId}', 'http_method': 'delete', 'request': [], 'response': [{'status_code': '204', 'message': 'Help request deleted successfully', 'data': []}]}, {'title': 'List Help Requests', 'tag': 'HelpRequest', 'path': '/api/help-requests', 'http_method': 'get', 'request': [], 'response': [{'status_code': '200', 'message': 'Help requests retrieved successfully', 'data': [{'field': 'requestId', 'type': 'integer', 'example': 1}, {'field': 'message', 'type': 'string', 'example': 'I need help!'}]}]}]}, 'model': 'gpt-4o-mini', 'total_tokens': 7534, 'prompt_tokens': 2378, 'completion_tokens': 5156}\",\n",
       " '{\\'json\\': {\\'erd_tables\\': [{\\'name\\': \\'EmergencyRoom\\', \\'erd_columns\\': [{\\'name\\': \\'id\\', \\'data_type\\': \\'integer\\', \\'is_primary_key\\': True, \\'is_foreign_key\\': False, \\'is_nullable\\': False}, {\\'name\\': \\'name\\', \\'data_type\\': \\'string\\', \\'is_primary_key\\': False, \\'is_foreign_key\\': False, \\'is_nullable\\': False}, {\\'name\\': \\'address\\', \\'data_type\\': \\'string\\', \\'is_primary_key\\': False, \\'is_foreign_key\\': False, \\'is_nullable\\': False}, {\\'name\\': \\'phone\\', \\'data_type\\': \\'string\\', \\'is_primary_key\\': False, \\'is_foreign_key\\': False, \\'is_nullable\\': True}, {\\'name\\': \\'available_slots\\', \\'data_type\\': \\'integer\\', \\'is_primary_key\\': False, \\'is_foreign_key\\': False, \\'is_nullable\\': True}, {\\'name\\': \\'specialties\\', \\'data_type\\': \\'string\\', \\'is_primary_key\\': False, \\'is_foreign_key\\': False, \\'is_nullable\\': True}]}, {\\'name\\': \\'User\\', \\'erd_columns\\': [{\\'name\\': \\'id\\', \\'data_type\\': \\'integer\\', \\'is_primary_key\\': True, \\'is_foreign_key\\': False, \\'is_nullable\\': False}, {\\'name\\': \\'location\\', \\'data_type\\': \\'string\\', \\'is_primary_key\\': False, \\'is_foreign_key\\': False, \\'is_nullable\\': False}, {\\'name\\': \\'recent_searches\\', \\'data_type\\': \\'array\\', \\'is_primary_key\\': False, \\'is_foreign_key\\': False, \\'is_nullable\\': True}]}, {\\'name\\': \\'Symptom\\', \\'erd_columns\\': [{\\'name\\': \\'id\\', \\'data_type\\': \\'integer\\', \\'is_primary_key\\': True, \\'is_foreign_key\\': False, \\'is_nullable\\': False}, {\\'name\\': \\'description\\', \\'data_type\\': \\'string\\', \\'is_primary_key\\': False, \\'is_foreign_key\\': False, \\'is_nullable\\': False}, {\\'name\\': \\'suggested_hospitals\\', \\'data_type\\': \\'array\\', \\'is_primary_key\\': False, \\'is_foreign_key\\': False, \\'is_nullable\\': True}]}], \\'erd_relationships\\': [{\\'from_table\\': \\'User\\', \\'to_table\\': \\'EmergencyRoom\\', \\'relationship_type\\': \\'many-to-many\\', \\'foreign_key\\': \\'user_id\\', \\'constraint_name\\': \\'fk_user_emergencyRoom\\'}, {\\'from_table\\': \\'Symptom\\', \\'to_table\\': \\'EmergencyRoom\\', \\'relationship_type\\': \\'many-to-many\\', \\'foreign_key\\': \\'symptom_id\\', \\'constraint_name\\': \\'fk_symptom_emergencyRoom\\'}], \\'apiSpecifications\\': [{\\'title\\': \\'Get Nearby Emergency Rooms\\', \\'tag\\': \\'EmergencyRoom\\', \\'path\\': \\'/api/emergency_rooms/nearby\\', \\'http_method\\': \\'get\\', \\'request\\': [{\\'field\\': \\'location\\', \\'type\\': \\'string\\', \\'example\\': \\'37.5665,126.978\\'}], \\'response\\': [{\\'status_code\\': \\'200\\', \\'message\\': \\'Nearby emergency rooms retrieved successfully\\', \\'data\\': [{\\'field\\': \\'id\\', \\'type\\': \\'integer\\', \\'example\\': 1}, {\\'field\\': \\'name\\', \\'type\\': \\'string\\', \\'example\\': \\'Seoul Emergency Hospital\\'}, {\\'field\\': \\'available_slots\\', \\'type\\': \\'integer\\', \\'example\\': 5}]}]}, {\\'title\\': \\'Check Emergency Room Availability\\', \\'tag\\': \\'EmergencyRoom\\', \\'path\\': \\'/api/emergency_rooms/{id}/availability\\', \\'http_method\\': \\'get\\', \\'request\\': [{\\'field\\': \\'id\\', \\'type\\': \\'integer\\', \\'example\\': 1}], \\'response\\': [{\\'status_code\\': \\'200\\', \\'message\\': \\'Emergency room availability checked successfully\\', \\'data\\': [{\\'field\\': \\'available_slots\\', \\'type\\': \\'integer\\', \\'example\\': 5}]}]}, {\\'title\\': \\'Chatbot Symptom Diagnosis\\', \\'tag\\': \\'Symptom\\', \\'path\\': \\'/api/symptoms/diagnose\\', \\'http_method\\': \\'post\\', \\'request\\': [{\\'field\\': \\'symptom_description\\', \\'type\\': \\'string\\', \\'example\\': \\'Severe headache\\'}], \\'response\\': [{\\'status_code\\': \\'200\\', \\'message\\': \\'Symptom diagnosis successful\\', \\'data\\': [{\\'field\\': \\'suggested_hospitals\\', \\'type\\': \\'array\\', \\'example\\': [\\'Seoul Emergency Hospital\\', \\'Gangnam Medical Center\\']}]}]}, {\\'title\\': \"Get User\\'s Recent Searches\", \\'tag\\': \\'User\\', \\'path\\': \\'/api/users/{id}/recent_searches\\', \\'http_method\\': \\'get\\', \\'request\\': [{\\'field\\': \\'id\\', \\'type\\': \\'integer\\', \\'example\\': 1}], \\'response\\': [{\\'status_code\\': \\'200\\', \\'message\\': \\'Recent searches retrieved successfully\\', \\'data\\': [{\\'field\\': \\'recent_searches\\', \\'type\\': \\'array\\', \\'example\\': [\\'Seoul Emergency Hospital\\', \\'Busan Medical Center\\']}]}]}, {\\'title\\': \\'Add Recent Search\\', \\'tag\\': \\'User\\', \\'path\\': \\'/api/users/{id}/recent_searches\\', \\'http_method\\': \\'post\\', \\'request\\': [{\\'field\\': \\'id\\', \\'type\\': \\'integer\\', \\'example\\': 1}, {\\'field\\': \\'search_term\\', \\'type\\': \\'string\\', \\'example\\': \\'Seoul Emergency Hospital\\'}], \\'response\\': [{\\'status_code\\': \\'201\\', \\'message\\': \\'Recent search added successfully\\', \\'data\\': []}]}, {\\'title\\': \\'Get Emergency Room Details\\', \\'tag\\': \\'EmergencyRoom\\', \\'path\\': \\'/api/emergency_rooms/{id}\\', \\'http_method\\': \\'get\\', \\'request\\': [{\\'field\\': \\'id\\', \\'type\\': \\'integer\\', \\'example\\': 1}], \\'response\\': [{\\'status_code\\': \\'200\\', \\'message\\': \\'Emergency room details retrieved successfully\\', \\'data\\': [{\\'field\\': \\'id\\', \\'type\\': \\'integer\\', \\'example\\': 1}, {\\'field\\': \\'name\\', \\'type\\': \\'string\\', \\'example\\': \\'Seoul Emergency Hospital\\'}, {\\'field\\': \\'address\\', \\'type\\': \\'string\\', \\'example\\': \\'123 Main St, Seoul\\'}, {\\'field\\': \\'phone\\', \\'type\\': \\'string\\', \\'example\\': \\'02-123-4567\\'}, {\\'field\\': \\'specialties\\', \\'type\\': \\'string\\', \\'example\\': \\'Pediatrics, ENT\\'}]}]}, {\\'title\\': \\'Get All Symptoms\\', \\'tag\\': \\'Symptom\\', \\'path\\': \\'/api/symptoms\\', \\'http_method\\': \\'get\\', \\'request\\': [], \\'response\\': [{\\'status_code\\': \\'200\\', \\'message\\': \\'Symptoms retrieved successfully\\', \\'data\\': [{\\'field\\': \\'id\\', \\'type\\': \\'integer\\', \\'example\\': 1}, {\\'field\\': \\'description\\', \\'type\\': \\'string\\', \\'example\\': \\'Severe headache\\'}]}]}, {\\'title\\': \\'Update Emergency Room Details\\', \\'tag\\': \\'EmergencyRoom\\', \\'path\\': \\'/api/emergency_rooms/{id}\\', \\'http_method\\': \\'put\\', \\'request\\': [{\\'field\\': \\'id\\', \\'type\\': \\'integer\\', \\'example\\': 1}, {\\'field\\': \\'name\\', \\'type\\': \\'string\\', \\'example\\': \\'Updated Emergency Hospital\\'}, {\\'field\\': \\'available_slots\\', \\'type\\': \\'integer\\', \\'example\\': 10}], \\'response\\': [{\\'status_code\\': \\'200\\', \\'message\\': \\'Emergency room details updated successfully\\', \\'data\\': []}]}, {\\'title\\': \\'Delete Recent Search\\', \\'tag\\': \\'User\\', \\'path\\': \\'/api/users/{id}/recent_searches/{search_id}\\', \\'http_method\\': \\'delete\\', \\'request\\': [{\\'field\\': \\'id\\', \\'type\\': \\'integer\\', \\'example\\': 1}, {\\'field\\': \\'search_id\\', \\'type\\': \\'integer\\', \\'example\\': 1}], \\'response\\': [{\\'status_code\\': \\'204\\', \\'message\\': \\'Recent search deleted successfully\\', \\'data\\': []}]}]}, \\'model\\': \\'gpt-4o-mini\\', \\'total_tokens\\': 4523, \\'prompt_tokens\\': 2347, \\'completion_tokens\\': 2176}']"
      ]
     },
     "execution_count": 15,
     "metadata": {},
     "output_type": "execute_result"
    }
   ],
   "source": [
    "ERDAPI_data_lst"
   ]
  },
  {
   "cell_type": "code",
   "execution_count": null,
   "id": "526d212e",
   "metadata": {},
   "outputs": [],
   "source": []
  }
 ],
 "metadata": {
  "kernelspec": {
   "display_name": "base",
   "language": "python",
   "name": "python3"
  },
  "language_info": {
   "codemirror_mode": {
    "name": "ipython",
    "version": 3
   },
   "file_extension": ".py",
   "mimetype": "text/x-python",
   "name": "python",
   "nbconvert_exporter": "python",
   "pygments_lexer": "ipython3",
   "version": "3.12.7"
  }
 },
 "nbformat": 4,
 "nbformat_minor": 5
}
