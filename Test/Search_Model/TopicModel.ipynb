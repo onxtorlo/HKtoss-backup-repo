{
 "cells": [
  {
   "cell_type": "code",
   "execution_count": 1,
   "id": "2769b61a",
   "metadata": {},
   "outputs": [],
   "source": [
    "# 1. 필요한 라이브러리 import\n",
    "import pandas as pd\n",
    "import numpy as np\n",
    "import matplotlib.pyplot as plt\n",
    "import seaborn as sns\n",
    "import re"
   ]
  },
  {
   "cell_type": "code",
   "execution_count": 2,
   "id": "f40366b2",
   "metadata": {},
   "outputs": [],
   "source": [
    "user_data_send = [\n",
    "  {\n",
    "    \"idea_input_id\": 1,\n",
    "    \"project_description\": \"이 웹 서비스는 초보 개발자를 위한 프로젝트 관리 플랫폼으로, 개발에 필요한 기획 자료를 AI가 자동으로 생성해주는 기능을 중심으로 합니다. 사용자는 간단한 서비스 아이디어나 기능 설명만 입력하면, AI가 이를 바탕으로 데이터베이스 ERD(Entity Relationship Diagram), API 명세서, 기능 목록 등을 자동으로 생성해줍니다. 이를 통해 복잡한 설계 과정을 생략하고 빠르게 개발에 착수할 수 있으며, 협업 시에는 자동으로 생성된 문서를 기반으로 팀원들과 효율적인 커뮤니케이션이 가능합니다. 또한 프로젝트 진행 현황을 시각화하고, 개발 로드맵을 생성·관리하는 기능도 제공하여, 초보 개발자들이 실무 프로젝트처럼 체계적으로 경험을 쌓을 수 있도록 도와줍니다.\",\n",
    "    \"project_name\": \"프로젝트 관리 웹 서비스\",\n",
    "    \"project_target\": \"프로젝트 경험이 적은 초보 개발자\",\n",
    "    \"workspace_id\": 1\n",
    "  },\n",
    "  {\n",
    "    \"idea_input_id\": 7,\n",
    "    \"project_description\": \"'기억박물관'은 치매 환자와 그 가족을 위한 따뜻한 기억 회복 웹사이트입니다. 사용자는 일상 사진을 업로드하고, 챗봇과의 자연스러운 대화를 통해 사진 속 인물, 장소, 상황에 대한 정보를 되새깁니다. 이렇게 수집된 정보는 자동으로 사용자만의 디지털 다이어리로 정리되며, 환자가 매일 한 번씩 과거의 소중한 기억을 다시 볼 수 있도록 돕는 회상 기능도 포함되어 있습니다. 가족 구성원은 다이어리에 코멘트를 남기거나 설명을 추가할 수 있어, 함께 기억을 공유하고 감정을 나누는 소통의 장이 됩니다. 인지 자극과 정서적 유대감을 동시에 고려한 이 플랫폼은 치매 환자의 삶의 질을 높이고 가족 간의 관계를 더욱 돈독히 만들어주는 기억의 동반자입니다.\",\n",
    "    \"project_name\": \"기억박물관\",\n",
    "    \"project_target\": \"손쉽게 추억을 기록하고싶은 사람\",\n",
    "    \"workspace_id\": 7\n",
    "  },\n",
    "  {\n",
    "    \"idea_input_id\": 8,\n",
    "    \"project_description\": \"GQ 서비스는 학습 중심의 스터디 그룹 운영을 지원하는 웹 플랫폼으로, 단순한 그룹 관리에서 나아가 그룹 내 학습 내용을 복습할 수 있는 기능을 제공하여 학습 효과를 극대화하는 것을 목표로 한다. 사용자들은 회원가입과 로그인을 통해 서비스를 이용할 수 있으며, 아이디 및 비밀번호 찾기 기능으로 편의성을 높였다. 사용자는 새로운 스터디 그룹을 생성하거나 기존 그룹을 검색해 가입할 수 있으며, 그룹 내에서는 퀴즈를 생성하고 참여하여 학습한 내용을 효과적으로 반복 학습할 수 있다. 또한 공지사항 게시판을 통해 그룹 내 전달사항을 공유할 수 있고, 과제 게시판은 체크리스트 형태로 구성되어 과제 수행 여부를 명확히 기록할 수 있다. 이러한 기능들은 사용자 간의 소통을 강화하고 학습 동기를 부여하는 데 기여한다. 서비스는 Java Servlet과 JSP 기반으로 구현되었으며, HTML, CSS, JavaScript를 통해 사용자 친화적인 인터페이스를 제공한다. 데이터베이스는 MySQL을 사용하여 안정적인 데이터 저장과 처리를 가능하게 하며, 전반적인 시스템은 학습 관리에 최적화된 구조로 설계되었다.\",\n",
    "    \"project_name\": \"스터디 그룹 운영지원 플랫폼\",\n",
    "    \"project_target\": \"교육/학습 관리\",\n",
    "    \"workspace_id\": 8\n",
    "  },\n",
    "  {\n",
    "    \"idea_input_id\": 24,\n",
    "    \"project_description\": \"이 프로젝트는 개발 경험이 적은 사용자를 위해 설계된 웹 기반 프로젝트 워크플로우 관리 서비스입니다. React와 Spring을 기반으로 안정적인 백엔드와 직관적인 프론트엔드를 구현하며, 팀원 간의 원활한 협업을 지원합니다. 사용자는 프로젝트 생성, 작업 분배, 진행 상태 업데이트 등 다양한 협업 기능을 활용할 수 있고, 대시보드를 통해 전체 프로젝트의 진행 상황과 팀원별 업무 현황을 시각적으로 한눈에 파악할 수 있습니다. 이를 통해 프로젝트 관리를 쉽게 하며 생산성과 효율성을 높일 수 있습니다.\",\n",
    "    \"project_name\": \"프로젝트 워크 플로우 웹 서비스\",\n",
    "    \"project_target\": \"프로젝트 경험이 적은 개발자\",\n",
    "    \"workspace_id\": 24\n",
    "  },\n",
    "  {\n",
    "    \"idea_input_id\": 25,\n",
    "    \"project_description\": \"GQ 서비스는 학습 중심의 스터디 그룹 운영을 지원하는 웹 플랫폼으로, 단순한 그룹 관리에서 나아가 그룹 내 학습 내용을 복습할 수 있는 기능을 제공하여 학습 효과를 극대화하는 것을 목표로 한다. 사용자들은 회원가입과 로그인을 통해 서비스를 이용할 수 있으며, 아이디 및 비밀번호 찾기 기능으로 편의성을 높였다. 사용자는 새로운 스터디 그룹을 생성하거나 기존 그룹을 검색해 가입할 수 있으며, 그룹 내에서는 퀴즈를 생성하고 참여하여 학습한 내용을 효과적으로 반복 학습할 수 있다. 또한 공지사항 게시판을 통해 그룹 내 전달사항을 공유할 수 있고, 과제 게시판은 체크리스트 형태로 구성되어 과제 수행 여부를 명확히 기록할 수 있다. 이러한 기능들은 사용자 간의 소통을 강화하고 학습 동기를 부여하는 데 기여한다. 서비스는 Spring 기반으로 구현되었으며, HTML, CSS, JavaScript, React를 통해 사용자 친화적인 인터페이스를 제공한다. 데이터베이스는 MySQL을 사용하여 안정적인 데이터 저장과 처리를 가능하게 하며, 전반적인 시스템은 학습 관리에 최적화된 구조로 설계되었다.\",\n",
    "    \"project_name\": \"스터디 그룹 서비스 GQ\",\n",
    "    \"project_target\": \"스터디를 모집 및 들어가고 싶어하는 대학생들\",\n",
    "    \"workspace_id\": 25\n",
    "  },\n",
    "  {\n",
    "    \"idea_input_id\": 27,\n",
    "    \"project_description\": \"이 프로그램은 사용자가 등록한 작업을 토대로 LangChain Agent를 구성하고, CRON을 이용한 스케쥴링을 통해 사용자가 등록한 WORKFLOW를 자동화 합니다. 사용자의 작업을 등록할 수 있는 화면이 필요하며, 모든 워크플로우 처리는 자연어를 통해 등록되어야 합니다. 작업 내역은 데이터베이스에 삽입되며, 처리 결과가 일자별로 정리되어야 합니다. 작업 처리 과정은 시각화된 dashboard(d3.js)에를 토대로 화면에 보여지게 됩니다.\",\n",
    "    \"project_name\": \"asdf\",\n",
    "    \"project_target\": \"경험이 적은 개발자\",\n",
    "    \"workspace_id\": 27\n",
    "  }\n",
    "]"
   ]
  },
  {
   "cell_type": "code",
   "execution_count": 3,
   "id": "d3c4ca39",
   "metadata": {},
   "outputs": [],
   "source": [
    "project_info_send =  [\n",
    "    {\n",
    "      \"project_info_id\": 1,\n",
    "      \"category\": \"웹 서비스\",\n",
    "      \"core_features\": [\"ERD 자동생성\", \"API 명세서 자동생성\", \"프로젝트 정보 자동생성\"],\n",
    "      \"created_at\": \"2025-06-18T00:39:46.947095\",\n",
    "      \"problem_solving\": {\n",
    "        \"solutionIdea\": \"AI가 자동으로 설계 문서를 생성하여 개발 과정을 단순화\",\n",
    "        \"currentProblem\": \"초보 개발자들이 복잡한 설계 과정을 이해하고 진행하는 데 어려움이 있음\",\n",
    "        \"expectedBenefits\": [\"빠른 개발 착수\", \"효율적인 팀원 간 커뮤니케이션\", \"체계적인 프로젝트 경험\"]\n",
    "      },\n",
    "      \"target_users\": [\"프로젝트 경험이 적은 초보 개발자\"],\n",
    "      \"technology_stack\": [\"react\", \"typescript\", \"springboot\", \"AWS\", \"git action\", \"vercel\"],\n",
    "      \"title\": \"프로젝트 관리 웹 서비스\",\n",
    "      \"updated_at\": \"2025-06-18T00:39:46.947102\",\n",
    "      \"workspace_id\": 1\n",
    "    },\n",
    "    {\n",
    "      \"project_info_id\": 11,\n",
    "      \"category\": \"학습 관리\",\n",
    "      \"core_features\": [\"체크리스트 형태의 과제 관리\", \"퀴즈를 통한 반복 학습\"],\n",
    "      \"created_at\": \"2025-06-19T08:24:29.404944\",\n",
    "      \"problem_solving\": {\n",
    "        \"solutionIdea\": \"스터디 그룹 내에서 과제 관리와 퀴즈를 통해 학습 내용을 반복 학습할 수 있는 기능 제공\",\n",
    "        \"currentProblem\": \"학생들이 학습 동기를 잃고 효과적으로 학습하지 못하는 문제\",\n",
    "        \"expectedBenefits\": [\"학습 효과 극대화\", \"사용자 간 소통 강화\", \"학습 동기 부여\"]\n",
    "      },\n",
    "      \"target_users\": [\"학습 동기를 얻고 싶은 학생\"],\n",
    "      \"technology_stack\": [\"javaScript\", \"java\"],\n",
    "      \"title\": \"스터디 그룹 운영지원 플랫폼\",\n",
    "      \"updated_at\": \"2025-06-19T08:24:29.404954\",\n",
    "      \"workspace_id\": 17\n",
    "    },\n",
    "    {\n",
    "      \"project_info_id\": 4,\n",
    "      \"category\": \"웹사이트\",\n",
    "      \"core_features\": [\"챗봇을 통한 대화 기반 추억 정보 수집\", \"사진 업로드 및 기억 저장\", \"디지털 다이어리 작성\", \"랜덤 추억 회상 기능\"],\n",
    "      \"created_at\": \"2025-06-18T12:51:01.305042\",\n",
    "      \"problem_solving\": {\n",
    "        \"solutionIdea\": \"사용자가 사진을 업로드하고 챗봇과 대화하여 기억을 회상하고 정리하는 플랫폼 제공\",\n",
    "        \"currentProblem\": \"치매 환자와 가족 간의 기억 회복 및 소통 부족\",\n",
    "        \"expectedBenefits\": [\"치매 환자의 삶의 질 향상\", \"가족 간의 정서적 유대감 증진\"]\n",
    "      },\n",
    "      \"target_users\": [\"손쉽게 추억을 기록하고 싶은 사람\", \"치매 환자와 그 가족\"],\n",
    "      \"technology_stack\": [\"react\", \"typescript\", \"컴퓨터 비전\", \"springboot\"],\n",
    "      \"title\": \"기억박물관\",\n",
    "      \"updated_at\": \"2025-06-18T12:51:01.305046\",\n",
    "      \"workspace_id\": 7\n",
    "    },\n",
    "    {\n",
    "      \"project_info_id\": 12,\n",
    "      \"category\": \"교육/학습\",\n",
    "      \"core_features\": [\"체크리스트 형태의 과제 관리\", \"퀴즈를 통한 반복 학습\"],\n",
    "      \"created_at\": \"2025-06-19T08:40:49.432892\",\n",
    "      \"problem_solving\": {\n",
    "        \"solutionIdea\": \"스터디 그룹 내에서 과제 관리와 퀴즈를 통해 학습 내용을 반복 학습할 수 있도록 지원\",\n",
    "        \"currentProblem\": \"학생들이 학습 동기를 잃고 효과적으로 학습하지 못하는 문제\",\n",
    "        \"expectedBenefits\": [\"학습 효과 극대화\", \"사용자 간 소통 강화\", \"학습 동기 부여\"]\n",
    "      },\n",
    "      \"target_users\": [\"학습 동기를 얻고 싶은 학생\"],\n",
    "      \"technology_stack\": [\"javaScript\", \"java\"],\n",
    "      \"title\": \"스터디 그룹 운영지원 플랫폼\",\n",
    "      \"updated_at\": \"2025-06-19T08:40:49.432896\",\n",
    "      \"workspace_id\": 18\n",
    "    },\n",
    "    {\n",
    "      \"project_info_id\": 6,\n",
    "      \"category\": \"교육/학습 관리\",\n",
    "      \"core_features\": [\"체크 리스트 형태의 과제 관리\", \"퀴즈를 통한 반복 학습\"],\n",
    "      \"created_at\": \"2025-06-19T02:01:30.915498\",\n",
    "      \"problem_solving\": {\n",
    "        \"solutionIdea\": \"스터디 그룹 내에서 과제 관리와 퀴즈를 통해 학습 효과를 극대화\",\n",
    "        \"currentProblem\": \"학생들이 학습 동기를 유지하기 어려움\",\n",
    "        \"expectedBenefits\": [\"사용자 간의 소통 강화\", \"학습 동기 부여\"]\n",
    "      },\n",
    "      \"target_users\": [\"학습 동기를 얻고 싶은 학생\"],\n",
    "      \"technology_stack\": [\"javaScript\", \"java\"],\n",
    "      \"title\": \"스터디 그룹 운영 지원 플랫폼\",\n",
    "      \"updated_at\": \"2025-06-19T08:08:47.016643\",\n",
    "      \"workspace_id\": 8\n",
    "    },\n",
    "    {\n",
    "      \"project_info_id\": 16,\n",
    "      \"category\": \"웹 서비스\",\n",
    "      \"core_features\": [\"프로젝트 협업 기능 툴\", \"내용을 대시 보드로 확인\"],\n",
    "      \"created_at\": \"2025-06-20T02:50:02.349680\",\n",
    "      \"problem_solving\": {\n",
    "        \"solutionIdea\": \"직관적인 UI와 협업 도구를 제공하여 사용자가 쉽게 프로젝트를 관리할 수 있도록 지원\",\n",
    "        \"currentProblem\": \"프로젝트 관리의 복잡성과 비효율성\",\n",
    "        \"expectedBenefits\": [\"생산성 향상\", \"효율적인 팀워크\", \"프로젝트 진행 상황의 명확한 시각화\"]\n",
    "      },\n",
    "      \"target_users\": [\"프로젝트 경험이 적은 개발자\"],\n",
    "      \"technology_stack\": [\"Spring\", \"React\"],\n",
    "      \"title\": \"프로젝트 워크 플로우 웹 서비스\",\n",
    "      \"updated_at\": \"2025-06-20T02:50:02.349687\",\n",
    "      \"workspace_id\": 24\n",
    "    },\n",
    "    {\n",
    "      \"project_info_id\": 15,\n",
    "      \"category\": \"학습 관리\",\n",
    "      \"core_features\": [\"체크리스트 형태의 과제 관리\", \"퀴즈를 통한 반복 학습\"],\n",
    "      \"created_at\": \"2025-06-20T02:21:30.596460\",\n",
    "      \"problem_solving\": {\n",
    "        \"solutionIdea\": \"스터디 그룹 내에서 과제 관리와 퀴즈 기능을 통해 학습 효과를 극대화\",\n",
    "        \"currentProblem\": \"학생들이 학습 동기를 잃고 효과적으로 학습하지 못하는 문제\",\n",
    "        \"expectedBenefits\": [\"사용자 간의 소통 강화\", \"학습 동기 부여\"]\n",
    "      },\n",
    "      \"target_users\": [\"학습 동기를 얻고 싶은 학생\"],\n",
    "      \"technology_stack\": [\"javaScript\", \"java\"],\n",
    "      \"title\": \"스터디 그룹 운영지원 플랫폼\",\n",
    "      \"updated_at\": \"2025-06-20T02:21:30.596470\",\n",
    "      \"workspace_id\": 23\n",
    "    }\n",
    "]"
   ]
  },
  {
   "cell_type": "code",
   "execution_count": 4,
   "id": "65e6facd",
   "metadata": {},
   "outputs": [],
   "source": [
    "# 구조만 알아두면 좋을듯\n",
    "user_data = pd.DataFrame(user_data_send) # 유저가 입력한 프로젝트 데이터\n",
    "project_info = pd.DataFrame(project_info_send) # 프로젝트 요약 "
   ]
  },
  {
   "cell_type": "code",
   "execution_count": 5,
   "id": "fa0f394b",
   "metadata": {},
   "outputs": [
    {
     "data": {
      "text/plain": [
       "Index(['idea_input_id', 'project_description', 'project_name',\n",
       "       'project_target', 'workspace_id'],\n",
       "      dtype='object')"
      ]
     },
     "execution_count": 5,
     "metadata": {},
     "output_type": "execute_result"
    }
   ],
   "source": [
    "user_data.columns"
   ]
  },
  {
   "cell_type": "code",
   "execution_count": 6,
   "id": "f2fda8c7",
   "metadata": {},
   "outputs": [
    {
     "data": {
      "text/plain": [
       "Index(['project_info_id', 'category', 'core_features', 'created_at',\n",
       "       'problem_solving', 'target_users', 'technology_stack', 'title',\n",
       "       'updated_at', 'workspace_id'],\n",
       "      dtype='object')"
      ]
     },
     "execution_count": 6,
     "metadata": {},
     "output_type": "execute_result"
    }
   ],
   "source": [
    "project_info.columns"
   ]
  },
  {
   "cell_type": "markdown",
   "id": "5100dcb3",
   "metadata": {},
   "source": [
    "# DB의 내용들과 유사도 검색"
   ]
  },
  {
   "cell_type": "code",
   "execution_count": 7,
   "id": "40f00cad",
   "metadata": {},
   "outputs": [
    {
     "name": "stdout",
     "output_type": "stream",
     "text": [
      "<class 'pandas.core.frame.DataFrame'>\n",
      "RangeIndex: 977 entries, 0 to 976\n",
      "Data columns (total 1 columns):\n",
      " #   Column   Non-Null Count  Dtype \n",
      "---  ------   --------------  ----- \n",
      " 0   subject  977 non-null    object\n",
      "dtypes: object(1)\n",
      "memory usage: 7.8+ KB\n"
     ]
    }
   ],
   "source": [
    "sample_df = pd.read_csv('dummy_subject.csv').drop(columns = \"Unnamed: 0\")\n",
    "sample_df.info()"
   ]
  },
  {
   "cell_type": "code",
   "execution_count": 8,
   "id": "5451a4a5",
   "metadata": {},
   "outputs": [
    {
     "name": "stdout",
     "output_type": "stream",
     "text": [
      "전처리 후 빈 텍스트 개수: 0\n"
     ]
    }
   ],
   "source": [
    "# 텍스트 전처리 함수\n",
    "def preprocess_text(text):\n",
    "    if pd.isna(text):\n",
    "        return \"\"\n",
    "    \n",
    "    # HTML 태그 제거\n",
    "    text = re.sub('<.*?>', '', str(text))\n",
    "    \n",
    "    # 특수문자 제거 (한글, 영문, 숫자, 공백만 유지)\n",
    "    text = re.sub('[^가-힣a-zA-Z0-9\\s]', ' ', text)\n",
    "    \n",
    "    # 연속된 공백을 하나로 변환\n",
    "    text = re.sub('\\s+', ' ', text)\n",
    "    \n",
    "    return text.strip()\n",
    "\n",
    "# subject 컬럼 전처리\n",
    "sample_df['processed_subject'] = sample_df['subject'].apply(preprocess_text)\n",
    "\n",
    "# 빈 텍스트 확인\n",
    "print(\"전처리 후 빈 텍스트 개수:\", (sample_df['processed_subject'] == '').sum())\n"
   ]
  },
  {
   "cell_type": "code",
   "execution_count": 9,
   "id": "0d4c72bb",
   "metadata": {},
   "outputs": [
    {
     "name": "stdout",
     "output_type": "stream",
     "text": [
      "Requirement already satisfied: konlpy in c:\\users\\mir96\\anaconda3\\lib\\site-packages (0.6.0)\n",
      "Requirement already satisfied: JPype1>=0.7.0 in c:\\users\\mir96\\anaconda3\\lib\\site-packages (from konlpy) (1.5.2)\n",
      "Requirement already satisfied: lxml>=4.1.0 in c:\\users\\mir96\\anaconda3\\lib\\site-packages (from konlpy) (5.4.0)\n",
      "Requirement already satisfied: numpy>=1.6 in c:\\users\\mir96\\anaconda3\\lib\\site-packages (from konlpy) (1.26.4)\n",
      "Requirement already satisfied: packaging in c:\\users\\mir96\\anaconda3\\lib\\site-packages (from JPype1>=0.7.0->konlpy) (24.2)\n"
     ]
    }
   ],
   "source": [
    "!pip install konlpy"
   ]
  },
  {
   "cell_type": "code",
   "execution_count": 10,
   "id": "0cbd1c3b",
   "metadata": {},
   "outputs": [
    {
     "name": "stdout",
     "output_type": "stream",
     "text": [
      "TF-IDF 매트릭스 형태: (977, 1000)\n",
      "특성(단어) 개수: 1000\n"
     ]
    }
   ],
   "source": [
    "import pandas as pd\n",
    "import numpy as np\n",
    "from sklearn.feature_extraction.text import TfidfVectorizer\n",
    "from sklearn.metrics.pairwise import cosine_similarity\n",
    "import matplotlib.pyplot as plt\n",
    "import seaborn as sns\n",
    "from konlpy.tag import Okt\n",
    "import re\n",
    "\n",
    "# TF-IDF 벡터화\n",
    "vectorizer = TfidfVectorizer(\n",
    "    max_features=1000,  # 최대 특성 수\n",
    "    ngram_range=(1, 2),  # 1-gram과 2-gram 사용\n",
    "    min_df=1,  # 최소 문서 빈도\n",
    "    max_df=0.95,  # 최대 문서 빈도 (너무 자주 나오는 단어 제외)\n",
    "    stop_words=None\n",
    ")\n",
    "\n",
    "# 벡터화 실행\n",
    "tfidf_matrix = vectorizer.fit_transform(sample_df['processed_subject'])\n",
    "\n",
    "print(\"TF-IDF 매트릭스 형태:\", tfidf_matrix.shape)\n",
    "print(\"특성(단어) 개수:\", len(vectorizer.get_feature_names_out()))\n"
   ]
  },
  {
   "cell_type": "code",
   "execution_count": 11,
   "id": "008f0cce",
   "metadata": {},
   "outputs": [
    {
     "name": "stdout",
     "output_type": "stream",
     "text": [
      "코사인 유사도 매트릭스 형태: (977, 977)\n",
      "대각선 값 (자기 자신과의 유사도): [1. 1. 1. 1. 1.]\n"
     ]
    }
   ],
   "source": [
    "# 코사인 유사도 계산\n",
    "cosine_sim_matrix = cosine_similarity(tfidf_matrix)\n",
    "\n",
    "print(\"코사인 유사도 매트릭스 형태:\", cosine_sim_matrix.shape)\n",
    "print(\"대각선 값 (자기 자신과의 유사도):\", cosine_sim_matrix.diagonal()[:5])"
   ]
  },
  {
   "cell_type": "code",
   "execution_count": 12,
   "id": "598404eb",
   "metadata": {},
   "outputs": [
    {
     "data": {
      "text/plain": [
       "Index([0, 607, 485, 934, 592, 496, 587, 969, 962, 413], dtype='int64')"
      ]
     },
     "execution_count": 12,
     "metadata": {},
     "output_type": "execute_result"
    }
   ],
   "source": [
    "# 0번 index와 비슷한 상위 10개의 내용\n",
    "sample_df['cosine_sim'] = cosine_sim_matrix[0].tolist()\n",
    "sim_top10 = sample_df.sort_values(by = 'cosine_sim', ascending=False).head(10)\n",
    "sim_top10.index"
   ]
  },
  {
   "cell_type": "markdown",
   "id": "f0337476",
   "metadata": {},
   "source": [
    "### 전체 구현\n",
    "- 전체 TfidfVectorizer 진행\n",
    "- 개요 부분 데이터 입력\n",
    "- 전체 DB에서 개요 비교(유사도)\n",
    "- 유사도 높은순으로 10개(N개) 정도 INDEX 출력"
   ]
  },
  {
   "cell_type": "code",
   "execution_count": 13,
   "id": "4cfe504b",
   "metadata": {},
   "outputs": [],
   "source": [
    "# 1. 데이터 입력 및 전체 TfidfVecotrizer 진행\n",
    "\n",
    "# DB 로드\n",
    "sample_df = pd.read_csv('dummy_subject.csv').drop(columns = \"Unnamed: 0\")\n",
    "\n",
    "# 텍스트 전처리 함수\n",
    "def preprocess_text(text):\n",
    "    if pd.isna(text):\n",
    "        return \"\"\n",
    "    # HTML 태그 제거\n",
    "    text = re.sub('<.*?>', '', str(text))\n",
    "    # 특수문자 제거 (한글, 영문, 숫자, 공백만 유지)\n",
    "    text = re.sub('[^가-힣a-zA-Z0-9\\s]', ' ', text)\n",
    "    # 연속된 공백을 하나로 변환\n",
    "    text = re.sub('\\s+', ' ', text)\n",
    "    return text.strip()\n",
    "\n",
    "# subject 컬럼 전처리\n",
    "sample_df['processed_subject'] = sample_df['subject'].apply(preprocess_text)\n",
    "\n",
    "# TfidfVectorizer 진행\n",
    "vectorizer = TfidfVectorizer(\n",
    "    max_features=1000,  # 최대 특성 수\n",
    "    ngram_range=(1, 2),  # 1-gram과 2-gram 사용\n",
    "    min_df=1,  # 최소 문서 빈도\n",
    "    max_df=0.95,  # 최대 문서 빈도 (너무 자주 나오는 단어 제외)\n",
    "    stop_words=None\n",
    ")\n",
    "\n",
    "# 벡터화 실행\n",
    "tfidf_matrix = vectorizer.fit_transform(sample_df['processed_subject'])\n",
    "\n",
    "# 2. 유사도 검색\n",
    "def find_similar_subjects(input_text, top_k = 10) :\n",
    "    processed_input = preprocess_text(input_text)\n",
    "    input_vector = vectorizer.transform([processed_input])\n",
    "    similarities = cosine_similarity(input_vector, tfidf_matrix).flatten()\n",
    "    similar_indices = similarities.argsort()[::-1][:top_k]\n",
    "    return similar_indices.tolist()"
   ]
  },
  {
   "cell_type": "code",
   "execution_count": 14,
   "id": "e1c8643b",
   "metadata": {},
   "outputs": [
    {
     "data": {
      "text/plain": [
       "[22, 33, 23, 540, 630, 486, 872, 559, 24, 160]"
      ]
     },
     "execution_count": 14,
     "metadata": {},
     "output_type": "execute_result"
    }
   ],
   "source": [
    "# 랜덤으로 테스트\n",
    "input_text = str(sample_df.iloc[np.random.randint(len(sample_df)),1]) # 랜덤하게 진행\n",
    "top10_index = find_similar_subjects(input_text)\n",
    "top10_index"
   ]
  },
  {
   "cell_type": "markdown",
   "id": "f0571773",
   "metadata": {},
   "source": [
    "## 대충 알고리즘은 완성됬으니 project_info로 해보기"
   ]
  },
  {
   "cell_type": "code",
   "execution_count": 15,
   "id": "794622b6",
   "metadata": {},
   "outputs": [
    {
     "name": "stdout",
     "output_type": "stream",
     "text": [
      "AI가 자동으로 설계 문서를 생성하여 개발 과정을 단순화\n",
      "['react', 'typescript', 'springboot', 'AWS', 'git action', 'vercel']\n"
     ]
    }
   ],
   "source": [
    "solutionID = project_info_send[0]['problem_solving']['solutionIdea']\n",
    "stack = project_info_send[0]['technology_stack']\n",
    "\n",
    "print(solutionID)\n",
    "print(stack)"
   ]
  },
  {
   "cell_type": "code",
   "execution_count": null,
   "id": "3ce8dca9",
   "metadata": {},
   "outputs": [],
   "source": []
  },
  {
   "cell_type": "markdown",
   "id": "240c7e2d",
   "metadata": {},
   "source": [
    "## 프로젝트 임팩트로 구현"
   ]
  },
  {
   "cell_type": "code",
   "execution_count": 62,
   "id": "60be1227",
   "metadata": {},
   "outputs": [],
   "source": [
    "# 1. 데이터 입력 및 전체 TfidfVecotrizer 진행\n",
    "\n",
    "# json에서 필요한 데이터 파싱(solutionIdea, stack)\n",
    "\n",
    "solutionIdea_lst = []\n",
    "stack_lst = []\n",
    "\n",
    "for i in range(len(project_info_send)) :\n",
    "    solutionIdea_lst.append(project_info_send[i]['problem_solving']['solutionIdea'])\n",
    "    stack_lst.append(project_info_send[i]['technology_stack'])\n",
    "\n",
    "send_dataset = pd.DataFrame({\n",
    "    'subject': solutionIdea_lst,\n",
    "    'stack': stack_lst\n",
    "})\n",
    "\n",
    "# Json load\n",
    "sample_df = send_dataset.copy()\n",
    "\n",
    "# 텍스트 전처리 함수\n",
    "def preprocess_text(text):\n",
    "    if pd.isna(text):\n",
    "        return \"\"\n",
    "    # HTML 태그 제거\n",
    "    text = re.sub('<.*?>', '', str(text))\n",
    "    # 특수문자 제거 (한글, 영문, 숫자, 공백만 유지)\n",
    "    text = re.sub('[^가-힣a-zA-Z0-9\\s]', ' ', text)\n",
    "    # 연속된 공백을 하나로 변환\n",
    "    text = re.sub('\\s+', ' ', text)\n",
    "    return text.strip()\n",
    "\n",
    "# subject 컬럼 전처리\n",
    "sample_df['processed_subject'] = sample_df['subject'].apply(preprocess_text)\n",
    "\n",
    "# TfidfVectorizer 진행\n",
    "vectorizer = TfidfVectorizer(\n",
    "    max_features=1000,  # 최대 특성 수\n",
    "    ngram_range=(1, 2),  # 1-gram과 2-gram 사용\n",
    "    min_df=1,  # 최소 문서 빈도\n",
    "    max_df=0.95,  # 최대 문서 빈도 (너무 자주 나오는 단어 제외)\n",
    "    stop_words=None\n",
    ")\n",
    "\n",
    "\n",
    "# 2. 데이터 중에 스택이 포함되있는 내용만 추출\n",
    "def filter_stack_recomend_subjects(input_text ,target_stack, top_k = 10) :\n",
    "    # 공통되는 요소가 하나라도 있는 행\n",
    "    has_stack = sample_df[sample_df['stack'].apply(lambda x: bool(set(x) & set(target_stack)))]\n",
    "\n",
    "    # 원본 인덱스 저장\n",
    "    original_indices = has_stack.index.tolist()\n",
    "\n",
    "    # 벡터화 실행\n",
    "    tfidf_matrix = vectorizer.fit_transform(has_stack['processed_subject'])\n",
    "\n",
    "    # 사용자의 특정 개요의 유사도 기반 추천\n",
    "    processed_input = preprocess_text(input_text)\n",
    "    input_vector = vectorizer.transform([processed_input])\n",
    "    similarities = cosine_similarity(input_vector, tfidf_matrix).flatten()\n",
    "    similar_indices = similarities.argsort()[::-1][:top_k]\n",
    "\n",
    "    # 원본 DataFrame의 인덱스로 변환\n",
    "    original_similar_indices = [original_indices[i] for i in similar_indices]\n",
    "\n",
    "    return original_similar_indices\n"
   ]
  },
  {
   "cell_type": "code",
   "execution_count": 75,
   "id": "55c8be95",
   "metadata": {},
   "outputs": [
    {
     "data": {
      "text/plain": [
       "[1, 2, 4, 6, 3, 5, 0]"
      ]
     },
     "execution_count": 75,
     "metadata": {},
     "output_type": "execute_result"
    }
   ],
   "source": [
    "target_stack = ['react', 'vue']\n",
    "\n",
    "# 공통되는 요소가 하나라도 있는 행\n",
    "has_stack = sample_df # [sample_df['stack'].apply(lambda x: bool(set(x) & set(target_stack)))]\n",
    "\n",
    "# 원본 인덱스 저장\n",
    "original_indices = has_stack.index.tolist()\n",
    "\n",
    "# 벡터화 실행\n",
    "tfidf_matrix = vectorizer.fit_transform(has_stack['processed_subject'])\n",
    "\n",
    "# 사용자의 특정 개요의 유사도 기반 추천\n",
    "processed_input = preprocess_text(input_text)\n",
    "input_vector = vectorizer.transform([processed_input])\n",
    "similarities = cosine_similarity(input_vector, tfidf_matrix).flatten()\n",
    "similar_indices = similarities.argsort()[::-1][:10]\n",
    "\n",
    "# 원본 DataFrame의 인덱스로 변환\n",
    "original_similar_indices = [original_indices[i] for i in similar_indices]\n",
    "original_similar_indices"
   ]
  },
  {
   "cell_type": "code",
   "execution_count": 97,
   "id": "4efd4c50",
   "metadata": {},
   "outputs": [
    {
     "data": {
      "text/plain": [
       "array([0.        , 0.3805839 , 0.22394789, 0.04206275, 0.05158443,\n",
       "       0.        , 0.04366472])"
      ]
     },
     "execution_count": 97,
     "metadata": {},
     "output_type": "execute_result"
    }
   ],
   "source": [
    "target_stack = ['react', 'vue']\n",
    "\n",
    "# 공통되는 요소가 하나라도 있는 행\n",
    "has_stack = sample_df#[sample_df['stack'].apply(lambda x: bool(set(x) & set(target_stack)))]\n",
    "\n",
    "# 원본 인덱스 저장\n",
    "original_indices = has_stack.index.tolist()\n",
    "\n",
    "# 벡터화 실행\n",
    "tfidf_matrix = vectorizer.fit_transform(has_stack['processed_subject'])\n",
    "\n",
    "# 사용자의 특정 개요의 유사도 기반 추천\n",
    "processed_input = preprocess_text(input_text)\n",
    "input_vector = vectorizer.transform([processed_input])\n",
    "similarities = cosine_similarity(input_vector, tfidf_matrix).flatten()\n",
    "similarities"
   ]
  },
  {
   "cell_type": "code",
   "execution_count": null,
   "id": "bd83b9f8",
   "metadata": {},
   "outputs": [],
   "source": [
    "target_stack = ['react', 'vue']\n",
    "\n",
    "# 벡터화 실행\n",
    "tfidf_matrix = vectorizer.fit_transform(sample_df['processed_subject'])\n",
    "\n",
    "# 사용자의 특정 개요의 유사도 검사\n",
    "processed_input = preprocess_text(input_text)\n",
    "input_vector = vectorizer.transform([processed_input])\n",
    "similarities = cosine_similarity(input_vector, tfidf_matrix).flatten()\n",
    "sample_df['sim_score'] = similarities\n",
    "\n",
    "# 같은 스택 있는지에 대한 필터\n",
    "has_stack = sample_df[sample_df['stack'].apply(lambda x: bool(set(x) & set(target_stack)))]\n",
    "has_stack_sort = has_stack.sort_values(by = 'sim_score', ascending= False)\n",
    "\n",
    "# 특정 유사도 이상으로만 필터링 진행\n"
   ]
  },
  {
   "cell_type": "code",
   "execution_count": 130,
   "id": "c5ee3b4a",
   "metadata": {},
   "outputs": [
    {
     "data": {
      "text/html": [
       "<div>\n",
       "<style scoped>\n",
       "    .dataframe tbody tr th:only-of-type {\n",
       "        vertical-align: middle;\n",
       "    }\n",
       "\n",
       "    .dataframe tbody tr th {\n",
       "        vertical-align: top;\n",
       "    }\n",
       "\n",
       "    .dataframe thead th {\n",
       "        text-align: right;\n",
       "    }\n",
       "</style>\n",
       "<table border=\"1\" class=\"dataframe\">\n",
       "  <thead>\n",
       "    <tr style=\"text-align: right;\">\n",
       "      <th></th>\n",
       "      <th>subject</th>\n",
       "      <th>stack</th>\n",
       "      <th>processed_subject</th>\n",
       "      <th>sim_score</th>\n",
       "    </tr>\n",
       "  </thead>\n",
       "  <tbody>\n",
       "    <tr>\n",
       "      <th>2</th>\n",
       "      <td>사용자가 사진을 업로드하고 챗봇과 대화하여 기억을 회상하고 정리하는 플랫폼 제공</td>\n",
       "      <td>[react, typescript, 컴퓨터 비전, springboot]</td>\n",
       "      <td>사용자가 사진을 업로드하고 챗봇과 대화하여 기억을 회상하고 정리하는 플랫폼 제공</td>\n",
       "      <td>0.223948</td>\n",
       "    </tr>\n",
       "    <tr>\n",
       "      <th>0</th>\n",
       "      <td>AI가 자동으로 설계 문서를 생성하여 개발 과정을 단순화</td>\n",
       "      <td>[react, typescript, springboot, AWS, git actio...</td>\n",
       "      <td>AI가 자동으로 설계 문서를 생성하여 개발 과정을 단순화</td>\n",
       "      <td>0.000000</td>\n",
       "    </tr>\n",
       "  </tbody>\n",
       "</table>\n",
       "</div>"
      ],
      "text/plain": [
       "                                        subject  \\\n",
       "2  사용자가 사진을 업로드하고 챗봇과 대화하여 기억을 회상하고 정리하는 플랫폼 제공   \n",
       "0               AI가 자동으로 설계 문서를 생성하여 개발 과정을 단순화   \n",
       "\n",
       "                                               stack  \\\n",
       "2            [react, typescript, 컴퓨터 비전, springboot]   \n",
       "0  [react, typescript, springboot, AWS, git actio...   \n",
       "\n",
       "                              processed_subject  sim_score  \n",
       "2  사용자가 사진을 업로드하고 챗봇과 대화하여 기억을 회상하고 정리하는 플랫폼 제공   0.223948  \n",
       "0               AI가 자동으로 설계 문서를 생성하여 개발 과정을 단순화   0.000000  "
      ]
     },
     "execution_count": 130,
     "metadata": {},
     "output_type": "execute_result"
    }
   ],
   "source": [
    "has_stack_sort"
   ]
  },
  {
   "cell_type": "code",
   "execution_count": 106,
   "id": "bdf0bf46",
   "metadata": {},
   "outputs": [
    {
     "data": {
      "text/plain": [
       "Index([1, 2, 4, 6, 3, 0, 5], dtype='int64')"
      ]
     },
     "execution_count": 106,
     "metadata": {},
     "output_type": "execute_result"
    }
   ],
   "source": [
    "has_stack_sort"
   ]
  },
  {
   "cell_type": "code",
   "execution_count": 102,
   "id": "ebc6d19d",
   "metadata": {},
   "outputs": [
    {
     "name": "stderr",
     "output_type": "stream",
     "text": [
      "C:\\Users\\mir96\\AppData\\Local\\Temp\\ipykernel_24136\\420015157.py:1: SettingWithCopyWarning: \n",
      "A value is trying to be set on a copy of a slice from a DataFrame.\n",
      "Try using .loc[row_indexer,col_indexer] = value instead\n",
      "\n",
      "See the caveats in the documentation: https://pandas.pydata.org/pandas-docs/stable/user_guide/indexing.html#returning-a-view-versus-a-copy\n",
      "  has_stack['sim_score'] = similarities\n"
     ]
    },
    {
     "data": {
      "text/plain": [
       "Index([2, 0], dtype='int64')"
      ]
     },
     "execution_count": 102,
     "metadata": {},
     "output_type": "execute_result"
    }
   ],
   "source": [
    "has_stack['sim_score'] = similarities\n",
    "has_stack.sort_values(by = 'sim_score', ascending= False).index"
   ]
  },
  {
   "cell_type": "code",
   "execution_count": 100,
   "id": "8f42f16a",
   "metadata": {},
   "outputs": [
    {
     "data": {
      "text/html": [
       "<div>\n",
       "<style scoped>\n",
       "    .dataframe tbody tr th:only-of-type {\n",
       "        vertical-align: middle;\n",
       "    }\n",
       "\n",
       "    .dataframe tbody tr th {\n",
       "        vertical-align: top;\n",
       "    }\n",
       "\n",
       "    .dataframe thead th {\n",
       "        text-align: right;\n",
       "    }\n",
       "</style>\n",
       "<table border=\"1\" class=\"dataframe\">\n",
       "  <thead>\n",
       "    <tr style=\"text-align: right;\">\n",
       "      <th></th>\n",
       "      <th>subject</th>\n",
       "      <th>stack</th>\n",
       "      <th>processed_subject</th>\n",
       "      <th>sim_score</th>\n",
       "    </tr>\n",
       "  </thead>\n",
       "  <tbody>\n",
       "    <tr>\n",
       "      <th>0</th>\n",
       "      <td>AI가 자동으로 설계 문서를 생성하여 개발 과정을 단순화</td>\n",
       "      <td>[react, typescript, springboot, AWS, git actio...</td>\n",
       "      <td>AI가 자동으로 설계 문서를 생성하여 개발 과정을 단순화</td>\n",
       "      <td>0.000000</td>\n",
       "    </tr>\n",
       "    <tr>\n",
       "      <th>2</th>\n",
       "      <td>사용자가 사진을 업로드하고 챗봇과 대화하여 기억을 회상하고 정리하는 플랫폼 제공</td>\n",
       "      <td>[react, typescript, 컴퓨터 비전, springboot]</td>\n",
       "      <td>사용자가 사진을 업로드하고 챗봇과 대화하여 기억을 회상하고 정리하는 플랫폼 제공</td>\n",
       "      <td>0.307794</td>\n",
       "    </tr>\n",
       "  </tbody>\n",
       "</table>\n",
       "</div>"
      ],
      "text/plain": [
       "                                        subject  \\\n",
       "0               AI가 자동으로 설계 문서를 생성하여 개발 과정을 단순화   \n",
       "2  사용자가 사진을 업로드하고 챗봇과 대화하여 기억을 회상하고 정리하는 플랫폼 제공   \n",
       "\n",
       "                                               stack  \\\n",
       "0  [react, typescript, springboot, AWS, git actio...   \n",
       "2            [react, typescript, 컴퓨터 비전, springboot]   \n",
       "\n",
       "                              processed_subject  sim_score  \n",
       "0               AI가 자동으로 설계 문서를 생성하여 개발 과정을 단순화   0.000000  \n",
       "2  사용자가 사진을 업로드하고 챗봇과 대화하여 기억을 회상하고 정리하는 플랫폼 제공   0.307794  "
      ]
     },
     "execution_count": 100,
     "metadata": {},
     "output_type": "execute_result"
    }
   ],
   "source": [
    "has_stack"
   ]
  },
  {
   "cell_type": "code",
   "execution_count": null,
   "id": "f733d110",
   "metadata": {},
   "outputs": [],
   "source": [
    "high_similarities.argsort()[::-1][:10]"
   ]
  },
  {
   "cell_type": "code",
   "execution_count": 89,
   "id": "a537fb3b",
   "metadata": {},
   "outputs": [
    {
     "data": {
      "text/plain": [
       "array([1, 6, 5, 4, 3, 2, 0], dtype=int64)"
      ]
     },
     "execution_count": 89,
     "metadata": {},
     "output_type": "execute_result"
    }
   ],
   "source": [
    "high_similarities = similarities>0.3\n",
    "high_similarities.argsort()[::-1][:10]"
   ]
  },
  {
   "cell_type": "code",
   "execution_count": 77,
   "id": "3b642d37",
   "metadata": {},
   "outputs": [
    {
     "data": {
      "text/plain": [
       "array([0.        , 0.3805839 , 0.22394789, 0.04206275, 0.05158443,\n",
       "       0.        , 0.04366472])"
      ]
     },
     "execution_count": 77,
     "metadata": {},
     "output_type": "execute_result"
    }
   ],
   "source": [
    "similarities"
   ]
  },
  {
   "cell_type": "code",
   "execution_count": 76,
   "id": "60a723f2",
   "metadata": {},
   "outputs": [
    {
     "data": {
      "text/html": [
       "<div>\n",
       "<style scoped>\n",
       "    .dataframe tbody tr th:only-of-type {\n",
       "        vertical-align: middle;\n",
       "    }\n",
       "\n",
       "    .dataframe tbody tr th {\n",
       "        vertical-align: top;\n",
       "    }\n",
       "\n",
       "    .dataframe thead th {\n",
       "        text-align: right;\n",
       "    }\n",
       "</style>\n",
       "<table border=\"1\" class=\"dataframe\">\n",
       "  <thead>\n",
       "    <tr style=\"text-align: right;\">\n",
       "      <th></th>\n",
       "      <th>subject</th>\n",
       "      <th>stack</th>\n",
       "      <th>processed_subject</th>\n",
       "    </tr>\n",
       "  </thead>\n",
       "  <tbody>\n",
       "    <tr>\n",
       "      <th>0</th>\n",
       "      <td>AI가 자동으로 설계 문서를 생성하여 개발 과정을 단순화</td>\n",
       "      <td>[react, typescript, springboot, AWS, git actio...</td>\n",
       "      <td>AI가 자동으로 설계 문서를 생성하여 개발 과정을 단순화</td>\n",
       "    </tr>\n",
       "    <tr>\n",
       "      <th>1</th>\n",
       "      <td>스터디 그룹 내에서 과제 관리와 퀴즈를 통해 학습 내용을 반복 학습할 수 있는 기능 제공</td>\n",
       "      <td>[javaScript, java]</td>\n",
       "      <td>스터디 그룹 내에서 과제 관리와 퀴즈를 통해 학습 내용을 반복 학습할 수 있는 기능 제공</td>\n",
       "    </tr>\n",
       "    <tr>\n",
       "      <th>2</th>\n",
       "      <td>사용자가 사진을 업로드하고 챗봇과 대화하여 기억을 회상하고 정리하는 플랫폼 제공</td>\n",
       "      <td>[react, typescript, 컴퓨터 비전, springboot]</td>\n",
       "      <td>사용자가 사진을 업로드하고 챗봇과 대화하여 기억을 회상하고 정리하는 플랫폼 제공</td>\n",
       "    </tr>\n",
       "    <tr>\n",
       "      <th>3</th>\n",
       "      <td>스터디 그룹 내에서 과제 관리와 퀴즈를 통해 학습 내용을 반복 학습할 수 있도록 지원</td>\n",
       "      <td>[javaScript, java]</td>\n",
       "      <td>스터디 그룹 내에서 과제 관리와 퀴즈를 통해 학습 내용을 반복 학습할 수 있도록 지원</td>\n",
       "    </tr>\n",
       "    <tr>\n",
       "      <th>4</th>\n",
       "      <td>스터디 그룹 내에서 과제 관리와 퀴즈를 통해 학습 효과를 극대화</td>\n",
       "      <td>[javaScript, java]</td>\n",
       "      <td>스터디 그룹 내에서 과제 관리와 퀴즈를 통해 학습 효과를 극대화</td>\n",
       "    </tr>\n",
       "    <tr>\n",
       "      <th>5</th>\n",
       "      <td>직관적인 UI와 협업 도구를 제공하여 사용자가 쉽게 프로젝트를 관리할 수 있도록 지원</td>\n",
       "      <td>[Spring, React]</td>\n",
       "      <td>직관적인 UI와 협업 도구를 제공하여 사용자가 쉽게 프로젝트를 관리할 수 있도록 지원</td>\n",
       "    </tr>\n",
       "    <tr>\n",
       "      <th>6</th>\n",
       "      <td>스터디 그룹 내에서 과제 관리와 퀴즈 기능을 통해 학습 효과를 극대화</td>\n",
       "      <td>[javaScript, java]</td>\n",
       "      <td>스터디 그룹 내에서 과제 관리와 퀴즈 기능을 통해 학습 효과를 극대화</td>\n",
       "    </tr>\n",
       "  </tbody>\n",
       "</table>\n",
       "</div>"
      ],
      "text/plain": [
       "                                             subject  \\\n",
       "0                    AI가 자동으로 설계 문서를 생성하여 개발 과정을 단순화   \n",
       "1  스터디 그룹 내에서 과제 관리와 퀴즈를 통해 학습 내용을 반복 학습할 수 있는 기능 제공   \n",
       "2       사용자가 사진을 업로드하고 챗봇과 대화하여 기억을 회상하고 정리하는 플랫폼 제공   \n",
       "3    스터디 그룹 내에서 과제 관리와 퀴즈를 통해 학습 내용을 반복 학습할 수 있도록 지원   \n",
       "4                스터디 그룹 내에서 과제 관리와 퀴즈를 통해 학습 효과를 극대화   \n",
       "5    직관적인 UI와 협업 도구를 제공하여 사용자가 쉽게 프로젝트를 관리할 수 있도록 지원   \n",
       "6             스터디 그룹 내에서 과제 관리와 퀴즈 기능을 통해 학습 효과를 극대화   \n",
       "\n",
       "                                               stack  \\\n",
       "0  [react, typescript, springboot, AWS, git actio...   \n",
       "1                                 [javaScript, java]   \n",
       "2            [react, typescript, 컴퓨터 비전, springboot]   \n",
       "3                                 [javaScript, java]   \n",
       "4                                 [javaScript, java]   \n",
       "5                                    [Spring, React]   \n",
       "6                                 [javaScript, java]   \n",
       "\n",
       "                                   processed_subject  \n",
       "0                    AI가 자동으로 설계 문서를 생성하여 개발 과정을 단순화  \n",
       "1  스터디 그룹 내에서 과제 관리와 퀴즈를 통해 학습 내용을 반복 학습할 수 있는 기능 제공  \n",
       "2       사용자가 사진을 업로드하고 챗봇과 대화하여 기억을 회상하고 정리하는 플랫폼 제공  \n",
       "3    스터디 그룹 내에서 과제 관리와 퀴즈를 통해 학습 내용을 반복 학습할 수 있도록 지원  \n",
       "4                스터디 그룹 내에서 과제 관리와 퀴즈를 통해 학습 효과를 극대화  \n",
       "5    직관적인 UI와 협업 도구를 제공하여 사용자가 쉽게 프로젝트를 관리할 수 있도록 지원  \n",
       "6             스터디 그룹 내에서 과제 관리와 퀴즈 기능을 통해 학습 효과를 극대화  "
      ]
     },
     "execution_count": 76,
     "metadata": {},
     "output_type": "execute_result"
    }
   ],
   "source": [
    "has_stack"
   ]
  },
  {
   "cell_type": "code",
   "execution_count": 18,
   "id": "4b87e7e7",
   "metadata": {},
   "outputs": [
    {
     "data": {
      "text/html": [
       "<div>\n",
       "<style scoped>\n",
       "    .dataframe tbody tr th:only-of-type {\n",
       "        vertical-align: middle;\n",
       "    }\n",
       "\n",
       "    .dataframe tbody tr th {\n",
       "        vertical-align: top;\n",
       "    }\n",
       "\n",
       "    .dataframe thead th {\n",
       "        text-align: right;\n",
       "    }\n",
       "</style>\n",
       "<table border=\"1\" class=\"dataframe\">\n",
       "  <thead>\n",
       "    <tr style=\"text-align: right;\">\n",
       "      <th></th>\n",
       "      <th>subject</th>\n",
       "      <th>stack</th>\n",
       "      <th>processed_subject</th>\n",
       "    </tr>\n",
       "  </thead>\n",
       "  <tbody>\n",
       "    <tr>\n",
       "      <th>0</th>\n",
       "      <td>AI가 자동으로 설계 문서를 생성하여 개발 과정을 단순화</td>\n",
       "      <td>[react, typescript, springboot, AWS, git actio...</td>\n",
       "      <td>AI가 자동으로 설계 문서를 생성하여 개발 과정을 단순화</td>\n",
       "    </tr>\n",
       "    <tr>\n",
       "      <th>2</th>\n",
       "      <td>사용자가 사진을 업로드하고 챗봇과 대화하여 기억을 회상하고 정리하는 플랫폼 제공</td>\n",
       "      <td>[react, typescript, 컴퓨터 비전, springboot]</td>\n",
       "      <td>사용자가 사진을 업로드하고 챗봇과 대화하여 기억을 회상하고 정리하는 플랫폼 제공</td>\n",
       "    </tr>\n",
       "  </tbody>\n",
       "</table>\n",
       "</div>"
      ],
      "text/plain": [
       "                                        subject  \\\n",
       "0               AI가 자동으로 설계 문서를 생성하여 개발 과정을 단순화   \n",
       "2  사용자가 사진을 업로드하고 챗봇과 대화하여 기억을 회상하고 정리하는 플랫폼 제공   \n",
       "\n",
       "                                               stack  \\\n",
       "0  [react, typescript, springboot, AWS, git actio...   \n",
       "2            [react, typescript, 컴퓨터 비전, springboot]   \n",
       "\n",
       "                              processed_subject  \n",
       "0               AI가 자동으로 설계 문서를 생성하여 개발 과정을 단순화  \n",
       "2  사용자가 사진을 업로드하고 챗봇과 대화하여 기억을 회상하고 정리하는 플랫폼 제공  "
      ]
     },
     "execution_count": 18,
     "metadata": {},
     "output_type": "execute_result"
    }
   ],
   "source": [
    "target_stack = ['react', 'vue']\n",
    "has_common = sample_df[sample_df['stack'].apply(lambda x: bool(set(x) & set(target_stack)))]\n",
    "has_common"
   ]
  },
  {
   "cell_type": "code",
   "execution_count": null,
   "id": "c531aa61",
   "metadata": {},
   "outputs": [],
   "source": []
  }
 ],
 "metadata": {
  "kernelspec": {
   "display_name": "base",
   "language": "python",
   "name": "python3"
  },
  "language_info": {
   "codemirror_mode": {
    "name": "ipython",
    "version": 3
   },
   "file_extension": ".py",
   "mimetype": "text/x-python",
   "name": "python",
   "nbconvert_exporter": "python",
   "pygments_lexer": "ipython3",
   "version": "3.11.7"
  }
 },
 "nbformat": 4,
 "nbformat_minor": 5
}
