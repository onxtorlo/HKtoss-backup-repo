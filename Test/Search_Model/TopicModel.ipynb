{
 "cells": [
  {
   "cell_type": "code",
   "execution_count": 30,
   "id": "2769b61a",
   "metadata": {},
   "outputs": [],
   "source": [
    "# 1. 필요한 라이브러리 import\n",
    "import pandas as pd\n",
    "import numpy as np\n",
    "import matplotlib.pyplot as plt\n",
    "import seaborn as sns\n",
    "import re"
   ]
  },
  {
   "cell_type": "code",
   "execution_count": 5,
   "id": "f40366b2",
   "metadata": {},
   "outputs": [],
   "source": [
    "user_data_send = [\n",
    "  {\n",
    "    \"idea_input_id\": 1,\n",
    "    \"project_description\": \"이 웹 서비스는 초보 개발자를 위한 프로젝트 관리 플랫폼으로, 개발에 필요한 기획 자료를 AI가 자동으로 생성해주는 기능을 중심으로 합니다. 사용자는 간단한 서비스 아이디어나 기능 설명만 입력하면, AI가 이를 바탕으로 데이터베이스 ERD(Entity Relationship Diagram), API 명세서, 기능 목록 등을 자동으로 생성해줍니다. 이를 통해 복잡한 설계 과정을 생략하고 빠르게 개발에 착수할 수 있으며, 협업 시에는 자동으로 생성된 문서를 기반으로 팀원들과 효율적인 커뮤니케이션이 가능합니다. 또한 프로젝트 진행 현황을 시각화하고, 개발 로드맵을 생성·관리하는 기능도 제공하여, 초보 개발자들이 실무 프로젝트처럼 체계적으로 경험을 쌓을 수 있도록 도와줍니다.\",\n",
    "    \"project_name\": \"프로젝트 관리 웹 서비스\",\n",
    "    \"project_target\": \"프로젝트 경험이 적은 초보 개발자\",\n",
    "    \"workspace_id\": 1\n",
    "  },\n",
    "  {\n",
    "    \"idea_input_id\": 7,\n",
    "    \"project_description\": \"'기억박물관'은 치매 환자와 그 가족을 위한 따뜻한 기억 회복 웹사이트입니다. 사용자는 일상 사진을 업로드하고, 챗봇과의 자연스러운 대화를 통해 사진 속 인물, 장소, 상황에 대한 정보를 되새깁니다. 이렇게 수집된 정보는 자동으로 사용자만의 디지털 다이어리로 정리되며, 환자가 매일 한 번씩 과거의 소중한 기억을 다시 볼 수 있도록 돕는 회상 기능도 포함되어 있습니다. 가족 구성원은 다이어리에 코멘트를 남기거나 설명을 추가할 수 있어, 함께 기억을 공유하고 감정을 나누는 소통의 장이 됩니다. 인지 자극과 정서적 유대감을 동시에 고려한 이 플랫폼은 치매 환자의 삶의 질을 높이고 가족 간의 관계를 더욱 돈독히 만들어주는 기억의 동반자입니다.\",\n",
    "    \"project_name\": \"기억박물관\",\n",
    "    \"project_target\": \"손쉽게 추억을 기록하고싶은 사람\",\n",
    "    \"workspace_id\": 7\n",
    "  },\n",
    "  {\n",
    "    \"idea_input_id\": 8,\n",
    "    \"project_description\": \"GQ 서비스는 학습 중심의 스터디 그룹 운영을 지원하는 웹 플랫폼으로, 단순한 그룹 관리에서 나아가 그룹 내 학습 내용을 복습할 수 있는 기능을 제공하여 학습 효과를 극대화하는 것을 목표로 한다. 사용자들은 회원가입과 로그인을 통해 서비스를 이용할 수 있으며, 아이디 및 비밀번호 찾기 기능으로 편의성을 높였다. 사용자는 새로운 스터디 그룹을 생성하거나 기존 그룹을 검색해 가입할 수 있으며, 그룹 내에서는 퀴즈를 생성하고 참여하여 학습한 내용을 효과적으로 반복 학습할 수 있다. 또한 공지사항 게시판을 통해 그룹 내 전달사항을 공유할 수 있고, 과제 게시판은 체크리스트 형태로 구성되어 과제 수행 여부를 명확히 기록할 수 있다. 이러한 기능들은 사용자 간의 소통을 강화하고 학습 동기를 부여하는 데 기여한다. 서비스는 Java Servlet과 JSP 기반으로 구현되었으며, HTML, CSS, JavaScript를 통해 사용자 친화적인 인터페이스를 제공한다. 데이터베이스는 MySQL을 사용하여 안정적인 데이터 저장과 처리를 가능하게 하며, 전반적인 시스템은 학습 관리에 최적화된 구조로 설계되었다.\",\n",
    "    \"project_name\": \"스터디 그룹 운영지원 플랫폼\",\n",
    "    \"project_target\": \"교육/학습 관리\",\n",
    "    \"workspace_id\": 8\n",
    "  },\n",
    "  {\n",
    "    \"idea_input_id\": 24,\n",
    "    \"project_description\": \"이 프로젝트는 개발 경험이 적은 사용자를 위해 설계된 웹 기반 프로젝트 워크플로우 관리 서비스입니다. React와 Spring을 기반으로 안정적인 백엔드와 직관적인 프론트엔드를 구현하며, 팀원 간의 원활한 협업을 지원합니다. 사용자는 프로젝트 생성, 작업 분배, 진행 상태 업데이트 등 다양한 협업 기능을 활용할 수 있고, 대시보드를 통해 전체 프로젝트의 진행 상황과 팀원별 업무 현황을 시각적으로 한눈에 파악할 수 있습니다. 이를 통해 프로젝트 관리를 쉽게 하며 생산성과 효율성을 높일 수 있습니다.\",\n",
    "    \"project_name\": \"프로젝트 워크 플로우 웹 서비스\",\n",
    "    \"project_target\": \"프로젝트 경험이 적은 개발자\",\n",
    "    \"workspace_id\": 24\n",
    "  },\n",
    "  {\n",
    "    \"idea_input_id\": 25,\n",
    "    \"project_description\": \"GQ 서비스는 학습 중심의 스터디 그룹 운영을 지원하는 웹 플랫폼으로, 단순한 그룹 관리에서 나아가 그룹 내 학습 내용을 복습할 수 있는 기능을 제공하여 학습 효과를 극대화하는 것을 목표로 한다. 사용자들은 회원가입과 로그인을 통해 서비스를 이용할 수 있으며, 아이디 및 비밀번호 찾기 기능으로 편의성을 높였다. 사용자는 새로운 스터디 그룹을 생성하거나 기존 그룹을 검색해 가입할 수 있으며, 그룹 내에서는 퀴즈를 생성하고 참여하여 학습한 내용을 효과적으로 반복 학습할 수 있다. 또한 공지사항 게시판을 통해 그룹 내 전달사항을 공유할 수 있고, 과제 게시판은 체크리스트 형태로 구성되어 과제 수행 여부를 명확히 기록할 수 있다. 이러한 기능들은 사용자 간의 소통을 강화하고 학습 동기를 부여하는 데 기여한다. 서비스는 Spring 기반으로 구현되었으며, HTML, CSS, JavaScript, React를 통해 사용자 친화적인 인터페이스를 제공한다. 데이터베이스는 MySQL을 사용하여 안정적인 데이터 저장과 처리를 가능하게 하며, 전반적인 시스템은 학습 관리에 최적화된 구조로 설계되었다.\",\n",
    "    \"project_name\": \"스터디 그룹 서비스 GQ\",\n",
    "    \"project_target\": \"스터디를 모집 및 들어가고 싶어하는 대학생들\",\n",
    "    \"workspace_id\": 25\n",
    "  },\n",
    "  {\n",
    "    \"idea_input_id\": 27,\n",
    "    \"project_description\": \"이 프로그램은 사용자가 등록한 작업을 토대로 LangChain Agent를 구성하고, CRON을 이용한 스케쥴링을 통해 사용자가 등록한 WORKFLOW를 자동화 합니다. 사용자의 작업을 등록할 수 있는 화면이 필요하며, 모든 워크플로우 처리는 자연어를 통해 등록되어야 합니다. 작업 내역은 데이터베이스에 삽입되며, 처리 결과가 일자별로 정리되어야 합니다. 작업 처리 과정은 시각화된 dashboard(d3.js)에를 토대로 화면에 보여지게 됩니다.\",\n",
    "    \"project_name\": \"asdf\",\n",
    "    \"project_target\": \"경험이 적은 개발자\",\n",
    "    \"workspace_id\": 27\n",
    "  }\n",
    "]"
   ]
  },
  {
   "cell_type": "code",
   "execution_count": 6,
   "id": "d3c4ca39",
   "metadata": {},
   "outputs": [],
   "source": [
    "project_info_send =  [\n",
    "    {\n",
    "      \"project_info_id\": 1,\n",
    "      \"category\": \"웹 서비스\",\n",
    "      \"core_features\": [\"ERD 자동생성\", \"API 명세서 자동생성\", \"프로젝트 정보 자동생성\"],\n",
    "      \"created_at\": \"2025-06-18T00:39:46.947095\",\n",
    "      \"problem_solving\": {\n",
    "        \"solutionIdea\": \"AI가 자동으로 설계 문서를 생성하여 개발 과정을 단순화\",\n",
    "        \"currentProblem\": \"초보 개발자들이 복잡한 설계 과정을 이해하고 진행하는 데 어려움이 있음\",\n",
    "        \"expectedBenefits\": [\"빠른 개발 착수\", \"효율적인 팀원 간 커뮤니케이션\", \"체계적인 프로젝트 경험\"]\n",
    "      },\n",
    "      \"target_users\": [\"프로젝트 경험이 적은 초보 개발자\"],\n",
    "      \"technology_stack\": [\"react\", \"typescript\", \"springboot\", \"AWS\", \"git action\", \"vercel\"],\n",
    "      \"title\": \"프로젝트 관리 웹 서비스\",\n",
    "      \"updated_at\": \"2025-06-18T00:39:46.947102\",\n",
    "      \"workspace_id\": 1\n",
    "    },\n",
    "    {\n",
    "      \"project_info_id\": 11,\n",
    "      \"category\": \"학습 관리\",\n",
    "      \"core_features\": [\"체크리스트 형태의 과제 관리\", \"퀴즈를 통한 반복 학습\"],\n",
    "      \"created_at\": \"2025-06-19T08:24:29.404944\",\n",
    "      \"problem_solving\": {\n",
    "        \"solutionIdea\": \"스터디 그룹 내에서 과제 관리와 퀴즈를 통해 학습 내용을 반복 학습할 수 있는 기능 제공\",\n",
    "        \"currentProblem\": \"학생들이 학습 동기를 잃고 효과적으로 학습하지 못하는 문제\",\n",
    "        \"expectedBenefits\": [\"학습 효과 극대화\", \"사용자 간 소통 강화\", \"학습 동기 부여\"]\n",
    "      },\n",
    "      \"target_users\": [\"학습 동기를 얻고 싶은 학생\"],\n",
    "      \"technology_stack\": [\"javaScript\", \"java\"],\n",
    "      \"title\": \"스터디 그룹 운영지원 플랫폼\",\n",
    "      \"updated_at\": \"2025-06-19T08:24:29.404954\",\n",
    "      \"workspace_id\": 17\n",
    "    },\n",
    "    {\n",
    "      \"project_info_id\": 4,\n",
    "      \"category\": \"웹사이트\",\n",
    "      \"core_features\": [\"챗봇을 통한 대화 기반 추억 정보 수집\", \"사진 업로드 및 기억 저장\", \"디지털 다이어리 작성\", \"랜덤 추억 회상 기능\"],\n",
    "      \"created_at\": \"2025-06-18T12:51:01.305042\",\n",
    "      \"problem_solving\": {\n",
    "        \"solutionIdea\": \"사용자가 사진을 업로드하고 챗봇과 대화하여 기억을 회상하고 정리하는 플랫폼 제공\",\n",
    "        \"currentProblem\": \"치매 환자와 가족 간의 기억 회복 및 소통 부족\",\n",
    "        \"expectedBenefits\": [\"치매 환자의 삶의 질 향상\", \"가족 간의 정서적 유대감 증진\"]\n",
    "      },\n",
    "      \"target_users\": [\"손쉽게 추억을 기록하고 싶은 사람\", \"치매 환자와 그 가족\"],\n",
    "      \"technology_stack\": [\"react\", \"typescript\", \"컴퓨터 비전\", \"springboot\"],\n",
    "      \"title\": \"기억박물관\",\n",
    "      \"updated_at\": \"2025-06-18T12:51:01.305046\",\n",
    "      \"workspace_id\": 7\n",
    "    },\n",
    "    {\n",
    "      \"project_info_id\": 12,\n",
    "      \"category\": \"교육/학습\",\n",
    "      \"core_features\": [\"체크리스트 형태의 과제 관리\", \"퀴즈를 통한 반복 학습\"],\n",
    "      \"created_at\": \"2025-06-19T08:40:49.432892\",\n",
    "      \"problem_solving\": {\n",
    "        \"solutionIdea\": \"스터디 그룹 내에서 과제 관리와 퀴즈를 통해 학습 내용을 반복 학습할 수 있도록 지원\",\n",
    "        \"currentProblem\": \"학생들이 학습 동기를 잃고 효과적으로 학습하지 못하는 문제\",\n",
    "        \"expectedBenefits\": [\"학습 효과 극대화\", \"사용자 간 소통 강화\", \"학습 동기 부여\"]\n",
    "      },\n",
    "      \"target_users\": [\"학습 동기를 얻고 싶은 학생\"],\n",
    "      \"technology_stack\": [\"javaScript\", \"java\"],\n",
    "      \"title\": \"스터디 그룹 운영지원 플랫폼\",\n",
    "      \"updated_at\": \"2025-06-19T08:40:49.432896\",\n",
    "      \"workspace_id\": 18\n",
    "    },\n",
    "    {\n",
    "      \"project_info_id\": 6,\n",
    "      \"category\": \"교육/학습 관리\",\n",
    "      \"core_features\": [\"체크 리스트 형태의 과제 관리\", \"퀴즈를 통한 반복 학습\"],\n",
    "      \"created_at\": \"2025-06-19T02:01:30.915498\",\n",
    "      \"problem_solving\": {\n",
    "        \"solutionIdea\": \"스터디 그룹 내에서 과제 관리와 퀴즈를 통해 학습 효과를 극대화\",\n",
    "        \"currentProblem\": \"학생들이 학습 동기를 유지하기 어려움\",\n",
    "        \"expectedBenefits\": [\"사용자 간의 소통 강화\", \"학습 동기 부여\"]\n",
    "      },\n",
    "      \"target_users\": [\"학습 동기를 얻고 싶은 학생\"],\n",
    "      \"technology_stack\": [\"javaScript\", \"java\"],\n",
    "      \"title\": \"스터디 그룹 운영 지원 플랫폼\",\n",
    "      \"updated_at\": \"2025-06-19T08:08:47.016643\",\n",
    "      \"workspace_id\": 8\n",
    "    },\n",
    "    {\n",
    "      \"project_info_id\": 16,\n",
    "      \"category\": \"웹 서비스\",\n",
    "      \"core_features\": [\"프로젝트 협업 기능 툴\", \"내용을 대시 보드로 확인\"],\n",
    "      \"created_at\": \"2025-06-20T02:50:02.349680\",\n",
    "      \"problem_solving\": {\n",
    "        \"solutionIdea\": \"직관적인 UI와 협업 도구를 제공하여 사용자가 쉽게 프로젝트를 관리할 수 있도록 지원\",\n",
    "        \"currentProblem\": \"프로젝트 관리의 복잡성과 비효율성\",\n",
    "        \"expectedBenefits\": [\"생산성 향상\", \"효율적인 팀워크\", \"프로젝트 진행 상황의 명확한 시각화\"]\n",
    "      },\n",
    "      \"target_users\": [\"프로젝트 경험이 적은 개발자\"],\n",
    "      \"technology_stack\": [\"Spring\", \"React\"],\n",
    "      \"title\": \"프로젝트 워크 플로우 웹 서비스\",\n",
    "      \"updated_at\": \"2025-06-20T02:50:02.349687\",\n",
    "      \"workspace_id\": 24\n",
    "    },\n",
    "    {\n",
    "      \"project_info_id\": 15,\n",
    "      \"category\": \"학습 관리\",\n",
    "      \"core_features\": [\"체크리스트 형태의 과제 관리\", \"퀴즈를 통한 반복 학습\"],\n",
    "      \"created_at\": \"2025-06-20T02:21:30.596460\",\n",
    "      \"problem_solving\": {\n",
    "        \"solutionIdea\": \"스터디 그룹 내에서 과제 관리와 퀴즈 기능을 통해 학습 효과를 극대화\",\n",
    "        \"currentProblem\": \"학생들이 학습 동기를 잃고 효과적으로 학습하지 못하는 문제\",\n",
    "        \"expectedBenefits\": [\"사용자 간의 소통 강화\", \"학습 동기 부여\"]\n",
    "      },\n",
    "      \"target_users\": [\"학습 동기를 얻고 싶은 학생\"],\n",
    "      \"technology_stack\": [\"javaScript\", \"java\"],\n",
    "      \"title\": \"스터디 그룹 운영지원 플랫폼\",\n",
    "      \"updated_at\": \"2025-06-20T02:21:30.596470\",\n",
    "      \"workspace_id\": 23\n",
    "    }\n",
    "]"
   ]
  },
  {
   "cell_type": "code",
   "execution_count": null,
   "id": "65e6facd",
   "metadata": {},
   "outputs": [],
   "source": [
    "# 구조만 알아두면 좋을듯\n",
    "user_data = pd.DataFrame(user_data_send) # 유저가 입력한 프로젝트 데이터\n",
    "project_info = pd.DataFrame(project_info_send) # 프로젝트 요약 "
   ]
  },
  {
   "cell_type": "code",
   "execution_count": 10,
   "id": "fa0f394b",
   "metadata": {},
   "outputs": [
    {
     "data": {
      "text/plain": [
       "Index(['idea_input_id', 'project_description', 'project_name',\n",
       "       'project_target', 'workspace_id'],\n",
       "      dtype='object')"
      ]
     },
     "execution_count": 10,
     "metadata": {},
     "output_type": "execute_result"
    }
   ],
   "source": [
    "user_data.columns"
   ]
  },
  {
   "cell_type": "code",
   "execution_count": 11,
   "id": "f2fda8c7",
   "metadata": {},
   "outputs": [
    {
     "data": {
      "text/plain": [
       "Index(['project_info_id', 'category', 'core_features', 'created_at',\n",
       "       'problem_solving', 'target_users', 'technology_stack', 'title',\n",
       "       'updated_at', 'workspace_id'],\n",
       "      dtype='object')"
      ]
     },
     "execution_count": 11,
     "metadata": {},
     "output_type": "execute_result"
    }
   ],
   "source": [
    "project_info.columns"
   ]
  },
  {
   "cell_type": "markdown",
   "id": "5100dcb3",
   "metadata": {},
   "source": [
    "# DB의 내용들과 유사도 검색"
   ]
  },
  {
   "cell_type": "code",
   "execution_count": 50,
   "id": "40f00cad",
   "metadata": {},
   "outputs": [
    {
     "name": "stdout",
     "output_type": "stream",
     "text": [
      "<class 'pandas.core.frame.DataFrame'>\n",
      "RangeIndex: 977 entries, 0 to 976\n",
      "Data columns (total 1 columns):\n",
      " #   Column   Non-Null Count  Dtype \n",
      "---  ------   --------------  ----- \n",
      " 0   subject  977 non-null    object\n",
      "dtypes: object(1)\n",
      "memory usage: 7.8+ KB\n"
     ]
    }
   ],
   "source": [
    "sample_df = pd.read_csv('dummy_subject.csv').drop(columns = \"Unnamed: 0\")\n",
    "sample_df.info()"
   ]
  },
  {
   "cell_type": "code",
   "execution_count": 61,
   "id": "5451a4a5",
   "metadata": {},
   "outputs": [
    {
     "name": "stdout",
     "output_type": "stream",
     "text": [
      "전처리 후 빈 텍스트 개수: 0\n"
     ]
    }
   ],
   "source": [
    "# 텍스트 전처리 함수\n",
    "def preprocess_text(text):\n",
    "    if pd.isna(text):\n",
    "        return \"\"\n",
    "    \n",
    "    # HTML 태그 제거\n",
    "    text = re.sub('<.*?>', '', str(text))\n",
    "    \n",
    "    # 특수문자 제거 (한글, 영문, 숫자, 공백만 유지)\n",
    "    text = re.sub('[^가-힣a-zA-Z0-9\\s]', ' ', text)\n",
    "    \n",
    "    # 연속된 공백을 하나로 변환\n",
    "    text = re.sub('\\s+', ' ', text)\n",
    "    \n",
    "    return text.strip()\n",
    "\n",
    "# subject 컬럼 전처리\n",
    "sample_df['processed_subject'] = sample_df['subject'].apply(preprocess_text)\n",
    "\n",
    "# 빈 텍스트 확인\n",
    "print(\"전처리 후 빈 텍스트 개수:\", (sample_df['processed_subject'] == '').sum())\n"
   ]
  },
  {
   "cell_type": "code",
   "execution_count": 65,
   "id": "0cbd1c3b",
   "metadata": {},
   "outputs": [
    {
     "name": "stdout",
     "output_type": "stream",
     "text": [
      "TF-IDF 매트릭스 형태: (977, 1000)\n",
      "특성(단어) 개수: 1000\n"
     ]
    }
   ],
   "source": [
    "import pandas as pd\n",
    "import numpy as np\n",
    "from sklearn.feature_extraction.text import TfidfVectorizer\n",
    "from sklearn.metrics.pairwise import cosine_similarity\n",
    "import matplotlib.pyplot as plt\n",
    "import seaborn as sns\n",
    "from konlpy.tag import Okt\n",
    "import re\n",
    "\n",
    "# TF-IDF 벡터화\n",
    "vectorizer = TfidfVectorizer(\n",
    "    max_features=1000,  # 최대 특성 수\n",
    "    ngram_range=(1, 2),  # 1-gram과 2-gram 사용\n",
    "    min_df=1,  # 최소 문서 빈도\n",
    "    max_df=0.95,  # 최대 문서 빈도 (너무 자주 나오는 단어 제외)\n",
    "    stop_words=None\n",
    ")\n",
    "\n",
    "# 벡터화 실행\n",
    "tfidf_matrix = vectorizer.fit_transform(sample_df['processed_subject'])\n",
    "\n",
    "print(\"TF-IDF 매트릭스 형태:\", tfidf_matrix.shape)\n",
    "print(\"특성(단어) 개수:\", len(vectorizer.get_feature_names_out()))\n"
   ]
  },
  {
   "cell_type": "code",
   "execution_count": 83,
   "id": "008f0cce",
   "metadata": {},
   "outputs": [
    {
     "name": "stdout",
     "output_type": "stream",
     "text": [
      "코사인 유사도 매트릭스 형태: (977, 977)\n",
      "대각선 값 (자기 자신과의 유사도): [1. 1. 1. 1. 1.]\n"
     ]
    }
   ],
   "source": [
    "# 코사인 유사도 계산\n",
    "cosine_sim_matrix = cosine_similarity(tfidf_matrix)\n",
    "\n",
    "print(\"코사인 유사도 매트릭스 형태:\", cosine_sim_matrix.shape)\n",
    "print(\"대각선 값 (자기 자신과의 유사도):\", cosine_sim_matrix.diagonal()[:5])"
   ]
  },
  {
   "cell_type": "code",
   "execution_count": 92,
   "id": "598404eb",
   "metadata": {},
   "outputs": [
    {
     "data": {
      "text/plain": [
       "Index([0, 607, 485, 934, 592, 496, 587, 969, 962, 413], dtype='int64')"
      ]
     },
     "execution_count": 92,
     "metadata": {},
     "output_type": "execute_result"
    }
   ],
   "source": [
    "# 0번 index와 비슷한 상위 10개의 내용\n",
    "sample_df['cosine_sim'] = cosine_sim_matrix[0].tolist()\n",
    "sim_top10 = sample_df.sort_values(by = 'cosine_sim', ascending=False).head(10)\n",
    "sim_top10.index"
   ]
  },
  {
   "cell_type": "code",
   "execution_count": 90,
   "id": "0cbc6fd4",
   "metadata": {},
   "outputs": [
    {
     "name": "stdout",
     "output_type": "stream",
     "text": [
      "[{'requirementType': 'FUNCTIONAL', 'content': '사용자는 자신의 이력서를 업로드하고, 시스템은 이를 분석하여 적합한 채용 공고를 추천하는 기능을 제공해야 한다.'}, {'requirementType': 'FUNCTIONAL', 'content': '관리자는 추천 알고리즘의 성능을 모니터링하고, 필요 시 알고리즘의 파라미터를 조정할 수 있는 관리 대시보드를 제공해야 한다.'}, {'requirementType': 'PERFORMANCE', 'content': '시스템은 사용자가 이력서를 업로드한 후 5초 이내에 추천 공고를 제공해야 한다.'}, {'requirementType': 'PERFORMANCE', 'content': '시스템은 동시 사용자 100명 이상을 처리할 수 있는 성능을 가져야 하며, 데이터베이스 쿼리 응답 시간은 200ms 이내여야 한다.'}, {'requirementType': 'FUNCTIONAL', 'content': '사용자는 추천된 채용 공고에 대해 피드백을 제공할 수 있어야 하며, 이 피드백은 추천 알고리즘 개선에 활용될 수 있어야 한다.'}]\n"
     ]
    }
   ],
   "source": [
    "print(str([\n",
    "    {\n",
    "      \"requirementType\": \"FUNCTIONAL\",\n",
    "      \"content\": \"사용자는 자신의 이력서를 업로드하고, 시스템은 이를 분석하여 적합한 채용 공고를 추천하는 기능을 제공해야 한다.\"\n",
    "    },\n",
    "    {\n",
    "      \"requirementType\": \"FUNCTIONAL\",\n",
    "      \"content\": \"관리자는 추천 알고리즘의 성능을 모니터링하고, 필요 시 알고리즘의 파라미터를 조정할 수 있는 관리 대시보드를 제공해야 한다.\"\n",
    "    },\n",
    "    {\n",
    "      \"requirementType\": \"PERFORMANCE\",\n",
    "      \"content\": \"시스템은 사용자가 이력서를 업로드한 후 5초 이내에 추천 공고를 제공해야 한다.\"\n",
    "    },\n",
    "    {\n",
    "      \"requirementType\": \"PERFORMANCE\",\n",
    "      \"content\": \"시스템은 동시 사용자 100명 이상을 처리할 수 있는 성능을 가져야 하며, 데이터베이스 쿼리 응답 시간은 200ms 이내여야 한다.\"\n",
    "    },\n",
    "    {\n",
    "      \"requirementType\": \"FUNCTIONAL\",\n",
    "      \"content\": \"사용자는 추천된 채용 공고에 대해 피드백을 제공할 수 있어야 하며, 이 피드백은 추천 알고리즘 개선에 활용될 수 있어야 한다.\"\n",
    "    }\n",
    "  ]))"
   ]
  },
  {
   "cell_type": "code",
   "execution_count": 93,
   "id": "848c3a36",
   "metadata": {},
   "outputs": [
    {
     "name": "stdout",
     "output_type": "stream",
     "text": [
      "가장 유사한 프로젝트 쌍들:\n",
      "================================================================================\n",
      "1. 유사도: 1.000\n",
      "   프로젝트 22: 미혼남녀 및 결혼 희망자 대상의 결혼 장려 플랫폼. 가입 시 재무, 직업, 가족 관계 등 정보를 입력받아 연애·결혼 가능성 분석 및 AI 매칭 기능 제공. 가정의 출산 가능성도 환...\n",
      "   프로젝트 33: 미혼남녀 및 결혼 희망자 대상의 결혼 장려 플랫폼. 가입 시 재무, 직업, 가족 관계 등 정보를 입력받아 연애·결혼 가능성 분석 및 AI 매칭 기능 제공. 가정의 출산 가능성도 환...\n",
      "--------------------------------------------------------------------------------\n",
      "2. 유사도: 0.721\n",
      "   프로젝트 314: 주차 관리 시스템은 주차 공간 부족 문제를 해결하기 위한 플랫폼으로, 사용자들에게 효율적이고 직관적인 주차 환경을 제공하는 것을 목표로 한다. 사용자들은 자신의 차를 등록하고, 실...\n",
      "   프로젝트 365: \"SpotSpec 서비스는 매년 수많은 사람이 겪는 도시 내 주차 문제를 해결하기 위한 웹 애플리케이션으로, 차별화된 주차 공간 예약 시스템을 제공하는 것을 목표로 한다. 사용자들...\n",
      "--------------------------------------------------------------------------------\n",
      "3. 유사도: 0.707\n",
      "   프로젝트 277: ### 텍스트:\n",
      "\n",
      "\"ParkWise 앱은 도시 내 주차 문제를 해결하기 위한 스마트 주차 솔루션으로, 사용자가 더 쉽게 주차 공간을 찾고 시간을 절약할 수 있도록 돕는 것을 목표로...\n",
      "   프로젝트 459: \"SafePark 시스템은 도심지의 주차난 문제를 해결하기 위한 스마트 주차 솔루션으로, 제한된 주차 공간에서의 효율성 증대와 사용자의 시간 절감을 목표로 한다. 사용자들은 실시간...\n",
      "--------------------------------------------------------------------------------\n",
      "4. 유사도: 0.690\n",
      "   프로젝트 38: 이상 거래 탐지 시스템 개발. 개요로는 카드 거래 데이터를 기반으로\n",
      "이상 거래를 자동 탐지하는 시스템을 개발하여 금융 보안성을 높이고\n",
      "사용자 이상 행위를 사전에 식별하는 프로젝트입...\n",
      "   프로젝트 48: 거래 데이터를 기반으로 이상 거래를 실시간으로 탐지하는 시스템을 설계하였다. 카드 거래 내역을 수집해 시간, 장소, 금액 기준으로 분류하고, 이를 LSTM 기반 모델에 학습시켜 정...\n",
      "--------------------------------------------------------------------------------\n",
      "5. 유사도: 0.689\n",
      "   프로젝트 174: \"누구나 파크Park 서비스는 주차 공간 부족 문제를 해결하기 위한 온라인 플랫폼으로, 사용자들이 주변의 주차 가능 구역을 쉽고 빠르게 찾을 수 있도록 하는 것을 목표로 한다. 이...\n",
      "   프로젝트 277: ### 텍스트:\n",
      "\n",
      "\"ParkWise 앱은 도시 내 주차 문제를 해결하기 위한 스마트 주차 솔루션으로, 사용자가 더 쉽게 주차 공간을 찾고 시간을 절약할 수 있도록 돕는 것을 목표로...\n",
      "--------------------------------------------------------------------------------\n",
      "6. 유사도: 0.686\n",
      "   프로젝트 365: \"SpotSpec 서비스는 매년 수많은 사람이 겪는 도시 내 주차 문제를 해결하기 위한 웹 애플리케이션으로, 차별화된 주차 공간 예약 시스템을 제공하는 것을 목표로 한다. 사용자들...\n",
      "   프로젝트 371: MyParkingPal 서비스는 도심 지역에서 주차 공간 부족 문제를 해결하기 위한 솔루션으로, 사용자들에게 더 쉽고 효율적인 주차 경험을 제공하는 것을 목표로 한다. 사용자들은 ...\n",
      "--------------------------------------------------------------------------------\n",
      "7. 유사도: 0.685\n",
      "   프로젝트 314: 주차 관리 시스템은 주차 공간 부족 문제를 해결하기 위한 플랫폼으로, 사용자들에게 효율적이고 직관적인 주차 환경을 제공하는 것을 목표로 한다. 사용자들은 자신의 차를 등록하고, 실...\n",
      "   프로젝트 371: MyParkingPal 서비스는 도심 지역에서 주차 공간 부족 문제를 해결하기 위한 솔루션으로, 사용자들에게 더 쉽고 효율적인 주차 경험을 제공하는 것을 목표로 한다. 사용자들은 ...\n",
      "--------------------------------------------------------------------------------\n",
      "8. 유사도: 0.682\n",
      "   프로젝트 174: \"누구나 파크Park 서비스는 주차 공간 부족 문제를 해결하기 위한 온라인 플랫폼으로, 사용자들이 주변의 주차 가능 구역을 쉽고 빠르게 찾을 수 있도록 하는 것을 목표로 한다. 이...\n",
      "   프로젝트 459: \"SafePark 시스템은 도심지의 주차난 문제를 해결하기 위한 스마트 주차 솔루션으로, 제한된 주차 공간에서의 효율성 증대와 사용자의 시간 절감을 목표로 한다. 사용자들은 실시간...\n",
      "--------------------------------------------------------------------------------\n",
      "9. 유사도: 0.682\n",
      "   프로젝트 176: ParkFinder 서비스는 복잡한 도심 속에서 적절한 주차 공간을 찾기 어려운 문제를 해결하기 위한 위치 기반 주차 관리 시스템으로, 효율적인 주차 자원 활용과 운전자의 시간 절...\n",
      "   프로젝트 365: \"SpotSpec 서비스는 매년 수많은 사람이 겪는 도시 내 주차 문제를 해결하기 위한 웹 애플리케이션으로, 차별화된 주차 공간 예약 시스템을 제공하는 것을 목표로 한다. 사용자들...\n",
      "--------------------------------------------------------------------------------\n",
      "10. 유사도: 0.678\n",
      "   프로젝트 174: \"누구나 파크Park 서비스는 주차 공간 부족 문제를 해결하기 위한 온라인 플랫폼으로, 사용자들이 주변의 주차 가능 구역을 쉽고 빠르게 찾을 수 있도록 하는 것을 목표로 한다. 이...\n",
      "   프로젝트 566: 로드셰 지원 플랫폼은 대도시에서 차량 주차 공간 부족 문제를 해결하기 위한 온라인 서비스로, 보다 효율적인 공간 사용과 주차 스트레스 해소를 목표로 합니다. 사용자들은 모바일 어플...\n",
      "--------------------------------------------------------------------------------\n"
     ]
    }
   ],
   "source": [
    "# 가장 유사한 프로젝트 쌍 찾기\n",
    "def find_most_similar_pairs(cosine_matrix, sample_df, top_n=10):\n",
    "    # 상삼각 행렬에서 인덱스와 값 추출 (대각선 제외)\n",
    "    indices = np.triu_indices_from(cosine_matrix, k=1)\n",
    "    similarities = cosine_matrix[indices]\n",
    "    \n",
    "    # 유사도 순으로 정렬\n",
    "    sorted_indices = np.argsort(similarities)[::-1]\n",
    "    \n",
    "    results = []\n",
    "    for i in range(min(top_n, len(sorted_indices))):\n",
    "        idx = sorted_indices[i]\n",
    "        row_idx = indices[0][idx]\n",
    "        col_idx = indices[1][idx]\n",
    "        similarity = similarities[idx]\n",
    "        \n",
    "        results.append({\n",
    "            'index_1': row_idx,\n",
    "            'index_2': col_idx,\n",
    "            'similarity': similarity,\n",
    "            'subject_1': sample_df.iloc[row_idx]['subject'][:100] + '...',\n",
    "            'subject_2': sample_df.iloc[col_idx]['subject'][:100] + '...'\n",
    "        })\n",
    "    \n",
    "    return results\n",
    "\n",
    "# 가장 유사한 상위 10개 쌍 출력\n",
    "most_similar = find_most_similar_pairs(cosine_sim_matrix, sample_df, top_n=10)\n",
    "\n",
    "print(\"가장 유사한 프로젝트 쌍들:\")\n",
    "print(\"=\"*80)\n",
    "for i, pair in enumerate(most_similar, 1):\n",
    "    print(f\"{i}. 유사도: {pair['similarity']:.3f}\")\n",
    "    print(f\"   프로젝트 {pair['index_1']}: {pair['subject_1']}\")\n",
    "    print(f\"   프로젝트 {pair['index_2']}: {pair['subject_2']}\")\n",
    "    print(\"-\"*80)\n"
   ]
  },
  {
   "cell_type": "code",
   "execution_count": 69,
   "id": "87c822a6",
   "metadata": {},
   "outputs": [
    {
     "data": {
      "text/plain": [
       "[{'index_1': 22,\n",
       "  'index_2': 33,\n",
       "  'similarity': 1.0000000000000002,\n",
       "  'subject_1': '미혼남녀 및 결혼 희망자 대상의 결혼 장려 플랫폼. 가입 시 재무, 직업, 가족 관계 등 정보를 입력받아 연애·결혼 가능성 분석 및 AI 매칭 기능 제공. 가정의 출산 가능성도 환...',\n",
       "  'subject_2': '미혼남녀 및 결혼 희망자 대상의 결혼 장려 플랫폼. 가입 시 재무, 직업, 가족 관계 등 정보를 입력받아 연애·결혼 가능성 분석 및 AI 매칭 기능 제공. 가정의 출산 가능성도 환...'},\n",
       " {'index_1': 314,\n",
       "  'index_2': 365,\n",
       "  'similarity': 0.7212376527234183,\n",
       "  'subject_1': '주차 관리 시스템은 주차 공간 부족 문제를 해결하기 위한 플랫폼으로, 사용자들에게 효율적이고 직관적인 주차 환경을 제공하는 것을 목표로 한다. 사용자들은 자신의 차를 등록하고, 실...',\n",
       "  'subject_2': '\"SpotSpec 서비스는 매년 수많은 사람이 겪는 도시 내 주차 문제를 해결하기 위한 웹 애플리케이션으로, 차별화된 주차 공간 예약 시스템을 제공하는 것을 목표로 한다. 사용자들...'},\n",
       " {'index_1': 277,\n",
       "  'index_2': 459,\n",
       "  'similarity': 0.707059298234223,\n",
       "  'subject_1': '### 텍스트:\\n\\n\"ParkWise 앱은 도시 내 주차 문제를 해결하기 위한 스마트 주차 솔루션으로, 사용자가 더 쉽게 주차 공간을 찾고 시간을 절약할 수 있도록 돕는 것을 목표로...',\n",
       "  'subject_2': '\"SafePark 시스템은 도심지의 주차난 문제를 해결하기 위한 스마트 주차 솔루션으로, 제한된 주차 공간에서의 효율성 증대와 사용자의 시간 절감을 목표로 한다. 사용자들은 실시간...'},\n",
       " {'index_1': 38,\n",
       "  'index_2': 48,\n",
       "  'similarity': 0.690256540796509,\n",
       "  'subject_1': '이상 거래 탐지 시스템 개발. 개요로는 카드 거래 데이터를 기반으로\\n이상 거래를 자동 탐지하는 시스템을 개발하여 금융 보안성을 높이고\\n사용자 이상 행위를 사전에 식별하는 프로젝트입...',\n",
       "  'subject_2': '거래 데이터를 기반으로 이상 거래를 실시간으로 탐지하는 시스템을 설계하였다. 카드 거래 내역을 수집해 시간, 장소, 금액 기준으로 분류하고, 이를 LSTM 기반 모델에 학습시켜 정...'},\n",
       " {'index_1': 174,\n",
       "  'index_2': 277,\n",
       "  'similarity': 0.6892359667671779,\n",
       "  'subject_1': '\"누구나 파크Park 서비스는 주차 공간 부족 문제를 해결하기 위한 온라인 플랫폼으로, 사용자들이 주변의 주차 가능 구역을 쉽고 빠르게 찾을 수 있도록 하는 것을 목표로 한다. 이...',\n",
       "  'subject_2': '### 텍스트:\\n\\n\"ParkWise 앱은 도시 내 주차 문제를 해결하기 위한 스마트 주차 솔루션으로, 사용자가 더 쉽게 주차 공간을 찾고 시간을 절약할 수 있도록 돕는 것을 목표로...'},\n",
       " {'index_1': 365,\n",
       "  'index_2': 371,\n",
       "  'similarity': 0.686206793718451,\n",
       "  'subject_1': '\"SpotSpec 서비스는 매년 수많은 사람이 겪는 도시 내 주차 문제를 해결하기 위한 웹 애플리케이션으로, 차별화된 주차 공간 예약 시스템을 제공하는 것을 목표로 한다. 사용자들...',\n",
       "  'subject_2': 'MyParkingPal 서비스는 도심 지역에서 주차 공간 부족 문제를 해결하기 위한 솔루션으로, 사용자들에게 더 쉽고 효율적인 주차 경험을 제공하는 것을 목표로 한다. 사용자들은 ...'},\n",
       " {'index_1': 314,\n",
       "  'index_2': 371,\n",
       "  'similarity': 0.6848544327965831,\n",
       "  'subject_1': '주차 관리 시스템은 주차 공간 부족 문제를 해결하기 위한 플랫폼으로, 사용자들에게 효율적이고 직관적인 주차 환경을 제공하는 것을 목표로 한다. 사용자들은 자신의 차를 등록하고, 실...',\n",
       "  'subject_2': 'MyParkingPal 서비스는 도심 지역에서 주차 공간 부족 문제를 해결하기 위한 솔루션으로, 사용자들에게 더 쉽고 효율적인 주차 경험을 제공하는 것을 목표로 한다. 사용자들은 ...'},\n",
       " {'index_1': 174,\n",
       "  'index_2': 459,\n",
       "  'similarity': 0.6820649043440299,\n",
       "  'subject_1': '\"누구나 파크Park 서비스는 주차 공간 부족 문제를 해결하기 위한 온라인 플랫폼으로, 사용자들이 주변의 주차 가능 구역을 쉽고 빠르게 찾을 수 있도록 하는 것을 목표로 한다. 이...',\n",
       "  'subject_2': '\"SafePark 시스템은 도심지의 주차난 문제를 해결하기 위한 스마트 주차 솔루션으로, 제한된 주차 공간에서의 효율성 증대와 사용자의 시간 절감을 목표로 한다. 사용자들은 실시간...'},\n",
       " {'index_1': 176,\n",
       "  'index_2': 365,\n",
       "  'similarity': 0.6820518420036714,\n",
       "  'subject_1': 'ParkFinder 서비스는 복잡한 도심 속에서 적절한 주차 공간을 찾기 어려운 문제를 해결하기 위한 위치 기반 주차 관리 시스템으로, 효율적인 주차 자원 활용과 운전자의 시간 절...',\n",
       "  'subject_2': '\"SpotSpec 서비스는 매년 수많은 사람이 겪는 도시 내 주차 문제를 해결하기 위한 웹 애플리케이션으로, 차별화된 주차 공간 예약 시스템을 제공하는 것을 목표로 한다. 사용자들...'},\n",
       " {'index_1': 174,\n",
       "  'index_2': 566,\n",
       "  'similarity': 0.6783345877046146,\n",
       "  'subject_1': '\"누구나 파크Park 서비스는 주차 공간 부족 문제를 해결하기 위한 온라인 플랫폼으로, 사용자들이 주변의 주차 가능 구역을 쉽고 빠르게 찾을 수 있도록 하는 것을 목표로 한다. 이...',\n",
       "  'subject_2': '로드셰 지원 플랫폼은 대도시에서 차량 주차 공간 부족 문제를 해결하기 위한 온라인 서비스로, 보다 효율적인 공간 사용과 주차 스트레스 해소를 목표로 합니다. 사용자들은 모바일 어플...'}]"
      ]
     },
     "execution_count": 69,
     "metadata": {},
     "output_type": "execute_result"
    }
   ],
   "source": [
    "most_similar"
   ]
  },
  {
   "cell_type": "code",
   "execution_count": 62,
   "id": "ae8e8be7",
   "metadata": {},
   "outputs": [],
   "source": [
    "# 테스트겸 무작위로 한개 데이터 선택\n",
    "sample_subject = str(sample_df.iloc[np.random.randint(len(sample_df)),1])"
   ]
  },
  {
   "cell_type": "code",
   "execution_count": null,
   "id": "cffa2fc5",
   "metadata": {},
   "outputs": [],
   "source": []
  }
 ],
 "metadata": {
  "kernelspec": {
   "display_name": "base",
   "language": "python",
   "name": "python3"
  },
  "language_info": {
   "codemirror_mode": {
    "name": "ipython",
    "version": 3
   },
   "file_extension": ".py",
   "mimetype": "text/x-python",
   "name": "python",
   "nbconvert_exporter": "python",
   "pygments_lexer": "ipython3",
   "version": "3.11.7"
  }
 },
 "nbformat": 4,
 "nbformat_minor": 5
}
