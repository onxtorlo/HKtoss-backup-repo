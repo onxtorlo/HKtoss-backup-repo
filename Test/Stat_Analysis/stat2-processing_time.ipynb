{
 "cells": [
  {
   "cell_type": "code",
   "execution_count": 1,
   "id": "4aaee392",
   "metadata": {},
   "outputs": [
    {
     "name": "stdout",
     "output_type": "stream",
     "text": [
      "Requirement already satisfied: pandas in c:\\users\\user\\documents\\pja_mlops\\.venv\\lib\\site-packages (2.3.0)\n",
      "Requirement already satisfied: plotly in c:\\users\\user\\documents\\pja_mlops\\.venv\\lib\\site-packages (6.1.2)\n",
      "Requirement already satisfied: matplotlib in c:\\users\\user\\documents\\pja_mlops\\.venv\\lib\\site-packages (3.10.3)\n",
      "Requirement already satisfied: numpy>=1.22.4 in c:\\users\\user\\documents\\pja_mlops\\.venv\\lib\\site-packages (from pandas) (2.2.6)\n",
      "Requirement already satisfied: python-dateutil>=2.8.2 in c:\\users\\user\\documents\\pja_mlops\\.venv\\lib\\site-packages (from pandas) (2.9.0.post0)\n",
      "Requirement already satisfied: pytz>=2020.1 in c:\\users\\user\\documents\\pja_mlops\\.venv\\lib\\site-packages (from pandas) (2025.2)\n",
      "Requirement already satisfied: tzdata>=2022.7 in c:\\users\\user\\documents\\pja_mlops\\.venv\\lib\\site-packages (from pandas) (2025.2)\n",
      "Requirement already satisfied: narwhals>=1.15.1 in c:\\users\\user\\documents\\pja_mlops\\.venv\\lib\\site-packages (from plotly) (1.42.1)\n",
      "Requirement already satisfied: packaging in c:\\users\\user\\documents\\pja_mlops\\.venv\\lib\\site-packages (from plotly) (24.2)\n",
      "Requirement already satisfied: contourpy>=1.0.1 in c:\\users\\user\\documents\\pja_mlops\\.venv\\lib\\site-packages (from matplotlib) (1.3.2)\n",
      "Requirement already satisfied: cycler>=0.10 in c:\\users\\user\\documents\\pja_mlops\\.venv\\lib\\site-packages (from matplotlib) (0.12.1)\n",
      "Requirement already satisfied: fonttools>=4.22.0 in c:\\users\\user\\documents\\pja_mlops\\.venv\\lib\\site-packages (from matplotlib) (4.58.4)\n",
      "Requirement already satisfied: kiwisolver>=1.3.1 in c:\\users\\user\\documents\\pja_mlops\\.venv\\lib\\site-packages (from matplotlib) (1.4.8)\n",
      "Requirement already satisfied: pillow>=8 in c:\\users\\user\\documents\\pja_mlops\\.venv\\lib\\site-packages (from matplotlib) (11.2.1)\n",
      "Requirement already satisfied: pyparsing>=2.3.1 in c:\\users\\user\\documents\\pja_mlops\\.venv\\lib\\site-packages (from matplotlib) (3.2.3)\n",
      "Requirement already satisfied: six>=1.5 in c:\\users\\user\\documents\\pja_mlops\\.venv\\lib\\site-packages (from python-dateutil>=2.8.2->pandas) (1.17.0)\n",
      "Note: you may need to restart the kernel to use updated packages.\n"
     ]
    }
   ],
   "source": [
    "%pip install pandas plotly matplotlib"
   ]
  },
  {
   "cell_type": "code",
   "execution_count": 2,
   "id": "fc0c40d5",
   "metadata": {},
   "outputs": [
    {
     "name": "stdout",
     "output_type": "stream",
     "text": [
      "Requirement already satisfied: nbformat in c:\\users\\user\\documents\\pja_mlops\\.venv\\lib\\site-packages (5.10.4)Note: you may need to restart the kernel to use updated packages.\n",
      "\n",
      "Requirement already satisfied: fastjsonschema>=2.15 in c:\\users\\user\\documents\\pja_mlops\\.venv\\lib\\site-packages (from nbformat) (2.21.1)\n",
      "Requirement already satisfied: jsonschema>=2.6 in c:\\users\\user\\documents\\pja_mlops\\.venv\\lib\\site-packages (from nbformat) (4.24.0)\n",
      "Requirement already satisfied: jupyter-core!=5.0.*,>=4.12 in c:\\users\\user\\documents\\pja_mlops\\.venv\\lib\\site-packages (from nbformat) (5.8.1)\n",
      "Requirement already satisfied: traitlets>=5.1 in c:\\users\\user\\documents\\pja_mlops\\.venv\\lib\\site-packages (from nbformat) (5.14.3)\n",
      "Requirement already satisfied: attrs>=22.2.0 in c:\\users\\user\\documents\\pja_mlops\\.venv\\lib\\site-packages (from jsonschema>=2.6->nbformat) (25.3.0)\n",
      "Requirement already satisfied: jsonschema-specifications>=2023.03.6 in c:\\users\\user\\documents\\pja_mlops\\.venv\\lib\\site-packages (from jsonschema>=2.6->nbformat) (2025.4.1)\n",
      "Requirement already satisfied: referencing>=0.28.4 in c:\\users\\user\\documents\\pja_mlops\\.venv\\lib\\site-packages (from jsonschema>=2.6->nbformat) (0.36.2)\n",
      "Requirement already satisfied: rpds-py>=0.7.1 in c:\\users\\user\\documents\\pja_mlops\\.venv\\lib\\site-packages (from jsonschema>=2.6->nbformat) (0.25.1)\n",
      "Requirement already satisfied: platformdirs>=2.5 in c:\\users\\user\\documents\\pja_mlops\\.venv\\lib\\site-packages (from jupyter-core!=5.0.*,>=4.12->nbformat) (4.3.8)\n",
      "Requirement already satisfied: pywin32>=300 in c:\\users\\user\\documents\\pja_mlops\\.venv\\lib\\site-packages (from jupyter-core!=5.0.*,>=4.12->nbformat) (310)\n",
      "Requirement already satisfied: typing-extensions>=4.4.0 in c:\\users\\user\\documents\\pja_mlops\\.venv\\lib\\site-packages (from referencing>=0.28.4->jsonschema>=2.6->nbformat) (4.14.0)\n"
     ]
    }
   ],
   "source": [
    "%pip install -U nbformat"
   ]
  },
  {
   "cell_type": "code",
   "execution_count": 3,
   "id": "e1c24cd8",
   "metadata": {},
   "outputs": [],
   "source": [
    "import json\n",
    "import pandas as pd\n",
    "import random\n",
    "from datetime import datetime, timedelta\n",
    "import matplotlib.pyplot as plt\n",
    "import plotly.express as px\n",
    "import numpy as np"
   ]
  },
  {
   "cell_type": "code",
   "execution_count": 4,
   "id": "61a8c4f9",
   "metadata": {},
   "outputs": [],
   "source": [
    "# UPDATE_PARTICIPANT_TO_ACTION,    // ACTION 참여자 수정(참여자 추가 및 삭제) 이벤트\n",
    "# CREATE_PROJECT_PROGRESS_ACTION,  // ACTION 생성 이벤트\n",
    "# DELETE_PROJECT_PROGRESS_ACTION,  // ACTION 삭제 이벤트\n",
    "# DONE_PROJECT_PROGRESS_ACTION     // ACTION 상태 완료로 변경이벤트"
   ]
  },
  {
   "cell_type": "code",
   "execution_count": 5,
   "id": "71cefd02",
   "metadata": {},
   "outputs": [],
   "source": [
    "# 2. 중요도에 따른 평균 작업 처리 기간(시간) → Line chart\n",
    "# - userId별 분류 -> importance별 분류\n",
    "# - status==\"DONE\"       -> endDate-startDate"
   ]
  },
  {
   "cell_type": "code",
   "execution_count": 6,
   "id": "cf67302f",
   "metadata": {},
   "outputs": [
    {
     "name": "stdout",
     "output_type": "stream",
     "text": [
      "<class 'pandas.core.frame.DataFrame'>\n",
      "RangeIndex: 100 entries, 0 to 99\n",
      "Data columns (total 11 columns):\n",
      " #   Column                Non-Null Count  Dtype \n",
      "---  ------                --------------  ----- \n",
      " 0   event                 100 non-null    object\n",
      " 1   userId                100 non-null    object\n",
      " 2   username              100 non-null    object\n",
      " 3   timestamp             100 non-null    object\n",
      " 4   workspaceId           100 non-null    int64 \n",
      " 5   details.participants  100 non-null    object\n",
      " 6   details.state         100 non-null    object\n",
      " 7   details.name          100 non-null    object\n",
      " 8   details.importance    100 non-null    int64 \n",
      " 9   details.startDate     47 non-null     object\n",
      " 10  details.endDate       47 non-null     object\n",
      "dtypes: int64(2), object(9)\n",
      "memory usage: 8.7+ KB\n"
     ]
    }
   ],
   "source": [
    "LOG_DATA_PATH = \"data\\\\final_user-actions_dummy.json\"\n",
    "\n",
    "# 중첩 구조 평탄화해서 읽기\n",
    "with open(LOG_DATA_PATH, \"r\", encoding=\"utf-8\") as f:\n",
    "    data = json.load(f)\n",
    "    # data = [json.loads(line.strip()) for line in f if line.strip()]  # .jsonl일 때 읽어오는 방법\n",
    "    \n",
    "df = pd.json_normalize(data)\n",
    "df.info()"
   ]
  },
  {
   "cell_type": "code",
   "execution_count": 7,
   "id": "e031669f",
   "metadata": {},
   "outputs": [],
   "source": [
    "# df = pd.to_datetime(df[['timestamp', 'details.startDate', 'details.endDate']], utc=True)\n",
    "# df.info()"
   ]
  },
  {
   "cell_type": "code",
   "execution_count": 8,
   "id": "5a3f8ead",
   "metadata": {},
   "outputs": [
    {
     "name": "stdout",
     "output_type": "stream",
     "text": [
      "df['event'].unique():  ['CREATE_PROJECT_PROGRESS_ACTION' 'DONE_PROJECT_PROGRESS_ACTION']\n",
      "df['userId'].unique():  ['3' '4' '1' '2' '5']\n",
      "df['workspaceId'].unique():  [1]\n",
      "df['details.state'].unique():  ['IN_PROGRESS' 'DONE' 'BEFORE']\n",
      "df['details.importance'].unique():  [1 2 3 5 4]\n"
     ]
    }
   ],
   "source": [
    "# unique() 체크\n",
    "print(\"df['event'].unique(): \", df['event'].unique())\n",
    "print(\"df['userId'].unique(): \", df['userId'].unique())\n",
    "print(\"df['workspaceId'].unique(): \", df['workspaceId'].unique())\n",
    "\n",
    "print(\"df['details.state'].unique(): \", df['details.state'].unique())\n",
    "print(\"df['details.importance'].unique(): \", df['details.importance'].unique())"
   ]
  },
  {
   "cell_type": "code",
   "execution_count": 9,
   "id": "a1b322cd",
   "metadata": {},
   "outputs": [],
   "source": [
    "# 유저별 actions 분류\n",
    "df_user1 = df[df['userId'] == '1']\n",
    "df_user2 = df[df['userId'] == '2']\n",
    "df_user3 = df[df['userId'] == '3']\n",
    "df_user4 = df[df['userId'] == '4']\n",
    "df_user5 = df[df['userId'] == '5']\n",
    "\n",
    "user_df_list = [df_user1, df_user2, df_user3, df_user4, df_user5]"
   ]
  },
  {
   "cell_type": "code",
   "execution_count": 10,
   "id": "9af9436f",
   "metadata": {},
   "outputs": [],
   "source": [
    "filtered_user1 = df_user1[df_user1['details.state'] == 'DONE'][\n",
    "    ['userId', 'details.state', 'details.importance', 'details.startDate', 'details.endDate']\n",
    "]\n",
    "filtered_user2 = df_user2[df_user2['details.state'] == 'DONE'][\n",
    "    ['userId', 'details.state', 'details.importance', 'details.startDate', 'details.endDate']\n",
    "]\n",
    "filtered_user3 = df_user3[df_user3['details.state'] == 'DONE'][\n",
    "    ['userId', 'details.state', 'details.importance', 'details.startDate', 'details.endDate']\n",
    "]\n",
    "filtered_user4 = df_user4[df_user4['details.state'] == 'DONE'][\n",
    "    ['userId', 'details.state', 'details.importance', 'details.startDate', 'details.endDate']\n",
    "]\n",
    "filtered_user5 = df_user5[df_user5['details.state'] == 'DONE'][\n",
    "    ['userId', 'details.state', 'details.importance', 'details.startDate', 'details.endDate']\n",
    "]"
   ]
  },
  {
   "cell_type": "code",
   "execution_count": 11,
   "id": "a09e1dc8",
   "metadata": {},
   "outputs": [
    {
     "data": {
      "text/html": [
       "<div>\n",
       "<style scoped>\n",
       "    .dataframe tbody tr th:only-of-type {\n",
       "        vertical-align: middle;\n",
       "    }\n",
       "\n",
       "    .dataframe tbody tr th {\n",
       "        vertical-align: top;\n",
       "    }\n",
       "\n",
       "    .dataframe thead th {\n",
       "        text-align: right;\n",
       "    }\n",
       "</style>\n",
       "<table border=\"1\" class=\"dataframe\">\n",
       "  <thead>\n",
       "    <tr style=\"text-align: right;\">\n",
       "      <th></th>\n",
       "      <th>userId</th>\n",
       "      <th>details.state</th>\n",
       "      <th>details.importance</th>\n",
       "      <th>details.startDate</th>\n",
       "      <th>details.endDate</th>\n",
       "    </tr>\n",
       "  </thead>\n",
       "  <tbody>\n",
       "    <tr>\n",
       "      <th>2</th>\n",
       "      <td>1</td>\n",
       "      <td>DONE</td>\n",
       "      <td>2</td>\n",
       "      <td>2025-06-07T06:09:44.072540</td>\n",
       "      <td>2025-06-10T06:09:44.072540</td>\n",
       "    </tr>\n",
       "    <tr>\n",
       "      <th>11</th>\n",
       "      <td>1</td>\n",
       "      <td>DONE</td>\n",
       "      <td>5</td>\n",
       "      <td>2025-06-05T06:09:44.072701</td>\n",
       "      <td>2025-06-12T06:09:44.072701</td>\n",
       "    </tr>\n",
       "    <tr>\n",
       "      <th>12</th>\n",
       "      <td>1</td>\n",
       "      <td>DONE</td>\n",
       "      <td>2</td>\n",
       "      <td>2025-06-06T06:09:44.072720</td>\n",
       "      <td>2025-06-12T06:09:44.072720</td>\n",
       "    </tr>\n",
       "    <tr>\n",
       "      <th>14</th>\n",
       "      <td>1</td>\n",
       "      <td>DONE</td>\n",
       "      <td>2</td>\n",
       "      <td>2025-05-31T06:09:44.072750</td>\n",
       "      <td>2025-06-15T06:09:44.072750</td>\n",
       "    </tr>\n",
       "    <tr>\n",
       "      <th>24</th>\n",
       "      <td>1</td>\n",
       "      <td>DONE</td>\n",
       "      <td>2</td>\n",
       "      <td>2025-06-12T06:09:44.072956</td>\n",
       "      <td>2025-06-16T06:09:44.072956</td>\n",
       "    </tr>\n",
       "    <tr>\n",
       "      <th>28</th>\n",
       "      <td>1</td>\n",
       "      <td>DONE</td>\n",
       "      <td>1</td>\n",
       "      <td>2025-05-28T06:09:44.073019</td>\n",
       "      <td>2025-06-12T06:09:44.073019</td>\n",
       "    </tr>\n",
       "    <tr>\n",
       "      <th>39</th>\n",
       "      <td>1</td>\n",
       "      <td>DONE</td>\n",
       "      <td>2</td>\n",
       "      <td>2025-06-06T06:09:44.073183</td>\n",
       "      <td>2025-06-12T06:09:44.073183</td>\n",
       "    </tr>\n",
       "    <tr>\n",
       "      <th>41</th>\n",
       "      <td>1</td>\n",
       "      <td>DONE</td>\n",
       "      <td>1</td>\n",
       "      <td>2025-06-11T06:09:44.073227</td>\n",
       "      <td>2025-06-15T06:09:44.073227</td>\n",
       "    </tr>\n",
       "    <tr>\n",
       "      <th>49</th>\n",
       "      <td>1</td>\n",
       "      <td>DONE</td>\n",
       "      <td>3</td>\n",
       "      <td>2025-06-07T06:09:44.073331</td>\n",
       "      <td>2025-06-10T06:09:44.073331</td>\n",
       "    </tr>\n",
       "    <tr>\n",
       "      <th>67</th>\n",
       "      <td>1</td>\n",
       "      <td>DONE</td>\n",
       "      <td>4</td>\n",
       "      <td>2025-06-07T06:09:44.073612</td>\n",
       "      <td>2025-06-11T06:09:44.073612</td>\n",
       "    </tr>\n",
       "    <tr>\n",
       "      <th>73</th>\n",
       "      <td>1</td>\n",
       "      <td>DONE</td>\n",
       "      <td>5</td>\n",
       "      <td>2025-06-04T06:09:44.073696</td>\n",
       "      <td>2025-06-11T06:09:44.073696</td>\n",
       "    </tr>\n",
       "    <tr>\n",
       "      <th>74</th>\n",
       "      <td>1</td>\n",
       "      <td>DONE</td>\n",
       "      <td>2</td>\n",
       "      <td>2025-06-07T06:09:44.073781</td>\n",
       "      <td>2025-06-11T06:09:44.073781</td>\n",
       "    </tr>\n",
       "    <tr>\n",
       "      <th>75</th>\n",
       "      <td>1</td>\n",
       "      <td>DONE</td>\n",
       "      <td>5</td>\n",
       "      <td>2025-05-30T06:09:44.073800</td>\n",
       "      <td>2025-06-14T06:09:44.073800</td>\n",
       "    </tr>\n",
       "    <tr>\n",
       "      <th>78</th>\n",
       "      <td>1</td>\n",
       "      <td>DONE</td>\n",
       "      <td>4</td>\n",
       "      <td>2025-06-05T06:09:44.073886</td>\n",
       "      <td>2025-06-11T06:09:44.073886</td>\n",
       "    </tr>\n",
       "    <tr>\n",
       "      <th>81</th>\n",
       "      <td>1</td>\n",
       "      <td>DONE</td>\n",
       "      <td>4</td>\n",
       "      <td>2025-06-12T03:09:44.073942</td>\n",
       "      <td>2025-06-12T06:09:44.073942</td>\n",
       "    </tr>\n",
       "    <tr>\n",
       "      <th>84</th>\n",
       "      <td>1</td>\n",
       "      <td>DONE</td>\n",
       "      <td>3</td>\n",
       "      <td>2025-05-30T06:09:44.073992</td>\n",
       "      <td>2025-06-14T06:09:44.073992</td>\n",
       "    </tr>\n",
       "    <tr>\n",
       "      <th>87</th>\n",
       "      <td>1</td>\n",
       "      <td>DONE</td>\n",
       "      <td>2</td>\n",
       "      <td>2025-06-10T06:09:44.074034</td>\n",
       "      <td>2025-06-15T06:09:44.074034</td>\n",
       "    </tr>\n",
       "    <tr>\n",
       "      <th>93</th>\n",
       "      <td>1</td>\n",
       "      <td>DONE</td>\n",
       "      <td>5</td>\n",
       "      <td>2025-06-10T06:09:44.074123</td>\n",
       "      <td>2025-06-13T06:09:44.074123</td>\n",
       "    </tr>\n",
       "    <tr>\n",
       "      <th>98</th>\n",
       "      <td>1</td>\n",
       "      <td>DONE</td>\n",
       "      <td>2</td>\n",
       "      <td>2025-06-04T06:09:44.074195</td>\n",
       "      <td>2025-06-10T06:09:44.074195</td>\n",
       "    </tr>\n",
       "  </tbody>\n",
       "</table>\n",
       "</div>"
      ],
      "text/plain": [
       "   userId details.state  details.importance           details.startDate  \\\n",
       "2       1          DONE                   2  2025-06-07T06:09:44.072540   \n",
       "11      1          DONE                   5  2025-06-05T06:09:44.072701   \n",
       "12      1          DONE                   2  2025-06-06T06:09:44.072720   \n",
       "14      1          DONE                   2  2025-05-31T06:09:44.072750   \n",
       "24      1          DONE                   2  2025-06-12T06:09:44.072956   \n",
       "28      1          DONE                   1  2025-05-28T06:09:44.073019   \n",
       "39      1          DONE                   2  2025-06-06T06:09:44.073183   \n",
       "41      1          DONE                   1  2025-06-11T06:09:44.073227   \n",
       "49      1          DONE                   3  2025-06-07T06:09:44.073331   \n",
       "67      1          DONE                   4  2025-06-07T06:09:44.073612   \n",
       "73      1          DONE                   5  2025-06-04T06:09:44.073696   \n",
       "74      1          DONE                   2  2025-06-07T06:09:44.073781   \n",
       "75      1          DONE                   5  2025-05-30T06:09:44.073800   \n",
       "78      1          DONE                   4  2025-06-05T06:09:44.073886   \n",
       "81      1          DONE                   4  2025-06-12T03:09:44.073942   \n",
       "84      1          DONE                   3  2025-05-30T06:09:44.073992   \n",
       "87      1          DONE                   2  2025-06-10T06:09:44.074034   \n",
       "93      1          DONE                   5  2025-06-10T06:09:44.074123   \n",
       "98      1          DONE                   2  2025-06-04T06:09:44.074195   \n",
       "\n",
       "               details.endDate  \n",
       "2   2025-06-10T06:09:44.072540  \n",
       "11  2025-06-12T06:09:44.072701  \n",
       "12  2025-06-12T06:09:44.072720  \n",
       "14  2025-06-15T06:09:44.072750  \n",
       "24  2025-06-16T06:09:44.072956  \n",
       "28  2025-06-12T06:09:44.073019  \n",
       "39  2025-06-12T06:09:44.073183  \n",
       "41  2025-06-15T06:09:44.073227  \n",
       "49  2025-06-10T06:09:44.073331  \n",
       "67  2025-06-11T06:09:44.073612  \n",
       "73  2025-06-11T06:09:44.073696  \n",
       "74  2025-06-11T06:09:44.073781  \n",
       "75  2025-06-14T06:09:44.073800  \n",
       "78  2025-06-11T06:09:44.073886  \n",
       "81  2025-06-12T06:09:44.073942  \n",
       "84  2025-06-14T06:09:44.073992  \n",
       "87  2025-06-15T06:09:44.074034  \n",
       "93  2025-06-13T06:09:44.074123  \n",
       "98  2025-06-10T06:09:44.074195  "
      ]
     },
     "execution_count": 11,
     "metadata": {},
     "output_type": "execute_result"
    }
   ],
   "source": [
    "filtered_user1"
   ]
  },
  {
   "cell_type": "code",
   "execution_count": 12,
   "id": "e2d429c6",
   "metadata": {},
   "outputs": [
    {
     "name": "stdout",
     "output_type": "stream",
     "text": [
      "<class 'pandas.core.frame.DataFrame'>\n",
      "Index: 19 entries, 2 to 98\n",
      "Data columns (total 5 columns):\n",
      " #   Column              Non-Null Count  Dtype \n",
      "---  ------              --------------  ----- \n",
      " 0   userId              19 non-null     object\n",
      " 1   details.state       19 non-null     object\n",
      " 2   details.importance  19 non-null     int64 \n",
      " 3   details.startDate   19 non-null     object\n",
      " 4   details.endDate     19 non-null     object\n",
      "dtypes: int64(1), object(4)\n",
      "memory usage: 912.0+ bytes\n"
     ]
    }
   ],
   "source": [
    "filtered_user1.info()"
   ]
  },
  {
   "cell_type": "code",
   "execution_count": 13,
   "id": "daa873f6",
   "metadata": {},
   "outputs": [
    {
     "data": {
      "text/html": [
       "<div>\n",
       "<style scoped>\n",
       "    .dataframe tbody tr th:only-of-type {\n",
       "        vertical-align: middle;\n",
       "    }\n",
       "\n",
       "    .dataframe tbody tr th {\n",
       "        vertical-align: top;\n",
       "    }\n",
       "\n",
       "    .dataframe thead th {\n",
       "        text-align: right;\n",
       "    }\n",
       "</style>\n",
       "<table border=\"1\" class=\"dataframe\">\n",
       "  <thead>\n",
       "    <tr style=\"text-align: right;\">\n",
       "      <th></th>\n",
       "      <th>userId</th>\n",
       "      <th>details.state</th>\n",
       "      <th>details.importance</th>\n",
       "      <th>details.startDate</th>\n",
       "      <th>details.endDate</th>\n",
       "      <th>duration_hours</th>\n",
       "    </tr>\n",
       "  </thead>\n",
       "  <tbody>\n",
       "    <tr>\n",
       "      <th>2</th>\n",
       "      <td>1</td>\n",
       "      <td>DONE</td>\n",
       "      <td>2</td>\n",
       "      <td>2025-06-07 06:09:44.072540+00:00</td>\n",
       "      <td>2025-06-10 06:09:44.072540+00:00</td>\n",
       "      <td>72.0</td>\n",
       "    </tr>\n",
       "    <tr>\n",
       "      <th>11</th>\n",
       "      <td>1</td>\n",
       "      <td>DONE</td>\n",
       "      <td>5</td>\n",
       "      <td>2025-06-05 06:09:44.072701+00:00</td>\n",
       "      <td>2025-06-12 06:09:44.072701+00:00</td>\n",
       "      <td>168.0</td>\n",
       "    </tr>\n",
       "    <tr>\n",
       "      <th>12</th>\n",
       "      <td>1</td>\n",
       "      <td>DONE</td>\n",
       "      <td>2</td>\n",
       "      <td>2025-06-06 06:09:44.072720+00:00</td>\n",
       "      <td>2025-06-12 06:09:44.072720+00:00</td>\n",
       "      <td>144.0</td>\n",
       "    </tr>\n",
       "    <tr>\n",
       "      <th>14</th>\n",
       "      <td>1</td>\n",
       "      <td>DONE</td>\n",
       "      <td>2</td>\n",
       "      <td>2025-05-31 06:09:44.072750+00:00</td>\n",
       "      <td>2025-06-15 06:09:44.072750+00:00</td>\n",
       "      <td>360.0</td>\n",
       "    </tr>\n",
       "    <tr>\n",
       "      <th>24</th>\n",
       "      <td>1</td>\n",
       "      <td>DONE</td>\n",
       "      <td>2</td>\n",
       "      <td>2025-06-12 06:09:44.072956+00:00</td>\n",
       "      <td>2025-06-16 06:09:44.072956+00:00</td>\n",
       "      <td>96.0</td>\n",
       "    </tr>\n",
       "    <tr>\n",
       "      <th>28</th>\n",
       "      <td>1</td>\n",
       "      <td>DONE</td>\n",
       "      <td>1</td>\n",
       "      <td>2025-05-28 06:09:44.073019+00:00</td>\n",
       "      <td>2025-06-12 06:09:44.073019+00:00</td>\n",
       "      <td>360.0</td>\n",
       "    </tr>\n",
       "    <tr>\n",
       "      <th>39</th>\n",
       "      <td>1</td>\n",
       "      <td>DONE</td>\n",
       "      <td>2</td>\n",
       "      <td>2025-06-06 06:09:44.073183+00:00</td>\n",
       "      <td>2025-06-12 06:09:44.073183+00:00</td>\n",
       "      <td>144.0</td>\n",
       "    </tr>\n",
       "    <tr>\n",
       "      <th>41</th>\n",
       "      <td>1</td>\n",
       "      <td>DONE</td>\n",
       "      <td>1</td>\n",
       "      <td>2025-06-11 06:09:44.073227+00:00</td>\n",
       "      <td>2025-06-15 06:09:44.073227+00:00</td>\n",
       "      <td>96.0</td>\n",
       "    </tr>\n",
       "    <tr>\n",
       "      <th>49</th>\n",
       "      <td>1</td>\n",
       "      <td>DONE</td>\n",
       "      <td>3</td>\n",
       "      <td>2025-06-07 06:09:44.073331+00:00</td>\n",
       "      <td>2025-06-10 06:09:44.073331+00:00</td>\n",
       "      <td>72.0</td>\n",
       "    </tr>\n",
       "    <tr>\n",
       "      <th>67</th>\n",
       "      <td>1</td>\n",
       "      <td>DONE</td>\n",
       "      <td>4</td>\n",
       "      <td>2025-06-07 06:09:44.073612+00:00</td>\n",
       "      <td>2025-06-11 06:09:44.073612+00:00</td>\n",
       "      <td>96.0</td>\n",
       "    </tr>\n",
       "    <tr>\n",
       "      <th>73</th>\n",
       "      <td>1</td>\n",
       "      <td>DONE</td>\n",
       "      <td>5</td>\n",
       "      <td>2025-06-04 06:09:44.073696+00:00</td>\n",
       "      <td>2025-06-11 06:09:44.073696+00:00</td>\n",
       "      <td>168.0</td>\n",
       "    </tr>\n",
       "    <tr>\n",
       "      <th>74</th>\n",
       "      <td>1</td>\n",
       "      <td>DONE</td>\n",
       "      <td>2</td>\n",
       "      <td>2025-06-07 06:09:44.073781+00:00</td>\n",
       "      <td>2025-06-11 06:09:44.073781+00:00</td>\n",
       "      <td>96.0</td>\n",
       "    </tr>\n",
       "    <tr>\n",
       "      <th>75</th>\n",
       "      <td>1</td>\n",
       "      <td>DONE</td>\n",
       "      <td>5</td>\n",
       "      <td>2025-05-30 06:09:44.073800+00:00</td>\n",
       "      <td>2025-06-14 06:09:44.073800+00:00</td>\n",
       "      <td>360.0</td>\n",
       "    </tr>\n",
       "    <tr>\n",
       "      <th>78</th>\n",
       "      <td>1</td>\n",
       "      <td>DONE</td>\n",
       "      <td>4</td>\n",
       "      <td>2025-06-05 06:09:44.073886+00:00</td>\n",
       "      <td>2025-06-11 06:09:44.073886+00:00</td>\n",
       "      <td>144.0</td>\n",
       "    </tr>\n",
       "    <tr>\n",
       "      <th>81</th>\n",
       "      <td>1</td>\n",
       "      <td>DONE</td>\n",
       "      <td>4</td>\n",
       "      <td>2025-06-12 03:09:44.073942+00:00</td>\n",
       "      <td>2025-06-12 06:09:44.073942+00:00</td>\n",
       "      <td>3.0</td>\n",
       "    </tr>\n",
       "    <tr>\n",
       "      <th>84</th>\n",
       "      <td>1</td>\n",
       "      <td>DONE</td>\n",
       "      <td>3</td>\n",
       "      <td>2025-05-30 06:09:44.073992+00:00</td>\n",
       "      <td>2025-06-14 06:09:44.073992+00:00</td>\n",
       "      <td>360.0</td>\n",
       "    </tr>\n",
       "    <tr>\n",
       "      <th>87</th>\n",
       "      <td>1</td>\n",
       "      <td>DONE</td>\n",
       "      <td>2</td>\n",
       "      <td>2025-06-10 06:09:44.074034+00:00</td>\n",
       "      <td>2025-06-15 06:09:44.074034+00:00</td>\n",
       "      <td>120.0</td>\n",
       "    </tr>\n",
       "    <tr>\n",
       "      <th>93</th>\n",
       "      <td>1</td>\n",
       "      <td>DONE</td>\n",
       "      <td>5</td>\n",
       "      <td>2025-06-10 06:09:44.074123+00:00</td>\n",
       "      <td>2025-06-13 06:09:44.074123+00:00</td>\n",
       "      <td>72.0</td>\n",
       "    </tr>\n",
       "    <tr>\n",
       "      <th>98</th>\n",
       "      <td>1</td>\n",
       "      <td>DONE</td>\n",
       "      <td>2</td>\n",
       "      <td>2025-06-04 06:09:44.074195+00:00</td>\n",
       "      <td>2025-06-10 06:09:44.074195+00:00</td>\n",
       "      <td>144.0</td>\n",
       "    </tr>\n",
       "  </tbody>\n",
       "</table>\n",
       "</div>"
      ],
      "text/plain": [
       "   userId details.state  details.importance                details.startDate  \\\n",
       "2       1          DONE                   2 2025-06-07 06:09:44.072540+00:00   \n",
       "11      1          DONE                   5 2025-06-05 06:09:44.072701+00:00   \n",
       "12      1          DONE                   2 2025-06-06 06:09:44.072720+00:00   \n",
       "14      1          DONE                   2 2025-05-31 06:09:44.072750+00:00   \n",
       "24      1          DONE                   2 2025-06-12 06:09:44.072956+00:00   \n",
       "28      1          DONE                   1 2025-05-28 06:09:44.073019+00:00   \n",
       "39      1          DONE                   2 2025-06-06 06:09:44.073183+00:00   \n",
       "41      1          DONE                   1 2025-06-11 06:09:44.073227+00:00   \n",
       "49      1          DONE                   3 2025-06-07 06:09:44.073331+00:00   \n",
       "67      1          DONE                   4 2025-06-07 06:09:44.073612+00:00   \n",
       "73      1          DONE                   5 2025-06-04 06:09:44.073696+00:00   \n",
       "74      1          DONE                   2 2025-06-07 06:09:44.073781+00:00   \n",
       "75      1          DONE                   5 2025-05-30 06:09:44.073800+00:00   \n",
       "78      1          DONE                   4 2025-06-05 06:09:44.073886+00:00   \n",
       "81      1          DONE                   4 2025-06-12 03:09:44.073942+00:00   \n",
       "84      1          DONE                   3 2025-05-30 06:09:44.073992+00:00   \n",
       "87      1          DONE                   2 2025-06-10 06:09:44.074034+00:00   \n",
       "93      1          DONE                   5 2025-06-10 06:09:44.074123+00:00   \n",
       "98      1          DONE                   2 2025-06-04 06:09:44.074195+00:00   \n",
       "\n",
       "                    details.endDate  duration_hours  \n",
       "2  2025-06-10 06:09:44.072540+00:00            72.0  \n",
       "11 2025-06-12 06:09:44.072701+00:00           168.0  \n",
       "12 2025-06-12 06:09:44.072720+00:00           144.0  \n",
       "14 2025-06-15 06:09:44.072750+00:00           360.0  \n",
       "24 2025-06-16 06:09:44.072956+00:00            96.0  \n",
       "28 2025-06-12 06:09:44.073019+00:00           360.0  \n",
       "39 2025-06-12 06:09:44.073183+00:00           144.0  \n",
       "41 2025-06-15 06:09:44.073227+00:00            96.0  \n",
       "49 2025-06-10 06:09:44.073331+00:00            72.0  \n",
       "67 2025-06-11 06:09:44.073612+00:00            96.0  \n",
       "73 2025-06-11 06:09:44.073696+00:00           168.0  \n",
       "74 2025-06-11 06:09:44.073781+00:00            96.0  \n",
       "75 2025-06-14 06:09:44.073800+00:00           360.0  \n",
       "78 2025-06-11 06:09:44.073886+00:00           144.0  \n",
       "81 2025-06-12 06:09:44.073942+00:00             3.0  \n",
       "84 2025-06-14 06:09:44.073992+00:00           360.0  \n",
       "87 2025-06-15 06:09:44.074034+00:00           120.0  \n",
       "93 2025-06-13 06:09:44.074123+00:00            72.0  \n",
       "98 2025-06-10 06:09:44.074195+00:00           144.0  "
      ]
     },
     "execution_count": 13,
     "metadata": {},
     "output_type": "execute_result"
    }
   ],
   "source": [
    "# 한 번에 변환 불가 -> 개별 변환\n",
    "filtered_user1['details.startDate'] = pd.to_datetime(filtered_user1['details.startDate'], utc=True)\n",
    "filtered_user1['details.endDate'] = pd.to_datetime(filtered_user1['details.endDate'], utc=True)\n",
    "\n",
    "# 소요 시간 계산\n",
    "filtered_user1['duration_hours'] = (filtered_user1['details.endDate'] - filtered_user1['details.startDate']).dt.total_seconds() / 3600\n",
    "\n",
    "filtered_user1"
   ]
  },
  {
   "cell_type": "code",
   "execution_count": 14,
   "id": "02251701",
   "metadata": {},
   "outputs": [],
   "source": [
    "filtered_user2['details.startDate'] = pd.to_datetime(filtered_user2['details.startDate'], utc=True)\n",
    "filtered_user2['details.endDate'] = pd.to_datetime(filtered_user2['details.endDate'], utc=True)\n",
    "\n",
    "filtered_user3['details.startDate'] = pd.to_datetime(filtered_user3['details.startDate'], utc=True)\n",
    "filtered_user3['details.endDate'] = pd.to_datetime(filtered_user3['details.endDate'], utc=True)\n",
    "\n",
    "filtered_user4['details.startDate'] = pd.to_datetime(filtered_user4['details.startDate'], utc=True)\n",
    "filtered_user4['details.endDate'] = pd.to_datetime(filtered_user4['details.endDate'], utc=True)\n",
    "\n",
    "filtered_user5['details.startDate'] = pd.to_datetime(filtered_user5['details.startDate'], utc=True)\n",
    "filtered_user5['details.endDate'] = pd.to_datetime(filtered_user5['details.endDate'], utc=True)\n",
    "\n",
    "# 소요 시간 계산\n",
    "filtered_user2['duration_hours'] = (filtered_user2['details.endDate'] - filtered_user2['details.startDate']).dt.total_seconds() / 3600\n",
    "filtered_user3['duration_hours'] = (filtered_user3['details.endDate'] - filtered_user3['details.startDate']).dt.total_seconds() / 3600\n",
    "filtered_user4['duration_hours'] = (filtered_user4['details.endDate'] - filtered_user4['details.startDate']).dt.total_seconds() / 3600\n",
    "filtered_user5['duration_hours'] = (filtered_user5['details.endDate'] - filtered_user5['details.startDate']).dt.total_seconds() / 3600"
   ]
  },
  {
   "cell_type": "code",
   "execution_count": 15,
   "id": "9dbe90c3",
   "metadata": {},
   "outputs": [
    {
     "data": {
      "text/html": [
       "<div>\n",
       "<style scoped>\n",
       "    .dataframe tbody tr th:only-of-type {\n",
       "        vertical-align: middle;\n",
       "    }\n",
       "\n",
       "    .dataframe tbody tr th {\n",
       "        vertical-align: top;\n",
       "    }\n",
       "\n",
       "    .dataframe thead th {\n",
       "        text-align: right;\n",
       "    }\n",
       "</style>\n",
       "<table border=\"1\" class=\"dataframe\">\n",
       "  <thead>\n",
       "    <tr style=\"text-align: right;\">\n",
       "      <th></th>\n",
       "      <th>userId</th>\n",
       "      <th>details.state</th>\n",
       "      <th>details.importance</th>\n",
       "      <th>details.startDate</th>\n",
       "      <th>details.endDate</th>\n",
       "      <th>duration_hours</th>\n",
       "    </tr>\n",
       "  </thead>\n",
       "  <tbody>\n",
       "    <tr>\n",
       "      <th>2</th>\n",
       "      <td>1</td>\n",
       "      <td>DONE</td>\n",
       "      <td>2</td>\n",
       "      <td>2025-06-07 06:09:44.072540+00:00</td>\n",
       "      <td>2025-06-10 06:09:44.072540+00:00</td>\n",
       "      <td>72.0</td>\n",
       "    </tr>\n",
       "    <tr>\n",
       "      <th>11</th>\n",
       "      <td>1</td>\n",
       "      <td>DONE</td>\n",
       "      <td>5</td>\n",
       "      <td>2025-06-05 06:09:44.072701+00:00</td>\n",
       "      <td>2025-06-12 06:09:44.072701+00:00</td>\n",
       "      <td>168.0</td>\n",
       "    </tr>\n",
       "    <tr>\n",
       "      <th>12</th>\n",
       "      <td>1</td>\n",
       "      <td>DONE</td>\n",
       "      <td>2</td>\n",
       "      <td>2025-06-06 06:09:44.072720+00:00</td>\n",
       "      <td>2025-06-12 06:09:44.072720+00:00</td>\n",
       "      <td>144.0</td>\n",
       "    </tr>\n",
       "    <tr>\n",
       "      <th>14</th>\n",
       "      <td>1</td>\n",
       "      <td>DONE</td>\n",
       "      <td>2</td>\n",
       "      <td>2025-05-31 06:09:44.072750+00:00</td>\n",
       "      <td>2025-06-15 06:09:44.072750+00:00</td>\n",
       "      <td>360.0</td>\n",
       "    </tr>\n",
       "    <tr>\n",
       "      <th>24</th>\n",
       "      <td>1</td>\n",
       "      <td>DONE</td>\n",
       "      <td>2</td>\n",
       "      <td>2025-06-12 06:09:44.072956+00:00</td>\n",
       "      <td>2025-06-16 06:09:44.072956+00:00</td>\n",
       "      <td>96.0</td>\n",
       "    </tr>\n",
       "    <tr>\n",
       "      <th>28</th>\n",
       "      <td>1</td>\n",
       "      <td>DONE</td>\n",
       "      <td>1</td>\n",
       "      <td>2025-05-28 06:09:44.073019+00:00</td>\n",
       "      <td>2025-06-12 06:09:44.073019+00:00</td>\n",
       "      <td>360.0</td>\n",
       "    </tr>\n",
       "    <tr>\n",
       "      <th>39</th>\n",
       "      <td>1</td>\n",
       "      <td>DONE</td>\n",
       "      <td>2</td>\n",
       "      <td>2025-06-06 06:09:44.073183+00:00</td>\n",
       "      <td>2025-06-12 06:09:44.073183+00:00</td>\n",
       "      <td>144.0</td>\n",
       "    </tr>\n",
       "    <tr>\n",
       "      <th>41</th>\n",
       "      <td>1</td>\n",
       "      <td>DONE</td>\n",
       "      <td>1</td>\n",
       "      <td>2025-06-11 06:09:44.073227+00:00</td>\n",
       "      <td>2025-06-15 06:09:44.073227+00:00</td>\n",
       "      <td>96.0</td>\n",
       "    </tr>\n",
       "    <tr>\n",
       "      <th>49</th>\n",
       "      <td>1</td>\n",
       "      <td>DONE</td>\n",
       "      <td>3</td>\n",
       "      <td>2025-06-07 06:09:44.073331+00:00</td>\n",
       "      <td>2025-06-10 06:09:44.073331+00:00</td>\n",
       "      <td>72.0</td>\n",
       "    </tr>\n",
       "    <tr>\n",
       "      <th>67</th>\n",
       "      <td>1</td>\n",
       "      <td>DONE</td>\n",
       "      <td>4</td>\n",
       "      <td>2025-06-07 06:09:44.073612+00:00</td>\n",
       "      <td>2025-06-11 06:09:44.073612+00:00</td>\n",
       "      <td>96.0</td>\n",
       "    </tr>\n",
       "    <tr>\n",
       "      <th>73</th>\n",
       "      <td>1</td>\n",
       "      <td>DONE</td>\n",
       "      <td>5</td>\n",
       "      <td>2025-06-04 06:09:44.073696+00:00</td>\n",
       "      <td>2025-06-11 06:09:44.073696+00:00</td>\n",
       "      <td>168.0</td>\n",
       "    </tr>\n",
       "    <tr>\n",
       "      <th>74</th>\n",
       "      <td>1</td>\n",
       "      <td>DONE</td>\n",
       "      <td>2</td>\n",
       "      <td>2025-06-07 06:09:44.073781+00:00</td>\n",
       "      <td>2025-06-11 06:09:44.073781+00:00</td>\n",
       "      <td>96.0</td>\n",
       "    </tr>\n",
       "    <tr>\n",
       "      <th>75</th>\n",
       "      <td>1</td>\n",
       "      <td>DONE</td>\n",
       "      <td>5</td>\n",
       "      <td>2025-05-30 06:09:44.073800+00:00</td>\n",
       "      <td>2025-06-14 06:09:44.073800+00:00</td>\n",
       "      <td>360.0</td>\n",
       "    </tr>\n",
       "    <tr>\n",
       "      <th>78</th>\n",
       "      <td>1</td>\n",
       "      <td>DONE</td>\n",
       "      <td>4</td>\n",
       "      <td>2025-06-05 06:09:44.073886+00:00</td>\n",
       "      <td>2025-06-11 06:09:44.073886+00:00</td>\n",
       "      <td>144.0</td>\n",
       "    </tr>\n",
       "    <tr>\n",
       "      <th>81</th>\n",
       "      <td>1</td>\n",
       "      <td>DONE</td>\n",
       "      <td>4</td>\n",
       "      <td>2025-06-12 03:09:44.073942+00:00</td>\n",
       "      <td>2025-06-12 06:09:44.073942+00:00</td>\n",
       "      <td>3.0</td>\n",
       "    </tr>\n",
       "    <tr>\n",
       "      <th>84</th>\n",
       "      <td>1</td>\n",
       "      <td>DONE</td>\n",
       "      <td>3</td>\n",
       "      <td>2025-05-30 06:09:44.073992+00:00</td>\n",
       "      <td>2025-06-14 06:09:44.073992+00:00</td>\n",
       "      <td>360.0</td>\n",
       "    </tr>\n",
       "    <tr>\n",
       "      <th>87</th>\n",
       "      <td>1</td>\n",
       "      <td>DONE</td>\n",
       "      <td>2</td>\n",
       "      <td>2025-06-10 06:09:44.074034+00:00</td>\n",
       "      <td>2025-06-15 06:09:44.074034+00:00</td>\n",
       "      <td>120.0</td>\n",
       "    </tr>\n",
       "    <tr>\n",
       "      <th>93</th>\n",
       "      <td>1</td>\n",
       "      <td>DONE</td>\n",
       "      <td>5</td>\n",
       "      <td>2025-06-10 06:09:44.074123+00:00</td>\n",
       "      <td>2025-06-13 06:09:44.074123+00:00</td>\n",
       "      <td>72.0</td>\n",
       "    </tr>\n",
       "    <tr>\n",
       "      <th>98</th>\n",
       "      <td>1</td>\n",
       "      <td>DONE</td>\n",
       "      <td>2</td>\n",
       "      <td>2025-06-04 06:09:44.074195+00:00</td>\n",
       "      <td>2025-06-10 06:09:44.074195+00:00</td>\n",
       "      <td>144.0</td>\n",
       "    </tr>\n",
       "  </tbody>\n",
       "</table>\n",
       "</div>"
      ],
      "text/plain": [
       "   userId details.state  details.importance                details.startDate  \\\n",
       "2       1          DONE                   2 2025-06-07 06:09:44.072540+00:00   \n",
       "11      1          DONE                   5 2025-06-05 06:09:44.072701+00:00   \n",
       "12      1          DONE                   2 2025-06-06 06:09:44.072720+00:00   \n",
       "14      1          DONE                   2 2025-05-31 06:09:44.072750+00:00   \n",
       "24      1          DONE                   2 2025-06-12 06:09:44.072956+00:00   \n",
       "28      1          DONE                   1 2025-05-28 06:09:44.073019+00:00   \n",
       "39      1          DONE                   2 2025-06-06 06:09:44.073183+00:00   \n",
       "41      1          DONE                   1 2025-06-11 06:09:44.073227+00:00   \n",
       "49      1          DONE                   3 2025-06-07 06:09:44.073331+00:00   \n",
       "67      1          DONE                   4 2025-06-07 06:09:44.073612+00:00   \n",
       "73      1          DONE                   5 2025-06-04 06:09:44.073696+00:00   \n",
       "74      1          DONE                   2 2025-06-07 06:09:44.073781+00:00   \n",
       "75      1          DONE                   5 2025-05-30 06:09:44.073800+00:00   \n",
       "78      1          DONE                   4 2025-06-05 06:09:44.073886+00:00   \n",
       "81      1          DONE                   4 2025-06-12 03:09:44.073942+00:00   \n",
       "84      1          DONE                   3 2025-05-30 06:09:44.073992+00:00   \n",
       "87      1          DONE                   2 2025-06-10 06:09:44.074034+00:00   \n",
       "93      1          DONE                   5 2025-06-10 06:09:44.074123+00:00   \n",
       "98      1          DONE                   2 2025-06-04 06:09:44.074195+00:00   \n",
       "\n",
       "                    details.endDate  duration_hours  \n",
       "2  2025-06-10 06:09:44.072540+00:00            72.0  \n",
       "11 2025-06-12 06:09:44.072701+00:00           168.0  \n",
       "12 2025-06-12 06:09:44.072720+00:00           144.0  \n",
       "14 2025-06-15 06:09:44.072750+00:00           360.0  \n",
       "24 2025-06-16 06:09:44.072956+00:00            96.0  \n",
       "28 2025-06-12 06:09:44.073019+00:00           360.0  \n",
       "39 2025-06-12 06:09:44.073183+00:00           144.0  \n",
       "41 2025-06-15 06:09:44.073227+00:00            96.0  \n",
       "49 2025-06-10 06:09:44.073331+00:00            72.0  \n",
       "67 2025-06-11 06:09:44.073612+00:00            96.0  \n",
       "73 2025-06-11 06:09:44.073696+00:00           168.0  \n",
       "74 2025-06-11 06:09:44.073781+00:00            96.0  \n",
       "75 2025-06-14 06:09:44.073800+00:00           360.0  \n",
       "78 2025-06-11 06:09:44.073886+00:00           144.0  \n",
       "81 2025-06-12 06:09:44.073942+00:00             3.0  \n",
       "84 2025-06-14 06:09:44.073992+00:00           360.0  \n",
       "87 2025-06-15 06:09:44.074034+00:00           120.0  \n",
       "93 2025-06-13 06:09:44.074123+00:00            72.0  \n",
       "98 2025-06-10 06:09:44.074195+00:00           144.0  "
      ]
     },
     "execution_count": 15,
     "metadata": {},
     "output_type": "execute_result"
    }
   ],
   "source": [
    "filtered_user1"
   ]
  },
  {
   "cell_type": "code",
   "execution_count": 16,
   "id": "3e3af6bb",
   "metadata": {},
   "outputs": [
    {
     "data": {
      "text/html": [
       "<div>\n",
       "<style scoped>\n",
       "    .dataframe tbody tr th:only-of-type {\n",
       "        vertical-align: middle;\n",
       "    }\n",
       "\n",
       "    .dataframe tbody tr th {\n",
       "        vertical-align: top;\n",
       "    }\n",
       "\n",
       "    .dataframe thead th {\n",
       "        text-align: right;\n",
       "    }\n",
       "</style>\n",
       "<table border=\"1\" class=\"dataframe\">\n",
       "  <thead>\n",
       "    <tr style=\"text-align: right;\">\n",
       "      <th></th>\n",
       "      <th>userId</th>\n",
       "      <th>details.importance</th>\n",
       "      <th>duration_hours</th>\n",
       "    </tr>\n",
       "  </thead>\n",
       "  <tbody>\n",
       "    <tr>\n",
       "      <th>2</th>\n",
       "      <td>1</td>\n",
       "      <td>2</td>\n",
       "      <td>72.0</td>\n",
       "    </tr>\n",
       "    <tr>\n",
       "      <th>11</th>\n",
       "      <td>1</td>\n",
       "      <td>5</td>\n",
       "      <td>168.0</td>\n",
       "    </tr>\n",
       "    <tr>\n",
       "      <th>12</th>\n",
       "      <td>1</td>\n",
       "      <td>2</td>\n",
       "      <td>144.0</td>\n",
       "    </tr>\n",
       "    <tr>\n",
       "      <th>14</th>\n",
       "      <td>1</td>\n",
       "      <td>2</td>\n",
       "      <td>360.0</td>\n",
       "    </tr>\n",
       "    <tr>\n",
       "      <th>24</th>\n",
       "      <td>1</td>\n",
       "      <td>2</td>\n",
       "      <td>96.0</td>\n",
       "    </tr>\n",
       "    <tr>\n",
       "      <th>28</th>\n",
       "      <td>1</td>\n",
       "      <td>1</td>\n",
       "      <td>360.0</td>\n",
       "    </tr>\n",
       "    <tr>\n",
       "      <th>39</th>\n",
       "      <td>1</td>\n",
       "      <td>2</td>\n",
       "      <td>144.0</td>\n",
       "    </tr>\n",
       "    <tr>\n",
       "      <th>41</th>\n",
       "      <td>1</td>\n",
       "      <td>1</td>\n",
       "      <td>96.0</td>\n",
       "    </tr>\n",
       "    <tr>\n",
       "      <th>49</th>\n",
       "      <td>1</td>\n",
       "      <td>3</td>\n",
       "      <td>72.0</td>\n",
       "    </tr>\n",
       "    <tr>\n",
       "      <th>67</th>\n",
       "      <td>1</td>\n",
       "      <td>4</td>\n",
       "      <td>96.0</td>\n",
       "    </tr>\n",
       "    <tr>\n",
       "      <th>73</th>\n",
       "      <td>1</td>\n",
       "      <td>5</td>\n",
       "      <td>168.0</td>\n",
       "    </tr>\n",
       "    <tr>\n",
       "      <th>74</th>\n",
       "      <td>1</td>\n",
       "      <td>2</td>\n",
       "      <td>96.0</td>\n",
       "    </tr>\n",
       "    <tr>\n",
       "      <th>75</th>\n",
       "      <td>1</td>\n",
       "      <td>5</td>\n",
       "      <td>360.0</td>\n",
       "    </tr>\n",
       "    <tr>\n",
       "      <th>78</th>\n",
       "      <td>1</td>\n",
       "      <td>4</td>\n",
       "      <td>144.0</td>\n",
       "    </tr>\n",
       "    <tr>\n",
       "      <th>81</th>\n",
       "      <td>1</td>\n",
       "      <td>4</td>\n",
       "      <td>3.0</td>\n",
       "    </tr>\n",
       "    <tr>\n",
       "      <th>84</th>\n",
       "      <td>1</td>\n",
       "      <td>3</td>\n",
       "      <td>360.0</td>\n",
       "    </tr>\n",
       "    <tr>\n",
       "      <th>87</th>\n",
       "      <td>1</td>\n",
       "      <td>2</td>\n",
       "      <td>120.0</td>\n",
       "    </tr>\n",
       "    <tr>\n",
       "      <th>93</th>\n",
       "      <td>1</td>\n",
       "      <td>5</td>\n",
       "      <td>72.0</td>\n",
       "    </tr>\n",
       "    <tr>\n",
       "      <th>98</th>\n",
       "      <td>1</td>\n",
       "      <td>2</td>\n",
       "      <td>144.0</td>\n",
       "    </tr>\n",
       "  </tbody>\n",
       "</table>\n",
       "</div>"
      ],
      "text/plain": [
       "   userId  details.importance  duration_hours\n",
       "2       1                   2            72.0\n",
       "11      1                   5           168.0\n",
       "12      1                   2           144.0\n",
       "14      1                   2           360.0\n",
       "24      1                   2            96.0\n",
       "28      1                   1           360.0\n",
       "39      1                   2           144.0\n",
       "41      1                   1            96.0\n",
       "49      1                   3            72.0\n",
       "67      1                   4            96.0\n",
       "73      1                   5           168.0\n",
       "74      1                   2            96.0\n",
       "75      1                   5           360.0\n",
       "78      1                   4           144.0\n",
       "81      1                   4             3.0\n",
       "84      1                   3           360.0\n",
       "87      1                   2           120.0\n",
       "93      1                   5            72.0\n",
       "98      1                   2           144.0"
      ]
     },
     "execution_count": 16,
     "metadata": {},
     "output_type": "execute_result"
    }
   ],
   "source": [
    "time_user1 = filtered_user1[['userId', 'details.importance', 'duration_hours']]\n",
    "time_user1"
   ]
  },
  {
   "cell_type": "code",
   "execution_count": 17,
   "id": "716f7cae",
   "metadata": {},
   "outputs": [
    {
     "name": "stdout",
     "output_type": "stream",
     "text": [
      "<class 'pandas.core.frame.DataFrame'>\n",
      "Index: 19 entries, 2 to 98\n",
      "Data columns (total 3 columns):\n",
      " #   Column              Non-Null Count  Dtype  \n",
      "---  ------              --------------  -----  \n",
      " 0   userId              19 non-null     object \n",
      " 1   details.importance  19 non-null     int64  \n",
      " 2   duration_hours      19 non-null     float64\n",
      "dtypes: float64(1), int64(1), object(1)\n",
      "memory usage: 608.0+ bytes\n"
     ]
    }
   ],
   "source": [
    "time_user1.info()"
   ]
  },
  {
   "cell_type": "code",
   "execution_count": 18,
   "id": "e7f838da",
   "metadata": {},
   "outputs": [
    {
     "data": {
      "text/html": [
       "<div>\n",
       "<style scoped>\n",
       "    .dataframe tbody tr th:only-of-type {\n",
       "        vertical-align: middle;\n",
       "    }\n",
       "\n",
       "    .dataframe tbody tr th {\n",
       "        vertical-align: top;\n",
       "    }\n",
       "\n",
       "    .dataframe thead th {\n",
       "        text-align: right;\n",
       "    }\n",
       "</style>\n",
       "<table border=\"1\" class=\"dataframe\">\n",
       "  <thead>\n",
       "    <tr style=\"text-align: right;\">\n",
       "      <th></th>\n",
       "      <th>userId</th>\n",
       "      <th>details.importance</th>\n",
       "      <th>mean_hours</th>\n",
       "    </tr>\n",
       "  </thead>\n",
       "  <tbody>\n",
       "    <tr>\n",
       "      <th>0</th>\n",
       "      <td>1</td>\n",
       "      <td>1</td>\n",
       "      <td>228.0</td>\n",
       "    </tr>\n",
       "    <tr>\n",
       "      <th>1</th>\n",
       "      <td>1</td>\n",
       "      <td>2</td>\n",
       "      <td>147.0</td>\n",
       "    </tr>\n",
       "    <tr>\n",
       "      <th>2</th>\n",
       "      <td>1</td>\n",
       "      <td>3</td>\n",
       "      <td>216.0</td>\n",
       "    </tr>\n",
       "    <tr>\n",
       "      <th>3</th>\n",
       "      <td>1</td>\n",
       "      <td>4</td>\n",
       "      <td>81.0</td>\n",
       "    </tr>\n",
       "    <tr>\n",
       "      <th>4</th>\n",
       "      <td>1</td>\n",
       "      <td>5</td>\n",
       "      <td>192.0</td>\n",
       "    </tr>\n",
       "  </tbody>\n",
       "</table>\n",
       "</div>"
      ],
      "text/plain": [
       "  userId  details.importance  mean_hours\n",
       "0      1                   1       228.0\n",
       "1      1                   2       147.0\n",
       "2      1                   3       216.0\n",
       "3      1                   4        81.0\n",
       "4      1                   5       192.0"
      ]
     },
     "execution_count": 18,
     "metadata": {},
     "output_type": "execute_result"
    }
   ],
   "source": [
    "mean_time_user1 = time_user1.groupby(['userId', 'details.importance'])['duration_hours'].mean().reset_index(name='mean_hours')\n",
    "mean_time_user1"
   ]
  },
  {
   "cell_type": "code",
   "execution_count": 19,
   "id": "3f619fd5",
   "metadata": {},
   "outputs": [],
   "source": [
    "time_user2 = filtered_user2[['userId', 'details.importance', 'duration_hours']]\n",
    "time_user3 = filtered_user3[['userId', 'details.importance', 'duration_hours']]\n",
    "time_user4 = filtered_user4[['userId', 'details.importance', 'duration_hours']]\n",
    "time_user5 = filtered_user5[['userId', 'details.importance', 'duration_hours']]\n",
    "\n",
    "mean_time_user2 = time_user2.groupby(['userId', 'details.importance'])['duration_hours'].mean().reset_index(name='mean_hours')\n",
    "mean_time_user3 = time_user3.groupby(['userId', 'details.importance'])['duration_hours'].mean().reset_index(name='mean_hours')\n",
    "mean_time_user4 = time_user4.groupby(['userId', 'details.importance'])['duration_hours'].mean().reset_index(name='mean_hours')\n",
    "mean_time_user5 = time_user5.groupby(['userId', 'details.importance'])['duration_hours'].mean().reset_index(name='mean_hours')"
   ]
  },
  {
   "cell_type": "code",
   "execution_count": 20,
   "id": "30aa87dd",
   "metadata": {},
   "outputs": [
    {
     "data": {
      "text/html": [
       "<div>\n",
       "<style scoped>\n",
       "    .dataframe tbody tr th:only-of-type {\n",
       "        vertical-align: middle;\n",
       "    }\n",
       "\n",
       "    .dataframe tbody tr th {\n",
       "        vertical-align: top;\n",
       "    }\n",
       "\n",
       "    .dataframe thead th {\n",
       "        text-align: right;\n",
       "    }\n",
       "</style>\n",
       "<table border=\"1\" class=\"dataframe\">\n",
       "  <thead>\n",
       "    <tr style=\"text-align: right;\">\n",
       "      <th></th>\n",
       "      <th>userId</th>\n",
       "      <th>details.importance</th>\n",
       "      <th>mean_hours</th>\n",
       "    </tr>\n",
       "  </thead>\n",
       "  <tbody>\n",
       "    <tr>\n",
       "      <th>0</th>\n",
       "      <td>5</td>\n",
       "      <td>3</td>\n",
       "      <td>168.0</td>\n",
       "    </tr>\n",
       "    <tr>\n",
       "      <th>1</th>\n",
       "      <td>5</td>\n",
       "      <td>5</td>\n",
       "      <td>96.0</td>\n",
       "    </tr>\n",
       "  </tbody>\n",
       "</table>\n",
       "</div>"
      ],
      "text/plain": [
       "  userId  details.importance  mean_hours\n",
       "0      5                   3       168.0\n",
       "1      5                   5        96.0"
      ]
     },
     "execution_count": 20,
     "metadata": {},
     "output_type": "execute_result"
    }
   ],
   "source": [
    "mean_time_user5"
   ]
  },
  {
   "cell_type": "code",
   "execution_count": 21,
   "id": "db390214",
   "metadata": {},
   "outputs": [],
   "source": [
    "json_temp = mean_time_user5.to_dict(orient='records')\n",
    "# json_temp\n",
    "\n",
    "with open(f\"data\\\\stat2-user5.json\", \"w\", encoding=\"utf-8\") as f:\n",
    "    for item in json_temp:  # data는 List[Dict]\n",
    "        json_line = json.dumps(item, ensure_ascii=False)\n",
    "        f.write(json_line + \"\\n\")"
   ]
  },
  {
   "cell_type": "code",
   "execution_count": 25,
   "id": "84398067",
   "metadata": {},
   "outputs": [
    {
     "data": {
      "text/plain": [
       "[{'userId': '1', 'details.importance': 1, 'mean_hours': 228.0},\n",
       " {'userId': '1', 'details.importance': 2, 'mean_hours': 147.0},\n",
       " {'userId': '1', 'details.importance': 3, 'mean_hours': 216.0},\n",
       " {'userId': '1', 'details.importance': 4, 'mean_hours': 81.0},\n",
       " {'userId': '1', 'details.importance': 5, 'mean_hours': 192.0}]"
      ]
     },
     "execution_count": 25,
     "metadata": {},
     "output_type": "execute_result"
    }
   ],
   "source": [
    "ptemp = mean_time_user1.to_dict(orient='records')\n",
    "ptemp"
   ]
  },
  {
   "cell_type": "code",
   "execution_count": 27,
   "id": "e5092601",
   "metadata": {},
   "outputs": [
    {
     "data": {
      "text/html": [
       "<div>\n",
       "<style scoped>\n",
       "    .dataframe tbody tr th:only-of-type {\n",
       "        vertical-align: middle;\n",
       "    }\n",
       "\n",
       "    .dataframe tbody tr th {\n",
       "        vertical-align: top;\n",
       "    }\n",
       "\n",
       "    .dataframe thead th {\n",
       "        text-align: right;\n",
       "    }\n",
       "</style>\n",
       "<table border=\"1\" class=\"dataframe\">\n",
       "  <thead>\n",
       "    <tr style=\"text-align: right;\">\n",
       "      <th></th>\n",
       "      <th>userId</th>\n",
       "      <th>details.importance</th>\n",
       "      <th>mean_hours</th>\n",
       "    </tr>\n",
       "  </thead>\n",
       "  <tbody>\n",
       "    <tr>\n",
       "      <th>0</th>\n",
       "      <td>2</td>\n",
       "      <td>1</td>\n",
       "      <td>115.25</td>\n",
       "    </tr>\n",
       "    <tr>\n",
       "      <th>1</th>\n",
       "      <td>2</td>\n",
       "      <td>2</td>\n",
       "      <td>132.00</td>\n",
       "    </tr>\n",
       "    <tr>\n",
       "      <th>2</th>\n",
       "      <td>2</td>\n",
       "      <td>3</td>\n",
       "      <td>168.00</td>\n",
       "    </tr>\n",
       "    <tr>\n",
       "      <th>3</th>\n",
       "      <td>2</td>\n",
       "      <td>4</td>\n",
       "      <td>108.00</td>\n",
       "    </tr>\n",
       "    <tr>\n",
       "      <th>4</th>\n",
       "      <td>2</td>\n",
       "      <td>5</td>\n",
       "      <td>120.00</td>\n",
       "    </tr>\n",
       "  </tbody>\n",
       "</table>\n",
       "</div>"
      ],
      "text/plain": [
       "  userId  details.importance  mean_hours\n",
       "0      2                   1      115.25\n",
       "1      2                   2      132.00\n",
       "2      2                   3      168.00\n",
       "3      2                   4      108.00\n",
       "4      2                   5      120.00"
      ]
     },
     "execution_count": 27,
     "metadata": {},
     "output_type": "execute_result"
    }
   ],
   "source": [
    "mean_time_user1\n",
    "mean_time_user2"
   ]
  },
  {
   "cell_type": "code",
   "execution_count": 36,
   "id": "75810e60",
   "metadata": {},
   "outputs": [
    {
     "data": {
      "application/vnd.plotly.v1+json": {
       "config": {
        "plotlyServerURL": "https://plot.ly"
       },
       "data": [
        {
         "hovertemplate": "userId=1<br>Importance=%{x}<br>Mean Hours=%{y}<extra></extra>",
         "legendgroup": "1",
         "line": {
          "color": "#636efa",
          "dash": "solid"
         },
         "marker": {
          "symbol": "circle"
         },
         "mode": "lines+markers",
         "name": "1",
         "orientation": "v",
         "showlegend": true,
         "type": "scatter",
         "x": {
          "bdata": "AQIDBAU=",
          "dtype": "i1"
         },
         "xaxis": "x",
         "y": {
          "bdata": "AAAAAACAbEAAAAAAAGBiQAAAAAAAAGtAAAAAAABAVEAAAAAAAABoQA==",
          "dtype": "f8"
         },
         "yaxis": "y"
        }
       ],
       "layout": {
        "legend": {
         "title": {
          "text": "userId"
         },
         "tracegroupgap": 0
        },
        "template": {
         "data": {
          "bar": [
           {
            "error_x": {
             "color": "#2a3f5f"
            },
            "error_y": {
             "color": "#2a3f5f"
            },
            "marker": {
             "line": {
              "color": "#E5ECF6",
              "width": 0.5
             },
             "pattern": {
              "fillmode": "overlay",
              "size": 10,
              "solidity": 0.2
             }
            },
            "type": "bar"
           }
          ],
          "barpolar": [
           {
            "marker": {
             "line": {
              "color": "#E5ECF6",
              "width": 0.5
             },
             "pattern": {
              "fillmode": "overlay",
              "size": 10,
              "solidity": 0.2
             }
            },
            "type": "barpolar"
           }
          ],
          "carpet": [
           {
            "aaxis": {
             "endlinecolor": "#2a3f5f",
             "gridcolor": "white",
             "linecolor": "white",
             "minorgridcolor": "white",
             "startlinecolor": "#2a3f5f"
            },
            "baxis": {
             "endlinecolor": "#2a3f5f",
             "gridcolor": "white",
             "linecolor": "white",
             "minorgridcolor": "white",
             "startlinecolor": "#2a3f5f"
            },
            "type": "carpet"
           }
          ],
          "choropleth": [
           {
            "colorbar": {
             "outlinewidth": 0,
             "ticks": ""
            },
            "type": "choropleth"
           }
          ],
          "contour": [
           {
            "colorbar": {
             "outlinewidth": 0,
             "ticks": ""
            },
            "colorscale": [
             [
              0,
              "#0d0887"
             ],
             [
              0.1111111111111111,
              "#46039f"
             ],
             [
              0.2222222222222222,
              "#7201a8"
             ],
             [
              0.3333333333333333,
              "#9c179e"
             ],
             [
              0.4444444444444444,
              "#bd3786"
             ],
             [
              0.5555555555555556,
              "#d8576b"
             ],
             [
              0.6666666666666666,
              "#ed7953"
             ],
             [
              0.7777777777777778,
              "#fb9f3a"
             ],
             [
              0.8888888888888888,
              "#fdca26"
             ],
             [
              1,
              "#f0f921"
             ]
            ],
            "type": "contour"
           }
          ],
          "contourcarpet": [
           {
            "colorbar": {
             "outlinewidth": 0,
             "ticks": ""
            },
            "type": "contourcarpet"
           }
          ],
          "heatmap": [
           {
            "colorbar": {
             "outlinewidth": 0,
             "ticks": ""
            },
            "colorscale": [
             [
              0,
              "#0d0887"
             ],
             [
              0.1111111111111111,
              "#46039f"
             ],
             [
              0.2222222222222222,
              "#7201a8"
             ],
             [
              0.3333333333333333,
              "#9c179e"
             ],
             [
              0.4444444444444444,
              "#bd3786"
             ],
             [
              0.5555555555555556,
              "#d8576b"
             ],
             [
              0.6666666666666666,
              "#ed7953"
             ],
             [
              0.7777777777777778,
              "#fb9f3a"
             ],
             [
              0.8888888888888888,
              "#fdca26"
             ],
             [
              1,
              "#f0f921"
             ]
            ],
            "type": "heatmap"
           }
          ],
          "histogram": [
           {
            "marker": {
             "pattern": {
              "fillmode": "overlay",
              "size": 10,
              "solidity": 0.2
             }
            },
            "type": "histogram"
           }
          ],
          "histogram2d": [
           {
            "colorbar": {
             "outlinewidth": 0,
             "ticks": ""
            },
            "colorscale": [
             [
              0,
              "#0d0887"
             ],
             [
              0.1111111111111111,
              "#46039f"
             ],
             [
              0.2222222222222222,
              "#7201a8"
             ],
             [
              0.3333333333333333,
              "#9c179e"
             ],
             [
              0.4444444444444444,
              "#bd3786"
             ],
             [
              0.5555555555555556,
              "#d8576b"
             ],
             [
              0.6666666666666666,
              "#ed7953"
             ],
             [
              0.7777777777777778,
              "#fb9f3a"
             ],
             [
              0.8888888888888888,
              "#fdca26"
             ],
             [
              1,
              "#f0f921"
             ]
            ],
            "type": "histogram2d"
           }
          ],
          "histogram2dcontour": [
           {
            "colorbar": {
             "outlinewidth": 0,
             "ticks": ""
            },
            "colorscale": [
             [
              0,
              "#0d0887"
             ],
             [
              0.1111111111111111,
              "#46039f"
             ],
             [
              0.2222222222222222,
              "#7201a8"
             ],
             [
              0.3333333333333333,
              "#9c179e"
             ],
             [
              0.4444444444444444,
              "#bd3786"
             ],
             [
              0.5555555555555556,
              "#d8576b"
             ],
             [
              0.6666666666666666,
              "#ed7953"
             ],
             [
              0.7777777777777778,
              "#fb9f3a"
             ],
             [
              0.8888888888888888,
              "#fdca26"
             ],
             [
              1,
              "#f0f921"
             ]
            ],
            "type": "histogram2dcontour"
           }
          ],
          "mesh3d": [
           {
            "colorbar": {
             "outlinewidth": 0,
             "ticks": ""
            },
            "type": "mesh3d"
           }
          ],
          "parcoords": [
           {
            "line": {
             "colorbar": {
              "outlinewidth": 0,
              "ticks": ""
             }
            },
            "type": "parcoords"
           }
          ],
          "pie": [
           {
            "automargin": true,
            "type": "pie"
           }
          ],
          "scatter": [
           {
            "fillpattern": {
             "fillmode": "overlay",
             "size": 10,
             "solidity": 0.2
            },
            "type": "scatter"
           }
          ],
          "scatter3d": [
           {
            "line": {
             "colorbar": {
              "outlinewidth": 0,
              "ticks": ""
             }
            },
            "marker": {
             "colorbar": {
              "outlinewidth": 0,
              "ticks": ""
             }
            },
            "type": "scatter3d"
           }
          ],
          "scattercarpet": [
           {
            "marker": {
             "colorbar": {
              "outlinewidth": 0,
              "ticks": ""
             }
            },
            "type": "scattercarpet"
           }
          ],
          "scattergeo": [
           {
            "marker": {
             "colorbar": {
              "outlinewidth": 0,
              "ticks": ""
             }
            },
            "type": "scattergeo"
           }
          ],
          "scattergl": [
           {
            "marker": {
             "colorbar": {
              "outlinewidth": 0,
              "ticks": ""
             }
            },
            "type": "scattergl"
           }
          ],
          "scattermap": [
           {
            "marker": {
             "colorbar": {
              "outlinewidth": 0,
              "ticks": ""
             }
            },
            "type": "scattermap"
           }
          ],
          "scattermapbox": [
           {
            "marker": {
             "colorbar": {
              "outlinewidth": 0,
              "ticks": ""
             }
            },
            "type": "scattermapbox"
           }
          ],
          "scatterpolar": [
           {
            "marker": {
             "colorbar": {
              "outlinewidth": 0,
              "ticks": ""
             }
            },
            "type": "scatterpolar"
           }
          ],
          "scatterpolargl": [
           {
            "marker": {
             "colorbar": {
              "outlinewidth": 0,
              "ticks": ""
             }
            },
            "type": "scatterpolargl"
           }
          ],
          "scatterternary": [
           {
            "marker": {
             "colorbar": {
              "outlinewidth": 0,
              "ticks": ""
             }
            },
            "type": "scatterternary"
           }
          ],
          "surface": [
           {
            "colorbar": {
             "outlinewidth": 0,
             "ticks": ""
            },
            "colorscale": [
             [
              0,
              "#0d0887"
             ],
             [
              0.1111111111111111,
              "#46039f"
             ],
             [
              0.2222222222222222,
              "#7201a8"
             ],
             [
              0.3333333333333333,
              "#9c179e"
             ],
             [
              0.4444444444444444,
              "#bd3786"
             ],
             [
              0.5555555555555556,
              "#d8576b"
             ],
             [
              0.6666666666666666,
              "#ed7953"
             ],
             [
              0.7777777777777778,
              "#fb9f3a"
             ],
             [
              0.8888888888888888,
              "#fdca26"
             ],
             [
              1,
              "#f0f921"
             ]
            ],
            "type": "surface"
           }
          ],
          "table": [
           {
            "cells": {
             "fill": {
              "color": "#EBF0F8"
             },
             "line": {
              "color": "white"
             }
            },
            "header": {
             "fill": {
              "color": "#C8D4E3"
             },
             "line": {
              "color": "white"
             }
            },
            "type": "table"
           }
          ]
         },
         "layout": {
          "annotationdefaults": {
           "arrowcolor": "#2a3f5f",
           "arrowhead": 0,
           "arrowwidth": 1
          },
          "autotypenumbers": "strict",
          "coloraxis": {
           "colorbar": {
            "outlinewidth": 0,
            "ticks": ""
           }
          },
          "colorscale": {
           "diverging": [
            [
             0,
             "#8e0152"
            ],
            [
             0.1,
             "#c51b7d"
            ],
            [
             0.2,
             "#de77ae"
            ],
            [
             0.3,
             "#f1b6da"
            ],
            [
             0.4,
             "#fde0ef"
            ],
            [
             0.5,
             "#f7f7f7"
            ],
            [
             0.6,
             "#e6f5d0"
            ],
            [
             0.7,
             "#b8e186"
            ],
            [
             0.8,
             "#7fbc41"
            ],
            [
             0.9,
             "#4d9221"
            ],
            [
             1,
             "#276419"
            ]
           ],
           "sequential": [
            [
             0,
             "#0d0887"
            ],
            [
             0.1111111111111111,
             "#46039f"
            ],
            [
             0.2222222222222222,
             "#7201a8"
            ],
            [
             0.3333333333333333,
             "#9c179e"
            ],
            [
             0.4444444444444444,
             "#bd3786"
            ],
            [
             0.5555555555555556,
             "#d8576b"
            ],
            [
             0.6666666666666666,
             "#ed7953"
            ],
            [
             0.7777777777777778,
             "#fb9f3a"
            ],
            [
             0.8888888888888888,
             "#fdca26"
            ],
            [
             1,
             "#f0f921"
            ]
           ],
           "sequentialminus": [
            [
             0,
             "#0d0887"
            ],
            [
             0.1111111111111111,
             "#46039f"
            ],
            [
             0.2222222222222222,
             "#7201a8"
            ],
            [
             0.3333333333333333,
             "#9c179e"
            ],
            [
             0.4444444444444444,
             "#bd3786"
            ],
            [
             0.5555555555555556,
             "#d8576b"
            ],
            [
             0.6666666666666666,
             "#ed7953"
            ],
            [
             0.7777777777777778,
             "#fb9f3a"
            ],
            [
             0.8888888888888888,
             "#fdca26"
            ],
            [
             1,
             "#f0f921"
            ]
           ]
          },
          "colorway": [
           "#636efa",
           "#EF553B",
           "#00cc96",
           "#ab63fa",
           "#FFA15A",
           "#19d3f3",
           "#FF6692",
           "#B6E880",
           "#FF97FF",
           "#FECB52"
          ],
          "font": {
           "color": "#2a3f5f"
          },
          "geo": {
           "bgcolor": "white",
           "lakecolor": "white",
           "landcolor": "#E5ECF6",
           "showlakes": true,
           "showland": true,
           "subunitcolor": "white"
          },
          "hoverlabel": {
           "align": "left"
          },
          "hovermode": "closest",
          "mapbox": {
           "style": "light"
          },
          "paper_bgcolor": "white",
          "plot_bgcolor": "#E5ECF6",
          "polar": {
           "angularaxis": {
            "gridcolor": "white",
            "linecolor": "white",
            "ticks": ""
           },
           "bgcolor": "#E5ECF6",
           "radialaxis": {
            "gridcolor": "white",
            "linecolor": "white",
            "ticks": ""
           }
          },
          "scene": {
           "xaxis": {
            "backgroundcolor": "#E5ECF6",
            "gridcolor": "white",
            "gridwidth": 2,
            "linecolor": "white",
            "showbackground": true,
            "ticks": "",
            "zerolinecolor": "white"
           },
           "yaxis": {
            "backgroundcolor": "#E5ECF6",
            "gridcolor": "white",
            "gridwidth": 2,
            "linecolor": "white",
            "showbackground": true,
            "ticks": "",
            "zerolinecolor": "white"
           },
           "zaxis": {
            "backgroundcolor": "#E5ECF6",
            "gridcolor": "white",
            "gridwidth": 2,
            "linecolor": "white",
            "showbackground": true,
            "ticks": "",
            "zerolinecolor": "white"
           }
          },
          "shapedefaults": {
           "line": {
            "color": "#2a3f5f"
           }
          },
          "ternary": {
           "aaxis": {
            "gridcolor": "white",
            "linecolor": "white",
            "ticks": ""
           },
           "baxis": {
            "gridcolor": "white",
            "linecolor": "white",
            "ticks": ""
           },
           "bgcolor": "#E5ECF6",
           "caxis": {
            "gridcolor": "white",
            "linecolor": "white",
            "ticks": ""
           }
          },
          "title": {
           "x": 0.05
          },
          "xaxis": {
           "automargin": true,
           "gridcolor": "white",
           "linecolor": "white",
           "ticks": "",
           "title": {
            "standoff": 15
           },
           "zerolinecolor": "white",
           "zerolinewidth": 2
          },
          "yaxis": {
           "automargin": true,
           "gridcolor": "white",
           "linecolor": "white",
           "ticks": "",
           "title": {
            "standoff": 15
           },
           "zerolinecolor": "white",
           "zerolinewidth": 2
          }
         }
        },
        "title": {
         "text": "Mean Hours by Importance"
        },
        "xaxis": {
         "anchor": "y",
         "domain": [
          0,
          1
         ],
         "title": {
          "text": "Importance"
         }
        },
        "yaxis": {
         "anchor": "x",
         "domain": [
          0,
          1
         ],
         "title": {
          "text": "Mean Hours"
         }
        }
       }
      }
     },
     "metadata": {},
     "output_type": "display_data"
    }
   ],
   "source": [
    "fig = px.line(\n",
    "    mean_time_user1,\n",
    "    x='details.importance',\n",
    "    y='mean_hours',\n",
    "    title='Mean Hours by Importance',\n",
    "    color='userId',\n",
    "    markers=True,\n",
    "    labels={\n",
    "        'details.importance': 'Importance',\n",
    "        'mean_hours': 'Mean Hours'\n",
    "    }\n",
    ")\n",
    "fig.show()"
   ]
  },
  {
   "cell_type": "code",
   "execution_count": 31,
   "id": "ab4320f0",
   "metadata": {},
   "outputs": [],
   "source": [
    "combined_df = pd.concat([mean_time_user1, mean_time_user2, mean_time_user3, mean_time_user4, mean_time_user5], ignore_index=True)"
   ]
  },
  {
   "cell_type": "code",
   "execution_count": null,
   "id": "4e69ca29",
   "metadata": {},
   "outputs": [
    {
     "data": {
      "application/vnd.plotly.v1+json": {
       "config": {
        "plotlyServerURL": "https://plot.ly"
       },
       "data": [
        {
         "hovertemplate": "userId=1<br>Importance=%{x}<br>Mean Hours=%{y}<extra></extra>",
         "legendgroup": "1",
         "line": {
          "color": "#636efa",
          "dash": "solid"
         },
         "marker": {
          "symbol": "circle"
         },
         "mode": "lines+markers",
         "name": "1",
         "orientation": "v",
         "showlegend": true,
         "type": "scatter",
         "x": {
          "bdata": "AQIDBAU=",
          "dtype": "i1"
         },
         "xaxis": "x",
         "y": {
          "bdata": "AAAAAACAbEAAAAAAAGBiQAAAAAAAAGtAAAAAAABAVEAAAAAAAABoQA==",
          "dtype": "f8"
         },
         "yaxis": "y"
        },
        {
         "hovertemplate": "userId=2<br>Importance=%{x}<br>Mean Hours=%{y}<extra></extra>",
         "legendgroup": "2",
         "line": {
          "color": "#EF553B",
          "dash": "solid"
         },
         "marker": {
          "symbol": "circle"
         },
         "mode": "lines+markers",
         "name": "2",
         "orientation": "v",
         "showlegend": true,
         "type": "scatter",
         "x": {
          "bdata": "AQIDBAU=",
          "dtype": "i1"
         },
         "xaxis": "x",
         "y": {
          "bdata": "AAAAAADQXEAAAAAAAIBgQAAAAAAAAGVAAAAAAAAAW0AAAAAAAABeQA==",
          "dtype": "f8"
         },
         "yaxis": "y"
        },
        {
         "hovertemplate": "userId=3<br>Importance=%{x}<br>Mean Hours=%{y}<extra></extra>",
         "legendgroup": "3",
         "line": {
          "color": "#00cc96",
          "dash": "solid"
         },
         "marker": {
          "symbol": "circle"
         },
         "mode": "lines+markers",
         "name": "3",
         "orientation": "v",
         "showlegend": true,
         "type": "scatter",
         "x": {
          "bdata": "AgMEBQ==",
          "dtype": "i1"
         },
         "xaxis": "x",
         "y": {
          "bdata": "AAAAAAAAGEAAAAAAAABeQAAAAAAAAFhAAAAAAAAAW0A=",
          "dtype": "f8"
         },
         "yaxis": "y"
        },
        {
         "hovertemplate": "userId=4<br>Importance=%{x}<br>Mean Hours=%{y}<extra></extra>",
         "legendgroup": "4",
         "line": {
          "color": "#ab63fa",
          "dash": "solid"
         },
         "marker": {
          "symbol": "circle"
         },
         "mode": "lines+markers",
         "name": "4",
         "orientation": "v",
         "showlegend": true,
         "type": "scatter",
         "x": {
          "bdata": "AQU=",
          "dtype": "i1"
         },
         "xaxis": "x",
         "y": {
          "bdata": "AAAAAACwZkAAAAAAAABbQA==",
          "dtype": "f8"
         },
         "yaxis": "y"
        },
        {
         "hovertemplate": "userId=5<br>Importance=%{x}<br>Mean Hours=%{y}<extra></extra>",
         "legendgroup": "5",
         "line": {
          "color": "#FFA15A",
          "dash": "solid"
         },
         "marker": {
          "symbol": "circle"
         },
         "mode": "lines+markers",
         "name": "5",
         "orientation": "v",
         "showlegend": true,
         "type": "scatter",
         "x": {
          "bdata": "AwU=",
          "dtype": "i1"
         },
         "xaxis": "x",
         "y": {
          "bdata": "AAAAAAAAZUAAAAAAAABYQA==",
          "dtype": "f8"
         },
         "yaxis": "y"
        }
       ],
       "layout": {
        "legend": {
         "title": {
          "text": "userId"
         },
         "tracegroupgap": 0
        },
        "template": {
         "data": {
          "bar": [
           {
            "error_x": {
             "color": "#2a3f5f"
            },
            "error_y": {
             "color": "#2a3f5f"
            },
            "marker": {
             "line": {
              "color": "#E5ECF6",
              "width": 0.5
             },
             "pattern": {
              "fillmode": "overlay",
              "size": 10,
              "solidity": 0.2
             }
            },
            "type": "bar"
           }
          ],
          "barpolar": [
           {
            "marker": {
             "line": {
              "color": "#E5ECF6",
              "width": 0.5
             },
             "pattern": {
              "fillmode": "overlay",
              "size": 10,
              "solidity": 0.2
             }
            },
            "type": "barpolar"
           }
          ],
          "carpet": [
           {
            "aaxis": {
             "endlinecolor": "#2a3f5f",
             "gridcolor": "white",
             "linecolor": "white",
             "minorgridcolor": "white",
             "startlinecolor": "#2a3f5f"
            },
            "baxis": {
             "endlinecolor": "#2a3f5f",
             "gridcolor": "white",
             "linecolor": "white",
             "minorgridcolor": "white",
             "startlinecolor": "#2a3f5f"
            },
            "type": "carpet"
           }
          ],
          "choropleth": [
           {
            "colorbar": {
             "outlinewidth": 0,
             "ticks": ""
            },
            "type": "choropleth"
           }
          ],
          "contour": [
           {
            "colorbar": {
             "outlinewidth": 0,
             "ticks": ""
            },
            "colorscale": [
             [
              0,
              "#0d0887"
             ],
             [
              0.1111111111111111,
              "#46039f"
             ],
             [
              0.2222222222222222,
              "#7201a8"
             ],
             [
              0.3333333333333333,
              "#9c179e"
             ],
             [
              0.4444444444444444,
              "#bd3786"
             ],
             [
              0.5555555555555556,
              "#d8576b"
             ],
             [
              0.6666666666666666,
              "#ed7953"
             ],
             [
              0.7777777777777778,
              "#fb9f3a"
             ],
             [
              0.8888888888888888,
              "#fdca26"
             ],
             [
              1,
              "#f0f921"
             ]
            ],
            "type": "contour"
           }
          ],
          "contourcarpet": [
           {
            "colorbar": {
             "outlinewidth": 0,
             "ticks": ""
            },
            "type": "contourcarpet"
           }
          ],
          "heatmap": [
           {
            "colorbar": {
             "outlinewidth": 0,
             "ticks": ""
            },
            "colorscale": [
             [
              0,
              "#0d0887"
             ],
             [
              0.1111111111111111,
              "#46039f"
             ],
             [
              0.2222222222222222,
              "#7201a8"
             ],
             [
              0.3333333333333333,
              "#9c179e"
             ],
             [
              0.4444444444444444,
              "#bd3786"
             ],
             [
              0.5555555555555556,
              "#d8576b"
             ],
             [
              0.6666666666666666,
              "#ed7953"
             ],
             [
              0.7777777777777778,
              "#fb9f3a"
             ],
             [
              0.8888888888888888,
              "#fdca26"
             ],
             [
              1,
              "#f0f921"
             ]
            ],
            "type": "heatmap"
           }
          ],
          "histogram": [
           {
            "marker": {
             "pattern": {
              "fillmode": "overlay",
              "size": 10,
              "solidity": 0.2
             }
            },
            "type": "histogram"
           }
          ],
          "histogram2d": [
           {
            "colorbar": {
             "outlinewidth": 0,
             "ticks": ""
            },
            "colorscale": [
             [
              0,
              "#0d0887"
             ],
             [
              0.1111111111111111,
              "#46039f"
             ],
             [
              0.2222222222222222,
              "#7201a8"
             ],
             [
              0.3333333333333333,
              "#9c179e"
             ],
             [
              0.4444444444444444,
              "#bd3786"
             ],
             [
              0.5555555555555556,
              "#d8576b"
             ],
             [
              0.6666666666666666,
              "#ed7953"
             ],
             [
              0.7777777777777778,
              "#fb9f3a"
             ],
             [
              0.8888888888888888,
              "#fdca26"
             ],
             [
              1,
              "#f0f921"
             ]
            ],
            "type": "histogram2d"
           }
          ],
          "histogram2dcontour": [
           {
            "colorbar": {
             "outlinewidth": 0,
             "ticks": ""
            },
            "colorscale": [
             [
              0,
              "#0d0887"
             ],
             [
              0.1111111111111111,
              "#46039f"
             ],
             [
              0.2222222222222222,
              "#7201a8"
             ],
             [
              0.3333333333333333,
              "#9c179e"
             ],
             [
              0.4444444444444444,
              "#bd3786"
             ],
             [
              0.5555555555555556,
              "#d8576b"
             ],
             [
              0.6666666666666666,
              "#ed7953"
             ],
             [
              0.7777777777777778,
              "#fb9f3a"
             ],
             [
              0.8888888888888888,
              "#fdca26"
             ],
             [
              1,
              "#f0f921"
             ]
            ],
            "type": "histogram2dcontour"
           }
          ],
          "mesh3d": [
           {
            "colorbar": {
             "outlinewidth": 0,
             "ticks": ""
            },
            "type": "mesh3d"
           }
          ],
          "parcoords": [
           {
            "line": {
             "colorbar": {
              "outlinewidth": 0,
              "ticks": ""
             }
            },
            "type": "parcoords"
           }
          ],
          "pie": [
           {
            "automargin": true,
            "type": "pie"
           }
          ],
          "scatter": [
           {
            "fillpattern": {
             "fillmode": "overlay",
             "size": 10,
             "solidity": 0.2
            },
            "type": "scatter"
           }
          ],
          "scatter3d": [
           {
            "line": {
             "colorbar": {
              "outlinewidth": 0,
              "ticks": ""
             }
            },
            "marker": {
             "colorbar": {
              "outlinewidth": 0,
              "ticks": ""
             }
            },
            "type": "scatter3d"
           }
          ],
          "scattercarpet": [
           {
            "marker": {
             "colorbar": {
              "outlinewidth": 0,
              "ticks": ""
             }
            },
            "type": "scattercarpet"
           }
          ],
          "scattergeo": [
           {
            "marker": {
             "colorbar": {
              "outlinewidth": 0,
              "ticks": ""
             }
            },
            "type": "scattergeo"
           }
          ],
          "scattergl": [
           {
            "marker": {
             "colorbar": {
              "outlinewidth": 0,
              "ticks": ""
             }
            },
            "type": "scattergl"
           }
          ],
          "scattermap": [
           {
            "marker": {
             "colorbar": {
              "outlinewidth": 0,
              "ticks": ""
             }
            },
            "type": "scattermap"
           }
          ],
          "scattermapbox": [
           {
            "marker": {
             "colorbar": {
              "outlinewidth": 0,
              "ticks": ""
             }
            },
            "type": "scattermapbox"
           }
          ],
          "scatterpolar": [
           {
            "marker": {
             "colorbar": {
              "outlinewidth": 0,
              "ticks": ""
             }
            },
            "type": "scatterpolar"
           }
          ],
          "scatterpolargl": [
           {
            "marker": {
             "colorbar": {
              "outlinewidth": 0,
              "ticks": ""
             }
            },
            "type": "scatterpolargl"
           }
          ],
          "scatterternary": [
           {
            "marker": {
             "colorbar": {
              "outlinewidth": 0,
              "ticks": ""
             }
            },
            "type": "scatterternary"
           }
          ],
          "surface": [
           {
            "colorbar": {
             "outlinewidth": 0,
             "ticks": ""
            },
            "colorscale": [
             [
              0,
              "#0d0887"
             ],
             [
              0.1111111111111111,
              "#46039f"
             ],
             [
              0.2222222222222222,
              "#7201a8"
             ],
             [
              0.3333333333333333,
              "#9c179e"
             ],
             [
              0.4444444444444444,
              "#bd3786"
             ],
             [
              0.5555555555555556,
              "#d8576b"
             ],
             [
              0.6666666666666666,
              "#ed7953"
             ],
             [
              0.7777777777777778,
              "#fb9f3a"
             ],
             [
              0.8888888888888888,
              "#fdca26"
             ],
             [
              1,
              "#f0f921"
             ]
            ],
            "type": "surface"
           }
          ],
          "table": [
           {
            "cells": {
             "fill": {
              "color": "#EBF0F8"
             },
             "line": {
              "color": "white"
             }
            },
            "header": {
             "fill": {
              "color": "#C8D4E3"
             },
             "line": {
              "color": "white"
             }
            },
            "type": "table"
           }
          ]
         },
         "layout": {
          "annotationdefaults": {
           "arrowcolor": "#2a3f5f",
           "arrowhead": 0,
           "arrowwidth": 1
          },
          "autotypenumbers": "strict",
          "coloraxis": {
           "colorbar": {
            "outlinewidth": 0,
            "ticks": ""
           }
          },
          "colorscale": {
           "diverging": [
            [
             0,
             "#8e0152"
            ],
            [
             0.1,
             "#c51b7d"
            ],
            [
             0.2,
             "#de77ae"
            ],
            [
             0.3,
             "#f1b6da"
            ],
            [
             0.4,
             "#fde0ef"
            ],
            [
             0.5,
             "#f7f7f7"
            ],
            [
             0.6,
             "#e6f5d0"
            ],
            [
             0.7,
             "#b8e186"
            ],
            [
             0.8,
             "#7fbc41"
            ],
            [
             0.9,
             "#4d9221"
            ],
            [
             1,
             "#276419"
            ]
           ],
           "sequential": [
            [
             0,
             "#0d0887"
            ],
            [
             0.1111111111111111,
             "#46039f"
            ],
            [
             0.2222222222222222,
             "#7201a8"
            ],
            [
             0.3333333333333333,
             "#9c179e"
            ],
            [
             0.4444444444444444,
             "#bd3786"
            ],
            [
             0.5555555555555556,
             "#d8576b"
            ],
            [
             0.6666666666666666,
             "#ed7953"
            ],
            [
             0.7777777777777778,
             "#fb9f3a"
            ],
            [
             0.8888888888888888,
             "#fdca26"
            ],
            [
             1,
             "#f0f921"
            ]
           ],
           "sequentialminus": [
            [
             0,
             "#0d0887"
            ],
            [
             0.1111111111111111,
             "#46039f"
            ],
            [
             0.2222222222222222,
             "#7201a8"
            ],
            [
             0.3333333333333333,
             "#9c179e"
            ],
            [
             0.4444444444444444,
             "#bd3786"
            ],
            [
             0.5555555555555556,
             "#d8576b"
            ],
            [
             0.6666666666666666,
             "#ed7953"
            ],
            [
             0.7777777777777778,
             "#fb9f3a"
            ],
            [
             0.8888888888888888,
             "#fdca26"
            ],
            [
             1,
             "#f0f921"
            ]
           ]
          },
          "colorway": [
           "#636efa",
           "#EF553B",
           "#00cc96",
           "#ab63fa",
           "#FFA15A",
           "#19d3f3",
           "#FF6692",
           "#B6E880",
           "#FF97FF",
           "#FECB52"
          ],
          "font": {
           "color": "#2a3f5f"
          },
          "geo": {
           "bgcolor": "white",
           "lakecolor": "white",
           "landcolor": "#E5ECF6",
           "showlakes": true,
           "showland": true,
           "subunitcolor": "white"
          },
          "hoverlabel": {
           "align": "left"
          },
          "hovermode": "closest",
          "mapbox": {
           "style": "light"
          },
          "paper_bgcolor": "white",
          "plot_bgcolor": "#E5ECF6",
          "polar": {
           "angularaxis": {
            "gridcolor": "white",
            "linecolor": "white",
            "ticks": ""
           },
           "bgcolor": "#E5ECF6",
           "radialaxis": {
            "gridcolor": "white",
            "linecolor": "white",
            "ticks": ""
           }
          },
          "scene": {
           "xaxis": {
            "backgroundcolor": "#E5ECF6",
            "gridcolor": "white",
            "gridwidth": 2,
            "linecolor": "white",
            "showbackground": true,
            "ticks": "",
            "zerolinecolor": "white"
           },
           "yaxis": {
            "backgroundcolor": "#E5ECF6",
            "gridcolor": "white",
            "gridwidth": 2,
            "linecolor": "white",
            "showbackground": true,
            "ticks": "",
            "zerolinecolor": "white"
           },
           "zaxis": {
            "backgroundcolor": "#E5ECF6",
            "gridcolor": "white",
            "gridwidth": 2,
            "linecolor": "white",
            "showbackground": true,
            "ticks": "",
            "zerolinecolor": "white"
           }
          },
          "shapedefaults": {
           "line": {
            "color": "#2a3f5f"
           }
          },
          "ternary": {
           "aaxis": {
            "gridcolor": "white",
            "linecolor": "white",
            "ticks": ""
           },
           "baxis": {
            "gridcolor": "white",
            "linecolor": "white",
            "ticks": ""
           },
           "bgcolor": "#E5ECF6",
           "caxis": {
            "gridcolor": "white",
            "linecolor": "white",
            "ticks": ""
           }
          },
          "title": {
           "x": 0.05
          },
          "xaxis": {
           "automargin": true,
           "gridcolor": "white",
           "linecolor": "white",
           "ticks": "",
           "title": {
            "standoff": 15
           },
           "zerolinecolor": "white",
           "zerolinewidth": 2
          },
          "yaxis": {
           "automargin": true,
           "gridcolor": "white",
           "linecolor": "white",
           "ticks": "",
           "title": {
            "standoff": 15
           },
           "zerolinecolor": "white",
           "zerolinewidth": 2
          }
         }
        },
        "title": {
         "text": "Mean Hours by Importance"
        },
        "xaxis": {
         "anchor": "y",
         "domain": [
          0,
          1
         ],
         "title": {
          "text": "Importance"
         }
        },
        "yaxis": {
         "anchor": "x",
         "domain": [
          0,
          1
         ],
         "title": {
          "text": "Mean Hours"
         }
        }
       }
      }
     },
     "metadata": {},
     "output_type": "display_data"
    }
   ],
   "source": [
    "fig = px.line(\n",
    "    combined_df,\n",
    "    x='details.importance',\n",
    "    y='mean_hours',\n",
    "    title='Mean Hours by Importance',\n",
    "    color='userId',\n",
    "    markers=True,\n",
    "    labels={\n",
    "        'details.importance': 'Importance',\n",
    "        'mean_hours': 'Mean Hours'\n",
    "    }\n",
    ")\n",
    "fig.show()"
   ]
  },
  {
   "cell_type": "code",
   "execution_count": null,
   "id": "bbe68d2d",
   "metadata": {},
   "outputs": [],
   "source": []
  }
 ],
 "metadata": {
  "kernelspec": {
   "display_name": ".venv",
   "language": "python",
   "name": "python3"
  },
  "language_info": {
   "codemirror_mode": {
    "name": "ipython",
    "version": 3
   },
   "file_extension": ".py",
   "mimetype": "text/x-python",
   "name": "python",
   "nbconvert_exporter": "python",
   "pygments_lexer": "ipython3",
   "version": "3.10.0"
  }
 },
 "nbformat": 4,
 "nbformat_minor": 5
}
