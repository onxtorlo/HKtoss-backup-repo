{
 "cells": [
  {
   "cell_type": "code",
   "execution_count": 1,
   "id": "4aaee392",
   "metadata": {},
   "outputs": [
    {
     "name": "stdout",
     "output_type": "stream",
     "text": [
      "Requirement already satisfied: pandas in c:\\users\\user\\documents\\pja_mlops\\.venv\\lib\\site-packages (2.3.0)\n",
      "Requirement already satisfied: plotly in c:\\users\\user\\documents\\pja_mlops\\.venv\\lib\\site-packages (6.1.2)\n",
      "Requirement already satisfied: matplotlib in c:\\users\\user\\documents\\pja_mlops\\.venv\\lib\\site-packages (3.10.3)\n",
      "Requirement already satisfied: numpy>=1.22.4 in c:\\users\\user\\documents\\pja_mlops\\.venv\\lib\\site-packages (from pandas) (2.2.6)\n",
      "Requirement already satisfied: python-dateutil>=2.8.2 in c:\\users\\user\\documents\\pja_mlops\\.venv\\lib\\site-packages (from pandas) (2.9.0.post0)\n",
      "Requirement already satisfied: pytz>=2020.1 in c:\\users\\user\\documents\\pja_mlops\\.venv\\lib\\site-packages (from pandas) (2025.2)\n",
      "Requirement already satisfied: tzdata>=2022.7 in c:\\users\\user\\documents\\pja_mlops\\.venv\\lib\\site-packages (from pandas) (2025.2)\n",
      "Requirement already satisfied: narwhals>=1.15.1 in c:\\users\\user\\documents\\pja_mlops\\.venv\\lib\\site-packages (from plotly) (1.42.1)\n",
      "Requirement already satisfied: packaging in c:\\users\\user\\documents\\pja_mlops\\.venv\\lib\\site-packages (from plotly) (24.2)\n",
      "Requirement already satisfied: contourpy>=1.0.1 in c:\\users\\user\\documents\\pja_mlops\\.venv\\lib\\site-packages (from matplotlib) (1.3.2)\n",
      "Requirement already satisfied: cycler>=0.10 in c:\\users\\user\\documents\\pja_mlops\\.venv\\lib\\site-packages (from matplotlib) (0.12.1)\n",
      "Requirement already satisfied: fonttools>=4.22.0 in c:\\users\\user\\documents\\pja_mlops\\.venv\\lib\\site-packages (from matplotlib) (4.58.4)\n",
      "Requirement already satisfied: kiwisolver>=1.3.1 in c:\\users\\user\\documents\\pja_mlops\\.venv\\lib\\site-packages (from matplotlib) (1.4.8)\n",
      "Requirement already satisfied: pillow>=8 in c:\\users\\user\\documents\\pja_mlops\\.venv\\lib\\site-packages (from matplotlib) (11.2.1)\n",
      "Requirement already satisfied: pyparsing>=2.3.1 in c:\\users\\user\\documents\\pja_mlops\\.venv\\lib\\site-packages (from matplotlib) (3.2.3)\n",
      "Requirement already satisfied: six>=1.5 in c:\\users\\user\\documents\\pja_mlops\\.venv\\lib\\site-packages (from python-dateutil>=2.8.2->pandas) (1.17.0)\n",
      "Note: you may need to restart the kernel to use updated packages.\n",
      "Requirement already satisfied: nbformat in c:\\users\\user\\documents\\pja_mlops\\.venv\\lib\\site-packages (5.10.4)\n",
      "Requirement already satisfied: fastjsonschema>=2.15 in c:\\users\\user\\documents\\pja_mlops\\.venv\\lib\\site-packages (from nbformat) (2.21.1)\n",
      "Requirement already satisfied: jsonschema>=2.6 in c:\\users\\user\\documents\\pja_mlops\\.venv\\lib\\site-packages (from nbformat) (4.24.0)\n",
      "Requirement already satisfied: jupyter-core!=5.0.*,>=4.12 in c:\\users\\user\\documents\\pja_mlops\\.venv\\lib\\site-packages (from nbformat) (5.8.1)\n",
      "Requirement already satisfied: traitlets>=5.1 in c:\\users\\user\\documents\\pja_mlops\\.venv\\lib\\site-packages (from nbformat) (5.14.3)\n",
      "Requirement already satisfied: attrs>=22.2.0 in c:\\users\\user\\documents\\pja_mlops\\.venv\\lib\\site-packages (from jsonschema>=2.6->nbformat) (25.3.0)\n",
      "Requirement already satisfied: jsonschema-specifications>=2023.03.6 in c:\\users\\user\\documents\\pja_mlops\\.venv\\lib\\site-packages (from jsonschema>=2.6->nbformat) (2025.4.1)\n",
      "Requirement already satisfied: referencing>=0.28.4 in c:\\users\\user\\documents\\pja_mlops\\.venv\\lib\\site-packages (from jsonschema>=2.6->nbformat) (0.36.2)\n",
      "Requirement already satisfied: rpds-py>=0.7.1 in c:\\users\\user\\documents\\pja_mlops\\.venv\\lib\\site-packages (from jsonschema>=2.6->nbformat) (0.25.1)\n",
      "Requirement already satisfied: platformdirs>=2.5 in c:\\users\\user\\documents\\pja_mlops\\.venv\\lib\\site-packages (from jupyter-core!=5.0.*,>=4.12->nbformat) (4.3.8)\n",
      "Requirement already satisfied: pywin32>=300 in c:\\users\\user\\documents\\pja_mlops\\.venv\\lib\\site-packages (from jupyter-core!=5.0.*,>=4.12->nbformat) (310)\n",
      "Requirement already satisfied: typing-extensions>=4.4.0 in c:\\users\\user\\documents\\pja_mlops\\.venv\\lib\\site-packages (from referencing>=0.28.4->jsonschema>=2.6->nbformat) (4.14.0)\n",
      "Note: you may need to restart the kernel to use updated packages.\n"
     ]
    }
   ],
   "source": [
    "%pip install pandas plotly matplotlib\n",
    "%pip install -U nbformat"
   ]
  },
  {
   "cell_type": "code",
   "execution_count": 2,
   "id": "dd7f96a5",
   "metadata": {},
   "outputs": [
    {
     "name": "stdout",
     "output_type": "stream",
     "text": [
      "Note: you may need to restart the kernel to use updated packages.\n"
     ]
    }
   ],
   "source": [
    "%pip freeze > requirements.txt"
   ]
  },
  {
   "cell_type": "code",
   "execution_count": 3,
   "id": "e1c24cd8",
   "metadata": {},
   "outputs": [],
   "source": [
    "import json\n",
    "import pandas as pd\n",
    "import random\n",
    "from datetime import datetime, timedelta\n",
    "import matplotlib.pyplot as plt\n",
    "import plotly.express as px\n",
    "import numpy as np"
   ]
  },
  {
   "cell_type": "code",
   "execution_count": 4,
   "id": "61a8c4f9",
   "metadata": {},
   "outputs": [],
   "source": [
    "# UPDATE_PARTICIPANT_TO_ACTION,    // ACTION 참여자 수정(참여자 추가 및 삭제) 이벤트\n",
    "# CREATE_PROJECT_PROGRESS_ACTION,  // ACTION 생성 이벤트\n",
    "# DELETE_PROJECT_PROGRESS_ACTION,  // ACTION 삭제 이벤트\n",
    "# DONE_PROJECT_PROGRESS_ACTION     // ACTION 상태 완료로 변경이벤트"
   ]
  },
  {
   "cell_type": "code",
   "execution_count": 5,
   "id": "cf67302f",
   "metadata": {},
   "outputs": [
    {
     "name": "stdout",
     "output_type": "stream",
     "text": [
      "<class 'pandas.core.frame.DataFrame'>\n",
      "RangeIndex: 100 entries, 0 to 99\n",
      "Data columns (total 11 columns):\n",
      " #   Column                Non-Null Count  Dtype \n",
      "---  ------                --------------  ----- \n",
      " 0   event                 100 non-null    object\n",
      " 1   userId                100 non-null    object\n",
      " 2   username              100 non-null    object\n",
      " 3   timestamp             100 non-null    object\n",
      " 4   workspaceId           100 non-null    int64 \n",
      " 5   details.participants  100 non-null    object\n",
      " 6   details.state         100 non-null    object\n",
      " 7   details.name          100 non-null    object\n",
      " 8   details.importance    100 non-null    int64 \n",
      " 9   details.startDate     47 non-null     object\n",
      " 10  details.endDate       47 non-null     object\n",
      "dtypes: int64(2), object(9)\n",
      "memory usage: 8.7+ KB\n"
     ]
    }
   ],
   "source": [
    "LOG_DATA_PATH = \"data\\\\final_user-actions_dummy.json\"\n",
    "\n",
    "# 중첩 구조 평탄화해서 읽기\n",
    "with open(LOG_DATA_PATH, \"r\", encoding=\"utf-8\") as f:\n",
    "    data = json.load(f)\n",
    "    # data = [json.loads(line.strip()) for line in f if line.strip()]  # .jsonl일 때 읽어오는 방법\n",
    "    \n",
    "df = pd.json_normalize(data)\n",
    "df.info()"
   ]
  },
  {
   "cell_type": "code",
   "execution_count": 6,
   "id": "9af9436f",
   "metadata": {},
   "outputs": [
    {
     "data": {
      "text/html": [
       "<div>\n",
       "<style scoped>\n",
       "    .dataframe tbody tr th:only-of-type {\n",
       "        vertical-align: middle;\n",
       "    }\n",
       "\n",
       "    .dataframe tbody tr th {\n",
       "        vertical-align: top;\n",
       "    }\n",
       "\n",
       "    .dataframe thead th {\n",
       "        text-align: right;\n",
       "    }\n",
       "</style>\n",
       "<table border=\"1\" class=\"dataframe\">\n",
       "  <thead>\n",
       "    <tr style=\"text-align: right;\">\n",
       "      <th></th>\n",
       "      <th>event</th>\n",
       "      <th>userId</th>\n",
       "      <th>username</th>\n",
       "      <th>timestamp</th>\n",
       "      <th>workspaceId</th>\n",
       "      <th>details.participants</th>\n",
       "      <th>details.state</th>\n",
       "      <th>details.name</th>\n",
       "      <th>details.importance</th>\n",
       "      <th>details.startDate</th>\n",
       "      <th>details.endDate</th>\n",
       "    </tr>\n",
       "  </thead>\n",
       "  <tbody>\n",
       "    <tr>\n",
       "      <th>0</th>\n",
       "      <td>CREATE_PROJECT_PROGRESS_ACTION</td>\n",
       "      <td>3</td>\n",
       "      <td>testuser3</td>\n",
       "      <td>2025-06-09T23:46:31.072466Z</td>\n",
       "      <td>1</td>\n",
       "      <td>[{'userId': 3, 'username': 'testuser3'}, {'use...</td>\n",
       "      <td>IN_PROGRESS</td>\n",
       "      <td>배송 상태 추적</td>\n",
       "      <td>1</td>\n",
       "      <td>None</td>\n",
       "      <td>None</td>\n",
       "    </tr>\n",
       "    <tr>\n",
       "      <th>1</th>\n",
       "      <td>DONE_PROJECT_PROGRESS_ACTION</td>\n",
       "      <td>4</td>\n",
       "      <td>testuser4</td>\n",
       "      <td>2025-06-12T06:09:44.072507Z</td>\n",
       "      <td>1</td>\n",
       "      <td>[{'userId': 1, 'username': 'testuser1'}, {'use...</td>\n",
       "      <td>DONE</td>\n",
       "      <td>배송비 계산</td>\n",
       "      <td>1</td>\n",
       "      <td>2025-06-12T03:09:44.072507</td>\n",
       "      <td>2025-06-12T06:09:44.072507</td>\n",
       "    </tr>\n",
       "    <tr>\n",
       "      <th>2</th>\n",
       "      <td>DONE_PROJECT_PROGRESS_ACTION</td>\n",
       "      <td>1</td>\n",
       "      <td>testuser1</td>\n",
       "      <td>2025-06-10T06:09:44.072540Z</td>\n",
       "      <td>1</td>\n",
       "      <td>[{'userId': 1, 'username': 'testuser1'}, {'use...</td>\n",
       "      <td>DONE</td>\n",
       "      <td>결제 게이트웨이 연동</td>\n",
       "      <td>2</td>\n",
       "      <td>2025-06-07T06:09:44.072540</td>\n",
       "      <td>2025-06-10T06:09:44.072540</td>\n",
       "    </tr>\n",
       "    <tr>\n",
       "      <th>3</th>\n",
       "      <td>CREATE_PROJECT_PROGRESS_ACTION</td>\n",
       "      <td>2</td>\n",
       "      <td>testuser2</td>\n",
       "      <td>2025-05-29T07:23:58.072562Z</td>\n",
       "      <td>1</td>\n",
       "      <td>[{'userId': 4, 'username': 'testuser4'}, {'use...</td>\n",
       "      <td>BEFORE</td>\n",
       "      <td>상품 리뷰 표시</td>\n",
       "      <td>3</td>\n",
       "      <td>None</td>\n",
       "      <td>None</td>\n",
       "    </tr>\n",
       "    <tr>\n",
       "      <th>4</th>\n",
       "      <td>CREATE_PROJECT_PROGRESS_ACTION</td>\n",
       "      <td>3</td>\n",
       "      <td>testuser3</td>\n",
       "      <td>2025-06-15T00:53:50.072582Z</td>\n",
       "      <td>1</td>\n",
       "      <td>[{'userId': 2, 'username': 'testuser2'}, {'use...</td>\n",
       "      <td>BEFORE</td>\n",
       "      <td>알림 통계</td>\n",
       "      <td>5</td>\n",
       "      <td>None</td>\n",
       "      <td>None</td>\n",
       "    </tr>\n",
       "    <tr>\n",
       "      <th>...</th>\n",
       "      <td>...</td>\n",
       "      <td>...</td>\n",
       "      <td>...</td>\n",
       "      <td>...</td>\n",
       "      <td>...</td>\n",
       "      <td>...</td>\n",
       "      <td>...</td>\n",
       "      <td>...</td>\n",
       "      <td>...</td>\n",
       "      <td>...</td>\n",
       "      <td>...</td>\n",
       "    </tr>\n",
       "    <tr>\n",
       "      <th>95</th>\n",
       "      <td>CREATE_PROJECT_PROGRESS_ACTION</td>\n",
       "      <td>1</td>\n",
       "      <td>testuser1</td>\n",
       "      <td>2025-05-17T18:59:07.074155Z</td>\n",
       "      <td>1</td>\n",
       "      <td>[{'userId': 5, 'username': 'testuser5'}, {'use...</td>\n",
       "      <td>IN_PROGRESS</td>\n",
       "      <td>정렬 기능</td>\n",
       "      <td>5</td>\n",
       "      <td>None</td>\n",
       "      <td>None</td>\n",
       "    </tr>\n",
       "    <tr>\n",
       "      <th>96</th>\n",
       "      <td>DONE_PROJECT_PROGRESS_ACTION</td>\n",
       "      <td>2</td>\n",
       "      <td>testuser2</td>\n",
       "      <td>2025-06-12T06:09:44.074168Z</td>\n",
       "      <td>1</td>\n",
       "      <td>[{'userId': 4, 'username': 'testuser4'}, {'use...</td>\n",
       "      <td>DONE</td>\n",
       "      <td>KPI 모니터링</td>\n",
       "      <td>5</td>\n",
       "      <td>2025-06-07T06:09:44.074168</td>\n",
       "      <td>2025-06-12T06:09:44.074168</td>\n",
       "    </tr>\n",
       "    <tr>\n",
       "      <th>97</th>\n",
       "      <td>CREATE_PROJECT_PROGRESS_ACTION</td>\n",
       "      <td>3</td>\n",
       "      <td>testuser3</td>\n",
       "      <td>2025-05-31T22:31:09.074183Z</td>\n",
       "      <td>1</td>\n",
       "      <td>[{'userId': 1, 'username': 'testuser1'}, {'use...</td>\n",
       "      <td>IN_PROGRESS</td>\n",
       "      <td>성능 지표</td>\n",
       "      <td>1</td>\n",
       "      <td>None</td>\n",
       "      <td>None</td>\n",
       "    </tr>\n",
       "    <tr>\n",
       "      <th>98</th>\n",
       "      <td>DONE_PROJECT_PROGRESS_ACTION</td>\n",
       "      <td>1</td>\n",
       "      <td>testuser1</td>\n",
       "      <td>2025-06-10T06:09:44.074195Z</td>\n",
       "      <td>1</td>\n",
       "      <td>[{'userId': 2, 'username': 'testuser2'}, {'use...</td>\n",
       "      <td>DONE</td>\n",
       "      <td>실시간 통계</td>\n",
       "      <td>2</td>\n",
       "      <td>2025-06-04T06:09:44.074195</td>\n",
       "      <td>2025-06-10T06:09:44.074195</td>\n",
       "    </tr>\n",
       "    <tr>\n",
       "      <th>99</th>\n",
       "      <td>CREATE_PROJECT_PROGRESS_ACTION</td>\n",
       "      <td>4</td>\n",
       "      <td>testuser4</td>\n",
       "      <td>2025-05-18T09:41:15.074211Z</td>\n",
       "      <td>1</td>\n",
       "      <td>[{'userId': 3, 'username': 'testuser3'}, {'use...</td>\n",
       "      <td>BEFORE</td>\n",
       "      <td>데이터 시각화</td>\n",
       "      <td>2</td>\n",
       "      <td>None</td>\n",
       "      <td>None</td>\n",
       "    </tr>\n",
       "  </tbody>\n",
       "</table>\n",
       "<p>100 rows × 11 columns</p>\n",
       "</div>"
      ],
      "text/plain": [
       "                             event userId   username  \\\n",
       "0   CREATE_PROJECT_PROGRESS_ACTION      3  testuser3   \n",
       "1     DONE_PROJECT_PROGRESS_ACTION      4  testuser4   \n",
       "2     DONE_PROJECT_PROGRESS_ACTION      1  testuser1   \n",
       "3   CREATE_PROJECT_PROGRESS_ACTION      2  testuser2   \n",
       "4   CREATE_PROJECT_PROGRESS_ACTION      3  testuser3   \n",
       "..                             ...    ...        ...   \n",
       "95  CREATE_PROJECT_PROGRESS_ACTION      1  testuser1   \n",
       "96    DONE_PROJECT_PROGRESS_ACTION      2  testuser2   \n",
       "97  CREATE_PROJECT_PROGRESS_ACTION      3  testuser3   \n",
       "98    DONE_PROJECT_PROGRESS_ACTION      1  testuser1   \n",
       "99  CREATE_PROJECT_PROGRESS_ACTION      4  testuser4   \n",
       "\n",
       "                      timestamp  workspaceId  \\\n",
       "0   2025-06-09T23:46:31.072466Z            1   \n",
       "1   2025-06-12T06:09:44.072507Z            1   \n",
       "2   2025-06-10T06:09:44.072540Z            1   \n",
       "3   2025-05-29T07:23:58.072562Z            1   \n",
       "4   2025-06-15T00:53:50.072582Z            1   \n",
       "..                          ...          ...   \n",
       "95  2025-05-17T18:59:07.074155Z            1   \n",
       "96  2025-06-12T06:09:44.074168Z            1   \n",
       "97  2025-05-31T22:31:09.074183Z            1   \n",
       "98  2025-06-10T06:09:44.074195Z            1   \n",
       "99  2025-05-18T09:41:15.074211Z            1   \n",
       "\n",
       "                                 details.participants details.state  \\\n",
       "0   [{'userId': 3, 'username': 'testuser3'}, {'use...   IN_PROGRESS   \n",
       "1   [{'userId': 1, 'username': 'testuser1'}, {'use...          DONE   \n",
       "2   [{'userId': 1, 'username': 'testuser1'}, {'use...          DONE   \n",
       "3   [{'userId': 4, 'username': 'testuser4'}, {'use...        BEFORE   \n",
       "4   [{'userId': 2, 'username': 'testuser2'}, {'use...        BEFORE   \n",
       "..                                                ...           ...   \n",
       "95  [{'userId': 5, 'username': 'testuser5'}, {'use...   IN_PROGRESS   \n",
       "96  [{'userId': 4, 'username': 'testuser4'}, {'use...          DONE   \n",
       "97  [{'userId': 1, 'username': 'testuser1'}, {'use...   IN_PROGRESS   \n",
       "98  [{'userId': 2, 'username': 'testuser2'}, {'use...          DONE   \n",
       "99  [{'userId': 3, 'username': 'testuser3'}, {'use...        BEFORE   \n",
       "\n",
       "   details.name  details.importance           details.startDate  \\\n",
       "0      배송 상태 추적                   1                        None   \n",
       "1        배송비 계산                   1  2025-06-12T03:09:44.072507   \n",
       "2   결제 게이트웨이 연동                   2  2025-06-07T06:09:44.072540   \n",
       "3      상품 리뷰 표시                   3                        None   \n",
       "4         알림 통계                   5                        None   \n",
       "..          ...                 ...                         ...   \n",
       "95        정렬 기능                   5                        None   \n",
       "96     KPI 모니터링                   5  2025-06-07T06:09:44.074168   \n",
       "97        성능 지표                   1                        None   \n",
       "98       실시간 통계                   2  2025-06-04T06:09:44.074195   \n",
       "99      데이터 시각화                   2                        None   \n",
       "\n",
       "               details.endDate  \n",
       "0                         None  \n",
       "1   2025-06-12T06:09:44.072507  \n",
       "2   2025-06-10T06:09:44.072540  \n",
       "3                         None  \n",
       "4                         None  \n",
       "..                         ...  \n",
       "95                        None  \n",
       "96  2025-06-12T06:09:44.074168  \n",
       "97                        None  \n",
       "98  2025-06-10T06:09:44.074195  \n",
       "99                        None  \n",
       "\n",
       "[100 rows x 11 columns]"
      ]
     },
     "execution_count": 6,
     "metadata": {},
     "output_type": "execute_result"
    }
   ],
   "source": [
    "df"
   ]
  },
  {
   "cell_type": "code",
   "execution_count": 7,
   "id": "5a3f8ead",
   "metadata": {},
   "outputs": [
    {
     "name": "stdout",
     "output_type": "stream",
     "text": [
      "df['event'].unique():  ['CREATE_PROJECT_PROGRESS_ACTION' 'DONE_PROJECT_PROGRESS_ACTION']\n",
      "df['userId'].unique():  ['3' '4' '1' '2' '5']\n",
      "df['workspaceId'].unique():  [1]\n",
      "df['details.state'].unique():  ['IN_PROGRESS' 'DONE' 'BEFORE']\n",
      "df['details.importance'].unique():  [1 2 3 5 4]\n"
     ]
    }
   ],
   "source": [
    "# unique() 체크\n",
    "print(\"df['event'].unique(): \", df['event'].unique())\n",
    "print(\"df['userId'].unique(): \", df['userId'].unique())\n",
    "print(\"df['workspaceId'].unique(): \", df['workspaceId'].unique())\n",
    "\n",
    "print(\"df['details.state'].unique(): \", df['details.state'].unique())\n",
    "print(\"df['details.importance'].unique(): \", df['details.importance'].unique())"
   ]
  },
  {
   "cell_type": "code",
   "execution_count": 8,
   "id": "a1b322cd",
   "metadata": {},
   "outputs": [],
   "source": [
    "# # 유저별 df 분류\n",
    "df_user1 = df[df['userId'] == '1']\n",
    "df_user2 = df[df['userId'] == '2']\n",
    "df_user3 = df[df['userId'] == '3']\n",
    "df_user4 = df[df['userId'] == '4']\n",
    "df_user5 = df[df['userId'] == '5']"
   ]
  },
  {
   "cell_type": "code",
   "execution_count": 9,
   "id": "8572ae03",
   "metadata": {},
   "outputs": [
    {
     "name": "stdout",
     "output_type": "stream",
     "text": [
      "44\n",
      "27\n",
      "14\n",
      "7\n",
      "8\n"
     ]
    }
   ],
   "source": [
    "# 유저별 할당된 actions 갯수 확인\n",
    "print(len(df_user1))\n",
    "print(len(df_user2))\n",
    "print(len(df_user3))\n",
    "print(len(df_user4))\n",
    "print(len(df_user5))"
   ]
  },
  {
   "cell_type": "code",
   "execution_count": 10,
   "id": "5da43cd3",
   "metadata": {},
   "outputs": [],
   "source": [
    "# 1. 담당자 불균형 분석 -> Bar plot\n",
    "# - point columns = details.participants, details.importance\n",
    "# - 작업이 특정 개발자에게 몰리는가 -> userId별 분류 -> status별 분류 -> 시각화\n",
    "#   - status는 왜? 이미 진행 중인 작업이 많은 개발자에게 얼마나 더 할당되어 있는가\n",
    "# - 각 개발자가 맡은 업무의 중요도 분포는 어떻게 되는가\n",
    "# - status는 중요하지 않음, participants 체크가 중요"
   ]
  },
  {
   "cell_type": "code",
   "execution_count": 11,
   "id": "f0b44680",
   "metadata": {},
   "outputs": [],
   "source": [
    "grouped1 = df_user1.groupby(['userId', 'details.state', 'details.importance']).size().reset_index(name='count')\n",
    "grouped2 = df_user2.groupby(['userId', 'details.state', 'details.importance']).size().reset_index(name='count')\n",
    "grouped3 = df_user3.groupby(['userId', 'details.state', 'details.importance']).size().reset_index(name='count')\n",
    "grouped4 = df_user4.groupby(['userId', 'details.state', 'details.importance']).size().reset_index(name='count')\n",
    "grouped5 = df_user5.groupby(['userId', 'details.state', 'details.importance']).size().reset_index(name='count')"
   ]
  },
  {
   "cell_type": "code",
   "execution_count": 12,
   "id": "67b54e02",
   "metadata": {},
   "outputs": [
    {
     "data": {
      "text/html": [
       "<div>\n",
       "<style scoped>\n",
       "    .dataframe tbody tr th:only-of-type {\n",
       "        vertical-align: middle;\n",
       "    }\n",
       "\n",
       "    .dataframe tbody tr th {\n",
       "        vertical-align: top;\n",
       "    }\n",
       "\n",
       "    .dataframe thead th {\n",
       "        text-align: right;\n",
       "    }\n",
       "</style>\n",
       "<table border=\"1\" class=\"dataframe\">\n",
       "  <thead>\n",
       "    <tr style=\"text-align: right;\">\n",
       "      <th></th>\n",
       "      <th>userId</th>\n",
       "      <th>details.state</th>\n",
       "      <th>details.importance</th>\n",
       "      <th>count</th>\n",
       "    </tr>\n",
       "  </thead>\n",
       "  <tbody>\n",
       "    <tr>\n",
       "      <th>0</th>\n",
       "      <td>1</td>\n",
       "      <td>BEFORE</td>\n",
       "      <td>1</td>\n",
       "      <td>3</td>\n",
       "    </tr>\n",
       "    <tr>\n",
       "      <th>1</th>\n",
       "      <td>1</td>\n",
       "      <td>BEFORE</td>\n",
       "      <td>2</td>\n",
       "      <td>5</td>\n",
       "    </tr>\n",
       "    <tr>\n",
       "      <th>2</th>\n",
       "      <td>1</td>\n",
       "      <td>BEFORE</td>\n",
       "      <td>3</td>\n",
       "      <td>7</td>\n",
       "    </tr>\n",
       "    <tr>\n",
       "      <th>3</th>\n",
       "      <td>1</td>\n",
       "      <td>BEFORE</td>\n",
       "      <td>4</td>\n",
       "      <td>3</td>\n",
       "    </tr>\n",
       "    <tr>\n",
       "      <th>4</th>\n",
       "      <td>1</td>\n",
       "      <td>BEFORE</td>\n",
       "      <td>5</td>\n",
       "      <td>5</td>\n",
       "    </tr>\n",
       "    <tr>\n",
       "      <th>5</th>\n",
       "      <td>1</td>\n",
       "      <td>DONE</td>\n",
       "      <td>1</td>\n",
       "      <td>2</td>\n",
       "    </tr>\n",
       "    <tr>\n",
       "      <th>6</th>\n",
       "      <td>1</td>\n",
       "      <td>DONE</td>\n",
       "      <td>2</td>\n",
       "      <td>8</td>\n",
       "    </tr>\n",
       "    <tr>\n",
       "      <th>7</th>\n",
       "      <td>1</td>\n",
       "      <td>DONE</td>\n",
       "      <td>3</td>\n",
       "      <td>2</td>\n",
       "    </tr>\n",
       "    <tr>\n",
       "      <th>8</th>\n",
       "      <td>1</td>\n",
       "      <td>DONE</td>\n",
       "      <td>4</td>\n",
       "      <td>3</td>\n",
       "    </tr>\n",
       "    <tr>\n",
       "      <th>9</th>\n",
       "      <td>1</td>\n",
       "      <td>DONE</td>\n",
       "      <td>5</td>\n",
       "      <td>4</td>\n",
       "    </tr>\n",
       "    <tr>\n",
       "      <th>10</th>\n",
       "      <td>1</td>\n",
       "      <td>IN_PROGRESS</td>\n",
       "      <td>4</td>\n",
       "      <td>1</td>\n",
       "    </tr>\n",
       "    <tr>\n",
       "      <th>11</th>\n",
       "      <td>1</td>\n",
       "      <td>IN_PROGRESS</td>\n",
       "      <td>5</td>\n",
       "      <td>1</td>\n",
       "    </tr>\n",
       "  </tbody>\n",
       "</table>\n",
       "</div>"
      ],
      "text/plain": [
       "   userId details.state  details.importance  count\n",
       "0       1        BEFORE                   1      3\n",
       "1       1        BEFORE                   2      5\n",
       "2       1        BEFORE                   3      7\n",
       "3       1        BEFORE                   4      3\n",
       "4       1        BEFORE                   5      5\n",
       "5       1          DONE                   1      2\n",
       "6       1          DONE                   2      8\n",
       "7       1          DONE                   3      2\n",
       "8       1          DONE                   4      3\n",
       "9       1          DONE                   5      4\n",
       "10      1   IN_PROGRESS                   4      1\n",
       "11      1   IN_PROGRESS                   5      1"
      ]
     },
     "execution_count": 12,
     "metadata": {},
     "output_type": "execute_result"
    }
   ],
   "source": [
    "grouped1"
   ]
  },
  {
   "cell_type": "code",
   "execution_count": 13,
   "id": "34aaa88e",
   "metadata": {},
   "outputs": [
    {
     "data": {
      "application/vnd.plotly.v1+json": {
       "config": {
        "plotlyServerURL": "https://plot.ly"
       },
       "data": [
        {
         "hovertemplate": "details.state=%{x}<br>count=%{y}<br>details.importance=%{marker.color}<extra></extra>",
         "legendgroup": "",
         "marker": {
          "color": {
           "bdata": "AQIDBAUBAgMEBQQF",
           "dtype": "i1"
          },
          "coloraxis": "coloraxis",
          "pattern": {
           "shape": ""
          }
         },
         "name": "",
         "orientation": "v",
         "showlegend": false,
         "textposition": "auto",
         "type": "bar",
         "x": [
          "BEFORE",
          "BEFORE",
          "BEFORE",
          "BEFORE",
          "BEFORE",
          "DONE",
          "DONE",
          "DONE",
          "DONE",
          "DONE",
          "IN_PROGRESS",
          "IN_PROGRESS"
         ],
         "xaxis": "x",
         "y": {
          "bdata": "AwUHAwUCCAIDBAEB",
          "dtype": "i1"
         },
         "yaxis": "y"
        }
       ],
       "layout": {
        "barmode": "stack",
        "coloraxis": {
         "colorbar": {
          "title": {
           "text": "details.importance"
          }
         },
         "colorscale": [
          [
           0,
           "#0d0887"
          ],
          [
           0.1111111111111111,
           "#46039f"
          ],
          [
           0.2222222222222222,
           "#7201a8"
          ],
          [
           0.3333333333333333,
           "#9c179e"
          ],
          [
           0.4444444444444444,
           "#bd3786"
          ],
          [
           0.5555555555555556,
           "#d8576b"
          ],
          [
           0.6666666666666666,
           "#ed7953"
          ],
          [
           0.7777777777777778,
           "#fb9f3a"
          ],
          [
           0.8888888888888888,
           "#fdca26"
          ],
          [
           1,
           "#f0f921"
          ]
         ]
        },
        "legend": {
         "tracegroupgap": 0
        },
        "template": {
         "data": {
          "bar": [
           {
            "error_x": {
             "color": "#2a3f5f"
            },
            "error_y": {
             "color": "#2a3f5f"
            },
            "marker": {
             "line": {
              "color": "#E5ECF6",
              "width": 0.5
             },
             "pattern": {
              "fillmode": "overlay",
              "size": 10,
              "solidity": 0.2
             }
            },
            "type": "bar"
           }
          ],
          "barpolar": [
           {
            "marker": {
             "line": {
              "color": "#E5ECF6",
              "width": 0.5
             },
             "pattern": {
              "fillmode": "overlay",
              "size": 10,
              "solidity": 0.2
             }
            },
            "type": "barpolar"
           }
          ],
          "carpet": [
           {
            "aaxis": {
             "endlinecolor": "#2a3f5f",
             "gridcolor": "white",
             "linecolor": "white",
             "minorgridcolor": "white",
             "startlinecolor": "#2a3f5f"
            },
            "baxis": {
             "endlinecolor": "#2a3f5f",
             "gridcolor": "white",
             "linecolor": "white",
             "minorgridcolor": "white",
             "startlinecolor": "#2a3f5f"
            },
            "type": "carpet"
           }
          ],
          "choropleth": [
           {
            "colorbar": {
             "outlinewidth": 0,
             "ticks": ""
            },
            "type": "choropleth"
           }
          ],
          "contour": [
           {
            "colorbar": {
             "outlinewidth": 0,
             "ticks": ""
            },
            "colorscale": [
             [
              0,
              "#0d0887"
             ],
             [
              0.1111111111111111,
              "#46039f"
             ],
             [
              0.2222222222222222,
              "#7201a8"
             ],
             [
              0.3333333333333333,
              "#9c179e"
             ],
             [
              0.4444444444444444,
              "#bd3786"
             ],
             [
              0.5555555555555556,
              "#d8576b"
             ],
             [
              0.6666666666666666,
              "#ed7953"
             ],
             [
              0.7777777777777778,
              "#fb9f3a"
             ],
             [
              0.8888888888888888,
              "#fdca26"
             ],
             [
              1,
              "#f0f921"
             ]
            ],
            "type": "contour"
           }
          ],
          "contourcarpet": [
           {
            "colorbar": {
             "outlinewidth": 0,
             "ticks": ""
            },
            "type": "contourcarpet"
           }
          ],
          "heatmap": [
           {
            "colorbar": {
             "outlinewidth": 0,
             "ticks": ""
            },
            "colorscale": [
             [
              0,
              "#0d0887"
             ],
             [
              0.1111111111111111,
              "#46039f"
             ],
             [
              0.2222222222222222,
              "#7201a8"
             ],
             [
              0.3333333333333333,
              "#9c179e"
             ],
             [
              0.4444444444444444,
              "#bd3786"
             ],
             [
              0.5555555555555556,
              "#d8576b"
             ],
             [
              0.6666666666666666,
              "#ed7953"
             ],
             [
              0.7777777777777778,
              "#fb9f3a"
             ],
             [
              0.8888888888888888,
              "#fdca26"
             ],
             [
              1,
              "#f0f921"
             ]
            ],
            "type": "heatmap"
           }
          ],
          "histogram": [
           {
            "marker": {
             "pattern": {
              "fillmode": "overlay",
              "size": 10,
              "solidity": 0.2
             }
            },
            "type": "histogram"
           }
          ],
          "histogram2d": [
           {
            "colorbar": {
             "outlinewidth": 0,
             "ticks": ""
            },
            "colorscale": [
             [
              0,
              "#0d0887"
             ],
             [
              0.1111111111111111,
              "#46039f"
             ],
             [
              0.2222222222222222,
              "#7201a8"
             ],
             [
              0.3333333333333333,
              "#9c179e"
             ],
             [
              0.4444444444444444,
              "#bd3786"
             ],
             [
              0.5555555555555556,
              "#d8576b"
             ],
             [
              0.6666666666666666,
              "#ed7953"
             ],
             [
              0.7777777777777778,
              "#fb9f3a"
             ],
             [
              0.8888888888888888,
              "#fdca26"
             ],
             [
              1,
              "#f0f921"
             ]
            ],
            "type": "histogram2d"
           }
          ],
          "histogram2dcontour": [
           {
            "colorbar": {
             "outlinewidth": 0,
             "ticks": ""
            },
            "colorscale": [
             [
              0,
              "#0d0887"
             ],
             [
              0.1111111111111111,
              "#46039f"
             ],
             [
              0.2222222222222222,
              "#7201a8"
             ],
             [
              0.3333333333333333,
              "#9c179e"
             ],
             [
              0.4444444444444444,
              "#bd3786"
             ],
             [
              0.5555555555555556,
              "#d8576b"
             ],
             [
              0.6666666666666666,
              "#ed7953"
             ],
             [
              0.7777777777777778,
              "#fb9f3a"
             ],
             [
              0.8888888888888888,
              "#fdca26"
             ],
             [
              1,
              "#f0f921"
             ]
            ],
            "type": "histogram2dcontour"
           }
          ],
          "mesh3d": [
           {
            "colorbar": {
             "outlinewidth": 0,
             "ticks": ""
            },
            "type": "mesh3d"
           }
          ],
          "parcoords": [
           {
            "line": {
             "colorbar": {
              "outlinewidth": 0,
              "ticks": ""
             }
            },
            "type": "parcoords"
           }
          ],
          "pie": [
           {
            "automargin": true,
            "type": "pie"
           }
          ],
          "scatter": [
           {
            "fillpattern": {
             "fillmode": "overlay",
             "size": 10,
             "solidity": 0.2
            },
            "type": "scatter"
           }
          ],
          "scatter3d": [
           {
            "line": {
             "colorbar": {
              "outlinewidth": 0,
              "ticks": ""
             }
            },
            "marker": {
             "colorbar": {
              "outlinewidth": 0,
              "ticks": ""
             }
            },
            "type": "scatter3d"
           }
          ],
          "scattercarpet": [
           {
            "marker": {
             "colorbar": {
              "outlinewidth": 0,
              "ticks": ""
             }
            },
            "type": "scattercarpet"
           }
          ],
          "scattergeo": [
           {
            "marker": {
             "colorbar": {
              "outlinewidth": 0,
              "ticks": ""
             }
            },
            "type": "scattergeo"
           }
          ],
          "scattergl": [
           {
            "marker": {
             "colorbar": {
              "outlinewidth": 0,
              "ticks": ""
             }
            },
            "type": "scattergl"
           }
          ],
          "scattermap": [
           {
            "marker": {
             "colorbar": {
              "outlinewidth": 0,
              "ticks": ""
             }
            },
            "type": "scattermap"
           }
          ],
          "scattermapbox": [
           {
            "marker": {
             "colorbar": {
              "outlinewidth": 0,
              "ticks": ""
             }
            },
            "type": "scattermapbox"
           }
          ],
          "scatterpolar": [
           {
            "marker": {
             "colorbar": {
              "outlinewidth": 0,
              "ticks": ""
             }
            },
            "type": "scatterpolar"
           }
          ],
          "scatterpolargl": [
           {
            "marker": {
             "colorbar": {
              "outlinewidth": 0,
              "ticks": ""
             }
            },
            "type": "scatterpolargl"
           }
          ],
          "scatterternary": [
           {
            "marker": {
             "colorbar": {
              "outlinewidth": 0,
              "ticks": ""
             }
            },
            "type": "scatterternary"
           }
          ],
          "surface": [
           {
            "colorbar": {
             "outlinewidth": 0,
             "ticks": ""
            },
            "colorscale": [
             [
              0,
              "#0d0887"
             ],
             [
              0.1111111111111111,
              "#46039f"
             ],
             [
              0.2222222222222222,
              "#7201a8"
             ],
             [
              0.3333333333333333,
              "#9c179e"
             ],
             [
              0.4444444444444444,
              "#bd3786"
             ],
             [
              0.5555555555555556,
              "#d8576b"
             ],
             [
              0.6666666666666666,
              "#ed7953"
             ],
             [
              0.7777777777777778,
              "#fb9f3a"
             ],
             [
              0.8888888888888888,
              "#fdca26"
             ],
             [
              1,
              "#f0f921"
             ]
            ],
            "type": "surface"
           }
          ],
          "table": [
           {
            "cells": {
             "fill": {
              "color": "#EBF0F8"
             },
             "line": {
              "color": "white"
             }
            },
            "header": {
             "fill": {
              "color": "#C8D4E3"
             },
             "line": {
              "color": "white"
             }
            },
            "type": "table"
           }
          ]
         },
         "layout": {
          "annotationdefaults": {
           "arrowcolor": "#2a3f5f",
           "arrowhead": 0,
           "arrowwidth": 1
          },
          "autotypenumbers": "strict",
          "coloraxis": {
           "colorbar": {
            "outlinewidth": 0,
            "ticks": ""
           }
          },
          "colorscale": {
           "diverging": [
            [
             0,
             "#8e0152"
            ],
            [
             0.1,
             "#c51b7d"
            ],
            [
             0.2,
             "#de77ae"
            ],
            [
             0.3,
             "#f1b6da"
            ],
            [
             0.4,
             "#fde0ef"
            ],
            [
             0.5,
             "#f7f7f7"
            ],
            [
             0.6,
             "#e6f5d0"
            ],
            [
             0.7,
             "#b8e186"
            ],
            [
             0.8,
             "#7fbc41"
            ],
            [
             0.9,
             "#4d9221"
            ],
            [
             1,
             "#276419"
            ]
           ],
           "sequential": [
            [
             0,
             "#0d0887"
            ],
            [
             0.1111111111111111,
             "#46039f"
            ],
            [
             0.2222222222222222,
             "#7201a8"
            ],
            [
             0.3333333333333333,
             "#9c179e"
            ],
            [
             0.4444444444444444,
             "#bd3786"
            ],
            [
             0.5555555555555556,
             "#d8576b"
            ],
            [
             0.6666666666666666,
             "#ed7953"
            ],
            [
             0.7777777777777778,
             "#fb9f3a"
            ],
            [
             0.8888888888888888,
             "#fdca26"
            ],
            [
             1,
             "#f0f921"
            ]
           ],
           "sequentialminus": [
            [
             0,
             "#0d0887"
            ],
            [
             0.1111111111111111,
             "#46039f"
            ],
            [
             0.2222222222222222,
             "#7201a8"
            ],
            [
             0.3333333333333333,
             "#9c179e"
            ],
            [
             0.4444444444444444,
             "#bd3786"
            ],
            [
             0.5555555555555556,
             "#d8576b"
            ],
            [
             0.6666666666666666,
             "#ed7953"
            ],
            [
             0.7777777777777778,
             "#fb9f3a"
            ],
            [
             0.8888888888888888,
             "#fdca26"
            ],
            [
             1,
             "#f0f921"
            ]
           ]
          },
          "colorway": [
           "#636efa",
           "#EF553B",
           "#00cc96",
           "#ab63fa",
           "#FFA15A",
           "#19d3f3",
           "#FF6692",
           "#B6E880",
           "#FF97FF",
           "#FECB52"
          ],
          "font": {
           "color": "#2a3f5f"
          },
          "geo": {
           "bgcolor": "white",
           "lakecolor": "white",
           "landcolor": "#E5ECF6",
           "showlakes": true,
           "showland": true,
           "subunitcolor": "white"
          },
          "hoverlabel": {
           "align": "left"
          },
          "hovermode": "closest",
          "mapbox": {
           "style": "light"
          },
          "paper_bgcolor": "white",
          "plot_bgcolor": "#E5ECF6",
          "polar": {
           "angularaxis": {
            "gridcolor": "white",
            "linecolor": "white",
            "ticks": ""
           },
           "bgcolor": "#E5ECF6",
           "radialaxis": {
            "gridcolor": "white",
            "linecolor": "white",
            "ticks": ""
           }
          },
          "scene": {
           "xaxis": {
            "backgroundcolor": "#E5ECF6",
            "gridcolor": "white",
            "gridwidth": 2,
            "linecolor": "white",
            "showbackground": true,
            "ticks": "",
            "zerolinecolor": "white"
           },
           "yaxis": {
            "backgroundcolor": "#E5ECF6",
            "gridcolor": "white",
            "gridwidth": 2,
            "linecolor": "white",
            "showbackground": true,
            "ticks": "",
            "zerolinecolor": "white"
           },
           "zaxis": {
            "backgroundcolor": "#E5ECF6",
            "gridcolor": "white",
            "gridwidth": 2,
            "linecolor": "white",
            "showbackground": true,
            "ticks": "",
            "zerolinecolor": "white"
           }
          },
          "shapedefaults": {
           "line": {
            "color": "#2a3f5f"
           }
          },
          "ternary": {
           "aaxis": {
            "gridcolor": "white",
            "linecolor": "white",
            "ticks": ""
           },
           "baxis": {
            "gridcolor": "white",
            "linecolor": "white",
            "ticks": ""
           },
           "bgcolor": "#E5ECF6",
           "caxis": {
            "gridcolor": "white",
            "linecolor": "white",
            "ticks": ""
           }
          },
          "title": {
           "x": 0.05
          },
          "xaxis": {
           "automargin": true,
           "gridcolor": "white",
           "linecolor": "white",
           "ticks": "",
           "title": {
            "standoff": 15
           },
           "zerolinecolor": "white",
           "zerolinewidth": 2
          },
          "yaxis": {
           "automargin": true,
           "gridcolor": "white",
           "linecolor": "white",
           "ticks": "",
           "title": {
            "standoff": 15
           },
           "zerolinecolor": "white",
           "zerolinewidth": 2
          }
         }
        },
        "title": {
         "text": "담당자 불균형 분석"
        },
        "xaxis": {
         "anchor": "y",
         "domain": [
          0,
          1
         ],
         "title": {
          "text": "details.state"
         }
        },
        "yaxis": {
         "anchor": "x",
         "domain": [
          0,
          1
         ],
         "title": {
          "text": "count"
         }
        }
       }
      }
     },
     "metadata": {},
     "output_type": "display_data"
    }
   ],
   "source": [
    "fig = px.bar(\n",
    "    grouped1,\n",
    "    x='details.state',\n",
    "    y='count',\n",
    "    color='details.importance',\n",
    "    barmode='stack',\n",
    "    title='담당자 불균형 분석'\n",
    ")\n",
    "fig.show()\n"
   ]
  },
  {
   "cell_type": "code",
   "execution_count": 14,
   "id": "e8aea4a5",
   "metadata": {},
   "outputs": [],
   "source": [
    "json_temp = grouped1.to_dict(orient='records')\n",
    "\n",
    "with open(f\"data\\\\stat1-user1.json\", \"w\", encoding=\"utf-8\") as f:\n",
    "    json.dump(json_temp, f, ensure_ascii=False, indent=2)"
   ]
  }
 ],
 "metadata": {
  "kernelspec": {
   "display_name": ".venv",
   "language": "python",
   "name": "python3"
  },
  "language_info": {
   "codemirror_mode": {
    "name": "ipython",
    "version": 3
   },
   "file_extension": ".py",
   "mimetype": "text/x-python",
   "name": "python",
   "nbconvert_exporter": "python",
   "pygments_lexer": "ipython3",
   "version": "3.10.0"
  }
 },
 "nbformat": 4,
 "nbformat_minor": 5
}
