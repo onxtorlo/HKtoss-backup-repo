{
 "cells": [
  {
   "cell_type": "code",
   "execution_count": 3,
   "id": "b404c3b7",
   "metadata": {},
   "outputs": [
    {
     "data": {
      "text/plain": [
       "'c:\\\\Users\\\\user\\\\Documents\\\\pja_MLOps\\\\Task_recommend\\\\use_agent'"
      ]
     },
     "execution_count": 3,
     "metadata": {},
     "output_type": "execute_result"
    }
   ],
   "source": [
    "%pwd"
   ]
  },
  {
   "cell_type": "code",
   "execution_count": 1,
   "id": "e1d2c4bd",
   "metadata": {},
   "outputs": [],
   "source": [
    "import json"
   ]
  },
  {
   "cell_type": "code",
   "execution_count": 4,
   "id": "aef3ce8f",
   "metadata": {},
   "outputs": [],
   "source": [
    "JSON_FILE_PATH = \"..\\\\use_openai\\\\data\\\\id_added_dummy_data.json\""
   ]
  },
  {
   "cell_type": "code",
   "execution_count": 6,
   "id": "baf3f5be",
   "metadata": {},
   "outputs": [
    {
     "name": "stdout",
     "output_type": "stream",
     "text": [
      "[26, 93, 36, 50, 16, 30, 63, 91, 99, 52, 94, 55, 13, 61, 14, 71, 35, 50, 52, 49, 91, 19, 79, 12, 70, 48, 48, 76, 53, 5, 88, 54, 98, 45, 61, 14, 93, 7, 58, 22, 86, 9, 59, 72, 52, 98, 67, 20, 31, 76, 62, 80, 45, 85, 67, 100, 80, 37, 11, 78, 96, 39, 65, 36, 49, 44, 42, 75, 28, 86, 43, 96, 57, 1, 39, 10, 67, 22, 54, 81, 11, 63, 55, 4, 75, 77, 95, 52, 42, 68, 24, 95, 26, 13, 43, 94, 64, 93, 87, 24, 91, 100, 11, 72, 49, 69, 37, 62, 72, 49, 3, 24, 3, 13, 93, 41, 9, 72, 38, 28, 45, 81, 15, 58, 75, 88, 23, 40, 12, 93, 62, 86, 6, 48, 45, 4, 91, 14, 89, 59, 81, 99, 35, 87, 88, 80, 56, 74, 4, 87, 79, 38, 95, 84, 91, 8, 78, 24, 77, 30, 79, 11, 21, 10, 30, 6, 92, 47, 43, 3, 92, 27, 31, 87, 97, 98, 63, 63, 53, 85, 1, 42, 7, 35, 42, 84, 6, 36, 6, 30, 30, 77, 74, 55, 8, 90, 22, 37, 72, 99, 92, 78, 90, 64, 37, 31, 72, 76, 13, 9, 92, 97, 42, 87, 92, 90, 65, 88, 9, 89, 82, 52, 67, 71, 79, 35, 10, 37, 77, 14, 45, 49, 97, 98, 60, 2, 41, 21, 65, 12, 20, 31, 82, 13, 96, 18, 49, 62, 81, 80, 87, 67, 66, 97, 73, 11, 34, 12, 72, 36, 78, 97, 18, 36, 7, 11, 25, 82, 24, 63, 59, 75, 85, 19, 43, 9, 65, 19, 65, 39, 95, 99, 78, 57, 32, 92, 100, 10, 69, 71, 55, 64, 65, 14, 55, 1, 60, 96, 57, 76, 46, 78, 53, 26, 14, 56, 18, 5, 59, 3, 22, 93, 68, 52, 32, 56, 44, 55, 8, 40, 69, 72, 7, 94, 38, 83, 86, 66, 15, 37, 26, 77, 64, 94, 11, 30, 74, 28, 73, 85, 6, 77, 99, 10, 46, 70, 64, 85, 12, 67, 35, 72, 9, 14, 20, 25, 79, 28, 43, 49, 63, 36, 80, 88, 30, 8, 50, 79, 52, 89, 95, 94, 5, 30, 80, 38, 60, 77, 15, 18, 52, 4, 70, 72, 49, 26, 39, 62, 74, 22, 42, 18, 99, 2, 34, 77, 87, 66, 58, 41, 37, 30, 21, 49, 55, 51]\n"
     ]
    }
   ],
   "source": [
    "def extract_values_by_key(obj, key):\n",
    "    values = []\n",
    "\n",
    "    if isinstance(obj, dict):\n",
    "        for k, v in obj.items():\n",
    "            if k == key:\n",
    "                values.append(v)\n",
    "            values.extend(extract_values_by_key(v, key))\n",
    "    elif isinstance(obj, list):\n",
    "        for item in obj:\n",
    "            values.extend(extract_values_by_key(item, key))\n",
    "\n",
    "    return values\n",
    "\n",
    "# 사용 예시\n",
    "with open(JSON_FILE_PATH, \"r\", encoding=\"utf-8\") as f:\n",
    "    data = json.load(f)\n",
    "\n",
    "target_key = \"featureId\"\n",
    "results = extract_values_by_key(data, target_key)\n",
    "\n",
    "print(results)"
   ]
  },
  {
   "cell_type": "code",
   "execution_count": 7,
   "id": "a24cf9ed",
   "metadata": {},
   "outputs": [
    {
     "data": {
      "text/plain": [
       "406"
      ]
     },
     "execution_count": 7,
     "metadata": {},
     "output_type": "execute_result"
    }
   ],
   "source": [
    "len(results)"
   ]
  },
  {
   "cell_type": "code",
   "execution_count": 8,
   "id": "bb870e20",
   "metadata": {},
   "outputs": [],
   "source": [
    "with open(\"featureId.txt\", \"w\", encoding=\"utf-8\") as f:\n",
    "    for item in results:\n",
    "        f.write(str(item) + \"\\n\")"
   ]
  },
  {
   "cell_type": "code",
   "execution_count": null,
   "id": "91df9cec",
   "metadata": {},
   "outputs": [],
   "source": []
  }
 ],
 "metadata": {
  "kernelspec": {
   "display_name": ".venv",
   "language": "python",
   "name": "python3"
  },
  "language_info": {
   "codemirror_mode": {
    "name": "ipython",
    "version": 3
   },
   "file_extension": ".py",
   "mimetype": "text/x-python",
   "name": "python",
   "nbconvert_exporter": "python",
   "pygments_lexer": "ipython3",
   "version": "3.10.0"
  }
 },
 "nbformat": 4,
 "nbformat_minor": 5
}
