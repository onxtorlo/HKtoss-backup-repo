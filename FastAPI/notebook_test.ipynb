{
 "cells": [
  {
   "cell_type": "code",
   "execution_count": null,
   "id": "c8abeff4",
   "metadata": {},
   "outputs": [],
   "source": [
    "# !pip install -r requirements.txt"
   ]
  },
  {
   "cell_type": "code",
   "execution_count": 25,
   "id": "3e0323c8",
   "metadata": {},
   "outputs": [
    {
     "name": "stdout",
     "output_type": "stream",
     "text": [
      "Note: you may need to restart the kernel to use updated packages.\n"
     ]
    },
    {
     "name": "stderr",
     "output_type": "stream",
     "text": [
      "ERROR: Could not find a version that satisfies the requirement pprint (from versions: none)\n",
      "ERROR: No matching distribution found for pprint\n"
     ]
    }
   ],
   "source": [
    "pip install pprint"
   ]
  },
  {
   "cell_type": "code",
   "execution_count": 26,
   "id": "d563445a",
   "metadata": {},
   "outputs": [],
   "source": [
    "import dotenv\n",
    "import os\n",
    "import openai\n",
    "import json\n",
    "import pandas as pd\n",
    "import sys\n",
    "import requests\n",
    "import re\n",
    "import pprint\n",
    "# .env 파일 로드 (있다면)\n",
    "dotenv.load_dotenv()\n",
    "OPENAI_API_KEY = os.getenv(\"OPENAI_API_KEY\") \n",
    "SLACK_URL = os.getenv(\"SLACK_URL\")"
   ]
  },
  {
   "cell_type": "code",
   "execution_count": 4,
   "id": "3c482658",
   "metadata": {},
   "outputs": [],
   "source": [
    "# 작업 종료 후 slack으로 메신저 보내기기\n",
    "def send_msg(msg):\n",
    "    url = SLACK_URL\n",
    "    message = (msg + \" 작업 완료\") \n",
    "    title = (f\"New Incoming Message :zap:\") # 타이틀 입력\n",
    "    slack_data = {\n",
    "        \"username\": \"NotificationBot\", # 보내는 사람 이름\n",
    "        \"icon_emoji\": \":satellite:\",\n",
    "        #\"channel\" : \"#somerandomcahnnel\",\n",
    "        \"attachments\": [\n",
    "            {\n",
    "                \"color\": \"#9733EE\",\n",
    "                \"fields\": [\n",
    "                    {\n",
    "                        \"title\": title,\n",
    "                        \"value\": message,\n",
    "                        \"short\": \"false\",\n",
    "                    }\n",
    "                ]\n",
    "            }\n",
    "        ]\n",
    "    }\n",
    "    byte_length = str(sys.getsizeof(slack_data))\n",
    "    headers = {'Content-Type': \"application/json\", 'Content-Length': byte_length}\n",
    "    response = requests.post(url, data=json.dumps(slack_data), headers=headers)\n",
    "    if response.status_code != 200:\n",
    "        raise Exception(response.status_code, response.text)"
   ]
  },
  {
   "cell_type": "code",
   "execution_count": null,
   "id": "99cf51aa",
   "metadata": {},
   "outputs": [],
   "source": [
    "# 내용 받았다고 가정\n",
    "## 나중에 백엔드에서 requests.get 형식으로 내용 받아서 작성 필요\n",
    "### 여기선 테스트로 1개의 데이터로만 진행\n",
    "df = pd.read_csv(\"data_detail.csv\")\n",
    "\n",
    "user_df = pd.read_csv(\"data_user_detail_plus.csv\")\n",
    "\n",
    "user_data = user_df['user_data'].tolist()[0]\n",
    "text = df['text'].to_list()[0]\n",
    "content = df['detail'].to_list()[0]"
   ]
  },
  {
   "cell_type": "code",
   "execution_count": 41,
   "id": "09dac055",
   "metadata": {},
   "outputs": [
    {
     "name": "stdout",
     "output_type": "stream",
     "text": [
      "[{'projectName': 'StudyHub', 'projectTarget': '대학생 및 자격증 준비생', 'mainFunction': ['스터디 그룹 생성 및 관리', '퀴즈 생성 및 참여 기능', '공지사항 및 과제 게시판'], 'techStack': ['Java Servlet', 'JSP', 'MySQL'], 'projectDescription': 'GQ 서비스는 학습 중심의 스터디 그룹 운영을 지원하는 웹 플랫폼으로, 단순한 그룹 관리에서 나아가 그룹 내 학습 내용을 복습할 수 있는 기능을 제공하여 학습 효과를 극대화하는 것을 목표로 한다. 사용자들은 회원가입과 로그인을 통해 서비스를 이용할 수 있으며, 아이디 및 비밀번호 찾기 기능으로 편의성을 높였다. 사용자는 새로운 스터디 그룹을 생성하거나 기존 그룹을 검색해 가입할 수 있으며, 그룹 내에서는 퀴즈를 생성하고 참여하여 학습한 내용을 효과적으로 반복 학습할 수 있다. 또한 공지사항 게시판을 통해 그룹 내 전달사항을 공유할 수 있고, 과제 게시판은 체크리스트 형태로 구성되어 과제 수행 여부를 명확히 기록할 수 있다. 이러한 기능들은 사용자 간의 소통을 강화하고 학습 동기를 부여하는 데 기여한다. 서비스는 Java Servlet과 JSP 기반으로 구현되었으며, HTML, CSS, JavaScript를 통해 사용자 친화적인 인터페이스를 제공한다. 데이터베이스는 MySQL을 사용하여 안정적인 데이터 저장과 처리를 가능하게 하며, 전반적인 시스템은 학습 관리에 최적화된 구조로 설계되었다.'}]\n"
     ]
    }
   ],
   "source": [
    "print(user_data)"
   ]
  },
  {
   "cell_type": "code",
   "execution_count": 42,
   "id": "b6eb961c",
   "metadata": {},
   "outputs": [
    {
     "name": "stdout",
     "output_type": "stream",
     "text": [
      "[{'requirementType': 'FUNCTIONAL1', 'content': '사용자는 회원가입 시 이메일 인증을 통해 계정을 활성화할 수 있어야 한다.'}, {'requirementType': 'FUNCTIONAL2', 'content': '사용자는 스터디 그룹 내에서 퀴즈를 생성하고, 생성된 퀴즈에 대해 다른 사용자들이 참여할 수 있어야 한다.'}, {'requirementType': 'FUNCTIONAL3', 'content': '사용자는 과제 게시판에서 각 과제의 수행 여부를 체크리스트 형태로 기록하고 관리할 수 있어야 한다.'}, {'requirementType': 'PERFORMANCE1', 'content': '시스템은 사용자 요청에 대한 응답을 평균 2초 이내에 처리해야 한다.'}, {'requirementType': 'PERFORMANCE2', 'content': '시스템은 동시에 최대 100명의 사용자가 접속하더라도 95% 이상의 가용성을 유지해야 한다.'}, {'requirementType': 'PERFORMANCE3', 'content': '데이터베이스는 1초 이내에 1000건의 퀴즈 데이터를 검색할 수 있어야 한다.'}]\n"
     ]
    }
   ],
   "source": [
    "print(content)"
   ]
  },
  {
   "cell_type": "code",
   "execution_count": null,
   "id": "5a68acef",
   "metadata": {},
   "outputs": [],
   "source": [
    "client = openai.OpenAI()\n",
    "\n",
    "# 최적화된 시스템 프롬프트\n",
    "OPTIMIZED_SYSTEM_PROMPT = \"\"\"\n",
    "당신은 소프트웨어 프로젝트의 요구사항 분석 전문가입니다.\n",
    "주어진 프로젝트 개요를 바탕으로 현실적이고 구체적인 기능 요구사항과 성능 요구사항을 생성하는 것이 목표입니다.\n",
    "\n",
    "생성 규칙:\n",
    "1. 기능 요구사항(FUNCTIONAL): 사용자 관점에서 시스템이 제공해야 하는 구체적인 기능\n",
    "2. 성능 요구사항(PERFORMANCE): 시스템의 응답시간, 처리량, 가용성, 확장성 등 측정 가능한 수치 포함\n",
    "3. 각 요구사항은 명확하고 구현 가능하며 테스트 가능해야 함\n",
    "4. 프로젝트 규모와 성격에 적합한 현실적인 수준이어야 함\n",
    "5. 반드시 지정된 JSON 형식으로만 응답할 것\n",
    "\"\"\"\n",
    "\n",
    "# 파인튜닝된 모델 ID\n",
    "MODEL_ID = 'gpt-4o-mini'\n",
    "\n",
    "def detail_plus(project_overview,existing_requirements, additional_count = 5):\n",
    "  # 구조화된 요청 프롬프트 (f-string 사용하지 않음)\n",
    "    enhanced_prompt = f\"\"\"\n",
    "\n",
    "    프로젝트 주제 및 입력사항:\n",
    "    {project_overview}\n",
    "\n",
    "    기존 요구사항 목록:\n",
    "    {existing_requirements}\n",
    "\n",
    "    위 기존 주제와 요구사항들을 참고하여 추가 요구사항을 생성해주세요\n",
    "    또한 이렇게 생성된 요구사항은 원래의 **'기존 요구사항 목록'**에 추가시켜서 정렬 후 출력하세요:\n",
    "\n",
    "    **생성 조건:**\n",
    "    - 기존 주제와 요구사항과 일관성을 유지하면서 새로운 {additional_count}개의 요구사항 생성\n",
    "    - 기존 주제와 요구사항의 도메인과 맥락을 고려\n",
    "    - 기능 주제와 요구사항과 성능 요구사항을 적절히 혼합\n",
    "    - 기존 요구사항과 중복되지 않는 새로운 관점의 요구사항\n",
    "\n",
    "    **중요: 반드시 아래 JSON 형식으로만 응답하세요. 다른 텍스트, 설명, 주석은 절대 포함하지 마세요.**\n",
    "\n",
    "    JSON 형식:\n",
    "    [\n",
    "      {{\"requirementType\": \"FUNCTIONAL1\", \"content\": \"구체적인 기능 요구사항\"}},\n",
    "      {{\"requirementType\": \"FUNCTIONAL2\", \"content\": \"구체적인 기능 요구사항\"}},\n",
    "      {{\"requirementType\": \"FUNCTIONAL3\", \"content\": \"구체적인 기능 요구사항\"}},\n",
    "      {{\"requirementType\": \"PERFORMANCE2\", \"content\": \"구체적인 성능 요구사항 (수치 포함)\"}},\n",
    "      {{\"requirementType\": \"PERFORMANCE1\", \"content\": \"구체적인 성능 요구사항 (수치 포함)\"}}\n",
    "    ]\n",
    "\n",
    "    응답은 반드시 위 JSON 배열로만 시작하고 끝나야 합니다.\n",
    "    \"\"\"\n",
    "    try:\n",
    "        response = client.chat.completions.create(\n",
    "            model=MODEL_ID,\n",
    "            messages=[\n",
    "                {\"role\": \"system\", \"content\": OPTIMIZED_SYSTEM_PROMPT},\n",
    "                {\"role\": \"user\", \"content\": enhanced_prompt}\n",
    "            ],\n",
    "            max_tokens=4000,\n",
    "            temperature=0.3\n",
    "        )\n",
    "        \n",
    "        return response.choices[0].message.content\n",
    "        \n",
    "    except Exception as e:\n",
    "        return f\"오류 발생: {e}\""
   ]
  },
  {
   "cell_type": "code",
   "execution_count": 49,
   "id": "f1a5f61b",
   "metadata": {},
   "outputs": [
    {
     "name": "stdout",
     "output_type": "stream",
     "text": [
      "[{'requirementType': 'FUNCTIONAL1', 'content': '사용자는 회원가입 시 이메일 인증을 통해 계정을 활성화할 수 있어야 한다.'}, {'requirementType': 'FUNCTIONAL2', 'content': '사용자는 스터디 그룹 내에서 퀴즈를 생성하고, 생성된 퀴즈에 대해 다른 사용자들이 참여할 수 있어야 한다.'}, {'requirementType': 'FUNCTIONAL3', 'content': '사용자는 과제 게시판에서 각 과제의 수행 여부를 체크리스트 형태로 기록하고 관리할 수 있어야 한다.'}, {'requirementType': 'FUNCTIONAL4', 'content': '사용자는 스터디 그룹 내에서 공지사항을 작성하고, 다른 사용자들이 이를 열람할 수 있어야 한다.'}, {'requirementType': 'FUNCTIONAL5', 'content': '사용자는 자신의 프로필을 수정하고, 프로필 사진을 업로드할 수 있어야 한다.'}, {'requirementType': 'FUNCTIONAL6', 'content': '사용자는 퀴즈 참여 후 결과를 확인하고, 자신의 성적을 기록할 수 있어야 한다.'}, {'requirementType': 'PERFORMANCE1', 'content': '시스템은 사용자 요청에 대한 응답을 평균 2초 이내에 처리해야 한다.'}, {'requirementType': 'PERFORMANCE2', 'content': '시스템은 동시에 최대 100명의 사용자가 접속하더라도 95% 이상의 가용성을 유지해야 한다.'}, {'requirementType': 'PERFORMANCE3', 'content': '데이터베이스는 1초 이내에 1000건의 퀴즈 데이터를 검색할 수 있어야 한다.'}, {'requirementType': 'PERFORMANCE4', 'content': '시스템은 1분당 최대 500건의 퀴즈 생성 요청을 처리할 수 있어야 한다.'}, {'requirementType': 'PERFORMANCE5', 'content': '시스템의 평균 응답 시간은 1초 이내로 유지되어야 하며, 95%의 요청은 1.5초 이내에 처리되어야 한다.'}]\n"
     ]
    }
   ],
   "source": [
    "result = json.loads(detail_plus(user_data, content))\n",
    "print(result)\n",
    "send_msg(\"LLM\")"
   ]
  },
  {
   "cell_type": "code",
   "execution_count": 1,
   "id": "bf398d52",
   "metadata": {},
   "outputs": [
    {
     "name": "stdout",
     "output_type": "stream",
     "text": [
      "Collecting fastapi==0.104.1 (from -r requirements.txt (line 1))\n",
      "  Downloading fastapi-0.104.1-py3-none-any.whl.metadata (24 kB)\n",
      "Collecting uvicorn==0.24.0 (from uvicorn[standard]==0.24.0->-r requirements.txt (line 2))\n",
      "  Downloading uvicorn-0.24.0-py3-none-any.whl.metadata (6.4 kB)\n",
      "Collecting langchain-community==0.0.38 (from -r requirements.txt (line 3))\n",
      "  Downloading langchain_community-0.0.38-py3-none-any.whl.metadata (8.7 kB)\n",
      "Collecting langchain==0.0.352 (from -r requirements.txt (line 4))\n",
      "  Downloading langchain-0.0.352-py3-none-any.whl.metadata (13 kB)\n",
      "Collecting openai==1.3.8 (from -r requirements.txt (line 5))\n",
      "  Downloading openai-1.3.8-py3-none-any.whl.metadata (17 kB)\n",
      "Collecting python-dotenv==1.0.0 (from -r requirements.txt (line 6))\n",
      "  Downloading python_dotenv-1.0.0-py3-none-any.whl.metadata (21 kB)\n",
      "Collecting pydantic==2.5.0 (from -r requirements.txt (line 7))\n",
      "  Downloading pydantic-2.5.0-py3-none-any.whl.metadata (174 kB)\n",
      "     ---------------------------------------- 0.0/174.6 kB ? eta -:--:--\n",
      "     -------------------------------------- 174.6/174.6 kB 5.1 MB/s eta 0:00:00\n",
      "Collecting pandas==2.1.4 (from -r requirements.txt (line 8))\n",
      "  Downloading pandas-2.1.4-cp311-cp311-win_amd64.whl.metadata (18 kB)\n",
      "Collecting anyio<4.0.0,>=3.7.1 (from fastapi==0.104.1->-r requirements.txt (line 1))\n",
      "  Downloading anyio-3.7.1-py3-none-any.whl.metadata (4.7 kB)\n",
      "Collecting starlette<0.28.0,>=0.27.0 (from fastapi==0.104.1->-r requirements.txt (line 1))\n",
      "  Downloading starlette-0.27.0-py3-none-any.whl.metadata (5.8 kB)\n",
      "Requirement already satisfied: typing-extensions>=4.8.0 in c:\\users\\mir96\\anaconda3\\lib\\site-packages (from fastapi==0.104.1->-r requirements.txt (line 1)) (4.13.2)\n",
      "Requirement already satisfied: click>=7.0 in c:\\users\\mir96\\anaconda3\\lib\\site-packages (from uvicorn==0.24.0->uvicorn[standard]==0.24.0->-r requirements.txt (line 2)) (8.1.7)\n",
      "Requirement already satisfied: h11>=0.8 in c:\\users\\mir96\\anaconda3\\lib\\site-packages (from uvicorn==0.24.0->uvicorn[standard]==0.24.0->-r requirements.txt (line 2)) (0.16.0)\n",
      "Requirement already satisfied: PyYAML>=5.3 in c:\\users\\mir96\\anaconda3\\lib\\site-packages (from langchain-community==0.0.38->-r requirements.txt (line 3)) (6.0.1)\n",
      "Requirement already satisfied: SQLAlchemy<3,>=1.4 in c:\\users\\mir96\\anaconda3\\lib\\site-packages (from langchain-community==0.0.38->-r requirements.txt (line 3)) (2.0.25)\n",
      "Requirement already satisfied: aiohttp<4.0.0,>=3.8.3 in c:\\users\\mir96\\anaconda3\\lib\\site-packages (from langchain-community==0.0.38->-r requirements.txt (line 3)) (3.9.3)\n",
      "Requirement already satisfied: dataclasses-json<0.7,>=0.5.7 in c:\\users\\mir96\\anaconda3\\lib\\site-packages (from langchain-community==0.0.38->-r requirements.txt (line 3)) (0.6.7)\n",
      "Collecting langchain-core<0.2.0,>=0.1.52 (from langchain-community==0.0.38->-r requirements.txt (line 3))\n",
      "  Downloading langchain_core-0.1.53-py3-none-any.whl.metadata (5.9 kB)\n",
      "Collecting langsmith<0.2.0,>=0.1.0 (from langchain-community==0.0.38->-r requirements.txt (line 3))\n",
      "  Downloading langsmith-0.1.147-py3-none-any.whl.metadata (14 kB)\n",
      "Requirement already satisfied: numpy<2,>=1 in c:\\users\\mir96\\anaconda3\\lib\\site-packages (from langchain-community==0.0.38->-r requirements.txt (line 3)) (1.26.4)\n",
      "Requirement already satisfied: requests<3,>=2 in c:\\users\\mir96\\anaconda3\\lib\\site-packages (from langchain-community==0.0.38->-r requirements.txt (line 3)) (2.31.0)\n",
      "Collecting tenacity<9.0.0,>=8.1.0 (from langchain-community==0.0.38->-r requirements.txt (line 3))\n",
      "  Downloading tenacity-8.5.0-py3-none-any.whl.metadata (1.2 kB)\n",
      "Requirement already satisfied: jsonpatch<2.0,>=1.33 in c:\\users\\mir96\\anaconda3\\lib\\site-packages (from langchain==0.0.352->-r requirements.txt (line 4)) (1.33)\n",
      "INFO: pip is looking at multiple versions of langchain to determine which version is compatible with other requirements. This could take a while.\n",
      "\n",
      "The conflict is caused by:\n",
      "    langchain-community 0.0.38 depends on langsmith<0.2.0 and >=0.1.0\n",
      "    langchain 0.0.352 depends on langsmith<0.1.0 and >=0.0.70\n",
      "\n",
      "To fix this you could try to:\n",
      "1. loosen the range of package versions you've specified\n",
      "2. remove package versions to allow pip attempt to solve the dependency conflict\n",
      "\n"
     ]
    },
    {
     "name": "stderr",
     "output_type": "stream",
     "text": [
      "ERROR: Cannot install -r requirements.txt (line 3) and -r requirements.txt (line 4) because these package versions have conflicting dependencies.\n",
      "ERROR: ResolutionImpossible: for help visit https://pip.pypa.io/en/latest/topics/dependency-resolution/#dealing-with-dependency-conflicts\n"
     ]
    }
   ],
   "source": [
    "!pip install -r requirements.txt"
   ]
  },
  {
   "cell_type": "code",
   "execution_count": null,
   "id": "a9e621cf",
   "metadata": {},
   "outputs": [],
   "source": []
  }
 ],
 "metadata": {
  "kernelspec": {
   "display_name": "base",
   "language": "python",
   "name": "python3"
  },
  "language_info": {
   "codemirror_mode": {
    "name": "ipython",
    "version": 3
   },
   "file_extension": ".py",
   "mimetype": "text/x-python",
   "name": "python",
   "nbconvert_exporter": "python",
   "pygments_lexer": "ipython3",
   "version": "3.11.7"
  }
 },
 "nbformat": 4,
 "nbformat_minor": 5
}
