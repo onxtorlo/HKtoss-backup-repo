{
 "cells": [
  {
   "cell_type": "code",
   "execution_count": 1,
   "id": "64aab997",
   "metadata": {},
   "outputs": [],
   "source": [
    "import pandas\n",
    "import openai\n",
    "import pandas as pd\n",
    "import numpy as np\n",
    "import matplotlib.pyplot as plt\n",
    "import slack_alarm\n",
    "import requests\n",
    "\n",
    "# slack 알람 사용법\n",
    "# slack_alarm.send_notification(\"CSV 파일 처리\")"
   ]
  },
  {
   "cell_type": "code",
   "execution_count": 2,
   "id": "8ed1a04c",
   "metadata": {},
   "outputs": [
    {
     "data": {
      "text/html": [
       "<div>\n",
       "<style scoped>\n",
       "    .dataframe tbody tr th:only-of-type {\n",
       "        vertical-align: middle;\n",
       "    }\n",
       "\n",
       "    .dataframe tbody tr th {\n",
       "        vertical-align: top;\n",
       "    }\n",
       "\n",
       "    .dataframe thead th {\n",
       "        text-align: right;\n",
       "    }\n",
       "</style>\n",
       "<table border=\"1\" class=\"dataframe\">\n",
       "  <thead>\n",
       "    <tr style=\"text-align: right;\">\n",
       "      <th></th>\n",
       "      <th>text</th>\n",
       "      <th>user_data</th>\n",
       "      <th>detail</th>\n",
       "      <th>contents</th>\n",
       "      <th>ERD_data</th>\n",
       "      <th>relationships_data</th>\n",
       "      <th>API_specs_data</th>\n",
       "    </tr>\n",
       "  </thead>\n",
       "  <tbody>\n",
       "    <tr>\n",
       "      <th>0</th>\n",
       "      <td>GQ 서비스는 학습 중심의 스터디 그룹 운영을 지원하는 웹 플랫폼으로, 단순한 그룹...</td>\n",
       "      <td>[{'projectName': 'StudyHub', 'projectTarget': ...</td>\n",
       "      <td>[{'requirementType': 'FUNCTIONAL1', 'content':...</td>\n",
       "      <td>{'project_summary': {'title': 'GQ 서비스', 'categ...</td>\n",
       "      <td>[{'name': 'User', 'attributes': [{'name': 'use...</td>\n",
       "      <td>[{'from': 'User', 'to': 'StudyGroup', 'type': ...</td>\n",
       "      <td>{'api_specification': {'openapi': '3.0.0', 'in...</td>\n",
       "    </tr>\n",
       "    <tr>\n",
       "      <th>1</th>\n",
       "      <td>‘기억박물관’은 치매 환자와 그 가족을 위한 따뜻한 기억 회복 웹사이트입니다. 사용...</td>\n",
       "      <td>[{'projectName': '기억의 다리', 'projectTarget': '치...</td>\n",
       "      <td>[{'requirementType': 'FUNCTIONAL1', 'content':...</td>\n",
       "      <td>{'project_summary': {'title': '기억박물관', 'catego...</td>\n",
       "      <td>[{'name': 'User', 'attributes': [{'name': 'use...</td>\n",
       "      <td>[{'from': 'User', 'to': 'Photo', 'type': 'one-...</td>\n",
       "      <td>{'api_specification': {'openapi': '3.0.0', 'in...</td>\n",
       "    </tr>\n",
       "    <tr>\n",
       "      <th>2</th>\n",
       "      <td>이 앱은 보행 약자들을 위한 지하철 길찾기 앱으로, 계단 없이 이동할 수 있는 경로...</td>\n",
       "      <td>[{'projectName': 'EasyAccess Subway Navigator'...</td>\n",
       "      <td>[{'requirementType': 'FUNCTIONAL1', 'content':...</td>\n",
       "      <td>{'project_summary': {'title': '보행 약자를 위한 지하철 길...</td>\n",
       "      <td>[{'name': 'User', 'attributes': [{'name': 'use...</td>\n",
       "      <td>[{'from': 'User', 'to': 'Route', 'type': 'one-...</td>\n",
       "      <td>{'api_specification': {'openapi': '3.0.0', 'in...</td>\n",
       "    </tr>\n",
       "    <tr>\n",
       "      <th>3</th>\n",
       "      <td>이 앱은 1인 가구를 위한 맞춤형 플랫폼으로, 주로 커뮤니티 기능에 중점을 두고 있...</td>\n",
       "      <td>[{'projectName': '이웃사촌', 'projectTarget': '1인 ...</td>\n",
       "      <td>[{'requirementType': 'FUNCTIONAL1', 'content':...</td>\n",
       "      <td>{'project_summary': {'title': '1인 가구 맞춤형 플랫폼',...</td>\n",
       "      <td>[{'name': 'User', 'attributes': [{'name': 'use...</td>\n",
       "      <td>[{'from': 'User', 'to': 'Post', 'type': 'one-t...</td>\n",
       "      <td>{'api_specification': {'openapi': '3.0.0', 'in...</td>\n",
       "    </tr>\n",
       "    <tr>\n",
       "      <th>4</th>\n",
       "      <td>이 웹앱은 응급실 및 병원 찾기 기능을 제공하여, 응급 상황에서 사용자가 빠르고 안...</td>\n",
       "      <td>[{'projectName': 'EmergencyCare Finder', 'proj...</td>\n",
       "      <td>[{'requirementType': 'FUNCTIONAL1', 'content':...</td>\n",
       "      <td>{'project_summary': {'title': '응급실 및 병원 찾기 웹앱'...</td>\n",
       "      <td>[{'name': 'User', 'attributes': [{'name': 'use...</td>\n",
       "      <td>[{'from': 'User', 'to': 'EmergencyRoom', 'type...</td>\n",
       "      <td>{'api_specification': {'openapi': '3.0.0', 'in...</td>\n",
       "    </tr>\n",
       "  </tbody>\n",
       "</table>\n",
       "</div>"
      ],
      "text/plain": [
       "                                                text  \\\n",
       "0  GQ 서비스는 학습 중심의 스터디 그룹 운영을 지원하는 웹 플랫폼으로, 단순한 그룹...   \n",
       "1  ‘기억박물관’은 치매 환자와 그 가족을 위한 따뜻한 기억 회복 웹사이트입니다. 사용...   \n",
       "2  이 앱은 보행 약자들을 위한 지하철 길찾기 앱으로, 계단 없이 이동할 수 있는 경로...   \n",
       "3  이 앱은 1인 가구를 위한 맞춤형 플랫폼으로, 주로 커뮤니티 기능에 중점을 두고 있...   \n",
       "4  이 웹앱은 응급실 및 병원 찾기 기능을 제공하여, 응급 상황에서 사용자가 빠르고 안...   \n",
       "\n",
       "                                           user_data  \\\n",
       "0  [{'projectName': 'StudyHub', 'projectTarget': ...   \n",
       "1  [{'projectName': '기억의 다리', 'projectTarget': '치...   \n",
       "2  [{'projectName': 'EasyAccess Subway Navigator'...   \n",
       "3  [{'projectName': '이웃사촌', 'projectTarget': '1인 ...   \n",
       "4  [{'projectName': 'EmergencyCare Finder', 'proj...   \n",
       "\n",
       "                                              detail  \\\n",
       "0  [{'requirementType': 'FUNCTIONAL1', 'content':...   \n",
       "1  [{'requirementType': 'FUNCTIONAL1', 'content':...   \n",
       "2  [{'requirementType': 'FUNCTIONAL1', 'content':...   \n",
       "3  [{'requirementType': 'FUNCTIONAL1', 'content':...   \n",
       "4  [{'requirementType': 'FUNCTIONAL1', 'content':...   \n",
       "\n",
       "                                            contents  \\\n",
       "0  {'project_summary': {'title': 'GQ 서비스', 'categ...   \n",
       "1  {'project_summary': {'title': '기억박물관', 'catego...   \n",
       "2  {'project_summary': {'title': '보행 약자를 위한 지하철 길...   \n",
       "3  {'project_summary': {'title': '1인 가구 맞춤형 플랫폼',...   \n",
       "4  {'project_summary': {'title': '응급실 및 병원 찾기 웹앱'...   \n",
       "\n",
       "                                            ERD_data  \\\n",
       "0  [{'name': 'User', 'attributes': [{'name': 'use...   \n",
       "1  [{'name': 'User', 'attributes': [{'name': 'use...   \n",
       "2  [{'name': 'User', 'attributes': [{'name': 'use...   \n",
       "3  [{'name': 'User', 'attributes': [{'name': 'use...   \n",
       "4  [{'name': 'User', 'attributes': [{'name': 'use...   \n",
       "\n",
       "                                  relationships_data  \\\n",
       "0  [{'from': 'User', 'to': 'StudyGroup', 'type': ...   \n",
       "1  [{'from': 'User', 'to': 'Photo', 'type': 'one-...   \n",
       "2  [{'from': 'User', 'to': 'Route', 'type': 'one-...   \n",
       "3  [{'from': 'User', 'to': 'Post', 'type': 'one-t...   \n",
       "4  [{'from': 'User', 'to': 'EmergencyRoom', 'type...   \n",
       "\n",
       "                                      API_specs_data  \n",
       "0  {'api_specification': {'openapi': '3.0.0', 'in...  \n",
       "1  {'api_specification': {'openapi': '3.0.0', 'in...  \n",
       "2  {'api_specification': {'openapi': '3.0.0', 'in...  \n",
       "3  {'api_specification': {'openapi': '3.0.0', 'in...  \n",
       "4  {'api_specification': {'openapi': '3.0.0', 'in...  "
      ]
     },
     "execution_count": 2,
     "metadata": {},
     "output_type": "execute_result"
    }
   ],
   "source": [
    "# 데이터 확인\n",
    "## 100개까지만 만든 dummy data\n",
    "df = pd.read_csv(\"dummy_dataset.csv\").drop(columns = 'index')\n",
    "df_columns_sort = df[['text', 'user_data', 'detail', 'contents', 'ERD_data', 'relationships_data', 'API_specs_data']]\n",
    "df_columns_sort.head()"
   ]
  },
  {
   "cell_type": "code",
   "execution_count": 12,
   "id": "1ea20f99",
   "metadata": {},
   "outputs": [],
   "source": [
    "df_top3 = df_columns_sort.head(1)\n",
    "project_overview_lst = df_top3['user_data'].tolist()\n",
    "existing_requirement_lst = df_top3['detail'].tolist()\n",
    "content_lst = df_top3['contents'].tolist()\n",
    "\n",
    "erd_lst = []\n",
    "relationship_lst = []\n",
    "API_spec_data_lst = []\n",
    "\n",
    "\n",
    "project_overview = project_overview_lst[0]\n",
    "existing_requirement = existing_requirement_lst[0]\n",
    "project_summruy = content_lst[0]\n"
   ]
  },
  {
   "cell_type": "code",
   "execution_count": 9,
   "id": "f32a9f2e",
   "metadata": {},
   "outputs": [
    {
     "data": {
      "text/plain": [
       "[]"
      ]
     },
     "execution_count": 9,
     "metadata": {},
     "output_type": "execute_result"
    }
   ],
   "source": [
    "content_lst"
   ]
  },
  {
   "cell_type": "code",
   "execution_count": 6,
   "id": "4f858124",
   "metadata": {},
   "outputs": [
    {
     "name": "stdout",
     "output_type": "stream",
     "text": [
      "[{'requirementType': 'FUNCTIONAL', 'content': '사용자는 시스템에 로그인할 때 2단계 인증을 설정할 수 있어야 하며, 인증 코드가 이메일 또는 SMS로 전송되어야 한다.'}, {'requirementType': 'FUNCTIONAL', 'content': '시스템은 사용자에게 맞춤형 대시보드를 제공하여 개인화된 정보를 실시간으로 표시해야 한다.'}, {'requirementType': 'PERFORMANCE', 'content': '시스템은 1000명의 동시 사용자가 접속할 때 평균 응답 시간이 2초 이내여야 한다.'}, {'requirementType': 'PERFORMANCE', 'content': '시스템은 월간 99.9%의 가용성을 유지해야 하며, 다운타임은 한 달에 43.2분을 초과해서는 안 된다.'}]\n"
     ]
    }
   ],
   "source": [
    "# 요청 데이터\n",
    "data = {\n",
    "    \"project_overview\": \"string\",\n",
    "    \"existing_requirements\": \"string\",\n",
    "    \"additional_count\": 5,\n",
    "    \"max_tokens\": 4000,\n",
    "    \"temperature\": 0.3,\n",
    "    \"model\": \"gpt-4o-mini\"\n",
    "  }\n",
    "\n",
    "def requirements_data_create(data) :\n",
    "   # API 호출\n",
    "  response = requests.post(\n",
    "      \"http://13.209.5.218:8000/api/PJA/requirements/generate\",  # 로컬 서버 주소\n",
    "      json=data,\n",
    "      headers={\"Content-Type\": \"application/json\"}\n",
    "  )\n",
    "\n",
    "  # 응답 처리\n",
    "  if response.status_code == 200:\n",
    "      result = response.json()\n",
    "      return result\n",
    "  else:\n",
    "      print(f\"Error: {response.status_code}\")\n",
    "      print(response.text)\n",
    "\n",
    "\n",
    "print(requirements_data_create(data)['requirements'])"
   ]
  },
  {
   "cell_type": "code",
   "execution_count": 13,
   "id": "8210df57",
   "metadata": {},
   "outputs": [],
   "source": [
    "# 요청 데이터\n",
    "data = {\n",
    "    \"project_overview\": project_overview,\n",
    "    \"requirements\": existing_requirement,\n",
    "    \"project_summury\": project_summruy,\n",
    "    \"max_tokens\": 8000,\n",
    "    \"temperature\": 0.3,\n",
    "    \"model\": \"ft:gpt-4o-mini-2024-07-18:test::BebIPMSD\"\n",
    "}\n",
    "\n",
    "def json_data_create(data) :\n",
    "  # API 호출\n",
    "  response = requests.post(\n",
    "      \"http://13.209.5.218:8000/api/PJA/json_ERDAPI/generate\",  # 로컬 서버 주소\n",
    "      json=data,\n",
    "      headers={\"Content-Type\": \"application/json\"}\n",
    "  )\n",
    "\n",
    "  # 응답 처리\n",
    "  if response.status_code == 200:\n",
    "      result = response.json()\n",
    "\n",
    "  else:\n",
    "      print(f\"Error: {response.status_code}\")\n",
    "      print(response.text)\n",
    "      # slack_alarm.send_notification(f\"{1}번쨰 오류 발생\")\n",
    "\n",
    "  print(result)"
   ]
  },
  {
   "cell_type": "code",
   "execution_count": 14,
   "id": "a5a43218",
   "metadata": {},
   "outputs": [
    {
     "name": "stdout",
     "output_type": "stream",
     "text": [
      "{'json': {'erd_tables': [{'name': 'User', 'erd_columns': [{'name': 'userId', 'data_type': 'integer', 'is_primary_key': True, 'is_foreign_key': False, 'is_nullable': False}, {'name': 'username', 'data_type': 'string', 'is_primary_key': False, 'is_foreign_key': False, 'is_nullable': False}, {'name': 'email', 'data_type': 'string', 'is_primary_key': False, 'is_foreign_key': False, 'is_nullable': False}, {'name': 'password', 'data_type': 'string', 'is_primary_key': False, 'is_foreign_key': False, 'is_nullable': False}, {'name': 'createdAt', 'data_type': 'datetime', 'is_primary_key': False, 'is_foreign_key': False, 'is_nullable': False}]}, {'name': 'StudyGroup', 'erd_columns': [{'name': 'groupId', 'data_type': 'integer', 'is_primary_key': True, 'is_foreign_key': False, 'is_nullable': False}, {'name': 'groupName', 'data_type': 'string', 'is_primary_key': False, 'is_foreign_key': False, 'is_nullable': False}, {'name': 'description', 'data_type': 'string', 'is_primary_key': False, 'is_foreign_key': False, 'is_nullable': True}, {'name': 'createdBy', 'data_type': 'integer', 'is_primary_key': False, 'is_foreign_key': True, 'is_nullable': False}, {'name': 'createdAt', 'data_type': 'datetime', 'is_primary_key': False, 'is_foreign_key': False, 'is_nullable': False}]}, {'name': 'Quiz', 'erd_columns': [{'name': 'quizId', 'data_type': 'integer', 'is_primary_key': True, 'is_foreign_key': False, 'is_nullable': False}, {'name': 'quizTitle', 'data_type': 'string', 'is_primary_key': False, 'is_foreign_key': False, 'is_nullable': False}, {'name': 'createdBy', 'data_type': 'integer', 'is_primary_key': False, 'is_foreign_key': True, 'is_nullable': False}, {'name': 'groupId', 'data_type': 'integer', 'is_primary_key': False, 'is_foreign_key': True, 'is_nullable': False}, {'name': 'createdAt', 'data_type': 'datetime', 'is_primary_key': False, 'is_foreign_key': False, 'is_nullable': False}]}, {'name': 'Assignment', 'erd_columns': [{'name': 'assignmentId', 'data_type': 'integer', 'is_primary_key': True, 'is_foreign_key': False, 'is_nullable': False}, {'name': 'title', 'data_type': 'string', 'is_primary_key': False, 'is_foreign_key': False, 'is_nullable': False}, {'name': 'status', 'data_type': 'string', 'is_primary_key': False, 'is_foreign_key': False, 'is_nullable': False}, {'name': 'groupId', 'data_type': 'integer', 'is_primary_key': False, 'is_foreign_key': True, 'is_nullable': False}, {'name': 'createdAt', 'data_type': 'datetime', 'is_primary_key': False, 'is_foreign_key': False, 'is_nullable': False}]}, {'name': 'Notification', 'erd_columns': [{'name': 'notificationId', 'data_type': 'integer', 'is_primary_key': True, 'is_foreign_key': False, 'is_nullable': False}, {'name': 'message', 'data_type': 'string', 'is_primary_key': False, 'is_foreign_key': False, 'is_nullable': False}, {'name': 'groupId', 'data_type': 'integer', 'is_primary_key': False, 'is_foreign_key': True, 'is_nullable': False}, {'name': 'createdAt', 'data_type': 'datetime', 'is_primary_key': False, 'is_foreign_key': False, 'is_nullable': False}]}], 'erd_relationships': [{'from_table': 'User', 'to_table': 'StudyGroup', 'relationship_type': 'one-to-many', 'foreign_key': 'createdBy', 'constraint_name': 'fk_user_studygroup'}, {'from_table': 'StudyGroup', 'to_table': 'Quiz', 'relationship_type': 'one-to-many', 'foreign_key': 'groupId', 'constraint_name': 'fk_quiz_studygroup'}, {'from_table': 'StudyGroup', 'to_table': 'Assignment', 'relationship_type': 'one-to-many', 'foreign_key': 'groupId', 'constraint_name': 'fk_assignment_studygroup'}, {'from_table': 'StudyGroup', 'to_table': 'Notification', 'relationship_type': 'one-to-many', 'foreign_key': 'groupId', 'constraint_name': 'fk_notification_studygroup'}], 'apiSpecifications': [{'title': 'User Registration', 'tag': 'User', 'path': '/api/users/register', 'http_method': 'post', 'request': [{'field': 'username', 'type': 'string', 'example': 'john_doe'}, {'field': 'email', 'type': 'string', 'example': 'john@example.com'}, {'field': 'password', 'type': 'string', 'example': 'securepassword'}], 'response': [{'status_code': '201', 'message': 'User registered successfully', 'data': [{'field': 'userId', 'type': 'integer', 'example': 1}, {'field': 'username', 'type': 'string', 'example': 'john_doe'}, {'field': 'email', 'type': 'string', 'example': 'john@example.com'}]}, {'status_code': '400', 'message': 'Bad request', 'data': [{'field': 'error', 'type': 'string', 'example': 'Email already exists'}]}]}, {'title': 'User Login', 'tag': 'User', 'path': '/api/users/login', 'http_method': 'post', 'request': [{'field': 'email', 'type': 'string', 'example': 'john@example.com'}, {'field': 'password', 'type': 'string', 'example': 'securepassword'}], 'response': [{'status_code': '200', 'message': 'Login successful', 'data': [{'field': 'token', 'type': 'string', 'example': 'eyJhbGciOiJIUzI1NiIsInR5cCI6IkpXVCJ9...'}]}, {'status_code': '401', 'message': 'Unauthorized', 'data': [{'field': 'error', 'type': 'string', 'example': 'Invalid credentials'}]}]}, {'title': 'Create Study Group', 'tag': 'StudyGroup', 'path': '/api/groups', 'http_method': 'post', 'request': [{'field': 'groupName', 'type': 'string', 'example': 'Math Study Group'}, {'field': 'description', 'type': 'string', 'example': 'A group for math enthusiasts'}], 'response': [{'status_code': '201', 'message': 'Study group created successfully', 'data': [{'field': 'groupId', 'type': 'integer', 'example': 1}, {'field': 'groupName', 'type': 'string', 'example': 'Math Study Group'}, {'field': 'description', 'type': 'string', 'example': 'A group for math enthusiasts'}]}, {'status_code': '400', 'message': 'Bad request', 'data': [{'field': 'error', 'type': 'string', 'example': 'Group name is required'}]}]}, {'title': 'Join Study Group', 'tag': 'StudyGroup', 'path': '/api/groups/join', 'http_method': 'post', 'request': [{'field': 'groupId', 'type': 'integer', 'example': 1}, {'field': 'userId', 'type': 'integer', 'example': 1}], 'response': [{'status_code': '200', 'message': 'Successfully joined the group', 'data': [{'field': 'groupId', 'type': 'integer', 'example': 1}, {'field': 'userId', 'type': 'integer', 'example': 1}]}, {'status_code': '404', 'message': 'Group not found', 'data': [{'field': 'error', 'type': 'string', 'example': 'Group does not exist'}]}]}, {'title': 'Create Quiz', 'tag': 'Quiz', 'path': '/api/quizzes', 'http_method': 'post', 'request': [{'field': 'title', 'type': 'string', 'example': 'Math Quiz'}, {'field': 'questions', 'type': 'array', 'example': [{'question': 'What is 2 + 2?', 'options': ['3', '4', '5'], 'correctAnswer': '4'}]}], 'response': [{'status_code': '201', 'message': 'Quiz created successfully', 'data': [{'field': 'quizId', 'type': 'integer', 'example': 1}, {'field': 'title', 'type': 'string', 'example': 'Math Quiz'}]}, {'status_code': '400', 'message': 'Bad request', 'data': [{'field': 'error', 'type': 'string', 'example': 'Quiz title is required'}]}]}, {'title': 'Participate in Quiz', 'tag': 'Quiz', 'path': '/api/quizzes/participate', 'http_method': 'post', 'request': [{'field': 'quizId', 'type': 'integer', 'example': 1}, {'field': 'userId', 'type': 'integer', 'example': 1}, {'field': 'answers', 'type': 'array', 'example': [{'questionId': 1, 'answer': '4'}]}], 'response': [{'status_code': '200', 'message': 'Quiz submitted successfully', 'data': [{'field': 'score', 'type': 'integer', 'example': 10}, {'field': 'totalQuestions', 'type': 'integer', 'example': 10}]}, {'status_code': '404', 'message': 'Quiz not found', 'data': [{'field': 'error', 'type': 'string', 'example': 'Quiz does not exist'}]}]}, {'title': 'Create Assignment', 'tag': 'Assignment', 'path': '/api/assignments', 'http_method': 'post', 'request': [{'field': 'title', 'type': 'string', 'example': 'Math Assignment'}, {'field': 'description', 'type': 'string', 'example': 'Complete the exercises in chapter 2'}], 'response': [{'status_code': '201', 'message': 'Assignment created successfully', 'data': [{'field': 'assignmentId', 'type': 'integer', 'example': 1}, {'field': 'title', 'type': 'string', 'example': 'Math Assignment'}]}, {'status_code': '400', 'message': 'Bad request', 'data': [{'field': 'error', 'type': 'string', 'example': 'Assignment title is required'}]}]}, {'title': 'Get Notifications', 'tag': 'Notification', 'path': '/api/notifications', 'http_method': 'get', 'request': [], 'response': [{'status_code': '200', 'message': 'Notifications retrieved successfully', 'data': [{'field': 'notificationId', 'type': 'integer', 'example': 1}, {'field': 'message', 'type': 'string', 'example': 'New assignment posted'}, {'field': 'createdAt', 'type': 'datetime', 'example': '2024-01-15T10:30:00Z'}]}]}]}, 'model': 'ft:gpt-4o-mini-2024-07-18:test::BebIPMSD', 'total_tokens': 4578, 'prompt_tokens': 2613, 'completion_tokens': 1965}\n"
     ]
    }
   ],
   "source": [
    "json_data_create(data)"
   ]
  },
  {
   "cell_type": "code",
   "execution_count": null,
   "id": "9ec601ae",
   "metadata": {},
   "outputs": [],
   "source": [
    "# df_top3.to_csv('dummy_data_utf-8.csv', encoding = 'utf-8', index = False)\n",
    "# df_top3.to_csv('dummy_data_euc-kr.csv', encoding = 'euc-kr', index = False)"
   ]
  },
  {
   "cell_type": "code",
   "execution_count": null,
   "id": "b6307abd",
   "metadata": {},
   "outputs": [],
   "source": []
  },
  {
   "cell_type": "code",
   "execution_count": null,
   "id": "c2910b6f",
   "metadata": {},
   "outputs": [],
   "source": []
  }
 ],
 "metadata": {
  "kernelspec": {
   "display_name": "base",
   "language": "python",
   "name": "python3"
  },
  "language_info": {
   "codemirror_mode": {
    "name": "ipython",
    "version": 3
   },
   "file_extension": ".py",
   "mimetype": "text/x-python",
   "name": "python",
   "nbconvert_exporter": "python",
   "pygments_lexer": "ipython3",
   "version": "3.11.7"
  }
 },
 "nbformat": 4,
 "nbformat_minor": 5
}
