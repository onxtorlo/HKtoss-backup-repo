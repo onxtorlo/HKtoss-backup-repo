{
 "cells": [
  {
   "cell_type": "markdown",
   "id": "c0a8d4b4",
   "metadata": {},
   "source": [
    "# 프로젝트 진행 추천 API 테스트\n",
    "\n",
    "FastAPI의 `/api/PJA/recommend/generate` 엔드포인트를 테스트합니다.\n",
    "\n",
    "## 테스트 절차\n",
    "1. 서버 연결 확인\n",
    "2. 두 가지 테스트 케이스 실행\n",
    "3. 응답 데이터 구조 검증"
   ]
  },
  {
   "cell_type": "code",
   "execution_count": 3,
   "id": "7ae01530",
   "metadata": {},
   "outputs": [],
   "source": [
    "import requests\n",
    "import json\n",
    "from datetime import datetime"
   ]
  },
  {
   "cell_type": "code",
   "execution_count": 4,
   "id": "92787e53",
   "metadata": {},
   "outputs": [],
   "source": [
    "# API 엔드포인트 설정\n",
    "API_URL = \"http://localhost:8000/api/PJA/recommend/generate\""
   ]
  },
  {
   "cell_type": "code",
   "execution_count": 6,
   "id": "9734adbd",
   "metadata": {},
   "outputs": [
    {
     "name": "stdout",
     "output_type": "stream",
     "text": [
      "Status Code: 500\n",
      "\n",
      "Response:\n",
      "{\n",
      "  \"detail\": \"추천 생성 오류: 1 validation error for RecommendationResponse\\nrecommendations\\n  Input should be a valid list [type=list_type, input_value={'workspaceId': 1, 'categ...'2024-01-20T17:00:00'}]}, input_type=dict]\\n    For further information visit https://errors.pydantic.dev/2.11/v/list_type\"\n",
      "}\n"
     ]
    }
   ],
   "source": [
    "# 테스트용 데이터 생성 (JSON 문자열로 변환)\n",
    "import json\n",
    "\n",
    "# 먼저 딕셔너리로 구조를 만들고\n",
    "project_data = {\n",
    "    \"workspaceId\": 1,\n",
    "    \"recommendedCategories\": [\n",
    "        {\n",
    "            \"categoryId\": 3,\n",
    "            \"name\": \"회원 관리 기능\",\n",
    "            \"features\": [\n",
    "                {\n",
    "                    \"featureId\": 10,\n",
    "                    \"name\": \"회원 가입\",\n",
    "                    \"actions\": [\n",
    "                        {\n",
    "                            \"name\": \"이메일 인증 로직 구현\",\n",
    "                            \"importance\": 3,\n",
    "                            \"startDate\": \"LocalDateTime형식의 날짜\",\n",
    "                            \"endDate\": \"LocalDateTime형식의 날짜\"\n",
    "                        },\n",
    "                        {\n",
    "                            \"name\": \"회원 정보 유효성 검증\",\n",
    "                            \"importance\": 2,\n",
    "                            \"startDate\": \"LocalDateTime형식의 날짜\",\n",
    "                            \"endDate\": \"LocalDateTime형식의 날짜\"\n",
    "                        }\n",
    "                    ]\n",
    "                }\n",
    "            ]\n",
    "        }\n",
    "    ]\n",
    "}\n",
    "\n",
    "# JSON 문자열로 변환해서 전송\n",
    "test_data = {\n",
    "    \"project_list\": json.dumps(project_data, ensure_ascii=False),  # 딕셔너리를 JSON 문자열로 변환\n",
    "    \"max_tokens\": 3000,\n",
    "    \"temperature\": 0.3,\n",
    "    \"model\": \"ft:gpt-4o-mini-2024-07-18:test::BebIPMSD\"\n",
    "}\n",
    "\n",
    "# API 요청 보내기\n",
    "response = requests.post(API_URL, json=test_data)\n",
    "\n",
    "# 응답 확인\n",
    "print(\"Status Code:\", response.status_code)\n",
    "print(\"\\nResponse:\")\n",
    "print(json.dumps(response.json(), indent=2, ensure_ascii=False))"
   ]
  },
  {
   "cell_type": "code",
   "execution_count": 4,
   "id": "9af08eae",
   "metadata": {},
   "outputs": [
    {
     "name": "stdout",
     "output_type": "stream",
     "text": [
      "Status Code: 500\n",
      "\n",
      "Response:\n",
      "{\n",
      "  \"detail\": \"추천 생성 오류: 1 validation error for RecommendationResponse\\nrecommendations\\n  Input should be a valid list [type=list_type, input_value={'workspaceId': 1, 'categ...'2024-01-20T18:00:00'}]}, input_type=dict]\\n    For further information visit https://errors.pydantic.dev/2.11/v/list_type\"\n",
      "}\n"
     ]
    }
   ],
   "source": [
    "# 다른 테스트 케이스\n",
    "test_data_2 = {\n",
    "    \"project_list\": \"프론트엔드 UI 개발 진행 중. 로그인 페이지 디자인 완료. 회원가입 폼 유효성 검증 필요.\",\n",
    "    \"max_tokens\": 3000,\n",
    "    \"temperature\": 0.3,\n",
    "    \"model\": \"ft:gpt-4o-mini-2024-07-18:test::BebIPMSD\"\n",
    "}\n",
    "\n",
    "response = requests.post(API_URL, json=test_data_2)\n",
    "print(\"Status Code:\", response.status_code)\n",
    "print(\"\\nResponse:\")\n",
    "print(json.dumps(response.json(), indent=2, ensure_ascii=False))"
   ]
  },
  {
   "cell_type": "markdown",
   "id": "95b05ded",
   "metadata": {},
   "source": [
    "## 응답 형식 검증\n",
    "\n",
    "받은 응답이 예상한 형식과 일치하는지 확인"
   ]
  },
  {
   "cell_type": "code",
   "execution_count": null,
   "id": "2e28fd22",
   "metadata": {},
   "outputs": [],
   "source": [
    "def validate_response(response_data):\n",
    "    \"\"\"응답 데이터의 구조를 검증하는 함수\"\"\"\n",
    "    required_fields = [\n",
    "        'recommendations',\n",
    "        'model',\n",
    "        'total_tokens',\n",
    "        'prompt_tokens',\n",
    "        'completion_tokens'\n",
    "    ]\n",
    "    \n",
    "    # 필수 필드 확인\n",
    "    for field in required_fields:\n",
    "        if field not in response_data:\n",
    "            print(f\"Missing required field: {field}\")\n",
    "            return False\n",
    "    \n",
    "    # recommendations 구조 확인\n",
    "    recommendations = response_data.get('recommendations', {})\n",
    "    required_rec_fields = ['workspaceId', 'categoryId', 'featureId', 'recommendedActions']\n",
    "    \n",
    "    for field in required_rec_fields:\n",
    "        if field not in recommendations:\n",
    "            print(f\"Missing field in recommendations: {field}\")\n",
    "            return False\n",
    "    \n",
    "    # recommendedActions 구조 확인\n",
    "    for action in recommendations['recommendedActions']:\n",
    "        action_fields = ['name', 'importance', 'startDate', 'endDate']\n",
    "        for field in action_fields:\n",
    "            if field not in action:\n",
    "                print(f\"Missing field in action: {field}\")\n",
    "                return False\n",
    "    \n",
    "    print(\"Response structure is valid!\")\n",
    "    return True\n",
    "\n",
    "# 첫 번째 응답 검증\n",
    "print(\"Validating first response:\")\n",
    "validate_response(response.json())"
   ]
  }
 ],
 "metadata": {
  "kernelspec": {
   "display_name": "Python 3 (ipykernel)",
   "language": "python",
   "name": "python3"
  },
  "language_info": {
   "codemirror_mode": {
    "name": "ipython",
    "version": 3
   },
   "file_extension": ".py",
   "mimetype": "text/x-python",
   "name": "python",
   "nbconvert_exporter": "python",
   "pygments_lexer": "ipython3",
   "version": "3.12.3"
  }
 },
 "nbformat": 4,
 "nbformat_minor": 5
}
