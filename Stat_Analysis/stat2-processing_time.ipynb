{
 "cells": [
  {
   "cell_type": "code",
   "execution_count": 1,
   "id": "4aaee392",
   "metadata": {},
   "outputs": [
    {
     "name": "stdout",
     "output_type": "stream",
     "text": [
      "Requirement already satisfied: pandas in c:\\users\\pje03\\documents\\pja_mlops\\task_recommend\\use_agent\\agent-env\\lib\\site-packages (2.3.0)\n",
      "Requirement already satisfied: plotly in c:\\users\\pje03\\documents\\pja_mlops\\task_recommend\\use_agent\\agent-env\\lib\\site-packages (6.1.2)\n",
      "Requirement already satisfied: matplotlib in c:\\users\\pje03\\documents\\pja_mlops\\task_recommend\\use_agent\\agent-env\\lib\\site-packages (3.10.3)\n",
      "Requirement already satisfied: numpy>=1.22.4 in c:\\users\\pje03\\documents\\pja_mlops\\task_recommend\\use_agent\\agent-env\\lib\\site-packages (from pandas) (2.2.6)\n",
      "Requirement already satisfied: python-dateutil>=2.8.2 in c:\\users\\pje03\\documents\\pja_mlops\\task_recommend\\use_agent\\agent-env\\lib\\site-packages (from pandas) (2.9.0.post0)\n",
      "Requirement already satisfied: pytz>=2020.1 in c:\\users\\pje03\\documents\\pja_mlops\\task_recommend\\use_agent\\agent-env\\lib\\site-packages (from pandas) (2025.2)\n",
      "Requirement already satisfied: tzdata>=2022.7 in c:\\users\\pje03\\documents\\pja_mlops\\task_recommend\\use_agent\\agent-env\\lib\\site-packages (from pandas) (2025.2)\n",
      "Requirement already satisfied: narwhals>=1.15.1 in c:\\users\\pje03\\documents\\pja_mlops\\task_recommend\\use_agent\\agent-env\\lib\\site-packages (from plotly) (1.43.0)\n",
      "Requirement already satisfied: packaging in c:\\users\\pje03\\documents\\pja_mlops\\task_recommend\\use_agent\\agent-env\\lib\\site-packages (from plotly) (24.2)\n",
      "Requirement already satisfied: contourpy>=1.0.1 in c:\\users\\pje03\\documents\\pja_mlops\\task_recommend\\use_agent\\agent-env\\lib\\site-packages (from matplotlib) (1.3.2)\n",
      "Requirement already satisfied: cycler>=0.10 in c:\\users\\pje03\\documents\\pja_mlops\\task_recommend\\use_agent\\agent-env\\lib\\site-packages (from matplotlib) (0.12.1)\n",
      "Requirement already satisfied: fonttools>=4.22.0 in c:\\users\\pje03\\documents\\pja_mlops\\task_recommend\\use_agent\\agent-env\\lib\\site-packages (from matplotlib) (4.58.4)\n",
      "Requirement already satisfied: kiwisolver>=1.3.1 in c:\\users\\pje03\\documents\\pja_mlops\\task_recommend\\use_agent\\agent-env\\lib\\site-packages (from matplotlib) (1.4.8)\n",
      "Requirement already satisfied: pillow>=8 in c:\\users\\pje03\\documents\\pja_mlops\\task_recommend\\use_agent\\agent-env\\lib\\site-packages (from matplotlib) (11.2.1)\n",
      "Requirement already satisfied: pyparsing>=2.3.1 in c:\\users\\pje03\\documents\\pja_mlops\\task_recommend\\use_agent\\agent-env\\lib\\site-packages (from matplotlib) (3.2.3)\n",
      "Requirement already satisfied: six>=1.5 in c:\\users\\pje03\\documents\\pja_mlops\\task_recommend\\use_agent\\agent-env\\lib\\site-packages (from python-dateutil>=2.8.2->pandas) (1.17.0)\n",
      "Note: you may need to restart the kernel to use updated packages.\n"
     ]
    }
   ],
   "source": [
    "%pip install pandas plotly matplotlib"
   ]
  },
  {
   "cell_type": "code",
   "execution_count": 14,
   "id": "fc0c40d5",
   "metadata": {},
   "outputs": [
    {
     "name": "stdout",
     "output_type": "stream",
     "text": [
      "Requirement already satisfied: nbformat in c:\\users\\pje03\\documents\\pja_mlops\\task_recommend\\use_agent\\agent-env\\lib\\site-packages (5.10.4)Note: you may need to restart the kernel to use updated packages.\n",
      "\n",
      "Requirement already satisfied: fastjsonschema>=2.15 in c:\\users\\pje03\\documents\\pja_mlops\\task_recommend\\use_agent\\agent-env\\lib\\site-packages (from nbformat) (2.21.1)\n",
      "Requirement already satisfied: jsonschema>=2.6 in c:\\users\\pje03\\documents\\pja_mlops\\task_recommend\\use_agent\\agent-env\\lib\\site-packages (from nbformat) (4.24.0)\n",
      "Requirement already satisfied: jupyter-core!=5.0.*,>=4.12 in c:\\users\\pje03\\documents\\pja_mlops\\task_recommend\\use_agent\\agent-env\\lib\\site-packages (from nbformat) (5.8.1)\n",
      "Requirement already satisfied: traitlets>=5.1 in c:\\users\\pje03\\documents\\pja_mlops\\task_recommend\\use_agent\\agent-env\\lib\\site-packages (from nbformat) (5.14.3)\n",
      "Requirement already satisfied: attrs>=22.2.0 in c:\\users\\pje03\\documents\\pja_mlops\\task_recommend\\use_agent\\agent-env\\lib\\site-packages (from jsonschema>=2.6->nbformat) (25.3.0)\n",
      "Requirement already satisfied: jsonschema-specifications>=2023.03.6 in c:\\users\\pje03\\documents\\pja_mlops\\task_recommend\\use_agent\\agent-env\\lib\\site-packages (from jsonschema>=2.6->nbformat) (2025.4.1)\n",
      "Requirement already satisfied: referencing>=0.28.4 in c:\\users\\pje03\\documents\\pja_mlops\\task_recommend\\use_agent\\agent-env\\lib\\site-packages (from jsonschema>=2.6->nbformat) (0.36.2)\n",
      "Requirement already satisfied: rpds-py>=0.7.1 in c:\\users\\pje03\\documents\\pja_mlops\\task_recommend\\use_agent\\agent-env\\lib\\site-packages (from jsonschema>=2.6->nbformat) (0.25.1)\n",
      "Requirement already satisfied: platformdirs>=2.5 in c:\\users\\pje03\\documents\\pja_mlops\\task_recommend\\use_agent\\agent-env\\lib\\site-packages (from jupyter-core!=5.0.*,>=4.12->nbformat) (4.3.8)\n",
      "Requirement already satisfied: pywin32>=300 in c:\\users\\pje03\\documents\\pja_mlops\\task_recommend\\use_agent\\agent-env\\lib\\site-packages (from jupyter-core!=5.0.*,>=4.12->nbformat) (310)\n",
      "Requirement already satisfied: typing-extensions>=4.4.0 in c:\\users\\pje03\\documents\\pja_mlops\\task_recommend\\use_agent\\agent-env\\lib\\site-packages (from referencing>=0.28.4->jsonschema>=2.6->nbformat) (4.14.0)\n"
     ]
    }
   ],
   "source": [
    "%pip install -U nbformat"
   ]
  },
  {
   "cell_type": "code",
   "execution_count": 2,
   "id": "e1c24cd8",
   "metadata": {},
   "outputs": [],
   "source": [
    "import json\n",
    "import pandas as pd\n",
    "import random\n",
    "from datetime import datetime, timedelta\n",
    "import matplotlib.pyplot as plt\n",
    "import plotly.express as px\n",
    "import numpy as np"
   ]
  },
  {
   "cell_type": "code",
   "execution_count": 3,
   "id": "61a8c4f9",
   "metadata": {},
   "outputs": [],
   "source": [
    "# UPDATE_PARTICIPANT_TO_ACTION,    // ACTION 참여자 수정(참여자 추가 및 삭제) 이벤트\n",
    "# CREATE_PROJECT_PROGRESS_ACTION,  // ACTION 생성 이벤트\n",
    "# DELETE_PROJECT_PROGRESS_ACTION,  // ACTION 삭제 이벤트\n",
    "# DONE_PROJECT_PROGRESS_ACTION     // ACTION 상태 완료로 변경이벤트"
   ]
  },
  {
   "cell_type": "code",
   "execution_count": 4,
   "id": "cf67302f",
   "metadata": {},
   "outputs": [
    {
     "name": "stdout",
     "output_type": "stream",
     "text": [
      "<class 'pandas.core.frame.DataFrame'>\n",
      "RangeIndex: 100 entries, 0 to 99\n",
      "Data columns (total 11 columns):\n",
      " #   Column                Non-Null Count  Dtype \n",
      "---  ------                --------------  ----- \n",
      " 0   event                 100 non-null    object\n",
      " 1   userId                100 non-null    object\n",
      " 2   username              100 non-null    object\n",
      " 3   timestamp             100 non-null    object\n",
      " 4   workspaceId           100 non-null    int64 \n",
      " 5   details.participants  100 non-null    object\n",
      " 6   details.state         100 non-null    object\n",
      " 7   details.name          100 non-null    object\n",
      " 8   details.importance    100 non-null    int64 \n",
      " 9   details.startDate     47 non-null     object\n",
      " 10  details.endDate       47 non-null     object\n",
      "dtypes: int64(2), object(9)\n",
      "memory usage: 8.7+ KB\n"
     ]
    }
   ],
   "source": [
    "LOG_DATA_PATH = \"data\\\\final_user-actions_dummy.json\"\n",
    "\n",
    "# 중첩 구조 평탄화해서 읽기\n",
    "with open(LOG_DATA_PATH, \"r\", encoding=\"utf-8\") as f:\n",
    "    data = json.load(f)\n",
    "    # data = [json.loads(line.strip()) for line in f if line.strip()]  # .jsonl일 때 읽어오는 방법\n",
    "    \n",
    "df = pd.json_normalize(data)\n",
    "df.info()"
   ]
  },
  {
   "cell_type": "code",
   "execution_count": 5,
   "id": "9af9436f",
   "metadata": {},
   "outputs": [
    {
     "data": {
      "text/html": [
       "<div>\n",
       "<style scoped>\n",
       "    .dataframe tbody tr th:only-of-type {\n",
       "        vertical-align: middle;\n",
       "    }\n",
       "\n",
       "    .dataframe tbody tr th {\n",
       "        vertical-align: top;\n",
       "    }\n",
       "\n",
       "    .dataframe thead th {\n",
       "        text-align: right;\n",
       "    }\n",
       "</style>\n",
       "<table border=\"1\" class=\"dataframe\">\n",
       "  <thead>\n",
       "    <tr style=\"text-align: right;\">\n",
       "      <th></th>\n",
       "      <th>event</th>\n",
       "      <th>userId</th>\n",
       "      <th>username</th>\n",
       "      <th>timestamp</th>\n",
       "      <th>workspaceId</th>\n",
       "      <th>details.participants</th>\n",
       "      <th>details.state</th>\n",
       "      <th>details.name</th>\n",
       "      <th>details.importance</th>\n",
       "      <th>details.startDate</th>\n",
       "      <th>details.endDate</th>\n",
       "    </tr>\n",
       "  </thead>\n",
       "  <tbody>\n",
       "    <tr>\n",
       "      <th>0</th>\n",
       "      <td>CREATE_PROJECT_PROGRESS_ACTION</td>\n",
       "      <td>3</td>\n",
       "      <td>testuser3</td>\n",
       "      <td>2025-06-09T23:46:31.072466Z</td>\n",
       "      <td>1</td>\n",
       "      <td>[{'userId': 3, 'username': 'testuser3'}, {'use...</td>\n",
       "      <td>IN_PROGRESS</td>\n",
       "      <td>배송 상태 추적</td>\n",
       "      <td>1</td>\n",
       "      <td>None</td>\n",
       "      <td>None</td>\n",
       "    </tr>\n",
       "    <tr>\n",
       "      <th>1</th>\n",
       "      <td>DONE_PROJECT_PROGRESS_ACTION</td>\n",
       "      <td>4</td>\n",
       "      <td>testuser4</td>\n",
       "      <td>2025-06-12T06:09:44.072507Z</td>\n",
       "      <td>1</td>\n",
       "      <td>[{'userId': 1, 'username': 'testuser1'}, {'use...</td>\n",
       "      <td>DONE</td>\n",
       "      <td>배송비 계산</td>\n",
       "      <td>1</td>\n",
       "      <td>2025-06-12T03:09:44.072507</td>\n",
       "      <td>2025-06-12T06:09:44.072507</td>\n",
       "    </tr>\n",
       "    <tr>\n",
       "      <th>2</th>\n",
       "      <td>DONE_PROJECT_PROGRESS_ACTION</td>\n",
       "      <td>1</td>\n",
       "      <td>testuser1</td>\n",
       "      <td>2025-06-10T06:09:44.072540Z</td>\n",
       "      <td>1</td>\n",
       "      <td>[{'userId': 1, 'username': 'testuser1'}, {'use...</td>\n",
       "      <td>DONE</td>\n",
       "      <td>결제 게이트웨이 연동</td>\n",
       "      <td>2</td>\n",
       "      <td>2025-06-07T06:09:44.072540</td>\n",
       "      <td>2025-06-10T06:09:44.072540</td>\n",
       "    </tr>\n",
       "    <tr>\n",
       "      <th>3</th>\n",
       "      <td>CREATE_PROJECT_PROGRESS_ACTION</td>\n",
       "      <td>2</td>\n",
       "      <td>testuser2</td>\n",
       "      <td>2025-05-29T07:23:58.072562Z</td>\n",
       "      <td>1</td>\n",
       "      <td>[{'userId': 4, 'username': 'testuser4'}, {'use...</td>\n",
       "      <td>BEFORE</td>\n",
       "      <td>상품 리뷰 표시</td>\n",
       "      <td>3</td>\n",
       "      <td>None</td>\n",
       "      <td>None</td>\n",
       "    </tr>\n",
       "    <tr>\n",
       "      <th>4</th>\n",
       "      <td>CREATE_PROJECT_PROGRESS_ACTION</td>\n",
       "      <td>3</td>\n",
       "      <td>testuser3</td>\n",
       "      <td>2025-06-15T00:53:50.072582Z</td>\n",
       "      <td>1</td>\n",
       "      <td>[{'userId': 2, 'username': 'testuser2'}, {'use...</td>\n",
       "      <td>BEFORE</td>\n",
       "      <td>알림 통계</td>\n",
       "      <td>5</td>\n",
       "      <td>None</td>\n",
       "      <td>None</td>\n",
       "    </tr>\n",
       "    <tr>\n",
       "      <th>...</th>\n",
       "      <td>...</td>\n",
       "      <td>...</td>\n",
       "      <td>...</td>\n",
       "      <td>...</td>\n",
       "      <td>...</td>\n",
       "      <td>...</td>\n",
       "      <td>...</td>\n",
       "      <td>...</td>\n",
       "      <td>...</td>\n",
       "      <td>...</td>\n",
       "      <td>...</td>\n",
       "    </tr>\n",
       "    <tr>\n",
       "      <th>95</th>\n",
       "      <td>CREATE_PROJECT_PROGRESS_ACTION</td>\n",
       "      <td>1</td>\n",
       "      <td>testuser1</td>\n",
       "      <td>2025-05-17T18:59:07.074155Z</td>\n",
       "      <td>1</td>\n",
       "      <td>[{'userId': 5, 'username': 'testuser5'}, {'use...</td>\n",
       "      <td>IN_PROGRESS</td>\n",
       "      <td>정렬 기능</td>\n",
       "      <td>5</td>\n",
       "      <td>None</td>\n",
       "      <td>None</td>\n",
       "    </tr>\n",
       "    <tr>\n",
       "      <th>96</th>\n",
       "      <td>DONE_PROJECT_PROGRESS_ACTION</td>\n",
       "      <td>2</td>\n",
       "      <td>testuser2</td>\n",
       "      <td>2025-06-12T06:09:44.074168Z</td>\n",
       "      <td>1</td>\n",
       "      <td>[{'userId': 4, 'username': 'testuser4'}, {'use...</td>\n",
       "      <td>DONE</td>\n",
       "      <td>KPI 모니터링</td>\n",
       "      <td>5</td>\n",
       "      <td>2025-06-07T06:09:44.074168</td>\n",
       "      <td>2025-06-12T06:09:44.074168</td>\n",
       "    </tr>\n",
       "    <tr>\n",
       "      <th>97</th>\n",
       "      <td>CREATE_PROJECT_PROGRESS_ACTION</td>\n",
       "      <td>3</td>\n",
       "      <td>testuser3</td>\n",
       "      <td>2025-05-31T22:31:09.074183Z</td>\n",
       "      <td>1</td>\n",
       "      <td>[{'userId': 1, 'username': 'testuser1'}, {'use...</td>\n",
       "      <td>IN_PROGRESS</td>\n",
       "      <td>성능 지표</td>\n",
       "      <td>1</td>\n",
       "      <td>None</td>\n",
       "      <td>None</td>\n",
       "    </tr>\n",
       "    <tr>\n",
       "      <th>98</th>\n",
       "      <td>DONE_PROJECT_PROGRESS_ACTION</td>\n",
       "      <td>1</td>\n",
       "      <td>testuser1</td>\n",
       "      <td>2025-06-10T06:09:44.074195Z</td>\n",
       "      <td>1</td>\n",
       "      <td>[{'userId': 2, 'username': 'testuser2'}, {'use...</td>\n",
       "      <td>DONE</td>\n",
       "      <td>실시간 통계</td>\n",
       "      <td>2</td>\n",
       "      <td>2025-06-04T06:09:44.074195</td>\n",
       "      <td>2025-06-10T06:09:44.074195</td>\n",
       "    </tr>\n",
       "    <tr>\n",
       "      <th>99</th>\n",
       "      <td>CREATE_PROJECT_PROGRESS_ACTION</td>\n",
       "      <td>4</td>\n",
       "      <td>testuser4</td>\n",
       "      <td>2025-05-18T09:41:15.074211Z</td>\n",
       "      <td>1</td>\n",
       "      <td>[{'userId': 3, 'username': 'testuser3'}, {'use...</td>\n",
       "      <td>BEFORE</td>\n",
       "      <td>데이터 시각화</td>\n",
       "      <td>2</td>\n",
       "      <td>None</td>\n",
       "      <td>None</td>\n",
       "    </tr>\n",
       "  </tbody>\n",
       "</table>\n",
       "<p>100 rows × 11 columns</p>\n",
       "</div>"
      ],
      "text/plain": [
       "                             event userId   username  \\\n",
       "0   CREATE_PROJECT_PROGRESS_ACTION      3  testuser3   \n",
       "1     DONE_PROJECT_PROGRESS_ACTION      4  testuser4   \n",
       "2     DONE_PROJECT_PROGRESS_ACTION      1  testuser1   \n",
       "3   CREATE_PROJECT_PROGRESS_ACTION      2  testuser2   \n",
       "4   CREATE_PROJECT_PROGRESS_ACTION      3  testuser3   \n",
       "..                             ...    ...        ...   \n",
       "95  CREATE_PROJECT_PROGRESS_ACTION      1  testuser1   \n",
       "96    DONE_PROJECT_PROGRESS_ACTION      2  testuser2   \n",
       "97  CREATE_PROJECT_PROGRESS_ACTION      3  testuser3   \n",
       "98    DONE_PROJECT_PROGRESS_ACTION      1  testuser1   \n",
       "99  CREATE_PROJECT_PROGRESS_ACTION      4  testuser4   \n",
       "\n",
       "                      timestamp  workspaceId  \\\n",
       "0   2025-06-09T23:46:31.072466Z            1   \n",
       "1   2025-06-12T06:09:44.072507Z            1   \n",
       "2   2025-06-10T06:09:44.072540Z            1   \n",
       "3   2025-05-29T07:23:58.072562Z            1   \n",
       "4   2025-06-15T00:53:50.072582Z            1   \n",
       "..                          ...          ...   \n",
       "95  2025-05-17T18:59:07.074155Z            1   \n",
       "96  2025-06-12T06:09:44.074168Z            1   \n",
       "97  2025-05-31T22:31:09.074183Z            1   \n",
       "98  2025-06-10T06:09:44.074195Z            1   \n",
       "99  2025-05-18T09:41:15.074211Z            1   \n",
       "\n",
       "                                 details.participants details.state  \\\n",
       "0   [{'userId': 3, 'username': 'testuser3'}, {'use...   IN_PROGRESS   \n",
       "1   [{'userId': 1, 'username': 'testuser1'}, {'use...          DONE   \n",
       "2   [{'userId': 1, 'username': 'testuser1'}, {'use...          DONE   \n",
       "3   [{'userId': 4, 'username': 'testuser4'}, {'use...        BEFORE   \n",
       "4   [{'userId': 2, 'username': 'testuser2'}, {'use...        BEFORE   \n",
       "..                                                ...           ...   \n",
       "95  [{'userId': 5, 'username': 'testuser5'}, {'use...   IN_PROGRESS   \n",
       "96  [{'userId': 4, 'username': 'testuser4'}, {'use...          DONE   \n",
       "97  [{'userId': 1, 'username': 'testuser1'}, {'use...   IN_PROGRESS   \n",
       "98  [{'userId': 2, 'username': 'testuser2'}, {'use...          DONE   \n",
       "99  [{'userId': 3, 'username': 'testuser3'}, {'use...        BEFORE   \n",
       "\n",
       "   details.name  details.importance           details.startDate  \\\n",
       "0      배송 상태 추적                   1                        None   \n",
       "1        배송비 계산                   1  2025-06-12T03:09:44.072507   \n",
       "2   결제 게이트웨이 연동                   2  2025-06-07T06:09:44.072540   \n",
       "3      상품 리뷰 표시                   3                        None   \n",
       "4         알림 통계                   5                        None   \n",
       "..          ...                 ...                         ...   \n",
       "95        정렬 기능                   5                        None   \n",
       "96     KPI 모니터링                   5  2025-06-07T06:09:44.074168   \n",
       "97        성능 지표                   1                        None   \n",
       "98       실시간 통계                   2  2025-06-04T06:09:44.074195   \n",
       "99      데이터 시각화                   2                        None   \n",
       "\n",
       "               details.endDate  \n",
       "0                         None  \n",
       "1   2025-06-12T06:09:44.072507  \n",
       "2   2025-06-10T06:09:44.072540  \n",
       "3                         None  \n",
       "4                         None  \n",
       "..                         ...  \n",
       "95                        None  \n",
       "96  2025-06-12T06:09:44.074168  \n",
       "97                        None  \n",
       "98  2025-06-10T06:09:44.074195  \n",
       "99                        None  \n",
       "\n",
       "[100 rows x 11 columns]"
      ]
     },
     "execution_count": 5,
     "metadata": {},
     "output_type": "execute_result"
    }
   ],
   "source": [
    "df"
   ]
  },
  {
   "cell_type": "code",
   "execution_count": 6,
   "id": "5a3f8ead",
   "metadata": {},
   "outputs": [
    {
     "name": "stdout",
     "output_type": "stream",
     "text": [
      "df['event'].unique():  ['CREATE_PROJECT_PROGRESS_ACTION' 'DONE_PROJECT_PROGRESS_ACTION']\n",
      "df['userId'].unique():  ['3' '4' '1' '2' '5']\n",
      "df['workspaceId'].unique():  [1]\n",
      "df['details.state'].unique():  ['IN_PROGRESS' 'DONE' 'BEFORE']\n",
      "df['details.importance'].unique():  [1 2 3 5 4]\n"
     ]
    }
   ],
   "source": [
    "# unique() 체크\n",
    "print(\"df['event'].unique(): \", df['event'].unique())\n",
    "print(\"df['userId'].unique(): \", df['userId'].unique())\n",
    "print(\"df['workspaceId'].unique(): \", df['workspaceId'].unique())\n",
    "\n",
    "print(\"df['details.state'].unique(): \", df['details.state'].unique())\n",
    "print(\"df['details.importance'].unique(): \", df['details.importance'].unique())"
   ]
  },
  {
   "cell_type": "code",
   "execution_count": 7,
   "id": "a1b322cd",
   "metadata": {},
   "outputs": [],
   "source": [
    "# 유저별 actions 분류\n",
    "df_user1 = df[df['userId'] == '1']\n",
    "df_user2 = df[df['userId'] == '2']\n",
    "df_user3 = df[df['userId'] == '3']\n",
    "df_user4 = df[df['userId'] == '4']\n",
    "df_user5 = df[df['userId'] == '5']"
   ]
  },
  {
   "cell_type": "code",
   "execution_count": 8,
   "id": "8572ae03",
   "metadata": {},
   "outputs": [
    {
     "name": "stdout",
     "output_type": "stream",
     "text": [
      "44\n",
      "27\n",
      "14\n",
      "7\n",
      "8\n"
     ]
    }
   ],
   "source": [
    "# 유저별 할당된 actions 갯수 확인\n",
    "print(len(df_user1))\n",
    "print(len(df_user2))\n",
    "print(len(df_user3))\n",
    "print(len(df_user4))\n",
    "print(len(df_user5))"
   ]
  },
  {
   "cell_type": "code",
   "execution_count": 9,
   "id": "5da43cd3",
   "metadata": {},
   "outputs": [],
   "source": [
    "# 1. 담당자 불균형 분석 -> Bar plot\n",
    "# - point columns = details.participants, details.importance\n",
    "# - 작업이 특정 개발자에게 몰리는가 -> userId별 분류 -> status별 분류 -> 시각화\n",
    "#   - status는 왜? 이미 진행 중인 작업이 많은 개발자에게 얼마나 더 할당되어 있는가\n",
    "# - 각 개발자가 맡은 업무의 중요도 분포는 어떻게 되는가\n",
    "# - status는 중요하지 않음, participants 체크가 중요"
   ]
  },
  {
   "cell_type": "code",
   "execution_count": 10,
   "id": "b7f6a7b3",
   "metadata": {},
   "outputs": [
    {
     "data": {
      "text/html": [
       "<div>\n",
       "<style scoped>\n",
       "    .dataframe tbody tr th:only-of-type {\n",
       "        vertical-align: middle;\n",
       "    }\n",
       "\n",
       "    .dataframe tbody tr th {\n",
       "        vertical-align: top;\n",
       "    }\n",
       "\n",
       "    .dataframe thead th {\n",
       "        text-align: right;\n",
       "    }\n",
       "</style>\n",
       "<table border=\"1\" class=\"dataframe\">\n",
       "  <thead>\n",
       "    <tr style=\"text-align: right;\">\n",
       "      <th></th>\n",
       "      <th>details.state</th>\n",
       "      <th>details.importance</th>\n",
       "    </tr>\n",
       "  </thead>\n",
       "  <tbody>\n",
       "    <tr>\n",
       "      <th>2</th>\n",
       "      <td>DONE</td>\n",
       "      <td>2</td>\n",
       "    </tr>\n",
       "    <tr>\n",
       "      <th>5</th>\n",
       "      <td>BEFORE</td>\n",
       "      <td>5</td>\n",
       "    </tr>\n",
       "    <tr>\n",
       "      <th>9</th>\n",
       "      <td>BEFORE</td>\n",
       "      <td>2</td>\n",
       "    </tr>\n",
       "    <tr>\n",
       "      <th>10</th>\n",
       "      <td>BEFORE</td>\n",
       "      <td>3</td>\n",
       "    </tr>\n",
       "    <tr>\n",
       "      <th>11</th>\n",
       "      <td>DONE</td>\n",
       "      <td>5</td>\n",
       "    </tr>\n",
       "    <tr>\n",
       "      <th>12</th>\n",
       "      <td>DONE</td>\n",
       "      <td>2</td>\n",
       "    </tr>\n",
       "    <tr>\n",
       "      <th>14</th>\n",
       "      <td>DONE</td>\n",
       "      <td>2</td>\n",
       "    </tr>\n",
       "    <tr>\n",
       "      <th>18</th>\n",
       "      <td>BEFORE</td>\n",
       "      <td>4</td>\n",
       "    </tr>\n",
       "    <tr>\n",
       "      <th>23</th>\n",
       "      <td>BEFORE</td>\n",
       "      <td>5</td>\n",
       "    </tr>\n",
       "    <tr>\n",
       "      <th>24</th>\n",
       "      <td>DONE</td>\n",
       "      <td>2</td>\n",
       "    </tr>\n",
       "    <tr>\n",
       "      <th>26</th>\n",
       "      <td>BEFORE</td>\n",
       "      <td>4</td>\n",
       "    </tr>\n",
       "    <tr>\n",
       "      <th>28</th>\n",
       "      <td>DONE</td>\n",
       "      <td>1</td>\n",
       "    </tr>\n",
       "    <tr>\n",
       "      <th>32</th>\n",
       "      <td>IN_PROGRESS</td>\n",
       "      <td>4</td>\n",
       "    </tr>\n",
       "    <tr>\n",
       "      <th>35</th>\n",
       "      <td>BEFORE</td>\n",
       "      <td>3</td>\n",
       "    </tr>\n",
       "    <tr>\n",
       "      <th>38</th>\n",
       "      <td>BEFORE</td>\n",
       "      <td>1</td>\n",
       "    </tr>\n",
       "    <tr>\n",
       "      <th>39</th>\n",
       "      <td>DONE</td>\n",
       "      <td>2</td>\n",
       "    </tr>\n",
       "    <tr>\n",
       "      <th>40</th>\n",
       "      <td>BEFORE</td>\n",
       "      <td>5</td>\n",
       "    </tr>\n",
       "    <tr>\n",
       "      <th>41</th>\n",
       "      <td>DONE</td>\n",
       "      <td>1</td>\n",
       "    </tr>\n",
       "    <tr>\n",
       "      <th>42</th>\n",
       "      <td>BEFORE</td>\n",
       "      <td>5</td>\n",
       "    </tr>\n",
       "    <tr>\n",
       "      <th>43</th>\n",
       "      <td>BEFORE</td>\n",
       "      <td>5</td>\n",
       "    </tr>\n",
       "    <tr>\n",
       "      <th>49</th>\n",
       "      <td>DONE</td>\n",
       "      <td>3</td>\n",
       "    </tr>\n",
       "    <tr>\n",
       "      <th>52</th>\n",
       "      <td>BEFORE</td>\n",
       "      <td>3</td>\n",
       "    </tr>\n",
       "    <tr>\n",
       "      <th>54</th>\n",
       "      <td>BEFORE</td>\n",
       "      <td>1</td>\n",
       "    </tr>\n",
       "    <tr>\n",
       "      <th>58</th>\n",
       "      <td>BEFORE</td>\n",
       "      <td>3</td>\n",
       "    </tr>\n",
       "    <tr>\n",
       "      <th>59</th>\n",
       "      <td>BEFORE</td>\n",
       "      <td>2</td>\n",
       "    </tr>\n",
       "    <tr>\n",
       "      <th>62</th>\n",
       "      <td>BEFORE</td>\n",
       "      <td>3</td>\n",
       "    </tr>\n",
       "    <tr>\n",
       "      <th>63</th>\n",
       "      <td>BEFORE</td>\n",
       "      <td>2</td>\n",
       "    </tr>\n",
       "    <tr>\n",
       "      <th>67</th>\n",
       "      <td>DONE</td>\n",
       "      <td>4</td>\n",
       "    </tr>\n",
       "    <tr>\n",
       "      <th>68</th>\n",
       "      <td>BEFORE</td>\n",
       "      <td>2</td>\n",
       "    </tr>\n",
       "    <tr>\n",
       "      <th>69</th>\n",
       "      <td>BEFORE</td>\n",
       "      <td>1</td>\n",
       "    </tr>\n",
       "    <tr>\n",
       "      <th>70</th>\n",
       "      <td>BEFORE</td>\n",
       "      <td>3</td>\n",
       "    </tr>\n",
       "    <tr>\n",
       "      <th>73</th>\n",
       "      <td>DONE</td>\n",
       "      <td>5</td>\n",
       "    </tr>\n",
       "    <tr>\n",
       "      <th>74</th>\n",
       "      <td>DONE</td>\n",
       "      <td>2</td>\n",
       "    </tr>\n",
       "    <tr>\n",
       "      <th>75</th>\n",
       "      <td>DONE</td>\n",
       "      <td>5</td>\n",
       "    </tr>\n",
       "    <tr>\n",
       "      <th>78</th>\n",
       "      <td>DONE</td>\n",
       "      <td>4</td>\n",
       "    </tr>\n",
       "    <tr>\n",
       "      <th>80</th>\n",
       "      <td>BEFORE</td>\n",
       "      <td>3</td>\n",
       "    </tr>\n",
       "    <tr>\n",
       "      <th>81</th>\n",
       "      <td>DONE</td>\n",
       "      <td>4</td>\n",
       "    </tr>\n",
       "    <tr>\n",
       "      <th>84</th>\n",
       "      <td>DONE</td>\n",
       "      <td>3</td>\n",
       "    </tr>\n",
       "    <tr>\n",
       "      <th>86</th>\n",
       "      <td>BEFORE</td>\n",
       "      <td>4</td>\n",
       "    </tr>\n",
       "    <tr>\n",
       "      <th>87</th>\n",
       "      <td>DONE</td>\n",
       "      <td>2</td>\n",
       "    </tr>\n",
       "    <tr>\n",
       "      <th>88</th>\n",
       "      <td>BEFORE</td>\n",
       "      <td>2</td>\n",
       "    </tr>\n",
       "    <tr>\n",
       "      <th>93</th>\n",
       "      <td>DONE</td>\n",
       "      <td>5</td>\n",
       "    </tr>\n",
       "    <tr>\n",
       "      <th>95</th>\n",
       "      <td>IN_PROGRESS</td>\n",
       "      <td>5</td>\n",
       "    </tr>\n",
       "    <tr>\n",
       "      <th>98</th>\n",
       "      <td>DONE</td>\n",
       "      <td>2</td>\n",
       "    </tr>\n",
       "  </tbody>\n",
       "</table>\n",
       "</div>"
      ],
      "text/plain": [
       "   details.state  details.importance\n",
       "2           DONE                   2\n",
       "5         BEFORE                   5\n",
       "9         BEFORE                   2\n",
       "10        BEFORE                   3\n",
       "11          DONE                   5\n",
       "12          DONE                   2\n",
       "14          DONE                   2\n",
       "18        BEFORE                   4\n",
       "23        BEFORE                   5\n",
       "24          DONE                   2\n",
       "26        BEFORE                   4\n",
       "28          DONE                   1\n",
       "32   IN_PROGRESS                   4\n",
       "35        BEFORE                   3\n",
       "38        BEFORE                   1\n",
       "39          DONE                   2\n",
       "40        BEFORE                   5\n",
       "41          DONE                   1\n",
       "42        BEFORE                   5\n",
       "43        BEFORE                   5\n",
       "49          DONE                   3\n",
       "52        BEFORE                   3\n",
       "54        BEFORE                   1\n",
       "58        BEFORE                   3\n",
       "59        BEFORE                   2\n",
       "62        BEFORE                   3\n",
       "63        BEFORE                   2\n",
       "67          DONE                   4\n",
       "68        BEFORE                   2\n",
       "69        BEFORE                   1\n",
       "70        BEFORE                   3\n",
       "73          DONE                   5\n",
       "74          DONE                   2\n",
       "75          DONE                   5\n",
       "78          DONE                   4\n",
       "80        BEFORE                   3\n",
       "81          DONE                   4\n",
       "84          DONE                   3\n",
       "86        BEFORE                   4\n",
       "87          DONE                   2\n",
       "88        BEFORE                   2\n",
       "93          DONE                   5\n",
       "95   IN_PROGRESS                   5\n",
       "98          DONE                   2"
      ]
     },
     "execution_count": 10,
     "metadata": {},
     "output_type": "execute_result"
    }
   ],
   "source": [
    "df_user1[['details.state', 'details.importance']]"
   ]
  },
  {
   "cell_type": "code",
   "execution_count": 26,
   "id": "013b02c6",
   "metadata": {},
   "outputs": [
    {
     "data": {
      "text/html": [
       "<div>\n",
       "<style scoped>\n",
       "    .dataframe tbody tr th:only-of-type {\n",
       "        vertical-align: middle;\n",
       "    }\n",
       "\n",
       "    .dataframe tbody tr th {\n",
       "        vertical-align: top;\n",
       "    }\n",
       "\n",
       "    .dataframe thead th {\n",
       "        text-align: right;\n",
       "    }\n",
       "</style>\n",
       "<table border=\"1\" class=\"dataframe\">\n",
       "  <thead>\n",
       "    <tr style=\"text-align: right;\">\n",
       "      <th></th>\n",
       "      <th></th>\n",
       "      <th>userId</th>\n",
       "    </tr>\n",
       "    <tr>\n",
       "      <th>details.state</th>\n",
       "      <th>details.importance</th>\n",
       "      <th></th>\n",
       "    </tr>\n",
       "  </thead>\n",
       "  <tbody>\n",
       "    <tr>\n",
       "      <th rowspan=\"5\" valign=\"top\">BEFORE</th>\n",
       "      <th>1</th>\n",
       "      <td>3</td>\n",
       "    </tr>\n",
       "    <tr>\n",
       "      <th>2</th>\n",
       "      <td>5</td>\n",
       "    </tr>\n",
       "    <tr>\n",
       "      <th>3</th>\n",
       "      <td>7</td>\n",
       "    </tr>\n",
       "    <tr>\n",
       "      <th>4</th>\n",
       "      <td>3</td>\n",
       "    </tr>\n",
       "    <tr>\n",
       "      <th>5</th>\n",
       "      <td>5</td>\n",
       "    </tr>\n",
       "    <tr>\n",
       "      <th rowspan=\"5\" valign=\"top\">DONE</th>\n",
       "      <th>1</th>\n",
       "      <td>2</td>\n",
       "    </tr>\n",
       "    <tr>\n",
       "      <th>2</th>\n",
       "      <td>8</td>\n",
       "    </tr>\n",
       "    <tr>\n",
       "      <th>3</th>\n",
       "      <td>2</td>\n",
       "    </tr>\n",
       "    <tr>\n",
       "      <th>4</th>\n",
       "      <td>3</td>\n",
       "    </tr>\n",
       "    <tr>\n",
       "      <th>5</th>\n",
       "      <td>4</td>\n",
       "    </tr>\n",
       "    <tr>\n",
       "      <th rowspan=\"2\" valign=\"top\">IN_PROGRESS</th>\n",
       "      <th>4</th>\n",
       "      <td>1</td>\n",
       "    </tr>\n",
       "    <tr>\n",
       "      <th>5</th>\n",
       "      <td>1</td>\n",
       "    </tr>\n",
       "  </tbody>\n",
       "</table>\n",
       "</div>"
      ],
      "text/plain": [
       "                                  userId\n",
       "details.state details.importance        \n",
       "BEFORE        1                        3\n",
       "              2                        5\n",
       "              3                        7\n",
       "              4                        3\n",
       "              5                        5\n",
       "DONE          1                        2\n",
       "              2                        8\n",
       "              3                        2\n",
       "              4                        3\n",
       "              5                        4\n",
       "IN_PROGRESS   4                        1\n",
       "              5                        1"
      ]
     },
     "execution_count": 26,
     "metadata": {},
     "output_type": "execute_result"
    }
   ],
   "source": [
    "temp = df_user1.groupby(['details.state', 'details.importance'])['userId'].count()\n",
    "temp.to_frame()"
   ]
  },
  {
   "cell_type": "code",
   "execution_count": 42,
   "id": "fd454527",
   "metadata": {},
   "outputs": [
    {
     "ename": "TypeError",
     "evalue": "GroupBy.count() takes 1 positional argument but 2 were given",
     "output_type": "error",
     "traceback": [
      "\u001b[1;31m---------------------------------------------------------------------------\u001b[0m",
      "\u001b[1;31mTypeError\u001b[0m                                 Traceback (most recent call last)",
      "Cell \u001b[1;32mIn[42], line 2\u001b[0m\n\u001b[0;32m      1\u001b[0m \u001b[38;5;66;03m# temp = df_user1.groupby('details.state')[['details.importance', 'userId']].count()\u001b[39;00m\n\u001b[1;32m----> 2\u001b[0m temp \u001b[38;5;241m=\u001b[39m \u001b[43mdf_user1\u001b[49m\u001b[38;5;241;43m.\u001b[39;49m\u001b[43mgroupby\u001b[49m\u001b[43m(\u001b[49m\u001b[38;5;124;43m'\u001b[39;49m\u001b[38;5;124;43mdetails.importance\u001b[39;49m\u001b[38;5;124;43m'\u001b[39;49m\u001b[43m)\u001b[49m\u001b[43m[\u001b[49m\u001b[43m[\u001b[49m\u001b[38;5;124;43m'\u001b[39;49m\u001b[38;5;124;43mdetails.state\u001b[39;49m\u001b[38;5;124;43m'\u001b[39;49m\u001b[43m,\u001b[49m\u001b[43m \u001b[49m\u001b[38;5;124;43m'\u001b[39;49m\u001b[38;5;124;43muserId\u001b[39;49m\u001b[38;5;124;43m'\u001b[39;49m\u001b[43m]\u001b[49m\u001b[43m]\u001b[49m\u001b[38;5;241;43m.\u001b[39;49m\u001b[43mcount\u001b[49m\u001b[43m(\u001b[49m\u001b[38;5;124;43m'\u001b[39;49m\u001b[38;5;124;43muserId\u001b[39;49m\u001b[38;5;124;43m'\u001b[39;49m\u001b[43m)\u001b[49m\n\u001b[0;32m      4\u001b[0m temp\n",
      "\u001b[1;31mTypeError\u001b[0m: GroupBy.count() takes 1 positional argument but 2 were given"
     ]
    }
   ],
   "source": [
    "# temp = df_user1.groupby('details.state')[['details.importance', 'userId']].count()\n",
    "temp = df_user1.groupby('details.importance')[['details.state', 'userId']].count('userId')\n",
    "\n",
    "temp"
   ]
  },
  {
   "cell_type": "code",
   "execution_count": null,
   "id": "234a5191",
   "metadata": {},
   "outputs": [
    {
     "name": "stdout",
     "output_type": "stream",
     "text": [
      "[\n",
      "  {\n",
      "    \"state\": \"BEFORE\",\n",
      "    \"importance\": 1,\n",
      "    \"actions_count\": 3\n",
      "  },\n",
      "  {\n",
      "    \"state\": \"BEFORE\",\n",
      "    \"importance\": 2,\n",
      "    \"actions_count\": 5\n",
      "  },\n",
      "  {\n",
      "    \"state\": \"BEFORE\",\n",
      "    \"importance\": 3,\n",
      "    \"actions_count\": 7\n",
      "  },\n",
      "  {\n",
      "    \"state\": \"BEFORE\",\n",
      "    \"importance\": 4,\n",
      "    \"actions_count\": 3\n",
      "  },\n",
      "  {\n",
      "    \"state\": \"BEFORE\",\n",
      "    \"importance\": 5,\n",
      "    \"actions_count\": 5\n",
      "  },\n",
      "  {\n",
      "    \"state\": \"DONE\",\n",
      "    \"importance\": 1,\n",
      "    \"actions_count\": 2\n",
      "  },\n",
      "  {\n",
      "    \"state\": \"DONE\",\n",
      "    \"importance\": 2,\n",
      "    \"actions_count\": 8\n",
      "  },\n",
      "  {\n",
      "    \"state\": \"DONE\",\n",
      "    \"importance\": 3,\n",
      "    \"actions_count\": 2\n",
      "  },\n",
      "  {\n",
      "    \"state\": \"DONE\",\n",
      "    \"importance\": 4,\n",
      "    \"actions_count\": 3\n",
      "  },\n",
      "  {\n",
      "    \"state\": \"DONE\",\n",
      "    \"importance\": 5,\n",
      "    \"actions_count\": 4\n",
      "  },\n",
      "  {\n",
      "    \"state\": \"IN_PROGRESS\",\n",
      "    \"importance\": 4,\n",
      "    \"actions_count\": 1\n",
      "  },\n",
      "  {\n",
      "    \"state\": \"IN_PROGRESS\",\n",
      "    \"importance\": 5,\n",
      "    \"actions_count\": 1\n",
      "  }\n",
      "]\n"
     ]
    }
   ],
   "source": [
    "grouped = df_user1.groupby(['details.state', 'details.importance'])['userId'].count()\n",
    "\n",
    "# index를 컬럼으로 풀고 이름 변경\n",
    "flatten_df = grouped.reset_index().rename(\n",
    "    columns={\n",
    "        'details.state': 'state',\n",
    "        'details.importance': 'importance',\n",
    "        'userId': 'actions_count'\n",
    "    }\n",
    ")\n",
    "\n",
    "flattened_json = flatten_df.to_dict(orient='records')\n",
    "print(json.dumps(flattened_json, indent=2, ensure_ascii=False))"
   ]
  },
  {
   "cell_type": "code",
   "execution_count": 30,
   "id": "5c129ee3",
   "metadata": {},
   "outputs": [
    {
     "data": {
      "text/html": [
       "<div>\n",
       "<style scoped>\n",
       "    .dataframe tbody tr th:only-of-type {\n",
       "        vertical-align: middle;\n",
       "    }\n",
       "\n",
       "    .dataframe tbody tr th {\n",
       "        vertical-align: top;\n",
       "    }\n",
       "\n",
       "    .dataframe thead th {\n",
       "        text-align: right;\n",
       "    }\n",
       "</style>\n",
       "<table border=\"1\" class=\"dataframe\">\n",
       "  <thead>\n",
       "    <tr style=\"text-align: right;\">\n",
       "      <th></th>\n",
       "      <th></th>\n",
       "      <th>userId</th>\n",
       "    </tr>\n",
       "    <tr>\n",
       "      <th>details.state</th>\n",
       "      <th>details.importance</th>\n",
       "      <th></th>\n",
       "    </tr>\n",
       "  </thead>\n",
       "  <tbody>\n",
       "    <tr>\n",
       "      <th rowspan=\"5\" valign=\"top\">BEFORE</th>\n",
       "      <th>1</th>\n",
       "      <td>3</td>\n",
       "    </tr>\n",
       "    <tr>\n",
       "      <th>2</th>\n",
       "      <td>5</td>\n",
       "    </tr>\n",
       "    <tr>\n",
       "      <th>3</th>\n",
       "      <td>7</td>\n",
       "    </tr>\n",
       "    <tr>\n",
       "      <th>4</th>\n",
       "      <td>3</td>\n",
       "    </tr>\n",
       "    <tr>\n",
       "      <th>5</th>\n",
       "      <td>5</td>\n",
       "    </tr>\n",
       "    <tr>\n",
       "      <th rowspan=\"5\" valign=\"top\">DONE</th>\n",
       "      <th>1</th>\n",
       "      <td>2</td>\n",
       "    </tr>\n",
       "    <tr>\n",
       "      <th>2</th>\n",
       "      <td>8</td>\n",
       "    </tr>\n",
       "    <tr>\n",
       "      <th>3</th>\n",
       "      <td>2</td>\n",
       "    </tr>\n",
       "    <tr>\n",
       "      <th>4</th>\n",
       "      <td>3</td>\n",
       "    </tr>\n",
       "    <tr>\n",
       "      <th>5</th>\n",
       "      <td>4</td>\n",
       "    </tr>\n",
       "    <tr>\n",
       "      <th rowspan=\"2\" valign=\"top\">IN_PROGRESS</th>\n",
       "      <th>4</th>\n",
       "      <td>1</td>\n",
       "    </tr>\n",
       "    <tr>\n",
       "      <th>5</th>\n",
       "      <td>1</td>\n",
       "    </tr>\n",
       "  </tbody>\n",
       "</table>\n",
       "</div>"
      ],
      "text/plain": [
       "                                  userId\n",
       "details.state details.importance        \n",
       "BEFORE        1                        3\n",
       "              2                        5\n",
       "              3                        7\n",
       "              4                        3\n",
       "              5                        5\n",
       "DONE          1                        2\n",
       "              2                        8\n",
       "              3                        2\n",
       "              4                        3\n",
       "              5                        4\n",
       "IN_PROGRESS   4                        1\n",
       "              5                        1"
      ]
     },
     "execution_count": 30,
     "metadata": {},
     "output_type": "execute_result"
    }
   ],
   "source": [
    "temp.to_frame()"
   ]
  },
  {
   "cell_type": "code",
   "execution_count": null,
   "id": "aa51938a",
   "metadata": {},
   "outputs": [
    {
     "ename": "ValueError",
     "evalue": "Value of 'color' is not the name of a column in 'data_frame'. Expected one of ['userId'] but received: details.importance",
     "output_type": "error",
     "traceback": [
      "\u001b[1;31m---------------------------------------------------------------------------\u001b[0m",
      "\u001b[1;31mValueError\u001b[0m                                Traceback (most recent call last)",
      "Cell \u001b[1;32mIn[34], line 1\u001b[0m\n\u001b[1;32m----> 1\u001b[0m fig \u001b[38;5;241m=\u001b[39m \u001b[43mpx\u001b[49m\u001b[38;5;241;43m.\u001b[39;49m\u001b[43mbar\u001b[49m\u001b[43m(\u001b[49m\n\u001b[0;32m      2\u001b[0m \u001b[43m    \u001b[49m\u001b[43mtemp\u001b[49m\u001b[43m,\u001b[49m\n\u001b[0;32m      3\u001b[0m \u001b[43m    \u001b[49m\u001b[43mx\u001b[49m\u001b[38;5;241;43m=\u001b[39;49m\u001b[38;5;124;43m\"\u001b[39;49m\u001b[38;5;124;43muserId\u001b[39;49m\u001b[38;5;124;43m\"\u001b[39;49m\u001b[43m,\u001b[49m\n\u001b[0;32m      4\u001b[0m \u001b[43m    \u001b[49m\u001b[43my\u001b[49m\u001b[38;5;241;43m=\u001b[39;49m\u001b[38;5;124;43m\"\u001b[39;49m\u001b[38;5;124;43muserId\u001b[39;49m\u001b[38;5;124;43m\"\u001b[39;49m\u001b[43m,\u001b[49m\n\u001b[0;32m      5\u001b[0m \u001b[43m    \u001b[49m\u001b[43mcolor\u001b[49m\u001b[38;5;241;43m=\u001b[39;49m\u001b[38;5;124;43m\"\u001b[39;49m\u001b[38;5;124;43mdetails.importance\u001b[39;49m\u001b[38;5;124;43m\"\u001b[39;49m\u001b[43m,\u001b[49m\n\u001b[0;32m      6\u001b[0m \u001b[43m    \u001b[49m\u001b[43mbarmode\u001b[49m\u001b[38;5;241;43m=\u001b[39;49m\u001b[38;5;124;43m\"\u001b[39;49m\u001b[38;5;124;43mstack\u001b[39;49m\u001b[38;5;124;43m\"\u001b[39;49m\u001b[43m,\u001b[49m\n\u001b[0;32m      7\u001b[0m \u001b[43m    \u001b[49m\u001b[43mtitle\u001b[49m\u001b[38;5;241;43m=\u001b[39;49m\u001b[38;5;124;43m\"\u001b[39;49m\u001b[38;5;124;43mUser Count by Importance and Status\u001b[39;49m\u001b[38;5;124;43m\"\u001b[39;49m\n\u001b[0;32m      8\u001b[0m \u001b[43m)\u001b[49m\n\u001b[0;32m     10\u001b[0m fig\u001b[38;5;241m.\u001b[39mshow()\n",
      "File \u001b[1;32mc:\\Users\\pje03\\Documents\\pja_MLOps\\Task_recommend\\use_agent\\agent-env\\lib\\site-packages\\plotly\\express\\_chart_types.py:381\u001b[0m, in \u001b[0;36mbar\u001b[1;34m(data_frame, x, y, color, pattern_shape, facet_row, facet_col, facet_col_wrap, facet_row_spacing, facet_col_spacing, hover_name, hover_data, custom_data, text, base, error_x, error_x_minus, error_y, error_y_minus, animation_frame, animation_group, category_orders, labels, color_discrete_sequence, color_discrete_map, color_continuous_scale, pattern_shape_sequence, pattern_shape_map, range_color, color_continuous_midpoint, opacity, orientation, barmode, log_x, log_y, range_x, range_y, text_auto, title, subtitle, template, width, height)\u001b[0m\n\u001b[0;32m    332\u001b[0m \u001b[38;5;28;01mdef\u001b[39;00m\u001b[38;5;250m \u001b[39m\u001b[38;5;21mbar\u001b[39m(\n\u001b[0;32m    333\u001b[0m     data_frame\u001b[38;5;241m=\u001b[39m\u001b[38;5;28;01mNone\u001b[39;00m,\n\u001b[0;32m    334\u001b[0m     x\u001b[38;5;241m=\u001b[39m\u001b[38;5;28;01mNone\u001b[39;00m,\n\u001b[1;32m   (...)\u001b[0m\n\u001b[0;32m    375\u001b[0m     height\u001b[38;5;241m=\u001b[39m\u001b[38;5;28;01mNone\u001b[39;00m,\n\u001b[0;32m    376\u001b[0m ) \u001b[38;5;241m-\u001b[39m\u001b[38;5;241m>\u001b[39m go\u001b[38;5;241m.\u001b[39mFigure:\n\u001b[0;32m    377\u001b[0m \u001b[38;5;250m    \u001b[39m\u001b[38;5;124;03m\"\"\"\u001b[39;00m\n\u001b[0;32m    378\u001b[0m \u001b[38;5;124;03m    In a bar plot, each row of `data_frame` is represented as a rectangular\u001b[39;00m\n\u001b[0;32m    379\u001b[0m \u001b[38;5;124;03m    mark.\u001b[39;00m\n\u001b[0;32m    380\u001b[0m \u001b[38;5;124;03m    \"\"\"\u001b[39;00m\n\u001b[1;32m--> 381\u001b[0m     \u001b[38;5;28;01mreturn\u001b[39;00m \u001b[43mmake_figure\u001b[49m\u001b[43m(\u001b[49m\n\u001b[0;32m    382\u001b[0m \u001b[43m        \u001b[49m\u001b[43margs\u001b[49m\u001b[38;5;241;43m=\u001b[39;49m\u001b[38;5;28;43mlocals\u001b[39;49m\u001b[43m(\u001b[49m\u001b[43m)\u001b[49m\u001b[43m,\u001b[49m\n\u001b[0;32m    383\u001b[0m \u001b[43m        \u001b[49m\u001b[43mconstructor\u001b[49m\u001b[38;5;241;43m=\u001b[39;49m\u001b[43mgo\u001b[49m\u001b[38;5;241;43m.\u001b[39;49m\u001b[43mBar\u001b[49m\u001b[43m,\u001b[49m\n\u001b[0;32m    384\u001b[0m \u001b[43m        \u001b[49m\u001b[43mtrace_patch\u001b[49m\u001b[38;5;241;43m=\u001b[39;49m\u001b[38;5;28;43mdict\u001b[39;49m\u001b[43m(\u001b[49m\u001b[43mtextposition\u001b[49m\u001b[38;5;241;43m=\u001b[39;49m\u001b[38;5;124;43m\"\u001b[39;49m\u001b[38;5;124;43mauto\u001b[39;49m\u001b[38;5;124;43m\"\u001b[39;49m\u001b[43m)\u001b[49m\u001b[43m,\u001b[49m\n\u001b[0;32m    385\u001b[0m \u001b[43m        \u001b[49m\u001b[43mlayout_patch\u001b[49m\u001b[38;5;241;43m=\u001b[39;49m\u001b[38;5;28;43mdict\u001b[39;49m\u001b[43m(\u001b[49m\u001b[43mbarmode\u001b[49m\u001b[38;5;241;43m=\u001b[39;49m\u001b[43mbarmode\u001b[49m\u001b[43m)\u001b[49m\u001b[43m,\u001b[49m\n\u001b[0;32m    386\u001b[0m \u001b[43m    \u001b[49m\u001b[43m)\u001b[49m\n",
      "File \u001b[1;32mc:\\Users\\pje03\\Documents\\pja_MLOps\\Task_recommend\\use_agent\\agent-env\\lib\\site-packages\\plotly\\express\\_core.py:2483\u001b[0m, in \u001b[0;36mmake_figure\u001b[1;34m(args, constructor, trace_patch, layout_patch)\u001b[0m\n\u001b[0;32m   2480\u001b[0m layout_patch \u001b[38;5;241m=\u001b[39m layout_patch \u001b[38;5;129;01mor\u001b[39;00m {}\n\u001b[0;32m   2481\u001b[0m apply_default_cascade(args)\n\u001b[1;32m-> 2483\u001b[0m args \u001b[38;5;241m=\u001b[39m \u001b[43mbuild_dataframe\u001b[49m\u001b[43m(\u001b[49m\u001b[43margs\u001b[49m\u001b[43m,\u001b[49m\u001b[43m \u001b[49m\u001b[43mconstructor\u001b[49m\u001b[43m)\u001b[49m\n\u001b[0;32m   2484\u001b[0m \u001b[38;5;28;01mif\u001b[39;00m constructor \u001b[38;5;129;01min\u001b[39;00m [go\u001b[38;5;241m.\u001b[39mTreemap, go\u001b[38;5;241m.\u001b[39mSunburst, go\u001b[38;5;241m.\u001b[39mIcicle] \u001b[38;5;129;01mand\u001b[39;00m args[\u001b[38;5;124m\"\u001b[39m\u001b[38;5;124mpath\u001b[39m\u001b[38;5;124m\"\u001b[39m] \u001b[38;5;129;01mis\u001b[39;00m \u001b[38;5;129;01mnot\u001b[39;00m \u001b[38;5;28;01mNone\u001b[39;00m:\n\u001b[0;32m   2485\u001b[0m     args \u001b[38;5;241m=\u001b[39m process_dataframe_hierarchy(args)\n",
      "File \u001b[1;32mc:\\Users\\pje03\\Documents\\pja_MLOps\\Task_recommend\\use_agent\\agent-env\\lib\\site-packages\\plotly\\express\\_core.py:1729\u001b[0m, in \u001b[0;36mbuild_dataframe\u001b[1;34m(args, constructor)\u001b[0m\n\u001b[0;32m   1726\u001b[0m     args[\u001b[38;5;124m\"\u001b[39m\u001b[38;5;124mcolor\u001b[39m\u001b[38;5;124m\"\u001b[39m] \u001b[38;5;241m=\u001b[39m \u001b[38;5;28;01mNone\u001b[39;00m\n\u001b[0;32m   1727\u001b[0m \u001b[38;5;66;03m# now that things have been prepped, we do the systematic rewriting of `args`\u001b[39;00m\n\u001b[1;32m-> 1729\u001b[0m df_output, wide_id_vars \u001b[38;5;241m=\u001b[39m \u001b[43mprocess_args_into_dataframe\u001b[49m\u001b[43m(\u001b[49m\n\u001b[0;32m   1730\u001b[0m \u001b[43m    \u001b[49m\u001b[43margs\u001b[49m\u001b[43m,\u001b[49m\n\u001b[0;32m   1731\u001b[0m \u001b[43m    \u001b[49m\u001b[43mwide_mode\u001b[49m\u001b[43m,\u001b[49m\n\u001b[0;32m   1732\u001b[0m \u001b[43m    \u001b[49m\u001b[43mvar_name\u001b[49m\u001b[43m,\u001b[49m\n\u001b[0;32m   1733\u001b[0m \u001b[43m    \u001b[49m\u001b[43mvalue_name\u001b[49m\u001b[43m,\u001b[49m\n\u001b[0;32m   1734\u001b[0m \u001b[43m    \u001b[49m\u001b[43mis_pd_like\u001b[49m\u001b[43m,\u001b[49m\n\u001b[0;32m   1735\u001b[0m \u001b[43m    \u001b[49m\u001b[43mnative_namespace\u001b[49m\u001b[43m,\u001b[49m\n\u001b[0;32m   1736\u001b[0m \u001b[43m\u001b[49m\u001b[43m)\u001b[49m\n\u001b[0;32m   1737\u001b[0m df_output: nw\u001b[38;5;241m.\u001b[39mDataFrame\n\u001b[0;32m   1738\u001b[0m \u001b[38;5;66;03m# now that `df_output` exists and `args` contains only references, we complete\u001b[39;00m\n\u001b[0;32m   1739\u001b[0m \u001b[38;5;66;03m# the special-case and wide-mode handling by further rewriting args and/or mutating\u001b[39;00m\n\u001b[0;32m   1740\u001b[0m \u001b[38;5;66;03m# df_output\u001b[39;00m\n",
      "File \u001b[1;32mc:\\Users\\pje03\\Documents\\pja_MLOps\\Task_recommend\\use_agent\\agent-env\\lib\\site-packages\\plotly\\express\\_core.py:1330\u001b[0m, in \u001b[0;36mprocess_args_into_dataframe\u001b[1;34m(args, wide_mode, var_name, value_name, is_pd_like, native_namespace)\u001b[0m\n\u001b[0;32m   1328\u001b[0m         \u001b[38;5;28;01mif\u001b[39;00m argument \u001b[38;5;241m==\u001b[39m \u001b[38;5;124m\"\u001b[39m\u001b[38;5;124mindex\u001b[39m\u001b[38;5;124m\"\u001b[39m:\n\u001b[0;32m   1329\u001b[0m             err_msg \u001b[38;5;241m+\u001b[39m\u001b[38;5;241m=\u001b[39m \u001b[38;5;124m\"\u001b[39m\u001b[38;5;130;01m\\n\u001b[39;00m\u001b[38;5;124m To use the index, pass it in directly as `df.index`.\u001b[39m\u001b[38;5;124m\"\u001b[39m\n\u001b[1;32m-> 1330\u001b[0m         \u001b[38;5;28;01mraise\u001b[39;00m \u001b[38;5;167;01mValueError\u001b[39;00m(err_msg)\n\u001b[0;32m   1331\u001b[0m \u001b[38;5;28;01melif\u001b[39;00m length \u001b[38;5;129;01mand\u001b[39;00m (actual_len \u001b[38;5;241m:=\u001b[39m \u001b[38;5;28mlen\u001b[39m(df_input)) \u001b[38;5;241m!=\u001b[39m length:\n\u001b[0;32m   1332\u001b[0m     \u001b[38;5;28;01mraise\u001b[39;00m \u001b[38;5;167;01mValueError\u001b[39;00m(\n\u001b[0;32m   1333\u001b[0m         \u001b[38;5;124m\"\u001b[39m\u001b[38;5;124mAll arguments should have the same length. \u001b[39m\u001b[38;5;124m\"\u001b[39m\n\u001b[0;32m   1334\u001b[0m         \u001b[38;5;124m\"\u001b[39m\u001b[38;5;124mThe length of column argument `df[\u001b[39m\u001b[38;5;132;01m%s\u001b[39;00m\u001b[38;5;124m]` is \u001b[39m\u001b[38;5;132;01m%d\u001b[39;00m\u001b[38;5;124m, whereas the \u001b[39m\u001b[38;5;124m\"\u001b[39m\n\u001b[1;32m   (...)\u001b[0m\n\u001b[0;32m   1341\u001b[0m         )\n\u001b[0;32m   1342\u001b[0m     )\n",
      "\u001b[1;31mValueError\u001b[0m: Value of 'color' is not the name of a column in 'data_frame'. Expected one of ['userId'] but received: details.importance"
     ]
    }
   ],
   "source": [
    "fig = px.bar(\n",
    "    temp,\n",
    "    x=\"details.state\",\n",
    "    y=\"userId\",\n",
    "    color=\"details.importance\",\n",
    "    barmode=\"stack\",\n",
    "    title=\"User Count by Importance and Status\"\n",
    ")\n",
    "\n",
    "fig.show()"
   ]
  },
  {
   "cell_type": "code",
   "execution_count": 15,
   "id": "3781b5fa",
   "metadata": {},
   "outputs": [
    {
     "data": {
      "application/vnd.plotly.v1+json": {
       "config": {
        "plotlyServerURL": "https://plot.ly"
       },
       "data": [
        {
         "alignmentgroup": "True",
         "hovertemplate": "state=BEFORE<br>importance=%{x}<br>actions_count=%{y}<extra></extra>",
         "legendgroup": "BEFORE",
         "marker": {
          "color": "#636efa",
          "pattern": {
           "shape": ""
          }
         },
         "name": "BEFORE",
         "offsetgroup": "BEFORE",
         "orientation": "v",
         "showlegend": true,
         "textposition": "auto",
         "type": "bar",
         "x": {
          "bdata": "AQIDBAU=",
          "dtype": "i1"
         },
         "xaxis": "x",
         "y": {
          "bdata": "AwUHAwU=",
          "dtype": "i1"
         },
         "yaxis": "y"
        },
        {
         "alignmentgroup": "True",
         "hovertemplate": "state=DONE<br>importance=%{x}<br>actions_count=%{y}<extra></extra>",
         "legendgroup": "DONE",
         "marker": {
          "color": "#EF553B",
          "pattern": {
           "shape": ""
          }
         },
         "name": "DONE",
         "offsetgroup": "DONE",
         "orientation": "v",
         "showlegend": true,
         "textposition": "auto",
         "type": "bar",
         "x": {
          "bdata": "AQIDBAU=",
          "dtype": "i1"
         },
         "xaxis": "x",
         "y": {
          "bdata": "AggCAwQ=",
          "dtype": "i1"
         },
         "yaxis": "y"
        },
        {
         "alignmentgroup": "True",
         "hovertemplate": "state=IN_PROGRESS<br>importance=%{x}<br>actions_count=%{y}<extra></extra>",
         "legendgroup": "IN_PROGRESS",
         "marker": {
          "color": "#00cc96",
          "pattern": {
           "shape": ""
          }
         },
         "name": "IN_PROGRESS",
         "offsetgroup": "IN_PROGRESS",
         "orientation": "v",
         "showlegend": true,
         "textposition": "auto",
         "type": "bar",
         "x": {
          "bdata": "BAU=",
          "dtype": "i1"
         },
         "xaxis": "x",
         "y": {
          "bdata": "AQE=",
          "dtype": "i1"
         },
         "yaxis": "y"
        }
       ],
       "layout": {
        "barmode": "group",
        "legend": {
         "title": {
          "text": "state"
         },
         "tracegroupgap": 0
        },
        "template": {
         "data": {
          "bar": [
           {
            "error_x": {
             "color": "#2a3f5f"
            },
            "error_y": {
             "color": "#2a3f5f"
            },
            "marker": {
             "line": {
              "color": "#E5ECF6",
              "width": 0.5
             },
             "pattern": {
              "fillmode": "overlay",
              "size": 10,
              "solidity": 0.2
             }
            },
            "type": "bar"
           }
          ],
          "barpolar": [
           {
            "marker": {
             "line": {
              "color": "#E5ECF6",
              "width": 0.5
             },
             "pattern": {
              "fillmode": "overlay",
              "size": 10,
              "solidity": 0.2
             }
            },
            "type": "barpolar"
           }
          ],
          "carpet": [
           {
            "aaxis": {
             "endlinecolor": "#2a3f5f",
             "gridcolor": "white",
             "linecolor": "white",
             "minorgridcolor": "white",
             "startlinecolor": "#2a3f5f"
            },
            "baxis": {
             "endlinecolor": "#2a3f5f",
             "gridcolor": "white",
             "linecolor": "white",
             "minorgridcolor": "white",
             "startlinecolor": "#2a3f5f"
            },
            "type": "carpet"
           }
          ],
          "choropleth": [
           {
            "colorbar": {
             "outlinewidth": 0,
             "ticks": ""
            },
            "type": "choropleth"
           }
          ],
          "contour": [
           {
            "colorbar": {
             "outlinewidth": 0,
             "ticks": ""
            },
            "colorscale": [
             [
              0,
              "#0d0887"
             ],
             [
              0.1111111111111111,
              "#46039f"
             ],
             [
              0.2222222222222222,
              "#7201a8"
             ],
             [
              0.3333333333333333,
              "#9c179e"
             ],
             [
              0.4444444444444444,
              "#bd3786"
             ],
             [
              0.5555555555555556,
              "#d8576b"
             ],
             [
              0.6666666666666666,
              "#ed7953"
             ],
             [
              0.7777777777777778,
              "#fb9f3a"
             ],
             [
              0.8888888888888888,
              "#fdca26"
             ],
             [
              1,
              "#f0f921"
             ]
            ],
            "type": "contour"
           }
          ],
          "contourcarpet": [
           {
            "colorbar": {
             "outlinewidth": 0,
             "ticks": ""
            },
            "type": "contourcarpet"
           }
          ],
          "heatmap": [
           {
            "colorbar": {
             "outlinewidth": 0,
             "ticks": ""
            },
            "colorscale": [
             [
              0,
              "#0d0887"
             ],
             [
              0.1111111111111111,
              "#46039f"
             ],
             [
              0.2222222222222222,
              "#7201a8"
             ],
             [
              0.3333333333333333,
              "#9c179e"
             ],
             [
              0.4444444444444444,
              "#bd3786"
             ],
             [
              0.5555555555555556,
              "#d8576b"
             ],
             [
              0.6666666666666666,
              "#ed7953"
             ],
             [
              0.7777777777777778,
              "#fb9f3a"
             ],
             [
              0.8888888888888888,
              "#fdca26"
             ],
             [
              1,
              "#f0f921"
             ]
            ],
            "type": "heatmap"
           }
          ],
          "histogram": [
           {
            "marker": {
             "pattern": {
              "fillmode": "overlay",
              "size": 10,
              "solidity": 0.2
             }
            },
            "type": "histogram"
           }
          ],
          "histogram2d": [
           {
            "colorbar": {
             "outlinewidth": 0,
             "ticks": ""
            },
            "colorscale": [
             [
              0,
              "#0d0887"
             ],
             [
              0.1111111111111111,
              "#46039f"
             ],
             [
              0.2222222222222222,
              "#7201a8"
             ],
             [
              0.3333333333333333,
              "#9c179e"
             ],
             [
              0.4444444444444444,
              "#bd3786"
             ],
             [
              0.5555555555555556,
              "#d8576b"
             ],
             [
              0.6666666666666666,
              "#ed7953"
             ],
             [
              0.7777777777777778,
              "#fb9f3a"
             ],
             [
              0.8888888888888888,
              "#fdca26"
             ],
             [
              1,
              "#f0f921"
             ]
            ],
            "type": "histogram2d"
           }
          ],
          "histogram2dcontour": [
           {
            "colorbar": {
             "outlinewidth": 0,
             "ticks": ""
            },
            "colorscale": [
             [
              0,
              "#0d0887"
             ],
             [
              0.1111111111111111,
              "#46039f"
             ],
             [
              0.2222222222222222,
              "#7201a8"
             ],
             [
              0.3333333333333333,
              "#9c179e"
             ],
             [
              0.4444444444444444,
              "#bd3786"
             ],
             [
              0.5555555555555556,
              "#d8576b"
             ],
             [
              0.6666666666666666,
              "#ed7953"
             ],
             [
              0.7777777777777778,
              "#fb9f3a"
             ],
             [
              0.8888888888888888,
              "#fdca26"
             ],
             [
              1,
              "#f0f921"
             ]
            ],
            "type": "histogram2dcontour"
           }
          ],
          "mesh3d": [
           {
            "colorbar": {
             "outlinewidth": 0,
             "ticks": ""
            },
            "type": "mesh3d"
           }
          ],
          "parcoords": [
           {
            "line": {
             "colorbar": {
              "outlinewidth": 0,
              "ticks": ""
             }
            },
            "type": "parcoords"
           }
          ],
          "pie": [
           {
            "automargin": true,
            "type": "pie"
           }
          ],
          "scatter": [
           {
            "fillpattern": {
             "fillmode": "overlay",
             "size": 10,
             "solidity": 0.2
            },
            "type": "scatter"
           }
          ],
          "scatter3d": [
           {
            "line": {
             "colorbar": {
              "outlinewidth": 0,
              "ticks": ""
             }
            },
            "marker": {
             "colorbar": {
              "outlinewidth": 0,
              "ticks": ""
             }
            },
            "type": "scatter3d"
           }
          ],
          "scattercarpet": [
           {
            "marker": {
             "colorbar": {
              "outlinewidth": 0,
              "ticks": ""
             }
            },
            "type": "scattercarpet"
           }
          ],
          "scattergeo": [
           {
            "marker": {
             "colorbar": {
              "outlinewidth": 0,
              "ticks": ""
             }
            },
            "type": "scattergeo"
           }
          ],
          "scattergl": [
           {
            "marker": {
             "colorbar": {
              "outlinewidth": 0,
              "ticks": ""
             }
            },
            "type": "scattergl"
           }
          ],
          "scattermap": [
           {
            "marker": {
             "colorbar": {
              "outlinewidth": 0,
              "ticks": ""
             }
            },
            "type": "scattermap"
           }
          ],
          "scattermapbox": [
           {
            "marker": {
             "colorbar": {
              "outlinewidth": 0,
              "ticks": ""
             }
            },
            "type": "scattermapbox"
           }
          ],
          "scatterpolar": [
           {
            "marker": {
             "colorbar": {
              "outlinewidth": 0,
              "ticks": ""
             }
            },
            "type": "scatterpolar"
           }
          ],
          "scatterpolargl": [
           {
            "marker": {
             "colorbar": {
              "outlinewidth": 0,
              "ticks": ""
             }
            },
            "type": "scatterpolargl"
           }
          ],
          "scatterternary": [
           {
            "marker": {
             "colorbar": {
              "outlinewidth": 0,
              "ticks": ""
             }
            },
            "type": "scatterternary"
           }
          ],
          "surface": [
           {
            "colorbar": {
             "outlinewidth": 0,
             "ticks": ""
            },
            "colorscale": [
             [
              0,
              "#0d0887"
             ],
             [
              0.1111111111111111,
              "#46039f"
             ],
             [
              0.2222222222222222,
              "#7201a8"
             ],
             [
              0.3333333333333333,
              "#9c179e"
             ],
             [
              0.4444444444444444,
              "#bd3786"
             ],
             [
              0.5555555555555556,
              "#d8576b"
             ],
             [
              0.6666666666666666,
              "#ed7953"
             ],
             [
              0.7777777777777778,
              "#fb9f3a"
             ],
             [
              0.8888888888888888,
              "#fdca26"
             ],
             [
              1,
              "#f0f921"
             ]
            ],
            "type": "surface"
           }
          ],
          "table": [
           {
            "cells": {
             "fill": {
              "color": "#EBF0F8"
             },
             "line": {
              "color": "white"
             }
            },
            "header": {
             "fill": {
              "color": "#C8D4E3"
             },
             "line": {
              "color": "white"
             }
            },
            "type": "table"
           }
          ]
         },
         "layout": {
          "annotationdefaults": {
           "arrowcolor": "#2a3f5f",
           "arrowhead": 0,
           "arrowwidth": 1
          },
          "autotypenumbers": "strict",
          "coloraxis": {
           "colorbar": {
            "outlinewidth": 0,
            "ticks": ""
           }
          },
          "colorscale": {
           "diverging": [
            [
             0,
             "#8e0152"
            ],
            [
             0.1,
             "#c51b7d"
            ],
            [
             0.2,
             "#de77ae"
            ],
            [
             0.3,
             "#f1b6da"
            ],
            [
             0.4,
             "#fde0ef"
            ],
            [
             0.5,
             "#f7f7f7"
            ],
            [
             0.6,
             "#e6f5d0"
            ],
            [
             0.7,
             "#b8e186"
            ],
            [
             0.8,
             "#7fbc41"
            ],
            [
             0.9,
             "#4d9221"
            ],
            [
             1,
             "#276419"
            ]
           ],
           "sequential": [
            [
             0,
             "#0d0887"
            ],
            [
             0.1111111111111111,
             "#46039f"
            ],
            [
             0.2222222222222222,
             "#7201a8"
            ],
            [
             0.3333333333333333,
             "#9c179e"
            ],
            [
             0.4444444444444444,
             "#bd3786"
            ],
            [
             0.5555555555555556,
             "#d8576b"
            ],
            [
             0.6666666666666666,
             "#ed7953"
            ],
            [
             0.7777777777777778,
             "#fb9f3a"
            ],
            [
             0.8888888888888888,
             "#fdca26"
            ],
            [
             1,
             "#f0f921"
            ]
           ],
           "sequentialminus": [
            [
             0,
             "#0d0887"
            ],
            [
             0.1111111111111111,
             "#46039f"
            ],
            [
             0.2222222222222222,
             "#7201a8"
            ],
            [
             0.3333333333333333,
             "#9c179e"
            ],
            [
             0.4444444444444444,
             "#bd3786"
            ],
            [
             0.5555555555555556,
             "#d8576b"
            ],
            [
             0.6666666666666666,
             "#ed7953"
            ],
            [
             0.7777777777777778,
             "#fb9f3a"
            ],
            [
             0.8888888888888888,
             "#fdca26"
            ],
            [
             1,
             "#f0f921"
            ]
           ]
          },
          "colorway": [
           "#636efa",
           "#EF553B",
           "#00cc96",
           "#ab63fa",
           "#FFA15A",
           "#19d3f3",
           "#FF6692",
           "#B6E880",
           "#FF97FF",
           "#FECB52"
          ],
          "font": {
           "color": "#2a3f5f"
          },
          "geo": {
           "bgcolor": "white",
           "lakecolor": "white",
           "landcolor": "#E5ECF6",
           "showlakes": true,
           "showland": true,
           "subunitcolor": "white"
          },
          "hoverlabel": {
           "align": "left"
          },
          "hovermode": "closest",
          "mapbox": {
           "style": "light"
          },
          "paper_bgcolor": "white",
          "plot_bgcolor": "#E5ECF6",
          "polar": {
           "angularaxis": {
            "gridcolor": "white",
            "linecolor": "white",
            "ticks": ""
           },
           "bgcolor": "#E5ECF6",
           "radialaxis": {
            "gridcolor": "white",
            "linecolor": "white",
            "ticks": ""
           }
          },
          "scene": {
           "xaxis": {
            "backgroundcolor": "#E5ECF6",
            "gridcolor": "white",
            "gridwidth": 2,
            "linecolor": "white",
            "showbackground": true,
            "ticks": "",
            "zerolinecolor": "white"
           },
           "yaxis": {
            "backgroundcolor": "#E5ECF6",
            "gridcolor": "white",
            "gridwidth": 2,
            "linecolor": "white",
            "showbackground": true,
            "ticks": "",
            "zerolinecolor": "white"
           },
           "zaxis": {
            "backgroundcolor": "#E5ECF6",
            "gridcolor": "white",
            "gridwidth": 2,
            "linecolor": "white",
            "showbackground": true,
            "ticks": "",
            "zerolinecolor": "white"
           }
          },
          "shapedefaults": {
           "line": {
            "color": "#2a3f5f"
           }
          },
          "ternary": {
           "aaxis": {
            "gridcolor": "white",
            "linecolor": "white",
            "ticks": ""
           },
           "baxis": {
            "gridcolor": "white",
            "linecolor": "white",
            "ticks": ""
           },
           "bgcolor": "#E5ECF6",
           "caxis": {
            "gridcolor": "white",
            "linecolor": "white",
            "ticks": ""
           }
          },
          "title": {
           "x": 0.05
          },
          "xaxis": {
           "automargin": true,
           "gridcolor": "white",
           "linecolor": "white",
           "ticks": "",
           "title": {
            "standoff": 15
           },
           "zerolinecolor": "white",
           "zerolinewidth": 2
          },
          "yaxis": {
           "automargin": true,
           "gridcolor": "white",
           "linecolor": "white",
           "ticks": "",
           "title": {
            "standoff": 15
           },
           "zerolinecolor": "white",
           "zerolinewidth": 2
          }
         }
        },
        "title": {
         "text": "User Count by Importance and Status"
        },
        "xaxis": {
         "anchor": "y",
         "domain": [
          0,
          1
         ],
         "title": {
          "text": "importance"
         }
        },
        "yaxis": {
         "anchor": "x",
         "domain": [
          0,
          1
         ],
         "title": {
          "text": "actions_count"
         }
        }
       }
      }
     },
     "metadata": {},
     "output_type": "display_data"
    }
   ],
   "source": [
    "df = pd.DataFrame(flattened_json)\n",
    "\n",
    "fig = px.bar(\n",
    "    df,\n",
    "    x=\"importance\",\n",
    "    y=\"actions_count\",\n",
    "    color=\"state\",\n",
    "    barmode=\"group\",\n",
    "    title=\"User Count by Importance and Status\"\n",
    ")\n",
    "\n",
    "fig.show()"
   ]
  },
  {
   "cell_type": "code",
   "execution_count": 16,
   "id": "71cefd02",
   "metadata": {},
   "outputs": [],
   "source": [
    "# 2. 중요도에 따른 평균 작업 처리 기간(시간) → Line chart\n",
    "# - userId별 분류 -> importance별 분류\n",
    "# - status==\"DONE\"인 로그의 timestamp.. INPROGRESS에서 DONE으로 바뀐 시간 간격 계산이 되나?\n",
    "# - "
   ]
  }
 ],
 "metadata": {
  "kernelspec": {
   "display_name": "agent-env",
   "language": "python",
   "name": "python3"
  },
  "language_info": {
   "codemirror_mode": {
    "name": "ipython",
    "version": 3
   },
   "file_extension": ".py",
   "mimetype": "text/x-python",
   "name": "python",
   "nbconvert_exporter": "python",
   "pygments_lexer": "ipython3",
   "version": "3.10.11"
  }
 },
 "nbformat": 4,
 "nbformat_minor": 5
}
