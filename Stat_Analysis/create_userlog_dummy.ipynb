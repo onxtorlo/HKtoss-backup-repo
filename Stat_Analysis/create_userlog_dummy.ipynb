{
 "cells": [
  {
   "cell_type": "code",
   "execution_count": null,
   "id": "32ad1465",
   "metadata": {},
   "outputs": [],
   "source": [
    "import random\n",
    "from datetime import datetime, timedelta\n",
    "import json"
   ]
  },
  {
   "cell_type": "code",
   "execution_count": 13,
   "id": "03d2d4dc",
   "metadata": {},
   "outputs": [],
   "source": [
    "user_ids = []  # testuser__\n",
    "username = []\n",
    "workspace_ids = []  # 0~99\n",
    "importance = [1, 2, 3, 4, 5]\n",
    "statuses = [\"INPROGRESS\", \"DONE\"]"
   ]
  },
  {
   "cell_type": "code",
   "execution_count": null,
   "id": "d4251020",
   "metadata": {},
   "outputs": [
    {
     "name": "stdout",
     "output_type": "stream",
     "text": [
      "[0, 1, 2, 3, 4, 5, 6, 7, 8, 9, 10, 11, 12, 13, 14, 15, 16, 17, 18, 19, 20, 21, 22, 23, 24, 25, 26, 27, 28, 29, 30, 31, 32, 33, 34, 35, 36, 37, 38, 39, 40, 41, 42, 43, 44, 45, 46, 47, 48, 49, 50, 51, 52, 53, 54, 55, 56, 57, 58, 59, 60, 61, 62, 63, 64, 65, 66, 67, 68, 69, 70, 71, 72, 73, 74, 75, 76, 77, 78, 79, 80, 81, 82, 83, 84, 85, 86, 87, 88, 89, 90, 91, 92, 93, 94, 95, 96, 97, 98, 0, 1, 2, 3, 4, 5, 6, 7, 8, 9, 10, 11, 12, 13, 14, 15, 16, 17, 18, 19, 20, 21, 22, 23, 24, 25, 26, 27, 28, 29, 30, 31, 32, 33, 34, 35, 36, 37, 38, 39, 40, 41, 42, 43, 44, 45, 46, 47, 48, 49, 50, 51, 52, 53, 54, 55, 56, 57, 58, 59, 60, 61, 62, 63, 64, 65, 66, 67, 68, 69, 70, 71, 72, 73, 74, 75, 76, 77, 78, 79, 80, 81, 82, 83, 84, 85, 86, 87, 88, 89, 90, 91, 92, 93, 94, 95, 96, 97, 98, 99, 0, 1, 2, 3, 4, 5, 6, 7, 8, 9, 10, 11, 12, 13, 14, 15, 16, 17, 18, 19, 20, 21, 22, 23, 24, 25, 26, 27, 28, 29, 30, 31, 32, 33, 34, 35, 36, 37, 38, 39, 40, 41, 42, 43, 44, 45, 46, 47, 48, 49, 50, 51, 52, 53, 54, 55, 56, 57, 58, 59, 60, 61, 62, 63, 64, 65, 66, 67, 68, 69, 70, 71, 72, 73, 74, 75, 76, 77, 78, 79, 80, 81, 82, 83, 84, 85, 86, 87, 88, 89, 90, 91, 92, 93, 94, 95, 96, 97, 98, 99]\n"
     ]
    }
   ],
   "source": [
    "# test\n",
    "user_ids = []  # initialization\n",
    "\n",
    "for i in range(100):\n",
    "    user_ids.append(i)\n",
    "\n",
    "print(user_ids)"
   ]
  },
  {
   "cell_type": "code",
   "execution_count": null,
   "id": "02c4530e",
   "metadata": {},
   "outputs": [
    {
     "name": "stdout",
     "output_type": "stream",
     "text": [
      "[0, 1, 2, 3, 4, 5, 6, 7, 8, 9, 10, 11, 12, 13, 14, 15, 16, 17, 18, 19, 20, 21, 22, 23, 24, 25, 26, 27, 28, 29, 30, 31, 32, 33, 34, 35, 36, 37, 38, 39, 40, 41, 42, 43, 44, 45, 46, 47, 48, 49, 50, 51, 52, 53, 54, 55, 56, 57, 58, 59, 60, 61, 62, 63, 64, 65, 66, 67, 68, 69, 70, 71, 72, 73, 74, 75, 76, 77, 78, 79, 80, 81, 82, 83, 84, 85, 86, 87, 88, 89, 90, 91, 92, 93, 94, 95, 96, 97, 98, 99]\n"
     ]
    }
   ],
   "source": [
    "# test\n",
    "username = []  # initialization\n",
    "\n",
    "for i in range(100:200):\n",
    "    name = f\"testuser{i:02}\"  # ':02' = 2자리 숫자 패딩\n",
    "    username.append(i)\n",
    "    # print(name)\n",
    "\n",
    "print(username)"
   ]
  },
  {
   "cell_type": "code",
   "execution_count": 16,
   "id": "9a486377",
   "metadata": {},
   "outputs": [
    {
     "name": "stdout",
     "output_type": "stream",
     "text": [
      "[0, 1, 2, 3, 4, 5, 6, 7, 8, 9, 10, 11, 12, 13, 14, 15, 16, 17, 18, 19, 20, 21, 22, 23, 24, 25, 26, 27, 28, 29, 30, 31, 32, 33, 34, 35, 36, 37, 38, 39, 40, 41, 42, 43, 44, 45, 46, 47, 48, 49, 50, 51, 52, 53, 54, 55, 56, 57, 58, 59, 60, 61, 62, 63, 64, 65, 66, 67, 68, 69, 70, 71, 72, 73, 74, 75, 76, 77, 78, 79, 80, 81, 82, 83, 84, 85, 86, 87, 88, 89, 90, 91, 92, 93, 94, 95, 96, 97, 98, 99]\n"
     ]
    }
   ],
   "source": [
    "# test\n",
    "workspace_ids = []  # initialization\n",
    "\n",
    "for i in range(100):\n",
    "    workspace_ids.append(i)\n",
    "\n",
    "print(workspace_ids)"
   ]
  },
  {
   "cell_type": "code",
   "execution_count": null,
   "id": "47cb8551",
   "metadata": {},
   "outputs": [],
   "source": [
    "def generate_dummy_logs(n=50, base_user_ids=None, base_workspace_ids=None):\n",
    "    logs = []\n",
    "\n",
    "    for i in range(100):\n",
    "        user_ids.append(i)\n",
    "    \n",
    "    for _ in range(n):\n",
    "        user_id = random.choice(user_ids)\n",
    "        workspace_id = random.choice(workspace_ids)\n",
    "        importance = random.randint(1, 5)\n",
    "        status = random.choices(statuses, weights=[0.4, 0.6])[0]\n",
    "        \n",
    "        base_date = datetime.now() - timedelta(days=random.randint(0, 30))\n",
    "        in_progress_date = base_date\n",
    "        completed_date = base_date + timedelta(days=random.randint(0, 10)) if status == \"DONE\" else None\n",
    "\n",
    "        log = {\n",
    "            \"event\": \"UPDATE_PROJECT_PROGRESS_ACTION\",\n",
    "            \"userId\": user_id,\n",
    "            \"username\": f\"testuser{user_id}\",\n",
    "            \"timestamp\": datetime.now().isoformat(),\n",
    "            \"workspaceId\": workspace_id,\n",
    "            \"details\": {\n",
    "                \"importance\": importance,\n",
    "                \"inProgressDate\": in_progress_date.isoformat(),\n",
    "                \"completedDate\": completed_date.isoformat() if completed_date else None,\n",
    "                \"status\": status\n",
    "            }\n",
    "        }\n",
    "\n",
    "        logs.append(log)\n",
    "    \n",
    "    return logs\n",
    "\n",
    "# 더미 생성\n",
    "dummy_logs = generate_dummy_logs(50)\n",
    "\n",
    "# 저장 (선택)\n",
    "with open(\"generated_logs_50.json\", \"w\", encoding=\"utf-8\") as f:\n",
    "    json.dump(dummy_logs, f, indent=2, ensure_ascii=False)\n"
   ]
  }
 ],
 "metadata": {
  "kernelspec": {
   "display_name": "agent-env",
   "language": "python",
   "name": "python3"
  },
  "language_info": {
   "codemirror_mode": {
    "name": "ipython",
    "version": 3
   },
   "file_extension": ".py",
   "mimetype": "text/x-python",
   "name": "python",
   "nbconvert_exporter": "python",
   "pygments_lexer": "ipython3",
   "version": "3.10.11"
  }
 },
 "nbformat": 4,
 "nbformat_minor": 5
}
