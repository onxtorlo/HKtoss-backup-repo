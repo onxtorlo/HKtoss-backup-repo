{
 "cells": [
  {
   "cell_type": "code",
   "execution_count": 1,
   "id": "e1c24cd8",
   "metadata": {},
   "outputs": [],
   "source": [
    "import json\n",
    "import pandas as pd\n",
    "import random\n",
    "from datetime import datetime, timedelta"
   ]
  },
  {
   "cell_type": "code",
   "execution_count": null,
   "id": "61a8c4f9",
   "metadata": {},
   "outputs": [],
   "source": [
    "# UPDATE_PARTICIPANT_TO_ACTION,    // ACTION 참여자 수정(참여자 추가 및 삭제) 이벤트\n",
    "# CREATE_PROJECT_PROGRESS_ACTION,  // ACTION 생성 이벤트\n",
    "# DELETE_PROJECT_PROGRESS_ACTION,  // ACTION 삭제 이벤트\n",
    "# DONE_PROJECT_PROGRESS_ACTION     // ACTION 상태 완료로 변경이벤트"
   ]
  },
  {
   "cell_type": "code",
   "execution_count": 51,
   "id": "cf67302f",
   "metadata": {},
   "outputs": [
    {
     "name": "stdout",
     "output_type": "stream",
     "text": [
      "<class 'pandas.core.frame.DataFrame'>\n",
      "RangeIndex: 5 entries, 0 to 4\n",
      "Data columns (total 11 columns):\n",
      " #   Column                Non-Null Count  Dtype \n",
      "---  ------                --------------  ----- \n",
      " 0   event                 5 non-null      object\n",
      " 1   userId                5 non-null      object\n",
      " 2   username              5 non-null      object\n",
      " 3   timestamp             5 non-null      object\n",
      " 4   workspaceId           5 non-null      int64 \n",
      " 5   details.participants  5 non-null      object\n",
      " 6   details.state         5 non-null      object\n",
      " 7   details.name          5 non-null      object\n",
      " 8   details.importance    5 non-null      int64 \n",
      " 9   details.startDate     1 non-null      object\n",
      " 10  details.endDate       1 non-null      object\n",
      "dtypes: int64(2), object(9)\n",
      "memory usage: 568.0+ bytes\n"
     ]
    }
   ],
   "source": [
    "LOG_DATA_PATH = \"data\\\\user-actions.json\"\n",
    "\n",
    "# 중첩 구조 평탄화해서 읽기\n",
    "with open(LOG_DATA_PATH, \"r\", encoding=\"utf-8\") as f:\n",
    "    data = [json.loads(line.strip()) for line in f if line.strip()]\n",
    "df = pd.json_normalize(data)\n",
    "df.info()"
   ]
  },
  {
   "cell_type": "code",
   "execution_count": 52,
   "id": "9af9436f",
   "metadata": {},
   "outputs": [
    {
     "data": {
      "text/html": [
       "<div>\n",
       "<style scoped>\n",
       "    .dataframe tbody tr th:only-of-type {\n",
       "        vertical-align: middle;\n",
       "    }\n",
       "\n",
       "    .dataframe tbody tr th {\n",
       "        vertical-align: top;\n",
       "    }\n",
       "\n",
       "    .dataframe thead th {\n",
       "        text-align: right;\n",
       "    }\n",
       "</style>\n",
       "<table border=\"1\" class=\"dataframe\">\n",
       "  <thead>\n",
       "    <tr style=\"text-align: right;\">\n",
       "      <th></th>\n",
       "      <th>event</th>\n",
       "      <th>userId</th>\n",
       "      <th>username</th>\n",
       "      <th>timestamp</th>\n",
       "      <th>workspaceId</th>\n",
       "      <th>details.participants</th>\n",
       "      <th>details.state</th>\n",
       "      <th>details.name</th>\n",
       "      <th>details.importance</th>\n",
       "      <th>details.startDate</th>\n",
       "      <th>details.endDate</th>\n",
       "    </tr>\n",
       "  </thead>\n",
       "  <tbody>\n",
       "    <tr>\n",
       "      <th>0</th>\n",
       "      <td>CREATE_PROJECT_PROGRESS_ACTION</td>\n",
       "      <td>1</td>\n",
       "      <td>testuser1</td>\n",
       "      <td>2025-06-17T04:50:09.778981259Z</td>\n",
       "      <td>1</td>\n",
       "      <td>[{'username': 'testuser1', 'userId': 1}]</td>\n",
       "      <td>IN_PROGRESS</td>\n",
       "      <td>회원 프론트 화면 피그마 디자인</td>\n",
       "      <td>3</td>\n",
       "      <td>NaN</td>\n",
       "      <td>NaN</td>\n",
       "    </tr>\n",
       "    <tr>\n",
       "      <th>1</th>\n",
       "      <td>DONE_PROJECT_PROGRESS_ACTION</td>\n",
       "      <td>1</td>\n",
       "      <td>testuser1</td>\n",
       "      <td>2025-06-17T04:52:40.68515608Z</td>\n",
       "      <td>1</td>\n",
       "      <td>[{'userId': 1, 'username': 'testuser1'}]</td>\n",
       "      <td>DONE</td>\n",
       "      <td>회원 프론트 화면 피그마 디자인</td>\n",
       "      <td>3</td>\n",
       "      <td>2025-06-10T09:00:00</td>\n",
       "      <td>2025-06-17T04:52:40.668571836</td>\n",
       "    </tr>\n",
       "    <tr>\n",
       "      <th>2</th>\n",
       "      <td>CREATE_PROJECT_PROGRESS_ACTION</td>\n",
       "      <td>1</td>\n",
       "      <td>testuser1</td>\n",
       "      <td>2025-06-17T04:55:44.921068578Z</td>\n",
       "      <td>1</td>\n",
       "      <td>[{'userId': 1, 'username': 'testuser1'}]</td>\n",
       "      <td>IN_PROGRESS</td>\n",
       "      <td>회원 프론트 화면 프론트 설계</td>\n",
       "      <td>3</td>\n",
       "      <td>NaN</td>\n",
       "      <td>NaN</td>\n",
       "    </tr>\n",
       "    <tr>\n",
       "      <th>3</th>\n",
       "      <td>UPDATE_PARTICIPANT_TO_ACTION</td>\n",
       "      <td>1</td>\n",
       "      <td>testuser1</td>\n",
       "      <td>2025-06-17T04:56:30.969938025Z</td>\n",
       "      <td>1</td>\n",
       "      <td>[{'userId': 1, 'username': 'testuser1'}, {'use...</td>\n",
       "      <td>IN_PROGRESS</td>\n",
       "      <td>회원 프론트 화면 프론트 설계</td>\n",
       "      <td>3</td>\n",
       "      <td>NaN</td>\n",
       "      <td>NaN</td>\n",
       "    </tr>\n",
       "    <tr>\n",
       "      <th>4</th>\n",
       "      <td>DELETE_PROJECT_PROGRESS_ACTION</td>\n",
       "      <td>1</td>\n",
       "      <td>testuser1</td>\n",
       "      <td>2025-06-17T04:56:53.084405091Z</td>\n",
       "      <td>1</td>\n",
       "      <td>[{'userId': 1, 'username': 'testuser1'}]</td>\n",
       "      <td>IN_PROGRESS</td>\n",
       "      <td>회원 프론트 화면 프론트 설계</td>\n",
       "      <td>3</td>\n",
       "      <td>NaN</td>\n",
       "      <td>NaN</td>\n",
       "    </tr>\n",
       "  </tbody>\n",
       "</table>\n",
       "</div>"
      ],
      "text/plain": [
       "                            event userId   username  \\\n",
       "0  CREATE_PROJECT_PROGRESS_ACTION      1  testuser1   \n",
       "1    DONE_PROJECT_PROGRESS_ACTION      1  testuser1   \n",
       "2  CREATE_PROJECT_PROGRESS_ACTION      1  testuser1   \n",
       "3    UPDATE_PARTICIPANT_TO_ACTION      1  testuser1   \n",
       "4  DELETE_PROJECT_PROGRESS_ACTION      1  testuser1   \n",
       "\n",
       "                        timestamp  workspaceId  \\\n",
       "0  2025-06-17T04:50:09.778981259Z            1   \n",
       "1   2025-06-17T04:52:40.68515608Z            1   \n",
       "2  2025-06-17T04:55:44.921068578Z            1   \n",
       "3  2025-06-17T04:56:30.969938025Z            1   \n",
       "4  2025-06-17T04:56:53.084405091Z            1   \n",
       "\n",
       "                                details.participants details.state  \\\n",
       "0           [{'username': 'testuser1', 'userId': 1}]   IN_PROGRESS   \n",
       "1           [{'userId': 1, 'username': 'testuser1'}]          DONE   \n",
       "2           [{'userId': 1, 'username': 'testuser1'}]   IN_PROGRESS   \n",
       "3  [{'userId': 1, 'username': 'testuser1'}, {'use...   IN_PROGRESS   \n",
       "4           [{'userId': 1, 'username': 'testuser1'}]   IN_PROGRESS   \n",
       "\n",
       "        details.name  details.importance    details.startDate  \\\n",
       "0  회원 프론트 화면 피그마 디자인                   3                  NaN   \n",
       "1  회원 프론트 화면 피그마 디자인                   3  2025-06-10T09:00:00   \n",
       "2   회원 프론트 화면 프론트 설계                   3                  NaN   \n",
       "3   회원 프론트 화면 프론트 설계                   3                  NaN   \n",
       "4   회원 프론트 화면 프론트 설계                   3                  NaN   \n",
       "\n",
       "                 details.endDate  \n",
       "0                            NaN  \n",
       "1  2025-06-17T04:52:40.668571836  \n",
       "2                            NaN  \n",
       "3                            NaN  \n",
       "4                            NaN  "
      ]
     },
     "execution_count": 52,
     "metadata": {},
     "output_type": "execute_result"
    }
   ],
   "source": [
    "df"
   ]
  },
  {
   "cell_type": "code",
   "execution_count": 50,
   "id": "5a3f8ead",
   "metadata": {},
   "outputs": [
    {
     "name": "stdout",
     "output_type": "stream",
     "text": [
      "df['event'].unique():  ['CREATE_PROJECT_PROGRESS_ACTION' 'DONE_PROJECT_PROGRESS_ACTION'\n",
      " 'UPDATE_PARTICIPANT_TO_ACTION' 'DELETE_PROJECT_PROGRESS_ACTION']\n",
      "df['userId'].unique():  ['1']\n",
      "df['workspaceId'].unique():  [1]\n",
      "df['details.importance'].unique():  [3]\n",
      "df['details.state'].unique():  ['IN_PROGRESS' 'DONE']\n"
     ]
    }
   ],
   "source": [
    "print(\"df['event'].unique(): \", df['event'].unique())\n",
    "print(\"df['userId'].unique(): \", df['userId'].unique())\n",
    "print(\"df['workspaceId'].unique(): \", df['workspaceId'].unique())\n",
    "print(\"df['details.importance'].unique(): \", df['details.importance'].unique())\n",
    "print(\"df['details.state'].unique(): \", df['details.state'].unique())"
   ]
  },
  {
   "cell_type": "code",
   "execution_count": 31,
   "id": "a1b322cd",
   "metadata": {},
   "outputs": [],
   "source": [
    "df_user1 = df[df['userId'] == 1]\n",
    "df_user2 = df[df['userId'] == 2]\n",
    "df_user3 = df[df['userId'] == 3]\n",
    "df_user4 = df[df['userId'] == 4]\n",
    "df_user5 = df[df['userId'] == 5]"
   ]
  },
  {
   "cell_type": "code",
   "execution_count": null,
   "id": "5da43cd3",
   "metadata": {},
   "outputs": [],
   "source": [
    "# 1. 담당자 불균형 분석 -> Bar plot\n",
    "# - point columns = details.participants, details.importance\n",
    "# - 작업이 특정 개발자에게 몰리는가 -> userId별 분류 -> status별 분류 -> 시각화\n",
    "#   - status는 왜? 이미 진행 중인 작업이 많은 개발자에게 얼마나 더 할당되어 있는가\n",
    "# - 각 개발자가 맡은 업무의 중요도 분포는 어떻게 되는가\n",
    "# - status는 중요하지 않음, participants 체크가 중요"
   ]
  },
  {
   "cell_type": "code",
   "execution_count": null,
   "id": "71cefd02",
   "metadata": {},
   "outputs": [],
   "source": [
    "# 2. 중요도에 따른 평균 작업 처리 기간(시간) → Line chart\n",
    "# - userId별 분류 -> importance별 분류\n",
    "# - status==\"DONE\"인 로그의 timestamp.. INPROGRESS에서 DONE으로 바뀐 시간 간격 계산이 되나?\n",
    "# - "
   ]
  }
 ],
 "metadata": {
  "kernelspec": {
   "display_name": ".venv",
   "language": "python",
   "name": "python3"
  },
  "language_info": {
   "codemirror_mode": {
    "name": "ipython",
    "version": 3
   },
   "file_extension": ".py",
   "mimetype": "text/x-python",
   "name": "python",
   "nbconvert_exporter": "python",
   "pygments_lexer": "ipython3",
   "version": "3.10.0"
  }
 },
 "nbformat": 4,
 "nbformat_minor": 5
}
