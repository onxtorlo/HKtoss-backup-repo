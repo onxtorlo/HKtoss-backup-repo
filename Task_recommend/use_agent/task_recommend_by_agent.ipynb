{
 "cells": [
  {
   "cell_type": "code",
   "execution_count": 72,
   "id": "86cf62c0",
   "metadata": {},
   "outputs": [],
   "source": [
    "# 가상환경 생성 (Python 3.10 또는 3.11)\n",
    "\n",
    "# ----- terminal에서 실행 -----\n",
    "# py -3.10 -m venv agent-env                                  <- venv 생성\n",
    "# Set-ExecutionPolicy -Scope Process -ExecutionPolicy Bypass  <- PS 보안 비활성화\n",
    "# .\\Task_recommend\\use_agent\\agent-env\\Scripts\\activate       <- venv 활성화"
   ]
  },
  {
   "cell_type": "code",
   "execution_count": 73,
   "id": "3331a0a0",
   "metadata": {},
   "outputs": [
    {
     "name": "stdout",
     "output_type": "stream",
     "text": [
      "Requirement already satisfied: langchain in c:\\users\\pje03\\documents\\pja_mlops\\task_recommend\\use_agent\\agent-env\\lib\\site-packages (from -r requirements.txt (line 1)) (0.3.25)\n",
      "Requirement already satisfied: langchain-community in c:\\users\\pje03\\documents\\pja_mlops\\task_recommend\\use_agent\\agent-env\\lib\\site-packages (from -r requirements.txt (line 2)) (0.3.25)\n",
      "Requirement already satisfied: langchain-openai in c:\\users\\pje03\\documents\\pja_mlops\\task_recommend\\use_agent\\agent-env\\lib\\site-packages (from -r requirements.txt (line 3)) (0.3.22)\n",
      "Requirement already satisfied: huggingface_hub in c:\\users\\pje03\\documents\\pja_mlops\\task_recommend\\use_agent\\agent-env\\lib\\site-packages (from -r requirements.txt (line 4)) (0.33.0)\n",
      "Requirement already satisfied: jinja2 in c:\\users\\pje03\\documents\\pja_mlops\\task_recommend\\use_agent\\agent-env\\lib\\site-packages (from -r requirements.txt (line 5)) (3.1.6)\n",
      "Requirement already satisfied: orjson in c:\\users\\pje03\\documents\\pja_mlops\\task_recommend\\use_agent\\agent-env\\lib\\site-packages (from -r requirements.txt (line 6)) (3.10.18)\n",
      "Requirement already satisfied: openai in c:\\users\\pje03\\documents\\pja_mlops\\task_recommend\\use_agent\\agent-env\\lib\\site-packages (from -r requirements.txt (line 7)) (1.86.0)\n",
      "Requirement already satisfied: python-dotenv in c:\\users\\pje03\\documents\\pja_mlops\\task_recommend\\use_agent\\agent-env\\lib\\site-packages (from -r requirements.txt (line 8)) (1.1.0)\n",
      "Requirement already satisfied: transformers in c:\\users\\pje03\\documents\\pja_mlops\\task_recommend\\use_agent\\agent-env\\lib\\site-packages (from -r requirements.txt (line 9)) (4.52.4)\n",
      "Requirement already satisfied: duckduckgo-search in c:\\users\\pje03\\documents\\pja_mlops\\task_recommend\\use_agent\\agent-env\\lib\\site-packages (from -r requirements.txt (line 10)) (8.0.3)\n",
      "Requirement already satisfied: langchain-core<1.0.0,>=0.3.58 in c:\\users\\pje03\\documents\\pja_mlops\\task_recommend\\use_agent\\agent-env\\lib\\site-packages (from langchain->-r requirements.txt (line 1)) (0.3.65)\n",
      "Requirement already satisfied: langchain-text-splitters<1.0.0,>=0.3.8 in c:\\users\\pje03\\documents\\pja_mlops\\task_recommend\\use_agent\\agent-env\\lib\\site-packages (from langchain->-r requirements.txt (line 1)) (0.3.8)\n",
      "Requirement already satisfied: langsmith<0.4,>=0.1.17 in c:\\users\\pje03\\documents\\pja_mlops\\task_recommend\\use_agent\\agent-env\\lib\\site-packages (from langchain->-r requirements.txt (line 1)) (0.3.45)\n",
      "Requirement already satisfied: pydantic<3.0.0,>=2.7.4 in c:\\users\\pje03\\documents\\pja_mlops\\task_recommend\\use_agent\\agent-env\\lib\\site-packages (from langchain->-r requirements.txt (line 1)) (2.11.5)\n",
      "Requirement already satisfied: SQLAlchemy<3,>=1.4 in c:\\users\\pje03\\documents\\pja_mlops\\task_recommend\\use_agent\\agent-env\\lib\\site-packages (from langchain->-r requirements.txt (line 1)) (2.0.41)\n",
      "Requirement already satisfied: requests<3,>=2 in c:\\users\\pje03\\documents\\pja_mlops\\task_recommend\\use_agent\\agent-env\\lib\\site-packages (from langchain->-r requirements.txt (line 1)) (2.32.4)\n",
      "Requirement already satisfied: PyYAML>=5.3 in c:\\users\\pje03\\documents\\pja_mlops\\task_recommend\\use_agent\\agent-env\\lib\\site-packages (from langchain->-r requirements.txt (line 1)) (6.0.2)\n",
      "Requirement already satisfied: async-timeout<5.0.0,>=4.0.0 in c:\\users\\pje03\\documents\\pja_mlops\\task_recommend\\use_agent\\agent-env\\lib\\site-packages (from langchain->-r requirements.txt (line 1)) (4.0.3)\n",
      "Requirement already satisfied: tenacity!=8.4.0,<10.0.0,>=8.1.0 in c:\\users\\pje03\\documents\\pja_mlops\\task_recommend\\use_agent\\agent-env\\lib\\site-packages (from langchain-core<1.0.0,>=0.3.58->langchain->-r requirements.txt (line 1)) (9.1.2)\n",
      "Requirement already satisfied: jsonpatch<2.0,>=1.33 in c:\\users\\pje03\\documents\\pja_mlops\\task_recommend\\use_agent\\agent-env\\lib\\site-packages (from langchain-core<1.0.0,>=0.3.58->langchain->-r requirements.txt (line 1)) (1.33)\n",
      "Requirement already satisfied: packaging<25,>=23.2 in c:\\users\\pje03\\documents\\pja_mlops\\task_recommend\\use_agent\\agent-env\\lib\\site-packages (from langchain-core<1.0.0,>=0.3.58->langchain->-r requirements.txt (line 1)) (24.2)\n",
      "Requirement already satisfied: typing-extensions>=4.7 in c:\\users\\pje03\\documents\\pja_mlops\\task_recommend\\use_agent\\agent-env\\lib\\site-packages (from langchain-core<1.0.0,>=0.3.58->langchain->-r requirements.txt (line 1)) (4.14.0)\n",
      "Requirement already satisfied: jsonpointer>=1.9 in c:\\users\\pje03\\documents\\pja_mlops\\task_recommend\\use_agent\\agent-env\\lib\\site-packages (from jsonpatch<2.0,>=1.33->langchain-core<1.0.0,>=0.3.58->langchain->-r requirements.txt (line 1)) (3.0.0)\n",
      "Requirement already satisfied: httpx<1,>=0.23.0 in c:\\users\\pje03\\documents\\pja_mlops\\task_recommend\\use_agent\\agent-env\\lib\\site-packages (from langsmith<0.4,>=0.1.17->langchain->-r requirements.txt (line 1)) (0.28.1)\n",
      "Requirement already satisfied: requests-toolbelt<2.0.0,>=1.0.0 in c:\\users\\pje03\\documents\\pja_mlops\\task_recommend\\use_agent\\agent-env\\lib\\site-packages (from langsmith<0.4,>=0.1.17->langchain->-r requirements.txt (line 1)) (1.0.0)\n",
      "Requirement already satisfied: zstandard<0.24.0,>=0.23.0 in c:\\users\\pje03\\documents\\pja_mlops\\task_recommend\\use_agent\\agent-env\\lib\\site-packages (from langsmith<0.4,>=0.1.17->langchain->-r requirements.txt (line 1)) (0.23.0)\n",
      "Requirement already satisfied: anyio in c:\\users\\pje03\\documents\\pja_mlops\\task_recommend\\use_agent\\agent-env\\lib\\site-packages (from httpx<1,>=0.23.0->langsmith<0.4,>=0.1.17->langchain->-r requirements.txt (line 1)) (4.9.0)\n",
      "Requirement already satisfied: certifi in c:\\users\\pje03\\documents\\pja_mlops\\task_recommend\\use_agent\\agent-env\\lib\\site-packages (from httpx<1,>=0.23.0->langsmith<0.4,>=0.1.17->langchain->-r requirements.txt (line 1)) (2025.4.26)\n",
      "Requirement already satisfied: httpcore==1.* in c:\\users\\pje03\\documents\\pja_mlops\\task_recommend\\use_agent\\agent-env\\lib\\site-packages (from httpx<1,>=0.23.0->langsmith<0.4,>=0.1.17->langchain->-r requirements.txt (line 1)) (1.0.9)\n",
      "Requirement already satisfied: idna in c:\\users\\pje03\\documents\\pja_mlops\\task_recommend\\use_agent\\agent-env\\lib\\site-packages (from httpx<1,>=0.23.0->langsmith<0.4,>=0.1.17->langchain->-r requirements.txt (line 1)) (3.10)\n",
      "Requirement already satisfied: h11>=0.16 in c:\\users\\pje03\\documents\\pja_mlops\\task_recommend\\use_agent\\agent-env\\lib\\site-packages (from httpcore==1.*->httpx<1,>=0.23.0->langsmith<0.4,>=0.1.17->langchain->-r requirements.txt (line 1)) (0.16.0)\n",
      "Requirement already satisfied: annotated-types>=0.6.0 in c:\\users\\pje03\\documents\\pja_mlops\\task_recommend\\use_agent\\agent-env\\lib\\site-packages (from pydantic<3.0.0,>=2.7.4->langchain->-r requirements.txt (line 1)) (0.7.0)\n",
      "Requirement already satisfied: pydantic-core==2.33.2 in c:\\users\\pje03\\documents\\pja_mlops\\task_recommend\\use_agent\\agent-env\\lib\\site-packages (from pydantic<3.0.0,>=2.7.4->langchain->-r requirements.txt (line 1)) (2.33.2)\n",
      "Requirement already satisfied: typing-inspection>=0.4.0 in c:\\users\\pje03\\documents\\pja_mlops\\task_recommend\\use_agent\\agent-env\\lib\\site-packages (from pydantic<3.0.0,>=2.7.4->langchain->-r requirements.txt (line 1)) (0.4.1)\n",
      "Requirement already satisfied: charset_normalizer<4,>=2 in c:\\users\\pje03\\documents\\pja_mlops\\task_recommend\\use_agent\\agent-env\\lib\\site-packages (from requests<3,>=2->langchain->-r requirements.txt (line 1)) (3.4.2)\n",
      "Requirement already satisfied: urllib3<3,>=1.21.1 in c:\\users\\pje03\\documents\\pja_mlops\\task_recommend\\use_agent\\agent-env\\lib\\site-packages (from requests<3,>=2->langchain->-r requirements.txt (line 1)) (2.4.0)\n",
      "Requirement already satisfied: greenlet>=1 in c:\\users\\pje03\\documents\\pja_mlops\\task_recommend\\use_agent\\agent-env\\lib\\site-packages (from SQLAlchemy<3,>=1.4->langchain->-r requirements.txt (line 1)) (3.2.3)\n",
      "Requirement already satisfied: aiohttp<4.0.0,>=3.8.3 in c:\\users\\pje03\\documents\\pja_mlops\\task_recommend\\use_agent\\agent-env\\lib\\site-packages (from langchain-community->-r requirements.txt (line 2)) (3.12.12)\n",
      "Requirement already satisfied: dataclasses-json<0.7,>=0.5.7 in c:\\users\\pje03\\documents\\pja_mlops\\task_recommend\\use_agent\\agent-env\\lib\\site-packages (from langchain-community->-r requirements.txt (line 2)) (0.6.7)\n",
      "Requirement already satisfied: pydantic-settings<3.0.0,>=2.4.0 in c:\\users\\pje03\\documents\\pja_mlops\\task_recommend\\use_agent\\agent-env\\lib\\site-packages (from langchain-community->-r requirements.txt (line 2)) (2.9.1)\n",
      "Requirement already satisfied: httpx-sse<1.0.0,>=0.4.0 in c:\\users\\pje03\\documents\\pja_mlops\\task_recommend\\use_agent\\agent-env\\lib\\site-packages (from langchain-community->-r requirements.txt (line 2)) (0.4.0)\n",
      "Requirement already satisfied: numpy>=1.26.2 in c:\\users\\pje03\\documents\\pja_mlops\\task_recommend\\use_agent\\agent-env\\lib\\site-packages (from langchain-community->-r requirements.txt (line 2)) (2.2.6)\n",
      "Requirement already satisfied: aiohappyeyeballs>=2.5.0 in c:\\users\\pje03\\documents\\pja_mlops\\task_recommend\\use_agent\\agent-env\\lib\\site-packages (from aiohttp<4.0.0,>=3.8.3->langchain-community->-r requirements.txt (line 2)) (2.6.1)\n",
      "Requirement already satisfied: aiosignal>=1.1.2 in c:\\users\\pje03\\documents\\pja_mlops\\task_recommend\\use_agent\\agent-env\\lib\\site-packages (from aiohttp<4.0.0,>=3.8.3->langchain-community->-r requirements.txt (line 2)) (1.3.2)\n",
      "Requirement already satisfied: attrs>=17.3.0 in c:\\users\\pje03\\documents\\pja_mlops\\task_recommend\\use_agent\\agent-env\\lib\\site-packages (from aiohttp<4.0.0,>=3.8.3->langchain-community->-r requirements.txt (line 2)) (25.3.0)\n",
      "Requirement already satisfied: frozenlist>=1.1.1 in c:\\users\\pje03\\documents\\pja_mlops\\task_recommend\\use_agent\\agent-env\\lib\\site-packages (from aiohttp<4.0.0,>=3.8.3->langchain-community->-r requirements.txt (line 2)) (1.7.0)\n",
      "Requirement already satisfied: multidict<7.0,>=4.5 in c:\\users\\pje03\\documents\\pja_mlops\\task_recommend\\use_agent\\agent-env\\lib\\site-packages (from aiohttp<4.0.0,>=3.8.3->langchain-community->-r requirements.txt (line 2)) (6.4.4)\n",
      "Requirement already satisfied: propcache>=0.2.0 in c:\\users\\pje03\\documents\\pja_mlops\\task_recommend\\use_agent\\agent-env\\lib\\site-packages (from aiohttp<4.0.0,>=3.8.3->langchain-community->-r requirements.txt (line 2)) (0.3.2)\n",
      "Requirement already satisfied: yarl<2.0,>=1.17.0 in c:\\users\\pje03\\documents\\pja_mlops\\task_recommend\\use_agent\\agent-env\\lib\\site-packages (from aiohttp<4.0.0,>=3.8.3->langchain-community->-r requirements.txt (line 2)) (1.20.1)\n",
      "Requirement already satisfied: marshmallow<4.0.0,>=3.18.0 in c:\\users\\pje03\\documents\\pja_mlops\\task_recommend\\use_agent\\agent-env\\lib\\site-packages (from dataclasses-json<0.7,>=0.5.7->langchain-community->-r requirements.txt (line 2)) (3.26.1)\n",
      "Requirement already satisfied: typing-inspect<1,>=0.4.0 in c:\\users\\pje03\\documents\\pja_mlops\\task_recommend\\use_agent\\agent-env\\lib\\site-packages (from dataclasses-json<0.7,>=0.5.7->langchain-community->-r requirements.txt (line 2)) (0.9.0)\n",
      "Requirement already satisfied: mypy-extensions>=0.3.0 in c:\\users\\pje03\\documents\\pja_mlops\\task_recommend\\use_agent\\agent-env\\lib\\site-packages (from typing-inspect<1,>=0.4.0->dataclasses-json<0.7,>=0.5.7->langchain-community->-r requirements.txt (line 2)) (1.1.0)\n",
      "Requirement already satisfied: tiktoken<1,>=0.7 in c:\\users\\pje03\\documents\\pja_mlops\\task_recommend\\use_agent\\agent-env\\lib\\site-packages (from langchain-openai->-r requirements.txt (line 3)) (0.9.0)\n",
      "Requirement already satisfied: distro<2,>=1.7.0 in c:\\users\\pje03\\documents\\pja_mlops\\task_recommend\\use_agent\\agent-env\\lib\\site-packages (from openai->-r requirements.txt (line 7)) (1.9.0)\n",
      "Requirement already satisfied: jiter<1,>=0.4.0 in c:\\users\\pje03\\documents\\pja_mlops\\task_recommend\\use_agent\\agent-env\\lib\\site-packages (from openai->-r requirements.txt (line 7)) (0.10.0)\n",
      "Requirement already satisfied: sniffio in c:\\users\\pje03\\documents\\pja_mlops\\task_recommend\\use_agent\\agent-env\\lib\\site-packages (from openai->-r requirements.txt (line 7)) (1.3.1)\n",
      "Requirement already satisfied: tqdm>4 in c:\\users\\pje03\\documents\\pja_mlops\\task_recommend\\use_agent\\agent-env\\lib\\site-packages (from openai->-r requirements.txt (line 7)) (4.67.1)\n",
      "Requirement already satisfied: exceptiongroup>=1.0.2 in c:\\users\\pje03\\documents\\pja_mlops\\task_recommend\\use_agent\\agent-env\\lib\\site-packages (from anyio->httpx<1,>=0.23.0->langsmith<0.4,>=0.1.17->langchain->-r requirements.txt (line 1)) (1.3.0)\n",
      "Requirement already satisfied: regex>=2022.1.18 in c:\\users\\pje03\\documents\\pja_mlops\\task_recommend\\use_agent\\agent-env\\lib\\site-packages (from tiktoken<1,>=0.7->langchain-openai->-r requirements.txt (line 3)) (2024.11.6)\n",
      "Requirement already satisfied: filelock in c:\\users\\pje03\\documents\\pja_mlops\\task_recommend\\use_agent\\agent-env\\lib\\site-packages (from huggingface_hub->-r requirements.txt (line 4)) (3.18.0)\n",
      "Requirement already satisfied: fsspec>=2023.5.0 in c:\\users\\pje03\\documents\\pja_mlops\\task_recommend\\use_agent\\agent-env\\lib\\site-packages (from huggingface_hub->-r requirements.txt (line 4)) (2025.5.1)\n",
      "Requirement already satisfied: MarkupSafe>=2.0 in c:\\users\\pje03\\documents\\pja_mlops\\task_recommend\\use_agent\\agent-env\\lib\\site-packages (from jinja2->-r requirements.txt (line 5)) (3.0.2)\n",
      "Requirement already satisfied: tokenizers<0.22,>=0.21 in c:\\users\\pje03\\documents\\pja_mlops\\task_recommend\\use_agent\\agent-env\\lib\\site-packages (from transformers->-r requirements.txt (line 9)) (0.21.1)\n",
      "Requirement already satisfied: safetensors>=0.4.3 in c:\\users\\pje03\\documents\\pja_mlops\\task_recommend\\use_agent\\agent-env\\lib\\site-packages (from transformers->-r requirements.txt (line 9)) (0.5.3)\n",
      "Requirement already satisfied: click>=8.1.8 in c:\\users\\pje03\\documents\\pja_mlops\\task_recommend\\use_agent\\agent-env\\lib\\site-packages (from duckduckgo-search->-r requirements.txt (line 10)) (8.2.1)\n",
      "Requirement already satisfied: primp>=0.15.0 in c:\\users\\pje03\\documents\\pja_mlops\\task_recommend\\use_agent\\agent-env\\lib\\site-packages (from duckduckgo-search->-r requirements.txt (line 10)) (0.15.0)\n",
      "Requirement already satisfied: lxml>=5.3.0 in c:\\users\\pje03\\documents\\pja_mlops\\task_recommend\\use_agent\\agent-env\\lib\\site-packages (from duckduckgo-search->-r requirements.txt (line 10)) (5.4.0)\n",
      "Requirement already satisfied: colorama in c:\\users\\pje03\\documents\\pja_mlops\\task_recommend\\use_agent\\agent-env\\lib\\site-packages (from click>=8.1.8->duckduckgo-search->-r requirements.txt (line 10)) (0.4.6)\n",
      "Note: you may need to restart the kernel to use updated packages.\n"
     ]
    }
   ],
   "source": [
    "%pip install -r requirements.txt"
   ]
  },
  {
   "cell_type": "code",
   "execution_count": 74,
   "id": "f620dd81",
   "metadata": {},
   "outputs": [],
   "source": [
    "from langchain.agents import initialize_agent, Tool, AgentType\n",
    "from langchain_community.tools import DuckDuckGoSearchRun\n",
    "from langchain.tools import Tool\n",
    "from langchain.chains import LLMChain\n",
    "from langchain.prompts import PromptTemplate\n",
    "from langchain_openai import ChatOpenAI\n",
    "from jinja2 import Template\n",
    "from langchain.agents import AgentExecutor, create_react_agent\n",
    "\n",
    "from dotenv import load_dotenv\n",
    "import json\n",
    "import os\n",
    "import re\n",
    "import json\n",
    "import random"
   ]
  },
  {
   "cell_type": "code",
   "execution_count": 75,
   "id": "34f4bb8a",
   "metadata": {},
   "outputs": [],
   "source": [
    "load_dotenv()\n",
    "openai_api_key = os.getenv(\"OPENAI_API_KEY\")"
   ]
  },
  {
   "cell_type": "code",
   "execution_count": 76,
   "id": "d5125066",
   "metadata": {},
   "outputs": [],
   "source": [
    "JSON_FILE_PATH = \"..\\\\use_openai\\\\data\\\\id_added_dummy_data.json\"\n",
    "# RCMD_PROMPT_PATH = \"..\\\\prompts\\\\agent_recommend.md\"\n",
    "RCMD_PROMPT_PATH = \"..\\\\prompts\\\\react_prompt.md\"\n",
    "FEATURE_ID_PATH = \"featureId.txt\""
   ]
  },
  {
   "cell_type": "code",
   "execution_count": 77,
   "id": "87ee998d",
   "metadata": {},
   "outputs": [
    {
     "name": "stdout",
     "output_type": "stream",
     "text": [
      "<class 'list'>\n"
     ]
    }
   ],
   "source": [
    "# Read prompt\n",
    "with open(RCMD_PROMPT_PATH, \"r\", encoding=\"utf-8\", errors=\"replace\") as f:\n",
    "    RCMD_PROMPT = f.read()\n",
    "    \n",
    "# template = Template(RCMD_PROMPT)  # template 객체 생성\n",
    "\n",
    "# Read data\n",
    "with open(JSON_FILE_PATH, 'r', encoding='utf-8') as f:\n",
    "    data = json.load(f)\n",
    "    print(type(data))  # test\n",
    "\n",
    "# Read featureId keys\n",
    "with open(FEATURE_ID_PATH, \"r\", encoding=\"utf-8\") as f:\n",
    "    lines = f.readlines()\n",
    "    feature_id_list = [line.strip() for line in lines]\n",
    "    # print(feature_id)  # test"
   ]
  },
  {
   "cell_type": "code",
   "execution_count": 78,
   "id": "1fbd79b0",
   "metadata": {},
   "outputs": [],
   "source": [
    "# ##### test #####\n",
    "# FEATURE_ID = int(random.choice(feature_id_list))\n",
    "# print(FEATURE_ID, type(FEATURE_ID))"
   ]
  },
  {
   "cell_type": "code",
   "execution_count": 79,
   "id": "ffa06933",
   "metadata": {},
   "outputs": [
    {
     "name": "stdout",
     "output_type": "stream",
     "text": [
      "{\n",
      "  \"categoryId\": 1,\n",
      "  \"name\": \"회원 관리 기능\",\n",
      "  \"features\": [\n",
      "    {\n",
      "      \"featureId\": 19,\n",
      "      \"name\": \"로그인/로그아웃\",\n",
      "      \"actions\": [\n",
      "        {\n",
      "          \"name\": \"세션 관리\",\n",
      "          \"importance\": 5,\n",
      "          \"startDate\": \"2025-06-19T14:25:34.093584\",\n",
      "          \"endDate\": \"2025-06-30T14:25:34.093584\"\n",
      "        }\n",
      "      ]\n",
      "    }\n",
      "  ]\n",
      "}\n"
     ]
    }
   ],
   "source": [
    "# featureId로 해당 category, feature 이하의 actions만 추출\n",
    "FEATURE_ID = int(random.choice(feature_id_list))\n",
    "\n",
    "def extract_workspace_view(input_data, id):\n",
    "    for item in input_data:\n",
    "        for category in item.get(\"recommendedCategories\", []):\n",
    "            for feature in category.get(\"features\", []):\n",
    "                if feature.get(\"featureId\") == id:\n",
    "                    return {\n",
    "                        \"categoryId\": category[\"categoryId\"],\n",
    "                        \"name\": category[\"name\"],\n",
    "                        \"features\": [feature]\n",
    "                    }\n",
    "    return None\n",
    "\n",
    "result = extract_workspace_view(data, FEATURE_ID)\n",
    "# print(json.dumps(result, ensure_ascii=False, indent=2))\n",
    "\n",
    "if result:\n",
    "    print(json.dumps(result, ensure_ascii=False, indent=2))\n",
    "else:\n",
    "    print(\"해당 featureId를 찾을 수 없습니다.\")"
   ]
  },
  {
   "cell_type": "code",
   "execution_count": 81,
   "id": "449a2ef2",
   "metadata": {},
   "outputs": [
    {
     "ename": "TemplateSyntaxError",
     "evalue": "expected token 'end of print statement', got ':'",
     "output_type": "error",
     "traceback": [
      "\u001b[1;31m---------------------------------------------------------------------------\u001b[0m",
      "\u001b[1;31mTemplateSyntaxError\u001b[0m                       Traceback (most recent call last)",
      "Cell \u001b[1;32mIn[81], line 7\u001b[0m\n\u001b[0;32m      1\u001b[0m workspace_data \u001b[38;5;241m=\u001b[39m extract_workspace_view(data, FEATURE_ID)\n\u001b[0;32m      2\u001b[0m wrapped_data \u001b[38;5;241m=\u001b[39m {\n\u001b[0;32m      3\u001b[0m     \u001b[38;5;124m\"\u001b[39m\u001b[38;5;124mworkspaceId\u001b[39m\u001b[38;5;124m\"\u001b[39m: \u001b[38;5;241m1\u001b[39m,\n\u001b[0;32m      4\u001b[0m     \u001b[38;5;124m\"\u001b[39m\u001b[38;5;124mrecommendedCategories\u001b[39m\u001b[38;5;124m\"\u001b[39m: [workspace_data]\n\u001b[0;32m      5\u001b[0m }\n\u001b[1;32m----> 7\u001b[0m template \u001b[38;5;241m=\u001b[39m \u001b[43mTemplate\u001b[49m\u001b[43m(\u001b[49m\u001b[43mRCMD_PROMPT\u001b[49m\u001b[43m)\u001b[49m                              \u001b[38;5;66;03m# template 객체 생성 (jinja2.Template 클래스)\u001b[39;00m\n\u001b[0;32m      8\u001b[0m \u001b[38;5;66;03m# formatted_input = template.render(wrapped_data=wrapped_data)  # 문자열 생성. template 내 변수들을 실제값으로 치환\u001b[39;00m\n\u001b[0;32m      9\u001b[0m formatted_input \u001b[38;5;241m=\u001b[39m template\u001b[38;5;241m.\u001b[39mrender(wrapped_data\u001b[38;5;241m=\u001b[39mjson\u001b[38;5;241m.\u001b[39mdumps(wrapped_data, ensure_ascii\u001b[38;5;241m=\u001b[39m\u001b[38;5;28;01mFalse\u001b[39;00m))\n",
      "File \u001b[1;32mc:\\Users\\pje03\\Documents\\pja_MLOps\\Task_recommend\\use_agent\\agent-env\\lib\\site-packages\\jinja2\\environment.py:1214\u001b[0m, in \u001b[0;36mTemplate.__new__\u001b[1;34m(cls, source, block_start_string, block_end_string, variable_start_string, variable_end_string, comment_start_string, comment_end_string, line_statement_prefix, line_comment_prefix, trim_blocks, lstrip_blocks, newline_sequence, keep_trailing_newline, extensions, optimized, undefined, finalize, autoescape, enable_async)\u001b[0m\n\u001b[0;32m   1167\u001b[0m \u001b[38;5;28;01mdef\u001b[39;00m\u001b[38;5;250m \u001b[39m\u001b[38;5;21m__new__\u001b[39m(\n\u001b[0;32m   1168\u001b[0m     \u001b[38;5;28mcls\u001b[39m,\n\u001b[0;32m   1169\u001b[0m     source: t\u001b[38;5;241m.\u001b[39mUnion[\u001b[38;5;28mstr\u001b[39m, nodes\u001b[38;5;241m.\u001b[39mTemplate],\n\u001b[1;32m   (...)\u001b[0m\n\u001b[0;32m   1187\u001b[0m     enable_async: \u001b[38;5;28mbool\u001b[39m \u001b[38;5;241m=\u001b[39m \u001b[38;5;28;01mFalse\u001b[39;00m,\n\u001b[0;32m   1188\u001b[0m ) \u001b[38;5;241m-\u001b[39m\u001b[38;5;241m>\u001b[39m t\u001b[38;5;241m.\u001b[39mAny:  \u001b[38;5;66;03m# it returns a `Template`, but this breaks the sphinx build...\u001b[39;00m\n\u001b[0;32m   1189\u001b[0m     env \u001b[38;5;241m=\u001b[39m get_spontaneous_environment(\n\u001b[0;32m   1190\u001b[0m         \u001b[38;5;28mcls\u001b[39m\u001b[38;5;241m.\u001b[39menvironment_class,  \u001b[38;5;66;03m# type: ignore\u001b[39;00m\n\u001b[0;32m   1191\u001b[0m         block_start_string,\n\u001b[1;32m   (...)\u001b[0m\n\u001b[0;32m   1212\u001b[0m         enable_async,\n\u001b[0;32m   1213\u001b[0m     )\n\u001b[1;32m-> 1214\u001b[0m     \u001b[38;5;28;01mreturn\u001b[39;00m \u001b[43menv\u001b[49m\u001b[38;5;241;43m.\u001b[39;49m\u001b[43mfrom_string\u001b[49m\u001b[43m(\u001b[49m\u001b[43msource\u001b[49m\u001b[43m,\u001b[49m\u001b[43m \u001b[49m\u001b[43mtemplate_class\u001b[49m\u001b[38;5;241;43m=\u001b[39;49m\u001b[38;5;28;43mcls\u001b[39;49m\u001b[43m)\u001b[49m\n",
      "File \u001b[1;32mc:\\Users\\pje03\\Documents\\pja_MLOps\\Task_recommend\\use_agent\\agent-env\\lib\\site-packages\\jinja2\\environment.py:1111\u001b[0m, in \u001b[0;36mEnvironment.from_string\u001b[1;34m(self, source, globals, template_class)\u001b[0m\n\u001b[0;32m   1109\u001b[0m gs \u001b[38;5;241m=\u001b[39m \u001b[38;5;28mself\u001b[39m\u001b[38;5;241m.\u001b[39mmake_globals(\u001b[38;5;28mglobals\u001b[39m)\n\u001b[0;32m   1110\u001b[0m \u001b[38;5;28mcls\u001b[39m \u001b[38;5;241m=\u001b[39m template_class \u001b[38;5;129;01mor\u001b[39;00m \u001b[38;5;28mself\u001b[39m\u001b[38;5;241m.\u001b[39mtemplate_class\n\u001b[1;32m-> 1111\u001b[0m \u001b[38;5;28;01mreturn\u001b[39;00m \u001b[38;5;28mcls\u001b[39m\u001b[38;5;241m.\u001b[39mfrom_code(\u001b[38;5;28mself\u001b[39m, \u001b[38;5;28;43mself\u001b[39;49m\u001b[38;5;241;43m.\u001b[39;49m\u001b[43mcompile\u001b[49m\u001b[43m(\u001b[49m\u001b[43msource\u001b[49m\u001b[43m)\u001b[49m, gs, \u001b[38;5;28;01mNone\u001b[39;00m)\n",
      "File \u001b[1;32mc:\\Users\\pje03\\Documents\\pja_MLOps\\Task_recommend\\use_agent\\agent-env\\lib\\site-packages\\jinja2\\environment.py:771\u001b[0m, in \u001b[0;36mEnvironment.compile\u001b[1;34m(self, source, name, filename, raw, defer_init)\u001b[0m\n\u001b[0;32m    769\u001b[0m     \u001b[38;5;28;01mreturn\u001b[39;00m \u001b[38;5;28mself\u001b[39m\u001b[38;5;241m.\u001b[39m_compile(source, filename)\n\u001b[0;32m    770\u001b[0m \u001b[38;5;28;01mexcept\u001b[39;00m TemplateSyntaxError:\n\u001b[1;32m--> 771\u001b[0m     \u001b[38;5;28;43mself\u001b[39;49m\u001b[38;5;241;43m.\u001b[39;49m\u001b[43mhandle_exception\u001b[49m\u001b[43m(\u001b[49m\u001b[43msource\u001b[49m\u001b[38;5;241;43m=\u001b[39;49m\u001b[43msource_hint\u001b[49m\u001b[43m)\u001b[49m\n",
      "File \u001b[1;32mc:\\Users\\pje03\\Documents\\pja_MLOps\\Task_recommend\\use_agent\\agent-env\\lib\\site-packages\\jinja2\\environment.py:942\u001b[0m, in \u001b[0;36mEnvironment.handle_exception\u001b[1;34m(self, source)\u001b[0m\n\u001b[0;32m    937\u001b[0m \u001b[38;5;250m\u001b[39m\u001b[38;5;124;03m\"\"\"Exception handling helper.  This is used internally to either raise\u001b[39;00m\n\u001b[0;32m    938\u001b[0m \u001b[38;5;124;03mrewritten exceptions or return a rendered traceback for the template.\u001b[39;00m\n\u001b[0;32m    939\u001b[0m \u001b[38;5;124;03m\"\"\"\u001b[39;00m\n\u001b[0;32m    940\u001b[0m \u001b[38;5;28;01mfrom\u001b[39;00m\u001b[38;5;250m \u001b[39m\u001b[38;5;21;01m.\u001b[39;00m\u001b[38;5;21;01mdebug\u001b[39;00m\u001b[38;5;250m \u001b[39m\u001b[38;5;28;01mimport\u001b[39;00m rewrite_traceback_stack\n\u001b[1;32m--> 942\u001b[0m \u001b[38;5;28;01mraise\u001b[39;00m rewrite_traceback_stack(source\u001b[38;5;241m=\u001b[39msource)\n",
      "File \u001b[1;32m<unknown>:17\u001b[0m, in \u001b[0;36mtemplate\u001b[1;34m()\u001b[0m\n",
      "\u001b[1;31mTemplateSyntaxError\u001b[0m: expected token 'end of print statement', got ':'"
     ]
    }
   ],
   "source": [
    "workspace_data = extract_workspace_view(data, FEATURE_ID)\n",
    "wrapped_data = {\n",
    "    \"workspaceId\": 1,\n",
    "    \"recommendedCategories\": [workspace_data]\n",
    "}\n",
    "\n",
    "template = Template(RCMD_PROMPT)                              # template 객체 생성 (jinja2.Template 클래스)\n",
    "# formatted_input = template.render(wrapped_data=wrapped_data)  # 문자열 생성. template 내 변수들을 실제값으로 치환\n",
    "formatted_input = template.render(wrapped_data=json.dumps(wrapped_data, ensure_ascii=False))\n",
    "\n",
    "print(formatted_input)  # test\n",
    "print(type(formatted_input))"
   ]
  },
  {
   "cell_type": "code",
   "execution_count": null,
   "id": "db9b83f1",
   "metadata": {},
   "outputs": [],
   "source": [
    "# OpenAI 객체 초기화\n",
    "llm = ChatOpenAI(\n",
    "    model=\"gpt-4o-mini\",\n",
    "    temperature=0.3,\n",
    "    max_tokens=1024,\n",
    "    openai_api_key=openai_api_key\n",
    ")"
   ]
  },
  {
   "cell_type": "code",
   "execution_count": null,
   "id": "e5980fa1",
   "metadata": {},
   "outputs": [],
   "source": [
    "# 변수{} 삽입 가능한 템플릿 생성\n",
    "# prompt = PromptTemplate.from_template(\"\"\"\n",
    "# 다음은 '{featureName}' 기능의 기존 작업들입니다:\n",
    "\n",
    "# {existingActions}\n",
    "\n",
    "# 이 작업의 다음 단계로서, 자연스럽게 이어질 수 있는 작업 3개를 추천하세요.\n",
    "# 각 작업은 다음 항목을 포함해야 합니다:\n",
    "\n",
    "# - name: 구체적 작업명\n",
    "# - startDate: YYYY-MM-DDTHH:MM:SS 형식\n",
    "# - endDate: YYYY-MM-DDTHH:MM:SS 형식\n",
    "# - importance: 1~5 정수(값이 클수록 중요한 작업업)\n",
    "\n",
    "# 형식은 반드시 JSON 배열 형태로 출력하세요.\n",
    "# 예시:\n",
    "# ```json\n",
    "# [\n",
    "#   {\n",
    "#     \"name\": \"...\",\n",
    "#     \"startDate\": \"...\",\n",
    "#     \"endDate\": \"...\",\n",
    "#     \"importance\": 3\n",
    "#   },\n",
    "#   ...\n",
    "# ]\n",
    "# ```\n",
    "# \"\"\")\n",
    "\n",
    "prompt = PromptTemplate(\n",
    "    input_variables=[\"featureNname\", \"existingActions\"],\n",
    "    template=\"\"\"\n",
    "    다음은 '{featureName}' 기능의 기존 작업들입니다:\n",
    "\n",
    "    {existingActions}\n",
    "\n",
    "    이 작업의 다음 단계로서, 자연스럽게 이어질 수 있는 작업 3개를 추천하세요.\n",
    "    각 작업은 다음 항목을 포함해야 합니다:\n",
    "\n",
    "    - name: 구체적 작업명\n",
    "    - startDate: YYYY-MM-DDTHH:MM:SS 형식\n",
    "    - endDate: YYYY-MM-DDTHH:MM:SS 형식\n",
    "    - importance: 1~5 정수(값이 클수록 중요한 작업임)\n",
    "\n",
    "    형식은 반드시 JSON 배열 형태로 출력하세요.\n",
    "    예시:\n",
    "    ```json\n",
    "    [\n",
    "      {\n",
    "        \"name\": \"...\",\n",
    "        \"startDate\": \"...\",\n",
    "        \"endDate\": \"...\",\n",
    "        \"importance\": 3\n",
    "      },\n",
    "      ...\n",
    "    ]\n",
    "    ```\n",
    "    \"\"\"\n",
    ")\n",
    "\n",
    "# llm(OpenAI) <-> Langchain 연결\n",
    "llm_chain = LLMChain(prompt=prompt, llm=llm)"
   ]
  },
  {
   "cell_type": "code",
   "execution_count": null,
   "id": "560cfff8",
   "metadata": {},
   "outputs": [
    {
     "name": "stdout",
     "output_type": "stream",
     "text": [
      "<class 'str'>\n",
      "{\"workspaceId\": 1, \"recommendedCategories\": [{\"categoryId\": 2, \"name\": \"상품 관리 기능\", \"features\": [{\"featureId\": 82, \"name\": \"상품 등록\", \"actions\": [{\"name\": \"가격 설정\", \"importance\": 3, \"startDate\": \"2025-06-14T14:25:34.095976\", \"endDate\": \"2025-06-20T14:25:34.095976\"}, {\"name\": \"상품 정보 입력 폼\", \"importance\": 3, \"startDate\": \"2025-06-20T14:25:34.095979\", \"endDate\": \"2025-06-24T14:25:34.095979\"}, {\"name\": \"상품 옵션 설정\", \"importance\": 4, \"startDate\": \"2025-06-17T14:25:34.095982\", \"endDate\": \"2025-06-25T14:25:34.095982\"}, {\"name\": \"이미지 다중 업로드\", \"importance\": 1, \"startDate\": \"2025-06-18T14:25:34.095985\", \"endDate\": \"2025-06-29T14:25:34.095985\"}]}]}]}\n"
     ]
    }
   ],
   "source": [
    "##### test #####\n",
    "search = DuckDuckGoSearchRun()\n",
    "conv_data = json.dumps(wrapped_data, ensure_ascii=False)  # dict -> str\n",
    "pattern = r'({[\\s\\S]*})'\n",
    "match = re.search(pattern, conv_data, re.DOTALL)\n",
    "json_block = match.group(0)\n",
    "print(type(json_block))\n",
    "print(json_block)"
   ]
  },
  {
   "cell_type": "code",
   "execution_count": null,
   "id": "401ef285",
   "metadata": {},
   "outputs": [],
   "source": [
    "# LLM으로 작업 추천 받는 함수\n",
    "def generate_next_actions(input_dict: dict) -> str:\n",
    "    return llm_chain.run(input_dict)\n",
    "\n",
    "# 웹 검색 툴 정의\n",
    "search = DuckDuckGoSearchRun()\n",
    "\n",
    "# 전체 JSON을 받아 feature별 추천 작업을 생성하는 메인 함수\n",
    "def parse_and_generate_all(input_str: dict) -> str:\n",
    "\n",
    "    # conv_data = json.dumps(input_str, ensure_ascii=False)  # dict -> str\n",
    "    # pattern = r'({[\\s\\S]*?\"categoryId\"\\s*:\\s*\\d+[\\s\\S]*?})'\n",
    "    # match = re.search(pattern, conv_data, re.DOTALL)\n",
    "    data = input_str\n",
    "    if not match:\n",
    "        raise ValueError(\"** Can not find JSON blocks **\")\n",
    "\n",
    "    json_block = match.group(0)\n",
    "    data = json.loads(json_block)\n",
    "    # data = input_str\n",
    "\n",
    "    for category in data.get(\"recommendedCategories\", []):  # recommendedCategories 가져오기\n",
    "        for feature in category.get(\"features\", []):        # recommendedCategories 내부의 feature에서\n",
    "            # llm_input = {                                   # features, actions 가져오기\n",
    "            #     \"featureName\": feature[\"name\"],\n",
    "            #     \"existingActions\": [a[\"name\"] for a in feature.get(\"actions\", [])]\n",
    "            # }\n",
    "\n",
    "            # 웹 검색\n",
    "            try:\n",
    "                search_query = f\"{feature['name']} 기능 구현 방법\"\n",
    "                search_result = search.run(search_query)\n",
    "            except Exception as e:\n",
    "                search_result = f\"(웹 검색 실패: {e})\"\n",
    "\n",
    "            # LLM 입력 구성 (웹검색 결과 포함)\n",
    "            llm_input = {\n",
    "                \"featureName\": feature[\"name\"],\n",
    "                \"existingActions\": [a[\"name\"] for a in feature.get(\"actions\", [])],\n",
    "                \"webSearch\": search_result[:500]  # 길이 제한\n",
    "            }\n",
    "\n",
    "            try:\n",
    "                generated_json_str = generate_next_actions(llm_input)  # 추천 actions 생성\n",
    "                generated_actions = json.loads(generated_json_str)     # 추천 actions를 json형식의 python 객체로 load\n",
    "                feature[\"actions\"].extend(generated_actions)\n",
    "            except Exception as e:\n",
    "                feature[\"actions\"].append({\n",
    "                    \"name\": f\"작업 생성 실패: {e}\",\n",
    "                    \"startDate\": \"2025-01-01T00:00:00\",\n",
    "                    \"endDate\": \"2025-01-01T23:59:59\",\n",
    "                    \"importance\": 0\n",
    "                })\n",
    "\n",
    "    return json.dumps(data, ensure_ascii=False, indent=2)\n"
   ]
  },
  {
   "cell_type": "code",
   "execution_count": null,
   "id": "9814aefb",
   "metadata": {},
   "outputs": [
    {
     "data": {
      "text/plain": [
       "dict"
      ]
     },
     "execution_count": 40,
     "metadata": {},
     "output_type": "execute_result"
    }
   ],
   "source": [
    "type(wrapped_data)\n",
    "# wrapped_data"
   ]
  },
  {
   "cell_type": "code",
   "execution_count": null,
   "id": "e1171ae3",
   "metadata": {},
   "outputs": [
    {
     "data": {
      "text/plain": [
       "'{\\n  \"workspaceId\": 1,\\n  \"recommendedCategories\": [\\n    {\\n      \"categoryId\": 2,\\n      \"name\": \"상품 관리 기능\",\\n      \"features\": [\\n        {\\n          \"featureId\": 82,\\n          \"name\": \"상품 등록\",\\n          \"actions\": [\\n            {\\n              \"name\": \"가격 설정\",\\n              \"importance\": 3,\\n              \"startDate\": \"2025-06-14T14:25:34.095976\",\\n              \"endDate\": \"2025-06-20T14:25:34.095976\"\\n            },\\n            {\\n              \"name\": \"상품 정보 입력 폼\",\\n              \"importance\": 3,\\n              \"startDate\": \"2025-06-20T14:25:34.095979\",\\n              \"endDate\": \"2025-06-24T14:25:34.095979\"\\n            },\\n            {\\n              \"name\": \"상품 옵션 설정\",\\n              \"importance\": 4,\\n              \"startDate\": \"2025-06-17T14:25:34.095982\",\\n              \"endDate\": \"2025-06-25T14:25:34.095982\"\\n            },\\n            {\\n              \"name\": \"이미지 다중 업로드\",\\n              \"importance\": 1,\\n              \"startDate\": \"2025-06-18T14:25:34.095985\",\\n              \"endDate\": \"2025-06-29T14:25:34.095985\"\\n            },\\n            {\\n              \"name\": \"작업 생성 실패: Missing some input keys: {\\'\\\\\\\\n        \\\\\"name\\\\\"\\'}\",\\n              \"startDate\": \"2025-01-01T00:00:00\",\\n              \"endDate\": \"2025-01-01T23:59:59\",\\n              \"importance\": 0\\n            }\\n          ]\\n        }\\n      ]\\n    }\\n  ]\\n}'"
      ]
     },
     "execution_count": 41,
     "metadata": {},
     "output_type": "execute_result"
    }
   ],
   "source": [
    "parse_and_generate_all(wrapped_data)"
   ]
  },
  {
   "cell_type": "code",
   "execution_count": null,
   "id": "6d97c169",
   "metadata": {},
   "outputs": [],
   "source": [
    "# 툴 정의\n",
    "parse_tool = Tool(\n",
    "    name=\"ParseWorkflow\",\n",
    "    func=parse_and_generate_all,\n",
    "    description=\"JSON 작업 흐름에 대해 feature별로 다음 추천 작업(actions) 3개를 추가합니다.\"\n",
    ")\n",
    "\n",
    "final_tool = Tool(\n",
    "    name=\"Final Answer\",\n",
    "    func=lambda x: x,  # 결과를 그대로 반환\n",
    "    description=\"최종 JSON 결과를 반환합니다.\"\n",
    ")\n",
    "\n",
    "tools = [parse_tool, final_tool]"
   ]
  },
  {
   "cell_type": "code",
   "execution_count": null,
   "id": "7984bbe2",
   "metadata": {},
   "outputs": [],
   "source": [
    "# Agent\n",
    "# agent_executor = initialize_agent(\n",
    "#     tools=[parse_tool, final_tool],\n",
    "#     llm=llm,\n",
    "#     agent=AgentType.ZERO_SHOT_REACT_DESCRIPTION,\n",
    "#     verbose=True,\n",
    "#     handle_parsing_errors=True,\n",
    "#     prompt=formatted_input\n",
    "# )\n",
    "\n",
    "# 프롬프트 객체 생성\n",
    "prompt = PromptTemplate(\n",
    "    template=RCMD_PROMPT,\n",
    "    input_variables=[\"wrapped_data\", \"tools\", \"tool_names\", \"agent_scratched\"]\n",
    ")\n",
    "\n",
    "# 먼저 에이전트 생성하고\n",
    "# create_react_agent()는 initialize_agent() 보다 세밀한 설정 가능\n",
    "agent = create_react_agent(\n",
    "    llm=llm,\n",
    "    tools=tools,  # 단순 tools 선언, AgentExecutor에서 tools 재전달 필요\n",
    "    prompt=prompt\n",
    ")\n",
    "\n",
    "# 다음에 AgentExecutor로 루프 반복 컨트롤?\n",
    "agent_executor = AgentExecutor(\n",
    "    agent=agent,\n",
    "    tools=tools,  # tools의 기능 전달\n",
    "    max_iterations=5,\n",
    "    max_execution_time=30,\n",
    "    early_stopping_method=\"generate\",\n",
    "    verbose=True\n",
    ")"
   ]
  },
  {
   "cell_type": "code",
   "execution_count": null,
   "id": "514b4e9c",
   "metadata": {},
   "outputs": [],
   "source": [
    "# type(wrapped_data)"
   ]
  },
  {
   "cell_type": "code",
   "execution_count": null,
   "id": "2b4145bf",
   "metadata": {},
   "outputs": [],
   "source": [
    "# # prompt_filled = RCMD_PROMPT.replace(\"{input}\", json.dumps(wrapped_data, ensure_ascii=False))\n",
    "# prompt_filled = RCMD_PROMPT.render(input=json.load(wrapped_data, ensure_ascii=False))\n",
    "\n",
    "# # type(prompt_filled)\n",
    "# prompt_filled"
   ]
  },
  {
   "cell_type": "code",
   "execution_count": null,
   "id": "9e0f1297",
   "metadata": {},
   "outputs": [
    {
     "name": "stdout",
     "output_type": "stream",
     "text": [
      "\n",
      "\n",
      "\u001b[1m> Entering new AgentExecutor chain...\u001b[0m\n"
     ]
    },
    {
     "ename": "KeyError",
     "evalue": "'Input to PromptTemplate is missing variables {\\'\\\\n  \"workspaceId\"\\'}.  Expected: [\\'\\\\n  \"workspaceId\"\\', \\'agent_scratchpad\\', \\'input\\'] Received: [\\'input\\', \\'intermediate_steps\\', \\'agent_scratchpad\\']\\nNote: if you intended {\\n  \"workspaceId\"} to be part of the string and not a variable, please escape it with double curly braces like: \\'{{\\n  \"workspaceId\"}}\\'.\\nFor troubleshooting, visit: https://python.langchain.com/docs/troubleshooting/errors/INVALID_PROMPT_INPUT '",
     "output_type": "error",
     "traceback": [
      "\u001b[1;31m---------------------------------------------------------------------------\u001b[0m",
      "\u001b[1;31mKeyError\u001b[0m                                  Traceback (most recent call last)",
      "Cell \u001b[1;32mIn[44], line 2\u001b[0m\n\u001b[0;32m      1\u001b[0m prompt_filled \u001b[38;5;241m=\u001b[39m RCMD_PROMPT\u001b[38;5;241m.\u001b[39mreplace(\u001b[38;5;124m\"\u001b[39m\u001b[38;5;132;01m{input}\u001b[39;00m\u001b[38;5;124m\"\u001b[39m, json\u001b[38;5;241m.\u001b[39mdumps(wrapped_data, ensure_ascii\u001b[38;5;241m=\u001b[39m\u001b[38;5;28;01mFalse\u001b[39;00m))\n\u001b[1;32m----> 2\u001b[0m response \u001b[38;5;241m=\u001b[39m \u001b[43magent_executor\u001b[49m\u001b[38;5;241;43m.\u001b[39;49m\u001b[43minvoke\u001b[49m\u001b[43m(\u001b[49m\u001b[43m{\u001b[49m\u001b[38;5;124;43m\"\u001b[39;49m\u001b[38;5;124;43minput\u001b[39;49m\u001b[38;5;124;43m\"\u001b[39;49m\u001b[43m:\u001b[49m\u001b[43m \u001b[49m\u001b[43mprompt_filled\u001b[49m\u001b[43m}\u001b[49m\u001b[43m)\u001b[49m\n\u001b[0;32m      4\u001b[0m \u001b[38;5;66;03m# response = agent_executor.invoke({\u001b[39;00m\n\u001b[0;32m      5\u001b[0m \u001b[38;5;66;03m#     \"input\": \"다음 JSON을 분석해주세요.\",\u001b[39;00m\n\u001b[0;32m      6\u001b[0m \u001b[38;5;66;03m#     \"data\": prompt_filled  # JSON 객체 그대로\u001b[39;00m\n\u001b[0;32m      7\u001b[0m \u001b[38;5;66;03m# })\u001b[39;00m\n\u001b[0;32m      9\u001b[0m \u001b[38;5;28mprint\u001b[39m(response)\n",
      "File \u001b[1;32mc:\\Users\\pje03\\Documents\\pja_MLOps\\Task_recommend\\use_agent\\agent-env\\lib\\site-packages\\langchain\\chains\\base.py:167\u001b[0m, in \u001b[0;36mChain.invoke\u001b[1;34m(self, input, config, **kwargs)\u001b[0m\n\u001b[0;32m    165\u001b[0m \u001b[38;5;28;01mexcept\u001b[39;00m \u001b[38;5;167;01mBaseException\u001b[39;00m \u001b[38;5;28;01mas\u001b[39;00m e:\n\u001b[0;32m    166\u001b[0m     run_manager\u001b[38;5;241m.\u001b[39mon_chain_error(e)\n\u001b[1;32m--> 167\u001b[0m     \u001b[38;5;28;01mraise\u001b[39;00m e\n\u001b[0;32m    168\u001b[0m run_manager\u001b[38;5;241m.\u001b[39mon_chain_end(outputs)\n\u001b[0;32m    170\u001b[0m \u001b[38;5;28;01mif\u001b[39;00m include_run_info:\n",
      "File \u001b[1;32mc:\\Users\\pje03\\Documents\\pja_MLOps\\Task_recommend\\use_agent\\agent-env\\lib\\site-packages\\langchain\\chains\\base.py:157\u001b[0m, in \u001b[0;36mChain.invoke\u001b[1;34m(self, input, config, **kwargs)\u001b[0m\n\u001b[0;32m    154\u001b[0m \u001b[38;5;28;01mtry\u001b[39;00m:\n\u001b[0;32m    155\u001b[0m     \u001b[38;5;28mself\u001b[39m\u001b[38;5;241m.\u001b[39m_validate_inputs(inputs)\n\u001b[0;32m    156\u001b[0m     outputs \u001b[38;5;241m=\u001b[39m (\n\u001b[1;32m--> 157\u001b[0m         \u001b[38;5;28;43mself\u001b[39;49m\u001b[38;5;241;43m.\u001b[39;49m\u001b[43m_call\u001b[49m\u001b[43m(\u001b[49m\u001b[43minputs\u001b[49m\u001b[43m,\u001b[49m\u001b[43m \u001b[49m\u001b[43mrun_manager\u001b[49m\u001b[38;5;241;43m=\u001b[39;49m\u001b[43mrun_manager\u001b[49m\u001b[43m)\u001b[49m\n\u001b[0;32m    158\u001b[0m         \u001b[38;5;28;01mif\u001b[39;00m new_arg_supported\n\u001b[0;32m    159\u001b[0m         \u001b[38;5;28;01melse\u001b[39;00m \u001b[38;5;28mself\u001b[39m\u001b[38;5;241m.\u001b[39m_call(inputs)\n\u001b[0;32m    160\u001b[0m     )\n\u001b[0;32m    162\u001b[0m     final_outputs: \u001b[38;5;28mdict\u001b[39m[\u001b[38;5;28mstr\u001b[39m, Any] \u001b[38;5;241m=\u001b[39m \u001b[38;5;28mself\u001b[39m\u001b[38;5;241m.\u001b[39mprep_outputs(\n\u001b[0;32m    163\u001b[0m         inputs, outputs, return_only_outputs\n\u001b[0;32m    164\u001b[0m     )\n\u001b[0;32m    165\u001b[0m \u001b[38;5;28;01mexcept\u001b[39;00m \u001b[38;5;167;01mBaseException\u001b[39;00m \u001b[38;5;28;01mas\u001b[39;00m e:\n",
      "File \u001b[1;32mc:\\Users\\pje03\\Documents\\pja_MLOps\\Task_recommend\\use_agent\\agent-env\\lib\\site-packages\\langchain\\agents\\agent.py:1620\u001b[0m, in \u001b[0;36mAgentExecutor._call\u001b[1;34m(self, inputs, run_manager)\u001b[0m\n\u001b[0;32m   1618\u001b[0m \u001b[38;5;66;03m# We now enter the agent loop (until it returns something).\u001b[39;00m\n\u001b[0;32m   1619\u001b[0m \u001b[38;5;28;01mwhile\u001b[39;00m \u001b[38;5;28mself\u001b[39m\u001b[38;5;241m.\u001b[39m_should_continue(iterations, time_elapsed):\n\u001b[1;32m-> 1620\u001b[0m     next_step_output \u001b[38;5;241m=\u001b[39m \u001b[38;5;28;43mself\u001b[39;49m\u001b[38;5;241;43m.\u001b[39;49m\u001b[43m_take_next_step\u001b[49m\u001b[43m(\u001b[49m\n\u001b[0;32m   1621\u001b[0m \u001b[43m        \u001b[49m\u001b[43mname_to_tool_map\u001b[49m\u001b[43m,\u001b[49m\n\u001b[0;32m   1622\u001b[0m \u001b[43m        \u001b[49m\u001b[43mcolor_mapping\u001b[49m\u001b[43m,\u001b[49m\n\u001b[0;32m   1623\u001b[0m \u001b[43m        \u001b[49m\u001b[43minputs\u001b[49m\u001b[43m,\u001b[49m\n\u001b[0;32m   1624\u001b[0m \u001b[43m        \u001b[49m\u001b[43mintermediate_steps\u001b[49m\u001b[43m,\u001b[49m\n\u001b[0;32m   1625\u001b[0m \u001b[43m        \u001b[49m\u001b[43mrun_manager\u001b[49m\u001b[38;5;241;43m=\u001b[39;49m\u001b[43mrun_manager\u001b[49m\u001b[43m,\u001b[49m\n\u001b[0;32m   1626\u001b[0m \u001b[43m    \u001b[49m\u001b[43m)\u001b[49m\n\u001b[0;32m   1627\u001b[0m     \u001b[38;5;28;01mif\u001b[39;00m \u001b[38;5;28misinstance\u001b[39m(next_step_output, AgentFinish):\n\u001b[0;32m   1628\u001b[0m         \u001b[38;5;28;01mreturn\u001b[39;00m \u001b[38;5;28mself\u001b[39m\u001b[38;5;241m.\u001b[39m_return(\n\u001b[0;32m   1629\u001b[0m             next_step_output, intermediate_steps, run_manager\u001b[38;5;241m=\u001b[39mrun_manager\n\u001b[0;32m   1630\u001b[0m         )\n",
      "File \u001b[1;32mc:\\Users\\pje03\\Documents\\pja_MLOps\\Task_recommend\\use_agent\\agent-env\\lib\\site-packages\\langchain\\agents\\agent.py:1326\u001b[0m, in \u001b[0;36mAgentExecutor._take_next_step\u001b[1;34m(self, name_to_tool_map, color_mapping, inputs, intermediate_steps, run_manager)\u001b[0m\n\u001b[0;32m   1317\u001b[0m \u001b[38;5;28;01mdef\u001b[39;00m\u001b[38;5;250m \u001b[39m\u001b[38;5;21m_take_next_step\u001b[39m(\n\u001b[0;32m   1318\u001b[0m     \u001b[38;5;28mself\u001b[39m,\n\u001b[0;32m   1319\u001b[0m     name_to_tool_map: \u001b[38;5;28mdict\u001b[39m[\u001b[38;5;28mstr\u001b[39m, BaseTool],\n\u001b[1;32m   (...)\u001b[0m\n\u001b[0;32m   1323\u001b[0m     run_manager: Optional[CallbackManagerForChainRun] \u001b[38;5;241m=\u001b[39m \u001b[38;5;28;01mNone\u001b[39;00m,\n\u001b[0;32m   1324\u001b[0m ) \u001b[38;5;241m-\u001b[39m\u001b[38;5;241m>\u001b[39m Union[AgentFinish, \u001b[38;5;28mlist\u001b[39m[\u001b[38;5;28mtuple\u001b[39m[AgentAction, \u001b[38;5;28mstr\u001b[39m]]]:\n\u001b[0;32m   1325\u001b[0m     \u001b[38;5;28;01mreturn\u001b[39;00m \u001b[38;5;28mself\u001b[39m\u001b[38;5;241m.\u001b[39m_consume_next_step(\n\u001b[1;32m-> 1326\u001b[0m         [\n\u001b[0;32m   1327\u001b[0m             a\n\u001b[0;32m   1328\u001b[0m             \u001b[38;5;28;01mfor\u001b[39;00m a \u001b[38;5;129;01min\u001b[39;00m \u001b[38;5;28mself\u001b[39m\u001b[38;5;241m.\u001b[39m_iter_next_step(\n\u001b[0;32m   1329\u001b[0m                 name_to_tool_map,\n\u001b[0;32m   1330\u001b[0m                 color_mapping,\n\u001b[0;32m   1331\u001b[0m                 inputs,\n\u001b[0;32m   1332\u001b[0m                 intermediate_steps,\n\u001b[0;32m   1333\u001b[0m                 run_manager,\n\u001b[0;32m   1334\u001b[0m             )\n\u001b[0;32m   1335\u001b[0m         ]\n\u001b[0;32m   1336\u001b[0m     )\n",
      "File \u001b[1;32mc:\\Users\\pje03\\Documents\\pja_MLOps\\Task_recommend\\use_agent\\agent-env\\lib\\site-packages\\langchain\\agents\\agent.py:1326\u001b[0m, in \u001b[0;36m<listcomp>\u001b[1;34m(.0)\u001b[0m\n\u001b[0;32m   1317\u001b[0m \u001b[38;5;28;01mdef\u001b[39;00m\u001b[38;5;250m \u001b[39m\u001b[38;5;21m_take_next_step\u001b[39m(\n\u001b[0;32m   1318\u001b[0m     \u001b[38;5;28mself\u001b[39m,\n\u001b[0;32m   1319\u001b[0m     name_to_tool_map: \u001b[38;5;28mdict\u001b[39m[\u001b[38;5;28mstr\u001b[39m, BaseTool],\n\u001b[1;32m   (...)\u001b[0m\n\u001b[0;32m   1323\u001b[0m     run_manager: Optional[CallbackManagerForChainRun] \u001b[38;5;241m=\u001b[39m \u001b[38;5;28;01mNone\u001b[39;00m,\n\u001b[0;32m   1324\u001b[0m ) \u001b[38;5;241m-\u001b[39m\u001b[38;5;241m>\u001b[39m Union[AgentFinish, \u001b[38;5;28mlist\u001b[39m[\u001b[38;5;28mtuple\u001b[39m[AgentAction, \u001b[38;5;28mstr\u001b[39m]]]:\n\u001b[0;32m   1325\u001b[0m     \u001b[38;5;28;01mreturn\u001b[39;00m \u001b[38;5;28mself\u001b[39m\u001b[38;5;241m.\u001b[39m_consume_next_step(\n\u001b[1;32m-> 1326\u001b[0m         [\n\u001b[0;32m   1327\u001b[0m             a\n\u001b[0;32m   1328\u001b[0m             \u001b[38;5;28;01mfor\u001b[39;00m a \u001b[38;5;129;01min\u001b[39;00m \u001b[38;5;28mself\u001b[39m\u001b[38;5;241m.\u001b[39m_iter_next_step(\n\u001b[0;32m   1329\u001b[0m                 name_to_tool_map,\n\u001b[0;32m   1330\u001b[0m                 color_mapping,\n\u001b[0;32m   1331\u001b[0m                 inputs,\n\u001b[0;32m   1332\u001b[0m                 intermediate_steps,\n\u001b[0;32m   1333\u001b[0m                 run_manager,\n\u001b[0;32m   1334\u001b[0m             )\n\u001b[0;32m   1335\u001b[0m         ]\n\u001b[0;32m   1336\u001b[0m     )\n",
      "File \u001b[1;32mc:\\Users\\pje03\\Documents\\pja_MLOps\\Task_recommend\\use_agent\\agent-env\\lib\\site-packages\\langchain\\agents\\agent.py:1354\u001b[0m, in \u001b[0;36mAgentExecutor._iter_next_step\u001b[1;34m(self, name_to_tool_map, color_mapping, inputs, intermediate_steps, run_manager)\u001b[0m\n\u001b[0;32m   1351\u001b[0m     intermediate_steps \u001b[38;5;241m=\u001b[39m \u001b[38;5;28mself\u001b[39m\u001b[38;5;241m.\u001b[39m_prepare_intermediate_steps(intermediate_steps)\n\u001b[0;32m   1353\u001b[0m     \u001b[38;5;66;03m# Call the LLM to see what to do.\u001b[39;00m\n\u001b[1;32m-> 1354\u001b[0m     output \u001b[38;5;241m=\u001b[39m \u001b[38;5;28mself\u001b[39m\u001b[38;5;241m.\u001b[39m_action_agent\u001b[38;5;241m.\u001b[39mplan(\n\u001b[0;32m   1355\u001b[0m         intermediate_steps,\n\u001b[0;32m   1356\u001b[0m         callbacks\u001b[38;5;241m=\u001b[39mrun_manager\u001b[38;5;241m.\u001b[39mget_child() \u001b[38;5;28;01mif\u001b[39;00m run_manager \u001b[38;5;28;01melse\u001b[39;00m \u001b[38;5;28;01mNone\u001b[39;00m,\n\u001b[0;32m   1357\u001b[0m         \u001b[38;5;241m*\u001b[39m\u001b[38;5;241m*\u001b[39minputs,\n\u001b[0;32m   1358\u001b[0m     )\n\u001b[0;32m   1359\u001b[0m \u001b[38;5;28;01mexcept\u001b[39;00m OutputParserException \u001b[38;5;28;01mas\u001b[39;00m e:\n\u001b[0;32m   1360\u001b[0m     \u001b[38;5;28;01mif\u001b[39;00m \u001b[38;5;28misinstance\u001b[39m(\u001b[38;5;28mself\u001b[39m\u001b[38;5;241m.\u001b[39mhandle_parsing_errors, \u001b[38;5;28mbool\u001b[39m):\n",
      "File \u001b[1;32mc:\\Users\\pje03\\Documents\\pja_MLOps\\Task_recommend\\use_agent\\agent-env\\lib\\site-packages\\langchain\\agents\\agent.py:461\u001b[0m, in \u001b[0;36mRunnableAgent.plan\u001b[1;34m(self, intermediate_steps, callbacks, **kwargs)\u001b[0m\n\u001b[0;32m    453\u001b[0m final_output: Any \u001b[38;5;241m=\u001b[39m \u001b[38;5;28;01mNone\u001b[39;00m\n\u001b[0;32m    454\u001b[0m \u001b[38;5;28;01mif\u001b[39;00m \u001b[38;5;28mself\u001b[39m\u001b[38;5;241m.\u001b[39mstream_runnable:\n\u001b[0;32m    455\u001b[0m     \u001b[38;5;66;03m# Use streaming to make sure that the underlying LLM is invoked in a\u001b[39;00m\n\u001b[0;32m    456\u001b[0m     \u001b[38;5;66;03m# streaming\u001b[39;00m\n\u001b[1;32m   (...)\u001b[0m\n\u001b[0;32m    459\u001b[0m     \u001b[38;5;66;03m# Because the response from the plan is not a generator, we need to\u001b[39;00m\n\u001b[0;32m    460\u001b[0m     \u001b[38;5;66;03m# accumulate the output into final output and return that.\u001b[39;00m\n\u001b[1;32m--> 461\u001b[0m     \u001b[38;5;28;01mfor\u001b[39;00m chunk \u001b[38;5;129;01min\u001b[39;00m \u001b[38;5;28mself\u001b[39m\u001b[38;5;241m.\u001b[39mrunnable\u001b[38;5;241m.\u001b[39mstream(inputs, config\u001b[38;5;241m=\u001b[39m{\u001b[38;5;124m\"\u001b[39m\u001b[38;5;124mcallbacks\u001b[39m\u001b[38;5;124m\"\u001b[39m: callbacks}):\n\u001b[0;32m    462\u001b[0m         \u001b[38;5;28;01mif\u001b[39;00m final_output \u001b[38;5;129;01mis\u001b[39;00m \u001b[38;5;28;01mNone\u001b[39;00m:\n\u001b[0;32m    463\u001b[0m             final_output \u001b[38;5;241m=\u001b[39m chunk\n",
      "File \u001b[1;32mc:\\Users\\pje03\\Documents\\pja_MLOps\\Task_recommend\\use_agent\\agent-env\\lib\\site-packages\\langchain_core\\runnables\\base.py:3438\u001b[0m, in \u001b[0;36mRunnableSequence.stream\u001b[1;34m(self, input, config, **kwargs)\u001b[0m\n\u001b[0;32m   3431\u001b[0m \u001b[38;5;129m@override\u001b[39m\n\u001b[0;32m   3432\u001b[0m \u001b[38;5;28;01mdef\u001b[39;00m\u001b[38;5;250m \u001b[39m\u001b[38;5;21mstream\u001b[39m(\n\u001b[0;32m   3433\u001b[0m     \u001b[38;5;28mself\u001b[39m,\n\u001b[1;32m   (...)\u001b[0m\n\u001b[0;32m   3436\u001b[0m     \u001b[38;5;241m*\u001b[39m\u001b[38;5;241m*\u001b[39mkwargs: Optional[Any],\n\u001b[0;32m   3437\u001b[0m ) \u001b[38;5;241m-\u001b[39m\u001b[38;5;241m>\u001b[39m Iterator[Output]:\n\u001b[1;32m-> 3438\u001b[0m     \u001b[38;5;28;01myield from\u001b[39;00m \u001b[38;5;28mself\u001b[39m\u001b[38;5;241m.\u001b[39mtransform(\u001b[38;5;28miter\u001b[39m([\u001b[38;5;28minput\u001b[39m]), config, \u001b[38;5;241m*\u001b[39m\u001b[38;5;241m*\u001b[39mkwargs)\n",
      "File \u001b[1;32mc:\\Users\\pje03\\Documents\\pja_MLOps\\Task_recommend\\use_agent\\agent-env\\lib\\site-packages\\langchain_core\\runnables\\base.py:3424\u001b[0m, in \u001b[0;36mRunnableSequence.transform\u001b[1;34m(self, input, config, **kwargs)\u001b[0m\n\u001b[0;32m   3417\u001b[0m \u001b[38;5;129m@override\u001b[39m\n\u001b[0;32m   3418\u001b[0m \u001b[38;5;28;01mdef\u001b[39;00m\u001b[38;5;250m \u001b[39m\u001b[38;5;21mtransform\u001b[39m(\n\u001b[0;32m   3419\u001b[0m     \u001b[38;5;28mself\u001b[39m,\n\u001b[1;32m   (...)\u001b[0m\n\u001b[0;32m   3422\u001b[0m     \u001b[38;5;241m*\u001b[39m\u001b[38;5;241m*\u001b[39mkwargs: Optional[Any],\n\u001b[0;32m   3423\u001b[0m ) \u001b[38;5;241m-\u001b[39m\u001b[38;5;241m>\u001b[39m Iterator[Output]:\n\u001b[1;32m-> 3424\u001b[0m     \u001b[38;5;28;01myield from\u001b[39;00m \u001b[38;5;28mself\u001b[39m\u001b[38;5;241m.\u001b[39m_transform_stream_with_config(\n\u001b[0;32m   3425\u001b[0m         \u001b[38;5;28minput\u001b[39m,\n\u001b[0;32m   3426\u001b[0m         \u001b[38;5;28mself\u001b[39m\u001b[38;5;241m.\u001b[39m_transform,\n\u001b[0;32m   3427\u001b[0m         patch_config(config, run_name\u001b[38;5;241m=\u001b[39m(config \u001b[38;5;129;01mor\u001b[39;00m {})\u001b[38;5;241m.\u001b[39mget(\u001b[38;5;124m\"\u001b[39m\u001b[38;5;124mrun_name\u001b[39m\u001b[38;5;124m\"\u001b[39m) \u001b[38;5;129;01mor\u001b[39;00m \u001b[38;5;28mself\u001b[39m\u001b[38;5;241m.\u001b[39mname),\n\u001b[0;32m   3428\u001b[0m         \u001b[38;5;241m*\u001b[39m\u001b[38;5;241m*\u001b[39mkwargs,\n\u001b[0;32m   3429\u001b[0m     )\n",
      "File \u001b[1;32mc:\\Users\\pje03\\Documents\\pja_MLOps\\Task_recommend\\use_agent\\agent-env\\lib\\site-packages\\langchain_core\\runnables\\base.py:2215\u001b[0m, in \u001b[0;36mRunnable._transform_stream_with_config\u001b[1;34m(self, inputs, transformer, config, run_type, **kwargs)\u001b[0m\n\u001b[0;32m   2213\u001b[0m \u001b[38;5;28;01mtry\u001b[39;00m:\n\u001b[0;32m   2214\u001b[0m     \u001b[38;5;28;01mwhile\u001b[39;00m \u001b[38;5;28;01mTrue\u001b[39;00m:\n\u001b[1;32m-> 2215\u001b[0m         chunk: Output \u001b[38;5;241m=\u001b[39m \u001b[43mcontext\u001b[49m\u001b[38;5;241;43m.\u001b[39;49m\u001b[43mrun\u001b[49m\u001b[43m(\u001b[49m\u001b[38;5;28;43mnext\u001b[39;49m\u001b[43m,\u001b[49m\u001b[43m \u001b[49m\u001b[43miterator\u001b[49m\u001b[43m)\u001b[49m\n\u001b[0;32m   2216\u001b[0m         \u001b[38;5;28;01myield\u001b[39;00m chunk\n\u001b[0;32m   2217\u001b[0m         \u001b[38;5;28;01mif\u001b[39;00m final_output_supported:\n",
      "File \u001b[1;32mc:\\Users\\pje03\\Documents\\pja_MLOps\\Task_recommend\\use_agent\\agent-env\\lib\\site-packages\\langchain_core\\runnables\\base.py:3386\u001b[0m, in \u001b[0;36mRunnableSequence._transform\u001b[1;34m(self, inputs, run_manager, config, **kwargs)\u001b[0m\n\u001b[0;32m   3383\u001b[0m     \u001b[38;5;28;01melse\u001b[39;00m:\n\u001b[0;32m   3384\u001b[0m         final_pipeline \u001b[38;5;241m=\u001b[39m step\u001b[38;5;241m.\u001b[39mtransform(final_pipeline, config)\n\u001b[1;32m-> 3386\u001b[0m \u001b[38;5;28;01myield from\u001b[39;00m final_pipeline\n",
      "File \u001b[1;32mc:\\Users\\pje03\\Documents\\pja_MLOps\\Task_recommend\\use_agent\\agent-env\\lib\\site-packages\\langchain_core\\runnables\\base.py:1429\u001b[0m, in \u001b[0;36mRunnable.transform\u001b[1;34m(self, input, config, **kwargs)\u001b[0m\n\u001b[0;32m   1426\u001b[0m final: Input\n\u001b[0;32m   1427\u001b[0m got_first_val \u001b[38;5;241m=\u001b[39m \u001b[38;5;28;01mFalse\u001b[39;00m\n\u001b[1;32m-> 1429\u001b[0m \u001b[38;5;28;01mfor\u001b[39;00m ichunk \u001b[38;5;129;01min\u001b[39;00m \u001b[38;5;28minput\u001b[39m:\n\u001b[0;32m   1430\u001b[0m     \u001b[38;5;66;03m# The default implementation of transform is to buffer input and\u001b[39;00m\n\u001b[0;32m   1431\u001b[0m     \u001b[38;5;66;03m# then call stream.\u001b[39;00m\n\u001b[0;32m   1432\u001b[0m     \u001b[38;5;66;03m# It'll attempt to gather all input into a single chunk using\u001b[39;00m\n\u001b[0;32m   1433\u001b[0m     \u001b[38;5;66;03m# the `+` operator.\u001b[39;00m\n\u001b[0;32m   1434\u001b[0m     \u001b[38;5;66;03m# If the input is not addable, then we'll assume that we can\u001b[39;00m\n\u001b[0;32m   1435\u001b[0m     \u001b[38;5;66;03m# only operate on the last chunk,\u001b[39;00m\n\u001b[0;32m   1436\u001b[0m     \u001b[38;5;66;03m# and we'll iterate until we get to the last chunk.\u001b[39;00m\n\u001b[0;32m   1437\u001b[0m     \u001b[38;5;28;01mif\u001b[39;00m \u001b[38;5;129;01mnot\u001b[39;00m got_first_val:\n\u001b[0;32m   1438\u001b[0m         final \u001b[38;5;241m=\u001b[39m ichunk\n",
      "File \u001b[1;32mc:\\Users\\pje03\\Documents\\pja_MLOps\\Task_recommend\\use_agent\\agent-env\\lib\\site-packages\\langchain_core\\runnables\\base.py:5647\u001b[0m, in \u001b[0;36mRunnableBindingBase.transform\u001b[1;34m(self, input, config, **kwargs)\u001b[0m\n\u001b[0;32m   5640\u001b[0m \u001b[38;5;129m@override\u001b[39m\n\u001b[0;32m   5641\u001b[0m \u001b[38;5;28;01mdef\u001b[39;00m\u001b[38;5;250m \u001b[39m\u001b[38;5;21mtransform\u001b[39m(\n\u001b[0;32m   5642\u001b[0m     \u001b[38;5;28mself\u001b[39m,\n\u001b[1;32m   (...)\u001b[0m\n\u001b[0;32m   5645\u001b[0m     \u001b[38;5;241m*\u001b[39m\u001b[38;5;241m*\u001b[39mkwargs: Any,\n\u001b[0;32m   5646\u001b[0m ) \u001b[38;5;241m-\u001b[39m\u001b[38;5;241m>\u001b[39m Iterator[Output]:\n\u001b[1;32m-> 5647\u001b[0m     \u001b[38;5;28;01myield from\u001b[39;00m \u001b[38;5;28mself\u001b[39m\u001b[38;5;241m.\u001b[39mbound\u001b[38;5;241m.\u001b[39mtransform(\n\u001b[0;32m   5648\u001b[0m         \u001b[38;5;28minput\u001b[39m,\n\u001b[0;32m   5649\u001b[0m         \u001b[38;5;28mself\u001b[39m\u001b[38;5;241m.\u001b[39m_merge_configs(config),\n\u001b[0;32m   5650\u001b[0m         \u001b[38;5;241m*\u001b[39m\u001b[38;5;241m*\u001b[39m{\u001b[38;5;241m*\u001b[39m\u001b[38;5;241m*\u001b[39m\u001b[38;5;28mself\u001b[39m\u001b[38;5;241m.\u001b[39mkwargs, \u001b[38;5;241m*\u001b[39m\u001b[38;5;241m*\u001b[39mkwargs},\n\u001b[0;32m   5651\u001b[0m     )\n",
      "File \u001b[1;32mc:\\Users\\pje03\\Documents\\pja_MLOps\\Task_recommend\\use_agent\\agent-env\\lib\\site-packages\\langchain_core\\runnables\\base.py:1429\u001b[0m, in \u001b[0;36mRunnable.transform\u001b[1;34m(self, input, config, **kwargs)\u001b[0m\n\u001b[0;32m   1426\u001b[0m final: Input\n\u001b[0;32m   1427\u001b[0m got_first_val \u001b[38;5;241m=\u001b[39m \u001b[38;5;28;01mFalse\u001b[39;00m\n\u001b[1;32m-> 1429\u001b[0m \u001b[38;5;28;01mfor\u001b[39;00m ichunk \u001b[38;5;129;01min\u001b[39;00m \u001b[38;5;28minput\u001b[39m:\n\u001b[0;32m   1430\u001b[0m     \u001b[38;5;66;03m# The default implementation of transform is to buffer input and\u001b[39;00m\n\u001b[0;32m   1431\u001b[0m     \u001b[38;5;66;03m# then call stream.\u001b[39;00m\n\u001b[0;32m   1432\u001b[0m     \u001b[38;5;66;03m# It'll attempt to gather all input into a single chunk using\u001b[39;00m\n\u001b[0;32m   1433\u001b[0m     \u001b[38;5;66;03m# the `+` operator.\u001b[39;00m\n\u001b[0;32m   1434\u001b[0m     \u001b[38;5;66;03m# If the input is not addable, then we'll assume that we can\u001b[39;00m\n\u001b[0;32m   1435\u001b[0m     \u001b[38;5;66;03m# only operate on the last chunk,\u001b[39;00m\n\u001b[0;32m   1436\u001b[0m     \u001b[38;5;66;03m# and we'll iterate until we get to the last chunk.\u001b[39;00m\n\u001b[0;32m   1437\u001b[0m     \u001b[38;5;28;01mif\u001b[39;00m \u001b[38;5;129;01mnot\u001b[39;00m got_first_val:\n\u001b[0;32m   1438\u001b[0m         final \u001b[38;5;241m=\u001b[39m ichunk\n",
      "File \u001b[1;32mc:\\Users\\pje03\\Documents\\pja_MLOps\\Task_recommend\\use_agent\\agent-env\\lib\\site-packages\\langchain_core\\runnables\\base.py:1447\u001b[0m, in \u001b[0;36mRunnable.transform\u001b[1;34m(self, input, config, **kwargs)\u001b[0m\n\u001b[0;32m   1444\u001b[0m             final \u001b[38;5;241m=\u001b[39m ichunk\n\u001b[0;32m   1446\u001b[0m \u001b[38;5;28;01mif\u001b[39;00m got_first_val:\n\u001b[1;32m-> 1447\u001b[0m     \u001b[38;5;28;01myield from\u001b[39;00m \u001b[38;5;28mself\u001b[39m\u001b[38;5;241m.\u001b[39mstream(final, config, \u001b[38;5;241m*\u001b[39m\u001b[38;5;241m*\u001b[39mkwargs)\n",
      "File \u001b[1;32mc:\\Users\\pje03\\Documents\\pja_MLOps\\Task_recommend\\use_agent\\agent-env\\lib\\site-packages\\langchain_core\\runnables\\base.py:1014\u001b[0m, in \u001b[0;36mRunnable.stream\u001b[1;34m(self, input, config, **kwargs)\u001b[0m\n\u001b[0;32m    996\u001b[0m \u001b[38;5;28;01mdef\u001b[39;00m\u001b[38;5;250m \u001b[39m\u001b[38;5;21mstream\u001b[39m(\n\u001b[0;32m    997\u001b[0m     \u001b[38;5;28mself\u001b[39m,\n\u001b[0;32m    998\u001b[0m     \u001b[38;5;28minput\u001b[39m: Input,  \u001b[38;5;66;03m# noqa: A002\u001b[39;00m\n\u001b[0;32m    999\u001b[0m     config: Optional[RunnableConfig] \u001b[38;5;241m=\u001b[39m \u001b[38;5;28;01mNone\u001b[39;00m,\n\u001b[0;32m   1000\u001b[0m     \u001b[38;5;241m*\u001b[39m\u001b[38;5;241m*\u001b[39mkwargs: Optional[Any],\n\u001b[0;32m   1001\u001b[0m ) \u001b[38;5;241m-\u001b[39m\u001b[38;5;241m>\u001b[39m Iterator[Output]:\n\u001b[0;32m   1002\u001b[0m \u001b[38;5;250m    \u001b[39m\u001b[38;5;124;03m\"\"\"Default implementation of stream, which calls invoke.\u001b[39;00m\n\u001b[0;32m   1003\u001b[0m \n\u001b[0;32m   1004\u001b[0m \u001b[38;5;124;03m    Subclasses should override this method if they support streaming output.\u001b[39;00m\n\u001b[1;32m   (...)\u001b[0m\n\u001b[0;32m   1012\u001b[0m \u001b[38;5;124;03m        The output of the Runnable.\u001b[39;00m\n\u001b[0;32m   1013\u001b[0m \u001b[38;5;124;03m    \"\"\"\u001b[39;00m\n\u001b[1;32m-> 1014\u001b[0m     \u001b[38;5;28;01myield\u001b[39;00m \u001b[38;5;28mself\u001b[39m\u001b[38;5;241m.\u001b[39minvoke(\u001b[38;5;28minput\u001b[39m, config, \u001b[38;5;241m*\u001b[39m\u001b[38;5;241m*\u001b[39mkwargs)\n",
      "File \u001b[1;32mc:\\Users\\pje03\\Documents\\pja_MLOps\\Task_recommend\\use_agent\\agent-env\\lib\\site-packages\\langchain_core\\prompts\\base.py:216\u001b[0m, in \u001b[0;36mBasePromptTemplate.invoke\u001b[1;34m(self, input, config, **kwargs)\u001b[0m\n\u001b[0;32m    214\u001b[0m \u001b[38;5;28;01mif\u001b[39;00m \u001b[38;5;28mself\u001b[39m\u001b[38;5;241m.\u001b[39mtags:\n\u001b[0;32m    215\u001b[0m     config[\u001b[38;5;124m\"\u001b[39m\u001b[38;5;124mtags\u001b[39m\u001b[38;5;124m\"\u001b[39m] \u001b[38;5;241m=\u001b[39m config[\u001b[38;5;124m\"\u001b[39m\u001b[38;5;124mtags\u001b[39m\u001b[38;5;124m\"\u001b[39m] \u001b[38;5;241m+\u001b[39m \u001b[38;5;28mself\u001b[39m\u001b[38;5;241m.\u001b[39mtags\n\u001b[1;32m--> 216\u001b[0m \u001b[38;5;28;01mreturn\u001b[39;00m \u001b[38;5;28;43mself\u001b[39;49m\u001b[38;5;241;43m.\u001b[39;49m\u001b[43m_call_with_config\u001b[49m\u001b[43m(\u001b[49m\n\u001b[0;32m    217\u001b[0m \u001b[43m    \u001b[49m\u001b[38;5;28;43mself\u001b[39;49m\u001b[38;5;241;43m.\u001b[39;49m\u001b[43m_format_prompt_with_error_handling\u001b[49m\u001b[43m,\u001b[49m\n\u001b[0;32m    218\u001b[0m \u001b[43m    \u001b[49m\u001b[38;5;28;43minput\u001b[39;49m\u001b[43m,\u001b[49m\n\u001b[0;32m    219\u001b[0m \u001b[43m    \u001b[49m\u001b[43mconfig\u001b[49m\u001b[43m,\u001b[49m\n\u001b[0;32m    220\u001b[0m \u001b[43m    \u001b[49m\u001b[43mrun_type\u001b[49m\u001b[38;5;241;43m=\u001b[39;49m\u001b[38;5;124;43m\"\u001b[39;49m\u001b[38;5;124;43mprompt\u001b[39;49m\u001b[38;5;124;43m\"\u001b[39;49m\u001b[43m,\u001b[49m\n\u001b[0;32m    221\u001b[0m \u001b[43m    \u001b[49m\u001b[43mserialized\u001b[49m\u001b[38;5;241;43m=\u001b[39;49m\u001b[38;5;28;43mself\u001b[39;49m\u001b[38;5;241;43m.\u001b[39;49m\u001b[43m_serialized\u001b[49m\u001b[43m,\u001b[49m\n\u001b[0;32m    222\u001b[0m \u001b[43m\u001b[49m\u001b[43m)\u001b[49m\n",
      "File \u001b[1;32mc:\\Users\\pje03\\Documents\\pja_MLOps\\Task_recommend\\use_agent\\agent-env\\lib\\site-packages\\langchain_core\\runnables\\base.py:1940\u001b[0m, in \u001b[0;36mRunnable._call_with_config\u001b[1;34m(self, func, input_, config, run_type, serialized, **kwargs)\u001b[0m\n\u001b[0;32m   1936\u001b[0m     child_config \u001b[38;5;241m=\u001b[39m patch_config(config, callbacks\u001b[38;5;241m=\u001b[39mrun_manager\u001b[38;5;241m.\u001b[39mget_child())\n\u001b[0;32m   1937\u001b[0m     \u001b[38;5;28;01mwith\u001b[39;00m set_config_context(child_config) \u001b[38;5;28;01mas\u001b[39;00m context:\n\u001b[0;32m   1938\u001b[0m         output \u001b[38;5;241m=\u001b[39m cast(\n\u001b[0;32m   1939\u001b[0m             \u001b[38;5;124m\"\u001b[39m\u001b[38;5;124mOutput\u001b[39m\u001b[38;5;124m\"\u001b[39m,\n\u001b[1;32m-> 1940\u001b[0m             context\u001b[38;5;241m.\u001b[39mrun(\n\u001b[0;32m   1941\u001b[0m                 call_func_with_variable_args,  \u001b[38;5;66;03m# type: ignore[arg-type]\u001b[39;00m\n\u001b[0;32m   1942\u001b[0m                 func,\n\u001b[0;32m   1943\u001b[0m                 input_,\n\u001b[0;32m   1944\u001b[0m                 config,\n\u001b[0;32m   1945\u001b[0m                 run_manager,\n\u001b[0;32m   1946\u001b[0m                 \u001b[38;5;241m*\u001b[39m\u001b[38;5;241m*\u001b[39mkwargs,\n\u001b[0;32m   1947\u001b[0m             ),\n\u001b[0;32m   1948\u001b[0m         )\n\u001b[0;32m   1949\u001b[0m \u001b[38;5;28;01mexcept\u001b[39;00m \u001b[38;5;167;01mBaseException\u001b[39;00m \u001b[38;5;28;01mas\u001b[39;00m e:\n\u001b[0;32m   1950\u001b[0m     run_manager\u001b[38;5;241m.\u001b[39mon_chain_error(e)\n",
      "File \u001b[1;32mc:\\Users\\pje03\\Documents\\pja_MLOps\\Task_recommend\\use_agent\\agent-env\\lib\\site-packages\\langchain_core\\runnables\\config.py:428\u001b[0m, in \u001b[0;36mcall_func_with_variable_args\u001b[1;34m(func, input, config, run_manager, **kwargs)\u001b[0m\n\u001b[0;32m    426\u001b[0m \u001b[38;5;28;01mif\u001b[39;00m run_manager \u001b[38;5;129;01mis\u001b[39;00m \u001b[38;5;129;01mnot\u001b[39;00m \u001b[38;5;28;01mNone\u001b[39;00m \u001b[38;5;129;01mand\u001b[39;00m accepts_run_manager(func):\n\u001b[0;32m    427\u001b[0m     kwargs[\u001b[38;5;124m\"\u001b[39m\u001b[38;5;124mrun_manager\u001b[39m\u001b[38;5;124m\"\u001b[39m] \u001b[38;5;241m=\u001b[39m run_manager\n\u001b[1;32m--> 428\u001b[0m \u001b[38;5;28;01mreturn\u001b[39;00m func(\u001b[38;5;28minput\u001b[39m, \u001b[38;5;241m*\u001b[39m\u001b[38;5;241m*\u001b[39mkwargs)\n",
      "File \u001b[1;32mc:\\Users\\pje03\\Documents\\pja_MLOps\\Task_recommend\\use_agent\\agent-env\\lib\\site-packages\\langchain_core\\prompts\\base.py:189\u001b[0m, in \u001b[0;36mBasePromptTemplate._format_prompt_with_error_handling\u001b[1;34m(self, inner_input)\u001b[0m\n\u001b[0;32m    188\u001b[0m \u001b[38;5;28;01mdef\u001b[39;00m\u001b[38;5;250m \u001b[39m\u001b[38;5;21m_format_prompt_with_error_handling\u001b[39m(\u001b[38;5;28mself\u001b[39m, inner_input: \u001b[38;5;28mdict\u001b[39m) \u001b[38;5;241m-\u001b[39m\u001b[38;5;241m>\u001b[39m PromptValue:\n\u001b[1;32m--> 189\u001b[0m     _inner_input \u001b[38;5;241m=\u001b[39m \u001b[38;5;28;43mself\u001b[39;49m\u001b[38;5;241;43m.\u001b[39;49m\u001b[43m_validate_input\u001b[49m\u001b[43m(\u001b[49m\u001b[43minner_input\u001b[49m\u001b[43m)\u001b[49m\n\u001b[0;32m    190\u001b[0m     \u001b[38;5;28;01mreturn\u001b[39;00m \u001b[38;5;28mself\u001b[39m\u001b[38;5;241m.\u001b[39mformat_prompt(\u001b[38;5;241m*\u001b[39m\u001b[38;5;241m*\u001b[39m_inner_input)\n",
      "File \u001b[1;32mc:\\Users\\pje03\\Documents\\pja_MLOps\\Task_recommend\\use_agent\\agent-env\\lib\\site-packages\\langchain_core\\prompts\\base.py:183\u001b[0m, in \u001b[0;36mBasePromptTemplate._validate_input\u001b[1;34m(self, inner_input)\u001b[0m\n\u001b[0;32m    177\u001b[0m     example_key \u001b[38;5;241m=\u001b[39m missing\u001b[38;5;241m.\u001b[39mpop()\n\u001b[0;32m    178\u001b[0m     msg \u001b[38;5;241m+\u001b[39m\u001b[38;5;241m=\u001b[39m (\n\u001b[0;32m    179\u001b[0m         \u001b[38;5;124mf\u001b[39m\u001b[38;5;124m\"\u001b[39m\u001b[38;5;130;01m\\n\u001b[39;00m\u001b[38;5;124mNote: if you intended \u001b[39m\u001b[38;5;130;01m{{\u001b[39;00m\u001b[38;5;132;01m{\u001b[39;00mexample_key\u001b[38;5;132;01m}\u001b[39;00m\u001b[38;5;130;01m}}\u001b[39;00m\u001b[38;5;124m to be part of the string\u001b[39m\u001b[38;5;124m\"\u001b[39m\n\u001b[0;32m    180\u001b[0m         \u001b[38;5;124m\"\u001b[39m\u001b[38;5;124m and not a variable, please escape it with double curly braces like: \u001b[39m\u001b[38;5;124m\"\u001b[39m\n\u001b[0;32m    181\u001b[0m         \u001b[38;5;124mf\u001b[39m\u001b[38;5;124m\"\u001b[39m\u001b[38;5;124m'\u001b[39m\u001b[38;5;130;01m{{\u001b[39;00m\u001b[38;5;130;01m{{\u001b[39;00m\u001b[38;5;132;01m{\u001b[39;00mexample_key\u001b[38;5;132;01m}\u001b[39;00m\u001b[38;5;130;01m}}\u001b[39;00m\u001b[38;5;130;01m}}\u001b[39;00m\u001b[38;5;124m'\u001b[39m\u001b[38;5;124m.\u001b[39m\u001b[38;5;124m\"\u001b[39m\n\u001b[0;32m    182\u001b[0m     )\n\u001b[1;32m--> 183\u001b[0m     \u001b[38;5;28;01mraise\u001b[39;00m \u001b[38;5;167;01mKeyError\u001b[39;00m(\n\u001b[0;32m    184\u001b[0m         create_message(message\u001b[38;5;241m=\u001b[39mmsg, error_code\u001b[38;5;241m=\u001b[39mErrorCode\u001b[38;5;241m.\u001b[39mINVALID_PROMPT_INPUT)\n\u001b[0;32m    185\u001b[0m     )\n\u001b[0;32m    186\u001b[0m \u001b[38;5;28;01mreturn\u001b[39;00m inner_input\n",
      "\u001b[1;31mKeyError\u001b[0m: 'Input to PromptTemplate is missing variables {\\'\\\\n  \"workspaceId\"\\'}.  Expected: [\\'\\\\n  \"workspaceId\"\\', \\'agent_scratchpad\\', \\'input\\'] Received: [\\'input\\', \\'intermediate_steps\\', \\'agent_scratchpad\\']\\nNote: if you intended {\\n  \"workspaceId\"} to be part of the string and not a variable, please escape it with double curly braces like: \\'{{\\n  \"workspaceId\"}}\\'.\\nFor troubleshooting, visit: https://python.langchain.com/docs/troubleshooting/errors/INVALID_PROMPT_INPUT '"
     ]
    }
   ],
   "source": [
    "prompt_filled = RCMD_PROMPT.replace(\"{input}\", json.dumps(wrapped_data, ensure_ascii=False))\n",
    "response = agent_executor.invoke({\"input\": prompt_filled})\n",
    "\n",
    "# response = agent_executor.invoke({\n",
    "#     \"input\": \"다음 JSON을 분석해주세요.\",\n",
    "#     \"data\": prompt_filled  # JSON 객체 그대로\n",
    "# })\n",
    "\n",
    "print(response)"
   ]
  },
  {
   "cell_type": "code",
   "execution_count": null,
   "id": "f1637925",
   "metadata": {},
   "outputs": [
    {
     "data": {
      "text/plain": [
       "{'input': 'Question: 아래의 JSON 작업 흐름을 바탕으로 각 feature에 대해 이어질 작업 3개씩 추천해주세요. 추천 작업은 feature의 actions 배열에 포함되어야 하며, name, startDate, endDate, importance가 반드시 포함되어야 합니다. 결과는 반드시 JSON 형식으로 출력하고, 추가 설명 없이 JSON만 출력해야 합니다. 출력 예시는 아래 형식을 따릅니다:\\n\\n{\\n  \"workspaceId\": \"작업 중인 workspaceId\",\\n  \"recommendedCategories\": [\\n    {\\n      \"categoryId\": \"작업 중인 categoryId\",\\n      \"name\": \"카테고리 이름\",\\n      \"startDate\": \"YYYY-MM-DDTHH:MM:SS\",\\n      \"endDate\": \"YYYY-MM-DDTHH:MM:SS\",\\n      \"importance\": 정수,\\n      \"features\": [\\n        {\\n          \"featureId\": \"작업 중인 featureId\",\\n          \"name\": \"기능 이름\",\\n          \"startDate\": \"YYYY-MM-DDTHH:MM:SS\",\\n          \"endDate\": \"YYYY-MM-DDTHH:MM:SS\",\\n          \"importance\": 정수,\\n          \"actions\": [\\n            {\\n              \"name\": \"추천 action\",\\n              \"startDate\": \"YYYY-MM-DDTHH:MM:SS\",\\n              \"endDate\": \"YYYY-MM-DDTHH:MM:SS\",\\n              \"importance\": 정수\\n            },\\n            {\\n              \"name\": \"추천 action\",\\n              \"startDate\": \"YYYY-MM-DDTHH:MM:SS\",\\n              \"endDate\": \"YYYY-MM-DDTHH:MM:SS\",\\n              \"importance\": 정수\\n            },\\n            {\\n              \"name\": \"추천 action\",\\n              \"startDate\": \"YYYY-MM-DDTHH:MM:SS\",\\n              \"endDate\": \"YYYY-MM-DDTHH:MM:SS\",\\n              \"importance\": 정수\\n            },\\n            ...\\n          ]\\n        }\\n      ]\\n    }\\n  ]\\n}\\n\\nThought: recommendedCategories, features, actions를 분석하여 각 feature에 자연스럽게 이어질 다음 actions 3개씩을 구상합니다.\\nAction: ParseWorkflow\\nAction Input: {{\"workspaceId\": 1, \"recommendedCategories\": [{\"categoryId\": 5, \"name\": \"알림 시스템\", \"features\": [{\"featureId\": 21, \"name\": \"실시간 알림\", \"actions\": [{\"name\": \"푸시 알림\", \"importance\": 4, \"startDate\": \"2025-06-17T14:25:34.095319\", \"endDate\": \"2025-06-18T14:25:34.095319\"}, {\"name\": \"SMS 알림\", \"importance\": 4, \"startDate\": \"2025-06-20T14:25:34.095321\", \"endDate\": \"2025-06-28T14:25:34.095321\"}, {\"name\": \"작업 생성 실패: Missing some input keys: {\\'\\\\\\\\n        \\\\\"name\\\\\"\\'}\", \"startDate\": \"2025-01-01T00:00:00\", \"endDate\": \"2025-01-01T23:59:59\", \"importance\": 0}, {\"name\": \"작업 생성 실패: Missing some input keys: {\\'\\\\\\\\n        \\\\\"name\\\\\"\\'}\", \"startDate\": \"2025-01-01T00:00:00\", \"endDate\": \"2025-01-01T23:59:59\", \"importance\": 0}]}]}]}}\\n\\nObservation: 전체 워크스페이스와 feature의 작업 흐름 및 현재 진행 상황을 파악했습니다.\\n\\nThought: 각 feature에 적절한 추천 작업 3개씩을 생성합니다.\\nAction: Final Answer\\nAction Input:\\n{\\n  // 위에서 언급한 JSON 형식의 출력값\\n}\\n',\n",
       " 'output': '{\\n  \"workspaceId\": \"1\",\\n  \"recommendedCategories\": [\\n    {\\n      \"categoryId\": \"5\",\\n      \"name\": \"알림 시스템\",\\n      \"startDate\": \"2025-06-17T00:00:00\",\\n      \"endDate\": \"2025-06-30T23:59:59\",\\n      \"importance\": 5,\\n      \"features\": [\\n        {\\n          \"featureId\": \"21\",\\n          \"name\": \"실시간 알림\",\\n          \"startDate\": \"2025-06-17T14:25:34.095319\",\\n          \"endDate\": \"2025-06-18T14:25:34.095319\",\\n          \"importance\": 4,\\n          \"actions\": [\\n            {\\n              \"name\": \"푸시 알림 설정\",\\n              \"startDate\": \"2025-06-19T14:25:34.095319\",\\n              \"endDate\": \"2025-06-19T15:25:34.095319\",\\n              \"importance\": 5\\n            },\\n            {\\n              \"name\": \"SMS 알림 테스트\",\\n              \"startDate\": \"2025-06-21T14:25:34.095321\",\\n              \"endDate\": \"2025-06-21T15:25:34.095321\",\\n              \"importance\": 4\\n            },\\n            {\\n              \"name\": \"알림 로그 분석\",\\n              \"startDate\": \"2025-06-22T14:25:34.095321\",\\n              \"endDate\": \"2025-06-22T15:25:34.095321\",\\n              \"importance\": 3\\n            }\\n          ]\\n        }\\n      ]\\n    }\\n  ]\\n}'}"
      ]
     },
     "execution_count": 384,
     "metadata": {},
     "output_type": "execute_result"
    }
   ],
   "source": [
    "response"
   ]
  },
  {
   "cell_type": "code",
   "execution_count": null,
   "id": "2c586064",
   "metadata": {},
   "outputs": [],
   "source": []
  }
 ],
 "metadata": {
  "kernelspec": {
   "display_name": "agent-env",
   "language": "python",
   "name": "python3"
  },
  "language_info": {
   "codemirror_mode": {
    "name": "ipython",
    "version": 3
   },
   "file_extension": ".py",
   "mimetype": "text/x-python",
   "name": "python",
   "nbconvert_exporter": "python",
   "pygments_lexer": "ipython3",
   "version": "3.10.11"
  }
 },
 "nbformat": 4,
 "nbformat_minor": 5
}
